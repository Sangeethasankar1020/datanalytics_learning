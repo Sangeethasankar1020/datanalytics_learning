{
 "cells": [
  {
   "cell_type": "markdown",
   "id": "687ec691-cefd-4325-9e91-438e01c3ac2a",
   "metadata": {},
   "source": [
    "###  connect python with mysql"
   ]
  },
  {
   "cell_type": "code",
   "execution_count": 12,
   "id": "4c80db3a-5f11-4e0a-8f19-0bf3412f5ff8",
   "metadata": {},
   "outputs": [],
   "source": [
    "#pip install mysql-connector-python"
   ]
  },
  {
   "cell_type": "code",
   "execution_count": 13,
   "id": "71e5bbf7-7bc4-4ce0-af71-769c5f90359e",
   "metadata": {},
   "outputs": [],
   "source": [
    "import sys\n",
    "sys.path.append('/path/to/your/site-packages')\n",
    "import pymysql\n",
    "import pandas as pd"
   ]
  },
  {
   "cell_type": "code",
   "execution_count": 14,
   "id": "65f569c7-e742-4ff2-87c5-940717fdfefe",
   "metadata": {},
   "outputs": [],
   "source": [
    "#connect to mysql"
   ]
  },
  {
   "cell_type": "code",
   "execution_count": 15,
   "id": "ba2a190b-b82e-424e-8cd0-96402fa8e36e",
   "metadata": {},
   "outputs": [],
   "source": [
    "# Establish a connection to the MySQL database\n",
    "connection = pymysql.connect(\n",
    "    host='localhost',         # e.g., 'localhost' or '127.0.0.1'\n",
    "    user='root',     # e.g., 'root'\n",
    "    password='root', # your database password\n",
    "    database='logicfirst'  # name of the database you want to use\n",
    ")\n"
   ]
  },
  {
   "cell_type": "code",
   "execution_count": null,
   "id": "22f87586",
   "metadata": {},
   "outputs": [],
   "source": []
  },
  {
   "cell_type": "code",
   "execution_count": 16,
   "id": "2e6ed58c-c867-42d7-82e7-cedb062bee9f",
   "metadata": {},
   "outputs": [],
   "source": [
    "#fetch"
   ]
  },
  {
   "cell_type": "code",
   "execution_count": 17,
   "id": "0fa98980-4469-436c-aa82-922d84bd86cb",
   "metadata": {},
   "outputs": [],
   "source": [
    "# Create a cursor object\n",
    "cursor = connection.cursor()\n",
    "\n",
    "# Execute a query\n",
    "query = \"SELECT * FROM employee\"\n",
    "cursor.execute(query)\n",
    "\n",
    "# Fetch all results\n",
    "results = cursor.fetchall()\n"
   ]
  },
  {
   "cell_type": "code",
   "execution_count": 18,
   "id": "a92ff8cd-7b11-4bc6-8590-92abf89ac629",
   "metadata": {},
   "outputs": [
    {
     "name": "stdout",
     "output_type": "stream",
     "text": [
      "   emp_id   ename job_desc   salary  branch_id\n",
      "0       1     Ram    ADMIN  1000000        2.0\n",
      "1       2  Harini  MANAGER  2500000        2.0\n",
      "2       3  George    SALES  2000000        1.0\n",
      "3       4   Ramya    SALES  1300000        2.0\n",
      "4       5   Meena       HR  2000000        3.0\n"
     ]
    }
   ],
   "source": [
    "columns = [column[0] for column in cursor.description]\n",
    "\n",
    "# Create a DataFrame\n",
    "df = pd.DataFrame(results, columns=columns)\n",
    "\n",
    "# Display the DataFrame\n",
    "print(df.head())"
   ]
  },
  {
   "cell_type": "code",
   "execution_count": null,
   "id": "08486f50-a742-47f3-a2fe-0691930dbbe2",
   "metadata": {},
   "outputs": [],
   "source": []
  },
  {
   "cell_type": "code",
   "execution_count": null,
   "id": "95687a81-e412-4263-ae1c-3f430f97b701",
   "metadata": {},
   "outputs": [],
   "source": []
  },
  {
   "cell_type": "code",
   "execution_count": null,
   "id": "c1e795fb-dd5d-40d0-8dc0-3ada43e8ff97",
   "metadata": {},
   "outputs": [],
   "source": []
  },
  {
   "cell_type": "code",
   "execution_count": null,
   "id": "98a00f8d-585a-42d2-834a-c274c993e31e",
   "metadata": {},
   "outputs": [],
   "source": []
  },
  {
   "cell_type": "code",
   "execution_count": null,
   "id": "6551efb9-74e1-4d6f-bc7e-af1af189e57f",
   "metadata": {},
   "outputs": [],
   "source": []
  },
  {
   "cell_type": "code",
   "execution_count": null,
   "id": "41d704be-f64c-4cc4-857f-ec435515508e",
   "metadata": {},
   "outputs": [],
   "source": []
  },
  {
   "cell_type": "code",
   "execution_count": null,
   "id": "4bb6cd60-3b41-4c19-8f48-2ff4c9453b78",
   "metadata": {},
   "outputs": [],
   "source": []
  }
 ],
 "metadata": {
  "kernelspec": {
   "display_name": "Python 3 (ipykernel)",
   "language": "python",
   "name": "python3"
  },
  "language_info": {
   "codemirror_mode": {
    "name": "ipython",
    "version": 3
   },
   "file_extension": ".py",
   "mimetype": "text/x-python",
   "name": "python",
   "nbconvert_exporter": "python",
   "pygments_lexer": "ipython3",
   "version": "3.12.4"
  }
 },
 "nbformat": 4,
 "nbformat_minor": 5
}
