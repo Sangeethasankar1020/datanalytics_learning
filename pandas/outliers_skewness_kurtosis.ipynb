{
 "cells": [
  {
   "cell_type": "markdown",
   "id": "bc399c07-c55f-4071-8aad-ef1646790cff",
   "metadata": {},
   "source": [
    "# Outliers , Skewness , Pandas "
   ]
  },
  {
   "cell_type": "code",
   "execution_count": 105,
   "id": "0dd042a6-af5c-4251-92d2-c53dffd8c2ce",
   "metadata": {},
   "outputs": [],
   "source": [
    "import pandas as pd\n",
    "import numpy as np"
   ]
  },
  {
   "cell_type": "code",
   "execution_count": 107,
   "id": "1a11762c-275a-4d85-a1a4-af8c6a1c9411",
   "metadata": {},
   "outputs": [],
   "source": [
    "#generating large data set"
   ]
  },
  {
   "cell_type": "code",
   "execution_count": 109,
   "id": "1a58e046-4810-4d8d-9f92-676ddfd4f615",
   "metadata": {},
   "outputs": [],
   "source": [
    "np.random.seed(0)"
   ]
  },
  {
   "cell_type": "code",
   "execution_count": 111,
   "id": "51275a2e-f1eb-4e6b-9e99-944556aa5b2f",
   "metadata": {},
   "outputs": [],
   "source": [
    "data = {\n",
    "    'Age': np.random.normal(30, 10, 10000).tolist(),  # Age data (10,000 rows)\n",
    "    'Income': np.random.normal(50000, 15000, 10000).tolist(),  # Income data (10,000 rows)\n",
    "    'Spending_Score': np.random.normal(60, 20, 10000).tolist()  # Spending Score data (10,000 rows)\n",
    "}"
   ]
  },
  {
   "cell_type": "code",
   "execution_count": 113,
   "id": "84dd99e5-1b99-4a9f-b2f9-ea9930b6c3ce",
   "metadata": {},
   "outputs": [],
   "source": [
    "# Manually adding outliers to each column (keeping the lengths consistent)\n",
    "data['Age'].extend([120, 130, 150])  # Adding outliers to 'Age'\n",
    "data['Income'].extend([200000, 300000, 500000])  # Adding outliers to 'Income'\n",
    "data['Spending_Score'].extend([5, 99, 120])  # Adding outliers to 'Spending_Score'"
   ]
  },
  {
   "cell_type": "code",
   "execution_count": 115,
   "id": "10178e61-9255-4690-83f2-cb8503c29abe",
   "metadata": {},
   "outputs": [],
   "source": [
    "df=pd.DataFrame(data)"
   ]
  },
  {
   "cell_type": "code",
   "execution_count": 117,
   "id": "9d1e0392-bc95-4cb8-bad5-fdff64766fc8",
   "metadata": {},
   "outputs": [
    {
     "data": {
      "text/html": [
       "<div>\n",
       "<style scoped>\n",
       "    .dataframe tbody tr th:only-of-type {\n",
       "        vertical-align: middle;\n",
       "    }\n",
       "\n",
       "    .dataframe tbody tr th {\n",
       "        vertical-align: top;\n",
       "    }\n",
       "\n",
       "    .dataframe thead th {\n",
       "        text-align: right;\n",
       "    }\n",
       "</style>\n",
       "<table border=\"1\" class=\"dataframe\">\n",
       "  <thead>\n",
       "    <tr style=\"text-align: right;\">\n",
       "      <th></th>\n",
       "      <th>Age</th>\n",
       "      <th>Income</th>\n",
       "      <th>Spending_Score</th>\n",
       "    </tr>\n",
       "  </thead>\n",
       "  <tbody>\n",
       "    <tr>\n",
       "      <th>0</th>\n",
       "      <td>47.640523</td>\n",
       "      <td>46968.244593</td>\n",
       "      <td>66.600918</td>\n",
       "    </tr>\n",
       "    <tr>\n",
       "      <th>1</th>\n",
       "      <td>34.001572</td>\n",
       "      <td>37501.534990</td>\n",
       "      <td>59.990400</td>\n",
       "    </tr>\n",
       "    <tr>\n",
       "      <th>2</th>\n",
       "      <td>39.787380</td>\n",
       "      <td>76004.003712</td>\n",
       "      <td>76.362318</td>\n",
       "    </tr>\n",
       "    <tr>\n",
       "      <th>3</th>\n",
       "      <td>52.408932</td>\n",
       "      <td>52859.735061</td>\n",
       "      <td>68.564274</td>\n",
       "    </tr>\n",
       "    <tr>\n",
       "      <th>4</th>\n",
       "      <td>48.675580</td>\n",
       "      <td>47332.844095</td>\n",
       "      <td>9.921054</td>\n",
       "    </tr>\n",
       "    <tr>\n",
       "      <th>...</th>\n",
       "      <td>...</td>\n",
       "      <td>...</td>\n",
       "      <td>...</td>\n",
       "    </tr>\n",
       "    <tr>\n",
       "      <th>9998</th>\n",
       "      <td>29.670793</td>\n",
       "      <td>34116.031075</td>\n",
       "      <td>79.536877</td>\n",
       "    </tr>\n",
       "    <tr>\n",
       "      <th>9999</th>\n",
       "      <td>42.981114</td>\n",
       "      <td>45102.073364</td>\n",
       "      <td>85.110013</td>\n",
       "    </tr>\n",
       "    <tr>\n",
       "      <th>10000</th>\n",
       "      <td>120.000000</td>\n",
       "      <td>200000.000000</td>\n",
       "      <td>5.000000</td>\n",
       "    </tr>\n",
       "    <tr>\n",
       "      <th>10001</th>\n",
       "      <td>130.000000</td>\n",
       "      <td>300000.000000</td>\n",
       "      <td>99.000000</td>\n",
       "    </tr>\n",
       "    <tr>\n",
       "      <th>10002</th>\n",
       "      <td>150.000000</td>\n",
       "      <td>500000.000000</td>\n",
       "      <td>120.000000</td>\n",
       "    </tr>\n",
       "  </tbody>\n",
       "</table>\n",
       "<p>10003 rows × 3 columns</p>\n",
       "</div>"
      ],
      "text/plain": [
       "              Age         Income  Spending_Score\n",
       "0       47.640523   46968.244593       66.600918\n",
       "1       34.001572   37501.534990       59.990400\n",
       "2       39.787380   76004.003712       76.362318\n",
       "3       52.408932   52859.735061       68.564274\n",
       "4       48.675580   47332.844095        9.921054\n",
       "...           ...            ...             ...\n",
       "9998    29.670793   34116.031075       79.536877\n",
       "9999    42.981114   45102.073364       85.110013\n",
       "10000  120.000000  200000.000000        5.000000\n",
       "10001  130.000000  300000.000000       99.000000\n",
       "10002  150.000000  500000.000000      120.000000\n",
       "\n",
       "[10003 rows x 3 columns]"
      ]
     },
     "execution_count": 117,
     "metadata": {},
     "output_type": "execute_result"
    }
   ],
   "source": [
    "df"
   ]
  },
  {
   "cell_type": "code",
   "execution_count": 119,
   "id": "db54d507-1cab-44c7-b6ae-a70c5652da68",
   "metadata": {},
   "outputs": [
    {
     "data": {
      "text/html": [
       "<div>\n",
       "<style scoped>\n",
       "    .dataframe tbody tr th:only-of-type {\n",
       "        vertical-align: middle;\n",
       "    }\n",
       "\n",
       "    .dataframe tbody tr th {\n",
       "        vertical-align: top;\n",
       "    }\n",
       "\n",
       "    .dataframe thead th {\n",
       "        text-align: right;\n",
       "    }\n",
       "</style>\n",
       "<table border=\"1\" class=\"dataframe\">\n",
       "  <thead>\n",
       "    <tr style=\"text-align: right;\">\n",
       "      <th></th>\n",
       "      <th>Age</th>\n",
       "      <th>Income</th>\n",
       "      <th>Spending_Score</th>\n",
       "    </tr>\n",
       "  </thead>\n",
       "  <tbody>\n",
       "    <tr>\n",
       "      <th>0</th>\n",
       "      <td>47.640523</td>\n",
       "      <td>46968.244593</td>\n",
       "      <td>66.600918</td>\n",
       "    </tr>\n",
       "    <tr>\n",
       "      <th>1</th>\n",
       "      <td>34.001572</td>\n",
       "      <td>37501.534990</td>\n",
       "      <td>59.990400</td>\n",
       "    </tr>\n",
       "    <tr>\n",
       "      <th>2</th>\n",
       "      <td>39.787380</td>\n",
       "      <td>76004.003712</td>\n",
       "      <td>76.362318</td>\n",
       "    </tr>\n",
       "    <tr>\n",
       "      <th>3</th>\n",
       "      <td>52.408932</td>\n",
       "      <td>52859.735061</td>\n",
       "      <td>68.564274</td>\n",
       "    </tr>\n",
       "    <tr>\n",
       "      <th>4</th>\n",
       "      <td>48.675580</td>\n",
       "      <td>47332.844095</td>\n",
       "      <td>9.921054</td>\n",
       "    </tr>\n",
       "  </tbody>\n",
       "</table>\n",
       "</div>"
      ],
      "text/plain": [
       "         Age        Income  Spending_Score\n",
       "0  47.640523  46968.244593       66.600918\n",
       "1  34.001572  37501.534990       59.990400\n",
       "2  39.787380  76004.003712       76.362318\n",
       "3  52.408932  52859.735061       68.564274\n",
       "4  48.675580  47332.844095        9.921054"
      ]
     },
     "execution_count": 119,
     "metadata": {},
     "output_type": "execute_result"
    }
   ],
   "source": [
    "df.head()"
   ]
  },
  {
   "cell_type": "markdown",
   "id": "1d6bdbbc-df29-4cba-b4e1-e74873bc974e",
   "metadata": {},
   "source": [
    "### Outliers "
   ]
  },
  {
   "cell_type": "code",
   "execution_count": 122,
   "id": "45e7a9f8-a095-4b4d-af80-f45ae29aa86b",
   "metadata": {},
   "outputs": [],
   "source": [
    "#In the Age column, extreme values like 120, 130, and 150 will be identified as outliers.\n",
    "#In the Income column, high values like 200,000, 300,000, and 500,000 will be flagged as outliers.\n",
    "#Similarly, any extreme values for Spending_Score will be detected (e.g., 5, 99)."
   ]
  },
  {
   "cell_type": "code",
   "execution_count": 124,
   "id": "7f0f5bdd-68df-4940-b8b9-9197245ee76a",
   "metadata": {},
   "outputs": [],
   "source": [
    "#In a large dataset, outliers could represent rare events or errors. For example, in financial data, \n",
    "#extreme high incomes might represent high-net-worth individuals."
   ]
  },
  {
   "cell_type": "code",
   "execution_count": 126,
   "id": "4fb1b872-e095-4673-ad47-a0e53381db64",
   "metadata": {},
   "outputs": [],
   "source": [
    "# OUTLIER DETECTION using IQR (Interquartile Range) method"
   ]
  },
  {
   "cell_type": "code",
   "execution_count": 135,
   "id": "ab453918-49f9-4d08-aaa7-ee364124f4b3",
   "metadata": {},
   "outputs": [],
   "source": [
    "def detect_outliers_large(column):\n",
    "    Q1 = df[column].quantile(0.25)  # First Quartile\n",
    "    Q3 = df[column].quantile(0.75)  # Third Quartile\n",
    "    IQR = Q3 - Q1  # Interquartile Range\n",
    "    lower_bound = Q1 - 1.5 * IQR\n",
    "    upper_bound = Q3 + 1.5 * IQR\n",
    "    outliers = df[(df[column] < lower_bound) | (df[column] > upper_bound)]\n",
    "    return outliers"
   ]
  },
  {
   "cell_type": "code",
   "execution_count": 137,
   "id": "c951443b-8e8c-498b-bc41-f32bddc8d2c5",
   "metadata": {},
   "outputs": [
    {
     "name": "stdout",
     "output_type": "stream",
     "text": [
      "              Age         Income  Spending_Score\n",
      "271      2.274072   46348.060478       81.516312\n",
      "427      2.603228   68784.035540       53.916671\n",
      "494     56.962241   37737.494444       39.735798\n",
      "589     -0.461431   46404.531331       36.650246\n",
      "685      1.654455   56906.176084       59.632355\n",
      "...           ...            ...             ...\n",
      "9849     2.543346   21150.013345       31.243349\n",
      "9901    58.652035   44474.143355       51.013196\n",
      "10000  120.000000  200000.000000        5.000000\n",
      "10001  130.000000  300000.000000       99.000000\n",
      "10002  150.000000  500000.000000      120.000000\n",
      "\n",
      "[67 rows x 3 columns]\n"
     ]
    }
   ],
   "source": [
    "print(detect_outliers_large('Age'))"
   ]
  },
  {
   "cell_type": "code",
   "execution_count": 139,
   "id": "9bd8197f-0848-4265-8976-d9caa1cc1b2e",
   "metadata": {},
   "outputs": [
    {
     "name": "stdout",
     "output_type": "stream",
     "text": [
      "              Age         Income  Spending_Score\n",
      "24      52.697546    7951.488730       46.854104\n",
      "140     15.087424   90071.954110       47.300213\n",
      "241     26.027282   98307.526836       64.693060\n",
      "728     38.126740   93505.317112       63.750558\n",
      "752     34.481953   95856.522431      111.883662\n",
      "...           ...            ...             ...\n",
      "9917    18.121470   91004.048821       81.262760\n",
      "9993    51.330500   91047.129717       44.747549\n",
      "10000  120.000000  200000.000000        5.000000\n",
      "10001  130.000000  300000.000000       99.000000\n",
      "10002  150.000000  500000.000000      120.000000\n",
      "\n",
      "[82 rows x 3 columns]\n"
     ]
    }
   ],
   "source": [
    "print(detect_outliers_large('Income'))"
   ]
  },
  {
   "cell_type": "code",
   "execution_count": 141,
   "id": "2319d642-0ba9-48ce-b690-674d1c41b303",
   "metadata": {},
   "outputs": [
    {
     "name": "stdout",
     "output_type": "stream",
     "text": [
      "              Age         Income  Spending_Score\n",
      "265     31.887786   41848.335304      -11.037105\n",
      "304     36.663831   38510.292342      114.230942\n",
      "619     14.930016   31171.880032      -10.517796\n",
      "658     26.292960   30308.148238        5.131008\n",
      "899     25.959677   59471.474386      118.929500\n",
      "...           ...            ...             ...\n",
      "9627    25.777066   59549.260292        1.683162\n",
      "9663    21.386644   44653.558198        4.439867\n",
      "9870    37.330581   63693.961479      113.512795\n",
      "10000  120.000000  200000.000000        5.000000\n",
      "10002  150.000000  500000.000000      120.000000\n",
      "\n",
      "[82 rows x 3 columns]\n"
     ]
    }
   ],
   "source": [
    "print(detect_outliers_large('Spending_Score'))"
   ]
  },
  {
   "cell_type": "markdown",
   "id": "1b90709a-c699-442b-a94a-3261f2f216d3",
   "metadata": {},
   "source": [
    "### Skewness"
   ]
  },
  {
   "cell_type": "code",
   "execution_count": 144,
   "id": "02ba850a-b758-401f-b3de-1b56f7756dae",
   "metadata": {},
   "outputs": [],
   "source": [
    "#We calculate skewness using Pandas’ df.skew() method, which tells us if the\n",
    "#data is skewed to the left (negative value) or right (positive value)."
   ]
  },
  {
   "cell_type": "code",
   "execution_count": 150,
   "id": "48932a90-feab-4fa5-8d54-50b6526de014",
   "metadata": {},
   "outputs": [],
   "source": [
    "#Close to 0: Symmetrical distribution."
   ]
  },
  {
   "cell_type": "code",
   "execution_count": 152,
   "id": "668d00ed-a27d-4233-a219-32ae31fa7810",
   "metadata": {},
   "outputs": [],
   "source": [
    "#Positive value: Right skewed (longer right tail)."
   ]
  },
  {
   "cell_type": "code",
   "execution_count": 154,
   "id": "169054ec-2a61-4ace-93f2-a1e45d174573",
   "metadata": {},
   "outputs": [],
   "source": [
    "#Negative value: Left skewed (longer left tail)."
   ]
  },
  {
   "cell_type": "code",
   "execution_count": 156,
   "id": "8838e8fc-a18b-4d39-90d2-09a7b4204327",
   "metadata": {},
   "outputs": [],
   "source": [
    "# might show a positive skew for Income if there are high-income outliers (e.g., 200,000, 300,000)."
   ]
  },
  {
   "cell_type": "code",
   "execution_count": 163,
   "id": "c947825a-4ef6-43b2-b722-a613e2a68ee8",
   "metadata": {},
   "outputs": [],
   "source": [
    "#Skewness values closer to 0 suggest symmetrical data"
   ]
  },
  {
   "cell_type": "code",
   "execution_count": 165,
   "id": "56f84c13-b2ee-4614-9f97-8693823a86d7",
   "metadata": {},
   "outputs": [
    {
     "name": "stdout",
     "output_type": "stream",
     "text": [
      "Age               0.359620\n",
      "Income            2.777153\n",
      "Spending_Score   -0.037771\n",
      "dtype: float64\n"
     ]
    }
   ],
   "source": [
    "print(df.skew())"
   ]
  },
  {
   "cell_type": "code",
   "execution_count": 167,
   "id": "48cc6c42-4cc9-4caa-b762-0b14b692aeb6",
   "metadata": {},
   "outputs": [],
   "source": [
    "#Skewness measures the asymmetry of the data distribution.\n",
    "#Positive Skew (Right Skewed): The tail on the right side of the distribution is longer. The mean is greater than the median.\n",
    "#Negative Skew (Left Skewed): The tail on the left side is longer. The median is greater than the mean.\n",
    "#Skewness helps analysts understand whether the data is normally distributed or not, and how it may impact models that assume normality."
   ]
  },
  {
   "cell_type": "markdown",
   "id": "93be817b-dbf6-4681-ab1d-1bd0f9dd7237",
   "metadata": {},
   "source": [
    "### Kurtosis "
   ]
  },
  {
   "cell_type": "code",
   "execution_count": 170,
   "id": "38131314-4857-415b-af96-065792434d8d",
   "metadata": {},
   "outputs": [],
   "source": [
    "#Kurtosis measures the \"tailedness\" of the data distribution."
   ]
  },
  {
   "cell_type": "code",
   "execution_count": null,
   "id": "18c04815-cd12-4511-9e72-31d369fa108e",
   "metadata": {},
   "outputs": [],
   "source": [
    "#Leptokurtic (positive kurtosis): Heavy tails with more extreme outliers.\n",
    "#Platykurtic (negative kurtosis): Light tails with fewer outliers.\n",
    "#Kurtosis helps understand how outliers influence the data and indicates the shape of the distribution, especially the presence of outliers."
   ]
  },
  {
   "cell_type": "code",
   "execution_count": 176,
   "id": "478d5e98-9dde-4940-8bcf-3c9077593138",
   "metadata": {},
   "outputs": [],
   "source": [
    "#The df.kurt() function calculates kurtosis. Positive kurtosis indicates heavy tails, and negative kurtosis indicates light tails."
   ]
  },
  {
   "cell_type": "code",
   "execution_count": 178,
   "id": "135aacfb-23bc-4575-8cc5-9b3c5305975a",
   "metadata": {},
   "outputs": [],
   "source": [
    "# If the kurtosis for Income is high, it means the distribution has heavier tails (more outliers), \n",
    "#which may require special attention during data cleaning or model building."
   ]
  },
  {
   "cell_type": "code",
   "execution_count": 185,
   "id": "b715c627-34c2-4bcf-bd81-5b5a42ea7e38",
   "metadata": {},
   "outputs": [
    {
     "name": "stdout",
     "output_type": "stream",
     "text": [
      "Age                3.476649\n",
      "Income            71.596729\n",
      "Spending_Score     0.064317\n",
      "dtype: float64\n"
     ]
    }
   ],
   "source": [
    "print(df.kurt())"
   ]
  },
  {
   "cell_type": "code",
   "execution_count": 187,
   "id": "7e91d5c0-3eff-488e-95af-552c585a59f9",
   "metadata": {},
   "outputs": [],
   "source": [
    "#If the kurtosis for Income is high, it means the distribution has heavier tails (more outliers), \n",
    "#which may require special attention during data cleaning or model building."
   ]
  },
  {
   "cell_type": "code",
   "execution_count": 189,
   "id": "58ebc4d9-f195-47d2-acb5-097045f9448f",
   "metadata": {},
   "outputs": [],
   "source": [
    "#High kurtosis in financial returns could indicate high risk due to frequent extreme gains or losses."
   ]
  },
  {
   "cell_type": "code",
   "execution_count": 191,
   "id": "aad11186-2ad9-4673-b040-297ba15181ba",
   "metadata": {},
   "outputs": [],
   "source": [
    "#Kurtosis will indicate whether the dataset has heavy or light tails, hinting at the distribution of outliers."
   ]
  },
  {
   "cell_type": "code",
   "execution_count": null,
   "id": "e2b3467b-3ba0-4e77-834f-58efb8783371",
   "metadata": {},
   "outputs": [],
   "source": []
  },
  {
   "cell_type": "code",
   "execution_count": null,
   "id": "0d4cfde2-e6b7-4e90-8120-b694565e7866",
   "metadata": {},
   "outputs": [],
   "source": []
  },
  {
   "cell_type": "code",
   "execution_count": null,
   "id": "29dfe1bb-95e3-46a7-af4e-601d3e78193f",
   "metadata": {},
   "outputs": [],
   "source": []
  },
  {
   "cell_type": "code",
   "execution_count": null,
   "id": "de794948-013a-445d-903c-7f61dadfa92d",
   "metadata": {},
   "outputs": [],
   "source": []
  },
  {
   "cell_type": "code",
   "execution_count": null,
   "id": "342d65da-e98c-45b3-a815-cd91449bd650",
   "metadata": {},
   "outputs": [],
   "source": []
  },
  {
   "cell_type": "code",
   "execution_count": null,
   "id": "c8f1eaef-2c02-4fac-b063-b5615a493a83",
   "metadata": {},
   "outputs": [],
   "source": []
  },
  {
   "cell_type": "code",
   "execution_count": null,
   "id": "f098eb15-b2ad-4fc5-99d7-144221929439",
   "metadata": {},
   "outputs": [],
   "source": []
  },
  {
   "cell_type": "code",
   "execution_count": null,
   "id": "6ae8d079-36d1-4679-b0ce-89d55e7df53d",
   "metadata": {},
   "outputs": [],
   "source": []
  },
  {
   "cell_type": "code",
   "execution_count": null,
   "id": "2f713158-de79-40f2-b557-60afe64e8063",
   "metadata": {},
   "outputs": [],
   "source": []
  },
  {
   "cell_type": "code",
   "execution_count": null,
   "id": "b4409c25-454f-4932-ae92-d30edb457600",
   "metadata": {},
   "outputs": [],
   "source": []
  },
  {
   "cell_type": "code",
   "execution_count": null,
   "id": "6c6659ee-c049-4557-bbe7-a94a61c1fb6b",
   "metadata": {},
   "outputs": [],
   "source": []
  },
  {
   "cell_type": "code",
   "execution_count": null,
   "id": "004a4928-06bc-4110-846d-ee8ae508fdc8",
   "metadata": {},
   "outputs": [],
   "source": []
  },
  {
   "cell_type": "code",
   "execution_count": null,
   "id": "b1ba5f69-a749-4e19-8dec-6178d1c726ef",
   "metadata": {},
   "outputs": [],
   "source": []
  },
  {
   "cell_type": "code",
   "execution_count": null,
   "id": "f4a6fbb4-9ff8-46e6-ae58-b5b13016e498",
   "metadata": {},
   "outputs": [],
   "source": []
  }
 ],
 "metadata": {
  "kernelspec": {
   "display_name": "Python 3 (ipykernel)",
   "language": "python",
   "name": "python3"
  },
  "language_info": {
   "codemirror_mode": {
    "name": "ipython",
    "version": 3
   },
   "file_extension": ".py",
   "mimetype": "text/x-python",
   "name": "python",
   "nbconvert_exporter": "python",
   "pygments_lexer": "ipython3",
   "version": "3.12.4"
  }
 },
 "nbformat": 4,
 "nbformat_minor": 5
}
