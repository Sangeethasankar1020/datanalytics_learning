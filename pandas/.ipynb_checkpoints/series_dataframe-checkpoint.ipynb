{
 "cells": [
  {
   "cell_type": "code",
   "execution_count": 3,
   "id": "27748c4c-cded-4706-b84e-11a5c9219ce4",
   "metadata": {},
   "outputs": [],
   "source": [
    "import pandas as pd\n",
    "import numpy as np"
   ]
  },
  {
   "cell_type": "markdown",
   "id": "ef8184b7-d065-4718-8832-069da8c8737f",
   "metadata": {},
   "source": [
    "### Creating series"
   ]
  },
  {
   "cell_type": "code",
   "execution_count": 18,
   "id": "0a60e52a-d0a4-4df3-b727-12f81b798911",
   "metadata": {},
   "outputs": [],
   "source": [
    "lst=[\"l\",\"w\",\"m\"]\n",
    "#we can change as array\n",
    "lst=np.array(lst)"
   ]
  },
  {
   "cell_type": "code",
   "execution_count": 20,
   "id": "28969020-8ae8-46ed-9002-c54b6eab24be",
   "metadata": {},
   "outputs": [
    {
     "data": {
      "text/plain": [
       "0    l\n",
       "1    w\n",
       "2    m\n",
       "dtype: object"
      ]
     },
     "execution_count": 20,
     "metadata": {},
     "output_type": "execute_result"
    }
   ],
   "source": [
    "pd.Series(lst)"
   ]
  },
  {
   "cell_type": "code",
   "execution_count": 22,
   "id": "f438426e-01d5-466a-bd5b-13b2f406aa44",
   "metadata": {},
   "outputs": [
    {
     "data": {
      "text/plain": [
       "a    l\n",
       "b    w\n",
       "c    m\n",
       "dtype: object"
      ]
     },
     "execution_count": 22,
     "metadata": {},
     "output_type": "execute_result"
    }
   ],
   "source": [
    "lst2=[\"a\",\"b\",\"c\"]\n",
    "#we can give index also\n",
    "pd.Series(data=lst,index=lst2)\n"
   ]
  },
  {
   "cell_type": "code",
   "execution_count": 24,
   "id": "3e7b91bb-860a-43e8-af32-416035c41fc7",
   "metadata": {},
   "outputs": [
    {
     "data": {
      "text/plain": [
       "a    l\n",
       "b    w\n",
       "c    m\n",
       "dtype: object"
      ]
     },
     "execution_count": 24,
     "metadata": {},
     "output_type": "execute_result"
    }
   ],
   "source": [
    "#dictionary\n",
    "d={\"a\":\"l\",\"b\":\"w\",\"c\":\"m\"}\n",
    "pd.Series(d)"
   ]
  },
  {
   "cell_type": "markdown",
   "id": "4cdade11-0613-4df7-a147-b593941edaad",
   "metadata": {},
   "source": [
    "### Using an Index "
   ]
  },
  {
   "cell_type": "code",
   "execution_count": 27,
   "id": "9e4f3d40-5c6b-4533-af38-338ae2ff2052",
   "metadata": {},
   "outputs": [
    {
     "ename": "NameError",
     "evalue": "name 'crc' is not defined",
     "output_type": "error",
     "traceback": [
      "\u001b[1;31m---------------------------------------------------------------------------\u001b[0m",
      "\u001b[1;31mNameError\u001b[0m                                 Traceback (most recent call last)",
      "Cell \u001b[1;32mIn[27], line 1\u001b[0m\n\u001b[1;32m----> 1\u001b[0m s1\u001b[38;5;241m=\u001b[39mpd\u001b[38;5;241m.\u001b[39mSeries(crc,index\u001b[38;5;241m=\u001b[39m[\u001b[38;5;241m1\u001b[39m,\u001b[38;5;241m2\u001b[39m,\u001b[38;5;241m3\u001b[39m,\u001b[38;5;241m4\u001b[39m])\n\u001b[0;32m      2\u001b[0m crc\u001b[38;5;241m=\u001b[39m[\u001b[38;5;124m\"\u001b[39m\u001b[38;5;124mdhoni\u001b[39m\u001b[38;5;124m\"\u001b[39m,\u001b[38;5;124m\"\u001b[39m\u001b[38;5;124mkohli\u001b[39m\u001b[38;5;124m\"\u001b[39m,\u001b[38;5;124m\"\u001b[39m\u001b[38;5;124mandrason\u001b[39m\u001b[38;5;124m\"\u001b[39m,\u001b[38;5;124m\"\u001b[39m\u001b[38;5;124msachin\u001b[39m\u001b[38;5;124m\"\u001b[39m]\n\u001b[0;32m      3\u001b[0m s1\n",
      "\u001b[1;31mNameError\u001b[0m: name 'crc' is not defined"
     ]
    }
   ],
   "source": [
    "\n",
    "crc=[\"dhoni\",\"kohli\",\"andrason\",\"sachin\"]\n",
    "s1=pd.Series(crc,index=[1,2,3,4])\n",
    "\n",
    "s1"
   ]
  },
  {
   "cell_type": "code",
   "execution_count": null,
   "id": "3ab5851b-7e76-43be-b36a-21c0f7c2b17b",
   "metadata": {},
   "outputs": [],
   "source": []
  }
 ],
 "metadata": {
  "kernelspec": {
   "display_name": "Python 3 (ipykernel)",
   "language": "python",
   "name": "python3"
  },
  "language_info": {
   "codemirror_mode": {
    "name": "ipython",
    "version": 3
   },
   "file_extension": ".py",
   "mimetype": "text/x-python",
   "name": "python",
   "nbconvert_exporter": "python",
   "pygments_lexer": "ipython3",
   "version": "3.12.4"
  }
 },
 "nbformat": 4,
 "nbformat_minor": 5
}
