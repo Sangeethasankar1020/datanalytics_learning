{
 "cells": [
  {
   "cell_type": "markdown",
   "id": "d6604d26-3ed5-4839-866a-891778633b75",
   "metadata": {},
   "source": [
    "# GroupBy Reshaping Pivot Table"
   ]
  },
  {
   "cell_type": "markdown",
   "id": "3f86e1dc-d4d3-496f-8d43-916dca1a4ea7",
   "metadata": {},
   "source": [
    "### Groupby "
   ]
  },
  {
   "cell_type": "code",
   "execution_count": 39,
   "id": "f8ae42ad-9efb-4215-b597-89ec4cfeb858",
   "metadata": {},
   "outputs": [],
   "source": [
    "import pandas as pd"
   ]
  },
  {
   "cell_type": "code",
   "execution_count": 40,
   "id": "17da491f-8359-4b08-a078-033465aee1ec",
   "metadata": {},
   "outputs": [],
   "source": [
    "data = {\n",
    "    'Employee': ['John', 'Anna', 'Peter', 'Linda', 'James', 'Laura', 'Michael'],\n",
    "    'Department': ['HR', 'IT', 'IT', 'HR', 'IT', 'HR', 'Finance'],\n",
    "    'Salary': [60000, 75000, 80000, 62000, 70000, 59000, 85000],\n",
    "    'Experience': [5, 8, 6, 7, 4, 3, 10]\n",
    "}"
   ]
  },
  {
   "cell_type": "code",
   "execution_count": 41,
   "id": "381098cb-558d-4ce5-921a-d130839e5b90",
   "metadata": {},
   "outputs": [],
   "source": [
    "df=pd.DataFrame(data)"
   ]
  },
  {
   "cell_type": "code",
   "execution_count": 42,
   "id": "a9238d92-90c0-4ecf-9d50-831627234b4d",
   "metadata": {},
   "outputs": [
    {
     "data": {
      "text/html": [
       "<div>\n",
       "<style scoped>\n",
       "    .dataframe tbody tr th:only-of-type {\n",
       "        vertical-align: middle;\n",
       "    }\n",
       "\n",
       "    .dataframe tbody tr th {\n",
       "        vertical-align: top;\n",
       "    }\n",
       "\n",
       "    .dataframe thead th {\n",
       "        text-align: right;\n",
       "    }\n",
       "</style>\n",
       "<table border=\"1\" class=\"dataframe\">\n",
       "  <thead>\n",
       "    <tr style=\"text-align: right;\">\n",
       "      <th></th>\n",
       "      <th>Employee</th>\n",
       "      <th>Department</th>\n",
       "      <th>Salary</th>\n",
       "      <th>Experience</th>\n",
       "    </tr>\n",
       "  </thead>\n",
       "  <tbody>\n",
       "    <tr>\n",
       "      <th>0</th>\n",
       "      <td>John</td>\n",
       "      <td>HR</td>\n",
       "      <td>60000</td>\n",
       "      <td>5</td>\n",
       "    </tr>\n",
       "    <tr>\n",
       "      <th>1</th>\n",
       "      <td>Anna</td>\n",
       "      <td>IT</td>\n",
       "      <td>75000</td>\n",
       "      <td>8</td>\n",
       "    </tr>\n",
       "    <tr>\n",
       "      <th>2</th>\n",
       "      <td>Peter</td>\n",
       "      <td>IT</td>\n",
       "      <td>80000</td>\n",
       "      <td>6</td>\n",
       "    </tr>\n",
       "    <tr>\n",
       "      <th>3</th>\n",
       "      <td>Linda</td>\n",
       "      <td>HR</td>\n",
       "      <td>62000</td>\n",
       "      <td>7</td>\n",
       "    </tr>\n",
       "    <tr>\n",
       "      <th>4</th>\n",
       "      <td>James</td>\n",
       "      <td>IT</td>\n",
       "      <td>70000</td>\n",
       "      <td>4</td>\n",
       "    </tr>\n",
       "    <tr>\n",
       "      <th>5</th>\n",
       "      <td>Laura</td>\n",
       "      <td>HR</td>\n",
       "      <td>59000</td>\n",
       "      <td>3</td>\n",
       "    </tr>\n",
       "    <tr>\n",
       "      <th>6</th>\n",
       "      <td>Michael</td>\n",
       "      <td>Finance</td>\n",
       "      <td>85000</td>\n",
       "      <td>10</td>\n",
       "    </tr>\n",
       "  </tbody>\n",
       "</table>\n",
       "</div>"
      ],
      "text/plain": [
       "  Employee Department  Salary  Experience\n",
       "0     John         HR   60000           5\n",
       "1     Anna         IT   75000           8\n",
       "2    Peter         IT   80000           6\n",
       "3    Linda         HR   62000           7\n",
       "4    James         IT   70000           4\n",
       "5    Laura         HR   59000           3\n",
       "6  Michael    Finance   85000          10"
      ]
     },
     "execution_count": 42,
     "metadata": {},
     "output_type": "execute_result"
    }
   ],
   "source": [
    "df"
   ]
  },
  {
   "cell_type": "code",
   "execution_count": 43,
   "id": "dbd33978-c263-4359-b563-9d12dff5c464",
   "metadata": {},
   "outputs": [],
   "source": [
    "# Group by Department and aggregate using mean and max\n",
    "agg = df.groupby('Department').agg(\n",
    "    avg_salary=('Salary', 'mean'),\n",
    "    max_salary=('Salary', 'max'),\n",
    "    avg_experience=('Experience', 'mean')\n",
    ")\n"
   ]
  },
  {
   "cell_type": "code",
   "execution_count": 44,
   "id": "02d7e6cb-d590-472c-b320-a4ceff826bf3",
   "metadata": {},
   "outputs": [
    {
     "data": {
      "text/html": [
       "<div>\n",
       "<style scoped>\n",
       "    .dataframe tbody tr th:only-of-type {\n",
       "        vertical-align: middle;\n",
       "    }\n",
       "\n",
       "    .dataframe tbody tr th {\n",
       "        vertical-align: top;\n",
       "    }\n",
       "\n",
       "    .dataframe thead th {\n",
       "        text-align: right;\n",
       "    }\n",
       "</style>\n",
       "<table border=\"1\" class=\"dataframe\">\n",
       "  <thead>\n",
       "    <tr style=\"text-align: right;\">\n",
       "      <th></th>\n",
       "      <th>avg_salary</th>\n",
       "      <th>max_salary</th>\n",
       "      <th>avg_experience</th>\n",
       "    </tr>\n",
       "    <tr>\n",
       "      <th>Department</th>\n",
       "      <th></th>\n",
       "      <th></th>\n",
       "      <th></th>\n",
       "    </tr>\n",
       "  </thead>\n",
       "  <tbody>\n",
       "    <tr>\n",
       "      <th>Finance</th>\n",
       "      <td>85000.000000</td>\n",
       "      <td>85000</td>\n",
       "      <td>10.0</td>\n",
       "    </tr>\n",
       "    <tr>\n",
       "      <th>HR</th>\n",
       "      <td>60333.333333</td>\n",
       "      <td>62000</td>\n",
       "      <td>5.0</td>\n",
       "    </tr>\n",
       "    <tr>\n",
       "      <th>IT</th>\n",
       "      <td>75000.000000</td>\n",
       "      <td>80000</td>\n",
       "      <td>6.0</td>\n",
       "    </tr>\n",
       "  </tbody>\n",
       "</table>\n",
       "</div>"
      ],
      "text/plain": [
       "              avg_salary  max_salary  avg_experience\n",
       "Department                                          \n",
       "Finance     85000.000000       85000            10.0\n",
       "HR          60333.333333       62000             5.0\n",
       "IT          75000.000000       80000             6.0"
      ]
     },
     "execution_count": 44,
     "metadata": {},
     "output_type": "execute_result"
    }
   ],
   "source": [
    "agg"
   ]
  },
  {
   "cell_type": "code",
   "execution_count": 45,
   "id": "9b671cbc-a051-4f9a-8b27-5796f724e5b4",
   "metadata": {},
   "outputs": [],
   "source": [
    "# Filtering groups where average salary > 70000\n",
    "filtered = agg[agg['avg_salary'] > 70000]"
   ]
  },
  {
   "cell_type": "code",
   "execution_count": 46,
   "id": "88318e6a-0a15-4a72-87e3-7093ef861d23",
   "metadata": {},
   "outputs": [
    {
     "data": {
      "text/html": [
       "<div>\n",
       "<style scoped>\n",
       "    .dataframe tbody tr th:only-of-type {\n",
       "        vertical-align: middle;\n",
       "    }\n",
       "\n",
       "    .dataframe tbody tr th {\n",
       "        vertical-align: top;\n",
       "    }\n",
       "\n",
       "    .dataframe thead th {\n",
       "        text-align: right;\n",
       "    }\n",
       "</style>\n",
       "<table border=\"1\" class=\"dataframe\">\n",
       "  <thead>\n",
       "    <tr style=\"text-align: right;\">\n",
       "      <th></th>\n",
       "      <th>avg_salary</th>\n",
       "      <th>max_salary</th>\n",
       "      <th>avg_experience</th>\n",
       "    </tr>\n",
       "    <tr>\n",
       "      <th>Department</th>\n",
       "      <th></th>\n",
       "      <th></th>\n",
       "      <th></th>\n",
       "    </tr>\n",
       "  </thead>\n",
       "  <tbody>\n",
       "    <tr>\n",
       "      <th>Finance</th>\n",
       "      <td>85000.0</td>\n",
       "      <td>85000</td>\n",
       "      <td>10.0</td>\n",
       "    </tr>\n",
       "    <tr>\n",
       "      <th>IT</th>\n",
       "      <td>75000.0</td>\n",
       "      <td>80000</td>\n",
       "      <td>6.0</td>\n",
       "    </tr>\n",
       "  </tbody>\n",
       "</table>\n",
       "</div>"
      ],
      "text/plain": [
       "            avg_salary  max_salary  avg_experience\n",
       "Department                                        \n",
       "Finance        85000.0       85000            10.0\n",
       "IT             75000.0       80000             6.0"
      ]
     },
     "execution_count": 46,
     "metadata": {},
     "output_type": "execute_result"
    }
   ],
   "source": [
    "filtered"
   ]
  },
  {
   "cell_type": "code",
   "execution_count": 47,
   "id": "0926a9da-8069-4d85-8823-27022890a28e",
   "metadata": {},
   "outputs": [
    {
     "ename": "NameError",
     "evalue": "name 'salary_increase' is not defined",
     "output_type": "error",
     "traceback": [
      "\u001b[1;31m---------------------------------------------------------------------------\u001b[0m",
      "\u001b[1;31mNameError\u001b[0m                                 Traceback (most recent call last)",
      "Cell \u001b[1;32mIn[47], line 3\u001b[0m\n\u001b[0;32m      1\u001b[0m \u001b[38;5;66;03m# Group by Department and apply a custom function to calculate Salary Increase\u001b[39;00m\n\u001b[0;32m      2\u001b[0m df[\u001b[38;5;124m'\u001b[39m\u001b[38;5;124mIncreasedSalary\u001b[39m\u001b[38;5;124m'\u001b[39m] \u001b[38;5;241m=\u001b[39m df\u001b[38;5;241m.\u001b[39mgroupby(\u001b[38;5;124m'\u001b[39m\u001b[38;5;124mDepartment\u001b[39m\u001b[38;5;124m'\u001b[39m, group_keys\u001b[38;5;241m=\u001b[39m\u001b[38;5;28;01mFalse\u001b[39;00m)\u001b[38;5;241m.\u001b[39mapply(\n\u001b[1;32m----> 3\u001b[0m     salary_increase, include_groups\u001b[38;5;241m=\u001b[39m\u001b[38;5;28;01mFalse\u001b[39;00m\n\u001b[0;32m      4\u001b[0m )\n",
      "\u001b[1;31mNameError\u001b[0m: name 'salary_increase' is not defined"
     ]
    }
   ],
   "source": [
    "# Group by Department and apply a custom function to calculate Salary Increase\n",
    "# df['IncreasedSalary'] = df.groupby('Department', group_keys=False).apply(\n",
    "#     salary_increase, include_groups=False\n",
    "# )"
   ]
  },
  {
   "cell_type": "code",
   "execution_count": null,
   "id": "3f85d9a1-34dc-4b62-975e-a0db50b7af55",
   "metadata": {},
   "outputs": [],
   "source": [
    "df"
   ]
  },
  {
   "cell_type": "markdown",
   "id": "a8451d52-7e12-4412-af21-81163879de88",
   "metadata": {},
   "source": [
    "### Reshaping Melt & Stack "
   ]
  },
  {
   "cell_type": "code",
   "execution_count": null,
   "id": "b50b1b13-57b8-433d-b324-a5d495412fb3",
   "metadata": {},
   "outputs": [],
   "source": [
    "data = {\n",
    "    'Name': ['Alice', 'Bob', 'Charlie'],\n",
    "    'Math': [90, 85, 80],\n",
    "    'Science': [88, 92, 85],\n",
    "    'English': [95, 85, 89]\n",
    "}\n"
   ]
  },
  {
   "cell_type": "code",
   "execution_count": null,
   "id": "394c3d91-7e05-44c6-8e61-49e6501e05d2",
   "metadata": {},
   "outputs": [],
   "source": [
    "df=pd.DataFrame(data)"
   ]
  },
  {
   "cell_type": "code",
   "execution_count": null,
   "id": "c9cf6d65-d344-430c-a26c-53094eb75fe3",
   "metadata": {},
   "outputs": [],
   "source": [
    "df"
   ]
  },
  {
   "cell_type": "code",
   "execution_count": null,
   "id": "7a35c802-6bbc-4680-a412-3cc63491db7a",
   "metadata": {},
   "outputs": [],
   "source": [
    "#melting data\n",
    "#Let’s convert this wide-form data (where subjects are columns) into long-form data (where subjects become values)."
   ]
  },
  {
   "cell_type": "code",
   "execution_count": null,
   "id": "3eb161e5-95ca-4459-b60f-ee16f33defb6",
   "metadata": {},
   "outputs": [],
   "source": [
    "# Melting the data to long form\n",
    "melted = df.melt(id_vars='Name', var_name='Subject', value_name='Grade')"
   ]
  },
  {
   "cell_type": "code",
   "execution_count": null,
   "id": "64b58133-e9ca-4af2-aacf-0ba468bc2056",
   "metadata": {},
   "outputs": [],
   "source": [
    "melted"
   ]
  },
  {
   "cell_type": "code",
   "execution_count": null,
   "id": "13e579c6-6f31-4970-b92a-2832779223e1",
   "metadata": {},
   "outputs": [],
   "source": [
    "#Stacking Data:\n",
    "#Stacking converts columns into rows. It is another way of transforming data, especially for multi-level indices."
   ]
  },
  {
   "cell_type": "code",
   "execution_count": null,
   "id": "7140c4b3-7ef6-4db8-aa2e-123341e5fa6d",
   "metadata": {},
   "outputs": [],
   "source": [
    "# Stacking the data (pivoting columns into rows)\n",
    "stacked = df.set_index('Name').stack()"
   ]
  },
  {
   "cell_type": "code",
   "execution_count": null,
   "id": "302a2585-75ea-40fb-8347-ad6331987441",
   "metadata": {},
   "outputs": [],
   "source": [
    "stacked"
   ]
  },
  {
   "cell_type": "code",
   "execution_count": null,
   "id": "698f3fc0-b6eb-44f0-9339-33781ca87ce4",
   "metadata": {},
   "outputs": [],
   "source": [
    "#unstacking data"
   ]
  },
  {
   "cell_type": "code",
   "execution_count": null,
   "id": "c45288c2-a2d7-4932-b9c2-acce7a6b2c61",
   "metadata": {},
   "outputs": [],
   "source": [
    "#unstack is the reverse of stack. It will pivot rows back to columns."
   ]
  },
  {
   "cell_type": "code",
   "execution_count": null,
   "id": "93aefdaf-7fe9-42d6-8811-de7f859a72f5",
   "metadata": {},
   "outputs": [],
   "source": [
    "# Unstacking the data\n",
    "unstacked = stacked.unstack()"
   ]
  },
  {
   "cell_type": "code",
   "execution_count": null,
   "id": "c80875af-f476-4882-9c26-a9fc2ab4e138",
   "metadata": {},
   "outputs": [],
   "source": [
    "unstacked"
   ]
  },
  {
   "cell_type": "markdown",
   "id": "d74c33ea-7911-4e27-9d15-fe06fd499680",
   "metadata": {},
   "source": [
    "### Pivot tables "
   ]
  },
  {
   "cell_type": "code",
   "execution_count": null,
   "id": "ac4d02b3-4c3f-4d88-9eb0-ac53ba15e93a",
   "metadata": {},
   "outputs": [],
   "source": [
    "#Pivot tables allow for more complex aggregation and summarization."
   ]
  },
  {
   "cell_type": "code",
   "execution_count": null,
   "id": "7fa115ad-b06b-41e6-b040-dc85ed3caaa4",
   "metadata": {},
   "outputs": [],
   "source": [
    "# Sales Data with Multiple Aggregations\n",
    "#Let’s use a more complex pivot table that calculates both the total and average revenue per product and per city."
   ]
  },
  {
   "cell_type": "code",
   "execution_count": null,
   "id": "9d70dee4-9987-4cc3-9858-34265d3f504b",
   "metadata": {},
   "outputs": [],
   "source": [
    "data = {\n",
    "    'OrderID': [1, 2, 3, 4, 5, 6],\n",
    "    'Product': ['Shoes', 'Shoes', 'Shirt', 'Shirt', 'Shirt', 'Shoes'],\n",
    "    'Category': ['Footwear', 'Footwear', 'Apparel', 'Apparel', 'Apparel', 'Footwear'],\n",
    "    'Quantity': [2, 3, 1, 5, 2, 4],\n",
    "    'Price': [50, 50, 30, 30, 30, 50],\n",
    "    'City': ['New York', 'Los Angeles', 'New York', 'New York', 'Los Angeles', 'New York']\n",
    "}"
   ]
  },
  {
   "cell_type": "code",
   "execution_count": null,
   "id": "8901dcc9-5700-43fd-874a-39c079be2eb2",
   "metadata": {},
   "outputs": [],
   "source": [
    "df=pd.DataFrame(data)"
   ]
  },
  {
   "cell_type": "code",
   "execution_count": null,
   "id": "746cf790-1a36-4d63-8311-9096cb8c5a1c",
   "metadata": {},
   "outputs": [],
   "source": [
    "df"
   ]
  },
  {
   "cell_type": "code",
   "execution_count": null,
   "id": "27766299-d60f-4154-9c29-7e8006caaaac",
   "metadata": {},
   "outputs": [],
   "source": [
    "## Adding TotalRevenue column"
   ]
  },
  {
   "cell_type": "code",
   "execution_count": null,
   "id": "d430e3fc-b0c9-4ebb-904d-28ea5a4eea02",
   "metadata": {},
   "outputs": [],
   "source": [
    "df['TotalRevenue'] = df['Quantity'] * df['Price']"
   ]
  },
  {
   "cell_type": "code",
   "execution_count": null,
   "id": "cef093d2-5424-42f7-b2bc-c9c5a2b0d1b3",
   "metadata": {},
   "outputs": [],
   "source": [
    "# Pivot table with multiple aggregation functions\n",
    "pivot_table = df.pivot_table(index='City', columns='Product', values='TotalRevenue',\n",
    "                             aggfunc={'TotalRevenue': ['sum', 'mean']})"
   ]
  },
  {
   "cell_type": "code",
   "execution_count": null,
   "id": "2184301b-88b7-4a1c-98d3-4eb6d13ead9d",
   "metadata": {},
   "outputs": [],
   "source": [
    "pivot_table"
   ]
  },
  {
   "cell_type": "code",
   "execution_count": null,
   "id": "d2c0f469-96c3-426d-8bf7-7d2f0dc9b24d",
   "metadata": {},
   "outputs": [],
   "source": [
    "#Margins in Pivot Tables:"
   ]
  },
  {
   "cell_type": "code",
   "execution_count": null,
   "id": "8cc1fd5e-f6c8-4967-b7bd-aeb660da3067",
   "metadata": {},
   "outputs": [],
   "source": [
    "#You can add margins to include the totals across the entire dataset."
   ]
  },
  {
   "cell_type": "code",
   "execution_count": null,
   "id": "d6947972-d1f0-4d43-aa98-939f52b07be6",
   "metadata": {},
   "outputs": [],
   "source": [
    "# Adding a Total (margins) to the pivot table\n",
    "pivot_table_with_totals = df.pivot_table(index='City', columns='Product', values='TotalRevenue',\n",
    "                                         aggfunc='sum', margins=True)"
   ]
  },
  {
   "cell_type": "code",
   "execution_count": null,
   "id": "e6225f8a-3005-4286-97e9-83cb775a2e3c",
   "metadata": {},
   "outputs": [],
   "source": [
    "pivot_table_with_totals"
   ]
  },
  {
   "cell_type": "markdown",
   "id": "17e7706c-e824-4c35-9784-c5e7360ab06d",
   "metadata": {},
   "source": [
    "### Handling Missing Data in Groupby , pivot and reshaping"
   ]
  },
  {
   "cell_type": "code",
   "execution_count": null,
   "id": "fa7b6b8a-12e8-48a4-8ebd-a985986ca415",
   "metadata": {},
   "outputs": [],
   "source": [
    "data_with_nan = {\n",
    "    'OrderID': [1, 2, 3, 4, 5, 6],\n",
    "    'Product': ['Shoes', 'Shoes', 'Shirt', 'Shirt', 'Shirt', 'Shoes'],\n",
    "    'Category': ['Footwear', 'Footwear', 'Apparel', 'Apparel', 'Apparel', 'Footwear'],\n",
    "    'Quantity': [2, 3, None, 5, 2, None],\n",
    "    'Price': [50, 50, 30, 30, None, 50],\n",
    "    'City': ['New York', 'Los Angeles', 'New York', 'New York', 'Los Angeles', 'New York']\n",
    "}"
   ]
  },
  {
   "cell_type": "code",
   "execution_count": null,
   "id": "f54c9c69-cfc8-4dc8-ace6-a4475b5712d5",
   "metadata": {},
   "outputs": [],
   "source": [
    "df_nan=pd.DataFrame(data_with_nan)"
   ]
  },
  {
   "cell_type": "code",
   "execution_count": null,
   "id": "50eca167-99e6-469b-8572-d8477aeaccc6",
   "metadata": {},
   "outputs": [],
   "source": [
    "# Handling missing values in groupby\n",
    "grouped_with_nan = df_nan.groupby('City')['Price'].mean()  # Automatically skips NaN"
   ]
  },
  {
   "cell_type": "code",
   "execution_count": null,
   "id": "04e5a790-bfaf-43fc-94c8-39b24812e3f8",
   "metadata": {},
   "outputs": [],
   "source": [
    "grouped_with_nan"
   ]
  },
  {
   "cell_type": "code",
   "execution_count": null,
   "id": "5b17cbec-5de4-4526-91a5-a8400973f9c2",
   "metadata": {},
   "outputs": [],
   "source": []
  },
  {
   "cell_type": "code",
   "execution_count": null,
   "id": "1097fd8b-62e0-4146-b68b-f650e931f6d9",
   "metadata": {},
   "outputs": [],
   "source": []
  },
  {
   "cell_type": "code",
   "execution_count": null,
   "id": "c53a61d0-6e02-4950-ac62-a22a8007af6d",
   "metadata": {},
   "outputs": [],
   "source": []
  },
  {
   "cell_type": "code",
   "execution_count": null,
   "id": "22e3f59b-9831-4482-a73e-c9a937c44db4",
   "metadata": {},
   "outputs": [],
   "source": []
  }
 ],
 "metadata": {
  "kernelspec": {
   "display_name": "Python 3 (ipykernel)",
   "language": "python",
   "name": "python3"
  },
  "language_info": {
   "codemirror_mode": {
    "name": "ipython",
    "version": 3
   },
   "file_extension": ".py",
   "mimetype": "text/x-python",
   "name": "python",
   "nbconvert_exporter": "python",
   "pygments_lexer": "ipython3",
   "version": "3.12.4"
  }
 },
 "nbformat": 4,
 "nbformat_minor": 5
}
