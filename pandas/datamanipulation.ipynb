{
 "cells": [
  {
   "cell_type": "markdown",
   "id": "9d6082f5-66d6-421b-b31c-dd716d8b7adf",
   "metadata": {},
   "source": [
    "# Data Manipulation"
   ]
  },
  {
   "cell_type": "markdown",
   "id": "bd3c2b9e-332c-4b50-a708-ed5706afa375",
   "metadata": {},
   "source": [
    "### Adding/Removing Columns (assign(), drop()) "
   ]
  },
  {
   "cell_type": "markdown",
   "id": "e7f9b5d5-a276-4aff-b884-2238e2df45f5",
   "metadata": {},
   "source": [
    "### Data manipulation is a key skill in data analysis, where you shape your data to gain insights. Let's break down how to manipulate data using the common methods "
   ]
  },
  {
   "cell_type": "code",
   "execution_count": 88,
   "id": "54ad6819-53d4-415d-9a77-8b1230b7c1d0",
   "metadata": {},
   "outputs": [],
   "source": [
    "import pandas as pd"
   ]
  },
  {
   "cell_type": "markdown",
   "id": "37bd62eb-78ad-426b-9b94-d0234ac1fdd9",
   "metadata": {},
   "source": [
    "###  Add/Remove Columns"
   ]
  },
  {
   "cell_type": "markdown",
   "id": "cacdf598-f4d6-479f-982c-a5d536b3c342",
   "metadata": {},
   "source": [
    "### add/remove - assign(),drop()"
   ]
  },
  {
   "cell_type": "code",
   "execution_count": 91,
   "id": "8fa6ad6c-c241-4b9c-a060-9f596401df9a",
   "metadata": {},
   "outputs": [],
   "source": [
    "#Imagine you’re analyzing sales data and you need to add a new column for taxes or remove unnecessary columns."
   ]
  },
  {
   "cell_type": "code",
   "execution_count": 92,
   "id": "8318359f-4411-4eba-8638-344a42c02af0",
   "metadata": {},
   "outputs": [],
   "source": [
    "data = {'Product': ['Laptop', 'Mobile', 'Tablet', 'Monitor'],\n",
    "        'Price': [1200, 800, 300, 400],\n",
    "        'Units_Sold': [100, 150, 80, 60]}"
   ]
  },
  {
   "cell_type": "code",
   "execution_count": 93,
   "id": "07eb77a2-48f9-4e75-a474-eae303f8497f",
   "metadata": {},
   "outputs": [],
   "source": [
    "df=pd.DataFrame(data)"
   ]
  },
  {
   "cell_type": "code",
   "execution_count": 94,
   "id": "b1dcad84-e12f-4edd-9971-799dab97256a",
   "metadata": {},
   "outputs": [],
   "source": [
    "#Add a Column Using assign()\n",
    "#You want to add a new column to calculate the total revenue (Price * Units_Sold):"
   ]
  },
  {
   "cell_type": "code",
   "execution_count": 95,
   "id": "e15d181b-08e6-4348-89a9-640e339bae7b",
   "metadata": {},
   "outputs": [],
   "source": [
    "df=df.assign(Total_Revenue=df['Price']*df['Units_Sold'])"
   ]
  },
  {
   "cell_type": "code",
   "execution_count": 96,
   "id": "92a8a42f-ba51-4375-acd7-c65f7d1850da",
   "metadata": {},
   "outputs": [
    {
     "data": {
      "text/html": [
       "<div>\n",
       "<style scoped>\n",
       "    .dataframe tbody tr th:only-of-type {\n",
       "        vertical-align: middle;\n",
       "    }\n",
       "\n",
       "    .dataframe tbody tr th {\n",
       "        vertical-align: top;\n",
       "    }\n",
       "\n",
       "    .dataframe thead th {\n",
       "        text-align: right;\n",
       "    }\n",
       "</style>\n",
       "<table border=\"1\" class=\"dataframe\">\n",
       "  <thead>\n",
       "    <tr style=\"text-align: right;\">\n",
       "      <th></th>\n",
       "      <th>Product</th>\n",
       "      <th>Price</th>\n",
       "      <th>Units_Sold</th>\n",
       "      <th>Total_Revenue</th>\n",
       "    </tr>\n",
       "  </thead>\n",
       "  <tbody>\n",
       "    <tr>\n",
       "      <th>0</th>\n",
       "      <td>Laptop</td>\n",
       "      <td>1200</td>\n",
       "      <td>100</td>\n",
       "      <td>120000</td>\n",
       "    </tr>\n",
       "    <tr>\n",
       "      <th>1</th>\n",
       "      <td>Mobile</td>\n",
       "      <td>800</td>\n",
       "      <td>150</td>\n",
       "      <td>120000</td>\n",
       "    </tr>\n",
       "    <tr>\n",
       "      <th>2</th>\n",
       "      <td>Tablet</td>\n",
       "      <td>300</td>\n",
       "      <td>80</td>\n",
       "      <td>24000</td>\n",
       "    </tr>\n",
       "    <tr>\n",
       "      <th>3</th>\n",
       "      <td>Monitor</td>\n",
       "      <td>400</td>\n",
       "      <td>60</td>\n",
       "      <td>24000</td>\n",
       "    </tr>\n",
       "  </tbody>\n",
       "</table>\n",
       "</div>"
      ],
      "text/plain": [
       "   Product  Price  Units_Sold  Total_Revenue\n",
       "0   Laptop   1200         100         120000\n",
       "1   Mobile    800         150         120000\n",
       "2   Tablet    300          80          24000\n",
       "3  Monitor    400          60          24000"
      ]
     },
     "execution_count": 96,
     "metadata": {},
     "output_type": "execute_result"
    }
   ],
   "source": [
    "df"
   ]
  },
  {
   "cell_type": "code",
   "execution_count": 97,
   "id": "2139bb20-276b-4087-8420-804f581e4702",
   "metadata": {},
   "outputs": [],
   "source": [
    "#remove column using drop"
   ]
  },
  {
   "cell_type": "code",
   "execution_count": 98,
   "id": "a41f60ae-6614-4c96-b178-6f7958cd532f",
   "metadata": {},
   "outputs": [],
   "source": [
    "df=df.drop(columns=['Units_Sold'])"
   ]
  },
  {
   "cell_type": "code",
   "execution_count": 99,
   "id": "3d8a1e35-8be0-40c1-af8b-0c1a531831f9",
   "metadata": {},
   "outputs": [
    {
     "data": {
      "text/html": [
       "<div>\n",
       "<style scoped>\n",
       "    .dataframe tbody tr th:only-of-type {\n",
       "        vertical-align: middle;\n",
       "    }\n",
       "\n",
       "    .dataframe tbody tr th {\n",
       "        vertical-align: top;\n",
       "    }\n",
       "\n",
       "    .dataframe thead th {\n",
       "        text-align: right;\n",
       "    }\n",
       "</style>\n",
       "<table border=\"1\" class=\"dataframe\">\n",
       "  <thead>\n",
       "    <tr style=\"text-align: right;\">\n",
       "      <th></th>\n",
       "      <th>Product</th>\n",
       "      <th>Price</th>\n",
       "      <th>Total_Revenue</th>\n",
       "    </tr>\n",
       "  </thead>\n",
       "  <tbody>\n",
       "    <tr>\n",
       "      <th>0</th>\n",
       "      <td>Laptop</td>\n",
       "      <td>1200</td>\n",
       "      <td>120000</td>\n",
       "    </tr>\n",
       "    <tr>\n",
       "      <th>1</th>\n",
       "      <td>Mobile</td>\n",
       "      <td>800</td>\n",
       "      <td>120000</td>\n",
       "    </tr>\n",
       "    <tr>\n",
       "      <th>2</th>\n",
       "      <td>Tablet</td>\n",
       "      <td>300</td>\n",
       "      <td>24000</td>\n",
       "    </tr>\n",
       "    <tr>\n",
       "      <th>3</th>\n",
       "      <td>Monitor</td>\n",
       "      <td>400</td>\n",
       "      <td>24000</td>\n",
       "    </tr>\n",
       "  </tbody>\n",
       "</table>\n",
       "</div>"
      ],
      "text/plain": [
       "   Product  Price  Total_Revenue\n",
       "0   Laptop   1200         120000\n",
       "1   Mobile    800         120000\n",
       "2   Tablet    300          24000\n",
       "3  Monitor    400          24000"
      ]
     },
     "execution_count": 99,
     "metadata": {},
     "output_type": "execute_result"
    }
   ],
   "source": [
    "df"
   ]
  },
  {
   "cell_type": "markdown",
   "id": "364794e9-d6b1-4062-bbb3-d5b6fb89536b",
   "metadata": {},
   "source": [
    "### Renaming"
   ]
  },
  {
   "cell_type": "code",
   "execution_count": 101,
   "id": "b6ccf6cf-1837-441b-9e92-7eca7acf3c27",
   "metadata": {},
   "outputs": [],
   "source": [
    "#Your sales data might have inconsistent column names that you want to standardize."
   ]
  },
  {
   "cell_type": "code",
   "execution_count": 102,
   "id": "419e5026-90ed-4a89-804f-4b9c4e6bab17",
   "metadata": {},
   "outputs": [],
   "source": [
    "#rename column"
   ]
  },
  {
   "cell_type": "code",
   "execution_count": 103,
   "id": "891f71b8-be93-4828-a9a4-6d8ce97ad0a0",
   "metadata": {},
   "outputs": [],
   "source": [
    "df=df.rename(columns={'Price':'Unit_Price','Total_Revenue':'Revenue'})"
   ]
  },
  {
   "cell_type": "code",
   "execution_count": 104,
   "id": "15ae5298-ccfb-4033-bbfd-333cb67ba243",
   "metadata": {},
   "outputs": [
    {
     "data": {
      "text/html": [
       "<div>\n",
       "<style scoped>\n",
       "    .dataframe tbody tr th:only-of-type {\n",
       "        vertical-align: middle;\n",
       "    }\n",
       "\n",
       "    .dataframe tbody tr th {\n",
       "        vertical-align: top;\n",
       "    }\n",
       "\n",
       "    .dataframe thead th {\n",
       "        text-align: right;\n",
       "    }\n",
       "</style>\n",
       "<table border=\"1\" class=\"dataframe\">\n",
       "  <thead>\n",
       "    <tr style=\"text-align: right;\">\n",
       "      <th></th>\n",
       "      <th>Product</th>\n",
       "      <th>Unit_Price</th>\n",
       "      <th>Revenue</th>\n",
       "    </tr>\n",
       "  </thead>\n",
       "  <tbody>\n",
       "    <tr>\n",
       "      <th>0</th>\n",
       "      <td>Laptop</td>\n",
       "      <td>1200</td>\n",
       "      <td>120000</td>\n",
       "    </tr>\n",
       "    <tr>\n",
       "      <th>1</th>\n",
       "      <td>Mobile</td>\n",
       "      <td>800</td>\n",
       "      <td>120000</td>\n",
       "    </tr>\n",
       "    <tr>\n",
       "      <th>2</th>\n",
       "      <td>Tablet</td>\n",
       "      <td>300</td>\n",
       "      <td>24000</td>\n",
       "    </tr>\n",
       "    <tr>\n",
       "      <th>3</th>\n",
       "      <td>Monitor</td>\n",
       "      <td>400</td>\n",
       "      <td>24000</td>\n",
       "    </tr>\n",
       "  </tbody>\n",
       "</table>\n",
       "</div>"
      ],
      "text/plain": [
       "   Product  Unit_Price  Revenue\n",
       "0   Laptop        1200   120000\n",
       "1   Mobile         800   120000\n",
       "2   Tablet         300    24000\n",
       "3  Monitor         400    24000"
      ]
     },
     "execution_count": 104,
     "metadata": {},
     "output_type": "execute_result"
    }
   ],
   "source": [
    "df"
   ]
  },
  {
   "cell_type": "code",
   "execution_count": 105,
   "id": "71684e81-68f5-4316-beee-da61ecfa6a21",
   "metadata": {},
   "outputs": [],
   "source": [
    "#renaming index"
   ]
  },
  {
   "cell_type": "code",
   "execution_count": 106,
   "id": "031e7ef3-6104-4b8c-acb7-57d7bbf8c02f",
   "metadata": {},
   "outputs": [],
   "source": [
    "df=df.rename(index={0:'A',1:'B',2:'C',3:'D'})"
   ]
  },
  {
   "cell_type": "code",
   "execution_count": 107,
   "id": "25e9e155-bb53-4847-92f4-20dd85bcabda",
   "metadata": {},
   "outputs": [
    {
     "data": {
      "text/html": [
       "<div>\n",
       "<style scoped>\n",
       "    .dataframe tbody tr th:only-of-type {\n",
       "        vertical-align: middle;\n",
       "    }\n",
       "\n",
       "    .dataframe tbody tr th {\n",
       "        vertical-align: top;\n",
       "    }\n",
       "\n",
       "    .dataframe thead th {\n",
       "        text-align: right;\n",
       "    }\n",
       "</style>\n",
       "<table border=\"1\" class=\"dataframe\">\n",
       "  <thead>\n",
       "    <tr style=\"text-align: right;\">\n",
       "      <th></th>\n",
       "      <th>Product</th>\n",
       "      <th>Unit_Price</th>\n",
       "      <th>Revenue</th>\n",
       "    </tr>\n",
       "  </thead>\n",
       "  <tbody>\n",
       "    <tr>\n",
       "      <th>A</th>\n",
       "      <td>Laptop</td>\n",
       "      <td>1200</td>\n",
       "      <td>120000</td>\n",
       "    </tr>\n",
       "    <tr>\n",
       "      <th>B</th>\n",
       "      <td>Mobile</td>\n",
       "      <td>800</td>\n",
       "      <td>120000</td>\n",
       "    </tr>\n",
       "    <tr>\n",
       "      <th>C</th>\n",
       "      <td>Tablet</td>\n",
       "      <td>300</td>\n",
       "      <td>24000</td>\n",
       "    </tr>\n",
       "    <tr>\n",
       "      <th>D</th>\n",
       "      <td>Monitor</td>\n",
       "      <td>400</td>\n",
       "      <td>24000</td>\n",
       "    </tr>\n",
       "  </tbody>\n",
       "</table>\n",
       "</div>"
      ],
      "text/plain": [
       "   Product  Unit_Price  Revenue\n",
       "A   Laptop        1200   120000\n",
       "B   Mobile         800   120000\n",
       "C   Tablet         300    24000\n",
       "D  Monitor         400    24000"
      ]
     },
     "execution_count": 107,
     "metadata": {},
     "output_type": "execute_result"
    }
   ],
   "source": [
    "df"
   ]
  },
  {
   "cell_type": "markdown",
   "id": "e9611108-a557-4bbf-8c55-d81a65c0fb9e",
   "metadata": {},
   "source": [
    "### Sorting Data"
   ]
  },
  {
   "cell_type": "code",
   "execution_count": 133,
   "id": "288423b1-0e9f-4069-88bf-7afb06995dc7",
   "metadata": {},
   "outputs": [],
   "source": [
    "#Sorting is often used in data analysis to rank data by importance,\n",
    "#such as sorting by revenue to find your top products."
   ]
  },
  {
   "cell_type": "code",
   "execution_count": 142,
   "id": "b8178d75-d6ab-4b74-b34d-d6e8e39b1b8f",
   "metadata": {},
   "outputs": [],
   "source": [
    "#sort column values "
   ]
  },
  {
   "cell_type": "code",
   "execution_count": 150,
   "id": "844b7431-ef96-4e74-8a19-2ba5c54cb3ff",
   "metadata": {},
   "outputs": [],
   "source": [
    "df=df.sort_values(by='Revenue',ascending=True)"
   ]
  },
  {
   "cell_type": "code",
   "execution_count": 152,
   "id": "f1294582-7ca8-49f5-9b16-51bca1ea9fed",
   "metadata": {},
   "outputs": [
    {
     "data": {
      "text/html": [
       "<div>\n",
       "<style scoped>\n",
       "    .dataframe tbody tr th:only-of-type {\n",
       "        vertical-align: middle;\n",
       "    }\n",
       "\n",
       "    .dataframe tbody tr th {\n",
       "        vertical-align: top;\n",
       "    }\n",
       "\n",
       "    .dataframe thead th {\n",
       "        text-align: right;\n",
       "    }\n",
       "</style>\n",
       "<table border=\"1\" class=\"dataframe\">\n",
       "  <thead>\n",
       "    <tr style=\"text-align: right;\">\n",
       "      <th></th>\n",
       "      <th>Product</th>\n",
       "      <th>Unit_Price</th>\n",
       "      <th>Revenue</th>\n",
       "    </tr>\n",
       "  </thead>\n",
       "  <tbody>\n",
       "    <tr>\n",
       "      <th>C</th>\n",
       "      <td>Tablet</td>\n",
       "      <td>300</td>\n",
       "      <td>24000</td>\n",
       "    </tr>\n",
       "    <tr>\n",
       "      <th>D</th>\n",
       "      <td>Monitor</td>\n",
       "      <td>400</td>\n",
       "      <td>24000</td>\n",
       "    </tr>\n",
       "    <tr>\n",
       "      <th>A</th>\n",
       "      <td>Laptop</td>\n",
       "      <td>1200</td>\n",
       "      <td>120000</td>\n",
       "    </tr>\n",
       "    <tr>\n",
       "      <th>B</th>\n",
       "      <td>Mobile</td>\n",
       "      <td>800</td>\n",
       "      <td>120000</td>\n",
       "    </tr>\n",
       "  </tbody>\n",
       "</table>\n",
       "</div>"
      ],
      "text/plain": [
       "   Product  Unit_Price  Revenue\n",
       "C   Tablet         300    24000\n",
       "D  Monitor         400    24000\n",
       "A   Laptop        1200   120000\n",
       "B   Mobile         800   120000"
      ]
     },
     "execution_count": 152,
     "metadata": {},
     "output_type": "execute_result"
    }
   ],
   "source": [
    "df"
   ]
  },
  {
   "cell_type": "code",
   "execution_count": 148,
   "id": "e3d656d7-3ce0-4594-9b60-6c918b51b29b",
   "metadata": {},
   "outputs": [],
   "source": [
    "#sort- index"
   ]
  },
  {
   "cell_type": "code",
   "execution_count": 154,
   "id": "7eda402f-b4e7-49d0-9960-11eefc5e7262",
   "metadata": {},
   "outputs": [],
   "source": [
    "df=df.sort_index()"
   ]
  },
  {
   "cell_type": "code",
   "execution_count": 156,
   "id": "18fdfb80-f324-48ba-895b-2737b44dd71e",
   "metadata": {},
   "outputs": [
    {
     "data": {
      "text/html": [
       "<div>\n",
       "<style scoped>\n",
       "    .dataframe tbody tr th:only-of-type {\n",
       "        vertical-align: middle;\n",
       "    }\n",
       "\n",
       "    .dataframe tbody tr th {\n",
       "        vertical-align: top;\n",
       "    }\n",
       "\n",
       "    .dataframe thead th {\n",
       "        text-align: right;\n",
       "    }\n",
       "</style>\n",
       "<table border=\"1\" class=\"dataframe\">\n",
       "  <thead>\n",
       "    <tr style=\"text-align: right;\">\n",
       "      <th></th>\n",
       "      <th>Product</th>\n",
       "      <th>Unit_Price</th>\n",
       "      <th>Revenue</th>\n",
       "    </tr>\n",
       "  </thead>\n",
       "  <tbody>\n",
       "    <tr>\n",
       "      <th>A</th>\n",
       "      <td>Laptop</td>\n",
       "      <td>1200</td>\n",
       "      <td>120000</td>\n",
       "    </tr>\n",
       "    <tr>\n",
       "      <th>B</th>\n",
       "      <td>Mobile</td>\n",
       "      <td>800</td>\n",
       "      <td>120000</td>\n",
       "    </tr>\n",
       "    <tr>\n",
       "      <th>C</th>\n",
       "      <td>Tablet</td>\n",
       "      <td>300</td>\n",
       "      <td>24000</td>\n",
       "    </tr>\n",
       "    <tr>\n",
       "      <th>D</th>\n",
       "      <td>Monitor</td>\n",
       "      <td>400</td>\n",
       "      <td>24000</td>\n",
       "    </tr>\n",
       "  </tbody>\n",
       "</table>\n",
       "</div>"
      ],
      "text/plain": [
       "   Product  Unit_Price  Revenue\n",
       "A   Laptop        1200   120000\n",
       "B   Mobile         800   120000\n",
       "C   Tablet         300    24000\n",
       "D  Monitor         400    24000"
      ]
     },
     "execution_count": 156,
     "metadata": {},
     "output_type": "execute_result"
    }
   ],
   "source": [
    "df"
   ]
  },
  {
   "cell_type": "markdown",
   "id": "a68850a1-0385-4365-b3bc-d9ffbd2b9c85",
   "metadata": {},
   "source": [
    "###   Filtering Data"
   ]
  },
  {
   "cell_type": "code",
   "execution_count": 159,
   "id": "7d8490e2-a649-4a05-a0d0-74d7c16d1edc",
   "metadata": {},
   "outputs": [],
   "source": [
    "#Filtering helps you focus on specific subsets of the data, like high-revenue products or low-priced items."
   ]
  },
  {
   "cell_type": "markdown",
   "id": "e9e389dc-599d-45bc-8f81-5aeec685c1a1",
   "metadata": {},
   "source": [
    "### based on conditions"
   ]
  },
  {
   "cell_type": "code",
   "execution_count": 182,
   "id": "0b27007b-57f7-4e2c-8324-47fffe219454",
   "metadata": {},
   "outputs": [],
   "source": [
    "high_revenue_df=df[df['Revenue']>30000]"
   ]
  },
  {
   "cell_type": "code",
   "execution_count": 184,
   "id": "2e4cab75-227a-4c53-838c-a45bd8507561",
   "metadata": {},
   "outputs": [
    {
     "data": {
      "text/html": [
       "<div>\n",
       "<style scoped>\n",
       "    .dataframe tbody tr th:only-of-type {\n",
       "        vertical-align: middle;\n",
       "    }\n",
       "\n",
       "    .dataframe tbody tr th {\n",
       "        vertical-align: top;\n",
       "    }\n",
       "\n",
       "    .dataframe thead th {\n",
       "        text-align: right;\n",
       "    }\n",
       "</style>\n",
       "<table border=\"1\" class=\"dataframe\">\n",
       "  <thead>\n",
       "    <tr style=\"text-align: right;\">\n",
       "      <th></th>\n",
       "      <th>Product</th>\n",
       "      <th>Unit_Price</th>\n",
       "      <th>Revenue</th>\n",
       "    </tr>\n",
       "  </thead>\n",
       "  <tbody>\n",
       "    <tr>\n",
       "      <th>A</th>\n",
       "      <td>Laptop</td>\n",
       "      <td>1200</td>\n",
       "      <td>120000</td>\n",
       "    </tr>\n",
       "    <tr>\n",
       "      <th>B</th>\n",
       "      <td>Mobile</td>\n",
       "      <td>800</td>\n",
       "      <td>120000</td>\n",
       "    </tr>\n",
       "  </tbody>\n",
       "</table>\n",
       "</div>"
      ],
      "text/plain": [
       "  Product  Unit_Price  Revenue\n",
       "A  Laptop        1200   120000\n",
       "B  Mobile         800   120000"
      ]
     },
     "execution_count": 184,
     "metadata": {},
     "output_type": "execute_result"
    }
   ],
   "source": [
    "high_revenue_df"
   ]
  },
  {
   "cell_type": "markdown",
   "id": "efeccf52-69b7-429d-a2ce-73b7e0468899",
   "metadata": {},
   "source": [
    "### on multiple conditions "
   ]
  },
  {
   "cell_type": "code",
   "execution_count": 187,
   "id": "775d9b8a-94d8-4b7f-9bc6-7495eb13907e",
   "metadata": {},
   "outputs": [],
   "source": [
    "filtered_df=df[(df['Unit_Price']<500)&(df['Revenue']>20000)]"
   ]
  },
  {
   "cell_type": "code",
   "execution_count": 189,
   "id": "747e3312-7360-451f-9ef8-45ab2752d334",
   "metadata": {},
   "outputs": [
    {
     "data": {
      "text/html": [
       "<div>\n",
       "<style scoped>\n",
       "    .dataframe tbody tr th:only-of-type {\n",
       "        vertical-align: middle;\n",
       "    }\n",
       "\n",
       "    .dataframe tbody tr th {\n",
       "        vertical-align: top;\n",
       "    }\n",
       "\n",
       "    .dataframe thead th {\n",
       "        text-align: right;\n",
       "    }\n",
       "</style>\n",
       "<table border=\"1\" class=\"dataframe\">\n",
       "  <thead>\n",
       "    <tr style=\"text-align: right;\">\n",
       "      <th></th>\n",
       "      <th>Product</th>\n",
       "      <th>Unit_Price</th>\n",
       "      <th>Revenue</th>\n",
       "    </tr>\n",
       "  </thead>\n",
       "  <tbody>\n",
       "    <tr>\n",
       "      <th>C</th>\n",
       "      <td>Tablet</td>\n",
       "      <td>300</td>\n",
       "      <td>24000</td>\n",
       "    </tr>\n",
       "    <tr>\n",
       "      <th>D</th>\n",
       "      <td>Monitor</td>\n",
       "      <td>400</td>\n",
       "      <td>24000</td>\n",
       "    </tr>\n",
       "  </tbody>\n",
       "</table>\n",
       "</div>"
      ],
      "text/plain": [
       "   Product  Unit_Price  Revenue\n",
       "C   Tablet         300    24000\n",
       "D  Monitor         400    24000"
      ]
     },
     "execution_count": 189,
     "metadata": {},
     "output_type": "execute_result"
    }
   ],
   "source": [
    "filtered_df"
   ]
  },
  {
   "cell_type": "markdown",
   "id": "dbd126cb-403a-4071-914a-7d28648087f8",
   "metadata": {},
   "source": [
    "# Real-Time Data Analysis Example\n"
   ]
  },
  {
   "cell_type": "markdown",
   "id": "0030b074-daa9-4cc4-8003-3a3b1e428625",
   "metadata": {},
   "source": [
    "### Let’s say you work as a data analyst for an e-commerce company and need to evaluate which products are generating the most revenue, remove irrelevant columns, and identify underperforming items.\n",
    "\n",
    "  "
   ]
  },
  {
   "cell_type": "markdown",
   "id": "a979a7c3-e1db-4408-8a1a-c77ef78cb7bb",
   "metadata": {},
   "source": [
    "### Add new insights by creating additional columns like Total_Revenue.\n"
   ]
  },
  {
   "cell_type": "markdown",
   "id": "a6fb8c21-9a72-4668-a04b-575f912aa0f4",
   "metadata": {},
   "source": [
    "### Clean the data by dropping unnecessary columns like Units_Sold.\n"
   ]
  },
  {
   "cell_type": "markdown",
   "id": "e8a68916-9ad1-47ad-a698-f14fdd9d8d62",
   "metadata": {},
   "source": [
    "### Standardize your column names for consistency using rename().\n",
    "  "
   ]
  },
  {
   "cell_type": "markdown",
   "id": "796fadf2-e048-4a53-88e8-fa08d3ccaee2",
   "metadata": {},
   "source": [
    "### Sort data to analyze the highest revenue products.\n"
   ]
  },
  {
   "cell_type": "markdown",
   "id": "b5f7e0fe-3565-415e-8393-0108d66ba1c4",
   "metadata": {},
   "source": [
    "### Filter to focus on relevant products (e.g., those above certain revenue thresholds).   "
   ]
  },
  {
   "cell_type": "code",
   "execution_count": null,
   "id": "09ce20e9-4288-42d8-9800-9ea2063feb51",
   "metadata": {},
   "outputs": [],
   "source": []
  },
  {
   "cell_type": "code",
   "execution_count": null,
   "id": "65224ca3-56c2-4b6a-93cc-acce945fd87a",
   "metadata": {},
   "outputs": [],
   "source": []
  },
  {
   "cell_type": "code",
   "execution_count": null,
   "id": "bffc4634-833f-4e01-9142-cbade26b8e71",
   "metadata": {},
   "outputs": [],
   "source": []
  }
 ],
 "metadata": {
  "kernelspec": {
   "display_name": "Python 3 (ipykernel)",
   "language": "python",
   "name": "python3"
  },
  "language_info": {
   "codemirror_mode": {
    "name": "ipython",
    "version": 3
   },
   "file_extension": ".py",
   "mimetype": "text/x-python",
   "name": "python",
   "nbconvert_exporter": "python",
   "pygments_lexer": "ipython3",
   "version": "3.12.4"
  }
 },
 "nbformat": 4,
 "nbformat_minor": 5
}
