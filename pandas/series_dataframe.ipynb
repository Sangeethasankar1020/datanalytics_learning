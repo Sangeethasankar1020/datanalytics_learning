{
 "cells": [
  {
   "cell_type": "code",
   "execution_count": 114,
   "id": "27748c4c-cded-4706-b84e-11a5c9219ce4",
   "metadata": {},
   "outputs": [],
   "source": [
    "import pandas as pd\n",
    "import numpy as np"
   ]
  },
  {
   "cell_type": "markdown",
   "id": "ef8184b7-d065-4718-8832-069da8c8737f",
   "metadata": {},
   "source": [
    "### Creating series"
   ]
  },
  {
   "cell_type": "code",
   "execution_count": 116,
   "id": "0a60e52a-d0a4-4df3-b727-12f81b798911",
   "metadata": {},
   "outputs": [],
   "source": [
    "lst=[\"l\",\"w\",\"m\"]\n",
    "#we can change as array\n",
    "lst=np.array(lst)"
   ]
  },
  {
   "cell_type": "code",
   "execution_count": 117,
   "id": "28969020-8ae8-46ed-9002-c54b6eab24be",
   "metadata": {},
   "outputs": [
    {
     "data": {
      "text/plain": [
       "0    l\n",
       "1    w\n",
       "2    m\n",
       "dtype: object"
      ]
     },
     "execution_count": 117,
     "metadata": {},
     "output_type": "execute_result"
    }
   ],
   "source": [
    "pd.Series(lst)"
   ]
  },
  {
   "cell_type": "code",
   "execution_count": 118,
   "id": "f438426e-01d5-466a-bd5b-13b2f406aa44",
   "metadata": {},
   "outputs": [
    {
     "data": {
      "text/plain": [
       "a    l\n",
       "b    w\n",
       "c    m\n",
       "dtype: object"
      ]
     },
     "execution_count": 118,
     "metadata": {},
     "output_type": "execute_result"
    }
   ],
   "source": [
    "lst2=[\"a\",\"b\",\"c\"]\n",
    "#we can give index also\n",
    "pd.Series(data=lst,index=lst2)\n"
   ]
  },
  {
   "cell_type": "code",
   "execution_count": 119,
   "id": "3e7b91bb-860a-43e8-af32-416035c41fc7",
   "metadata": {},
   "outputs": [
    {
     "data": {
      "text/plain": [
       "a    l\n",
       "b    w\n",
       "c    m\n",
       "dtype: object"
      ]
     },
     "execution_count": 119,
     "metadata": {},
     "output_type": "execute_result"
    }
   ],
   "source": [
    "#dictionary\n",
    "d={\"a\":\"l\",\"b\":\"w\",\"c\":\"m\"}\n",
    "pd.Series(d)"
   ]
  },
  {
   "cell_type": "markdown",
   "id": "4cdade11-0613-4df7-a147-b593941edaad",
   "metadata": {},
   "source": [
    "### Using an Index "
   ]
  },
  {
   "cell_type": "code",
   "execution_count": 121,
   "id": "9e4f3d40-5c6b-4533-af38-338ae2ff2052",
   "metadata": {},
   "outputs": [
    {
     "data": {
      "text/plain": [
       "1       dhoni\n",
       "2       kohli\n",
       "3    andrason\n",
       "4      sachin\n",
       "dtype: object"
      ]
     },
     "execution_count": 121,
     "metadata": {},
     "output_type": "execute_result"
    }
   ],
   "source": [
    "\n",
    "crc=[\"dhoni\",\"kohli\",\"andrason\",\"sachin\"]\n",
    "s1=pd.Series(crc,index=[1,2,3,4])\n",
    "\n",
    "s1"
   ]
  },
  {
   "cell_type": "code",
   "execution_count": 122,
   "id": "3ab5851b-7e76-43be-b36a-21c0f7c2b17b",
   "metadata": {},
   "outputs": [
    {
     "data": {
      "text/plain": [
       "0    ironman\n",
       "1    caption\n",
       "2      groot\n",
       "dtype: object"
      ]
     },
     "execution_count": 122,
     "metadata": {},
     "output_type": "execute_result"
    }
   ],
   "source": [
    "avg=[\"ironman\",\"caption\",\"groot\"]\n",
    "s2=pd.Series(avg)\n",
    "s2"
   ]
  },
  {
   "cell_type": "markdown",
   "id": "f2c297e0-cc65-4e29-9310-be5bb2ee0674",
   "metadata": {},
   "source": [
    "###  Add two series "
   ]
  },
  {
   "cell_type": "code",
   "execution_count": 124,
   "id": "ae0883a1-37f5-44d6-ad68-63522b33d350",
   "metadata": {},
   "outputs": [],
   "source": [
    "ser1=pd.Series([1,2,3,4],index=[\"USA\",\"Germany\",\"Japan\",\"USSR\"])\n",
    "ser2=pd.Series([1,2,3,4],index=[\"USA\",\"Germany\",\"Japan\",\"Italy\"])"
   ]
  },
  {
   "cell_type": "code",
   "execution_count": 125,
   "id": "e55bbc95-fa62-47aa-a615-c778ee6d452f",
   "metadata": {},
   "outputs": [
    {
     "data": {
      "text/plain": [
       "Germany    4.0\n",
       "Italy      NaN\n",
       "Japan      6.0\n",
       "USA        2.0\n",
       "USSR       NaN\n",
       "dtype: float64"
      ]
     },
     "execution_count": 125,
     "metadata": {},
     "output_type": "execute_result"
    }
   ],
   "source": [
    "ser1+ser2"
   ]
  },
  {
   "cell_type": "markdown",
   "id": "6efc561c-e9df-4cc8-bf59-833ca9ab97fd",
   "metadata": {},
   "source": [
    "# Data frames "
   ]
  },
  {
   "cell_type": "code",
   "execution_count": 127,
   "id": "eadd1f04-1eff-4d83-94ab-913aad759b09",
   "metadata": {},
   "outputs": [],
   "source": [
    "from numpy.random import randn"
   ]
  },
  {
   "cell_type": "code",
   "execution_count": 128,
   "id": "dec8db80-da44-44b7-9ccb-fdd118f55505",
   "metadata": {},
   "outputs": [],
   "source": [
    "df=pd.DataFrame(randn(5,5),index=\"A B C D E\".split(),columns=\"P Q R S T\".split())"
   ]
  },
  {
   "cell_type": "code",
   "execution_count": 129,
   "id": "5f87862d-4dcd-4de0-b826-309c3eb4904e",
   "metadata": {},
   "outputs": [
    {
     "data": {
      "text/html": [
       "<div>\n",
       "<style scoped>\n",
       "    .dataframe tbody tr th:only-of-type {\n",
       "        vertical-align: middle;\n",
       "    }\n",
       "\n",
       "    .dataframe tbody tr th {\n",
       "        vertical-align: top;\n",
       "    }\n",
       "\n",
       "    .dataframe thead th {\n",
       "        text-align: right;\n",
       "    }\n",
       "</style>\n",
       "<table border=\"1\" class=\"dataframe\">\n",
       "  <thead>\n",
       "    <tr style=\"text-align: right;\">\n",
       "      <th></th>\n",
       "      <th>P</th>\n",
       "      <th>Q</th>\n",
       "      <th>R</th>\n",
       "      <th>S</th>\n",
       "      <th>T</th>\n",
       "    </tr>\n",
       "  </thead>\n",
       "  <tbody>\n",
       "    <tr>\n",
       "      <th>A</th>\n",
       "      <td>1.077119</td>\n",
       "      <td>-1.009097</td>\n",
       "      <td>0.519816</td>\n",
       "      <td>0.242164</td>\n",
       "      <td>-1.219661</td>\n",
       "    </tr>\n",
       "    <tr>\n",
       "      <th>B</th>\n",
       "      <td>0.968857</td>\n",
       "      <td>0.541487</td>\n",
       "      <td>-0.189625</td>\n",
       "      <td>-0.350053</td>\n",
       "      <td>-0.117612</td>\n",
       "    </tr>\n",
       "    <tr>\n",
       "      <th>C</th>\n",
       "      <td>0.553674</td>\n",
       "      <td>0.355207</td>\n",
       "      <td>2.012865</td>\n",
       "      <td>0.318519</td>\n",
       "      <td>1.202196</td>\n",
       "    </tr>\n",
       "    <tr>\n",
       "      <th>D</th>\n",
       "      <td>0.636366</td>\n",
       "      <td>-0.104253</td>\n",
       "      <td>0.027122</td>\n",
       "      <td>-0.255247</td>\n",
       "      <td>1.606748</td>\n",
       "    </tr>\n",
       "    <tr>\n",
       "      <th>E</th>\n",
       "      <td>-1.947919</td>\n",
       "      <td>0.002699</td>\n",
       "      <td>0.638391</td>\n",
       "      <td>0.448201</td>\n",
       "      <td>-0.976051</td>\n",
       "    </tr>\n",
       "  </tbody>\n",
       "</table>\n",
       "</div>"
      ],
      "text/plain": [
       "          P         Q         R         S         T\n",
       "A  1.077119 -1.009097  0.519816  0.242164 -1.219661\n",
       "B  0.968857  0.541487 -0.189625 -0.350053 -0.117612\n",
       "C  0.553674  0.355207  2.012865  0.318519  1.202196\n",
       "D  0.636366 -0.104253  0.027122 -0.255247  1.606748\n",
       "E -1.947919  0.002699  0.638391  0.448201 -0.976051"
      ]
     },
     "execution_count": 129,
     "metadata": {},
     "output_type": "execute_result"
    }
   ],
   "source": [
    "df"
   ]
  },
  {
   "cell_type": "code",
   "execution_count": 130,
   "id": "80ffbf59-ab02-4b3b-85dc-24bf7bd17b35",
   "metadata": {},
   "outputs": [
    {
     "data": {
      "text/plain": [
       "A    1.077119\n",
       "B    0.968857\n",
       "C    0.553674\n",
       "D    0.636366\n",
       "E   -1.947919\n",
       "Name: P, dtype: float64"
      ]
     },
     "execution_count": 130,
     "metadata": {},
     "output_type": "execute_result"
    }
   ],
   "source": [
    "#column\n",
    "df[\"P\"]"
   ]
  },
  {
   "cell_type": "code",
   "execution_count": 131,
   "id": "2f25d295-274d-45a9-a5c9-76518e3d8bfb",
   "metadata": {
    "scrolled": true
   },
   "outputs": [
    {
     "data": {
      "text/html": [
       "<div>\n",
       "<style scoped>\n",
       "    .dataframe tbody tr th:only-of-type {\n",
       "        vertical-align: middle;\n",
       "    }\n",
       "\n",
       "    .dataframe tbody tr th {\n",
       "        vertical-align: top;\n",
       "    }\n",
       "\n",
       "    .dataframe thead th {\n",
       "        text-align: right;\n",
       "    }\n",
       "</style>\n",
       "<table border=\"1\" class=\"dataframe\">\n",
       "  <thead>\n",
       "    <tr style=\"text-align: right;\">\n",
       "      <th></th>\n",
       "      <th>P</th>\n",
       "      <th>Q</th>\n",
       "    </tr>\n",
       "  </thead>\n",
       "  <tbody>\n",
       "    <tr>\n",
       "      <th>A</th>\n",
       "      <td>1.077119</td>\n",
       "      <td>-1.009097</td>\n",
       "    </tr>\n",
       "    <tr>\n",
       "      <th>B</th>\n",
       "      <td>0.968857</td>\n",
       "      <td>0.541487</td>\n",
       "    </tr>\n",
       "    <tr>\n",
       "      <th>C</th>\n",
       "      <td>0.553674</td>\n",
       "      <td>0.355207</td>\n",
       "    </tr>\n",
       "    <tr>\n",
       "      <th>D</th>\n",
       "      <td>0.636366</td>\n",
       "      <td>-0.104253</td>\n",
       "    </tr>\n",
       "    <tr>\n",
       "      <th>E</th>\n",
       "      <td>-1.947919</td>\n",
       "      <td>0.002699</td>\n",
       "    </tr>\n",
       "  </tbody>\n",
       "</table>\n",
       "</div>"
      ],
      "text/plain": [
       "          P         Q\n",
       "A  1.077119 -1.009097\n",
       "B  0.968857  0.541487\n",
       "C  0.553674  0.355207\n",
       "D  0.636366 -0.104253\n",
       "E -1.947919  0.002699"
      ]
     },
     "execution_count": 131,
     "metadata": {},
     "output_type": "execute_result"
    }
   ],
   "source": [
    "#series of columns\n",
    "\n",
    "df[[\"P\",\"Q\"]]\n"
   ]
  },
  {
   "cell_type": "code",
   "execution_count": 132,
   "id": "f50000d9-50d9-4dfe-84ad-02d200bcb94a",
   "metadata": {},
   "outputs": [
    {
     "data": {
      "text/plain": [
       "A    0.519816\n",
       "B   -0.189625\n",
       "C    2.012865\n",
       "D    0.027122\n",
       "E    0.638391\n",
       "Name: R, dtype: float64"
      ]
     },
     "execution_count": 132,
     "metadata": {},
     "output_type": "execute_result"
    }
   ],
   "source": [
    "#sql methods just know\n",
    "df.R"
   ]
  },
  {
   "cell_type": "code",
   "execution_count": 133,
   "id": "c7df7eca-efd5-49d8-b07c-0995b1ff818c",
   "metadata": {},
   "outputs": [
    {
     "data": {
      "text/plain": [
       "pandas.core.series.Series"
      ]
     },
     "execution_count": 133,
     "metadata": {},
     "output_type": "execute_result"
    }
   ],
   "source": [
    "type(df[\"P\"])"
   ]
  },
  {
   "cell_type": "code",
   "execution_count": 134,
   "id": "6eccaed1-f42b-42f6-a7d8-6f9ecd5bed57",
   "metadata": {},
   "outputs": [
    {
     "data": {
      "text/plain": [
       "pandas.core.frame.DataFrame"
      ]
     },
     "execution_count": 134,
     "metadata": {},
     "output_type": "execute_result"
    }
   ],
   "source": [
    "type(df[[\"P\",\"Q\"]])"
   ]
  },
  {
   "cell_type": "markdown",
   "id": "4d12a38d-c423-4668-922b-64c07620db1c",
   "metadata": {},
   "source": [
    "### Adding new column while data mungling"
   ]
  },
  {
   "cell_type": "code",
   "execution_count": 136,
   "id": "4d1d5af8-4c22-4f69-8e98-c6bfef172a41",
   "metadata": {},
   "outputs": [],
   "source": [
    "#create column"
   ]
  },
  {
   "cell_type": "code",
   "execution_count": 137,
   "id": "8518fb5c-b264-4db6-9fce-da4500d05e96",
   "metadata": {},
   "outputs": [],
   "source": [
    "df[\"U\"]=df[\"P\"]-df[\"Q\"]"
   ]
  },
  {
   "cell_type": "code",
   "execution_count": 138,
   "id": "603aac7e-83e6-417f-bf38-665e50fe673f",
   "metadata": {},
   "outputs": [
    {
     "data": {
      "text/html": [
       "<div>\n",
       "<style scoped>\n",
       "    .dataframe tbody tr th:only-of-type {\n",
       "        vertical-align: middle;\n",
       "    }\n",
       "\n",
       "    .dataframe tbody tr th {\n",
       "        vertical-align: top;\n",
       "    }\n",
       "\n",
       "    .dataframe thead th {\n",
       "        text-align: right;\n",
       "    }\n",
       "</style>\n",
       "<table border=\"1\" class=\"dataframe\">\n",
       "  <thead>\n",
       "    <tr style=\"text-align: right;\">\n",
       "      <th></th>\n",
       "      <th>P</th>\n",
       "      <th>Q</th>\n",
       "      <th>R</th>\n",
       "      <th>S</th>\n",
       "      <th>T</th>\n",
       "      <th>U</th>\n",
       "    </tr>\n",
       "  </thead>\n",
       "  <tbody>\n",
       "    <tr>\n",
       "      <th>A</th>\n",
       "      <td>1.077119</td>\n",
       "      <td>-1.009097</td>\n",
       "      <td>0.519816</td>\n",
       "      <td>0.242164</td>\n",
       "      <td>-1.219661</td>\n",
       "      <td>2.086216</td>\n",
       "    </tr>\n",
       "    <tr>\n",
       "      <th>B</th>\n",
       "      <td>0.968857</td>\n",
       "      <td>0.541487</td>\n",
       "      <td>-0.189625</td>\n",
       "      <td>-0.350053</td>\n",
       "      <td>-0.117612</td>\n",
       "      <td>0.427370</td>\n",
       "    </tr>\n",
       "    <tr>\n",
       "      <th>C</th>\n",
       "      <td>0.553674</td>\n",
       "      <td>0.355207</td>\n",
       "      <td>2.012865</td>\n",
       "      <td>0.318519</td>\n",
       "      <td>1.202196</td>\n",
       "      <td>0.198467</td>\n",
       "    </tr>\n",
       "    <tr>\n",
       "      <th>D</th>\n",
       "      <td>0.636366</td>\n",
       "      <td>-0.104253</td>\n",
       "      <td>0.027122</td>\n",
       "      <td>-0.255247</td>\n",
       "      <td>1.606748</td>\n",
       "      <td>0.740618</td>\n",
       "    </tr>\n",
       "    <tr>\n",
       "      <th>E</th>\n",
       "      <td>-1.947919</td>\n",
       "      <td>0.002699</td>\n",
       "      <td>0.638391</td>\n",
       "      <td>0.448201</td>\n",
       "      <td>-0.976051</td>\n",
       "      <td>-1.950618</td>\n",
       "    </tr>\n",
       "  </tbody>\n",
       "</table>\n",
       "</div>"
      ],
      "text/plain": [
       "          P         Q         R         S         T         U\n",
       "A  1.077119 -1.009097  0.519816  0.242164 -1.219661  2.086216\n",
       "B  0.968857  0.541487 -0.189625 -0.350053 -0.117612  0.427370\n",
       "C  0.553674  0.355207  2.012865  0.318519  1.202196  0.198467\n",
       "D  0.636366 -0.104253  0.027122 -0.255247  1.606748  0.740618\n",
       "E -1.947919  0.002699  0.638391  0.448201 -0.976051 -1.950618"
      ]
     },
     "execution_count": 138,
     "metadata": {},
     "output_type": "execute_result"
    }
   ],
   "source": [
    "df #5*6 change"
   ]
  },
  {
   "cell_type": "code",
   "execution_count": 139,
   "id": "28313f68-fa89-4ef9-a2e0-a090d5b70620",
   "metadata": {},
   "outputs": [],
   "source": [
    "#remove - axis -0 row, axis - 1 column\n",
    "#inplace true only remove original dataframe \n",
    "#otherwise it will return in their position"
   ]
  },
  {
   "cell_type": "code",
   "execution_count": 140,
   "id": "4046a37e-9022-46eb-bb57-5e7211bc3cd7",
   "metadata": {
    "scrolled": true
   },
   "outputs": [],
   "source": [
    "df.drop(\"U\",axis=1,inplace=True)"
   ]
  },
  {
   "cell_type": "code",
   "execution_count": 141,
   "id": "010ca5c6-cbdd-4aa3-9376-73c82fccdcf2",
   "metadata": {},
   "outputs": [
    {
     "data": {
      "text/html": [
       "<div>\n",
       "<style scoped>\n",
       "    .dataframe tbody tr th:only-of-type {\n",
       "        vertical-align: middle;\n",
       "    }\n",
       "\n",
       "    .dataframe tbody tr th {\n",
       "        vertical-align: top;\n",
       "    }\n",
       "\n",
       "    .dataframe thead th {\n",
       "        text-align: right;\n",
       "    }\n",
       "</style>\n",
       "<table border=\"1\" class=\"dataframe\">\n",
       "  <thead>\n",
       "    <tr style=\"text-align: right;\">\n",
       "      <th></th>\n",
       "      <th>P</th>\n",
       "      <th>Q</th>\n",
       "      <th>R</th>\n",
       "      <th>S</th>\n",
       "      <th>T</th>\n",
       "    </tr>\n",
       "  </thead>\n",
       "  <tbody>\n",
       "    <tr>\n",
       "      <th>A</th>\n",
       "      <td>1.077119</td>\n",
       "      <td>-1.009097</td>\n",
       "      <td>0.519816</td>\n",
       "      <td>0.242164</td>\n",
       "      <td>-1.219661</td>\n",
       "    </tr>\n",
       "    <tr>\n",
       "      <th>B</th>\n",
       "      <td>0.968857</td>\n",
       "      <td>0.541487</td>\n",
       "      <td>-0.189625</td>\n",
       "      <td>-0.350053</td>\n",
       "      <td>-0.117612</td>\n",
       "    </tr>\n",
       "    <tr>\n",
       "      <th>C</th>\n",
       "      <td>0.553674</td>\n",
       "      <td>0.355207</td>\n",
       "      <td>2.012865</td>\n",
       "      <td>0.318519</td>\n",
       "      <td>1.202196</td>\n",
       "    </tr>\n",
       "    <tr>\n",
       "      <th>D</th>\n",
       "      <td>0.636366</td>\n",
       "      <td>-0.104253</td>\n",
       "      <td>0.027122</td>\n",
       "      <td>-0.255247</td>\n",
       "      <td>1.606748</td>\n",
       "    </tr>\n",
       "    <tr>\n",
       "      <th>E</th>\n",
       "      <td>-1.947919</td>\n",
       "      <td>0.002699</td>\n",
       "      <td>0.638391</td>\n",
       "      <td>0.448201</td>\n",
       "      <td>-0.976051</td>\n",
       "    </tr>\n",
       "  </tbody>\n",
       "</table>\n",
       "</div>"
      ],
      "text/plain": [
       "          P         Q         R         S         T\n",
       "A  1.077119 -1.009097  0.519816  0.242164 -1.219661\n",
       "B  0.968857  0.541487 -0.189625 -0.350053 -0.117612\n",
       "C  0.553674  0.355207  2.012865  0.318519  1.202196\n",
       "D  0.636366 -0.104253  0.027122 -0.255247  1.606748\n",
       "E -1.947919  0.002699  0.638391  0.448201 -0.976051"
      ]
     },
     "execution_count": 141,
     "metadata": {},
     "output_type": "execute_result"
    }
   ],
   "source": [
    "df"
   ]
  },
  {
   "cell_type": "code",
   "execution_count": 142,
   "id": "4802b79e-c0d7-446e-ab7a-4a7675c40e6f",
   "metadata": {},
   "outputs": [],
   "source": [
    "#rows remove"
   ]
  },
  {
   "cell_type": "code",
   "execution_count": 143,
   "id": "e92a98c9-87a9-47d1-92f7-873f2af1e649",
   "metadata": {},
   "outputs": [
    {
     "data": {
      "text/html": [
       "<div>\n",
       "<style scoped>\n",
       "    .dataframe tbody tr th:only-of-type {\n",
       "        vertical-align: middle;\n",
       "    }\n",
       "\n",
       "    .dataframe tbody tr th {\n",
       "        vertical-align: top;\n",
       "    }\n",
       "\n",
       "    .dataframe thead th {\n",
       "        text-align: right;\n",
       "    }\n",
       "</style>\n",
       "<table border=\"1\" class=\"dataframe\">\n",
       "  <thead>\n",
       "    <tr style=\"text-align: right;\">\n",
       "      <th></th>\n",
       "      <th>P</th>\n",
       "      <th>Q</th>\n",
       "      <th>R</th>\n",
       "      <th>S</th>\n",
       "      <th>T</th>\n",
       "    </tr>\n",
       "  </thead>\n",
       "  <tbody>\n",
       "    <tr>\n",
       "      <th>A</th>\n",
       "      <td>1.077119</td>\n",
       "      <td>-1.009097</td>\n",
       "      <td>0.519816</td>\n",
       "      <td>0.242164</td>\n",
       "      <td>-1.219661</td>\n",
       "    </tr>\n",
       "    <tr>\n",
       "      <th>B</th>\n",
       "      <td>0.968857</td>\n",
       "      <td>0.541487</td>\n",
       "      <td>-0.189625</td>\n",
       "      <td>-0.350053</td>\n",
       "      <td>-0.117612</td>\n",
       "    </tr>\n",
       "    <tr>\n",
       "      <th>C</th>\n",
       "      <td>0.553674</td>\n",
       "      <td>0.355207</td>\n",
       "      <td>2.012865</td>\n",
       "      <td>0.318519</td>\n",
       "      <td>1.202196</td>\n",
       "    </tr>\n",
       "    <tr>\n",
       "      <th>D</th>\n",
       "      <td>0.636366</td>\n",
       "      <td>-0.104253</td>\n",
       "      <td>0.027122</td>\n",
       "      <td>-0.255247</td>\n",
       "      <td>1.606748</td>\n",
       "    </tr>\n",
       "  </tbody>\n",
       "</table>\n",
       "</div>"
      ],
      "text/plain": [
       "          P         Q         R         S         T\n",
       "A  1.077119 -1.009097  0.519816  0.242164 -1.219661\n",
       "B  0.968857  0.541487 -0.189625 -0.350053 -0.117612\n",
       "C  0.553674  0.355207  2.012865  0.318519  1.202196\n",
       "D  0.636366 -0.104253  0.027122 -0.255247  1.606748"
      ]
     },
     "execution_count": 143,
     "metadata": {},
     "output_type": "execute_result"
    }
   ],
   "source": [
    "df.drop(\"E\",axis=0)"
   ]
  },
  {
   "cell_type": "code",
   "execution_count": 144,
   "id": "d7550c26-f6c9-42ca-8256-766d81b30c1a",
   "metadata": {},
   "outputs": [
    {
     "data": {
      "text/html": [
       "<div>\n",
       "<style scoped>\n",
       "    .dataframe tbody tr th:only-of-type {\n",
       "        vertical-align: middle;\n",
       "    }\n",
       "\n",
       "    .dataframe tbody tr th {\n",
       "        vertical-align: top;\n",
       "    }\n",
       "\n",
       "    .dataframe thead th {\n",
       "        text-align: right;\n",
       "    }\n",
       "</style>\n",
       "<table border=\"1\" class=\"dataframe\">\n",
       "  <thead>\n",
       "    <tr style=\"text-align: right;\">\n",
       "      <th></th>\n",
       "      <th>P</th>\n",
       "      <th>Q</th>\n",
       "      <th>R</th>\n",
       "      <th>S</th>\n",
       "      <th>T</th>\n",
       "    </tr>\n",
       "  </thead>\n",
       "  <tbody>\n",
       "    <tr>\n",
       "      <th>A</th>\n",
       "      <td>1.077119</td>\n",
       "      <td>-1.009097</td>\n",
       "      <td>0.519816</td>\n",
       "      <td>0.242164</td>\n",
       "      <td>-1.219661</td>\n",
       "    </tr>\n",
       "    <tr>\n",
       "      <th>B</th>\n",
       "      <td>0.968857</td>\n",
       "      <td>0.541487</td>\n",
       "      <td>-0.189625</td>\n",
       "      <td>-0.350053</td>\n",
       "      <td>-0.117612</td>\n",
       "    </tr>\n",
       "    <tr>\n",
       "      <th>C</th>\n",
       "      <td>0.553674</td>\n",
       "      <td>0.355207</td>\n",
       "      <td>2.012865</td>\n",
       "      <td>0.318519</td>\n",
       "      <td>1.202196</td>\n",
       "    </tr>\n",
       "    <tr>\n",
       "      <th>D</th>\n",
       "      <td>0.636366</td>\n",
       "      <td>-0.104253</td>\n",
       "      <td>0.027122</td>\n",
       "      <td>-0.255247</td>\n",
       "      <td>1.606748</td>\n",
       "    </tr>\n",
       "    <tr>\n",
       "      <th>E</th>\n",
       "      <td>-1.947919</td>\n",
       "      <td>0.002699</td>\n",
       "      <td>0.638391</td>\n",
       "      <td>0.448201</td>\n",
       "      <td>-0.976051</td>\n",
       "    </tr>\n",
       "  </tbody>\n",
       "</table>\n",
       "</div>"
      ],
      "text/plain": [
       "          P         Q         R         S         T\n",
       "A  1.077119 -1.009097  0.519816  0.242164 -1.219661\n",
       "B  0.968857  0.541487 -0.189625 -0.350053 -0.117612\n",
       "C  0.553674  0.355207  2.012865  0.318519  1.202196\n",
       "D  0.636366 -0.104253  0.027122 -0.255247  1.606748\n",
       "E -1.947919  0.002699  0.638391  0.448201 -0.976051"
      ]
     },
     "execution_count": 144,
     "metadata": {},
     "output_type": "execute_result"
    }
   ],
   "source": [
    "df"
   ]
  },
  {
   "cell_type": "code",
   "execution_count": 145,
   "id": "4bf83091-91e1-4c5b-8b14-8bc18c2aba84",
   "metadata": {},
   "outputs": [],
   "source": [
    "#while selecting functions we can use loc functions\n",
    "#loc-location"
   ]
  },
  {
   "cell_type": "code",
   "execution_count": 146,
   "id": "72fdda65-0a29-4241-950c-dd0121b45d1d",
   "metadata": {},
   "outputs": [
    {
     "data": {
      "text/plain": [
       "P    0.968857\n",
       "Q    0.541487\n",
       "R   -0.189625\n",
       "S   -0.350053\n",
       "T   -0.117612\n",
       "Name: B, dtype: float64"
      ]
     },
     "execution_count": 146,
     "metadata": {},
     "output_type": "execute_result"
    }
   ],
   "source": [
    "df.loc[\"B\"]"
   ]
  },
  {
   "cell_type": "code",
   "execution_count": 147,
   "id": "04978817-13bb-46d3-b1cf-91a52e73e4a0",
   "metadata": {},
   "outputs": [],
   "source": [
    "#iloc- index"
   ]
  },
  {
   "cell_type": "code",
   "execution_count": 148,
   "id": "ccea2208-0a33-4981-90a7-6360e69d2b72",
   "metadata": {},
   "outputs": [
    {
     "data": {
      "text/plain": [
       "P    0.968857\n",
       "Q    0.541487\n",
       "R   -0.189625\n",
       "S   -0.350053\n",
       "T   -0.117612\n",
       "Name: B, dtype: float64"
      ]
     },
     "execution_count": 148,
     "metadata": {},
     "output_type": "execute_result"
    }
   ],
   "source": [
    "df.iloc[1]"
   ]
  },
  {
   "cell_type": "code",
   "execution_count": 149,
   "id": "3b8b9ef3-9342-4417-81a0-ec74f886dcb1",
   "metadata": {},
   "outputs": [],
   "source": [
    "#selecting subsets"
   ]
  },
  {
   "cell_type": "code",
   "execution_count": 150,
   "id": "89b4422e-be78-4e7a-9fa3-d71c531682ee",
   "metadata": {},
   "outputs": [
    {
     "data": {
      "text/plain": [
       "1.077118679523565"
      ]
     },
     "execution_count": 150,
     "metadata": {},
     "output_type": "execute_result"
    }
   ],
   "source": [
    "df.loc[\"A\" ,\"P\"]"
   ]
  },
  {
   "cell_type": "code",
   "execution_count": 151,
   "id": "fd507a4d-2c94-42a8-abc8-5c6fa2bcc8b5",
   "metadata": {},
   "outputs": [
    {
     "data": {
      "text/html": [
       "<div>\n",
       "<style scoped>\n",
       "    .dataframe tbody tr th:only-of-type {\n",
       "        vertical-align: middle;\n",
       "    }\n",
       "\n",
       "    .dataframe tbody tr th {\n",
       "        vertical-align: top;\n",
       "    }\n",
       "\n",
       "    .dataframe thead th {\n",
       "        text-align: right;\n",
       "    }\n",
       "</style>\n",
       "<table border=\"1\" class=\"dataframe\">\n",
       "  <thead>\n",
       "    <tr style=\"text-align: right;\">\n",
       "      <th></th>\n",
       "      <th>P</th>\n",
       "      <th>Q</th>\n",
       "    </tr>\n",
       "  </thead>\n",
       "  <tbody>\n",
       "    <tr>\n",
       "      <th>A</th>\n",
       "      <td>1.077119</td>\n",
       "      <td>-1.009097</td>\n",
       "    </tr>\n",
       "    <tr>\n",
       "      <th>B</th>\n",
       "      <td>0.968857</td>\n",
       "      <td>0.541487</td>\n",
       "    </tr>\n",
       "  </tbody>\n",
       "</table>\n",
       "</div>"
      ],
      "text/plain": [
       "          P         Q\n",
       "A  1.077119 -1.009097\n",
       "B  0.968857  0.541487"
      ]
     },
     "execution_count": 151,
     "metadata": {},
     "output_type": "execute_result"
    }
   ],
   "source": [
    "df.loc[[\"A\",\"B\"],[\"P\",\"Q\"]]"
   ]
  },
  {
   "cell_type": "code",
   "execution_count": 152,
   "id": "c3bbcae4-25fd-4b23-a804-e4a2e9a32fb3",
   "metadata": {},
   "outputs": [],
   "source": [
    "#conditional selections"
   ]
  },
  {
   "cell_type": "code",
   "execution_count": 153,
   "id": "8b7453b0-736f-4439-91f1-f21b562dcdd1",
   "metadata": {},
   "outputs": [
    {
     "data": {
      "text/html": [
       "<div>\n",
       "<style scoped>\n",
       "    .dataframe tbody tr th:only-of-type {\n",
       "        vertical-align: middle;\n",
       "    }\n",
       "\n",
       "    .dataframe tbody tr th {\n",
       "        vertical-align: top;\n",
       "    }\n",
       "\n",
       "    .dataframe thead th {\n",
       "        text-align: right;\n",
       "    }\n",
       "</style>\n",
       "<table border=\"1\" class=\"dataframe\">\n",
       "  <thead>\n",
       "    <tr style=\"text-align: right;\">\n",
       "      <th></th>\n",
       "      <th>P</th>\n",
       "      <th>Q</th>\n",
       "      <th>R</th>\n",
       "      <th>S</th>\n",
       "      <th>T</th>\n",
       "    </tr>\n",
       "  </thead>\n",
       "  <tbody>\n",
       "    <tr>\n",
       "      <th>A</th>\n",
       "      <td>True</td>\n",
       "      <td>False</td>\n",
       "      <td>True</td>\n",
       "      <td>True</td>\n",
       "      <td>False</td>\n",
       "    </tr>\n",
       "    <tr>\n",
       "      <th>B</th>\n",
       "      <td>True</td>\n",
       "      <td>True</td>\n",
       "      <td>False</td>\n",
       "      <td>False</td>\n",
       "      <td>False</td>\n",
       "    </tr>\n",
       "    <tr>\n",
       "      <th>C</th>\n",
       "      <td>True</td>\n",
       "      <td>True</td>\n",
       "      <td>True</td>\n",
       "      <td>True</td>\n",
       "      <td>True</td>\n",
       "    </tr>\n",
       "    <tr>\n",
       "      <th>D</th>\n",
       "      <td>True</td>\n",
       "      <td>False</td>\n",
       "      <td>True</td>\n",
       "      <td>False</td>\n",
       "      <td>True</td>\n",
       "    </tr>\n",
       "    <tr>\n",
       "      <th>E</th>\n",
       "      <td>False</td>\n",
       "      <td>True</td>\n",
       "      <td>True</td>\n",
       "      <td>True</td>\n",
       "      <td>False</td>\n",
       "    </tr>\n",
       "  </tbody>\n",
       "</table>\n",
       "</div>"
      ],
      "text/plain": [
       "       P      Q      R      S      T\n",
       "A   True  False   True   True  False\n",
       "B   True   True  False  False  False\n",
       "C   True   True   True   True   True\n",
       "D   True  False   True  False   True\n",
       "E  False   True   True   True  False"
      ]
     },
     "execution_count": 153,
     "metadata": {},
     "output_type": "execute_result"
    }
   ],
   "source": [
    "df>0"
   ]
  },
  {
   "cell_type": "code",
   "execution_count": 154,
   "id": "4319cd45-5e0f-4f7a-a9c8-5f385e2b6d11",
   "metadata": {},
   "outputs": [
    {
     "data": {
      "text/html": [
       "<div>\n",
       "<style scoped>\n",
       "    .dataframe tbody tr th:only-of-type {\n",
       "        vertical-align: middle;\n",
       "    }\n",
       "\n",
       "    .dataframe tbody tr th {\n",
       "        vertical-align: top;\n",
       "    }\n",
       "\n",
       "    .dataframe thead th {\n",
       "        text-align: right;\n",
       "    }\n",
       "</style>\n",
       "<table border=\"1\" class=\"dataframe\">\n",
       "  <thead>\n",
       "    <tr style=\"text-align: right;\">\n",
       "      <th></th>\n",
       "      <th>P</th>\n",
       "      <th>Q</th>\n",
       "      <th>R</th>\n",
       "      <th>S</th>\n",
       "      <th>T</th>\n",
       "    </tr>\n",
       "  </thead>\n",
       "  <tbody>\n",
       "    <tr>\n",
       "      <th>A</th>\n",
       "      <td>NaN</td>\n",
       "      <td>-1.009097</td>\n",
       "      <td>NaN</td>\n",
       "      <td>NaN</td>\n",
       "      <td>-1.219661</td>\n",
       "    </tr>\n",
       "    <tr>\n",
       "      <th>B</th>\n",
       "      <td>NaN</td>\n",
       "      <td>NaN</td>\n",
       "      <td>-0.189625</td>\n",
       "      <td>-0.350053</td>\n",
       "      <td>-0.117612</td>\n",
       "    </tr>\n",
       "    <tr>\n",
       "      <th>C</th>\n",
       "      <td>NaN</td>\n",
       "      <td>NaN</td>\n",
       "      <td>NaN</td>\n",
       "      <td>NaN</td>\n",
       "      <td>NaN</td>\n",
       "    </tr>\n",
       "    <tr>\n",
       "      <th>D</th>\n",
       "      <td>NaN</td>\n",
       "      <td>-0.104253</td>\n",
       "      <td>NaN</td>\n",
       "      <td>-0.255247</td>\n",
       "      <td>NaN</td>\n",
       "    </tr>\n",
       "    <tr>\n",
       "      <th>E</th>\n",
       "      <td>-1.947919</td>\n",
       "      <td>NaN</td>\n",
       "      <td>NaN</td>\n",
       "      <td>NaN</td>\n",
       "      <td>-0.976051</td>\n",
       "    </tr>\n",
       "  </tbody>\n",
       "</table>\n",
       "</div>"
      ],
      "text/plain": [
       "          P         Q         R         S         T\n",
       "A       NaN -1.009097       NaN       NaN -1.219661\n",
       "B       NaN       NaN -0.189625 -0.350053 -0.117612\n",
       "C       NaN       NaN       NaN       NaN       NaN\n",
       "D       NaN -0.104253       NaN -0.255247       NaN\n",
       "E -1.947919       NaN       NaN       NaN -0.976051"
      ]
     },
     "execution_count": 154,
     "metadata": {},
     "output_type": "execute_result"
    }
   ],
   "source": [
    "df[df<0]"
   ]
  },
  {
   "cell_type": "code",
   "execution_count": 155,
   "id": "ae716dc0-fca0-4d83-8808-26fafc3ca35d",
   "metadata": {},
   "outputs": [],
   "source": [
    "#condition for column"
   ]
  },
  {
   "cell_type": "code",
   "execution_count": 156,
   "id": "1499b571-53ad-42af-b2a4-8b2628763135",
   "metadata": {},
   "outputs": [
    {
     "data": {
      "text/html": [
       "<div>\n",
       "<style scoped>\n",
       "    .dataframe tbody tr th:only-of-type {\n",
       "        vertical-align: middle;\n",
       "    }\n",
       "\n",
       "    .dataframe tbody tr th {\n",
       "        vertical-align: top;\n",
       "    }\n",
       "\n",
       "    .dataframe thead th {\n",
       "        text-align: right;\n",
       "    }\n",
       "</style>\n",
       "<table border=\"1\" class=\"dataframe\">\n",
       "  <thead>\n",
       "    <tr style=\"text-align: right;\">\n",
       "      <th></th>\n",
       "      <th>P</th>\n",
       "      <th>Q</th>\n",
       "      <th>R</th>\n",
       "      <th>S</th>\n",
       "      <th>T</th>\n",
       "    </tr>\n",
       "  </thead>\n",
       "  <tbody>\n",
       "    <tr>\n",
       "      <th>A</th>\n",
       "      <td>1.077119</td>\n",
       "      <td>-1.009097</td>\n",
       "      <td>0.519816</td>\n",
       "      <td>0.242164</td>\n",
       "      <td>-1.219661</td>\n",
       "    </tr>\n",
       "    <tr>\n",
       "      <th>B</th>\n",
       "      <td>0.968857</td>\n",
       "      <td>0.541487</td>\n",
       "      <td>-0.189625</td>\n",
       "      <td>-0.350053</td>\n",
       "      <td>-0.117612</td>\n",
       "    </tr>\n",
       "    <tr>\n",
       "      <th>C</th>\n",
       "      <td>0.553674</td>\n",
       "      <td>0.355207</td>\n",
       "      <td>2.012865</td>\n",
       "      <td>0.318519</td>\n",
       "      <td>1.202196</td>\n",
       "    </tr>\n",
       "    <tr>\n",
       "      <th>D</th>\n",
       "      <td>0.636366</td>\n",
       "      <td>-0.104253</td>\n",
       "      <td>0.027122</td>\n",
       "      <td>-0.255247</td>\n",
       "      <td>1.606748</td>\n",
       "    </tr>\n",
       "  </tbody>\n",
       "</table>\n",
       "</div>"
      ],
      "text/plain": [
       "          P         Q         R         S         T\n",
       "A  1.077119 -1.009097  0.519816  0.242164 -1.219661\n",
       "B  0.968857  0.541487 -0.189625 -0.350053 -0.117612\n",
       "C  0.553674  0.355207  2.012865  0.318519  1.202196\n",
       "D  0.636366 -0.104253  0.027122 -0.255247  1.606748"
      ]
     },
     "execution_count": 156,
     "metadata": {},
     "output_type": "execute_result"
    }
   ],
   "source": [
    "df[df[\"P\"]>0]"
   ]
  },
  {
   "cell_type": "code",
   "execution_count": 157,
   "id": "86fd5041-a297-4cbd-8662-aef7a1d90407",
   "metadata": {},
   "outputs": [],
   "source": [
    "#to see two row"
   ]
  },
  {
   "cell_type": "code",
   "execution_count": 158,
   "id": "09099f81-2cdd-445a-aad3-22cc43178e6d",
   "metadata": {},
   "outputs": [
    {
     "data": {
      "text/html": [
       "<div>\n",
       "<style scoped>\n",
       "    .dataframe tbody tr th:only-of-type {\n",
       "        vertical-align: middle;\n",
       "    }\n",
       "\n",
       "    .dataframe tbody tr th {\n",
       "        vertical-align: top;\n",
       "    }\n",
       "\n",
       "    .dataframe thead th {\n",
       "        text-align: right;\n",
       "    }\n",
       "</style>\n",
       "<table border=\"1\" class=\"dataframe\">\n",
       "  <thead>\n",
       "    <tr style=\"text-align: right;\">\n",
       "      <th></th>\n",
       "      <th>P</th>\n",
       "      <th>Q</th>\n",
       "    </tr>\n",
       "  </thead>\n",
       "  <tbody>\n",
       "    <tr>\n",
       "      <th>A</th>\n",
       "      <td>1.077119</td>\n",
       "      <td>-1.009097</td>\n",
       "    </tr>\n",
       "    <tr>\n",
       "      <th>B</th>\n",
       "      <td>0.968857</td>\n",
       "      <td>0.541487</td>\n",
       "    </tr>\n",
       "    <tr>\n",
       "      <th>C</th>\n",
       "      <td>0.553674</td>\n",
       "      <td>0.355207</td>\n",
       "    </tr>\n",
       "    <tr>\n",
       "      <th>D</th>\n",
       "      <td>0.636366</td>\n",
       "      <td>-0.104253</td>\n",
       "    </tr>\n",
       "  </tbody>\n",
       "</table>\n",
       "</div>"
      ],
      "text/plain": [
       "          P         Q\n",
       "A  1.077119 -1.009097\n",
       "B  0.968857  0.541487\n",
       "C  0.553674  0.355207\n",
       "D  0.636366 -0.104253"
      ]
     },
     "execution_count": 158,
     "metadata": {},
     "output_type": "execute_result"
    }
   ],
   "source": [
    "df[df[\"P\"]>0] [[\"P\",\"Q\"]]"
   ]
  },
  {
   "cell_type": "code",
   "execution_count": 159,
   "id": "8668832a-286b-4d73-ab58-ddd0be9c1893",
   "metadata": {},
   "outputs": [],
   "source": [
    "#multiple conditions"
   ]
  },
  {
   "cell_type": "code",
   "execution_count": 160,
   "id": "0f25759a-22e6-4a4a-bd52-0bef4a8a1e79",
   "metadata": {},
   "outputs": [
    {
     "data": {
      "text/html": [
       "<div>\n",
       "<style scoped>\n",
       "    .dataframe tbody tr th:only-of-type {\n",
       "        vertical-align: middle;\n",
       "    }\n",
       "\n",
       "    .dataframe tbody tr th {\n",
       "        vertical-align: top;\n",
       "    }\n",
       "\n",
       "    .dataframe thead th {\n",
       "        text-align: right;\n",
       "    }\n",
       "</style>\n",
       "<table border=\"1\" class=\"dataframe\">\n",
       "  <thead>\n",
       "    <tr style=\"text-align: right;\">\n",
       "      <th></th>\n",
       "      <th>P</th>\n",
       "      <th>Q</th>\n",
       "      <th>R</th>\n",
       "      <th>S</th>\n",
       "      <th>T</th>\n",
       "    </tr>\n",
       "  </thead>\n",
       "  <tbody>\n",
       "    <tr>\n",
       "      <th>C</th>\n",
       "      <td>0.553674</td>\n",
       "      <td>0.355207</td>\n",
       "      <td>2.012865</td>\n",
       "      <td>0.318519</td>\n",
       "      <td>1.202196</td>\n",
       "    </tr>\n",
       "  </tbody>\n",
       "</table>\n",
       "</div>"
      ],
      "text/plain": [
       "          P         Q         R         S         T\n",
       "C  0.553674  0.355207  2.012865  0.318519  1.202196"
      ]
     },
     "execution_count": 160,
     "metadata": {},
     "output_type": "execute_result"
    }
   ],
   "source": [
    "df[(df[\"P\"]>0) & (df[\"R\"]>1)]"
   ]
  },
  {
   "cell_type": "code",
   "execution_count": 211,
   "id": "45784a0c-38ae-4cf6-9d19-bcc71fb00f14",
   "metadata": {},
   "outputs": [
    {
     "data": {
      "text/html": [
       "<div>\n",
       "<style scoped>\n",
       "    .dataframe tbody tr th:only-of-type {\n",
       "        vertical-align: middle;\n",
       "    }\n",
       "\n",
       "    .dataframe tbody tr th {\n",
       "        vertical-align: top;\n",
       "    }\n",
       "\n",
       "    .dataframe thead th {\n",
       "        text-align: right;\n",
       "    }\n",
       "</style>\n",
       "<table border=\"1\" class=\"dataframe\">\n",
       "  <thead>\n",
       "    <tr style=\"text-align: right;\">\n",
       "      <th></th>\n",
       "      <th>P</th>\n",
       "      <th>Q</th>\n",
       "      <th>R</th>\n",
       "      <th>S</th>\n",
       "      <th>T</th>\n",
       "    </tr>\n",
       "  </thead>\n",
       "  <tbody>\n",
       "    <tr>\n",
       "      <th>A</th>\n",
       "      <td>1.077119</td>\n",
       "      <td>-1.009097</td>\n",
       "      <td>0.519816</td>\n",
       "      <td>0.242164</td>\n",
       "      <td>-1.219661</td>\n",
       "    </tr>\n",
       "    <tr>\n",
       "      <th>B</th>\n",
       "      <td>0.968857</td>\n",
       "      <td>0.541487</td>\n",
       "      <td>-0.189625</td>\n",
       "      <td>-0.350053</td>\n",
       "      <td>-0.117612</td>\n",
       "    </tr>\n",
       "    <tr>\n",
       "      <th>C</th>\n",
       "      <td>0.553674</td>\n",
       "      <td>0.355207</td>\n",
       "      <td>2.012865</td>\n",
       "      <td>0.318519</td>\n",
       "      <td>1.202196</td>\n",
       "    </tr>\n",
       "    <tr>\n",
       "      <th>D</th>\n",
       "      <td>0.636366</td>\n",
       "      <td>-0.104253</td>\n",
       "      <td>0.027122</td>\n",
       "      <td>-0.255247</td>\n",
       "      <td>1.606748</td>\n",
       "    </tr>\n",
       "    <tr>\n",
       "      <th>E</th>\n",
       "      <td>-1.947919</td>\n",
       "      <td>0.002699</td>\n",
       "      <td>0.638391</td>\n",
       "      <td>0.448201</td>\n",
       "      <td>-0.976051</td>\n",
       "    </tr>\n",
       "  </tbody>\n",
       "</table>\n",
       "</div>"
      ],
      "text/plain": [
       "          P         Q         R         S         T\n",
       "A  1.077119 -1.009097  0.519816  0.242164 -1.219661\n",
       "B  0.968857  0.541487 -0.189625 -0.350053 -0.117612\n",
       "C  0.553674  0.355207  2.012865  0.318519  1.202196\n",
       "D  0.636366 -0.104253  0.027122 -0.255247  1.606748\n",
       "E -1.947919  0.002699  0.638391  0.448201 -0.976051"
      ]
     },
     "execution_count": 211,
     "metadata": {},
     "output_type": "execute_result"
    }
   ],
   "source": [
    "df"
   ]
  },
  {
   "cell_type": "code",
   "execution_count": 213,
   "id": "530b8885-6cf1-4a17-9147-c43343456968",
   "metadata": {},
   "outputs": [],
   "source": [
    "#index reset"
   ]
  },
  {
   "cell_type": "code",
   "execution_count": 215,
   "id": "c1218ce1-5d0a-4192-a437-b70692bce844",
   "metadata": {},
   "outputs": [
    {
     "data": {
      "text/html": [
       "<div>\n",
       "<style scoped>\n",
       "    .dataframe tbody tr th:only-of-type {\n",
       "        vertical-align: middle;\n",
       "    }\n",
       "\n",
       "    .dataframe tbody tr th {\n",
       "        vertical-align: top;\n",
       "    }\n",
       "\n",
       "    .dataframe thead th {\n",
       "        text-align: right;\n",
       "    }\n",
       "</style>\n",
       "<table border=\"1\" class=\"dataframe\">\n",
       "  <thead>\n",
       "    <tr style=\"text-align: right;\">\n",
       "      <th></th>\n",
       "      <th>index</th>\n",
       "      <th>P</th>\n",
       "      <th>Q</th>\n",
       "      <th>R</th>\n",
       "      <th>S</th>\n",
       "      <th>T</th>\n",
       "    </tr>\n",
       "  </thead>\n",
       "  <tbody>\n",
       "    <tr>\n",
       "      <th>0</th>\n",
       "      <td>A</td>\n",
       "      <td>1.077119</td>\n",
       "      <td>-1.009097</td>\n",
       "      <td>0.519816</td>\n",
       "      <td>0.242164</td>\n",
       "      <td>-1.219661</td>\n",
       "    </tr>\n",
       "    <tr>\n",
       "      <th>1</th>\n",
       "      <td>B</td>\n",
       "      <td>0.968857</td>\n",
       "      <td>0.541487</td>\n",
       "      <td>-0.189625</td>\n",
       "      <td>-0.350053</td>\n",
       "      <td>-0.117612</td>\n",
       "    </tr>\n",
       "    <tr>\n",
       "      <th>2</th>\n",
       "      <td>C</td>\n",
       "      <td>0.553674</td>\n",
       "      <td>0.355207</td>\n",
       "      <td>2.012865</td>\n",
       "      <td>0.318519</td>\n",
       "      <td>1.202196</td>\n",
       "    </tr>\n",
       "    <tr>\n",
       "      <th>3</th>\n",
       "      <td>D</td>\n",
       "      <td>0.636366</td>\n",
       "      <td>-0.104253</td>\n",
       "      <td>0.027122</td>\n",
       "      <td>-0.255247</td>\n",
       "      <td>1.606748</td>\n",
       "    </tr>\n",
       "    <tr>\n",
       "      <th>4</th>\n",
       "      <td>E</td>\n",
       "      <td>-1.947919</td>\n",
       "      <td>0.002699</td>\n",
       "      <td>0.638391</td>\n",
       "      <td>0.448201</td>\n",
       "      <td>-0.976051</td>\n",
       "    </tr>\n",
       "  </tbody>\n",
       "</table>\n",
       "</div>"
      ],
      "text/plain": [
       "  index         P         Q         R         S         T\n",
       "0     A  1.077119 -1.009097  0.519816  0.242164 -1.219661\n",
       "1     B  0.968857  0.541487 -0.189625 -0.350053 -0.117612\n",
       "2     C  0.553674  0.355207  2.012865  0.318519  1.202196\n",
       "3     D  0.636366 -0.104253  0.027122 -0.255247  1.606748\n",
       "4     E -1.947919  0.002699  0.638391  0.448201 -0.976051"
      ]
     },
     "execution_count": 215,
     "metadata": {},
     "output_type": "execute_result"
    }
   ],
   "source": [
    "df.reset_index()"
   ]
  },
  {
   "cell_type": "code",
   "execution_count": 217,
   "id": "380b8392-726d-4d78-a930-afd2c9b6ff2a",
   "metadata": {},
   "outputs": [
    {
     "data": {
      "text/html": [
       "<div>\n",
       "<style scoped>\n",
       "    .dataframe tbody tr th:only-of-type {\n",
       "        vertical-align: middle;\n",
       "    }\n",
       "\n",
       "    .dataframe tbody tr th {\n",
       "        vertical-align: top;\n",
       "    }\n",
       "\n",
       "    .dataframe thead th {\n",
       "        text-align: right;\n",
       "    }\n",
       "</style>\n",
       "<table border=\"1\" class=\"dataframe\">\n",
       "  <thead>\n",
       "    <tr style=\"text-align: right;\">\n",
       "      <th></th>\n",
       "      <th>P</th>\n",
       "      <th>Q</th>\n",
       "      <th>R</th>\n",
       "      <th>S</th>\n",
       "      <th>T</th>\n",
       "    </tr>\n",
       "  </thead>\n",
       "  <tbody>\n",
       "    <tr>\n",
       "      <th>A</th>\n",
       "      <td>1.077119</td>\n",
       "      <td>-1.009097</td>\n",
       "      <td>0.519816</td>\n",
       "      <td>0.242164</td>\n",
       "      <td>-1.219661</td>\n",
       "    </tr>\n",
       "    <tr>\n",
       "      <th>B</th>\n",
       "      <td>0.968857</td>\n",
       "      <td>0.541487</td>\n",
       "      <td>-0.189625</td>\n",
       "      <td>-0.350053</td>\n",
       "      <td>-0.117612</td>\n",
       "    </tr>\n",
       "    <tr>\n",
       "      <th>C</th>\n",
       "      <td>0.553674</td>\n",
       "      <td>0.355207</td>\n",
       "      <td>2.012865</td>\n",
       "      <td>0.318519</td>\n",
       "      <td>1.202196</td>\n",
       "    </tr>\n",
       "    <tr>\n",
       "      <th>D</th>\n",
       "      <td>0.636366</td>\n",
       "      <td>-0.104253</td>\n",
       "      <td>0.027122</td>\n",
       "      <td>-0.255247</td>\n",
       "      <td>1.606748</td>\n",
       "    </tr>\n",
       "    <tr>\n",
       "      <th>E</th>\n",
       "      <td>-1.947919</td>\n",
       "      <td>0.002699</td>\n",
       "      <td>0.638391</td>\n",
       "      <td>0.448201</td>\n",
       "      <td>-0.976051</td>\n",
       "    </tr>\n",
       "  </tbody>\n",
       "</table>\n",
       "</div>"
      ],
      "text/plain": [
       "          P         Q         R         S         T\n",
       "A  1.077119 -1.009097  0.519816  0.242164 -1.219661\n",
       "B  0.968857  0.541487 -0.189625 -0.350053 -0.117612\n",
       "C  0.553674  0.355207  2.012865  0.318519  1.202196\n",
       "D  0.636366 -0.104253  0.027122 -0.255247  1.606748\n",
       "E -1.947919  0.002699  0.638391  0.448201 -0.976051"
      ]
     },
     "execution_count": 217,
     "metadata": {},
     "output_type": "execute_result"
    }
   ],
   "source": [
    "df"
   ]
  },
  {
   "cell_type": "code",
   "execution_count": 219,
   "id": "b94dc2da-0c63-429d-8431-f2fbb691302e",
   "metadata": {},
   "outputs": [],
   "source": [
    "#custom reset index"
   ]
  },
  {
   "cell_type": "code",
   "execution_count": 221,
   "id": "7b230d4b-04e0-410a-931c-a5b88f9c6461",
   "metadata": {},
   "outputs": [],
   "source": [
    "lst=\"AA BB CC DD EE\".split()"
   ]
  },
  {
   "cell_type": "code",
   "execution_count": 223,
   "id": "eaea7749-1968-402e-babf-2521ebd8afdb",
   "metadata": {},
   "outputs": [],
   "source": [
    "df[\"Index\"]=lst"
   ]
  },
  {
   "cell_type": "code",
   "execution_count": 225,
   "id": "f5f6f3d3-6088-4c94-b6b6-7870d3ea1fca",
   "metadata": {},
   "outputs": [
    {
     "data": {
      "text/html": [
       "<div>\n",
       "<style scoped>\n",
       "    .dataframe tbody tr th:only-of-type {\n",
       "        vertical-align: middle;\n",
       "    }\n",
       "\n",
       "    .dataframe tbody tr th {\n",
       "        vertical-align: top;\n",
       "    }\n",
       "\n",
       "    .dataframe thead th {\n",
       "        text-align: right;\n",
       "    }\n",
       "</style>\n",
       "<table border=\"1\" class=\"dataframe\">\n",
       "  <thead>\n",
       "    <tr style=\"text-align: right;\">\n",
       "      <th></th>\n",
       "      <th>P</th>\n",
       "      <th>Q</th>\n",
       "      <th>R</th>\n",
       "      <th>S</th>\n",
       "      <th>T</th>\n",
       "      <th>Index</th>\n",
       "    </tr>\n",
       "  </thead>\n",
       "  <tbody>\n",
       "    <tr>\n",
       "      <th>A</th>\n",
       "      <td>1.077119</td>\n",
       "      <td>-1.009097</td>\n",
       "      <td>0.519816</td>\n",
       "      <td>0.242164</td>\n",
       "      <td>-1.219661</td>\n",
       "      <td>AA</td>\n",
       "    </tr>\n",
       "    <tr>\n",
       "      <th>B</th>\n",
       "      <td>0.968857</td>\n",
       "      <td>0.541487</td>\n",
       "      <td>-0.189625</td>\n",
       "      <td>-0.350053</td>\n",
       "      <td>-0.117612</td>\n",
       "      <td>BB</td>\n",
       "    </tr>\n",
       "    <tr>\n",
       "      <th>C</th>\n",
       "      <td>0.553674</td>\n",
       "      <td>0.355207</td>\n",
       "      <td>2.012865</td>\n",
       "      <td>0.318519</td>\n",
       "      <td>1.202196</td>\n",
       "      <td>CC</td>\n",
       "    </tr>\n",
       "    <tr>\n",
       "      <th>D</th>\n",
       "      <td>0.636366</td>\n",
       "      <td>-0.104253</td>\n",
       "      <td>0.027122</td>\n",
       "      <td>-0.255247</td>\n",
       "      <td>1.606748</td>\n",
       "      <td>DD</td>\n",
       "    </tr>\n",
       "    <tr>\n",
       "      <th>E</th>\n",
       "      <td>-1.947919</td>\n",
       "      <td>0.002699</td>\n",
       "      <td>0.638391</td>\n",
       "      <td>0.448201</td>\n",
       "      <td>-0.976051</td>\n",
       "      <td>EE</td>\n",
       "    </tr>\n",
       "  </tbody>\n",
       "</table>\n",
       "</div>"
      ],
      "text/plain": [
       "          P         Q         R         S         T Index\n",
       "A  1.077119 -1.009097  0.519816  0.242164 -1.219661    AA\n",
       "B  0.968857  0.541487 -0.189625 -0.350053 -0.117612    BB\n",
       "C  0.553674  0.355207  2.012865  0.318519  1.202196    CC\n",
       "D  0.636366 -0.104253  0.027122 -0.255247  1.606748    DD\n",
       "E -1.947919  0.002699  0.638391  0.448201 -0.976051    EE"
      ]
     },
     "execution_count": 225,
     "metadata": {},
     "output_type": "execute_result"
    }
   ],
   "source": [
    "df"
   ]
  },
  {
   "cell_type": "code",
   "execution_count": 227,
   "id": "4ba2b9ff-880b-4f1a-a80e-84c2f87fc15b",
   "metadata": {},
   "outputs": [
    {
     "data": {
      "text/html": [
       "<div>\n",
       "<style scoped>\n",
       "    .dataframe tbody tr th:only-of-type {\n",
       "        vertical-align: middle;\n",
       "    }\n",
       "\n",
       "    .dataframe tbody tr th {\n",
       "        vertical-align: top;\n",
       "    }\n",
       "\n",
       "    .dataframe thead th {\n",
       "        text-align: right;\n",
       "    }\n",
       "</style>\n",
       "<table border=\"1\" class=\"dataframe\">\n",
       "  <thead>\n",
       "    <tr style=\"text-align: right;\">\n",
       "      <th></th>\n",
       "      <th>P</th>\n",
       "      <th>Q</th>\n",
       "      <th>R</th>\n",
       "      <th>S</th>\n",
       "      <th>T</th>\n",
       "    </tr>\n",
       "    <tr>\n",
       "      <th>Index</th>\n",
       "      <th></th>\n",
       "      <th></th>\n",
       "      <th></th>\n",
       "      <th></th>\n",
       "      <th></th>\n",
       "    </tr>\n",
       "  </thead>\n",
       "  <tbody>\n",
       "    <tr>\n",
       "      <th>AA</th>\n",
       "      <td>1.077119</td>\n",
       "      <td>-1.009097</td>\n",
       "      <td>0.519816</td>\n",
       "      <td>0.242164</td>\n",
       "      <td>-1.219661</td>\n",
       "    </tr>\n",
       "    <tr>\n",
       "      <th>BB</th>\n",
       "      <td>0.968857</td>\n",
       "      <td>0.541487</td>\n",
       "      <td>-0.189625</td>\n",
       "      <td>-0.350053</td>\n",
       "      <td>-0.117612</td>\n",
       "    </tr>\n",
       "    <tr>\n",
       "      <th>CC</th>\n",
       "      <td>0.553674</td>\n",
       "      <td>0.355207</td>\n",
       "      <td>2.012865</td>\n",
       "      <td>0.318519</td>\n",
       "      <td>1.202196</td>\n",
       "    </tr>\n",
       "    <tr>\n",
       "      <th>DD</th>\n",
       "      <td>0.636366</td>\n",
       "      <td>-0.104253</td>\n",
       "      <td>0.027122</td>\n",
       "      <td>-0.255247</td>\n",
       "      <td>1.606748</td>\n",
       "    </tr>\n",
       "    <tr>\n",
       "      <th>EE</th>\n",
       "      <td>-1.947919</td>\n",
       "      <td>0.002699</td>\n",
       "      <td>0.638391</td>\n",
       "      <td>0.448201</td>\n",
       "      <td>-0.976051</td>\n",
       "    </tr>\n",
       "  </tbody>\n",
       "</table>\n",
       "</div>"
      ],
      "text/plain": [
       "              P         Q         R         S         T\n",
       "Index                                                  \n",
       "AA     1.077119 -1.009097  0.519816  0.242164 -1.219661\n",
       "BB     0.968857  0.541487 -0.189625 -0.350053 -0.117612\n",
       "CC     0.553674  0.355207  2.012865  0.318519  1.202196\n",
       "DD     0.636366 -0.104253  0.027122 -0.255247  1.606748\n",
       "EE    -1.947919  0.002699  0.638391  0.448201 -0.976051"
      ]
     },
     "execution_count": 227,
     "metadata": {},
     "output_type": "execute_result"
    }
   ],
   "source": [
    "df.set_index(\"Index\")"
   ]
  },
  {
   "cell_type": "code",
   "execution_count": 229,
   "id": "b32a9b48-24c2-4e2e-9c22-c57a399fabe3",
   "metadata": {},
   "outputs": [
    {
     "data": {
      "text/html": [
       "<div>\n",
       "<style scoped>\n",
       "    .dataframe tbody tr th:only-of-type {\n",
       "        vertical-align: middle;\n",
       "    }\n",
       "\n",
       "    .dataframe tbody tr th {\n",
       "        vertical-align: top;\n",
       "    }\n",
       "\n",
       "    .dataframe thead th {\n",
       "        text-align: right;\n",
       "    }\n",
       "</style>\n",
       "<table border=\"1\" class=\"dataframe\">\n",
       "  <thead>\n",
       "    <tr style=\"text-align: right;\">\n",
       "      <th></th>\n",
       "      <th>P</th>\n",
       "      <th>Q</th>\n",
       "      <th>R</th>\n",
       "      <th>S</th>\n",
       "      <th>T</th>\n",
       "      <th>Index</th>\n",
       "    </tr>\n",
       "  </thead>\n",
       "  <tbody>\n",
       "    <tr>\n",
       "      <th>A</th>\n",
       "      <td>1.077119</td>\n",
       "      <td>-1.009097</td>\n",
       "      <td>0.519816</td>\n",
       "      <td>0.242164</td>\n",
       "      <td>-1.219661</td>\n",
       "      <td>AA</td>\n",
       "    </tr>\n",
       "    <tr>\n",
       "      <th>B</th>\n",
       "      <td>0.968857</td>\n",
       "      <td>0.541487</td>\n",
       "      <td>-0.189625</td>\n",
       "      <td>-0.350053</td>\n",
       "      <td>-0.117612</td>\n",
       "      <td>BB</td>\n",
       "    </tr>\n",
       "    <tr>\n",
       "      <th>C</th>\n",
       "      <td>0.553674</td>\n",
       "      <td>0.355207</td>\n",
       "      <td>2.012865</td>\n",
       "      <td>0.318519</td>\n",
       "      <td>1.202196</td>\n",
       "      <td>CC</td>\n",
       "    </tr>\n",
       "    <tr>\n",
       "      <th>D</th>\n",
       "      <td>0.636366</td>\n",
       "      <td>-0.104253</td>\n",
       "      <td>0.027122</td>\n",
       "      <td>-0.255247</td>\n",
       "      <td>1.606748</td>\n",
       "      <td>DD</td>\n",
       "    </tr>\n",
       "    <tr>\n",
       "      <th>E</th>\n",
       "      <td>-1.947919</td>\n",
       "      <td>0.002699</td>\n",
       "      <td>0.638391</td>\n",
       "      <td>0.448201</td>\n",
       "      <td>-0.976051</td>\n",
       "      <td>EE</td>\n",
       "    </tr>\n",
       "  </tbody>\n",
       "</table>\n",
       "</div>"
      ],
      "text/plain": [
       "          P         Q         R         S         T Index\n",
       "A  1.077119 -1.009097  0.519816  0.242164 -1.219661    AA\n",
       "B  0.968857  0.541487 -0.189625 -0.350053 -0.117612    BB\n",
       "C  0.553674  0.355207  2.012865  0.318519  1.202196    CC\n",
       "D  0.636366 -0.104253  0.027122 -0.255247  1.606748    DD\n",
       "E -1.947919  0.002699  0.638391  0.448201 -0.976051    EE"
      ]
     },
     "execution_count": 229,
     "metadata": {},
     "output_type": "execute_result"
    }
   ],
   "source": [
    "df"
   ]
  },
  {
   "cell_type": "code",
   "execution_count": 233,
   "id": "678ae7e4-264c-415f-b5ac-3f3bc7a5c878",
   "metadata": {},
   "outputs": [],
   "source": [
    "#heirachical - multi level index"
   ]
  },
  {
   "cell_type": "code",
   "execution_count": 239,
   "id": "68b62d3e-d931-47fb-94d7-a324966599a0",
   "metadata": {},
   "outputs": [],
   "source": [
    "outside=[\"G1\",\"G1\",\"G1\",\"G2\",\"G2\",\"G2\"]\n",
    "inside=[1,2,3,1,2,3]\n",
    "hier_index=list(zip(outside,inside))\n",
    "hier_index=pd.MultiIndex.from_tuples(hier_index)\n"
   ]
  },
  {
   "cell_type": "code",
   "execution_count": 241,
   "id": "9aae7f37-e14e-4a01-aecd-096ad79a1f47",
   "metadata": {},
   "outputs": [
    {
     "data": {
      "text/plain": [
       "MultiIndex([('G1', 1),\n",
       "            ('G1', 2),\n",
       "            ('G1', 3),\n",
       "            ('G2', 1),\n",
       "            ('G2', 2),\n",
       "            ('G2', 3)],\n",
       "           )"
      ]
     },
     "execution_count": 241,
     "metadata": {},
     "output_type": "execute_result"
    }
   ],
   "source": [
    "hier_index"
   ]
  },
  {
   "cell_type": "code",
   "execution_count": 245,
   "id": "3dc6150f-9e55-4102-8bc7-3854c0e73d63",
   "metadata": {},
   "outputs": [
    {
     "data": {
      "text/html": [
       "<div>\n",
       "<style scoped>\n",
       "    .dataframe tbody tr th:only-of-type {\n",
       "        vertical-align: middle;\n",
       "    }\n",
       "\n",
       "    .dataframe tbody tr th {\n",
       "        vertical-align: top;\n",
       "    }\n",
       "\n",
       "    .dataframe thead th {\n",
       "        text-align: right;\n",
       "    }\n",
       "</style>\n",
       "<table border=\"1\" class=\"dataframe\">\n",
       "  <thead>\n",
       "    <tr style=\"text-align: right;\">\n",
       "      <th></th>\n",
       "      <th></th>\n",
       "      <th>A</th>\n",
       "      <th>B</th>\n",
       "    </tr>\n",
       "  </thead>\n",
       "  <tbody>\n",
       "    <tr>\n",
       "      <th rowspan=\"3\" valign=\"top\">G1</th>\n",
       "      <th>1</th>\n",
       "      <td>0.747225</td>\n",
       "      <td>1.886649</td>\n",
       "    </tr>\n",
       "    <tr>\n",
       "      <th>2</th>\n",
       "      <td>-1.476147</td>\n",
       "      <td>0.304048</td>\n",
       "    </tr>\n",
       "    <tr>\n",
       "      <th>3</th>\n",
       "      <td>0.075322</td>\n",
       "      <td>-1.440978</td>\n",
       "    </tr>\n",
       "    <tr>\n",
       "      <th rowspan=\"3\" valign=\"top\">G2</th>\n",
       "      <th>1</th>\n",
       "      <td>-0.443065</td>\n",
       "      <td>-1.009395</td>\n",
       "    </tr>\n",
       "    <tr>\n",
       "      <th>2</th>\n",
       "      <td>-0.857642</td>\n",
       "      <td>-1.565484</td>\n",
       "    </tr>\n",
       "    <tr>\n",
       "      <th>3</th>\n",
       "      <td>-0.263457</td>\n",
       "      <td>2.763389</td>\n",
       "    </tr>\n",
       "  </tbody>\n",
       "</table>\n",
       "</div>"
      ],
      "text/plain": [
       "             A         B\n",
       "G1 1  0.747225  1.886649\n",
       "   2 -1.476147  0.304048\n",
       "   3  0.075322 -1.440978\n",
       "G2 1 -0.443065 -1.009395\n",
       "   2 -0.857642 -1.565484\n",
       "   3 -0.263457  2.763389"
      ]
     },
     "execution_count": 245,
     "metadata": {},
     "output_type": "execute_result"
    }
   ],
   "source": [
    "df=pd.DataFrame(np.random.randn(6,2),index=hier_index,columns=[\"A\",\"B\"])\n",
    "df"
   ]
  },
  {
   "cell_type": "code",
   "execution_count": 259,
   "id": "e5152a4c-22c8-4a3c-87f4-d7cee59c02a7",
   "metadata": {},
   "outputs": [
    {
     "data": {
      "text/html": [
       "<div>\n",
       "<style scoped>\n",
       "    .dataframe tbody tr th:only-of-type {\n",
       "        vertical-align: middle;\n",
       "    }\n",
       "\n",
       "    .dataframe tbody tr th {\n",
       "        vertical-align: top;\n",
       "    }\n",
       "\n",
       "    .dataframe thead th {\n",
       "        text-align: right;\n",
       "    }\n",
       "</style>\n",
       "<table border=\"1\" class=\"dataframe\">\n",
       "  <thead>\n",
       "    <tr style=\"text-align: right;\">\n",
       "      <th></th>\n",
       "      <th>A</th>\n",
       "      <th>B</th>\n",
       "    </tr>\n",
       "  </thead>\n",
       "  <tbody>\n",
       "    <tr>\n",
       "      <th>1</th>\n",
       "      <td>0.747225</td>\n",
       "      <td>1.886649</td>\n",
       "    </tr>\n",
       "    <tr>\n",
       "      <th>2</th>\n",
       "      <td>-1.476147</td>\n",
       "      <td>0.304048</td>\n",
       "    </tr>\n",
       "    <tr>\n",
       "      <th>3</th>\n",
       "      <td>0.075322</td>\n",
       "      <td>-1.440978</td>\n",
       "    </tr>\n",
       "  </tbody>\n",
       "</table>\n",
       "</div>"
      ],
      "text/plain": [
       "          A         B\n",
       "1  0.747225  1.886649\n",
       "2 -1.476147  0.304048\n",
       "3  0.075322 -1.440978"
      ]
     },
     "execution_count": 259,
     "metadata": {},
     "output_type": "execute_result"
    }
   ],
   "source": [
    "df.loc[\"G1\"]"
   ]
  },
  {
   "cell_type": "code",
   "execution_count": 261,
   "id": "4ffea4b9-3d68-47ee-970d-e9bad3733ef0",
   "metadata": {},
   "outputs": [
    {
     "data": {
      "text/plain": [
       "A    0.747225\n",
       "B    1.886649\n",
       "Name: 1, dtype: float64"
      ]
     },
     "execution_count": 261,
     "metadata": {},
     "output_type": "execute_result"
    }
   ],
   "source": [
    "df.loc[\"G1\"].loc[1]"
   ]
  },
  {
   "cell_type": "code",
   "execution_count": 265,
   "id": "0b808c1e-ca63-4e54-ac43-8beb1a85cd62",
   "metadata": {},
   "outputs": [
    {
     "data": {
      "text/plain": [
       "FrozenList([None, None])"
      ]
     },
     "execution_count": 265,
     "metadata": {},
     "output_type": "execute_result"
    }
   ],
   "source": [
    "df.index.names"
   ]
  },
  {
   "cell_type": "code",
   "execution_count": 269,
   "id": "6ebf2b9c-9f09-4761-8e9b-bb85494f5f2a",
   "metadata": {},
   "outputs": [],
   "source": [
    "df.index.names=[\"Group\",\"Num\"]"
   ]
  },
  {
   "cell_type": "code",
   "execution_count": 271,
   "id": "55d7bb74-f71b-4a4d-bfce-542bf74895a7",
   "metadata": {},
   "outputs": [
    {
     "data": {
      "text/html": [
       "<div>\n",
       "<style scoped>\n",
       "    .dataframe tbody tr th:only-of-type {\n",
       "        vertical-align: middle;\n",
       "    }\n",
       "\n",
       "    .dataframe tbody tr th {\n",
       "        vertical-align: top;\n",
       "    }\n",
       "\n",
       "    .dataframe thead th {\n",
       "        text-align: right;\n",
       "    }\n",
       "</style>\n",
       "<table border=\"1\" class=\"dataframe\">\n",
       "  <thead>\n",
       "    <tr style=\"text-align: right;\">\n",
       "      <th></th>\n",
       "      <th></th>\n",
       "      <th>A</th>\n",
       "      <th>B</th>\n",
       "    </tr>\n",
       "    <tr>\n",
       "      <th>Group</th>\n",
       "      <th>Num</th>\n",
       "      <th></th>\n",
       "      <th></th>\n",
       "    </tr>\n",
       "  </thead>\n",
       "  <tbody>\n",
       "    <tr>\n",
       "      <th rowspan=\"3\" valign=\"top\">G1</th>\n",
       "      <th>1</th>\n",
       "      <td>0.747225</td>\n",
       "      <td>1.886649</td>\n",
       "    </tr>\n",
       "    <tr>\n",
       "      <th>2</th>\n",
       "      <td>-1.476147</td>\n",
       "      <td>0.304048</td>\n",
       "    </tr>\n",
       "    <tr>\n",
       "      <th>3</th>\n",
       "      <td>0.075322</td>\n",
       "      <td>-1.440978</td>\n",
       "    </tr>\n",
       "    <tr>\n",
       "      <th rowspan=\"3\" valign=\"top\">G2</th>\n",
       "      <th>1</th>\n",
       "      <td>-0.443065</td>\n",
       "      <td>-1.009395</td>\n",
       "    </tr>\n",
       "    <tr>\n",
       "      <th>2</th>\n",
       "      <td>-0.857642</td>\n",
       "      <td>-1.565484</td>\n",
       "    </tr>\n",
       "    <tr>\n",
       "      <th>3</th>\n",
       "      <td>-0.263457</td>\n",
       "      <td>2.763389</td>\n",
       "    </tr>\n",
       "  </tbody>\n",
       "</table>\n",
       "</div>"
      ],
      "text/plain": [
       "                  A         B\n",
       "Group Num                    \n",
       "G1    1    0.747225  1.886649\n",
       "      2   -1.476147  0.304048\n",
       "      3    0.075322 -1.440978\n",
       "G2    1   -0.443065 -1.009395\n",
       "      2   -0.857642 -1.565484\n",
       "      3   -0.263457  2.763389"
      ]
     },
     "execution_count": 271,
     "metadata": {},
     "output_type": "execute_result"
    }
   ],
   "source": [
    "df"
   ]
  },
  {
   "cell_type": "code",
   "execution_count": 275,
   "id": "6adf006e-df8e-4d19-a9a4-df32c820e47c",
   "metadata": {},
   "outputs": [
    {
     "data": {
      "text/plain": [
       "A    0.747225\n",
       "B    1.886649\n",
       "Name: (G1, 1), dtype: float64"
      ]
     },
     "execution_count": 275,
     "metadata": {},
     "output_type": "execute_result"
    }
   ],
   "source": [
    "df.xs((\"G1\",1))"
   ]
  },
  {
   "cell_type": "code",
   "execution_count": 281,
   "id": "3c9b3cf3-9b5f-4c90-aa35-2ef9ed960efd",
   "metadata": {},
   "outputs": [
    {
     "data": {
      "text/html": [
       "<div>\n",
       "<style scoped>\n",
       "    .dataframe tbody tr th:only-of-type {\n",
       "        vertical-align: middle;\n",
       "    }\n",
       "\n",
       "    .dataframe tbody tr th {\n",
       "        vertical-align: top;\n",
       "    }\n",
       "\n",
       "    .dataframe thead th {\n",
       "        text-align: right;\n",
       "    }\n",
       "</style>\n",
       "<table border=\"1\" class=\"dataframe\">\n",
       "  <thead>\n",
       "    <tr style=\"text-align: right;\">\n",
       "      <th></th>\n",
       "      <th>A</th>\n",
       "      <th>B</th>\n",
       "    </tr>\n",
       "    <tr>\n",
       "      <th>Group</th>\n",
       "      <th></th>\n",
       "      <th></th>\n",
       "    </tr>\n",
       "  </thead>\n",
       "  <tbody>\n",
       "    <tr>\n",
       "      <th>G1</th>\n",
       "      <td>0.747225</td>\n",
       "      <td>1.886649</td>\n",
       "    </tr>\n",
       "    <tr>\n",
       "      <th>G2</th>\n",
       "      <td>-0.443065</td>\n",
       "      <td>-1.009395</td>\n",
       "    </tr>\n",
       "  </tbody>\n",
       "</table>\n",
       "</div>"
      ],
      "text/plain": [
       "              A         B\n",
       "Group                    \n",
       "G1     0.747225  1.886649\n",
       "G2    -0.443065 -1.009395"
      ]
     },
     "execution_count": 281,
     "metadata": {},
     "output_type": "execute_result"
    }
   ],
   "source": [
    "df.xs(1,level=\"Num\")"
   ]
  },
  {
   "cell_type": "code",
   "execution_count": null,
   "id": "72d264a6-61b9-4f35-b506-17505473fe03",
   "metadata": {},
   "outputs": [],
   "source": []
  },
  {
   "cell_type": "code",
   "execution_count": null,
   "id": "73b27406-e45f-4847-bb57-6e1fbdeef842",
   "metadata": {},
   "outputs": [],
   "source": []
  },
  {
   "cell_type": "code",
   "execution_count": null,
   "id": "e05c3c5b-aa62-4343-a112-aa571ad485d5",
   "metadata": {},
   "outputs": [],
   "source": []
  }
 ],
 "metadata": {
  "kernelspec": {
   "display_name": "Python 3 (ipykernel)",
   "language": "python",
   "name": "python3"
  },
  "language_info": {
   "codemirror_mode": {
    "name": "ipython",
    "version": 3
   },
   "file_extension": ".py",
   "mimetype": "text/x-python",
   "name": "python",
   "nbconvert_exporter": "python",
   "pygments_lexer": "ipython3",
   "version": "3.12.4"
  }
 },
 "nbformat": 4,
 "nbformat_minor": 5
}
