{
 "cells": [
  {
   "cell_type": "markdown",
   "id": "6f2cc9b5-3432-4bd2-a9ae-7b81689fda91",
   "metadata": {},
   "source": [
    "# Inferential Statistics"
   ]
  },
  {
   "cell_type": "markdown",
   "id": "6365cf16-a14d-4038-80c6-30c342c36cb1",
   "metadata": {},
   "source": [
    "Gender AgeGroup weight height\r\n",
    "M      Elder     70      1.4\r\n",
    "F      Adult     65      1.2\r\n",
    "M      Adult     65      1.4\r\n",
    "F      Child     20       1\r\n",
    "F      Adult     75      1.3\r\n",
    "M      Elde      80      1.3\r\n",
    "\r\n"
   ]
  },
  {
   "cell_type": "code",
   "execution_count": 4,
   "id": "2d518384-2b55-4c35-80c1-24fa33fa1ca5",
   "metadata": {},
   "outputs": [],
   "source": [
    "#generating random sample "
   ]
  },
  {
   "cell_type": "code",
   "execution_count": 5,
   "id": "42dc5605-4158-4134-9040-4522a09d3e97",
   "metadata": {},
   "outputs": [],
   "source": [
    "import random\n",
    "import numpy as np\n",
    "# testing module\n",
    "from scipy import stats\n"
   ]
  },
  {
   "cell_type": "markdown",
   "id": "587096e7-69ae-4d66-be1d-286cf376ce4e",
   "metadata": {},
   "source": [
    "###  T Test"
   ]
  },
  {
   "cell_type": "code",
   "execution_count": 7,
   "id": "cf5186df-ffbe-4186-915e-d384d4c0e2aa",
   "metadata": {},
   "outputs": [
    {
     "data": {
      "text/plain": [
       "4.924691410044694"
      ]
     },
     "execution_count": 7,
     "metadata": {},
     "output_type": "execute_result"
    }
   ],
   "source": [
    "age=[random.randint(1,100) for i in range(100)]\n",
    "weights=[random.random()*10 for i in range(100)]\n",
    "sample=[random.choice(weights) for i in range(20) ]\n",
    "mean=np.mean(weights)\n",
    "mean"
   ]
  },
  {
   "cell_type": "markdown",
   "id": "0dd7c8fd-b81d-4059-b2f8-c156eb511c7d",
   "metadata": {},
   "source": [
    "**One Group Hypothesis Testing**"
   ]
  },
  {
   "cell_type": "code",
   "execution_count": 9,
   "id": "5fefb585-8d4e-4c63-9114-c7e58b655dd7",
   "metadata": {},
   "outputs": [],
   "source": [
    "ttest,p_value=stats.ttest_1samp(sample,mean)"
   ]
  },
  {
   "cell_type": "code",
   "execution_count": 10,
   "id": "2dfe90eb-bd59-454e-a693-5275d594dead",
   "metadata": {},
   "outputs": [
    {
     "name": "stdout",
     "output_type": "stream",
     "text": [
      "Accept the null hypothesis\n"
     ]
    }
   ],
   "source": [
    "if p_value>=0.05:\n",
    "    print(\"Accept the null hypothesis\")\n",
    "else:\n",
    "    print(\"Reject the null hypothesis\")"
   ]
  },
  {
   "cell_type": "code",
   "execution_count": 11,
   "id": "dd5f07f8-666a-43d8-9766-efbe7be7ce35",
   "metadata": {},
   "outputs": [
    {
     "data": {
      "text/plain": [
       "[1.0769981155738728,\n",
       " 1.4565194305469753,\n",
       " 6.339834495994621,\n",
       " 9.444359193310806,\n",
       " 0.1073363860593235,\n",
       " 4.569179170888088,\n",
       " 1.222374507379349,\n",
       " 4.044104461894667,\n",
       " 0.23522018008260592,\n",
       " 4.73176264604363,\n",
       " 5.342411755098451,\n",
       " 3.842510311199443,\n",
       " 7.872481189253171,\n",
       " 2.502986445221702,\n",
       " 0.7136567019089257,\n",
       " 7.429991219771573,\n",
       " 3.5357141145508395,\n",
       " 7.44083329191443,\n",
       " 2.9082540652888356,\n",
       " 2.6834639668627016]"
      ]
     },
     "execution_count": 11,
     "metadata": {},
     "output_type": "execute_result"
    }
   ],
   "source": [
    "sample"
   ]
  },
  {
   "cell_type": "code",
   "execution_count": 12,
   "id": "8298dd2e-c1eb-4993-9b2b-66e91e1f9a0b",
   "metadata": {},
   "outputs": [
    {
     "data": {
      "text/plain": [
       "-1.703246222646852"
      ]
     },
     "execution_count": 12,
     "metadata": {},
     "output_type": "execute_result"
    }
   ],
   "source": [
    "ttest"
   ]
  },
  {
   "cell_type": "code",
   "execution_count": 13,
   "id": "5cab3372-6df0-42f3-af4b-de8a38f629c1",
   "metadata": {},
   "outputs": [
    {
     "data": {
      "text/plain": [
       "0.10482440994537352"
      ]
     },
     "execution_count": 13,
     "metadata": {},
     "output_type": "execute_result"
    }
   ],
   "source": [
    "p_value"
   ]
  },
  {
   "cell_type": "markdown",
   "id": "bcc901d8-7ae9-4047-93ff-f26a3648e568",
   "metadata": {},
   "source": [
    "**Two Group Hypothesis**"
   ]
  },
  {
   "cell_type": "code",
   "execution_count": 15,
   "id": "e80eabba-ee8c-4b18-8531-c772b437c33f",
   "metadata": {},
   "outputs": [
    {
     "name": "stdout",
     "output_type": "stream",
     "text": [
      "Reject the null hypothesis\n"
     ]
    }
   ],
   "source": [
    "ttest,p_value=stats.ttest_ind(age,weights)\n",
    "if p_value>=0.05:\n",
    "    print(\"Accept the null hypothesis\")\n",
    "else:\n",
    "    print(\"Reject the null hypothesis\")"
   ]
  },
  {
   "cell_type": "code",
   "execution_count": 16,
   "id": "ac4deafd-4907-4b91-9bf9-88317e2f0491",
   "metadata": {},
   "outputs": [
    {
     "data": {
      "text/plain": [
       "1.3256802895758744e-32"
      ]
     },
     "execution_count": 16,
     "metadata": {},
     "output_type": "execute_result"
    }
   ],
   "source": [
    "p_value"
   ]
  },
  {
   "cell_type": "markdown",
   "id": "8cb450bf-a813-4cc8-85b8-efdc144c867d",
   "metadata": {},
   "source": [
    "### Correlation"
   ]
  },
  {
   "cell_type": "code",
   "execution_count": 18,
   "id": "546b2d4b-8921-45f1-9208-9ac8ce451f09",
   "metadata": {},
   "outputs": [
    {
     "data": {
      "text/html": [
       "<div>\n",
       "<style scoped>\n",
       "    .dataframe tbody tr th:only-of-type {\n",
       "        vertical-align: middle;\n",
       "    }\n",
       "\n",
       "    .dataframe tbody tr th {\n",
       "        vertical-align: top;\n",
       "    }\n",
       "\n",
       "    .dataframe thead th {\n",
       "        text-align: right;\n",
       "    }\n",
       "</style>\n",
       "<table border=\"1\" class=\"dataframe\">\n",
       "  <thead>\n",
       "    <tr style=\"text-align: right;\">\n",
       "      <th></th>\n",
       "      <th>sepal_length</th>\n",
       "      <th>sepal_width</th>\n",
       "      <th>petal_length</th>\n",
       "      <th>petal_width</th>\n",
       "    </tr>\n",
       "  </thead>\n",
       "  <tbody>\n",
       "    <tr>\n",
       "      <th>sepal_length</th>\n",
       "      <td>1.000000</td>\n",
       "      <td>-0.117570</td>\n",
       "      <td>0.871754</td>\n",
       "      <td>0.817941</td>\n",
       "    </tr>\n",
       "    <tr>\n",
       "      <th>sepal_width</th>\n",
       "      <td>-0.117570</td>\n",
       "      <td>1.000000</td>\n",
       "      <td>-0.428440</td>\n",
       "      <td>-0.366126</td>\n",
       "    </tr>\n",
       "    <tr>\n",
       "      <th>petal_length</th>\n",
       "      <td>0.871754</td>\n",
       "      <td>-0.428440</td>\n",
       "      <td>1.000000</td>\n",
       "      <td>0.962865</td>\n",
       "    </tr>\n",
       "    <tr>\n",
       "      <th>petal_width</th>\n",
       "      <td>0.817941</td>\n",
       "      <td>-0.366126</td>\n",
       "      <td>0.962865</td>\n",
       "      <td>1.000000</td>\n",
       "    </tr>\n",
       "  </tbody>\n",
       "</table>\n",
       "</div>"
      ],
      "text/plain": [
       "              sepal_length  sepal_width  petal_length  petal_width\n",
       "sepal_length      1.000000    -0.117570      0.871754     0.817941\n",
       "sepal_width      -0.117570     1.000000     -0.428440    -0.366126\n",
       "petal_length      0.871754    -0.428440      1.000000     0.962865\n",
       "petal_width       0.817941    -0.366126      0.962865     1.000000"
      ]
     },
     "execution_count": 18,
     "metadata": {},
     "output_type": "execute_result"
    }
   ],
   "source": [
    "import seaborn as sns\n",
    "\n",
    "\n",
    "data = sns.load_dataset(\"iris\")\n",
    "\n",
    "numeric_data = data.select_dtypes(include=[\"float64\", \"int64\"])\n",
    "\n",
    "correlation_matrix = numeric_data.corr()\n",
    "correlation_matrix\n"
   ]
  },
  {
   "cell_type": "code",
   "execution_count": null,
   "id": "ec0e2d64-6f0d-477a-8062-ae6ae05c23ca",
   "metadata": {},
   "outputs": [],
   "source": []
  }
 ],
 "metadata": {
  "kernelspec": {
   "display_name": "Python 3 (ipykernel)",
   "language": "python",
   "name": "python3"
  },
  "language_info": {
   "codemirror_mode": {
    "name": "ipython",
    "version": 3
   },
   "file_extension": ".py",
   "mimetype": "text/x-python",
   "name": "python",
   "nbconvert_exporter": "python",
   "pygments_lexer": "ipython3",
   "version": "3.12.4"
  }
 },
 "nbformat": 4,
 "nbformat_minor": 5
}
