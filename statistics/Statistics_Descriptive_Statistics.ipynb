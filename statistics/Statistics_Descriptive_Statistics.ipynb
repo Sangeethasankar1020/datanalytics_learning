{
 "cells": [
  {
   "cell_type": "code",
   "execution_count": 2,
   "id": "2c23ff29-e7b3-4909-b166-eaee8ab9663c",
   "metadata": {},
   "outputs": [],
   "source": [
    "from IPython.display import Image, display\n"
   ]
  },
  {
   "cell_type": "markdown",
   "id": "b4d74632-4cc3-4c68-bf20-334cae71ed41",
   "metadata": {},
   "source": [
    "# Statistics "
   ]
  },
  {
   "cell_type": "markdown",
   "id": "2e7493df-b4b3-41e8-8214-ac679c47daab",
   "metadata": {},
   "source": [
    "A branch of mathematics that takes number(data) and transform them into useful information"
   ]
  },
  {
   "cell_type": "markdown",
   "id": "98553aef-c3fb-492c-a85a-534580de3d79",
   "metadata": {},
   "source": [
    "- **Basic Terminologies**\n",
    "  \n",
    "      I.   Population - A Population consist of all the items or individuals about which you want to draw.for example group of people like office\n",
    "      II.  Sample - A Sample is a portion of a population selected for analysis.for example population part\n",
    "      III. Variable - A variable is a characteristics of an item or individual.for example every employess differ with charactersistics\n",
    "      IV.  Data - Data are the different values associated with a variable. for example thier height.\n",
    "      V.   Parameter - A Parameter is a numerical measure that describe a characteristics of population.for example may be average , sum.\n",
    "      VI. Statistics - A Statistics is a numerical measure that describes a characteristics of sample.\n",
    "\n",
    "  \n",
    "- **Descriptive Statistics**\n",
    "\n",
    "      I. Data Collection using survey,Facebook,comments,insta\n",
    "      II. Data Cleaning and organizing using tables.\n",
    "      III. Summarize using numerical measures\n",
    "\n",
    "  \n",
    "- **Inferential Statistics**\n",
    "  \n",
    "    Giving conclution to populaion and population parameter based on samples.\n",
    "  \n",
    "      I. Estimation - Estimate the population mean weight using the sample mean weight. \n",
    "      II. Hypothesis - for example test claim that population mean weight is 1000kg."
   ]
  },
  {
   "cell_type": "markdown",
   "id": "80d15ea2-862d-4c88-93b0-bf77915910a4",
   "metadata": {},
   "source": [
    "# Descriptive Statistics"
   ]
  },
  {
   "cell_type": "markdown",
   "id": "a5349604-8727-46a0-942e-66373e295e7f",
   "metadata": {},
   "source": [
    "A descriptive statistics is aims to describe and summarize your data in meaningful way"
   ]
  },
  {
   "cell_type": "markdown",
   "id": "06460b69-f288-4f13-98ea-582182e704dd",
   "metadata": {},
   "source": [
    "Four Components:\n",
    "- Measure of Central Tendency\n",
    "- Measure of Dispersion\n",
    "- Table\n",
    "- Chart"
   ]
  },
  {
   "cell_type": "markdown",
   "id": "24b789ee-42d1-4381-b3f6-73a60fd55d26",
   "metadata": {},
   "source": [
    "### Measure of Central Tendency "
   ]
  },
  {
   "cell_type": "markdown",
   "id": "bd20fc33-51fb-45ec-b9a4-e1091af24bb7",
   "metadata": {},
   "source": [
    "Measure of central tendency identifies the central value in dataset"
   ]
  },
  {
   "cell_type": "markdown",
   "id": "409715ee-d5c4-4eee-a63a-b20927d5d0b5",
   "metadata": {},
   "source": [
    "- Mean (Average)\n",
    "- Median\n",
    "- Mode"
   ]
  },
  {
   "cell_type": "markdown",
   "id": "65dc0a88-6d4e-49f5-858b-4f819eb7b637",
   "metadata": {},
   "source": [
    "### Mean "
   ]
  },
  {
   "cell_type": "markdown",
   "id": "cd5f2829-861d-49a3-bf8b-10bbfa75297e",
   "metadata": {},
   "source": [
    "Sum of all observation didvided by the number of observation "
   ]
  },
  {
   "cell_type": "code",
   "execution_count": 44,
   "id": "1aba58c2-3724-4562-8e9c-003d67e803fb",
   "metadata": {},
   "outputs": [],
   "source": [
    "#mean is like a average"
   ]
  },
  {
   "cell_type": "code",
   "execution_count": 14,
   "id": "dbc632a0-ee7a-4692-9a20-565d7a1e29f9",
   "metadata": {},
   "outputs": [
    {
     "data": {
      "image/png": "[encoded data removed]",
      "text/plain": [
       "<IPython.core.display.Image object>"
      ]
     },
     "metadata": {},
     "output_type": "display_data"
    }
   ],
   "source": [
    "display(Image(filename='mean.png'))"
   ]
  },
  {
   "cell_type": "markdown",
   "id": "5d0acc25-06d3-4e0c-812c-c8fae49638a3",
   "metadata": {},
   "source": [
    "### Median "
   ]
  },
  {
   "cell_type": "markdown",
   "id": "e54a2b87-de66-4b4d-b2b0-e7e43f4961e6",
   "metadata": {},
   "source": [
    "The **middle value** when data points are arranged in ascending or desecnding order ,if there's an even number of data points ,its the average of the two middle values"
   ]
  },
  {
   "cell_type": "code",
   "execution_count": 48,
   "id": "4b9ce630-f2f9-47db-9e54-99efceee7776",
   "metadata": {},
   "outputs": [],
   "source": [
    "#for median we have to sort a data"
   ]
  },
  {
   "cell_type": "markdown",
   "id": "665d1dc8-eca8-4737-bc99-06313b2e120d",
   "metadata": {},
   "source": [
    "### Mode"
   ]
  },
  {
   "cell_type": "markdown",
   "id": "aa2d5dc4-6923-4d34-ace4-905e0de36da0",
   "metadata": {},
   "source": [
    "The value that appears most frequency in the dataset is mode\n",
    "\n",
    "-  **No Mode:** A dataset where no value occurs most frequently than any other.\n",
    "-  **Two Mode:** A dataset with two different value occurs most frequently.\n",
    "-  **Multi-Mode:** A dataset with more than two value occurs most frequently.\n",
    "    "
   ]
  },
  {
   "cell_type": "markdown",
   "id": "8e8bf01e-87ca-429c-9b80-d930549a7068",
   "metadata": {},
   "source": [
    "### Measure of dispersion "
   ]
  },
  {
   "cell_type": "markdown",
   "id": "1ac49366-5843-4b76-ac89-281d8fc3655b",
   "metadata": {},
   "source": [
    "A measure of dispersion quantities the spread of data points in a dataset.\n",
    "- Variance and Standand Deviation\n",
    "- Range\n",
    "- Interquartile Range"
   ]
  },
  {
   "cell_type": "markdown",
   "id": "fc7d2a0d-3a77-4fb4-b835-81cdd632db7f",
   "metadata": {},
   "source": [
    "**Standard Deviation**"
   ]
  },
  {
   "cell_type": "markdown",
   "id": "cac90214-b835-4cf8-ab87-40aff00af90e",
   "metadata": {},
   "source": [
    "Standard deviation measures the average distance of data points from the mean in a dataset."
   ]
  },
  {
   "cell_type": "code",
   "execution_count": 23,
   "id": "4d83dccc-0892-4564-9996-69b74506495e",
   "metadata": {},
   "outputs": [
    {
     "data": {
      "image/png": "[encoded data removed]",
      "text/plain": [
       "<IPython.core.display.Image object>"
      ]
     },
     "metadata": {},
     "output_type": "display_data"
    }
   ],
   "source": [
    "display(Image(filename='SD.png'))"
   ]
  },
  {
   "cell_type": "code",
   "execution_count": 31,
   "id": "e0d641bb-3561-4e67-9592-b1d52022b01c",
   "metadata": {},
   "outputs": [
    {
     "data": {
      "image/png": "[encoded data removed]",
      "text/plain": [
       "<IPython.core.display.Image object>"
      ]
     },
     "metadata": {},
     "output_type": "display_data"
    }
   ],
   "source": [
    "display(Image(filename='ssd.png')) #by sample"
   ]
  },
  {
   "cell_type": "markdown",
   "id": "3835be0f-f317-4918-a7d4-0f4be49164c9",
   "metadata": {},
   "source": [
    "**variance**"
   ]
  },
  {
   "cell_type": "markdown",
   "id": "ec7fe6cb-6512-4208-a34d-81877757e229",
   "metadata": {},
   "source": [
    "variance is the square of standard deviation"
   ]
  },
  {
   "cell_type": "code",
   "execution_count": 37,
   "id": "deb53973-e4ed-4e63-84df-34599b90c4d1",
   "metadata": {},
   "outputs": [
    {
     "data": {
      "image/png": "[encoded data removed]",
      "text/plain": [
       "<IPython.core.display.Image object>"
      ]
     },
     "metadata": {},
     "output_type": "display_data"
    }
   ],
   "source": [
    "display(Image(filename='v.png'))"
   ]
  },
  {
   "cell_type": "markdown",
   "id": "9c1c294a-a743-4965-b66a-69f5fee0806c",
   "metadata": {},
   "source": [
    "**Range**"
   ]
  },
  {
   "cell_type": "markdown",
   "id": "558ca191-632e-4038-b124-d6b23282c387",
   "metadata": {},
   "source": [
    "Range is the difference between the maximum and minimum values in a dataset ,indicating the spread of values"
   ]
  },
  {
   "cell_type": "markdown",
   "id": "789612d9-f4e4-40d2-a6e1-df061a866a0c",
   "metadata": {},
   "source": [
    "**Interquartile Range**"
   ]
  },
  {
   "cell_type": "markdown",
   "id": "ec444566-de78-4089-9a03-5c065d738933",
   "metadata": {},
   "source": [
    "The interquartile range(IQR) measures the spread of the middle 50% of data points in a dataset,calculated as the difference between the third quartile(Q3) and the first quartile(Q1)"
   ]
  },
  {
   "cell_type": "code",
   "execution_count": 1,
   "id": "869d9491-5169-4b71-be7b-171bc7649c22",
   "metadata": {},
   "outputs": [
    {
     "name": "stdout",
     "output_type": "stream",
     "text": [
      "Mean: 5.2\n",
      "Median: 5.0\n",
      "Mode: 3\n",
      "Range: 7\n",
      "Variance: 5.288888888888889\n",
      "Standard Deviation: 2.2997584414213788\n",
      "Percentiles (25th, 50th, 75th): [3.25 5.   6.75]\n"
     ]
    }
   ],
   "source": [
    "import pandas as pd\n",
    "import numpy as np\n",
    "\n",
    "# Sample Data\n",
    "data = {'Customer ID': [1, 2, 3, 4, 5, 6, 7, 8, 9, 10],\n",
    "        'Items Bought': [3, 5, 8, 2, 9, 4, 7, 5, 3, 6]}\n",
    "df = pd.DataFrame(data)\n",
    "\n",
    "# Descriptive Statistics\n",
    "mean = df['Items Bought'].mean()\n",
    "median = df['Items Bought'].median()\n",
    "mode = df['Items Bought'].mode()[0]\n",
    "range_val = df['Items Bought'].max() - df['Items Bought'].min()\n",
    "variance = df['Items Bought'].var()\n",
    "std_dev = df['Items Bought'].std()\n",
    "percentiles = np.percentile(df['Items Bought'], [25, 50, 75])\n",
    "\n",
    "print(f\"Mean: {mean}\")\n",
    "print(f\"Median: {median}\")\n",
    "print(f\"Mode: {mode}\")\n",
    "print(f\"Range: {range_val}\")\n",
    "print(f\"Variance: {variance}\")\n",
    "print(f\"Standard Deviation: {std_dev}\")\n",
    "print(f\"Percentiles (25th, 50th, 75th): {percentiles}\")\n"
   ]
  },
  {
   "cell_type": "code",
   "execution_count": null,
   "id": "33b6ff22-4fa7-4156-b215-cef48eda935f",
   "metadata": {},
   "outputs": [],
   "source": []
  }
 ],
 "metadata": {
  "kernelspec": {
   "display_name": "Python 3 (ipykernel)",
   "language": "python",
   "name": "python3"
  },
  "language_info": {
   "codemirror_mode": {
    "name": "ipython",
    "version": 3
   },
   "file_extension": ".py",
   "mimetype": "text/x-python",
   "name": "python",
   "nbconvert_exporter": "python",
   "pygments_lexer": "ipython3",
   "version": "3.12.4"
  }
 },
 "nbformat": 4,
 "nbformat_minor": 5
}
