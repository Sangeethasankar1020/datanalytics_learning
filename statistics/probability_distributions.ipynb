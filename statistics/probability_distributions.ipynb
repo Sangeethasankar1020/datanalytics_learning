{
 "cells": [
  {
   "cell_type": "markdown",
   "id": "4ed12aaf-edfd-4abe-814f-885093a43189",
   "metadata": {},
   "source": [
    "# Probality and Distribution"
   ]
  },
  {
   "cell_type": "markdown",
   "id": "0a081e2a-fce9-459f-b606-0181bd0e1b87",
   "metadata": {},
   "source": [
    "probablity - possible chances , for example heights of person in tamilnadu , if check randomly 5 person itw wont make sense , if we check 500 peoples we can find distibution like the h eights distributed. "
   ]
  },
  {
   "cell_type": "markdown",
   "id": "d77d7475-2da3-4fa1-a89d-3f91746f3bfb",
   "metadata": {},
   "source": [
    "**Normal Distribution**\n",
    "curve plot "
   ]
  },
  {
   "cell_type": "markdown",
   "id": "cf484540-6e2e-4d92-9311-68e75a57d8b6",
   "metadata": {},
   "source": [
    "**Bernouli** - how many chances to get 6 if we dice."
   ]
  },
  {
   "cell_type": "code",
   "execution_count": null,
   "id": "85d6d861-85e1-4f8b-a92d-06e6a6cf98f7",
   "metadata": {},
   "outputs": [],
   "source": []
  }
 ],
 "metadata": {
  "kernelspec": {
   "display_name": "Python 3 (ipykernel)",
   "language": "python",
   "name": "python3"
  },
  "language_info": {
   "codemirror_mode": {
    "name": "ipython",
    "version": 3
   },
   "file_extension": ".py",
   "mimetype": "text/x-python",
   "name": "python",
   "nbconvert_exporter": "python",
   "pygments_lexer": "ipython3",
   "version": "3.12.4"
  }
 },
 "nbformat": 4,
 "nbformat_minor": 5
}
