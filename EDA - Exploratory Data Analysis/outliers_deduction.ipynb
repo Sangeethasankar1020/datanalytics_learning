{
 "cells": [
  {
   "cell_type": "markdown",
   "id": "b9c320c0-b1dd-4abf-b808-292a45306a31",
   "metadata": {},
   "source": [
    "# Outliers deduction and Treatment "
   ]
  },
  {
   "cell_type": "markdown",
   "id": "8eeec65d-81ed-473e-ad05-882f03921f6f",
   "metadata": {},
   "source": [
    "Outlier deduction and treatment are critical steps in Exploratory Data Analysis (EDA) to ensure the data used for analysis or model building is accurate and reliable. Outliers can skew results, affect predictions, and distort patterns in the data. Here's a step-by-step approach to identifying and treating outliers from a data analyst's perspective using real-time data."
   ]
  },
  {
   "cell_type": "markdown",
   "id": "be7dee04-cd01-4aad-8fc6-fce418e4aa8a",
   "metadata": {},
   "source": [
    "Understanding\n",
    "\n",
    "An outlier is an observation that lies an abnormal distance from other values in a dataset. Outliers can occur due to variability in the data or errors.\n",
    "\n",
    "Types of Outliers:\n",
    " - Univariate outliers: Outliers in one variable.\n",
    " - Multivariate outliers: Outliers in multiple variables.\n",
    " - Contextual outliers: Values that are only outliers in specific contexts."
   ]
  },
  {
   "cell_type": "code",
   "execution_count": 5,
   "id": "9fa88104-06aa-4e9c-b8e5-fc4dc3eb4b0d",
   "metadata": {},
   "outputs": [],
   "source": [
    "import pandas as pd\n",
    "import numpy as np\n",
    "import matplotlib.pyplot as plt\n",
    "import seaborn as sns\n",
    "\n",
    "# Load a sample dataset, for example, the Titanic dataset\n",
    "data = sns.load_dataset('titanic')\n"
   ]
  },
  {
   "cell_type": "code",
   "execution_count": null,
   "id": "68385a65-ecab-4659-bc04-da83d2b3b1c5",
   "metadata": {},
   "outputs": [],
   "source": []
  }
 ],
 "metadata": {
  "kernelspec": {
   "display_name": "Python 3 (ipykernel)",
   "language": "python",
   "name": "python3"
  },
  "language_info": {
   "codemirror_mode": {
    "name": "ipython",
    "version": 3
   },
   "file_extension": ".py",
   "mimetype": "text/x-python",
   "name": "python",
   "nbconvert_exporter": "python",
   "pygments_lexer": "ipython3",
   "version": "3.12.4"
  }
 },
 "nbformat": 4,
 "nbformat_minor": 5
}
