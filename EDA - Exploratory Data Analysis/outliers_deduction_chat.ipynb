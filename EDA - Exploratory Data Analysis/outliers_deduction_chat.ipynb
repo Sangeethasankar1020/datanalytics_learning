{
 "cells": [
  {
   "cell_type": "markdown",
   "id": "b9c320c0-b1dd-4abf-b808-292a45306a31",
   "metadata": {},
   "source": [
    "# Outliers deduction and Treatment "
   ]
  },
  {
   "cell_type": "markdown",
   "id": "8eeec65d-81ed-473e-ad05-882f03921f6f",
   "metadata": {},
   "source": [
    "Outlier deduction and treatment are critical steps in Exploratory Data Analysis (EDA) to ensure the data used for analysis or model building is accurate and reliable. Outliers can skew results, affect predictions, and distort patterns in the data. Here's a step-by-step approach to identifying and treating outliers from a data analyst's perspective using real-time data."
   ]
  },
  {
   "cell_type": "markdown",
   "id": "be7dee04-cd01-4aad-8fc6-fce418e4aa8a",
   "metadata": {},
   "source": [
    "Understanding\n",
    "\n",
    "An outlier is an observation that lies an abnormal distance from other values in a dataset. Outliers can occur due to variability in the data or errors.\n",
    "\n",
    "Types of Outliers:\n",
    " - Univariate outliers: Outliers in one variable.\n",
    " - Multivariate outliers: Outliers in multiple variables.\n",
    " - Contextual outliers: Values that are only outliers in specific contexts."
   ]
  },
  {
   "cell_type": "code",
   "execution_count": 1,
   "id": "9fa88104-06aa-4e9c-b8e5-fc4dc3eb4b0d",
   "metadata": {},
   "outputs": [],
   "source": [
    "import pandas as pd\n",
    "import numpy as np\n",
    "import matplotlib.pyplot as plt\n",
    "import seaborn as sns\n",
    "\n",
    "# Load a sample dataset, for example, the Titanic dataset\n",
    "data = sns.load_dataset('titanic')\n"
   ]
  },
  {
   "cell_type": "code",
   "execution_count": 2,
   "id": "68385a65-ecab-4659-bc04-da83d2b3b1c5",
   "metadata": {},
   "outputs": [
    {
     "data": {
      "text/html": [
       "<div>\n",
       "<style scoped>\n",
       "    .dataframe tbody tr th:only-of-type {\n",
       "        vertical-align: middle;\n",
       "    }\n",
       "\n",
       "    .dataframe tbody tr th {\n",
       "        vertical-align: top;\n",
       "    }\n",
       "\n",
       "    .dataframe thead th {\n",
       "        text-align: right;\n",
       "    }\n",
       "</style>\n",
       "<table border=\"1\" class=\"dataframe\">\n",
       "  <thead>\n",
       "    <tr style=\"text-align: right;\">\n",
       "      <th></th>\n",
       "      <th>survived</th>\n",
       "      <th>pclass</th>\n",
       "      <th>sex</th>\n",
       "      <th>age</th>\n",
       "      <th>sibsp</th>\n",
       "      <th>parch</th>\n",
       "      <th>fare</th>\n",
       "      <th>embarked</th>\n",
       "      <th>class</th>\n",
       "      <th>who</th>\n",
       "      <th>adult_male</th>\n",
       "      <th>deck</th>\n",
       "      <th>embark_town</th>\n",
       "      <th>alive</th>\n",
       "      <th>alone</th>\n",
       "    </tr>\n",
       "  </thead>\n",
       "  <tbody>\n",
       "    <tr>\n",
       "      <th>0</th>\n",
       "      <td>0</td>\n",
       "      <td>3</td>\n",
       "      <td>male</td>\n",
       "      <td>22.0</td>\n",
       "      <td>1</td>\n",
       "      <td>0</td>\n",
       "      <td>7.2500</td>\n",
       "      <td>S</td>\n",
       "      <td>Third</td>\n",
       "      <td>man</td>\n",
       "      <td>True</td>\n",
       "      <td>NaN</td>\n",
       "      <td>Southampton</td>\n",
       "      <td>no</td>\n",
       "      <td>False</td>\n",
       "    </tr>\n",
       "    <tr>\n",
       "      <th>1</th>\n",
       "      <td>1</td>\n",
       "      <td>1</td>\n",
       "      <td>female</td>\n",
       "      <td>38.0</td>\n",
       "      <td>1</td>\n",
       "      <td>0</td>\n",
       "      <td>71.2833</td>\n",
       "      <td>C</td>\n",
       "      <td>First</td>\n",
       "      <td>woman</td>\n",
       "      <td>False</td>\n",
       "      <td>C</td>\n",
       "      <td>Cherbourg</td>\n",
       "      <td>yes</td>\n",
       "      <td>False</td>\n",
       "    </tr>\n",
       "    <tr>\n",
       "      <th>2</th>\n",
       "      <td>1</td>\n",
       "      <td>3</td>\n",
       "      <td>female</td>\n",
       "      <td>26.0</td>\n",
       "      <td>0</td>\n",
       "      <td>0</td>\n",
       "      <td>7.9250</td>\n",
       "      <td>S</td>\n",
       "      <td>Third</td>\n",
       "      <td>woman</td>\n",
       "      <td>False</td>\n",
       "      <td>NaN</td>\n",
       "      <td>Southampton</td>\n",
       "      <td>yes</td>\n",
       "      <td>True</td>\n",
       "    </tr>\n",
       "    <tr>\n",
       "      <th>3</th>\n",
       "      <td>1</td>\n",
       "      <td>1</td>\n",
       "      <td>female</td>\n",
       "      <td>35.0</td>\n",
       "      <td>1</td>\n",
       "      <td>0</td>\n",
       "      <td>53.1000</td>\n",
       "      <td>S</td>\n",
       "      <td>First</td>\n",
       "      <td>woman</td>\n",
       "      <td>False</td>\n",
       "      <td>C</td>\n",
       "      <td>Southampton</td>\n",
       "      <td>yes</td>\n",
       "      <td>False</td>\n",
       "    </tr>\n",
       "    <tr>\n",
       "      <th>4</th>\n",
       "      <td>0</td>\n",
       "      <td>3</td>\n",
       "      <td>male</td>\n",
       "      <td>35.0</td>\n",
       "      <td>0</td>\n",
       "      <td>0</td>\n",
       "      <td>8.0500</td>\n",
       "      <td>S</td>\n",
       "      <td>Third</td>\n",
       "      <td>man</td>\n",
       "      <td>True</td>\n",
       "      <td>NaN</td>\n",
       "      <td>Southampton</td>\n",
       "      <td>no</td>\n",
       "      <td>True</td>\n",
       "    </tr>\n",
       "    <tr>\n",
       "      <th>...</th>\n",
       "      <td>...</td>\n",
       "      <td>...</td>\n",
       "      <td>...</td>\n",
       "      <td>...</td>\n",
       "      <td>...</td>\n",
       "      <td>...</td>\n",
       "      <td>...</td>\n",
       "      <td>...</td>\n",
       "      <td>...</td>\n",
       "      <td>...</td>\n",
       "      <td>...</td>\n",
       "      <td>...</td>\n",
       "      <td>...</td>\n",
       "      <td>...</td>\n",
       "      <td>...</td>\n",
       "    </tr>\n",
       "    <tr>\n",
       "      <th>886</th>\n",
       "      <td>0</td>\n",
       "      <td>2</td>\n",
       "      <td>male</td>\n",
       "      <td>27.0</td>\n",
       "      <td>0</td>\n",
       "      <td>0</td>\n",
       "      <td>13.0000</td>\n",
       "      <td>S</td>\n",
       "      <td>Second</td>\n",
       "      <td>man</td>\n",
       "      <td>True</td>\n",
       "      <td>NaN</td>\n",
       "      <td>Southampton</td>\n",
       "      <td>no</td>\n",
       "      <td>True</td>\n",
       "    </tr>\n",
       "    <tr>\n",
       "      <th>887</th>\n",
       "      <td>1</td>\n",
       "      <td>1</td>\n",
       "      <td>female</td>\n",
       "      <td>19.0</td>\n",
       "      <td>0</td>\n",
       "      <td>0</td>\n",
       "      <td>30.0000</td>\n",
       "      <td>S</td>\n",
       "      <td>First</td>\n",
       "      <td>woman</td>\n",
       "      <td>False</td>\n",
       "      <td>B</td>\n",
       "      <td>Southampton</td>\n",
       "      <td>yes</td>\n",
       "      <td>True</td>\n",
       "    </tr>\n",
       "    <tr>\n",
       "      <th>888</th>\n",
       "      <td>0</td>\n",
       "      <td>3</td>\n",
       "      <td>female</td>\n",
       "      <td>NaN</td>\n",
       "      <td>1</td>\n",
       "      <td>2</td>\n",
       "      <td>23.4500</td>\n",
       "      <td>S</td>\n",
       "      <td>Third</td>\n",
       "      <td>woman</td>\n",
       "      <td>False</td>\n",
       "      <td>NaN</td>\n",
       "      <td>Southampton</td>\n",
       "      <td>no</td>\n",
       "      <td>False</td>\n",
       "    </tr>\n",
       "    <tr>\n",
       "      <th>889</th>\n",
       "      <td>1</td>\n",
       "      <td>1</td>\n",
       "      <td>male</td>\n",
       "      <td>26.0</td>\n",
       "      <td>0</td>\n",
       "      <td>0</td>\n",
       "      <td>30.0000</td>\n",
       "      <td>C</td>\n",
       "      <td>First</td>\n",
       "      <td>man</td>\n",
       "      <td>True</td>\n",
       "      <td>C</td>\n",
       "      <td>Cherbourg</td>\n",
       "      <td>yes</td>\n",
       "      <td>True</td>\n",
       "    </tr>\n",
       "    <tr>\n",
       "      <th>890</th>\n",
       "      <td>0</td>\n",
       "      <td>3</td>\n",
       "      <td>male</td>\n",
       "      <td>32.0</td>\n",
       "      <td>0</td>\n",
       "      <td>0</td>\n",
       "      <td>7.7500</td>\n",
       "      <td>Q</td>\n",
       "      <td>Third</td>\n",
       "      <td>man</td>\n",
       "      <td>True</td>\n",
       "      <td>NaN</td>\n",
       "      <td>Queenstown</td>\n",
       "      <td>no</td>\n",
       "      <td>True</td>\n",
       "    </tr>\n",
       "  </tbody>\n",
       "</table>\n",
       "<p>891 rows × 15 columns</p>\n",
       "</div>"
      ],
      "text/plain": [
       "     survived  pclass     sex   age  sibsp  parch     fare embarked   class  \\\n",
       "0           0       3    male  22.0      1      0   7.2500        S   Third   \n",
       "1           1       1  female  38.0      1      0  71.2833        C   First   \n",
       "2           1       3  female  26.0      0      0   7.9250        S   Third   \n",
       "3           1       1  female  35.0      1      0  53.1000        S   First   \n",
       "4           0       3    male  35.0      0      0   8.0500        S   Third   \n",
       "..        ...     ...     ...   ...    ...    ...      ...      ...     ...   \n",
       "886         0       2    male  27.0      0      0  13.0000        S  Second   \n",
       "887         1       1  female  19.0      0      0  30.0000        S   First   \n",
       "888         0       3  female   NaN      1      2  23.4500        S   Third   \n",
       "889         1       1    male  26.0      0      0  30.0000        C   First   \n",
       "890         0       3    male  32.0      0      0   7.7500        Q   Third   \n",
       "\n",
       "       who  adult_male deck  embark_town alive  alone  \n",
       "0      man        True  NaN  Southampton    no  False  \n",
       "1    woman       False    C    Cherbourg   yes  False  \n",
       "2    woman       False  NaN  Southampton   yes   True  \n",
       "3    woman       False    C  Southampton   yes  False  \n",
       "4      man        True  NaN  Southampton    no   True  \n",
       "..     ...         ...  ...          ...   ...    ...  \n",
       "886    man        True  NaN  Southampton    no   True  \n",
       "887  woman       False    B  Southampton   yes   True  \n",
       "888  woman       False  NaN  Southampton    no  False  \n",
       "889    man        True    C    Cherbourg   yes   True  \n",
       "890    man        True  NaN   Queenstown    no   True  \n",
       "\n",
       "[891 rows x 15 columns]"
      ]
     },
     "execution_count": 2,
     "metadata": {},
     "output_type": "execute_result"
    }
   ],
   "source": [
    "data"
   ]
  },
  {
   "cell_type": "code",
   "execution_count": 3,
   "id": "eea6e15f-b503-44b5-b61a-d02093ec9dcb",
   "metadata": {},
   "outputs": [],
   "source": [
    "#visulaizing"
   ]
  },
  {
   "cell_type": "code",
   "execution_count": 4,
   "id": "d31d62c2-cb7b-4f6c-b69d-8be6a9414da4",
   "metadata": {},
   "outputs": [
    {
     "data": {
      "image/png": "[encoded data removed]",
      "text/plain": [
       "<Figure size 800x500 with 1 Axes>"
      ]
     },
     "metadata": {},
     "output_type": "display_data"
    }
   ],
   "source": [
    "# Plotting a boxplot for age to identify outliers\n",
    "plt.figure(figsize=(8, 5))\n",
    "sns.boxplot(x=data['age'])\n",
    "plt.title(\"Age Distribution with Outliers\")\n",
    "plt.show()\n"
   ]
  },
  {
   "cell_type": "code",
   "execution_count": 5,
   "id": "554b5c99-7331-4b6e-8a08-35bfbcc8e176",
   "metadata": {},
   "outputs": [],
   "source": [
    "#detecting outliers"
   ]
  },
  {
   "cell_type": "code",
   "execution_count": 6,
   "id": "848ed200-9831-447b-96eb-47fb12117bb9",
   "metadata": {},
   "outputs": [],
   "source": [
    "#using IQR (Interquarti"
   ]
  },
  {
   "cell_type": "markdown",
   "id": "08e3eaf7-040a-49b2-a18b-18fdb03a185c",
   "metadata": {},
   "source": [
    "IQR = Q3 - Q1"
   ]
  },
  {
   "cell_type": "markdown",
   "id": "99f65f87-0c9d-4a81-91ad-b42693c283b9",
   "metadata": {},
   "source": [
    "Outliers are typically defined as values that are below Q1 - 1.5 * IQR or above Q3 + 1.5 * IQR."
   ]
  },
  {
   "cell_type": "code",
   "execution_count": 36,
   "id": "46a2c98f-21b4-4211-b00d-2fdc202a1886",
   "metadata": {},
   "outputs": [
    {
     "name": "stdout",
     "output_type": "stream",
     "text": [
      "Number of outliers in 'age': 4\n"
     ]
    }
   ],
   "source": [
    "Q1 = data['age'].quantile(0.25)\n",
    "Q3 = data['age'].quantile(0.75) \n",
    "IQR = Q3 - Q1\n",
    "\n",
    "# Define bounds for outliers\n",
    "lower_bound = Q1 - 1.5 * IQR\n",
    "upper_bound = Q3 + 1.5 * IQR\n",
    "\n",
    "# Detecting outliers\n",
    "outliers = data[(data['age'] < lower_bound) | (data['age'] > upper_bound)]\n",
    "print(f\"Number of outliers in 'age': {len(outliers)}\")\n"
   ]
  },
  {
   "cell_type": "code",
   "execution_count": 38,
   "id": "b95b6062-79d9-4320-8afb-7afdde2034d7",
   "metadata": {},
   "outputs": [],
   "source": [
    "#handling"
   ]
  },
  {
   "cell_type": "code",
   "execution_count": 40,
   "id": "528e4b3a-a6c6-4af7-927f-667f2c2d097c",
   "metadata": {},
   "outputs": [],
   "source": [
    "#option 1"
   ]
  },
  {
   "cell_type": "markdown",
   "id": "7b89c81d-fee4-4e90-9e91-10a1ac34776a",
   "metadata": {},
   "source": [
    " Removing Outliers"
   ]
  },
  {
   "cell_type": "code",
   "execution_count": 43,
   "id": "aad2b095-5ebc-406d-8229-96775f92b870",
   "metadata": {},
   "outputs": [],
   "source": [
    "# Remove outliers\n",
    "data_clean = data[(data['age'] >= lower_bound) & (data['age'] <= upper_bound)]\n"
   ]
  },
  {
   "cell_type": "code",
   "execution_count": 45,
   "id": "4d2bfe7d-cf9a-4b9d-bf19-cc520eaa3d41",
   "metadata": {},
   "outputs": [],
   "source": [
    "#Option 2: Imputing Outliers\n"
   ]
  },
  {
   "cell_type": "markdown",
   "id": "e678b72f-0eb3-485a-95a1-c3b0bda18450",
   "metadata": {},
   "source": [
    "Instead of removing, replace outliers with statistical values such as the mean or median."
   ]
  },
  {
   "cell_type": "code",
   "execution_count": 48,
   "id": "5a054986-06aa-4132-b057-c074b74e2f3c",
   "metadata": {},
   "outputs": [],
   "source": [
    "# Impute outliers with the median\n",
    "median_age = data['age'].median()\n",
    "data['age'] = np.where((data['age'] < lower_bound) | (data['age'] > upper_bound), median_age, data['age'])\n"
   ]
  },
  {
   "cell_type": "code",
   "execution_count": 32,
   "id": "c88389ce-5425-461d-9bce-21ce0b234096",
   "metadata": {},
   "outputs": [],
   "source": [
    "#Option 3: Capping Outliers"
   ]
  },
  {
   "cell_type": "markdown",
   "id": "ea710ec9-db3d-42be-9207-7cb731739a88",
   "metadata": {},
   "source": [
    "Replace outliers with threshold values (the nearest boundary).\n"
   ]
  },
  {
   "cell_type": "code",
   "execution_count": 53,
   "id": "a9f26fd7-c22b-456a-b7fe-148d76668a1c",
   "metadata": {},
   "outputs": [],
   "source": [
    "# Cap outliers to the boundary values\n",
    "data['age'] = np.where(data['age'] < lower_bound, lower_bound, data['age'])\n",
    "data['age'] = np.where(data['age'] > upper_bound, upper_bound, data['age'])\n"
   ]
  },
  {
   "cell_type": "code",
   "execution_count": 55,
   "id": "d8941ff1-118b-458b-b85a-4bb36251b44a",
   "metadata": {},
   "outputs": [],
   "source": [
    "#Step 6: Rechecking the Data After Treatment\n"
   ]
  },
  {
   "cell_type": "markdown",
   "id": "7808d4be-9dae-4b86-b3f4-4c1a122abebb",
   "metadata": {},
   "source": [
    "Recheck the data distribution and ensure the outliers have been treated."
   ]
  },
  {
   "cell_type": "code",
   "execution_count": 58,
   "id": "92531bae-976c-445f-87aa-51701a56a0a0",
   "metadata": {},
   "outputs": [
    {
     "data": {
      "image/png": "[encoded data removed]",
      "text/plain": [
       "<Figure size 800x500 with 1 Axes>"
      ]
     },
     "metadata": {},
     "output_type": "display_data"
    }
   ],
   "source": [
    "# Plot after treatment\n",
    "plt.figure(figsize=(8, 5))\n",
    "sns.boxplot(x=data['age'])\n",
    "plt.title(\"Age Distribution After Outlier Treatment\")\n",
    "plt.show()\n"
   ]
  },
  {
   "cell_type": "code",
   "execution_count": 60,
   "id": "e02d5752-28be-41a1-ac74-2931e2de5a94",
   "metadata": {},
   "outputs": [],
   "source": [
    "#Step 7: Documenting and Analyzing Impact\n"
   ]
  },
  {
   "cell_type": "markdown",
   "id": "74fa55b3-fed0-450c-a1f9-6d5b8894c462",
   "metadata": {},
   "source": [
    "After treatment, document how the removal or imputation of outliers has impacted your data:\n",
    "\n",
    "Check summary statistics: Compare mean, median, etc., before and after treatment.\n",
    "Impact on model performance: Outliers can affect regression or classification models."
   ]
  },
  {
   "cell_type": "code",
   "execution_count": 68,
   "id": "b1ddc7f8-74d6-4cc8-a516-c9477b4380cb",
   "metadata": {},
   "outputs": [
    {
     "name": "stdout",
     "output_type": "stream",
     "text": [
      "Before treatment:\n",
      "count    714.000000\n",
      "mean      28.856681\n",
      "std       13.374983\n",
      "min        0.420000\n",
      "25%       20.125000\n",
      "50%       28.000000\n",
      "75%       36.875000\n",
      "max       62.000000\n",
      "Name: age, dtype: float64\n",
      "After treatment:\n",
      "count    710.000000\n",
      "mean      28.861507\n",
      "std       13.412504\n",
      "min        0.420000\n",
      "25%       20.000000\n",
      "50%       28.000000\n",
      "75%       37.000000\n",
      "max       62.000000\n",
      "Name: age, dtype: float64\n"
     ]
    }
   ],
   "source": [
    "# Check summary statistics before and after treatment\n",
    "print(\"Before treatment:\")\n",
    "print(data['age'].describe())\n",
    "\n",
    "print(\"After treatment:\")\n",
    "print(data_clean['age'].describe())\n"
   ]
  },
  {
   "cell_type": "code",
   "execution_count": null,
   "id": "c1590e45-a148-4524-8704-ff6fdff9b411",
   "metadata": {},
   "outputs": [],
   "source": []
  },
  {
   "cell_type": "code",
   "execution_count": null,
   "id": "b47bf19a-6d21-47b1-b685-73a4c472b95a",
   "metadata": {},
   "outputs": [],
   "source": []
  },
  {
   "cell_type": "code",
   "execution_count": null,
   "id": "165ed11c-c43d-4cea-8052-f1ac17086258",
   "metadata": {},
   "outputs": [],
   "source": []
  },
  {
   "cell_type": "code",
   "execution_count": null,
   "id": "91a4e0f1-4b65-406d-aaca-b60508de59c0",
   "metadata": {},
   "outputs": [],
   "source": []
  },
  {
   "cell_type": "code",
   "execution_count": null,
   "id": "875c0526-44bb-4713-b00f-9022f2a1ccac",
   "metadata": {},
   "outputs": [],
   "source": []
  },
  {
   "cell_type": "code",
   "execution_count": null,
   "id": "6ba0f98a-098d-4eff-ba58-d4b3b981a58f",
   "metadata": {},
   "outputs": [],
   "source": []
  },
  {
   "cell_type": "code",
   "execution_count": null,
   "id": "7f39e9dc-7f31-42dc-ae0c-afd0dd7c2aca",
   "metadata": {},
   "outputs": [],
   "source": []
  },
  {
   "cell_type": "code",
   "execution_count": null,
   "id": "75881cf1-4183-4248-a418-21e49967ab32",
   "metadata": {},
   "outputs": [],
   "source": []
  },
  {
   "cell_type": "code",
   "execution_count": null,
   "id": "cbec33bd-5342-4254-9b96-37889e2a92d2",
   "metadata": {},
   "outputs": [],
   "source": []
  },
  {
   "cell_type": "code",
   "execution_count": null,
   "id": "d5aa6f2a-1500-433f-a8fd-0cedd91bd3de",
   "metadata": {},
   "outputs": [],
   "source": []
  },
  {
   "cell_type": "code",
   "execution_count": null,
   "id": "4b58eddc-a12f-41bc-8948-837f62fc8305",
   "metadata": {},
   "outputs": [],
   "source": []
  },
  {
   "cell_type": "code",
   "execution_count": null,
   "id": "9b5e1e15-d67e-47c0-b577-aa8fd659784a",
   "metadata": {},
   "outputs": [],
   "source": []
  },
  {
   "cell_type": "code",
   "execution_count": null,
   "id": "b7eef850-ed3e-42f8-8fae-23eb29e0fdf5",
   "metadata": {},
   "outputs": [],
   "source": []
  },
  {
   "cell_type": "code",
   "execution_count": null,
   "id": "896cf915-06e7-4b25-89c1-c7e3fa530ef1",
   "metadata": {},
   "outputs": [],
   "source": []
  },
  {
   "cell_type": "code",
   "execution_count": null,
   "id": "380b6f83-3eab-4151-a430-fcf4c1d6eaa5",
   "metadata": {},
   "outputs": [],
   "source": []
  },
  {
   "cell_type": "code",
   "execution_count": null,
   "id": "a1a319a2-1136-4e3f-95be-d12673d2203d",
   "metadata": {},
   "outputs": [],
   "source": []
  },
  {
   "cell_type": "code",
   "execution_count": null,
   "id": "fd459f9a-26bd-4489-9c05-f50fdde80ba1",
   "metadata": {},
   "outputs": [],
   "source": []
  },
  {
   "cell_type": "code",
   "execution_count": null,
   "id": "9490ebd8-69ef-4fbf-860b-c9fa57df6f28",
   "metadata": {},
   "outputs": [],
   "source": []
  },
  {
   "cell_type": "code",
   "execution_count": null,
   "id": "faf39fbe-7b1a-489e-a4e2-53f00c27e147",
   "metadata": {},
   "outputs": [],
   "source": []
  },
  {
   "cell_type": "code",
   "execution_count": null,
   "id": "b97abf66-9b68-463b-890d-e05831f414b1",
   "metadata": {},
   "outputs": [],
   "source": []
  },
  {
   "cell_type": "code",
   "execution_count": null,
   "id": "830e8462-be58-4d9b-8f22-cde751955779",
   "metadata": {},
   "outputs": [],
   "source": []
  }
 ],
 "metadata": {
  "kernelspec": {
   "display_name": "Python 3 (ipykernel)",
   "language": "python",
   "name": "python3"
  },
  "language_info": {
   "codemirror_mode": {
    "name": "ipython",
    "version": 3
   },
   "file_extension": ".py",
   "mimetype": "text/x-python",
   "name": "python",
   "nbconvert_exporter": "python",
   "pygments_lexer": "ipython3",
   "version": "3.12.4"
  }
 },
 "nbformat": 4,
 "nbformat_minor": 5
}
