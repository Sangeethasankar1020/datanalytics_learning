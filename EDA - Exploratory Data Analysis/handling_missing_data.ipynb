{
 "cells": [
  {
   "cell_type": "code",
   "execution_count": 2,
   "id": "85ac5a8c-b83a-4c83-8e40-55d9b550a5aa",
   "metadata": {},
   "outputs": [],
   "source": [
    "#identity  missing value"
   ]
  },
  {
   "cell_type": "code",
   "execution_count": 5,
   "id": "896e6e96-e935-4e04-bb29-063f1737ba8f",
   "metadata": {},
   "outputs": [],
   "source": [
    "import pandas as pd"
   ]
  },
  {
   "cell_type": "code",
   "execution_count": 7,
   "id": "5dceb11b-0fb2-46bb-bf57-472958db388a",
   "metadata": {},
   "outputs": [],
   "source": [
    "data = {\n",
    "    'CustomerID': [1, 2, 3, 4, 5, 6, 7],\n",
    "    'Name': ['Alice', 'Bob', 'Charlie', 'David', 'Eve', 'Frank', 'Grace'],\n",
    "    'Age': [28, None, 35, 40, 29, 33, None],\n",
    "    'Email': ['alice@example.com', 'bob@example.com', None, 'david@example.com', 'eve@example.com', 'frank@example.com', 'grace@example.com'],\n",
    "    'PurchaseAmount': [150.00, 200.00, None, 300.00, 100.00, 250.00, 75.00],\n",
    "    'JoinDate': ['2021-01-15', '2021-02-20', '2021-03-10', '2021-04-05', None, '2021-06-20', '2021-07-15']\n",
    "}"
   ]
  },
  {
   "cell_type": "code",
   "execution_count": 9,
   "id": "606aa758-0e26-4c72-8783-271c95519428",
   "metadata": {},
   "outputs": [],
   "source": [
    "df=pd.DataFrame(data)"
   ]
  },
  {
   "cell_type": "code",
   "execution_count": 11,
   "id": "77a1ef1c-3d6f-48d1-9c67-9df8bdb9f2cc",
   "metadata": {},
   "outputs": [
    {
     "data": {
      "text/plain": [
       "CustomerID        0\n",
       "Name              0\n",
       "Age               2\n",
       "Email             1\n",
       "PurchaseAmount    1\n",
       "JoinDate          1\n",
       "dtype: int64"
      ]
     },
     "execution_count": 11,
     "metadata": {},
     "output_type": "execute_result"
    }
   ],
   "source": [
    "#missing values\n",
    "df.isnull().sum()"
   ]
  },
  {
   "cell_type": "code",
   "execution_count": 13,
   "id": "e5de228f-0f04-4179-ba1a-ec0edd3bdc2d",
   "metadata": {},
   "outputs": [
    {
     "data": {
      "text/html": [
       "<div>\n",
       "<style scoped>\n",
       "    .dataframe tbody tr th:only-of-type {\n",
       "        vertical-align: middle;\n",
       "    }\n",
       "\n",
       "    .dataframe tbody tr th {\n",
       "        vertical-align: top;\n",
       "    }\n",
       "\n",
       "    .dataframe thead th {\n",
       "        text-align: right;\n",
       "    }\n",
       "</style>\n",
       "<table border=\"1\" class=\"dataframe\">\n",
       "  <thead>\n",
       "    <tr style=\"text-align: right;\">\n",
       "      <th></th>\n",
       "      <th>CustomerID</th>\n",
       "      <th>Name</th>\n",
       "      <th>Age</th>\n",
       "      <th>Email</th>\n",
       "      <th>PurchaseAmount</th>\n",
       "      <th>JoinDate</th>\n",
       "    </tr>\n",
       "  </thead>\n",
       "  <tbody>\n",
       "    <tr>\n",
       "      <th>0</th>\n",
       "      <td>1</td>\n",
       "      <td>Alice</td>\n",
       "      <td>28.0</td>\n",
       "      <td>alice@example.com</td>\n",
       "      <td>150.0</td>\n",
       "      <td>2021-01-15</td>\n",
       "    </tr>\n",
       "    <tr>\n",
       "      <th>3</th>\n",
       "      <td>4</td>\n",
       "      <td>David</td>\n",
       "      <td>40.0</td>\n",
       "      <td>david@example.com</td>\n",
       "      <td>300.0</td>\n",
       "      <td>2021-04-05</td>\n",
       "    </tr>\n",
       "    <tr>\n",
       "      <th>5</th>\n",
       "      <td>6</td>\n",
       "      <td>Frank</td>\n",
       "      <td>33.0</td>\n",
       "      <td>frank@example.com</td>\n",
       "      <td>250.0</td>\n",
       "      <td>2021-06-20</td>\n",
       "    </tr>\n",
       "  </tbody>\n",
       "</table>\n",
       "</div>"
      ],
      "text/plain": [
       "   CustomerID   Name   Age              Email  PurchaseAmount    JoinDate\n",
       "0           1  Alice  28.0  alice@example.com           150.0  2021-01-15\n",
       "3           4  David  40.0  david@example.com           300.0  2021-04-05\n",
       "5           6  Frank  33.0  frank@example.com           250.0  2021-06-20"
      ]
     },
     "execution_count": 13,
     "metadata": {},
     "output_type": "execute_result"
    }
   ],
   "source": [
    "#remove \n",
    "df.dropna()"
   ]
  },
  {
   "cell_type": "code",
   "execution_count": 17,
   "id": "fbb83c0d-2a92-4203-85ef-a0c14ebd9b49",
   "metadata": {},
   "outputs": [],
   "source": [
    "#filling missing values"
   ]
  },
  {
   "cell_type": "code",
   "execution_count": 19,
   "id": "203a46b2-ad01-469c-93ab-5dd3b6834999",
   "metadata": {},
   "outputs": [
    {
     "name": "stderr",
     "output_type": "stream",
     "text": [
      "C:\\Users\\DELL 4\\AppData\\Local\\Temp\\ipykernel_5980\\2369823338.py:2: FutureWarning: A value is trying to be set on a copy of a DataFrame or Series through chained assignment using an inplace method.\n",
      "The behavior will change in pandas 3.0. This inplace method will never work because the intermediate object on which we are setting values always behaves as a copy.\n",
      "\n",
      "For example, when doing 'df[col].method(value, inplace=True)', try using 'df.method({col: value}, inplace=True)' or df[col] = df[col].method(value) instead, to perform the operation inplace on the original object.\n",
      "\n",
      "\n",
      "  df['PurchaseAmount'].fillna(0, inplace=True)\n"
     ]
    }
   ],
   "source": [
    "#1 - constant\n",
    "df['PurchaseAmount'].fillna(0, inplace=True)\n"
   ]
  },
  {
   "cell_type": "code",
   "execution_count": 21,
   "id": "cc58fd5b-abb9-44cd-b1ff-4519a70e4596",
   "metadata": {},
   "outputs": [
    {
     "name": "stderr",
     "output_type": "stream",
     "text": [
      "C:\\Users\\DELL 4\\AppData\\Local\\Temp\\ipykernel_5980\\1624196204.py:2: FutureWarning: A value is trying to be set on a copy of a DataFrame or Series through chained assignment using an inplace method.\n",
      "The behavior will change in pandas 3.0. This inplace method will never work because the intermediate object on which we are setting values always behaves as a copy.\n",
      "\n",
      "For example, when doing 'df[col].method(value, inplace=True)', try using 'df.method({col: value}, inplace=True)' or df[col] = df[col].method(value) instead, to perform the operation inplace on the original object.\n",
      "\n",
      "\n",
      "  df['Age'].fillna(df['Age'].mean(), inplace=True)  # Use mean\n"
     ]
    }
   ],
   "source": [
    "#2 - mean , medium,mode\n",
    "df['Age'].fillna(df['Age'].mean(), inplace=True)  # Use mean\n"
   ]
  },
  {
   "cell_type": "code",
   "execution_count": 25,
   "id": "b60f9d27-47fb-410f-8500-b39848adb72a",
   "metadata": {},
   "outputs": [
    {
     "name": "stderr",
     "output_type": "stream",
     "text": [
      "C:\\Users\\DELL 4\\AppData\\Local\\Temp\\ipykernel_5980\\3524768156.py:2: FutureWarning: A value is trying to be set on a copy of a DataFrame or Series through chained assignment using an inplace method.\n",
      "The behavior will change in pandas 3.0. This inplace method will never work because the intermediate object on which we are setting values always behaves as a copy.\n",
      "\n",
      "For example, when doing 'df[col].method(value, inplace=True)', try using 'df.method({col: value}, inplace=True)' or df[col] = df[col].method(value) instead, to perform the operation inplace on the original object.\n",
      "\n",
      "\n",
      "  df['JoinDate'].fillna(method='ffill', inplace=True)  # Forward fill\n",
      "C:\\Users\\DELL 4\\AppData\\Local\\Temp\\ipykernel_5980\\3524768156.py:2: FutureWarning: Series.fillna with 'method' is deprecated and will raise in a future version. Use obj.ffill() or obj.bfill() instead.\n",
      "  df['JoinDate'].fillna(method='ffill', inplace=True)  # Forward fill\n"
     ]
    }
   ],
   "source": [
    "# 3- forward fill /backward fill\n",
    "df['JoinDate'].fillna(method='ffill', inplace=True)  # Forward fill\n"
   ]
  },
  {
   "cell_type": "code",
   "execution_count": 27,
   "id": "e16bf0cc-06a4-4bf1-a71c-abc68c45b824",
   "metadata": {},
   "outputs": [
    {
     "data": {
      "text/html": [
       "<div>\n",
       "<style scoped>\n",
       "    .dataframe tbody tr th:only-of-type {\n",
       "        vertical-align: middle;\n",
       "    }\n",
       "\n",
       "    .dataframe tbody tr th {\n",
       "        vertical-align: top;\n",
       "    }\n",
       "\n",
       "    .dataframe thead th {\n",
       "        text-align: right;\n",
       "    }\n",
       "</style>\n",
       "<table border=\"1\" class=\"dataframe\">\n",
       "  <thead>\n",
       "    <tr style=\"text-align: right;\">\n",
       "      <th></th>\n",
       "      <th>CustomerID</th>\n",
       "      <th>Name</th>\n",
       "      <th>Age</th>\n",
       "      <th>Email</th>\n",
       "      <th>PurchaseAmount</th>\n",
       "      <th>JoinDate</th>\n",
       "    </tr>\n",
       "  </thead>\n",
       "  <tbody>\n",
       "    <tr>\n",
       "      <th>0</th>\n",
       "      <td>1</td>\n",
       "      <td>Alice</td>\n",
       "      <td>28.0</td>\n",
       "      <td>alice@example.com</td>\n",
       "      <td>150.0</td>\n",
       "      <td>2021-01-15</td>\n",
       "    </tr>\n",
       "    <tr>\n",
       "      <th>1</th>\n",
       "      <td>2</td>\n",
       "      <td>Bob</td>\n",
       "      <td>33.0</td>\n",
       "      <td>bob@example.com</td>\n",
       "      <td>200.0</td>\n",
       "      <td>2021-02-20</td>\n",
       "    </tr>\n",
       "    <tr>\n",
       "      <th>2</th>\n",
       "      <td>3</td>\n",
       "      <td>Charlie</td>\n",
       "      <td>35.0</td>\n",
       "      <td>None</td>\n",
       "      <td>0.0</td>\n",
       "      <td>2021-03-10</td>\n",
       "    </tr>\n",
       "    <tr>\n",
       "      <th>3</th>\n",
       "      <td>4</td>\n",
       "      <td>David</td>\n",
       "      <td>40.0</td>\n",
       "      <td>david@example.com</td>\n",
       "      <td>300.0</td>\n",
       "      <td>2021-04-05</td>\n",
       "    </tr>\n",
       "    <tr>\n",
       "      <th>4</th>\n",
       "      <td>5</td>\n",
       "      <td>Eve</td>\n",
       "      <td>29.0</td>\n",
       "      <td>eve@example.com</td>\n",
       "      <td>100.0</td>\n",
       "      <td>2021-04-05</td>\n",
       "    </tr>\n",
       "    <tr>\n",
       "      <th>5</th>\n",
       "      <td>6</td>\n",
       "      <td>Frank</td>\n",
       "      <td>33.0</td>\n",
       "      <td>frank@example.com</td>\n",
       "      <td>250.0</td>\n",
       "      <td>2021-06-20</td>\n",
       "    </tr>\n",
       "    <tr>\n",
       "      <th>6</th>\n",
       "      <td>7</td>\n",
       "      <td>Grace</td>\n",
       "      <td>33.0</td>\n",
       "      <td>grace@example.com</td>\n",
       "      <td>75.0</td>\n",
       "      <td>2021-07-15</td>\n",
       "    </tr>\n",
       "  </tbody>\n",
       "</table>\n",
       "</div>"
      ],
      "text/plain": [
       "   CustomerID     Name   Age              Email  PurchaseAmount    JoinDate\n",
       "0           1    Alice  28.0  alice@example.com           150.0  2021-01-15\n",
       "1           2      Bob  33.0    bob@example.com           200.0  2021-02-20\n",
       "2           3  Charlie  35.0               None             0.0  2021-03-10\n",
       "3           4    David  40.0  david@example.com           300.0  2021-04-05\n",
       "4           5      Eve  29.0    eve@example.com           100.0  2021-04-05\n",
       "5           6    Frank  33.0  frank@example.com           250.0  2021-06-20\n",
       "6           7    Grace  33.0  grace@example.com            75.0  2021-07-15"
      ]
     },
     "execution_count": 27,
     "metadata": {},
     "output_type": "execute_result"
    }
   ],
   "source": [
    "df"
   ]
  },
  {
   "cell_type": "code",
   "execution_count": 29,
   "id": "a88757d9-41d0-431f-b5c8-11ef20160ec7",
   "metadata": {},
   "outputs": [],
   "source": [
    "#verifying the changes"
   ]
  },
  {
   "cell_type": "code",
   "execution_count": 31,
   "id": "07d92557-82ed-454d-bda2-f06d2cc5aae2",
   "metadata": {},
   "outputs": [
    {
     "data": {
      "text/plain": [
       "CustomerID        0\n",
       "Name              0\n",
       "Age               0\n",
       "Email             1\n",
       "PurchaseAmount    0\n",
       "JoinDate          0\n",
       "dtype: int64"
      ]
     },
     "execution_count": 31,
     "metadata": {},
     "output_type": "execute_result"
    }
   ],
   "source": [
    "df.isnull().sum()"
   ]
  },
  {
   "cell_type": "code",
   "execution_count": null,
   "id": "07d17317-07d4-4c99-8103-450e33d40e88",
   "metadata": {},
   "outputs": [],
   "source": []
  },
  {
   "cell_type": "code",
   "execution_count": null,
   "id": "aa2d4a25-748b-4d59-bf4b-1956e73444ff",
   "metadata": {},
   "outputs": [],
   "source": []
  },
  {
   "cell_type": "code",
   "execution_count": null,
   "id": "fc161969-b6ee-4eb4-8b1b-17c11bf52eaa",
   "metadata": {},
   "outputs": [],
   "source": []
  }
 ],
 "metadata": {
  "kernelspec": {
   "display_name": "Python 3 (ipykernel)",
   "language": "python",
   "name": "python3"
  },
  "language_info": {
   "codemirror_mode": {
    "name": "ipython",
    "version": 3
   },
   "file_extension": ".py",
   "mimetype": "text/x-python",
   "name": "python",
   "nbconvert_exporter": "python",
   "pygments_lexer": "ipython3",
   "version": "3.12.4"
  }
 },
 "nbformat": 4,
 "nbformat_minor": 5
}
