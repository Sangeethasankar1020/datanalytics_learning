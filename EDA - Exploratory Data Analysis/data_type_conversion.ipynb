{
 "cells": [
  {
   "cell_type": "code",
   "execution_count": 1,
   "id": "219b316d-bcda-47df-8ef5-ea684d6affa4",
   "metadata": {},
   "outputs": [],
   "source": [
    "import pandas as pd"
   ]
  },
  {
   "cell_type": "code",
   "execution_count": 3,
   "id": "7104f324-46aa-4061-ab6e-6347e9affddd",
   "metadata": {},
   "outputs": [],
   "source": [
    "data = {\n",
    "    'ID': [1, 2, 3, 4, 5],\n",
    "    'Name': ['Alice', 'Bob', 'Charlie', 'David', 'Eve'],\n",
    "    'Age': [28, 34, 30, 45, 29],\n",
    "    'Salary': [70000.50, 80000.00, 60000.00, 90000.25, 75000.00],\n",
    "    'Department': ['HR', 'IT', 'Marketing', 'Finance', 'IT'],\n",
    "    'Start Date': ['2020-01-15 09:00:00', '2019-05-22 10:30:00', '2021-03-10 08:45:00', '2018-07-30 11:15:00', '2020-09-01 09:30:00'],\n",
    "    'Is Active': [True, True, False, True, False]\n",
    "}"
   ]
  },
  {
   "cell_type": "code",
   "execution_count": 5,
   "id": "8256b588-8768-4f62-8a3e-21b021779991",
   "metadata": {},
   "outputs": [
    {
     "data": {
      "text/html": [
       "<div>\n",
       "<style scoped>\n",
       "    .dataframe tbody tr th:only-of-type {\n",
       "        vertical-align: middle;\n",
       "    }\n",
       "\n",
       "    .dataframe tbody tr th {\n",
       "        vertical-align: top;\n",
       "    }\n",
       "\n",
       "    .dataframe thead th {\n",
       "        text-align: right;\n",
       "    }\n",
       "</style>\n",
       "<table border=\"1\" class=\"dataframe\">\n",
       "  <thead>\n",
       "    <tr style=\"text-align: right;\">\n",
       "      <th></th>\n",
       "      <th>ID</th>\n",
       "      <th>Name</th>\n",
       "      <th>Age</th>\n",
       "      <th>Salary</th>\n",
       "      <th>Department</th>\n",
       "      <th>Start Date</th>\n",
       "      <th>Is Active</th>\n",
       "    </tr>\n",
       "  </thead>\n",
       "  <tbody>\n",
       "    <tr>\n",
       "      <th>0</th>\n",
       "      <td>1</td>\n",
       "      <td>Alice</td>\n",
       "      <td>28</td>\n",
       "      <td>70000.50</td>\n",
       "      <td>HR</td>\n",
       "      <td>2020-01-15 09:00:00</td>\n",
       "      <td>True</td>\n",
       "    </tr>\n",
       "    <tr>\n",
       "      <th>1</th>\n",
       "      <td>2</td>\n",
       "      <td>Bob</td>\n",
       "      <td>34</td>\n",
       "      <td>80000.00</td>\n",
       "      <td>IT</td>\n",
       "      <td>2019-05-22 10:30:00</td>\n",
       "      <td>True</td>\n",
       "    </tr>\n",
       "    <tr>\n",
       "      <th>2</th>\n",
       "      <td>3</td>\n",
       "      <td>Charlie</td>\n",
       "      <td>30</td>\n",
       "      <td>60000.00</td>\n",
       "      <td>Marketing</td>\n",
       "      <td>2021-03-10 08:45:00</td>\n",
       "      <td>False</td>\n",
       "    </tr>\n",
       "    <tr>\n",
       "      <th>3</th>\n",
       "      <td>4</td>\n",
       "      <td>David</td>\n",
       "      <td>45</td>\n",
       "      <td>90000.25</td>\n",
       "      <td>Finance</td>\n",
       "      <td>2018-07-30 11:15:00</td>\n",
       "      <td>True</td>\n",
       "    </tr>\n",
       "    <tr>\n",
       "      <th>4</th>\n",
       "      <td>5</td>\n",
       "      <td>Eve</td>\n",
       "      <td>29</td>\n",
       "      <td>75000.00</td>\n",
       "      <td>IT</td>\n",
       "      <td>2020-09-01 09:30:00</td>\n",
       "      <td>False</td>\n",
       "    </tr>\n",
       "  </tbody>\n",
       "</table>\n",
       "</div>"
      ],
      "text/plain": [
       "   ID     Name  Age    Salary Department           Start Date  Is Active\n",
       "0   1    Alice   28  70000.50         HR  2020-01-15 09:00:00       True\n",
       "1   2      Bob   34  80000.00         IT  2019-05-22 10:30:00       True\n",
       "2   3  Charlie   30  60000.00  Marketing  2021-03-10 08:45:00      False\n",
       "3   4    David   45  90000.25    Finance  2018-07-30 11:15:00       True\n",
       "4   5      Eve   29  75000.00         IT  2020-09-01 09:30:00      False"
      ]
     },
     "execution_count": 5,
     "metadata": {},
     "output_type": "execute_result"
    }
   ],
   "source": [
    "df=pd.DataFrame(data)\n",
    "df"
   ]
  },
  {
   "cell_type": "code",
   "execution_count": 7,
   "id": "53dcec5c-205e-4d5c-b4fa-0a4bdbec6d28",
   "metadata": {},
   "outputs": [],
   "source": [
    "#check data types"
   ]
  },
  {
   "cell_type": "code",
   "execution_count": 9,
   "id": "d8235d52-3f70-4b85-acfa-b67b2c67da3d",
   "metadata": {},
   "outputs": [
    {
     "data": {
      "text/plain": [
       "ID              int64\n",
       "Name           object\n",
       "Age             int64\n",
       "Salary        float64\n",
       "Department     object\n",
       "Start Date     object\n",
       "Is Active        bool\n",
       "dtype: object"
      ]
     },
     "execution_count": 9,
     "metadata": {},
     "output_type": "execute_result"
    }
   ],
   "source": [
    "df.dtypes"
   ]
  },
  {
   "cell_type": "code",
   "execution_count": 11,
   "id": "5b005092-f241-472c-8146-e85b675fb246",
   "metadata": {},
   "outputs": [],
   "source": [
    "#convert data types"
   ]
  },
  {
   "cell_type": "code",
   "execution_count": 13,
   "id": "6d7844db-6514-4ef8-b384-445fe25444f4",
   "metadata": {},
   "outputs": [],
   "source": [
    "#string to data types"
   ]
  },
  {
   "cell_type": "code",
   "execution_count": 15,
   "id": "7680a5f4-ecdc-49f2-a05c-32e1fda95909",
   "metadata": {},
   "outputs": [],
   "source": [
    "df['Start Date'] = pd.to_datetime(df['Start Date'])\n"
   ]
  },
  {
   "cell_type": "code",
   "execution_count": 17,
   "id": "3f768c66-0ebc-4e91-a0e1-d5c9a6c5e52c",
   "metadata": {},
   "outputs": [],
   "source": [
    "#float to integer"
   ]
  },
  {
   "cell_type": "code",
   "execution_count": 19,
   "id": "5ed86e12-f2c8-4bc1-80e1-dfb515c6c0ba",
   "metadata": {},
   "outputs": [],
   "source": [
    "df['Salary'] = df['Salary'].astype(int)"
   ]
  },
  {
   "cell_type": "code",
   "execution_count": 21,
   "id": "e642d98a-e0bf-465e-a014-c49293e21bcd",
   "metadata": {},
   "outputs": [],
   "source": [
    "#convert categorical value"
   ]
  },
  {
   "cell_type": "code",
   "execution_count": 23,
   "id": "9fdc5974-575e-47df-8d78-2d25de22ef05",
   "metadata": {},
   "outputs": [],
   "source": [
    "df['Department'] = df['Department'].astype('category')\n"
   ]
  },
  {
   "cell_type": "code",
   "execution_count": 25,
   "id": "eedfd4bd-d4b1-4e18-99a5-cd8e1873acbf",
   "metadata": {},
   "outputs": [],
   "source": [
    "#verify "
   ]
  },
  {
   "cell_type": "code",
   "execution_count": 27,
   "id": "f943284b-94e3-4f91-8a38-8176efbddb32",
   "metadata": {},
   "outputs": [
    {
     "data": {
      "text/plain": [
       "ID                     int64\n",
       "Name                  object\n",
       "Age                    int64\n",
       "Salary                 int32\n",
       "Department          category\n",
       "Start Date    datetime64[ns]\n",
       "Is Active               bool\n",
       "dtype: object"
      ]
     },
     "execution_count": 27,
     "metadata": {},
     "output_type": "execute_result"
    }
   ],
   "source": [
    "df.dtypes"
   ]
  },
  {
   "cell_type": "code",
   "execution_count": 29,
   "id": "a552eafa-19e4-4902-9c69-cd19e9a6635d",
   "metadata": {},
   "outputs": [],
   "source": [
    "#eda"
   ]
  },
  {
   "cell_type": "code",
   "execution_count": 35,
   "id": "572556dd-3a3e-4841-97ee-ba54140693c9",
   "metadata": {},
   "outputs": [
    {
     "data": {
      "text/html": [
       "<div>\n",
       "<style scoped>\n",
       "    .dataframe tbody tr th:only-of-type {\n",
       "        vertical-align: middle;\n",
       "    }\n",
       "\n",
       "    .dataframe tbody tr th {\n",
       "        vertical-align: top;\n",
       "    }\n",
       "\n",
       "    .dataframe thead th {\n",
       "        text-align: right;\n",
       "    }\n",
       "</style>\n",
       "<table border=\"1\" class=\"dataframe\">\n",
       "  <thead>\n",
       "    <tr style=\"text-align: right;\">\n",
       "      <th></th>\n",
       "      <th>ID</th>\n",
       "      <th>Age</th>\n",
       "      <th>Salary</th>\n",
       "      <th>Start Date</th>\n",
       "    </tr>\n",
       "  </thead>\n",
       "  <tbody>\n",
       "    <tr>\n",
       "      <th>count</th>\n",
       "      <td>5.000000</td>\n",
       "      <td>5.000000</td>\n",
       "      <td>5.000000</td>\n",
       "      <td>5</td>\n",
       "    </tr>\n",
       "    <tr>\n",
       "      <th>mean</th>\n",
       "      <td>3.000000</td>\n",
       "      <td>33.200000</td>\n",
       "      <td>75000.000000</td>\n",
       "      <td>2019-12-22 00:12:00</td>\n",
       "    </tr>\n",
       "    <tr>\n",
       "      <th>min</th>\n",
       "      <td>1.000000</td>\n",
       "      <td>28.000000</td>\n",
       "      <td>60000.000000</td>\n",
       "      <td>2018-07-30 11:15:00</td>\n",
       "    </tr>\n",
       "    <tr>\n",
       "      <th>25%</th>\n",
       "      <td>2.000000</td>\n",
       "      <td>29.000000</td>\n",
       "      <td>70000.000000</td>\n",
       "      <td>2019-05-22 10:30:00</td>\n",
       "    </tr>\n",
       "    <tr>\n",
       "      <th>50%</th>\n",
       "      <td>3.000000</td>\n",
       "      <td>30.000000</td>\n",
       "      <td>75000.000000</td>\n",
       "      <td>2020-01-15 09:00:00</td>\n",
       "    </tr>\n",
       "    <tr>\n",
       "      <th>75%</th>\n",
       "      <td>4.000000</td>\n",
       "      <td>34.000000</td>\n",
       "      <td>80000.000000</td>\n",
       "      <td>2020-09-01 09:30:00</td>\n",
       "    </tr>\n",
       "    <tr>\n",
       "      <th>max</th>\n",
       "      <td>5.000000</td>\n",
       "      <td>45.000000</td>\n",
       "      <td>90000.000000</td>\n",
       "      <td>2021-03-10 08:45:00</td>\n",
       "    </tr>\n",
       "    <tr>\n",
       "      <th>std</th>\n",
       "      <td>1.581139</td>\n",
       "      <td>6.978539</td>\n",
       "      <td>11180.339887</td>\n",
       "      <td>NaN</td>\n",
       "    </tr>\n",
       "  </tbody>\n",
       "</table>\n",
       "</div>"
      ],
      "text/plain": [
       "             ID        Age        Salary           Start Date\n",
       "count  5.000000   5.000000      5.000000                    5\n",
       "mean   3.000000  33.200000  75000.000000  2019-12-22 00:12:00\n",
       "min    1.000000  28.000000  60000.000000  2018-07-30 11:15:00\n",
       "25%    2.000000  29.000000  70000.000000  2019-05-22 10:30:00\n",
       "50%    3.000000  30.000000  75000.000000  2020-01-15 09:00:00\n",
       "75%    4.000000  34.000000  80000.000000  2020-09-01 09:30:00\n",
       "max    5.000000  45.000000  90000.000000  2021-03-10 08:45:00\n",
       "std    1.581139   6.978539  11180.339887                  NaN"
      ]
     },
     "execution_count": 35,
     "metadata": {},
     "output_type": "execute_result"
    }
   ],
   "source": [
    "df.describe()"
   ]
  },
  {
   "cell_type": "code",
   "execution_count": 37,
   "id": "4c36a410-5362-4f12-b27c-80db025ddae2",
   "metadata": {},
   "outputs": [
    {
     "data": {
      "image/png": "[encoded data removed]",
      "text/plain": [
       "<Figure size 640x480 with 1 Axes>"
      ]
     },
     "metadata": {},
     "output_type": "display_data"
    }
   ],
   "source": [
    "import matplotlib.pyplot as plt\n",
    "import seaborn as sns\n",
    "\n",
    "sns.boxplot(x='Department', y='Salary', data=df)\n",
    "plt.title('Salary by Department')\n",
    "plt.show()\n"
   ]
  },
  {
   "cell_type": "code",
   "execution_count": null,
   "id": "2a4ec215-2f29-46c2-829f-16ff47893d1d",
   "metadata": {},
   "outputs": [],
   "source": []
  }
 ],
 "metadata": {
  "kernelspec": {
   "display_name": "Python 3 (ipykernel)",
   "language": "python",
   "name": "python3"
  },
  "language_info": {
   "codemirror_mode": {
    "name": "ipython",
    "version": 3
   },
   "file_extension": ".py",
   "mimetype": "text/x-python",
   "name": "python",
   "nbconvert_exporter": "python",
   "pygments_lexer": "ipython3",
   "version": "3.12.4"
  }
 },
 "nbformat": 4,
 "nbformat_minor": 5
}
