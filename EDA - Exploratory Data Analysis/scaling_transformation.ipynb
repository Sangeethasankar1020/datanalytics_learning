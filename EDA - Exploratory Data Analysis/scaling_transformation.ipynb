{
 "cells": [
  {
   "cell_type": "markdown",
   "id": "1b0ee636-d6a3-44e0-89a7-c9528fe600de",
   "metadata": {},
   "source": [
    "# Scaling and Transformation "
   ]
  },
  {
   "cell_type": "markdown",
   "id": "cd70cacc-6e34-406f-b703-1fc1ed869568",
   "metadata": {},
   "source": [
    "Scaling and transformation are crucial steps in Exploratory Data Analysis (EDA) for data analysts. They help to ensure that your data is in a proper range and format for model building or analysis."
   ]
  },
  {
   "cell_type": "markdown",
   "id": "499b1559-d036-4e50-ba1c-25c1d8790577",
   "metadata": {},
   "source": [
    "**Scaling**"
   ]
  },
  {
   "cell_type": "markdown",
   "id": "358dab3a-d0ca-4a4d-93ca-6156a1b6dffe",
   "metadata": {},
   "source": [
    " This involves adjusting the range of your data so that features are on a similar scale. This is especially important when features have vastly different units (e.g., income in dollars vs. age in years)."
   ]
  },
  {
   "cell_type": "markdown",
   "id": "aac8ce35-b533-4989-9708-ce16f011e367",
   "metadata": {},
   "source": [
    "**Transformation**"
   ]
  },
  {
   "cell_type": "markdown",
   "id": "c01b0471-d261-443d-8734-23b4be5e9965",
   "metadata": {},
   "source": [
    "This changes the structure of the data to make it more suitable for analysis. For example, transformations can be used to make a skewed distribution more normal (which many machine learning algorithms prefer)."
   ]
  },
  {
   "cell_type": "code",
   "execution_count": 22,
   "id": "1f58c07a-94c8-42db-a356-c864bbf67f68",
   "metadata": {},
   "outputs": [],
   "source": [
    "#load data"
   ]
  },
  {
   "cell_type": "code",
   "execution_count": 24,
   "id": "a90243c2-d26c-4484-a33d-da52fcbf427b",
   "metadata": {},
   "outputs": [
    {
     "name": "stdout",
     "output_type": "stream",
     "text": [
      "    Price  Size  Bedrooms  Age\n",
      "0  450000  1800         3    5\n",
      "1  800000  2500         4    2\n",
      "2  120000  1500         2   20\n",
      "3  550000  2000         3   10\n",
      "4  300000  1700         2   15\n"
     ]
    }
   ],
   "source": [
    "import pandas as pd\n",
    "from sklearn.preprocessing import MinMaxScaler, StandardScaler\n",
    "import numpy as np\n",
    "\n",
    "# Load the data\n",
    "data = pd.DataFrame({\n",
    "    'Price': [450000, 800000, 120000, 550000, 300000],\n",
    "    'Size': [1800, 2500, 1500, 2000, 1700],\n",
    "    'Bedrooms': [3, 4, 2, 3, 2],\n",
    "    'Age': [5, 2, 20, 10, 15]\n",
    "})\n",
    "\n",
    "print(data)\n"
   ]
  },
  {
   "cell_type": "code",
   "execution_count": 26,
   "id": "7965ff54-b404-44a7-9b1e-a1483b031dae",
   "metadata": {},
   "outputs": [],
   "source": [
    "# Apply Scaling\n"
   ]
  },
  {
   "cell_type": "markdown",
   "id": "08718715-02a7-40d7-9ea2-387013f24ff0",
   "metadata": {},
   "source": [
    "**1. Min-Max Scaling**"
   ]
  },
  {
   "cell_type": "markdown",
   "id": "9f9f039a-0b21-4702-8709-39f4e55bbbda",
   "metadata": {},
   "source": [
    "This will scale the values between 0 and 1."
   ]
  },
  {
   "cell_type": "code",
   "execution_count": 35,
   "id": "b0ddb3fd-6c2b-41bf-a881-65a2bdae52c6",
   "metadata": {},
   "outputs": [
    {
     "name": "stdout",
     "output_type": "stream",
     "text": [
      "Min-Max Scaled Data:\n",
      "      Price  Size  Bedrooms       Age\n",
      "0  0.485294   0.3       0.5  0.166667\n",
      "1  1.000000   1.0       1.0  0.000000\n",
      "2  0.000000   0.0       0.0  1.000000\n",
      "3  0.632353   0.5       0.5  0.444444\n",
      "4  0.264706   0.2       0.0  0.722222\n"
     ]
    }
   ],
   "source": [
    "scaler = MinMaxScaler()\n",
    "\n",
    "# Scale the data\n",
    "data_scaled = scaler.fit_transform(data)\n",
    "data_scaled = pd.DataFrame(data_scaled, columns=data.columns)\n",
    "\n",
    "print(\"Min-Max Scaled Data:\")\n",
    "print(data_scaled)\n"
   ]
  },
  {
   "cell_type": "markdown",
   "id": "9a3ed3ee-f0ca-461f-acbe-7af5a7b33dd2",
   "metadata": {},
   "source": [
    "**2. Standardization (Z-Score Scaling)**"
   ]
  },
  {
   "cell_type": "code",
   "execution_count": 38,
   "id": "a5fcb8d4-e878-4afa-ba6b-bb66cc4ae9a2",
   "metadata": {},
   "outputs": [
    {
     "name": "stdout",
     "output_type": "stream",
     "text": [
      "Standardized Data (Z-Score):\n",
      "      Price      Size  Bedrooms       Age\n",
      "0  0.026126 -0.293610  0.267261 -0.826961\n",
      "1  1.550113  1.761661  1.603567 -1.286384\n",
      "2 -1.410777 -1.174440 -1.069045  1.470153\n",
      "3  0.461551  0.293610  0.267261 -0.061256\n",
      "4 -0.627012 -0.587220 -1.069045  0.704448\n"
     ]
    }
   ],
   "source": [
    "scaler = StandardScaler()\n",
    "\n",
    "# Scale the data\n",
    "data_standardized = scaler.fit_transform(data)\n",
    "data_standardized = pd.DataFrame(data_standardized, columns=data.columns)\n",
    "\n",
    "print(\"Standardized Data (Z-Score):\")\n",
    "print(data_standardized)\n"
   ]
  },
  {
   "cell_type": "code",
   "execution_count": 40,
   "id": "77ca3081-ce3d-4b26-b65c-6848e8426929",
   "metadata": {},
   "outputs": [],
   "source": [
    "#apply transformation"
   ]
  },
  {
   "cell_type": "markdown",
   "id": "13f86354-8f09-47a1-82c5-c3e7770bd7c8",
   "metadata": {},
   "source": [
    "**1. Log Transformation**"
   ]
  },
  {
   "cell_type": "code",
   "execution_count": 46,
   "id": "b2fc3523-4263-46b5-8b8f-2505a2cb4994",
   "metadata": {},
   "outputs": [
    {
     "name": "stdout",
     "output_type": "stream",
     "text": [
      "Log Transformed Price Data:\n",
      "    Price  Price_Log\n",
      "0  450000  13.017005\n",
      "1  800000  13.592368\n",
      "2  120000  11.695255\n",
      "3  550000  13.217675\n",
      "4  300000  12.611541\n"
     ]
    }
   ],
   "source": [
    "# Apply log transformation to the 'Price' column (adding 1 to avoid log(0))\n",
    "data['Price_Log'] = np.log(data['Price'] + 1)\n",
    "\n",
    "print(\"Log Transformed Price Data:\")\n",
    "print(data[['Price', 'Price_Log']])\n"
   ]
  },
  {
   "cell_type": "markdown",
   "id": "edcfd890-5e52-4a41-b07f-caaab2007b21",
   "metadata": {},
   "source": [
    "**2. Square Root Transformation**"
   ]
  },
  {
   "cell_type": "code",
   "execution_count": 49,
   "id": "9ca39e3b-6fdb-4758-8aee-8fd17e96f5e3",
   "metadata": {},
   "outputs": [
    {
     "name": "stdout",
     "output_type": "stream",
     "text": [
      "Square Root Transformed Price Data:\n",
      "    Price  Price_Sqrt\n",
      "0  450000  670.820393\n",
      "1  800000  894.427191\n",
      "2  120000  346.410162\n",
      "3  550000  741.619849\n",
      "4  300000  547.722558\n"
     ]
    }
   ],
   "source": [
    "# Apply square root transformation\n",
    "data['Price_Sqrt'] = np.sqrt(data['Price'])\n",
    "\n",
    "print(\"Square Root Transformed Price Data:\")\n",
    "print(data[['Price', 'Price_Sqrt']])\n"
   ]
  },
  {
   "cell_type": "markdown",
   "id": "3fc144a4-c53e-446a-b547-464a77b3a6d3",
   "metadata": {},
   "source": [
    "**Visualize Before and After Transformation**\n",
    "You can plot the data before and after scaling or transformation to better understand how it changes the distribution."
   ]
  },
  {
   "cell_type": "code",
   "execution_count": 52,
   "id": "4c646b8f-e056-4571-abee-3e67441892c5",
   "metadata": {},
   "outputs": [
    {
     "data": {
      "image/png": "[encoded data removed]",
      "text/plain": [
       "<Figure size 1200x500 with 2 Axes>"
      ]
     },
     "metadata": {},
     "output_type": "display_data"
    }
   ],
   "source": [
    "import matplotlib.pyplot as plt\n",
    "import seaborn as sns\n",
    "\n",
    "# Plot original vs log transformed prices\n",
    "fig, ax = plt.subplots(1, 2, figsize=(12, 5))\n",
    "sns.histplot(data['Price'], ax=ax[0], kde=True).set(title='Original Price Distribution')\n",
    "sns.histplot(data['Price_Log'], ax=ax[1], kde=True).set(title='Log Transformed Price Distribution')\n",
    "\n",
    "plt.show()\n"
   ]
  },
  {
   "cell_type": "markdown",
   "id": "3384467e-47af-4d34-b7a2-46126493f0e7",
   "metadata": {},
   "source": [
    "**Analyze Impact of Scaling and Transformation**\n",
    "\n",
    "**Scaling:** After scaling, all features will be in the same range. Min-Max scaling is useful for models like k-nearest neighbors (KNN), where distance matters.\n",
    "\n",
    "**Transformation:** After log or square root transformation, skewed data will become more symmetric, making it suitable for algorithms like linear regression."
   ]
  },
  {
   "cell_type": "code",
   "execution_count": null,
   "id": "be2ce3ad-87d8-4803-884f-7a4c1d819b20",
   "metadata": {},
   "outputs": [],
   "source": []
  }
 ],
 "metadata": {
  "kernelspec": {
   "display_name": "Python 3 (ipykernel)",
   "language": "python",
   "name": "python3"
  },
  "language_info": {
   "codemirror_mode": {
    "name": "ipython",
    "version": 3
   },
   "file_extension": ".py",
   "mimetype": "text/x-python",
   "name": "python",
   "nbconvert_exporter": "python",
   "pygments_lexer": "ipython3",
   "version": "3.12.4"
  }
 },
 "nbformat": 4,
 "nbformat_minor": 5
}
