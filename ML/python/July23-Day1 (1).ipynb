{
 "cells": [
  {
   "cell_type": "code",
   "execution_count": 1,
   "id": "76950e93",
   "metadata": {},
   "outputs": [
    {
     "name": "stdout",
     "output_type": "stream",
     "text": [
      "Hello world\n"
     ]
    }
   ],
   "source": [
    "print(\"Hello world\")"
   ]
  },
  {
   "cell_type": "code",
   "execution_count": 2,
   "id": "34666430",
   "metadata": {},
   "outputs": [
    {
     "name": "stdout",
     "output_type": "stream",
     "text": [
      "Hello world\n"
     ]
    }
   ],
   "source": [
    "# print / input\n",
    "print(\"Hello world\")"
   ]
  },
  {
   "cell_type": "code",
   "execution_count": 3,
   "id": "7324f65b",
   "metadata": {},
   "outputs": [
    {
     "name": "stdout",
     "output_type": "stream",
     "text": [
      "\n"
     ]
    }
   ],
   "source": [
    "print()"
   ]
  },
  {
   "cell_type": "code",
   "execution_count": 4,
   "id": "dc896dd0",
   "metadata": {},
   "outputs": [
    {
     "name": "stdout",
     "output_type": "stream",
     "text": [
      "\n",
      "\n"
     ]
    }
   ],
   "source": [
    "print()\n",
    "print()"
   ]
  },
  {
   "cell_type": "code",
   "execution_count": 5,
   "id": "f6aa08c3",
   "metadata": {},
   "outputs": [
    {
     "name": "stdout",
     "output_type": "stream",
     "text": [
      "\n",
      "\n",
      "\n"
     ]
    }
   ],
   "source": [
    "print()\n",
    "print()\n",
    "print()"
   ]
  },
  {
   "cell_type": "code",
   "execution_count": 6,
   "id": "d5f6bf8e",
   "metadata": {},
   "outputs": [
    {
     "name": "stdout",
     "output_type": "stream",
     "text": [
      "Hello world\n",
      "We are starting with python\n"
     ]
    }
   ],
   "source": [
    "print(\"Hello world\\nWe are starting with python\")  #\\n - new line"
   ]
  },
  {
   "cell_type": "code",
   "execution_count": 8,
   "id": "e7a2324a",
   "metadata": {},
   "outputs": [
    {
     "name": "stdout",
     "output_type": "stream",
     "text": [
      "Hello\n"
     ]
    }
   ],
   "source": [
    "print(\"Hello\")"
   ]
  },
  {
   "cell_type": "code",
   "execution_count": null,
   "id": "231d8604",
   "metadata": {},
   "outputs": [],
   "source": [
    "# Hello"
   ]
  },
  {
   "cell_type": "code",
   "execution_count": 9,
   "id": "03fd2a95",
   "metadata": {},
   "outputs": [
    {
     "name": "stdout",
     "output_type": "stream",
     "text": [
      "Hello\n",
      "World\n"
     ]
    }
   ],
   "source": [
    "print(\"Hello\")\n",
    "print(\"World\")"
   ]
  },
  {
   "cell_type": "code",
   "execution_count": null,
   "id": "ec15c5a9",
   "metadata": {},
   "outputs": [],
   "source": [
    "# Hello\n",
    "# World"
   ]
  },
  {
   "cell_type": "code",
   "execution_count": 10,
   "id": "7a9c8387",
   "metadata": {},
   "outputs": [
    {
     "name": "stdout",
     "output_type": "stream",
     "text": [
      "Hello World\n"
     ]
    }
   ],
   "source": [
    "print(\"Hello\", end = \" \")\n",
    "print(\"World\")"
   ]
  },
  {
   "cell_type": "code",
   "execution_count": 12,
   "id": "db79216f",
   "metadata": {},
   "outputs": [
    {
     "name": "stdout",
     "output_type": "stream",
     "text": [
      "Hello World,We are learning python\n"
     ]
    }
   ],
   "source": [
    "print(\"Hello\", end = \" \")\n",
    "print(\"World\", end = \",\")\n",
    "print(\"We are learning python\")"
   ]
  },
  {
   "cell_type": "code",
   "execution_count": null,
   "id": "587a18cf",
   "metadata": {},
   "outputs": [],
   "source": [
    "# Hello World,We are learning python"
   ]
  },
  {
   "cell_type": "code",
   "execution_count": 13,
   "id": "f8a2166a",
   "metadata": {},
   "outputs": [
    {
     "name": "stdout",
     "output_type": "stream",
     "text": [
      "Hello World\tWe are learning python\n"
     ]
    }
   ],
   "source": [
    "print(\"Hello\", end = \" \")\n",
    "print(\"World\", end = \"\\t\")  #\\t - tab space\n",
    "print(\"We are learning python\")"
   ]
  },
  {
   "cell_type": "code",
   "execution_count": 10,
   "id": "24d0ed84",
   "metadata": {},
   "outputs": [
    {
     "name": "stdout",
     "output_type": "stream",
     "text": [
      "Hello\n",
      "My name is Manvendra\n",
      "I am learning python\n"
     ]
    }
   ],
   "source": [
    "print(\"Hello\", \"My name is Manvendra\", \"I am learning python\", sep='\\n')"
   ]
  },
  {
   "cell_type": "code",
   "execution_count": 15,
   "id": "a9958b8e",
   "metadata": {},
   "outputs": [
    {
     "name": "stdout",
     "output_type": "stream",
     "text": [
      "Hello 35\n"
     ]
    }
   ],
   "source": [
    "print(\"Hello\", 35)"
   ]
  },
  {
   "cell_type": "code",
   "execution_count": 17,
   "id": "dd793c99",
   "metadata": {},
   "outputs": [
    {
     "name": "stdout",
     "output_type": "stream",
     "text": [
      "Hello,My name is Manvendra,I am learning python\n"
     ]
    }
   ],
   "source": [
    "print(\"Hello\", \"My name is Manvendra\", \"I am learning python\", sep = \",\")"
   ]
  },
  {
   "cell_type": "code",
   "execution_count": 18,
   "id": "17d6f8fc",
   "metadata": {},
   "outputs": [
    {
     "name": "stdout",
     "output_type": "stream",
     "text": [
      "Hello\n",
      "My name is Manvendra\n",
      "I am learning python\n"
     ]
    }
   ],
   "source": [
    "print(\"Hello\", \"My name is Manvendra\", \"I am learning python\", sep = \"\\n\")"
   ]
  },
  {
   "cell_type": "code",
   "execution_count": 11,
   "id": "37599322",
   "metadata": {},
   "outputs": [
    {
     "name": "stdout",
     "output_type": "stream",
     "text": [
      "Itp marks are-25\n",
      "NPV marks are-28\n"
     ]
    }
   ],
   "source": [
    "# .format\n",
    "itp_m = 25\n",
    "npv_m = 28\n",
    "print(\"Itp marks are\", itp_m, sep = \"-\")\n",
    "print(\"NPV marks are\", npv_m, sep=\"-\")"
   ]
  },
  {
   "cell_type": "code",
   "execution_count": 12,
   "id": "719839e6",
   "metadata": {},
   "outputs": [
    {
     "name": "stdout",
     "output_type": "stream",
     "text": [
      "Itp marks are - 25\n"
     ]
    }
   ],
   "source": [
    "itp_m = 25\n",
    "npv_m = 28\n",
    "print(\"Itp marks are - {}\".format(itp_m))   # {} - place holder"
   ]
  },
  {
   "cell_type": "code",
   "execution_count": 13,
   "id": "9ab693e9",
   "metadata": {},
   "outputs": [
    {
     "name": "stdout",
     "output_type": "stream",
     "text": [
      "Itp marks are - 25 \n",
      "NPV marks are - 28\n"
     ]
    }
   ],
   "source": [
    "itp_m = 25\n",
    "npv_m = 28\n",
    "print(\"Itp marks are - {} \\nNPV marks are - {}\".format(itp_m,npv_m))   # {} - place holder"
   ]
  },
  {
   "cell_type": "code",
   "execution_count": 26,
   "id": "b5e9af47",
   "metadata": {
    "collapsed": true
   },
   "outputs": [
    {
     "ename": "IndexError",
     "evalue": "Replacement index 1 out of range for positional args tuple",
     "output_type": "error",
     "traceback": [
      "\u001b[1;31m---------------------------------------------------------------------------\u001b[0m",
      "\u001b[1;31mIndexError\u001b[0m                                Traceback (most recent call last)",
      "Input \u001b[1;32mIn [26]\u001b[0m, in \u001b[0;36m<cell line: 3>\u001b[1;34m()\u001b[0m\n\u001b[0;32m      1\u001b[0m itp_m \u001b[38;5;241m=\u001b[39m \u001b[38;5;241m25\u001b[39m\n\u001b[0;32m      2\u001b[0m npv_m \u001b[38;5;241m=\u001b[39m \u001b[38;5;241m28\u001b[39m\n\u001b[1;32m----> 3\u001b[0m \u001b[38;5;28mprint\u001b[39m(\u001b[38;5;124;43m\"\u001b[39;49m\u001b[38;5;124;43mItp marks are - \u001b[39;49m\u001b[38;5;132;43;01m{}\u001b[39;49;00m\u001b[38;5;124;43m \u001b[39;49m\u001b[38;5;130;43;01m\\n\u001b[39;49;00m\u001b[38;5;124;43mNPV marks are - \u001b[39;49m\u001b[38;5;132;43;01m{}\u001b[39;49;00m\u001b[38;5;124;43m\"\u001b[39;49m\u001b[38;5;241;43m.\u001b[39;49m\u001b[43mformat\u001b[49m\u001b[43m(\u001b[49m\u001b[43mitp_m\u001b[49m\u001b[43m)\u001b[49m)\n",
      "\u001b[1;31mIndexError\u001b[0m: Replacement index 1 out of range for positional args tuple"
     ]
    }
   ],
   "source": [
    "itp_m = 25\n",
    "npv_m = 28\n",
    "print(\"Itp marks are - {} \\nNPV marks are - {}\".format(itp_m)) "
   ]
  },
  {
   "cell_type": "code",
   "execution_count": 27,
   "id": "3c863a5a",
   "metadata": {
    "collapsed": true
   },
   "outputs": [
    {
     "name": "stdout",
     "output_type": "stream",
     "text": [
      "Itp marks are - 25 \n",
      "NPV marks are - 28\n"
     ]
    }
   ],
   "source": [
    "itp_m = 25\n",
    "npv_m = 28\n",
    "sql_m = 27\n",
    "print(\"Itp marks are - {} \\nNPV marks are - {}\".format(itp_m,npv_m,sql_m)) "
   ]
  },
  {
   "cell_type": "code",
   "execution_count": 29,
   "id": "53bf78ae",
   "metadata": {
    "collapsed": true
   },
   "outputs": [
    {
     "name": "stdout",
     "output_type": "stream",
     "text": [
      "Itp marks are - 25 \n",
      "NPV marks are - 25\n"
     ]
    }
   ],
   "source": [
    "marks = 25\n",
    "print(\"Itp marks are - {0} \\nNPV marks are - {0}\".format(marks)) "
   ]
  },
  {
   "cell_type": "code",
   "execution_count": 32,
   "id": "a12cd0bb",
   "metadata": {
    "collapsed": true
   },
   "outputs": [
    {
     "name": "stdout",
     "output_type": "stream",
     "text": [
      "Itp marks are - 25 \n",
      "SQL marks are - 27\n"
     ]
    }
   ],
   "source": [
    "itp_m = 25\n",
    "npv_m = 28\n",
    "sql_m = 27\n",
    "print(\"Itp marks are - {0} \\nSQL marks are - {2}\".format(itp_m,npv_m,sql_m)) "
   ]
  },
  {
   "cell_type": "code",
   "execution_count": 34,
   "id": "2699da0f",
   "metadata": {
    "collapsed": true
   },
   "outputs": [
    {
     "name": "stdout",
     "output_type": "stream",
     "text": [
      "NPV marks are - 28 \n",
      "SQL marks are - 27\n"
     ]
    }
   ],
   "source": [
    "itp_m = 25\n",
    "npv_m = 28\n",
    "sql_m = 27\n",
    "print(\"NPV marks are - {1} \\nSQL marks are - {2}\".format(itp_m,npv_m,sql_m)) "
   ]
  },
  {
   "cell_type": "code",
   "execution_count": 14,
   "id": "534b80e2",
   "metadata": {},
   "outputs": [
    {
     "name": "stdout",
     "output_type": "stream",
     "text": [
      "NPV marks are - 28 \n",
      "SQL marks are - 27\n"
     ]
    }
   ],
   "source": [
    "itp_m = 25\n",
    "npv_m = 28\n",
    "sql_m = 27\n",
    "print(f\"NPV marks are - {npv_m} \\nSQL marks are - {sql_m}\")"
   ]
  },
  {
   "cell_type": "code",
   "execution_count": 15,
   "id": "56317aac",
   "metadata": {},
   "outputs": [
    {
     "name": "stdout",
     "output_type": "stream",
     "text": [
      "h\n"
     ]
    },
    {
     "data": {
      "text/plain": [
       "'h'"
      ]
     },
     "execution_count": 15,
     "metadata": {},
     "output_type": "execute_result"
    }
   ],
   "source": [
    "# taking input\n",
    "input()"
   ]
  },
  {
   "cell_type": "code",
   "execution_count": 38,
   "id": "168d622f",
   "metadata": {
    "collapsed": true
   },
   "outputs": [
    {
     "name": "stdout",
     "output_type": "stream",
     "text": [
      "Enter your name - Manvendra\n"
     ]
    },
    {
     "data": {
      "text/plain": [
       "'Manvendra'"
      ]
     },
     "execution_count": 38,
     "metadata": {},
     "output_type": "execute_result"
    }
   ],
   "source": [
    "input(\"Enter your name - \")"
   ]
  },
  {
   "cell_type": "code",
   "execution_count": 39,
   "id": "455e6895",
   "metadata": {
    "collapsed": true
   },
   "outputs": [
    {
     "name": "stdout",
     "output_type": "stream",
     "text": [
      "Enter your name - Manvendra\n"
     ]
    }
   ],
   "source": [
    "# variable - \n",
    "name = input(\"Enter your name - \")"
   ]
  },
  {
   "cell_type": "code",
   "execution_count": 40,
   "id": "8f4007df",
   "metadata": {
    "collapsed": true
   },
   "outputs": [
    {
     "name": "stdout",
     "output_type": "stream",
     "text": [
      "Manvendra\n"
     ]
    }
   ],
   "source": [
    "print(name)"
   ]
  },
  {
   "cell_type": "code",
   "execution_count": 41,
   "id": "6386e2a0",
   "metadata": {
    "collapsed": true
   },
   "outputs": [
    {
     "ename": "SyntaxError",
     "evalue": "invalid syntax (3569053093.py, line 3)",
     "output_type": "error",
     "traceback": [
      "\u001b[1;36m  Input \u001b[1;32mIn [41]\u001b[1;36m\u001b[0m\n\u001b[1;33m    9A = 200\u001b[0m\n\u001b[1;37m     ^\u001b[0m\n\u001b[1;31mSyntaxError\u001b[0m\u001b[1;31m:\u001b[0m invalid syntax\n"
     ]
    }
   ],
   "source": [
    "# rules for naming variables\n",
    "# 1. It should not start with numbers\n",
    "9A = 200"
   ]
  },
  {
   "cell_type": "code",
   "execution_count": 42,
   "id": "8628fc72",
   "metadata": {},
   "outputs": [],
   "source": [
    "A9 = 200"
   ]
  },
  {
   "cell_type": "code",
   "execution_count": 44,
   "id": "d600b71a",
   "metadata": {
    "collapsed": true
   },
   "outputs": [
    {
     "ename": "SyntaxError",
     "evalue": "cannot assign to operator (1217983930.py, line 4)",
     "output_type": "error",
     "traceback": [
      "\u001b[1;36m  Input \u001b[1;32mIn [44]\u001b[1;36m\u001b[0m\n\u001b[1;33m    value/a = 200\u001b[0m\n\u001b[1;37m    ^\u001b[0m\n\u001b[1;31mSyntaxError\u001b[0m\u001b[1;31m:\u001b[0m cannot assign to operator\n"
     ]
    }
   ],
   "source": [
    "# rules for naming variables\n",
    "# 1. It should not start with numbers\n",
    "# 2. A variable cannot have any special charcter other than underscore\n",
    "value/a = 200"
   ]
  },
  {
   "cell_type": "code",
   "execution_count": 45,
   "id": "8a605331",
   "metadata": {},
   "outputs": [],
   "source": [
    "# rules for naming variables\n",
    "# 1. It should not start with numbers\n",
    "# 2. A variable cannot have any special charcter other than underscore\n",
    "value_a = 200"
   ]
  },
  {
   "cell_type": "code",
   "execution_count": null,
   "id": "72acac73",
   "metadata": {},
   "outputs": [],
   "source": [
    "# rules for naming variables\n",
    "# 1. It should not start with numbers\n",
    "# 2. A variable cannot have any special charcter other than underscore\n",
    "# 3. Variable names are case senstive\n",
    "value_a = 200"
   ]
  },
  {
   "cell_type": "code",
   "execution_count": 47,
   "id": "5706fd05",
   "metadata": {
    "collapsed": true
   },
   "outputs": [
    {
     "ename": "NameError",
     "evalue": "name 'X' is not defined",
     "output_type": "error",
     "traceback": [
      "\u001b[1;31m---------------------------------------------------------------------------\u001b[0m",
      "\u001b[1;31mNameError\u001b[0m                                 Traceback (most recent call last)",
      "Input \u001b[1;32mIn [47]\u001b[0m, in \u001b[0;36m<cell line: 2>\u001b[1;34m()\u001b[0m\n\u001b[0;32m      1\u001b[0m x \u001b[38;5;241m=\u001b[39m \u001b[38;5;241m400\u001b[39m\n\u001b[1;32m----> 2\u001b[0m \u001b[38;5;28mprint\u001b[39m(\u001b[43mX\u001b[49m)\n",
      "\u001b[1;31mNameError\u001b[0m: name 'X' is not defined"
     ]
    }
   ],
   "source": [
    "x = 400\n",
    "print(X)"
   ]
  },
  {
   "cell_type": "code",
   "execution_count": 48,
   "id": "d3fe839c",
   "metadata": {},
   "outputs": [
    {
     "name": "stdout",
     "output_type": "stream",
     "text": [
      "400\n"
     ]
    }
   ],
   "source": [
    "X = 500\n",
    "print(x)"
   ]
  },
  {
   "cell_type": "code",
   "execution_count": 49,
   "id": "0c70d5c0",
   "metadata": {
    "collapsed": true
   },
   "outputs": [
    {
     "ename": "SyntaxError",
     "evalue": "invalid syntax (1787324654.py, line 6)",
     "output_type": "error",
     "traceback": [
      "\u001b[1;36m  Input \u001b[1;32mIn [49]\u001b[1;36m\u001b[0m\n\u001b[1;33m    first name = \"Manvendra\"\u001b[0m\n\u001b[1;37m          ^\u001b[0m\n\u001b[1;31mSyntaxError\u001b[0m\u001b[1;31m:\u001b[0m invalid syntax\n"
     ]
    }
   ],
   "source": [
    "# rules for naming variables\n",
    "# 1. It should not start with numbers\n",
    "# 2. A variable cannot have any special charcter other than underscore\n",
    "# 3. Variable names are case senstive\n",
    "# 4. we can't have spaces b/w the variable name\n",
    "first name = \"Manvendra\""
   ]
  },
  {
   "cell_type": "code",
   "execution_count": 50,
   "id": "85241768",
   "metadata": {},
   "outputs": [],
   "source": [
    "first_name = \"Manvendra\""
   ]
  },
  {
   "cell_type": "code",
   "execution_count": 51,
   "id": "e9758402",
   "metadata": {},
   "outputs": [],
   "source": [
    "# rules for naming variables\n",
    "# 1. It should not start with numbers\n",
    "# 2. A variable cannot have any special charcter other than underscore\n",
    "# 3. Variable names are case senstive\n",
    "# 4. we can't have spaces b/w the variable name\n",
    "# 5. We cannot have python functions and keywords as variable name\n",
    "\n",
    "# print= \"Hello\""
   ]
  },
  {
   "cell_type": "code",
   "execution_count": 1,
   "id": "ccf38373",
   "metadata": {},
   "outputs": [
    {
     "name": "stdout",
     "output_type": "stream",
     "text": [
      "We are learning\n"
     ]
    }
   ],
   "source": [
    "print(\"We are learning\")"
   ]
  },
  {
   "cell_type": "code",
   "execution_count": 2,
   "id": "2feed9e6",
   "metadata": {},
   "outputs": [
    {
     "data": {
      "text/plain": [
       "10"
      ]
     },
     "execution_count": 2,
     "metadata": {},
     "output_type": "execute_result"
    }
   ],
   "source": [
    "# int = 500\n",
    "int(10.9)"
   ]
  },
  {
   "cell_type": "code",
   "execution_count": null,
   "id": "35d44fbd",
   "metadata": {},
   "outputs": [],
   "source": [
    "# take 2 numbers as input and dispplay the sum \n",
    "# Enter the 1st num - 10\n",
    "# Enter the 2nd num - 20\n",
    "# 30"
   ]
  },
  {
   "cell_type": "code",
   "execution_count": 63,
   "id": "9050ca39",
   "metadata": {},
   "outputs": [
    {
     "name": "stdout",
     "output_type": "stream",
     "text": [
      "enter the 1st num -10\n",
      "enter the 2nd num -20\n",
      "30\n"
     ]
    }
   ],
   "source": [
    "num1 = input(\"enter the 1st num -\") #str\n",
    "num2 = input(\"enter the 2nd num -\")\n",
    "print(int(num1) + int(num2))"
   ]
  },
  {
   "cell_type": "code",
   "execution_count": 4,
   "id": "0e689eac",
   "metadata": {},
   "outputs": [
    {
     "data": {
      "text/plain": [
       "int"
      ]
     },
     "execution_count": 4,
     "metadata": {},
     "output_type": "execute_result"
    }
   ],
   "source": [
    "# Data types - \n",
    "# int, float, str, complex, bool\n",
    "a = 10\n",
    "type(a)"
   ]
  },
  {
   "cell_type": "code",
   "execution_count": 5,
   "id": "242c7f94",
   "metadata": {},
   "outputs": [
    {
     "data": {
      "text/plain": [
       "float"
      ]
     },
     "execution_count": 5,
     "metadata": {},
     "output_type": "execute_result"
    }
   ],
   "source": [
    "# float - decimal values\n",
    "x = 10.9\n",
    "type(x)"
   ]
  },
  {
   "cell_type": "code",
   "execution_count": 6,
   "id": "a47ad563",
   "metadata": {},
   "outputs": [
    {
     "data": {
      "text/plain": [
       "float"
      ]
     },
     "execution_count": 6,
     "metadata": {},
     "output_type": "execute_result"
    }
   ],
   "source": [
    "x = 10.\n",
    "type(x)"
   ]
  },
  {
   "cell_type": "code",
   "execution_count": 6,
   "id": "35c67836",
   "metadata": {},
   "outputs": [
    {
     "data": {
      "text/plain": [
       "(10+5j)"
      ]
     },
     "execution_count": 6,
     "metadata": {},
     "output_type": "execute_result"
    }
   ],
   "source": [
    "# complex - real and imaginary\n",
    "c = 10 + 5j\n",
    "c"
   ]
  },
  {
   "cell_type": "code",
   "execution_count": 8,
   "id": "fcba1d8c",
   "metadata": {},
   "outputs": [
    {
     "data": {
      "text/plain": [
       "complex"
      ]
     },
     "execution_count": 8,
     "metadata": {},
     "output_type": "execute_result"
    }
   ],
   "source": [
    "type(c)"
   ]
  },
  {
   "cell_type": "code",
   "execution_count": 17,
   "id": "3989300d",
   "metadata": {},
   "outputs": [
    {
     "data": {
      "text/plain": [
       "(10+5j)"
      ]
     },
     "execution_count": 17,
     "metadata": {},
     "output_type": "execute_result"
    }
   ],
   "source": [
    "c = 10 + 5J\n",
    "c"
   ]
  },
  {
   "cell_type": "code",
   "execution_count": 18,
   "id": "921a4544",
   "metadata": {},
   "outputs": [
    {
     "data": {
      "text/plain": [
       "10.0"
      ]
     },
     "execution_count": 18,
     "metadata": {},
     "output_type": "execute_result"
    }
   ],
   "source": [
    "c.real"
   ]
  },
  {
   "cell_type": "code",
   "execution_count": 19,
   "id": "6f4fc99c",
   "metadata": {},
   "outputs": [
    {
     "data": {
      "text/plain": [
       "5.0"
      ]
     },
     "execution_count": 19,
     "metadata": {},
     "output_type": "execute_result"
    }
   ],
   "source": [
    "c.imag"
   ]
  },
  {
   "cell_type": "code",
   "execution_count": 13,
   "id": "02767bcc",
   "metadata": {},
   "outputs": [
    {
     "data": {
      "text/plain": [
       "'python'"
      ]
     },
     "execution_count": 13,
     "metadata": {},
     "output_type": "execute_result"
    }
   ],
   "source": [
    "# string - '', \"\", ''' '''\n",
    "a = 'python'\n",
    "a"
   ]
  },
  {
   "cell_type": "code",
   "execution_count": 14,
   "id": "eb15042e",
   "metadata": {},
   "outputs": [
    {
     "data": {
      "text/plain": [
       "str"
      ]
     },
     "execution_count": 14,
     "metadata": {},
     "output_type": "execute_result"
    }
   ],
   "source": [
    "type(a)"
   ]
  },
  {
   "cell_type": "code",
   "execution_count": 15,
   "id": "fbe864f8",
   "metadata": {},
   "outputs": [
    {
     "data": {
      "text/plain": [
       "'python'"
      ]
     },
     "execution_count": 15,
     "metadata": {},
     "output_type": "execute_result"
    }
   ],
   "source": [
    "a = \"python\"\n",
    "a"
   ]
  },
  {
   "cell_type": "code",
   "execution_count": 16,
   "id": "58fb0ba8",
   "metadata": {},
   "outputs": [
    {
     "data": {
      "text/plain": [
       "str"
      ]
     },
     "execution_count": 16,
     "metadata": {},
     "output_type": "execute_result"
    }
   ],
   "source": [
    "type(a)"
   ]
  },
  {
   "cell_type": "code",
   "execution_count": 17,
   "id": "fba5ee66",
   "metadata": {},
   "outputs": [
    {
     "data": {
      "text/plain": [
       "'python'"
      ]
     },
     "execution_count": 17,
     "metadata": {},
     "output_type": "execute_result"
    }
   ],
   "source": [
    "a = '''python'''\n",
    "a"
   ]
  },
  {
   "cell_type": "code",
   "execution_count": 18,
   "id": "6fb64a98",
   "metadata": {},
   "outputs": [
    {
     "data": {
      "text/plain": [
       "str"
      ]
     },
     "execution_count": 18,
     "metadata": {},
     "output_type": "execute_result"
    }
   ],
   "source": [
    "type(a)"
   ]
  },
  {
   "cell_type": "code",
   "execution_count": 21,
   "id": "62f74611",
   "metadata": {},
   "outputs": [
    {
     "data": {
      "text/plain": [
       "False"
      ]
     },
     "execution_count": 21,
     "metadata": {},
     "output_type": "execute_result"
    }
   ],
   "source": [
    "# boolean \n",
    "x = False\n",
    "x"
   ]
  },
  {
   "cell_type": "code",
   "execution_count": 22,
   "id": "b653753a",
   "metadata": {},
   "outputs": [
    {
     "data": {
      "text/plain": [
       "bool"
      ]
     },
     "execution_count": 22,
     "metadata": {},
     "output_type": "execute_result"
    }
   ],
   "source": [
    "type(x)"
   ]
  },
  {
   "cell_type": "code",
   "execution_count": 23,
   "id": "88bd0ed9",
   "metadata": {
    "collapsed": true
   },
   "outputs": [
    {
     "ename": "SyntaxError",
     "evalue": "invalid syntax (3297608652.py, line 2)",
     "output_type": "error",
     "traceback": [
      "\u001b[1;36m  Input \u001b[1;32mIn [23]\u001b[1;36m\u001b[0m\n\u001b[1;33m    s = 'Student's Marks'\u001b[0m\n\u001b[1;37m                 ^\u001b[0m\n\u001b[1;31mSyntaxError\u001b[0m\u001b[1;31m:\u001b[0m invalid syntax\n"
     ]
    }
   ],
   "source": [
    "# int,float,str,bool,complex\n",
    "s = 'Student's Marks'"
   ]
  },
  {
   "cell_type": "code",
   "execution_count": 24,
   "id": "afeede1d",
   "metadata": {},
   "outputs": [
    {
     "data": {
      "text/plain": [
       "\"Student's Marks\""
      ]
     },
     "execution_count": 24,
     "metadata": {},
     "output_type": "execute_result"
    }
   ],
   "source": [
    "s = \"Student's Marks\"\n",
    "s"
   ]
  },
  {
   "cell_type": "code",
   "execution_count": 27,
   "id": "4524c6fc",
   "metadata": {},
   "outputs": [
    {
     "name": "stdout",
     "output_type": "stream",
     "text": [
      "Student's Marks are \"76\" \n"
     ]
    }
   ],
   "source": [
    "s = '''Student's Marks are \"76\" '''\n",
    "print(s)"
   ]
  },
  {
   "cell_type": "code",
   "execution_count": null,
   "id": "f94b05d9",
   "metadata": {},
   "outputs": [],
   "source": [
    "# Type casting - changing the type of data\n",
    "# Implicit - python does the conversion itself\n",
    "# Explicit - we force the conversion"
   ]
  },
  {
   "cell_type": "code",
   "execution_count": 28,
   "id": "332c6807",
   "metadata": {},
   "outputs": [
    {
     "data": {
      "text/plain": [
       "20.9"
      ]
     },
     "execution_count": 28,
     "metadata": {},
     "output_type": "execute_result"
    }
   ],
   "source": [
    "a = 10\n",
    "b = 10.9\n",
    "a + b"
   ]
  },
  {
   "cell_type": "code",
   "execution_count": 29,
   "id": "0a65f3de",
   "metadata": {},
   "outputs": [
    {
     "data": {
      "text/plain": [
       "1"
      ]
     },
     "execution_count": 29,
     "metadata": {},
     "output_type": "execute_result"
    }
   ],
   "source": [
    "False + True  # implicit conversion"
   ]
  },
  {
   "cell_type": "code",
   "execution_count": 30,
   "id": "729c458b",
   "metadata": {},
   "outputs": [
    {
     "data": {
      "text/plain": [
       "10"
      ]
     },
     "execution_count": 30,
     "metadata": {},
     "output_type": "execute_result"
    }
   ],
   "source": [
    "int(10.9)  # explicit conversion"
   ]
  },
  {
   "cell_type": "code",
   "execution_count": 33,
   "id": "3eaf82fd",
   "metadata": {},
   "outputs": [
    {
     "data": {
      "text/plain": [
       "40.0"
      ]
     },
     "execution_count": 33,
     "metadata": {},
     "output_type": "execute_result"
    }
   ],
   "source": [
    "# int - float, str, bool, complex\n",
    "a = 40\n",
    "b = float(a)\n",
    "b"
   ]
  },
  {
   "cell_type": "code",
   "execution_count": 32,
   "id": "f9923804",
   "metadata": {},
   "outputs": [
    {
     "data": {
      "text/plain": [
       "40"
      ]
     },
     "execution_count": 32,
     "metadata": {},
     "output_type": "execute_result"
    }
   ],
   "source": [
    "a"
   ]
  },
  {
   "cell_type": "code",
   "execution_count": 34,
   "id": "2d8a46ed",
   "metadata": {},
   "outputs": [
    {
     "data": {
      "text/plain": [
       "float"
      ]
     },
     "execution_count": 34,
     "metadata": {},
     "output_type": "execute_result"
    }
   ],
   "source": [
    "type(b)"
   ]
  },
  {
   "cell_type": "code",
   "execution_count": 35,
   "id": "12fe13de",
   "metadata": {},
   "outputs": [
    {
     "data": {
      "text/plain": [
       "'40'"
      ]
     },
     "execution_count": 35,
     "metadata": {},
     "output_type": "execute_result"
    }
   ],
   "source": [
    "a = 40\n",
    "b = str(a)  # \"40\"\n",
    "b"
   ]
  },
  {
   "cell_type": "code",
   "execution_count": 36,
   "id": "5e2bde04",
   "metadata": {},
   "outputs": [
    {
     "data": {
      "text/plain": [
       "(40+0j)"
      ]
     },
     "execution_count": 36,
     "metadata": {},
     "output_type": "execute_result"
    }
   ],
   "source": [
    "a = 40\n",
    "b = complex(a)  \n",
    "b"
   ]
  },
  {
   "cell_type": "code",
   "execution_count": 39,
   "id": "9d1418c6",
   "metadata": {},
   "outputs": [
    {
     "data": {
      "text/plain": [
       "True"
      ]
     },
     "execution_count": 39,
     "metadata": {},
     "output_type": "execute_result"
    }
   ],
   "source": [
    "a = -40\n",
    "b = bool(a)  # \"40\"\n",
    "b"
   ]
  },
  {
   "cell_type": "code",
   "execution_count": 38,
   "id": "b31ec63b",
   "metadata": {},
   "outputs": [
    {
     "data": {
      "text/plain": [
       "False"
      ]
     },
     "execution_count": 38,
     "metadata": {},
     "output_type": "execute_result"
    }
   ],
   "source": [
    "a = 0\n",
    "b = bool(a)  # \"40\"\n",
    "b"
   ]
  },
  {
   "cell_type": "code",
   "execution_count": null,
   "id": "555dd4b6",
   "metadata": {},
   "outputs": [],
   "source": [
    "# float, str, complex, bool, int\n",
    "# float - int, str, complex, bool"
   ]
  },
  {
   "cell_type": "code",
   "execution_count": 40,
   "id": "d1c8e613",
   "metadata": {
    "collapsed": true
   },
   "outputs": [
    {
     "ename": "TypeError",
     "evalue": "can't convert complex to int",
     "output_type": "error",
     "traceback": [
      "\u001b[1;31m---------------------------------------------------------------------------\u001b[0m",
      "\u001b[1;31mTypeError\u001b[0m                                 Traceback (most recent call last)",
      "Input \u001b[1;32mIn [40]\u001b[0m, in \u001b[0;36m<cell line: 3>\u001b[1;34m()\u001b[0m\n\u001b[0;32m      1\u001b[0m \u001b[38;5;66;03m# complex - int, float, str, bool\u001b[39;00m\n\u001b[0;32m      2\u001b[0m a \u001b[38;5;241m=\u001b[39m \u001b[38;5;241m10\u001b[39m \u001b[38;5;241m+\u001b[39m \u001b[38;5;241m5\u001b[39mj\n\u001b[1;32m----> 3\u001b[0m \u001b[38;5;28;43mint\u001b[39;49m\u001b[43m(\u001b[49m\u001b[43ma\u001b[49m\u001b[43m)\u001b[49m\n",
      "\u001b[1;31mTypeError\u001b[0m: can't convert complex to int"
     ]
    }
   ],
   "source": [
    "# complex - int, float, str, bool\n",
    "a = 10 + 5j\n",
    "int(a)"
   ]
  },
  {
   "cell_type": "code",
   "execution_count": 41,
   "id": "59ebc013",
   "metadata": {
    "collapsed": true
   },
   "outputs": [
    {
     "ename": "TypeError",
     "evalue": "can't convert complex to float",
     "output_type": "error",
     "traceback": [
      "\u001b[1;31m---------------------------------------------------------------------------\u001b[0m",
      "\u001b[1;31mTypeError\u001b[0m                                 Traceback (most recent call last)",
      "Input \u001b[1;32mIn [41]\u001b[0m, in \u001b[0;36m<cell line: 2>\u001b[1;34m()\u001b[0m\n\u001b[0;32m      1\u001b[0m a \u001b[38;5;241m=\u001b[39m \u001b[38;5;241m10\u001b[39m \u001b[38;5;241m+\u001b[39m \u001b[38;5;241m5\u001b[39mj\n\u001b[1;32m----> 2\u001b[0m \u001b[38;5;28;43mfloat\u001b[39;49m\u001b[43m(\u001b[49m\u001b[43ma\u001b[49m\u001b[43m)\u001b[49m\n",
      "\u001b[1;31mTypeError\u001b[0m: can't convert complex to float"
     ]
    }
   ],
   "source": [
    "a = 10 + 5j\n",
    "float(a)"
   ]
  },
  {
   "cell_type": "code",
   "execution_count": 42,
   "id": "3743bf1b",
   "metadata": {},
   "outputs": [
    {
     "data": {
      "text/plain": [
       "(10+5j)"
      ]
     },
     "execution_count": 42,
     "metadata": {},
     "output_type": "execute_result"
    }
   ],
   "source": [
    "a = 10 + 5j\n",
    "a"
   ]
  },
  {
   "cell_type": "code",
   "execution_count": 43,
   "id": "51ab8305",
   "metadata": {},
   "outputs": [
    {
     "data": {
      "text/plain": [
       "'(10+5j)'"
      ]
     },
     "execution_count": 43,
     "metadata": {},
     "output_type": "execute_result"
    }
   ],
   "source": [
    "str(a)"
   ]
  },
  {
   "cell_type": "code",
   "execution_count": 44,
   "id": "2a30d7d8",
   "metadata": {},
   "outputs": [
    {
     "data": {
      "text/plain": [
       "True"
      ]
     },
     "execution_count": 44,
     "metadata": {},
     "output_type": "execute_result"
    }
   ],
   "source": [
    "bool(a)"
   ]
  },
  {
   "cell_type": "code",
   "execution_count": 45,
   "id": "61ede1d6",
   "metadata": {},
   "outputs": [
    {
     "data": {
      "text/plain": [
       "0j"
      ]
     },
     "execution_count": 45,
     "metadata": {},
     "output_type": "execute_result"
    }
   ],
   "source": [
    "a = 0 + 0j\n",
    "a"
   ]
  },
  {
   "cell_type": "code",
   "execution_count": 46,
   "id": "976ce558",
   "metadata": {},
   "outputs": [
    {
     "data": {
      "text/plain": [
       "False"
      ]
     },
     "execution_count": 46,
     "metadata": {},
     "output_type": "execute_result"
    }
   ],
   "source": [
    "bool(a)"
   ]
  },
  {
   "cell_type": "code",
   "execution_count": 48,
   "id": "0d304c5a",
   "metadata": {
    "collapsed": true
   },
   "outputs": [
    {
     "ename": "ValueError",
     "evalue": "invalid literal for int() with base 10: 'python'",
     "output_type": "error",
     "traceback": [
      "\u001b[1;31m---------------------------------------------------------------------------\u001b[0m",
      "\u001b[1;31mValueError\u001b[0m                                Traceback (most recent call last)",
      "Input \u001b[1;32mIn [48]\u001b[0m, in \u001b[0;36m<cell line: 3>\u001b[1;34m()\u001b[0m\n\u001b[0;32m      1\u001b[0m \u001b[38;5;66;03m# str - int, float, complex, bool\u001b[39;00m\n\u001b[0;32m      2\u001b[0m s \u001b[38;5;241m=\u001b[39m \u001b[38;5;124m\"\u001b[39m\u001b[38;5;124mpython\u001b[39m\u001b[38;5;124m\"\u001b[39m\n\u001b[1;32m----> 3\u001b[0m \u001b[38;5;28;43mint\u001b[39;49m\u001b[43m(\u001b[49m\u001b[43ms\u001b[49m\u001b[43m)\u001b[49m\n",
      "\u001b[1;31mValueError\u001b[0m: invalid literal for int() with base 10: 'python'"
     ]
    }
   ],
   "source": [
    "# str - int, float, complex, bool\n",
    "s = \"python\"\n",
    "int(s)"
   ]
  },
  {
   "cell_type": "code",
   "execution_count": 50,
   "id": "5e5e4273",
   "metadata": {},
   "outputs": [
    {
     "data": {
      "text/plain": [
       "200"
      ]
     },
     "execution_count": 50,
     "metadata": {},
     "output_type": "execute_result"
    }
   ],
   "source": [
    "s = \"200      \"\n",
    "int(s)"
   ]
  },
  {
   "cell_type": "code",
   "execution_count": 56,
   "id": "f2e15e4c",
   "metadata": {},
   "outputs": [
    {
     "data": {
      "text/plain": [
       "200.0"
      ]
     },
     "execution_count": 56,
     "metadata": {},
     "output_type": "execute_result"
    }
   ],
   "source": [
    "s = \"200  \"\n",
    "float(s)"
   ]
  },
  {
   "cell_type": "code",
   "execution_count": 58,
   "id": "4e15c7c4",
   "metadata": {},
   "outputs": [
    {
     "data": {
      "text/plain": [
       "(200+0j)"
      ]
     },
     "execution_count": 58,
     "metadata": {},
     "output_type": "execute_result"
    }
   ],
   "source": [
    "s = \"200 \"\n",
    "complex(s)"
   ]
  },
  {
   "cell_type": "code",
   "execution_count": 61,
   "id": "7531d0fe",
   "metadata": {},
   "outputs": [
    {
     "data": {
      "text/plain": [
       "True"
      ]
     },
     "execution_count": 61,
     "metadata": {},
     "output_type": "execute_result"
    }
   ],
   "source": [
    "s = \"0\"\n",
    "bool(s)"
   ]
  },
  {
   "cell_type": "code",
   "execution_count": 62,
   "id": "174c7869",
   "metadata": {},
   "outputs": [
    {
     "data": {
      "text/plain": [
       "False"
      ]
     },
     "execution_count": 62,
     "metadata": {},
     "output_type": "execute_result"
    }
   ],
   "source": [
    "s = \"\"\n",
    "bool(s)"
   ]
  },
  {
   "cell_type": "code",
   "execution_count": null,
   "id": "aff0a618",
   "metadata": {},
   "outputs": [],
   "source": [
    "# Arithmatic\n",
    "# Relational/Comparison\n",
    "# Logical\n",
    "# Bitwise\n",
    "# Assignment\n",
    "# Membership\n",
    "# Identity "
   ]
  },
  {
   "cell_type": "code",
   "execution_count": null,
   "id": "32c99136",
   "metadata": {},
   "outputs": [],
   "source": [
    "# Arithmatic - +, -, *(Multiplication), /, //(floor division),\n",
    "# % - remainder, ** ( power)"
   ]
  },
  {
   "cell_type": "code",
   "execution_count": 64,
   "id": "fb0b6557",
   "metadata": {},
   "outputs": [
    {
     "data": {
      "text/plain": [
       "30"
      ]
     },
     "execution_count": 64,
     "metadata": {},
     "output_type": "execute_result"
    }
   ],
   "source": [
    "A = 10\n",
    "B = 20\n",
    "A + B"
   ]
  },
  {
   "cell_type": "code",
   "execution_count": 65,
   "id": "0762b221",
   "metadata": {},
   "outputs": [
    {
     "data": {
      "text/plain": [
       "-10"
      ]
     },
     "execution_count": 65,
     "metadata": {},
     "output_type": "execute_result"
    }
   ],
   "source": [
    "A = 10\n",
    "B = 20\n",
    "A - B"
   ]
  },
  {
   "cell_type": "code",
   "execution_count": 66,
   "id": "42dd4fda",
   "metadata": {},
   "outputs": [
    {
     "data": {
      "text/plain": [
       "200"
      ]
     },
     "execution_count": 66,
     "metadata": {},
     "output_type": "execute_result"
    }
   ],
   "source": [
    "A = 10\n",
    "B = 20\n",
    "A * B"
   ]
  },
  {
   "cell_type": "code",
   "execution_count": 68,
   "id": "7e5dfb9c",
   "metadata": {},
   "outputs": [
    {
     "data": {
      "text/plain": [
       "2.0"
      ]
     },
     "execution_count": 68,
     "metadata": {},
     "output_type": "execute_result"
    }
   ],
   "source": [
    "A = 20\n",
    "B = 10\n",
    "A / B"
   ]
  },
  {
   "cell_type": "code",
   "execution_count": 69,
   "id": "8cc7469a",
   "metadata": {},
   "outputs": [
    {
     "data": {
      "text/plain": [
       "3.3333333333333335"
      ]
     },
     "execution_count": 69,
     "metadata": {},
     "output_type": "execute_result"
    }
   ],
   "source": [
    "A = 10\n",
    "B = 3\n",
    "A / B"
   ]
  },
  {
   "cell_type": "code",
   "execution_count": 70,
   "id": "c7685914",
   "metadata": {},
   "outputs": [
    {
     "data": {
      "text/plain": [
       "3"
      ]
     },
     "execution_count": 70,
     "metadata": {},
     "output_type": "execute_result"
    }
   ],
   "source": [
    "A = 10\n",
    "B = 3\n",
    "A // B"
   ]
  },
  {
   "cell_type": "code",
   "execution_count": 71,
   "id": "3dd6de9a",
   "metadata": {},
   "outputs": [
    {
     "data": {
      "text/plain": [
       "1"
      ]
     },
     "execution_count": 71,
     "metadata": {},
     "output_type": "execute_result"
    }
   ],
   "source": [
    "A = 10\n",
    "B = 3\n",
    "A%B"
   ]
  },
  {
   "cell_type": "code",
   "execution_count": 74,
   "id": "d3cee1c3",
   "metadata": {},
   "outputs": [
    {
     "data": {
      "text/plain": [
       "3.0"
      ]
     },
     "execution_count": 74,
     "metadata": {},
     "output_type": "execute_result"
    }
   ],
   "source": [
    "A = 10.0\n",
    "B = 3.0\n",
    "A // B"
   ]
  },
  {
   "cell_type": "code",
   "execution_count": 75,
   "id": "ca704911",
   "metadata": {},
   "outputs": [
    {
     "data": {
      "text/plain": [
       "100"
      ]
     },
     "execution_count": 75,
     "metadata": {},
     "output_type": "execute_result"
    }
   ],
   "source": [
    "10 **2"
   ]
  },
  {
   "cell_type": "code",
   "execution_count": 76,
   "id": "6f093414",
   "metadata": {},
   "outputs": [
    {
     "data": {
      "text/plain": [
       "100"
      ]
     },
     "execution_count": 76,
     "metadata": {},
     "output_type": "execute_result"
    }
   ],
   "source": [
    "A = 10\n",
    "B = 2\n",
    "A**B"
   ]
  },
  {
   "cell_type": "code",
   "execution_count": 78,
   "id": "4a92c53f",
   "metadata": {},
   "outputs": [
    {
     "data": {
      "text/plain": [
       "3.1622776601683795"
      ]
     },
     "execution_count": 78,
     "metadata": {},
     "output_type": "execute_result"
    }
   ],
   "source": [
    "10**(1/2)"
   ]
  },
  {
   "cell_type": "code",
   "execution_count": 80,
   "id": "3a57ad66",
   "metadata": {},
   "outputs": [
    {
     "data": {
      "text/plain": [
       "3.1622776601683795"
      ]
     },
     "execution_count": 80,
     "metadata": {},
     "output_type": "execute_result"
    }
   ],
   "source": [
    "10**(1/2)"
   ]
  },
  {
   "cell_type": "code",
   "execution_count": null,
   "id": "d24d9ead",
   "metadata": {},
   "outputs": [],
   "source": [
    "# BODMAS - PEMDAS"
   ]
  },
  {
   "cell_type": "code",
   "execution_count": 81,
   "id": "77439e68",
   "metadata": {},
   "outputs": [
    {
     "data": {
      "text/plain": [
       "2.154434690031884"
      ]
     },
     "execution_count": 81,
     "metadata": {},
     "output_type": "execute_result"
    }
   ],
   "source": [
    "10**(1/3)"
   ]
  },
  {
   "cell_type": "code",
   "execution_count": 82,
   "id": "e26aad61",
   "metadata": {},
   "outputs": [
    {
     "data": {
      "text/plain": [
       "14.1"
      ]
     },
     "execution_count": 82,
     "metadata": {},
     "output_type": "execute_result"
    }
   ],
   "source": [
    "A = 10.6\n",
    "B = 3.5\n",
    "A + B"
   ]
  },
  {
   "cell_type": "code",
   "execution_count": 83,
   "id": "96617eb8",
   "metadata": {},
   "outputs": [
    {
     "data": {
      "text/plain": [
       "'GreatLearning'"
      ]
     },
     "execution_count": 83,
     "metadata": {},
     "output_type": "execute_result"
    }
   ],
   "source": [
    "s = \"Great\"\n",
    "s1 = \"Learning\"\n",
    "s + s1  # concatenation"
   ]
  },
  {
   "cell_type": "code",
   "execution_count": 84,
   "id": "ff53edcd",
   "metadata": {
    "collapsed": true
   },
   "outputs": [
    {
     "ename": "TypeError",
     "evalue": "unsupported operand type(s) for +: 'int' and 'str'",
     "output_type": "error",
     "traceback": [
      "\u001b[1;31m---------------------------------------------------------------------------\u001b[0m",
      "\u001b[1;31mTypeError\u001b[0m                                 Traceback (most recent call last)",
      "Input \u001b[1;32mIn [84]\u001b[0m, in \u001b[0;36m<cell line: 3>\u001b[1;34m()\u001b[0m\n\u001b[0;32m      1\u001b[0m s \u001b[38;5;241m=\u001b[39m \u001b[38;5;241m10\u001b[39m\n\u001b[0;32m      2\u001b[0m s1 \u001b[38;5;241m=\u001b[39m \u001b[38;5;124m\"\u001b[39m\u001b[38;5;124mLearning\u001b[39m\u001b[38;5;124m\"\u001b[39m\n\u001b[1;32m----> 3\u001b[0m \u001b[43ms\u001b[49m\u001b[43m \u001b[49m\u001b[38;5;241;43m+\u001b[39;49m\u001b[43m \u001b[49m\u001b[43ms1\u001b[49m\n",
      "\u001b[1;31mTypeError\u001b[0m: unsupported operand type(s) for +: 'int' and 'str'"
     ]
    }
   ],
   "source": [
    "s = 10\n",
    "s1 = \"Learning\"\n",
    "s + s1  # concatenation"
   ]
  },
  {
   "cell_type": "code",
   "execution_count": 85,
   "id": "0cbde6db",
   "metadata": {},
   "outputs": [
    {
     "data": {
      "text/plain": [
       "'10Learning'"
      ]
     },
     "execution_count": 85,
     "metadata": {},
     "output_type": "execute_result"
    }
   ],
   "source": [
    "s = 10\n",
    "s1 = \"Learning\"\n",
    "str(s) + s1  # concatenation"
   ]
  },
  {
   "cell_type": "code",
   "execution_count": 87,
   "id": "044a2f21",
   "metadata": {},
   "outputs": [
    {
     "data": {
      "text/plain": [
       "'LearningLearningLearning'"
      ]
     },
     "execution_count": 87,
     "metadata": {},
     "output_type": "execute_result"
    }
   ],
   "source": [
    "# +, *\n",
    "s1 * 3"
   ]
  },
  {
   "cell_type": "code",
   "execution_count": 88,
   "id": "f50d7c20",
   "metadata": {},
   "outputs": [
    {
     "data": {
      "text/plain": [
       "1"
      ]
     },
     "execution_count": 88,
     "metadata": {},
     "output_type": "execute_result"
    }
   ],
   "source": [
    "# \n",
    "x = True\n",
    "y = False\n",
    "True + False"
   ]
  },
  {
   "cell_type": "code",
   "execution_count": 89,
   "id": "b4695ff6",
   "metadata": {},
   "outputs": [
    {
     "data": {
      "text/plain": [
       "1"
      ]
     },
     "execution_count": 89,
     "metadata": {},
     "output_type": "execute_result"
    }
   ],
   "source": [
    "True - False"
   ]
  },
  {
   "cell_type": "code",
   "execution_count": 90,
   "id": "01909751",
   "metadata": {},
   "outputs": [
    {
     "data": {
      "text/plain": [
       "0"
      ]
     },
     "execution_count": 90,
     "metadata": {},
     "output_type": "execute_result"
    }
   ],
   "source": [
    "True * False"
   ]
  },
  {
   "cell_type": "code",
   "execution_count": 91,
   "id": "66789685",
   "metadata": {},
   "outputs": [
    {
     "data": {
      "text/plain": [
       "230"
      ]
     },
     "execution_count": 91,
     "metadata": {},
     "output_type": "execute_result"
    }
   ],
   "source": [
    "# Assignment operator =, +=, -=, /=, //=, %=, **=\n",
    "A = 230\n",
    "A"
   ]
  },
  {
   "cell_type": "code",
   "execution_count": 92,
   "id": "ce69a5f9",
   "metadata": {},
   "outputs": [
    {
     "data": {
      "text/plain": [
       "240"
      ]
     },
     "execution_count": 92,
     "metadata": {},
     "output_type": "execute_result"
    }
   ],
   "source": [
    "A += 10  # A = A+10\n",
    "A"
   ]
  },
  {
   "cell_type": "code",
   "execution_count": 93,
   "id": "b0f6054e",
   "metadata": {},
   "outputs": [
    {
     "data": {
      "text/plain": [
       "230"
      ]
     },
     "execution_count": 93,
     "metadata": {},
     "output_type": "execute_result"
    }
   ],
   "source": [
    "A -= 10  # A = A-10\n",
    "A"
   ]
  },
  {
   "cell_type": "code",
   "execution_count": 94,
   "id": "ac2ce9df",
   "metadata": {},
   "outputs": [
    {
     "data": {
      "text/plain": [
       "460"
      ]
     },
     "execution_count": 94,
     "metadata": {},
     "output_type": "execute_result"
    }
   ],
   "source": [
    "A *= 2  # A = A*2\n",
    "A"
   ]
  },
  {
   "cell_type": "code",
   "execution_count": 95,
   "id": "92d99729",
   "metadata": {},
   "outputs": [
    {
     "data": {
      "text/plain": [
       "'pythonprogramming'"
      ]
     },
     "execution_count": 95,
     "metadata": {},
     "output_type": "execute_result"
    }
   ],
   "source": [
    "s = \"python\"\n",
    "s += \"programming\"  # s = s + \"programming\"\n",
    "s"
   ]
  },
  {
   "cell_type": "code",
   "execution_count": 96,
   "id": "9c5154df",
   "metadata": {},
   "outputs": [
    {
     "data": {
      "text/plain": [
       "'pythonprogrammingpythonprogramming'"
      ]
     },
     "execution_count": 96,
     "metadata": {},
     "output_type": "execute_result"
    }
   ],
   "source": [
    "s *= 2\n",
    "s"
   ]
  },
  {
   "cell_type": "code",
   "execution_count": 97,
   "id": "abd1e665",
   "metadata": {},
   "outputs": [
    {
     "data": {
      "text/plain": [
       "False"
      ]
     },
     "execution_count": 97,
     "metadata": {},
     "output_type": "execute_result"
    }
   ],
   "source": [
    "# Relational/ Comparison operator\n",
    "# >, <, >=,<= != , ==\n",
    "\n",
    "age = 10\n",
    "age >= 18 # output is boolean - True/False"
   ]
  },
  {
   "cell_type": "code",
   "execution_count": 101,
   "id": "470d121c",
   "metadata": {},
   "outputs": [
    {
     "data": {
      "text/plain": [
       "True"
      ]
     },
     "execution_count": 101,
     "metadata": {},
     "output_type": "execute_result"
    }
   ],
   "source": [
    "age = 18\n",
    "age <= 18 # output is boolean - True/False"
   ]
  },
  {
   "cell_type": "code",
   "execution_count": 103,
   "id": "0eb1b890",
   "metadata": {},
   "outputs": [
    {
     "data": {
      "text/plain": [
       "False"
      ]
     },
     "execution_count": 103,
     "metadata": {},
     "output_type": "execute_result"
    }
   ],
   "source": [
    "age = 24\n",
    "age < 18 # output is boolean - True/False"
   ]
  },
  {
   "cell_type": "code",
   "execution_count": 105,
   "id": "607618d4",
   "metadata": {},
   "outputs": [
    {
     "data": {
      "text/plain": [
       "False"
      ]
     },
     "execution_count": 105,
     "metadata": {},
     "output_type": "execute_result"
    }
   ],
   "source": [
    "age != 24"
   ]
  },
  {
   "cell_type": "code",
   "execution_count": 106,
   "id": "1c55175f",
   "metadata": {},
   "outputs": [
    {
     "data": {
      "text/plain": [
       "True"
      ]
     },
     "execution_count": 106,
     "metadata": {},
     "output_type": "execute_result"
    }
   ],
   "source": [
    "age == 24"
   ]
  },
  {
   "cell_type": "code",
   "execution_count": 118,
   "id": "5f02cd0f",
   "metadata": {},
   "outputs": [
    {
     "data": {
      "text/plain": [
       "False"
      ]
     },
     "execution_count": 118,
     "metadata": {},
     "output_type": "execute_result"
    }
   ],
   "source": [
    "s = \"PYthon\"\n",
    "s1 = \"Python\"\n",
    "s > s1"
   ]
  },
  {
   "cell_type": "code",
   "execution_count": 115,
   "id": "8aff30a5",
   "metadata": {},
   "outputs": [
    {
     "data": {
      "text/plain": [
       "112"
      ]
     },
     "execution_count": 115,
     "metadata": {},
     "output_type": "execute_result"
    }
   ],
   "source": [
    "ord(\"p\")"
   ]
  },
  {
   "cell_type": "code",
   "execution_count": 109,
   "id": "4479a093",
   "metadata": {},
   "outputs": [
    {
     "data": {
      "text/plain": [
       "'p'"
      ]
     },
     "execution_count": 109,
     "metadata": {},
     "output_type": "execute_result"
    }
   ],
   "source": [
    "chr(112)"
   ]
  },
  {
   "cell_type": "code",
   "execution_count": 116,
   "id": "242a2118",
   "metadata": {},
   "outputs": [
    {
     "data": {
      "text/plain": [
       "80"
      ]
     },
     "execution_count": 116,
     "metadata": {},
     "output_type": "execute_result"
    }
   ],
   "source": [
    "ord(\"P\")"
   ]
  },
  {
   "cell_type": "code",
   "execution_count": 119,
   "id": "8ac81b14",
   "metadata": {},
   "outputs": [
    {
     "data": {
      "text/plain": [
       "True"
      ]
     },
     "execution_count": 119,
     "metadata": {},
     "output_type": "execute_result"
    }
   ],
   "source": [
    "True > False"
   ]
  },
  {
   "cell_type": "code",
   "execution_count": null,
   "id": "60e8b588",
   "metadata": {},
   "outputs": [],
   "source": [
    "#Logical -\n",
    "# And, Or and Not\n",
    "# And - When all condition is True then output is true\n",
    "# Or - One of the condition  must be True\n",
    "# Not - Negates the output"
   ]
  },
  {
   "cell_type": "code",
   "execution_count": 123,
   "id": "7bf0285a",
   "metadata": {},
   "outputs": [
    {
     "data": {
      "text/plain": [
       "False"
      ]
     },
     "execution_count": 123,
     "metadata": {},
     "output_type": "execute_result"
    }
   ],
   "source": [
    "age = 20\n",
    "country = \"India\"\n",
    "\n",
    "(age >= 18)   and    (country == \"Australia\")"
   ]
  },
  {
   "cell_type": "code",
   "execution_count": 126,
   "id": "602dbf31",
   "metadata": {},
   "outputs": [
    {
     "data": {
      "text/plain": [
       "False"
      ]
     },
     "execution_count": 126,
     "metadata": {},
     "output_type": "execute_result"
    }
   ],
   "source": [
    "age = 12\n",
    "country = \"Australia\"\n",
    "\n",
    "(age >= 18)   or    (country == \"India\")"
   ]
  },
  {
   "cell_type": "code",
   "execution_count": 128,
   "id": "19d8ed61",
   "metadata": {},
   "outputs": [
    {
     "data": {
      "text/plain": [
       "True"
      ]
     },
     "execution_count": 128,
     "metadata": {},
     "output_type": "execute_result"
    }
   ],
   "source": [
    "not(False)"
   ]
  },
  {
   "cell_type": "code",
   "execution_count": 130,
   "id": "975c252c",
   "metadata": {},
   "outputs": [
    {
     "data": {
      "text/plain": [
       "True"
      ]
     },
     "execution_count": 130,
     "metadata": {},
     "output_type": "execute_result"
    }
   ],
   "source": [
    "age = 12\n",
    "country = \"Australia\"\n",
    "\n",
    "not(  (age >= 18)   or    (country == \"India\") )"
   ]
  },
  {
   "cell_type": "code",
   "execution_count": null,
   "id": "d7cf9aa7",
   "metadata": {},
   "outputs": [],
   "source": [
    "# Membership operator - in , not in  - True/False\n",
    "# it can be only used on sequence - iterables - str, list, tuple, dict, set"
   ]
  },
  {
   "cell_type": "code",
   "execution_count": 131,
   "id": "8a0bd771",
   "metadata": {},
   "outputs": [
    {
     "data": {
      "text/plain": [
       "'PYthon'"
      ]
     },
     "execution_count": 131,
     "metadata": {},
     "output_type": "execute_result"
    }
   ],
   "source": [
    "s"
   ]
  },
  {
   "cell_type": "code",
   "execution_count": 132,
   "id": "e54b5028",
   "metadata": {},
   "outputs": [
    {
     "data": {
      "text/plain": [
       "True"
      ]
     },
     "execution_count": 132,
     "metadata": {},
     "output_type": "execute_result"
    }
   ],
   "source": [
    "\"PY\" in s"
   ]
  },
  {
   "cell_type": "code",
   "execution_count": 133,
   "id": "d675a627",
   "metadata": {},
   "outputs": [
    {
     "data": {
      "text/plain": [
       "False"
      ]
     },
     "execution_count": 133,
     "metadata": {},
     "output_type": "execute_result"
    }
   ],
   "source": [
    "\"Py\" in s"
   ]
  },
  {
   "cell_type": "code",
   "execution_count": 134,
   "id": "7ab6fa29",
   "metadata": {},
   "outputs": [
    {
     "data": {
      "text/plain": [
       "False"
      ]
     },
     "execution_count": 134,
     "metadata": {},
     "output_type": "execute_result"
    }
   ],
   "source": [
    "\"Po\" in s"
   ]
  },
  {
   "cell_type": "code",
   "execution_count": 135,
   "id": "48502f1f",
   "metadata": {},
   "outputs": [
    {
     "data": {
      "text/plain": [
       "True"
      ]
     },
     "execution_count": 135,
     "metadata": {},
     "output_type": "execute_result"
    }
   ],
   "source": [
    "\"Po\" not in s"
   ]
  },
  {
   "cell_type": "code",
   "execution_count": null,
   "id": "2bfc348d",
   "metadata": {},
   "outputs": [],
   "source": [
    "# Bitwise "
   ]
  },
  {
   "cell_type": "code",
   "execution_count": 136,
   "id": "dd4e6860",
   "metadata": {},
   "outputs": [
    {
     "data": {
      "text/plain": [
       "'0b1010'"
      ]
     },
     "execution_count": 136,
     "metadata": {},
     "output_type": "execute_result"
    }
   ],
   "source": [
    "bin(10)"
   ]
  },
  {
   "cell_type": "code",
   "execution_count": null,
   "id": "b1d845ba",
   "metadata": {},
   "outputs": [],
   "source": [
    "# &, |, ^ (XOR), ~, >> , << "
   ]
  },
  {
   "cell_type": "code",
   "execution_count": 137,
   "id": "aea9de69",
   "metadata": {},
   "outputs": [
    {
     "data": {
      "text/plain": [
       "10"
      ]
     },
     "execution_count": 137,
     "metadata": {},
     "output_type": "execute_result"
    }
   ],
   "source": [
    "a = 10\n",
    "b = 11\n",
    "a & b"
   ]
  },
  {
   "cell_type": "code",
   "execution_count": 138,
   "id": "21987116",
   "metadata": {},
   "outputs": [
    {
     "data": {
      "text/plain": [
       "11"
      ]
     },
     "execution_count": 138,
     "metadata": {},
     "output_type": "execute_result"
    }
   ],
   "source": [
    "a = 10\n",
    "b = 11\n",
    "a | b"
   ]
  },
  {
   "cell_type": "code",
   "execution_count": 139,
   "id": "c3dfbb2d",
   "metadata": {},
   "outputs": [
    {
     "data": {
      "text/plain": [
       "1"
      ]
     },
     "execution_count": 139,
     "metadata": {},
     "output_type": "execute_result"
    }
   ],
   "source": [
    "a = 10\n",
    "b = 11\n",
    "a ^ b  # if both bits are different we will get 1 else \n",
    "       # if they are same we get 0"
   ]
  },
  {
   "cell_type": "code",
   "execution_count": 140,
   "id": "fea92ab8",
   "metadata": {},
   "outputs": [
    {
     "data": {
      "text/plain": [
       "-11"
      ]
     },
     "execution_count": 140,
     "metadata": {},
     "output_type": "execute_result"
    }
   ],
   "source": [
    "a = 10\n",
    "~a       # -n-1 "
   ]
  },
  {
   "cell_type": "code",
   "execution_count": 142,
   "id": "83bce90c",
   "metadata": {},
   "outputs": [
    {
     "data": {
      "text/plain": [
       "19"
      ]
     },
     "execution_count": 142,
     "metadata": {},
     "output_type": "execute_result"
    }
   ],
   "source": [
    "a = -20\n",
    "~a       # -n-1 "
   ]
  },
  {
   "cell_type": "code",
   "execution_count": 144,
   "id": "d622ab3d",
   "metadata": {},
   "outputs": [
    {
     "data": {
      "text/plain": [
       "1"
      ]
     },
     "execution_count": 144,
     "metadata": {},
     "output_type": "execute_result"
    }
   ],
   "source": [
    "# left and right shift\n",
    "10 >> 3  # right shift"
   ]
  },
  {
   "cell_type": "code",
   "execution_count": 145,
   "id": "1ea4c89c",
   "metadata": {},
   "outputs": [
    {
     "data": {
      "text/plain": [
       "40"
      ]
     },
     "execution_count": 145,
     "metadata": {},
     "output_type": "execute_result"
    }
   ],
   "source": [
    "10 << 2  # left shift"
   ]
  },
  {
   "cell_type": "code",
   "execution_count": null,
   "id": "074cb167",
   "metadata": {},
   "outputs": [],
   "source": []
  },
  {
   "cell_type": "code",
   "execution_count": null,
   "id": "35bc0d15",
   "metadata": {},
   "outputs": [],
   "source": []
  },
  {
   "cell_type": "code",
   "execution_count": null,
   "id": "f41e3105",
   "metadata": {},
   "outputs": [],
   "source": []
  },
  {
   "cell_type": "code",
   "execution_count": null,
   "id": "d5c464fc",
   "metadata": {},
   "outputs": [],
   "source": []
  }
 ],
 "metadata": {
  "kernelspec": {
   "display_name": "Python 3 (ipykernel)",
   "language": "python",
   "name": "python3"
  },
  "language_info": {
   "codemirror_mode": {
    "name": "ipython",
    "version": 3
   },
   "file_extension": ".py",
   "mimetype": "text/x-python",
   "name": "python",
   "nbconvert_exporter": "python",
   "pygments_lexer": "ipython3",
   "version": "3.10.9"
  }
 },
 "nbformat": 4,
 "nbformat_minor": 5
}
