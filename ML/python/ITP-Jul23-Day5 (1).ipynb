{
 "cells": [
  {
   "cell_type": "code",
   "execution_count": 1,
   "id": "9777ca06",
   "metadata": {},
   "outputs": [],
   "source": [
    "# import random\n",
    "# ch = random.choice(c)\n",
    "# ch"
   ]
  },
  {
   "cell_type": "code",
   "execution_count": 2,
   "id": "a4354b16",
   "metadata": {},
   "outputs": [],
   "source": [
    "# \"Enter your choice - \" \"Paper\""
   ]
  },
  {
   "cell_type": "code",
   "execution_count": 3,
   "id": "325fda26",
   "metadata": {},
   "outputs": [
    {
     "name": "stdout",
     "output_type": "stream",
     "text": [
      "Enter your choice -  ['Rock', 'Paper', 'Scissor']rock\n",
      "Tie\n",
      "User choice is rock and  computer choice is Rock\n",
      "Enter your choice -  ['Rock', 'Paper', 'Scissor']paper\n",
      "Computer Wins!\n",
      "User choice is paper and  computer choice is Scissor\n",
      "Enter your choice -  ['Rock', 'Paper', 'Scissor']scissor\n",
      "Computer Wins!\n",
      "User choice is scissor and  computer choice is Paper\n",
      "Enter your choice -  ['Rock', 'Paper', 'Scissor']paper\n",
      "Tie\n",
      "User choice is paper and  computer choice is Paper\n",
      "Enter your choice -  ['Rock', 'Paper', 'Scissor']rock\n",
      "Computer Wins!\n",
      "User choice is rock and  computer choice is Paper\n"
     ]
    }
   ],
   "source": [
    "import random\n",
    "\n",
    "for i in range(5):\n",
    "    \n",
    "    c = [\"Rock\", \"Paper\", \"Scissor\"]\n",
    "    ch = random.choice(c)\n",
    "    user_c = input(\"Enter your choice -  ['Rock', 'Paper', 'Scissor']\")\n",
    "\n",
    "    if ch.lower() == user_c.lower():\n",
    "        print(\"Tie\")\n",
    "        print(f\"User choice is {user_c} and  computer choice is {ch}\")\n",
    "\n",
    "    elif (user_c == \"Rock\" and ch==\"Scissor\")\\\n",
    "    or (user_c==\"Paper\" and ch == \"Rock\") or \\\n",
    "    (user_c==\"Scissor\" and ch == \"Paper\"):\n",
    "        print(\"User Wins!\")\n",
    "        print(f\"User choice is {user_c} and  computer choice is {ch}\")\n",
    "    else:\n",
    "        print(\"Computer Wins!\")\n",
    "        print(f\"User choice is {user_c} and  computer choice is {ch}\")"
   ]
  },
  {
   "cell_type": "code",
   "execution_count": 4,
   "id": "ede3a772",
   "metadata": {},
   "outputs": [],
   "source": [
    "def Greet():\n",
    "    return \"Good Morning\""
   ]
  },
  {
   "cell_type": "code",
   "execution_count": 5,
   "id": "2f7b3215",
   "metadata": {},
   "outputs": [
    {
     "data": {
      "text/plain": [
       "'Good Morning'"
      ]
     },
     "execution_count": 5,
     "metadata": {},
     "output_type": "execute_result"
    }
   ],
   "source": [
    "Greet()"
   ]
  },
  {
   "cell_type": "code",
   "execution_count": 6,
   "id": "5f3cb584",
   "metadata": {},
   "outputs": [
    {
     "ename": "TypeError",
     "evalue": "Greet() takes 0 positional arguments but 1 was given",
     "output_type": "error",
     "traceback": [
      "\u001b[1;31m---------------------------------------------------------------------------\u001b[0m",
      "\u001b[1;31mTypeError\u001b[0m                                 Traceback (most recent call last)",
      "Cell \u001b[1;32mIn[6], line 1\u001b[0m\n\u001b[1;32m----> 1\u001b[0m \u001b[43mGreet\u001b[49m\u001b[43m(\u001b[49m\u001b[38;5;124;43m\"\u001b[39;49m\u001b[38;5;124;43mgood eveneing\u001b[39;49m\u001b[38;5;124;43m\"\u001b[39;49m\u001b[43m)\u001b[49m\n",
      "\u001b[1;31mTypeError\u001b[0m: Greet() takes 0 positional arguments but 1 was given"
     ]
    }
   ],
   "source": [
    "Greet(\"good eveneing\")"
   ]
  },
  {
   "cell_type": "code",
   "execution_count": 7,
   "id": "5191288a",
   "metadata": {},
   "outputs": [],
   "source": [
    "# positional argument\n",
    "def getNewPrice(price, discount):\n",
    "    new_price = price - (price * discount)\n",
    "    return new_price"
   ]
  },
  {
   "cell_type": "code",
   "execution_count": 8,
   "id": "4a769bc2",
   "metadata": {},
   "outputs": [
    {
     "data": {
      "text/plain": [
       "450.0"
      ]
     },
     "execution_count": 8,
     "metadata": {},
     "output_type": "execute_result"
    }
   ],
   "source": [
    "getNewPrice(500,0.1)"
   ]
  },
  {
   "cell_type": "code",
   "execution_count": 9,
   "id": "8b3a4ce3",
   "metadata": {
    "scrolled": true
   },
   "outputs": [
    {
     "data": {
      "text/plain": [
       "-49.9"
      ]
     },
     "execution_count": 9,
     "metadata": {},
     "output_type": "execute_result"
    }
   ],
   "source": [
    "getNewPrice(0.1,500)"
   ]
  },
  {
   "cell_type": "code",
   "execution_count": 24,
   "id": "12736412",
   "metadata": {},
   "outputs": [
    {
     "data": {
      "text/plain": [
       "450.0"
      ]
     },
     "execution_count": 24,
     "metadata": {},
     "output_type": "execute_result"
    }
   ],
   "source": [
    "# keyword arguments\n",
    "getNewPrice(price = 500, discount=0.1)"
   ]
  },
  {
   "cell_type": "code",
   "execution_count": 25,
   "id": "c784b1eb",
   "metadata": {},
   "outputs": [
    {
     "data": {
      "text/plain": [
       "450.0"
      ]
     },
     "execution_count": 25,
     "metadata": {},
     "output_type": "execute_result"
    }
   ],
   "source": [
    "getNewPrice( discount=0.1,price = 500)"
   ]
  },
  {
   "cell_type": "code",
   "execution_count": 26,
   "id": "e05505ba",
   "metadata": {},
   "outputs": [
    {
     "data": {
      "text/plain": [
       "450.0"
      ]
     },
     "execution_count": 26,
     "metadata": {},
     "output_type": "execute_result"
    }
   ],
   "source": [
    "getNewPrice(500, discount=0.1)"
   ]
  },
  {
   "cell_type": "code",
   "execution_count": 27,
   "id": "ccbde1dc",
   "metadata": {
    "collapsed": true
   },
   "outputs": [
    {
     "ename": "SyntaxError",
     "evalue": "positional argument follows keyword argument (2652701301.py, line 1)",
     "output_type": "error",
     "traceback": [
      "\u001b[1;36m  Input \u001b[1;32mIn [27]\u001b[1;36m\u001b[0m\n\u001b[1;33m    getNewPrice(discount=0.1,500)\u001b[0m\n\u001b[1;37m                                ^\u001b[0m\n\u001b[1;31mSyntaxError\u001b[0m\u001b[1;31m:\u001b[0m positional argument follows keyword argument\n"
     ]
    }
   ],
   "source": [
    "getNewPrice(discount=0.1,500)"
   ]
  },
  {
   "cell_type": "code",
   "execution_count": null,
   "id": "8cfd2f25",
   "metadata": {},
   "outputs": [],
   "source": [
    "# we should give positional argument then only we can give keyword argument"
   ]
  },
  {
   "cell_type": "code",
   "execution_count": 29,
   "id": "66dc6b11",
   "metadata": {},
   "outputs": [],
   "source": [
    "# \n",
    "def getNewPrice(price, name,discount):\n",
    "    new_price = price - (price * discount)\n",
    "    return f\" Discounted price of {name} is {new_price}\""
   ]
  },
  {
   "cell_type": "code",
   "execution_count": 30,
   "id": "d695a675",
   "metadata": {},
   "outputs": [
    {
     "data": {
      "text/plain": [
       "' Discounted price of Shoes is 425.0'"
      ]
     },
     "execution_count": 30,
     "metadata": {},
     "output_type": "execute_result"
    }
   ],
   "source": [
    "getNewPrice(500,\"Shoes\", 0.15)"
   ]
  },
  {
   "cell_type": "code",
   "execution_count": 31,
   "id": "26d786f9",
   "metadata": {},
   "outputs": [
    {
     "data": {
      "text/plain": [
       "' Discounted price of Shoes is 425.0'"
      ]
     },
     "execution_count": 31,
     "metadata": {},
     "output_type": "execute_result"
    }
   ],
   "source": [
    "getNewPrice(price=500,name=\"Shoes\", discount=0.15)"
   ]
  },
  {
   "cell_type": "code",
   "execution_count": 32,
   "id": "b379176a",
   "metadata": {},
   "outputs": [
    {
     "data": {
      "text/plain": [
       "' Discounted price of Shoes is 425.0'"
      ]
     },
     "execution_count": 32,
     "metadata": {},
     "output_type": "execute_result"
    }
   ],
   "source": [
    "getNewPrice(500,\"Shoes\", discount=0.15)"
   ]
  },
  {
   "cell_type": "code",
   "execution_count": 33,
   "id": "02aec193",
   "metadata": {
    "collapsed": true
   },
   "outputs": [
    {
     "ename": "SyntaxError",
     "evalue": "positional argument follows keyword argument (3910092629.py, line 1)",
     "output_type": "error",
     "traceback": [
      "\u001b[1;36m  Input \u001b[1;32mIn [33]\u001b[1;36m\u001b[0m\n\u001b[1;33m    getNewPrice(price=500,\"Shoes\", discount=0.15)\u001b[0m\n\u001b[1;37m                                                ^\u001b[0m\n\u001b[1;31mSyntaxError\u001b[0m\u001b[1;31m:\u001b[0m positional argument follows keyword argument\n"
     ]
    }
   ],
   "source": [
    "getNewPrice(price=500,\"Shoes\", discount=0.15)"
   ]
  },
  {
   "cell_type": "code",
   "execution_count": 35,
   "id": "66cd76b3",
   "metadata": {},
   "outputs": [
    {
     "data": {
      "text/plain": [
       "' Discounted price of Shoe is 425.0'"
      ]
     },
     "execution_count": 35,
     "metadata": {},
     "output_type": "execute_result"
    }
   ],
   "source": [
    "getNewPrice(500, name=\"Shoe\",discount=0.15)"
   ]
  },
  {
   "cell_type": "code",
   "execution_count": 30,
   "id": "4f884278",
   "metadata": {},
   "outputs": [],
   "source": [
    "# default argument\n",
    "def getNewPrice(price, name,discount = 0.1):\n",
    "    new_price = price - (price * discount)\n",
    "    return f\" Discounted price of {name} is {new_price}\""
   ]
  },
  {
   "cell_type": "code",
   "execution_count": 45,
   "id": "02deee99",
   "metadata": {},
   "outputs": [
    {
     "data": {
      "text/plain": [
       "' Discounted price of Shoe is 450.0'"
      ]
     },
     "execution_count": 45,
     "metadata": {},
     "output_type": "execute_result"
    }
   ],
   "source": [
    "getNewPrice(500,\"Shoe\")"
   ]
  },
  {
   "cell_type": "code",
   "execution_count": 46,
   "id": "0f55a0ea",
   "metadata": {},
   "outputs": [
    {
     "data": {
      "text/plain": [
       "' Discounted price of Shoe is 425.0'"
      ]
     },
     "execution_count": 46,
     "metadata": {},
     "output_type": "execute_result"
    }
   ],
   "source": [
    "getNewPrice(500,\"Shoe\", 0.15)"
   ]
  },
  {
   "cell_type": "code",
   "execution_count": 47,
   "id": "66a26832",
   "metadata": {},
   "outputs": [
    {
     "data": {
      "text/plain": [
       "' Discounted price of Shoe is 540.0'"
      ]
     },
     "execution_count": 47,
     "metadata": {},
     "output_type": "execute_result"
    }
   ],
   "source": [
    "getNewPrice(600,\"Shoe\")"
   ]
  },
  {
   "cell_type": "code",
   "execution_count": 48,
   "id": "85e4546e",
   "metadata": {},
   "outputs": [],
   "source": [
    "# d = {\"A\" :10, \"B\" : 20}\n",
    "# print(d.get(\"Z\"))"
   ]
  },
  {
   "cell_type": "code",
   "execution_count": 49,
   "id": "8bb0d9e3",
   "metadata": {},
   "outputs": [],
   "source": [
    "# ln = [\"S1\",\"S2\",\"S3\"]\n",
    "# dict.fromkeys(ln)"
   ]
  },
  {
   "cell_type": "code",
   "execution_count": null,
   "id": "d85fac13",
   "metadata": {},
   "outputs": [],
   "source": [
    "# User defined \n",
    "# Builtin - min, max, sum, len"
   ]
  },
  {
   "cell_type": "code",
   "execution_count": 54,
   "id": "c6a5c501",
   "metadata": {},
   "outputs": [
    {
     "data": {
      "text/plain": [
       "2"
      ]
     },
     "execution_count": 54,
     "metadata": {},
     "output_type": "execute_result"
    }
   ],
   "source": [
    "min(10,12,15,5,2, 16)"
   ]
  },
  {
   "cell_type": "code",
   "execution_count": 57,
   "id": "6dffb1c2",
   "metadata": {},
   "outputs": [],
   "source": [
    "#getNewPrice(500)"
   ]
  },
  {
   "cell_type": "code",
   "execution_count": 58,
   "id": "79fa265b",
   "metadata": {},
   "outputs": [
    {
     "data": {
      "text/plain": [
       "10"
      ]
     },
     "execution_count": 58,
     "metadata": {},
     "output_type": "execute_result"
    }
   ],
   "source": [
    "# variable len argument\n",
    "a,*b = 10,12,24,5\n",
    "a"
   ]
  },
  {
   "cell_type": "code",
   "execution_count": 59,
   "id": "a2635b4f",
   "metadata": {},
   "outputs": [
    {
     "data": {
      "text/plain": [
       "[12, 24, 5]"
      ]
     },
     "execution_count": 59,
     "metadata": {},
     "output_type": "execute_result"
    }
   ],
   "source": [
    "b"
   ]
  },
  {
   "cell_type": "code",
   "execution_count": 60,
   "id": "5076731c",
   "metadata": {},
   "outputs": [],
   "source": [
    "def VarLenfunc(*a):\n",
    "    return a"
   ]
  },
  {
   "cell_type": "code",
   "execution_count": 61,
   "id": "e31ff921",
   "metadata": {},
   "outputs": [
    {
     "data": {
      "text/plain": [
       "(10, 12)"
      ]
     },
     "execution_count": 61,
     "metadata": {},
     "output_type": "execute_result"
    }
   ],
   "source": [
    "VarLenfunc(10,12)"
   ]
  },
  {
   "cell_type": "code",
   "execution_count": 62,
   "id": "05ee8146",
   "metadata": {},
   "outputs": [
    {
     "data": {
      "text/plain": [
       "(10, 12, 56, 99)"
      ]
     },
     "execution_count": 62,
     "metadata": {},
     "output_type": "execute_result"
    }
   ],
   "source": [
    "VarLenfunc(10,12,56,99)"
   ]
  },
  {
   "cell_type": "code",
   "execution_count": null,
   "id": "4286a26d",
   "metadata": {},
   "outputs": [],
   "source": [
    "# Jul23 - 75 \n",
    "# Apr23 - 30"
   ]
  },
  {
   "cell_type": "code",
   "execution_count": 10,
   "id": "1aa45219",
   "metadata": {},
   "outputs": [],
   "source": [
    "def PassFailedCount(*a):\n",
    "    c_p = 0\n",
    "    c_f = 0\n",
    "    for i in a:\n",
    "        if i >= 18:\n",
    "            c_p += 1\n",
    "        else:\n",
    "            c_f += 1\n",
    "    return c_p,c_f "
   ]
  },
  {
   "cell_type": "code",
   "execution_count": 12,
   "id": "0d07a306",
   "metadata": {},
   "outputs": [
    {
     "data": {
      "text/plain": [
       "(4, 2)"
      ]
     },
     "execution_count": 12,
     "metadata": {},
     "output_type": "execute_result"
    }
   ],
   "source": [
    "PassFailedCount(24,14, 22, 28, 12,29)"
   ]
  },
  {
   "cell_type": "code",
   "execution_count": 71,
   "id": "8b138dc7",
   "metadata": {
    "collapsed": true
   },
   "outputs": [
    {
     "data": {
      "text/plain": [
       "2"
      ]
     },
     "execution_count": 71,
     "metadata": {},
     "output_type": "execute_result"
    }
   ],
   "source": [
    "b"
   ]
  },
  {
   "cell_type": "code",
   "execution_count": 13,
   "id": "6e2db454",
   "metadata": {},
   "outputs": [],
   "source": [
    "def PassFailedCount(**x): # keyword variable len argument\n",
    "    return x"
   ]
  },
  {
   "cell_type": "code",
   "execution_count": 17,
   "id": "e908fd2e",
   "metadata": {},
   "outputs": [
    {
     "data": {
      "text/plain": [
       "{'S1': 12, 'S2': 22, 'S3': 24}"
      ]
     },
     "execution_count": 17,
     "metadata": {},
     "output_type": "execute_result"
    }
   ],
   "source": [
    "PassFailedCount(S1 = 12, S2 = 22, S3 = 24)"
   ]
  },
  {
   "cell_type": "code",
   "execution_count": 1,
   "id": "cfc4a3ce",
   "metadata": {},
   "outputs": [],
   "source": [
    "# scope of variables\n",
    "z = 10  # global variable\n",
    "\n",
    "def func():\n",
    "    X = 20  #local variable - Cnnot be accessed outside the function\n",
    "    return z+X"
   ]
  },
  {
   "cell_type": "code",
   "execution_count": 2,
   "id": "096bda66",
   "metadata": {},
   "outputs": [
    {
     "name": "stdout",
     "output_type": "stream",
     "text": [
      "10\n"
     ]
    }
   ],
   "source": [
    "print(z)"
   ]
  },
  {
   "cell_type": "code",
   "execution_count": 3,
   "id": "85027e70",
   "metadata": {
    "collapsed": true
   },
   "outputs": [
    {
     "ename": "NameError",
     "evalue": "name 'X' is not defined",
     "output_type": "error",
     "traceback": [
      "\u001b[1;31m---------------------------------------------------------------------------\u001b[0m",
      "\u001b[1;31mNameError\u001b[0m                                 Traceback (most recent call last)",
      "Cell \u001b[1;32mIn[3], line 1\u001b[0m\n\u001b[1;32m----> 1\u001b[0m \u001b[38;5;28mprint\u001b[39m(\u001b[43mX\u001b[49m)\n",
      "\u001b[1;31mNameError\u001b[0m: name 'X' is not defined"
     ]
    }
   ],
   "source": [
    "print(X)"
   ]
  },
  {
   "cell_type": "code",
   "execution_count": 21,
   "id": "cd6c3f0c",
   "metadata": {},
   "outputs": [
    {
     "data": {
      "text/plain": [
       "30"
      ]
     },
     "execution_count": 21,
     "metadata": {},
     "output_type": "execute_result"
    }
   ],
   "source": [
    "func()"
   ]
  },
  {
   "cell_type": "code",
   "execution_count": 22,
   "id": "3a001b7c",
   "metadata": {},
   "outputs": [],
   "source": [
    "# scope of variables\n",
    "z = 10  # global variable\n",
    "\n",
    "def func():\n",
    "    global z\n",
    "    z += 20  \n",
    "    return z"
   ]
  },
  {
   "cell_type": "code",
   "execution_count": 23,
   "id": "cd8009a9",
   "metadata": {},
   "outputs": [
    {
     "data": {
      "text/plain": [
       "30"
      ]
     },
     "execution_count": 23,
     "metadata": {},
     "output_type": "execute_result"
    }
   ],
   "source": [
    "func()"
   ]
  },
  {
   "cell_type": "code",
   "execution_count": 89,
   "id": "0804deac",
   "metadata": {},
   "outputs": [
    {
     "name": "stdout",
     "output_type": "stream",
     "text": [
      "30\n"
     ]
    }
   ],
   "source": [
    "print(z)"
   ]
  },
  {
   "cell_type": "code",
   "execution_count": 90,
   "id": "000742e4",
   "metadata": {},
   "outputs": [
    {
     "data": {
      "text/plain": [
       "50"
      ]
     },
     "execution_count": 90,
     "metadata": {},
     "output_type": "execute_result"
    }
   ],
   "source": [
    "func()"
   ]
  },
  {
   "cell_type": "code",
   "execution_count": 91,
   "id": "351f9753",
   "metadata": {},
   "outputs": [
    {
     "name": "stdout",
     "output_type": "stream",
     "text": [
      "50\n"
     ]
    }
   ],
   "source": [
    "print(z)"
   ]
  },
  {
   "cell_type": "code",
   "execution_count": 8,
   "id": "6c33fbe3",
   "metadata": {},
   "outputs": [],
   "source": [
    "# enclosed variable\n",
    "def outer():\n",
    "    C = 10  # local\n",
    "    def inner():\n",
    "        D = 50   # local\n",
    "        result = C+D  # enclosed - C\n",
    "        return result\n",
    "    \n",
    "    return inner()"
   ]
  },
  {
   "cell_type": "code",
   "execution_count": 9,
   "id": "47aec363",
   "metadata": {},
   "outputs": [
    {
     "data": {
      "text/plain": [
       "60"
      ]
     },
     "execution_count": 9,
     "metadata": {},
     "output_type": "execute_result"
    }
   ],
   "source": [
    "outer()"
   ]
  },
  {
   "cell_type": "code",
   "execution_count": 10,
   "id": "7218e2bf",
   "metadata": {},
   "outputs": [],
   "source": [
    "# enclosed variable\n",
    "def outer():\n",
    "    C = 10  # local\n",
    "    def inner():\n",
    "        nonlocal C\n",
    "        D = 50   # local\n",
    "        C += D  # enclosed - C\n",
    "        return C\n",
    "    \n",
    "    return inner()"
   ]
  },
  {
   "cell_type": "code",
   "execution_count": 11,
   "id": "73150506",
   "metadata": {},
   "outputs": [
    {
     "data": {
      "text/plain": [
       "60"
      ]
     },
     "execution_count": 11,
     "metadata": {},
     "output_type": "execute_result"
    }
   ],
   "source": [
    "outer()"
   ]
  },
  {
   "cell_type": "code",
   "execution_count": 28,
   "id": "927f6660",
   "metadata": {},
   "outputs": [],
   "source": [
    "# scope\n",
    "C = 500\n",
    "def outer():\n",
    "    C = 10  \n",
    "    def inner():\n",
    "        D = 200\n",
    "        result = C + D # search - local -> enclosed -> global ->builtin\n",
    "        return result\n",
    "    return inner()"
   ]
  },
  {
   "cell_type": "code",
   "execution_count": 29,
   "id": "663895cb",
   "metadata": {},
   "outputs": [
    {
     "data": {
      "text/plain": [
       "210"
      ]
     },
     "execution_count": 29,
     "metadata": {},
     "output_type": "execute_result"
    }
   ],
   "source": [
    "outer()"
   ]
  },
  {
   "cell_type": "code",
   "execution_count": 30,
   "id": "a551b224",
   "metadata": {},
   "outputs": [],
   "source": [
    "# scope\n",
    "\n",
    "C = 500\n",
    "def outer():\n",
    "    def inner():\n",
    "        D = 200\n",
    "        result = C + D\n",
    "        return result\n",
    "    return inner()"
   ]
  },
  {
   "cell_type": "code",
   "execution_count": 31,
   "id": "965a50e6",
   "metadata": {},
   "outputs": [
    {
     "data": {
      "text/plain": [
       "700"
      ]
     },
     "execution_count": 31,
     "metadata": {},
     "output_type": "execute_result"
    }
   ],
   "source": [
    "outer()"
   ]
  },
  {
   "cell_type": "code",
   "execution_count": 34,
   "id": "dafd9476",
   "metadata": {},
   "outputs": [],
   "source": [
    "def outer():\n",
    "    def inner():\n",
    "        D = 200\n",
    "        result = C + D\n",
    "        return result\n",
    "    return inner()"
   ]
  },
  {
   "cell_type": "code",
   "execution_count": 35,
   "id": "0c8945bc",
   "metadata": {},
   "outputs": [
    {
     "data": {
      "text/plain": [
       "700"
      ]
     },
     "execution_count": 35,
     "metadata": {},
     "output_type": "execute_result"
    }
   ],
   "source": [
    "outer()"
   ]
  },
  {
   "cell_type": "code",
   "execution_count": 106,
   "id": "9a784469",
   "metadata": {},
   "outputs": [
    {
     "data": {
      "text/plain": [
       "3.141592653589793"
      ]
     },
     "execution_count": 106,
     "metadata": {},
     "output_type": "execute_result"
    }
   ],
   "source": [
    "import math\n",
    "math.pi"
   ]
  },
  {
   "cell_type": "code",
   "execution_count": 107,
   "id": "8347bc0d",
   "metadata": {},
   "outputs": [],
   "source": [
    "def outer():\n",
    "    \n",
    "    def inner():\n",
    "        D = 200\n",
    "        result = math.pi + D\n",
    "        return result\n",
    "    \n",
    "    return inner()"
   ]
  },
  {
   "cell_type": "code",
   "execution_count": 108,
   "id": "cacd267d",
   "metadata": {},
   "outputs": [
    {
     "data": {
      "text/plain": [
       "203.14159265358978"
      ]
     },
     "execution_count": 108,
     "metadata": {},
     "output_type": "execute_result"
    }
   ],
   "source": [
    "outer()"
   ]
  },
  {
   "cell_type": "code",
   "execution_count": 1,
   "id": "d45e469e",
   "metadata": {},
   "outputs": [],
   "source": [
    "# lambda, map, filter, reduce, accumulate\n",
    "# lambda arguments : expression"
   ]
  },
  {
   "cell_type": "code",
   "execution_count": 2,
   "id": "ff722c1c",
   "metadata": {},
   "outputs": [
    {
     "data": {
      "text/plain": [
       "6"
      ]
     },
     "execution_count": 2,
     "metadata": {},
     "output_type": "execute_result"
    }
   ],
   "source": [
    "Add = lambda x,y : x+y\n",
    "Add(2,4)"
   ]
  },
  {
   "cell_type": "code",
   "execution_count": 12,
   "id": "937bb5aa",
   "metadata": {},
   "outputs": [
    {
     "data": {
      "text/plain": [
       "6"
      ]
     },
     "execution_count": 12,
     "metadata": {},
     "output_type": "execute_result"
    }
   ],
   "source": [
    "def Add(x,y):\n",
    "    return x+y\n",
    "Add(2,4)"
   ]
  },
  {
   "cell_type": "code",
   "execution_count": 13,
   "id": "42941ef5",
   "metadata": {},
   "outputs": [
    {
     "data": {
      "text/plain": [
       "40"
      ]
     },
     "execution_count": 13,
     "metadata": {},
     "output_type": "execute_result"
    }
   ],
   "source": [
    "Add(10,30)"
   ]
  },
  {
   "cell_type": "code",
   "execution_count": 13,
   "id": "89fa3b37",
   "metadata": {},
   "outputs": [
    {
     "data": {
      "text/plain": [
       "18"
      ]
     },
     "execution_count": 13,
     "metadata": {},
     "output_type": "execute_result"
    }
   ],
   "source": [
    "add = lambda x,y : x+y\n",
    "add(9,9)"
   ]
  },
  {
   "cell_type": "code",
   "execution_count": 14,
   "id": "c8afc997",
   "metadata": {
    "scrolled": true
   },
   "outputs": [
    {
     "data": {
      "text/plain": [
       "40"
      ]
     },
     "execution_count": 14,
     "metadata": {},
     "output_type": "execute_result"
    }
   ],
   "source": [
    "Add = lambda x,y : x+y\n",
    "Add(20,20)"
   ]
  },
  {
   "cell_type": "code",
   "execution_count": 15,
   "id": "46547b8c",
   "metadata": {},
   "outputs": [
    {
     "data": {
      "text/plain": [
       "100"
      ]
     },
     "execution_count": 15,
     "metadata": {},
     "output_type": "execute_result"
    }
   ],
   "source": [
    "# square - lambda \n",
    "sq = lambda x : x**2\n",
    "sq(10)"
   ]
  },
  {
   "cell_type": "code",
   "execution_count": 16,
   "id": "98e41d3a",
   "metadata": {},
   "outputs": [
    {
     "data": {
      "text/plain": [
       "100"
      ]
     },
     "execution_count": 16,
     "metadata": {},
     "output_type": "execute_result"
    }
   ],
   "source": [
    "sq = lambda x : x**2\n",
    "sq(10)"
   ]
  },
  {
   "cell_type": "code",
   "execution_count": 20,
   "id": "2620f368",
   "metadata": {},
   "outputs": [
    {
     "data": {
      "text/plain": [
       "'odd'"
      ]
     },
     "execution_count": 20,
     "metadata": {},
     "output_type": "execute_result"
    }
   ],
   "source": [
    "eveodd = lambda x : \"even\" if x%2==0 else \"odd\"\n",
    "eveodd(5)"
   ]
  },
  {
   "cell_type": "code",
   "execution_count": 22,
   "id": "48c07f2e",
   "metadata": {},
   "outputs": [
    {
     "data": {
      "text/plain": [
       "10"
      ]
     },
     "execution_count": 22,
     "metadata": {},
     "output_type": "execute_result"
    }
   ],
   "source": [
    "# write func lambda to print highest of 2 number\n",
    "hof2 = lambda x,y : x if x>y else y\n",
    "hof2(10,10)"
   ]
  },
  {
   "cell_type": "code",
   "execution_count": 23,
   "id": "a584265e",
   "metadata": {},
   "outputs": [],
   "source": [
    "# write func lambda to print highest of 2 number\n",
    "# a = 10\n",
    "# b = 10\n",
    "# if a > b:\n",
    "#     a\n",
    "# else:\n",
    "#     if b > a:\n",
    "#         b\n",
    "#     else:\n",
    "#         equal"
   ]
  },
  {
   "cell_type": "code",
   "execution_count": 6,
   "id": "d1ed7fb8",
   "metadata": {},
   "outputs": [
    {
     "data": {
      "text/plain": [
       "'equal'"
      ]
     },
     "execution_count": 6,
     "metadata": {},
     "output_type": "execute_result"
    }
   ],
   "source": [
    "hof2=lambda a,b : a if a > b else b if b>a else 'equal'\n",
    "hof2(10,10)"
   ]
  },
  {
   "cell_type": "code",
   "execution_count": 31,
   "id": "61eed358",
   "metadata": {},
   "outputs": [
    {
     "name": "stdout",
     "output_type": "stream",
     "text": [
      "Help on built-in function len in module builtins:\n",
      "\n",
      "len(obj, /)\n",
      "    Return the number of items in a container.\n",
      "\n"
     ]
    }
   ],
   "source": [
    "help(len)"
   ]
  },
  {
   "cell_type": "code",
   "execution_count": 35,
   "id": "16cd36e4",
   "metadata": {},
   "outputs": [
    {
     "name": "stdout",
     "output_type": "stream",
     "text": [
      "Help on function getNewPrice in module __main__:\n",
      "\n",
      "getNewPrice(price, name, discount=0.1)\n",
      "    Gives discounted price of the product.\n",
      "    \n",
      "    Arguments : \n",
      "               Price - numeric\n",
      "               Name - str\n",
      "               discount - default is 0.1 , numeric\n",
      "    Returns - Discounted price\n",
      "\n"
     ]
    }
   ],
   "source": [
    "help(getNewPrice)"
   ]
  },
  {
   "cell_type": "code",
   "execution_count": 33,
   "id": "15d1f5d8",
   "metadata": {},
   "outputs": [],
   "source": [
    "# default argument\n",
    "def getNewPrice(price, name,discount = 0.1):\n",
    "    '''\n",
    "    Gives discounted price of the product.\n",
    "    \n",
    "    Arguments : \n",
    "               Price - numeric\n",
    "               Name - str\n",
    "               discount - default is 0.1 , numeric\n",
    "    Returns - Discounted price\n",
    "    '''\n",
    "    new_price = price - (price * discount)\n",
    "    return f\" Discounted price of {name} is {new_price}\""
   ]
  },
  {
   "cell_type": "code",
   "execution_count": 36,
   "id": "06c9f0de",
   "metadata": {},
   "outputs": [
    {
     "name": "stdout",
     "output_type": "stream",
     "text": [
      "Help on class map in module builtins:\n",
      "\n",
      "class map(object)\n",
      " |  map(func, *iterables) --> map object\n",
      " |  \n",
      " |  Make an iterator that computes the function using arguments from\n",
      " |  each of the iterables.  Stops when the shortest iterable is exhausted.\n",
      " |  \n",
      " |  Methods defined here:\n",
      " |  \n",
      " |  __getattribute__(self, name, /)\n",
      " |      Return getattr(self, name).\n",
      " |  \n",
      " |  __iter__(self, /)\n",
      " |      Implement iter(self).\n",
      " |  \n",
      " |  __next__(self, /)\n",
      " |      Implement next(self).\n",
      " |  \n",
      " |  __reduce__(...)\n",
      " |      Return state information for pickling.\n",
      " |  \n",
      " |  ----------------------------------------------------------------------\n",
      " |  Static methods defined here:\n",
      " |  \n",
      " |  __new__(*args, **kwargs) from builtins.type\n",
      " |      Create and return a new object.  See help(type) for accurate signature.\n",
      "\n"
     ]
    }
   ],
   "source": [
    "help(map)"
   ]
  },
  {
   "cell_type": "code",
   "execution_count": 37,
   "id": "da369d89",
   "metadata": {},
   "outputs": [],
   "source": [
    "#map(func  , *iterable)\n",
    "# func - builtin, user defined, lambda"
   ]
  },
  {
   "cell_type": "code",
   "execution_count": 8,
   "id": "348fb031",
   "metadata": {},
   "outputs": [
    {
     "data": {
      "text/plain": [
       "['Manvendra', 'namia', 'Vaishnavi', 'Vidya']"
      ]
     },
     "execution_count": 8,
     "metadata": {},
     "output_type": "execute_result"
    }
   ],
   "source": [
    "list_name = [\"Manvendra\",\"namia\",\"Vaishnavi\",\"Vidya\"]\n",
    "list_name"
   ]
  },
  {
   "cell_type": "code",
   "execution_count": 9,
   "id": "1c0ab946",
   "metadata": {},
   "outputs": [
    {
     "data": {
      "text/plain": [
       "<map at 0x19ff8965450>"
      ]
     },
     "execution_count": 9,
     "metadata": {},
     "output_type": "execute_result"
    }
   ],
   "source": [
    "s = map(len, list_name)  # iterator - it can be used just once then destroyed\n",
    "s"
   ]
  },
  {
   "cell_type": "code",
   "execution_count": 10,
   "id": "9bdfaee9",
   "metadata": {},
   "outputs": [],
   "source": [
    "l = list(s)"
   ]
  },
  {
   "cell_type": "code",
   "execution_count": 11,
   "id": "1cc1778b",
   "metadata": {},
   "outputs": [
    {
     "data": {
      "text/plain": [
       "[81, 25, 81, 25]"
      ]
     },
     "execution_count": 11,
     "metadata": {},
     "output_type": "execute_result"
    }
   ],
   "source": [
    "l\n",
    "list(map(lambda x : x**2, l))"
   ]
  },
  {
   "cell_type": "code",
   "execution_count": 37,
   "id": "2498c86f",
   "metadata": {},
   "outputs": [],
   "source": [
    "list_name = [\"Manvendra\",\"namia\",\"Vaishnavi\",\"Vidya\"]\n",
    "def countA(s):\n",
    "    c = s.count(\"a\")\n",
    "    return c"
   ]
  },
  {
   "cell_type": "code",
   "execution_count": 38,
   "id": "ed1ff7e4",
   "metadata": {},
   "outputs": [
    {
     "data": {
      "text/plain": [
       "[2, 2, 2, 1]"
      ]
     },
     "execution_count": 38,
     "metadata": {},
     "output_type": "execute_result"
    }
   ],
   "source": [
    "list(    map(countA   , list_name )    )"
   ]
  },
  {
   "cell_type": "code",
   "execution_count": 40,
   "id": "6e9d437c",
   "metadata": {},
   "outputs": [
    {
     "data": {
      "text/plain": [
       "('even', 'odd', 'odd', 'even', 'even', 'even', 'odd')"
      ]
     },
     "execution_count": 40,
     "metadata": {},
     "output_type": "execute_result"
    }
   ],
   "source": [
    "num = (10,5,9,12,8,6,7)\n",
    "tuple(map(lambda x: 'even' if x%2==0 else 'odd', num))"
   ]
  },
  {
   "cell_type": "code",
   "execution_count": 41,
   "id": "20f9008a",
   "metadata": {
    "scrolled": true
   },
   "outputs": [
    {
     "data": {
      "text/plain": [
       "['S1-24', 'S2-18', 'S3-22']"
      ]
     },
     "execution_count": 41,
     "metadata": {},
     "output_type": "execute_result"
    }
   ],
   "source": [
    "name = [\"S1\", \"S2\", \"S3\", \"S4\"]\n",
    "marks = [24,18,22]\n",
    "\n",
    "list(map(lambda x,y: x+'-'+str(y),name,marks))"
   ]
  },
  {
   "cell_type": "code",
   "execution_count": 58,
   "id": "37db362b",
   "metadata": {},
   "outputs": [
    {
     "data": {
      "text/plain": [
       "['Manvendra', 'Vaishnavi']"
      ]
     },
     "execution_count": 58,
     "metadata": {},
     "output_type": "execute_result"
    }
   ],
   "source": [
    "# filter\n",
    "# filter(func   , iterable)  # user defined, lambda, builtin\n",
    "list(filter(lambda x : len(x) > 7, list_name ))"
   ]
  },
  {
   "cell_type": "code",
   "execution_count": 12,
   "id": "4d15e198",
   "metadata": {},
   "outputs": [
    {
     "data": {
      "text/plain": [
       "[12, 9, 12]"
      ]
     },
     "execution_count": 12,
     "metadata": {},
     "output_type": "execute_result"
    }
   ],
   "source": [
    "n = [0,12,9,0,12]\n",
    "\n",
    "list(filter(None, n))"
   ]
  },
  {
   "cell_type": "code",
   "execution_count": 43,
   "id": "97b4eda0",
   "metadata": {},
   "outputs": [
    {
     "data": {
      "text/plain": [
       "[[10, 12, 17], [15, 9, 2], [4, 7, 2]]"
      ]
     },
     "execution_count": 43,
     "metadata": {},
     "output_type": "execute_result"
    }
   ],
   "source": [
    "n = [  [10,12,17],  [15,9,2], [4,7,2]  ]\n",
    "n"
   ]
  },
  {
   "cell_type": "code",
   "execution_count": 44,
   "id": "2e107578",
   "metadata": {},
   "outputs": [
    {
     "data": {
      "text/plain": [
       "[[10, 12, 17], [15, 9, 2]]"
      ]
     },
     "execution_count": 44,
     "metadata": {},
     "output_type": "execute_result"
    }
   ],
   "source": [
    "list(filter(lambda x  : sum(x) > 20, n  ))"
   ]
  },
  {
   "cell_type": "code",
   "execution_count": 45,
   "id": "cd717ef5",
   "metadata": {},
   "outputs": [
    {
     "data": {
      "text/plain": [
       "[True, True, False]"
      ]
     },
     "execution_count": 45,
     "metadata": {},
     "output_type": "execute_result"
    }
   ],
   "source": [
    "list(map(lambda x  : sum(x) > 20, n  ))"
   ]
  },
  {
   "cell_type": "code",
   "execution_count": 46,
   "id": "3b8b9def",
   "metadata": {},
   "outputs": [
    {
     "data": {
      "text/plain": [
       "['Manvendra', 'namia', 'Vaishnavi', 'Vidya']"
      ]
     },
     "execution_count": 46,
     "metadata": {},
     "output_type": "execute_result"
    }
   ],
   "source": [
    "list_name  # filter out the names whose first charcter is in lower case"
   ]
  },
  {
   "cell_type": "code",
   "execution_count": 14,
   "id": "5b29caa7",
   "metadata": {},
   "outputs": [
    {
     "data": {
      "text/plain": [
       "['namia']"
      ]
     },
     "execution_count": 14,
     "metadata": {},
     "output_type": "execute_result"
    }
   ],
   "source": [
    "list(filter(lambda x : x[0].islower(),list_name))"
   ]
  },
  {
   "cell_type": "code",
   "execution_count": 21,
   "id": "7d58df10",
   "metadata": {},
   "outputs": [
    {
     "ename": "ModuleNotFoundError",
     "evalue": "No module named 'calculator'",
     "output_type": "error",
     "traceback": [
      "\u001b[1;31m---------------------------------------------------------------------------\u001b[0m",
      "\u001b[1;31mModuleNotFoundError\u001b[0m                       Traceback (most recent call last)",
      "Cell \u001b[1;32mIn[21], line 2\u001b[0m\n\u001b[0;32m      1\u001b[0m \u001b[38;5;66;03m# reduce, accumulate\u001b[39;00m\n\u001b[1;32m----> 2\u001b[0m \u001b[38;5;28;01mimport\u001b[39;00m \u001b[38;5;21;01mcalculator\u001b[39;00m\n",
      "\u001b[1;31mModuleNotFoundError\u001b[0m: No module named 'calculator'"
     ]
    }
   ],
   "source": [
    "# reduce, accumulate\n",
    "import calculator"
   ]
  },
  {
   "cell_type": "code",
   "execution_count": 49,
   "id": "7407b7ac",
   "metadata": {},
   "outputs": [
    {
     "ename": "NameError",
     "evalue": "name 'calculator' is not defined",
     "output_type": "error",
     "traceback": [
      "\u001b[1;31m---------------------------------------------------------------------------\u001b[0m",
      "\u001b[1;31mNameError\u001b[0m                                 Traceback (most recent call last)",
      "Cell \u001b[1;32mIn[49], line 1\u001b[0m\n\u001b[1;32m----> 1\u001b[0m \u001b[38;5;28mdir\u001b[39m(\u001b[43mcalculator\u001b[49m)\n",
      "\u001b[1;31mNameError\u001b[0m: name 'calculator' is not defined"
     ]
    }
   ],
   "source": [
    "dir(calculator)"
   ]
  },
  {
   "cell_type": "code",
   "execution_count": 50,
   "id": "08f1b91f",
   "metadata": {},
   "outputs": [
    {
     "ename": "NameError",
     "evalue": "name 'calculator' is not defined",
     "output_type": "error",
     "traceback": [
      "\u001b[1;31m---------------------------------------------------------------------------\u001b[0m",
      "\u001b[1;31mNameError\u001b[0m                                 Traceback (most recent call last)",
      "Cell \u001b[1;32mIn[50], line 1\u001b[0m\n\u001b[1;32m----> 1\u001b[0m \u001b[43mcalculator\u001b[49m\u001b[38;5;241m.\u001b[39mAddition(\u001b[38;5;241m10\u001b[39m,\u001b[38;5;241m90\u001b[39m)\n",
      "\u001b[1;31mNameError\u001b[0m: name 'calculator' is not defined"
     ]
    }
   ],
   "source": [
    "calculator.Addition(10,90)"
   ]
  },
  {
   "cell_type": "code",
   "execution_count": 27,
   "id": "93d26e4c",
   "metadata": {},
   "outputs": [],
   "source": [
    "# reduce , accumulate\n",
    "# functools, itertools\n",
    "import functools"
   ]
  },
  {
   "cell_type": "code",
   "execution_count": 28,
   "id": "58f2605e",
   "metadata": {},
   "outputs": [
    {
     "name": "stdout",
     "output_type": "stream",
     "text": [
      "['GenericAlias', 'RLock', 'WRAPPER_ASSIGNMENTS', 'WRAPPER_UPDATES', '_CacheInfo', '_HashedSeq', '_NOT_FOUND', '__all__', '__builtins__', '__cached__', '__doc__', '__file__', '__loader__', '__name__', '__package__', '__spec__', '_c3_merge', '_c3_mro', '_compose_mro', '_convert', '_find_impl', '_ge_from_gt', '_ge_from_le', '_ge_from_lt', '_gt_from_ge', '_gt_from_le', '_gt_from_lt', '_initial_missing', '_le_from_ge', '_le_from_gt', '_le_from_lt', '_lru_cache_wrapper', '_lt_from_ge', '_lt_from_gt', '_lt_from_le', '_make_key', '_unwrap_partial', 'cache', 'cached_property', 'cmp_to_key', 'get_cache_token', 'lru_cache', 'namedtuple', 'partial', 'partialmethod', 'recursive_repr', 'reduce', 'singledispatch', 'singledispatchmethod', 'total_ordering', 'update_wrapper', 'wraps']\n"
     ]
    }
   ],
   "source": [
    "print(dir(functools))"
   ]
  },
  {
   "cell_type": "code",
   "execution_count": 29,
   "id": "569172c1",
   "metadata": {},
   "outputs": [
    {
     "data": {
      "text/plain": [
       "16"
      ]
     },
     "execution_count": 29,
     "metadata": {},
     "output_type": "execute_result"
    }
   ],
   "source": [
    "n = [ [10,12,17], [15,9,2], [4,7,2] ] \n",
    "m = [10,4,2]\n",
    "functools.reduce(lambda x, y : x+y, m)"
   ]
  },
  {
   "cell_type": "code",
   "execution_count": 31,
   "id": "6db675e9",
   "metadata": {},
   "outputs": [
    {
     "data": {
      "text/plain": [
       "[15, 9, 2]"
      ]
     },
     "execution_count": 31,
     "metadata": {},
     "output_type": "execute_result"
    }
   ],
   "source": [
    "functools.reduce(lambda x, y : x if x>y else y,  n)"
   ]
  },
  {
   "cell_type": "code",
   "execution_count": 24,
   "id": "eed36935",
   "metadata": {},
   "outputs": [
    {
     "data": {
      "text/plain": [
       "[10, 12, 17, 15, 9, 2, 4, 7, 2]"
      ]
     },
     "execution_count": 24,
     "metadata": {},
     "output_type": "execute_result"
    }
   ],
   "source": [
    "nl = [[10, 12, 17], [15, 9, 2], [4, 7, 2]]\n",
    "\n",
    "[i for j in nl for i in j]"
   ]
  },
  {
   "cell_type": "code",
   "execution_count": 34,
   "id": "d2db3a07",
   "metadata": {},
   "outputs": [
    {
     "name": "stdout",
     "output_type": "stream",
     "text": [
      "The largest value in the nested list is: 17\n"
     ]
    }
   ],
   "source": [
    "n = [[10, 12, 17], [15, 9, 2], [4, 7, 2]]\n",
    "\n",
    "# Flatten the nested list into a single list\n",
    "flattened_list = [element for sublist in n for element in sublist]\n",
    "# Sort the flattened list in descending order using lambda function\n",
    "flattened_list.sort(key=lambda x: -x)\n",
    "\n",
    "# Retrieve the largest value (first element after sorting)\n",
    "largest_value = flattened_list[0]\n",
    "\n",
    "print(\"The largest value in the nested list is:\", largest_value)"
   ]
  },
  {
   "cell_type": "code",
   "execution_count": 117,
   "id": "35d43c46",
   "metadata": {},
   "outputs": [
    {
     "data": {
      "text/plain": [
       "[10, 4, 2]"
      ]
     },
     "execution_count": 117,
     "metadata": {},
     "output_type": "execute_result"
    }
   ],
   "source": [
    "# [10,12,17] + [15,9,2]\n",
    "# [10, 12, 17, 15, 9, 2] + [4,7,2]\n",
    "m"
   ]
  },
  {
   "cell_type": "code",
   "execution_count": 124,
   "id": "f7d4603b",
   "metadata": {},
   "outputs": [
    {
     "data": {
      "text/plain": [
       "[10, 14, 16]"
      ]
     },
     "execution_count": 124,
     "metadata": {},
     "output_type": "execute_result"
    }
   ],
   "source": [
    "import itertools\n",
    "list(itertools.accumulate(m,lambda x,y : x+y))"
   ]
  },
  {
   "cell_type": "code",
   "execution_count": 122,
   "id": "cc014684",
   "metadata": {},
   "outputs": [
    {
     "data": {
      "text/plain": [
       "24"
      ]
     },
     "execution_count": 122,
     "metadata": {},
     "output_type": "execute_result"
    }
   ],
   "source": [
    "# \n",
    "num = [10,12,9,24,9]  # reduce to find the max value in the list\n",
    "functools.reduce(   lambda x,y : x if x>y else y    , num)\n",
    "# functools.reduce(max,num)"
   ]
  },
  {
   "cell_type": "code",
   "execution_count": null,
   "id": "ff5cfc87",
   "metadata": {},
   "outputs": [],
   "source": [
    "# x = 10\n",
    "# y =12\n",
    "\n",
    "# x = 12\n",
    "# y = 9\n",
    "\n",
    "# x = 12\n",
    "# y = 24\n",
    "\n",
    "# x = 24\n",
    "# y = 9\n",
    "\n",
    "# 24"
   ]
  },
  {
   "cell_type": "code",
   "execution_count": 130,
   "id": "4b44c9dc",
   "metadata": {},
   "outputs": [
    {
     "data": {
      "text/plain": [
       "24"
      ]
     },
     "execution_count": 130,
     "metadata": {},
     "output_type": "execute_result"
    }
   ],
   "source": [
    "import functools\n",
    "num = [10,12,9,24,9]  # reduce to find the max value in the list\n",
    "functools.reduce(lambda x,y : x if x>y else y ,num)"
   ]
  },
  {
   "cell_type": "code",
   "execution_count": null,
   "id": "89fb0d9e",
   "metadata": {},
   "outputs": [],
   "source": [
    "# 1. transpose\n",
    "# 2. { 1 : [\"Aman\", 24],   2 : []}\n",
    "# used vowels\n",
    "# natural numbers - 1 - 10\n",
    "# "
   ]
  },
  {
   "cell_type": "code",
   "execution_count": 22,
   "id": "4003c0f5",
   "metadata": {},
   "outputs": [
    {
     "data": {
      "text/plain": [
       "{1, 2, 3, 4}"
      ]
     },
     "execution_count": 22,
     "metadata": {},
     "output_type": "execute_result"
    }
   ],
   "source": [
    "# [  i**2    for i in range(1,11)]"
   ]
  },
  {
   "cell_type": "code",
   "execution_count": 131,
   "id": "6e8b89c7",
   "metadata": {},
   "outputs": [
    {
     "data": {
      "text/plain": [
       "{'a', 'e', 'i', 'o'}"
      ]
     },
     "execution_count": 131,
     "metadata": {},
     "output_type": "execute_result"
    }
   ],
   "source": [
    "s = \"python for data science\"\n",
    "{   i    for i in s  if i in \"AEIOUaeiou\"}"
   ]
  },
  {
   "cell_type": "code",
   "execution_count": 36,
   "id": "6a9f4322",
   "metadata": {},
   "outputs": [
    {
     "data": {
      "text/plain": [
       "[[1, 3, 5, 7], [2, 4, 6, 8], [5, 6, 7, 8]]"
      ]
     },
     "execution_count": 36,
     "metadata": {},
     "output_type": "execute_result"
    }
   ],
   "source": [
    "l = [[1,2,5],\n",
    "    [3,4,6],\n",
    "    [5,6,7],\n",
    "    [7,8,8]]\n",
    "\n",
    "[   [   r[i]  for r in l ]     for i in range(3)   ]\n",
    "\n",
    "[ [n[i] for n in l] for i in range(len(n))]"
   ]
  },
  {
   "cell_type": "code",
   "execution_count": null,
   "id": "717b3f16",
   "metadata": {},
   "outputs": [],
   "source": []
  }
 ],
 "metadata": {
  "kernelspec": {
   "display_name": "Python 3 (ipykernel)",
   "language": "python",
   "name": "python3"
  },
  "language_info": {
   "codemirror_mode": {
    "name": "ipython",
    "version": 3
   },
   "file_extension": ".py",
   "mimetype": "text/x-python",
   "name": "python",
   "nbconvert_exporter": "python",
   "pygments_lexer": "ipython3",
   "version": "3.10.9"
  }
 },
 "nbformat": 4,
 "nbformat_minor": 5
}
