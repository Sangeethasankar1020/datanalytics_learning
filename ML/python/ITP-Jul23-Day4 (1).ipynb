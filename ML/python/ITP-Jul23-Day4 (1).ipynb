{
 "cells": [
  {
   "cell_type": "code",
   "execution_count": 1,
   "id": "03f7a9dc",
   "metadata": {},
   "outputs": [
    {
     "name": "stdout",
     "output_type": "stream",
     "text": [
      "1\n",
      "2\n",
      "3\n",
      "4\n",
      "5\n",
      "6\n",
      "7\n",
      "8\n",
      "9\n",
      "10\n",
      "Done\n"
     ]
    }
   ],
   "source": [
    "a = 1\n",
    "while a<=10:\n",
    "    print(a)\n",
    "    a += 1\n",
    "print(\"Done\")"
   ]
  },
  {
   "cell_type": "code",
   "execution_count": 1,
   "id": "40ba3dd0",
   "metadata": {},
   "outputs": [
    {
     "name": "stdout",
     "output_type": "stream",
     "text": [
      "0\n",
      "2\n",
      "4\n",
      "6\n",
      "8\n",
      "10\n",
      "Done\n"
     ]
    }
   ],
   "source": [
    "# write a program to print even numbers b/w 1-10\n",
    "a = 0\n",
    "while a<=10:\n",
    "    print(a)\n",
    "    a += 2\n",
    "print(\"Done\")"
   ]
  },
  {
   "cell_type": "code",
   "execution_count": 3,
   "id": "87361460",
   "metadata": {},
   "outputs": [
    {
     "name": "stdout",
     "output_type": "stream",
     "text": [
      "2\n",
      "4\n",
      "6\n",
      "8\n",
      "10\n"
     ]
    }
   ],
   "source": [
    "a = 1\n",
    "while a<=10:\n",
    "    if a%2==0:\n",
    "        print(a)\n",
    "    a += 1"
   ]
  },
  {
   "cell_type": "code",
   "execution_count": 4,
   "id": "771567ce",
   "metadata": {},
   "outputs": [
    {
     "name": "stdout",
     "output_type": "stream",
     "text": [
      "5\n",
      "10\n",
      "15\n",
      "20\n",
      "25\n",
      "30\n",
      "35\n",
      "40\n",
      "45\n",
      "50\n"
     ]
    }
   ],
   "source": [
    "# print table of 5 using while loop.\n",
    "a = 5\n",
    "while a<=50:\n",
    "    if a%5==0:\n",
    "        print(a)\n",
    "    a += 5"
   ]
  },
  {
   "cell_type": "code",
   "execution_count": 5,
   "id": "84e611b5",
   "metadata": {},
   "outputs": [
    {
     "name": "stdout",
     "output_type": "stream",
     "text": [
      "5\n",
      "10\n",
      "15\n",
      "20\n",
      "25\n",
      "30\n",
      "35\n",
      "40\n",
      "45\n",
      "50\n"
     ]
    }
   ],
   "source": [
    "a = 1\n",
    "while a<=10:\n",
    "    print(5*a)\n",
    "    a += 1"
   ]
  },
  {
   "cell_type": "code",
   "execution_count": null,
   "id": "b7d113e1",
   "metadata": {},
   "outputs": [],
   "source": [
    "# break and continue\n",
    "\n",
    "# print all even number b/w 1-20, but we want to end the loop \n",
    "# if we see any number div by 3 & 6 both"
   ]
  },
  {
   "cell_type": "code",
   "execution_count": 6,
   "id": "96242c35",
   "metadata": {},
   "outputs": [
    {
     "name": "stdout",
     "output_type": "stream",
     "text": [
      "2\n",
      "4\n"
     ]
    }
   ],
   "source": [
    "# break \n",
    "a = 1\n",
    "while a<=20:\n",
    "    if a%3 == 0 and a%6==0:\n",
    "        break\n",
    "    elif a%2 == 0:\n",
    "        print(a)\n",
    "    a += 1"
   ]
  },
  {
   "cell_type": "code",
   "execution_count": 7,
   "id": "7fef2924",
   "metadata": {},
   "outputs": [
    {
     "name": "stdout",
     "output_type": "stream",
     "text": [
      "2\n",
      "4\n",
      "6\n"
     ]
    }
   ],
   "source": [
    "a = 1\n",
    "while a<=20: \n",
    "    if a%2 == 0:\n",
    "        print(a)\n",
    "    if a%3==0 and a%6==0 :\n",
    "        break\n",
    "    a += 1"
   ]
  },
  {
   "cell_type": "code",
   "execution_count": null,
   "id": "81545a91",
   "metadata": {},
   "outputs": [],
   "source": [
    "# continue - skip iterations"
   ]
  },
  {
   "cell_type": "code",
   "execution_count": 14,
   "id": "8d7aa3e7",
   "metadata": {},
   "outputs": [
    {
     "name": "stdout",
     "output_type": "stream",
     "text": [
      "2\n",
      "4\n",
      "8\n",
      "10\n",
      "14\n",
      "16\n",
      "20\n"
     ]
    }
   ],
   "source": [
    "a = 1\n",
    "while a<=20:\n",
    "    if a%3==0 and a%6==0 :\n",
    "        a += 1\n",
    "        continue\n",
    "    if a%2 == 0:\n",
    "        print(a)\n",
    "    a += 1"
   ]
  },
  {
   "cell_type": "code",
   "execution_count": 8,
   "id": "94ce7d05",
   "metadata": {},
   "outputs": [
    {
     "name": "stdout",
     "output_type": "stream",
     "text": [
      "1\n"
     ]
    }
   ],
   "source": [
    "# a = 1\n",
    "# while a<=20:\n",
    "#     print(a)\n",
    "#     break"
   ]
  },
  {
   "cell_type": "code",
   "execution_count": null,
   "id": "79d09f9a",
   "metadata": {},
   "outputs": [],
   "source": [
    "# Write a program to create a shopping cart, and display items \n",
    "# in cart\n",
    "\n",
    "# - Do you want to enter item to your cart?y/n - y\n",
    "# - Enter the item - \"Shoes\"\n",
    "# - Do you want to enter item to your cart?y/n - y\n",
    "# - Enter the item - \"Bottle\"\n",
    "#  Do you want to enter item to your cart?y/n - n\n",
    "# [\"Shoes\", \"Bottle\"]\n"
   ]
  },
  {
   "cell_type": "code",
   "execution_count": 9,
   "id": "3ac17cf3",
   "metadata": {},
   "outputs": [
    {
     "name": "stdout",
     "output_type": "stream",
     "text": [
      "Do you want to enter item to your cart?y/n -y\n",
      "Enter the item -shoes\n",
      "Do you want to enter item to your cart?y/n -y\n",
      "Enter the item -dfghjkl\n",
      "Do you want to enter item to your cart?y/n -9876\n",
      "Enter the item -n\n",
      "Do you want to enter item to your cart?y/n -n\n",
      "['shoes', 'dfghjkl', 'n']\n"
     ]
    }
   ],
   "source": [
    "item_list = []\n",
    "\n",
    "while True:\n",
    "    inp = input(\"Do you want to enter item to your cart?y/n -\")\n",
    "    if inp == \"n\":\n",
    "        break\n",
    "    item = input(\"Enter the item -\")\n",
    "    item_list.append(item)\n",
    "    \n",
    "print(item_list)"
   ]
  },
  {
   "cell_type": "code",
   "execution_count": 19,
   "id": "7bebabad",
   "metadata": {
    "collapsed": true
   },
   "outputs": [
    {
     "name": "stdout",
     "output_type": "stream",
     "text": [
      "Do you want to enter item to your cart?y/n -y\n",
      "Enter the item -shoes\n",
      "Do you want to enter item to your cart?y/n -y\n",
      "Enter the item -bottle\n",
      "Do you want to enter item to your cart?y/n -n\n",
      "['shoes', 'bottle']\n"
     ]
    }
   ],
   "source": [
    "item_list = []\n",
    "inp = input(\"Do you want to enter item to your cart?y/n -\")\n",
    "while inp == \"y\":\n",
    "    item = input(\"Enter the item -\")\n",
    "    item_list.append(item)\n",
    "    inp = input(\"Do you want to enter item to your cart?y/n -\")\n",
    "print(item_list)"
   ]
  },
  {
   "cell_type": "code",
   "execution_count": 20,
   "id": "653059d0",
   "metadata": {},
   "outputs": [
    {
     "data": {
      "text/plain": [
       "range(0, 10)"
      ]
     },
     "execution_count": 20,
     "metadata": {},
     "output_type": "execute_result"
    }
   ],
   "source": [
    "range(10)  # end - exclusive"
   ]
  },
  {
   "cell_type": "code",
   "execution_count": 21,
   "id": "67366843",
   "metadata": {},
   "outputs": [
    {
     "data": {
      "text/plain": [
       "[0, 1, 2, 3, 4, 5, 6, 7, 8, 9]"
      ]
     },
     "execution_count": 21,
     "metadata": {},
     "output_type": "execute_result"
    }
   ],
   "source": [
    "list(range(10))"
   ]
  },
  {
   "cell_type": "code",
   "execution_count": 23,
   "id": "b37e9394",
   "metadata": {},
   "outputs": [
    {
     "data": {
      "text/plain": [
       "range(-3, 10)"
      ]
     },
     "execution_count": 23,
     "metadata": {},
     "output_type": "execute_result"
    }
   ],
   "source": [
    "range(-3,10)"
   ]
  },
  {
   "cell_type": "code",
   "execution_count": 25,
   "id": "99890434",
   "metadata": {},
   "outputs": [
    {
     "data": {
      "text/plain": [
       "[-3, -1, 1, 3, 5, 7, 9]"
      ]
     },
     "execution_count": 25,
     "metadata": {},
     "output_type": "execute_result"
    }
   ],
   "source": [
    "list(range(-3,10,  2))"
   ]
  },
  {
   "cell_type": "code",
   "execution_count": 26,
   "id": "52ca6501",
   "metadata": {},
   "outputs": [
    {
     "data": {
      "text/plain": [
       "[10, 9, 8, 7, 6, 5, 4, 3, 2, 1, 0, -1, -2, -3, -4, -5]"
      ]
     },
     "execution_count": 26,
     "metadata": {},
     "output_type": "execute_result"
    }
   ],
   "source": [
    "list(range(10,-6,  -1))"
   ]
  },
  {
   "cell_type": "code",
   "execution_count": 27,
   "id": "599b4ce8",
   "metadata": {
    "collapsed": true
   },
   "outputs": [
    {
     "name": "stdout",
     "output_type": "stream",
     "text": [
      "10\n",
      "20\n"
     ]
    }
   ],
   "source": [
    "# tuple and list unpacking\n",
    "a, b = 10,20\n",
    "print(a)\n",
    "print(b)"
   ]
  },
  {
   "cell_type": "code",
   "execution_count": 29,
   "id": "bac48bb1",
   "metadata": {},
   "outputs": [
    {
     "name": "stdout",
     "output_type": "stream",
     "text": [
      "(10, 20, 30, 70)\n"
     ]
    }
   ],
   "source": [
    "a= 10,20,30,70\n",
    "print(a)"
   ]
  },
  {
   "cell_type": "code",
   "execution_count": 14,
   "id": "b1a26ed0",
   "metadata": {},
   "outputs": [],
   "source": [
    "# a,b= 10,20,30,70\n",
    "# print(a)"
   ]
  },
  {
   "cell_type": "code",
   "execution_count": 15,
   "id": "742bfa0f",
   "metadata": {},
   "outputs": [
    {
     "name": "stdout",
     "output_type": "stream",
     "text": [
      "10\n"
     ]
    }
   ],
   "source": [
    "a,b,c,d= 10,20,30,70\n",
    "print(a)"
   ]
  },
  {
   "cell_type": "code",
   "execution_count": 32,
   "id": "08a66039",
   "metadata": {
    "collapsed": true
   },
   "outputs": [
    {
     "name": "stdout",
     "output_type": "stream",
     "text": [
      "10\n",
      "[20, 30, 70]\n"
     ]
    }
   ],
   "source": [
    "a,*b= 10,20,30,70\n",
    "print(a)\n",
    "print(b)"
   ]
  },
  {
   "cell_type": "code",
   "execution_count": 16,
   "id": "37bf11e6",
   "metadata": {},
   "outputs": [
    {
     "name": "stdout",
     "output_type": "stream",
     "text": [
      "70\n",
      "[10, 20, 30]\n"
     ]
    }
   ],
   "source": [
    "*b,a= 10,20,30,70\n",
    "print(a)\n",
    "print(b)"
   ]
  },
  {
   "cell_type": "code",
   "execution_count": 17,
   "id": "c951d5f3",
   "metadata": {},
   "outputs": [
    {
     "name": "stdout",
     "output_type": "stream",
     "text": [
      "1\n",
      "2\n",
      "3\n",
      "4\n",
      "5\n",
      "6\n",
      "7\n",
      "8\n",
      "9\n",
      "10\n"
     ]
    }
   ],
   "source": [
    "for i in range(1,11):\n",
    "    print(i)"
   ]
  },
  {
   "cell_type": "code",
   "execution_count": 18,
   "id": "9a12f0fd",
   "metadata": {},
   "outputs": [
    {
     "name": "stdout",
     "output_type": "stream",
     "text": [
      "2\n",
      "4\n",
      "6\n",
      "8\n",
      "10\n"
     ]
    }
   ],
   "source": [
    "for i in range(1,11):\n",
    "    if i%2==0:\n",
    "        print(i)"
   ]
  },
  {
   "cell_type": "code",
   "execution_count": 19,
   "id": "ccad216b",
   "metadata": {},
   "outputs": [
    {
     "name": "stdout",
     "output_type": "stream",
     "text": [
      "5\n",
      "10\n",
      "15\n",
      "20\n",
      "25\n",
      "30\n",
      "35\n",
      "40\n",
      "45\n",
      "50\n"
     ]
    }
   ],
   "source": [
    "# print table of 5 using for loop\n",
    "for i in range(5,51,5):\n",
    "    print(i)"
   ]
  },
  {
   "cell_type": "code",
   "execution_count": 20,
   "id": "000e6fe4",
   "metadata": {},
   "outputs": [
    {
     "name": "stdout",
     "output_type": "stream",
     "text": [
      "5\n",
      "10\n",
      "15\n",
      "20\n",
      "25\n",
      "30\n",
      "35\n",
      "40\n",
      "45\n",
      "50\n"
     ]
    }
   ],
   "source": [
    "for i in range(1,11):\n",
    "    print(5*i)"
   ]
  },
  {
   "cell_type": "code",
   "execution_count": 40,
   "id": "9f230fb8",
   "metadata": {},
   "outputs": [
    {
     "name": "stdout",
     "output_type": "stream",
     "text": [
      "2\n",
      "4\n"
     ]
    }
   ],
   "source": [
    "# print all even number b/w 1-20 but break the loop if \n",
    "# it see num div by both 3 and 6\n",
    "\n",
    "for i in range(1,21):\n",
    "    if i%3==0 and i%6==0:\n",
    "        break\n",
    "    if i%2==0:\n",
    "        print(i)"
   ]
  },
  {
   "cell_type": "code",
   "execution_count": 42,
   "id": "a5e9b330",
   "metadata": {},
   "outputs": [
    {
     "name": "stdout",
     "output_type": "stream",
     "text": [
      "Enter the num - 15\n",
      "Not prime\n"
     ]
    }
   ],
   "source": [
    "# prime - div by 1 and itself\n",
    "\n",
    "num = int(input(\"Enter the num - \"))\n",
    "\n",
    "for i in range(2,num):\n",
    "    if num%i==0:\n",
    "        print(\"Not prime\")\n",
    "        break\n",
    "else:\n",
    "    print(\"Prime\")"
   ]
  },
  {
   "cell_type": "code",
   "execution_count": 44,
   "id": "cd1ba4f8",
   "metadata": {},
   "outputs": [
    {
     "name": "stdout",
     "output_type": "stream",
     "text": [
      "Enter the num - 7\n",
      "Prime\n"
     ]
    }
   ],
   "source": [
    "num = int(input(\"Enter the num - \"))\n",
    "v = 2\n",
    "while v< num:\n",
    "    if num%v==0:\n",
    "        print(\"Not prime\")\n",
    "        break\n",
    "    v += 1\n",
    "else:\n",
    "    print(\"Prime\")"
   ]
  },
  {
   "cell_type": "code",
   "execution_count": null,
   "id": "c66fa5c3",
   "metadata": {},
   "outputs": [],
   "source": [
    "for a in range(1,21) :\n",
    "    if a%3==0 and a%6==0 :\n",
    "        continue\n",
    "    if a%2 == 0:\n",
    "        print(a)"
   ]
  },
  {
   "cell_type": "code",
   "execution_count": null,
   "id": "63f90570",
   "metadata": {},
   "outputs": [],
   "source": []
  },
  {
   "cell_type": "code",
   "execution_count": 21,
   "id": "6ee0e939",
   "metadata": {
    "collapsed": true
   },
   "outputs": [
    {
     "name": "stdout",
     "output_type": "stream",
     "text": [
      "5 X 1 = 5\n",
      "5 X 2 = 10\n",
      "5 X 3 = 15\n",
      "5 X 4 = 20\n",
      "5 X 5 = 25\n",
      "5 X 6 = 30\n",
      "5 X 7 = 35\n",
      "5 X 8 = 40\n",
      "5 X 9 = 45\n",
      "5 X 10 = 50\n",
      "--------------------------------------------------\n",
      "6 X 1 = 6\n",
      "6 X 2 = 12\n",
      "6 X 3 = 18\n",
      "6 X 4 = 24\n",
      "6 X 5 = 30\n",
      "6 X 6 = 36\n",
      "6 X 7 = 42\n",
      "6 X 8 = 48\n",
      "6 X 9 = 54\n",
      "6 X 10 = 60\n",
      "--------------------------------------------------\n",
      "7 X 1 = 7\n",
      "7 X 2 = 14\n",
      "7 X 3 = 21\n",
      "7 X 4 = 28\n",
      "7 X 5 = 35\n",
      "7 X 6 = 42\n",
      "7 X 7 = 49\n",
      "7 X 8 = 56\n",
      "7 X 9 = 63\n",
      "7 X 10 = 70\n",
      "--------------------------------------------------\n",
      "8 X 1 = 8\n",
      "8 X 2 = 16\n",
      "8 X 3 = 24\n",
      "8 X 4 = 32\n",
      "8 X 5 = 40\n",
      "8 X 6 = 48\n",
      "8 X 7 = 56\n",
      "8 X 8 = 64\n",
      "8 X 9 = 72\n",
      "8 X 10 = 80\n",
      "--------------------------------------------------\n",
      "9 X 1 = 9\n",
      "9 X 2 = 18\n",
      "9 X 3 = 27\n",
      "9 X 4 = 36\n",
      "9 X 5 = 45\n",
      "9 X 6 = 54\n",
      "9 X 7 = 63\n",
      "9 X 8 = 72\n",
      "9 X 9 = 81\n",
      "9 X 10 = 90\n",
      "--------------------------------------------------\n",
      "10 X 1 = 10\n",
      "10 X 2 = 20\n",
      "10 X 3 = 30\n",
      "10 X 4 = 40\n",
      "10 X 5 = 50\n",
      "10 X 6 = 60\n",
      "10 X 7 = 70\n",
      "10 X 8 = 80\n",
      "10 X 9 = 90\n",
      "10 X 10 = 100\n",
      "--------------------------------------------------\n"
     ]
    }
   ],
   "source": [
    "# nested loop\n",
    "for i in range(5,11):\n",
    "    for j in range(1,11):\n",
    "        print(f\"{i} X {j} = {i*j}\")\n",
    "    print(\"-\"*50)"
   ]
  },
  {
   "cell_type": "code",
   "execution_count": 61,
   "id": "2880b5a1",
   "metadata": {
    "collapsed": true
   },
   "outputs": [
    {
     "name": "stdout",
     "output_type": "stream",
     "text": [
      "G\n",
      "R\n",
      "E\n",
      "A\n",
      "T\n",
      " \n",
      "L\n",
      "E\n",
      "A\n",
      "R\n",
      "N\n",
      "I\n",
      "N\n",
      "G\n"
     ]
    }
   ],
   "source": [
    "# iteration on iterables- str, tuple, list, set, dict\n",
    "s = \"Great Learning\"\n",
    "\n",
    "for i in s:\n",
    "    print(i.upper())"
   ]
  },
  {
   "cell_type": "code",
   "execution_count": 62,
   "id": "a14c66d6",
   "metadata": {},
   "outputs": [
    {
     "name": "stdout",
     "output_type": "stream",
     "text": [
      "Upper case 2\n",
      "Lower case 11\n"
     ]
    }
   ],
   "source": [
    "# write a program to find count of upper and lower case letter in s\n",
    "# upper case = 2\n",
    "# Lower case = 11\n",
    "\n",
    "s = \"Great Learning\"\n",
    "c_u = 0\n",
    "c_l = 0\n",
    "\n",
    "for i in s:\n",
    "    if i.isupper():\n",
    "        c_u += 1\n",
    "    elif i.islower():\n",
    "        c_l += 1\n",
    "print(\"Upper case\", c_u)\n",
    "print(\"Lower case\", c_l)"
   ]
  },
  {
   "cell_type": "code",
   "execution_count": 63,
   "id": "e820444d",
   "metadata": {
    "collapsed": true
   },
   "outputs": [
    {
     "name": "stdout",
     "output_type": "stream",
     "text": [
      "10\n",
      "12\n",
      "18\n",
      "9\n"
     ]
    }
   ],
   "source": [
    "list_num = [10,12,18,9, \"Python\"]\n",
    "for i in list_num:\n",
    "    print(i)"
   ]
  },
  {
   "cell_type": "code",
   "execution_count": 65,
   "id": "1166e1ca",
   "metadata": {
    "collapsed": true
   },
   "outputs": [
    {
     "name": "stdout",
     "output_type": "stream",
     "text": [
      "10\n",
      "12\n",
      "18\n",
      "9\n"
     ]
    }
   ],
   "source": [
    "list_num = [  (10,12) ,  (18,9)]\n",
    "for i in list_num: \n",
    "    for j in i:\n",
    "        print(j)"
   ]
  },
  {
   "cell_type": "code",
   "execution_count": 84,
   "id": "37d9c142",
   "metadata": {
    "collapsed": true
   },
   "outputs": [
    {
     "name": "stdout",
     "output_type": "stream",
     "text": [
      "10\n",
      "12\n"
     ]
    },
    {
     "ename": "ValueError",
     "evalue": "too many values to unpack (expected 2)",
     "output_type": "error",
     "traceback": [
      "\u001b[1;31m---------------------------------------------------------------------------\u001b[0m",
      "\u001b[1;31mValueError\u001b[0m                                Traceback (most recent call last)",
      "Input \u001b[1;32mIn [84]\u001b[0m, in \u001b[0;36m<cell line: 3>\u001b[1;34m()\u001b[0m\n\u001b[0;32m      1\u001b[0m list_num \u001b[38;5;241m=\u001b[39m [  (\u001b[38;5;241m10\u001b[39m,\u001b[38;5;241m12\u001b[39m) ,  (\u001b[38;5;241m18\u001b[39m,\u001b[38;5;241m9\u001b[39m,\u001b[38;5;241m11\u001b[39m)]\n\u001b[1;32m----> 3\u001b[0m \u001b[38;5;28;01mfor\u001b[39;00m i,j \u001b[38;5;129;01min\u001b[39;00m list_num:\n\u001b[0;32m      4\u001b[0m     \u001b[38;5;28mprint\u001b[39m(i)\n\u001b[0;32m      5\u001b[0m     \u001b[38;5;28mprint\u001b[39m(j)\n",
      "\u001b[1;31mValueError\u001b[0m: too many values to unpack (expected 2)"
     ]
    }
   ],
   "source": [
    "list_num = [  (10,12) ,  (18,9,11)]\n",
    "\n",
    "for i,j in list_num:\n",
    "    print(i)\n",
    "    print(j)"
   ]
  },
  {
   "cell_type": "code",
   "execution_count": 72,
   "id": "11fba110",
   "metadata": {},
   "outputs": [
    {
     "name": "stdout",
     "output_type": "stream",
     "text": [
      "120\n",
      "48\n",
      "18\n"
     ]
    }
   ],
   "source": [
    "l1 = [10,6,9,11]\n",
    "l2 = [12,8,2]\n",
    "for i,j in zip(l1,l2):\n",
    "    print(i*j)"
   ]
  },
  {
   "cell_type": "code",
   "execution_count": 70,
   "id": "7f300b8f",
   "metadata": {
    "collapsed": true
   },
   "outputs": [
    {
     "data": {
      "text/plain": [
       "[(10, 12), (6, 8), (9, 2)]"
      ]
     },
     "execution_count": 70,
     "metadata": {},
     "output_type": "execute_result"
    }
   ],
   "source": [
    "list(zip(l1,l2))"
   ]
  },
  {
   "cell_type": "code",
   "execution_count": 23,
   "id": "50f293fc",
   "metadata": {},
   "outputs": [
    {
     "name": "stdout",
     "output_type": "stream",
     "text": [
      "120\n",
      "48\n",
      "18\n"
     ]
    }
   ],
   "source": [
    "l1 = [10,6,9, 12]\n",
    "l2 = [12,8,2]\n",
    "for i in range(len(l1)-1):\n",
    "    print(l1[i] * l2[i])\n",
    "   "
   ]
  },
  {
   "cell_type": "code",
   "execution_count": 25,
   "id": "303e49ca",
   "metadata": {},
   "outputs": [
    {
     "data": {
      "text/plain": [
       "2"
      ]
     },
     "execution_count": 25,
     "metadata": {},
     "output_type": "execute_result"
    }
   ],
   "source": [
    "l2[2]"
   ]
  },
  {
   "cell_type": "code",
   "execution_count": 26,
   "id": "36c045a1",
   "metadata": {},
   "outputs": [
    {
     "name": "stdout",
     "output_type": "stream",
     "text": [
      "10\n",
      "hello\n",
      "python\n",
      "A\n"
     ]
    }
   ],
   "source": [
    "# set -\n",
    "s = {10,\"python\",\"A\", \"hello\"}\n",
    "for i in s:\n",
    "    print(i)"
   ]
  },
  {
   "cell_type": "code",
   "execution_count": 80,
   "id": "1d660311",
   "metadata": {
    "collapsed": true
   },
   "outputs": [
    {
     "name": "stdout",
     "output_type": "stream",
     "text": [
      "A 30\n",
      "B 40\n"
     ]
    }
   ],
   "source": [
    "d = {\"A\" : 30, \"B\" : 40}\n",
    "\n",
    "for i in d:\n",
    "    print(i, d[i])"
   ]
  },
  {
   "cell_type": "code",
   "execution_count": 79,
   "id": "58fd32c1",
   "metadata": {},
   "outputs": [
    {
     "data": {
      "text/plain": [
       "30"
      ]
     },
     "execution_count": 79,
     "metadata": {},
     "output_type": "execute_result"
    }
   ],
   "source": [
    "d[\"A\"]"
   ]
  },
  {
   "cell_type": "code",
   "execution_count": 82,
   "id": "ffbf1c12",
   "metadata": {},
   "outputs": [
    {
     "name": "stdout",
     "output_type": "stream",
     "text": [
      "A 30\n",
      "B 40\n"
     ]
    }
   ],
   "source": [
    "d = {\"A\" : 30, \"B\" : 40}\n",
    "\n",
    "for k,v in d.items():\n",
    "    print(k,v)"
   ]
  },
  {
   "cell_type": "code",
   "execution_count": null,
   "id": "ce41a923",
   "metadata": {},
   "outputs": [],
   "source": [
    "# W.A.P to find all the factors of any given number\n",
    "# W.A.P to find the factorial of a given number"
   ]
  },
  {
   "cell_type": "code",
   "execution_count": 87,
   "id": "f86ace29",
   "metadata": {},
   "outputs": [
    {
     "name": "stdout",
     "output_type": "stream",
     "text": [
      "Enter the num - 50\n",
      "[1, 2, 5, 10, 25]\n"
     ]
    }
   ],
   "source": [
    "#  [1, 3, 5]\n",
    "\n",
    "\n",
    "num = int(input(\"Enter the num - \"))\n",
    "factors = []\n",
    "for i in range(1,num):  \n",
    "    if num%i==0:\n",
    "        factors.append(i)\n",
    "print(factors)"
   ]
  },
  {
   "cell_type": "code",
   "execution_count": 88,
   "id": "8907b9d0",
   "metadata": {},
   "outputs": [
    {
     "name": "stdout",
     "output_type": "stream",
     "text": [
      "Enter the num - 4\n",
      "24\n"
     ]
    }
   ],
   "source": [
    "# 4! - 4*3*2*1\n",
    "#    - 1*2*3*4\n",
    "\n",
    "num = int(input(\"Enter the num - \"))\n",
    "f = 1\n",
    "for i in range(1,num+1): 5\n",
    "    f = f*i  # f = 1, f = 2, f = 6, f = 6*4\n",
    "print(f)"
   ]
  },
  {
   "cell_type": "code",
   "execution_count": 27,
   "id": "81050a11",
   "metadata": {},
   "outputs": [],
   "source": [
    "# prime, factors, factorial\n",
    "def Prime(num):\n",
    "    for i in range(2,num):\n",
    "        if num%i==0:\n",
    "            print(\"Not prime\")\n",
    "            break\n",
    "    else:\n",
    "        print(\"Prime\")"
   ]
  },
  {
   "cell_type": "code",
   "execution_count": 28,
   "id": "4968ad00",
   "metadata": {},
   "outputs": [
    {
     "name": "stdout",
     "output_type": "stream",
     "text": [
      "Prime\n"
     ]
    }
   ],
   "source": [
    "Prime(71)"
   ]
  },
  {
   "cell_type": "code",
   "execution_count": 29,
   "id": "32eb864b",
   "metadata": {},
   "outputs": [],
   "source": [
    "def Factors(num):\n",
    "    factors = []\n",
    "    for i in range(1,num):  \n",
    "        if num%i==0:\n",
    "            factors.append(i)\n",
    "    print(factors)"
   ]
  },
  {
   "cell_type": "code",
   "execution_count": 30,
   "id": "53f66089",
   "metadata": {},
   "outputs": [
    {
     "name": "stdout",
     "output_type": "stream",
     "text": [
      "[1, 3, 5, 9, 15]\n"
     ]
    }
   ],
   "source": [
    "fac_45 = Factors(45)"
   ]
  },
  {
   "cell_type": "code",
   "execution_count": 31,
   "id": "980d9b26",
   "metadata": {},
   "outputs": [
    {
     "name": "stdout",
     "output_type": "stream",
     "text": [
      "None\n"
     ]
    }
   ],
   "source": [
    "print(fac_45)"
   ]
  },
  {
   "cell_type": "code",
   "execution_count": 32,
   "id": "1f2d2a88",
   "metadata": {},
   "outputs": [],
   "source": [
    "def Factorial(num):\n",
    "    f = 1\n",
    "    for i in range(1,num+1): \n",
    "        f = f*i  # f = 1, f = 2, f = 6, f = 6*4\n",
    "    print(f)"
   ]
  },
  {
   "cell_type": "code",
   "execution_count": 33,
   "id": "a94f1c88",
   "metadata": {},
   "outputs": [
    {
     "name": "stdout",
     "output_type": "stream",
     "text": [
      "120\n"
     ]
    }
   ],
   "source": [
    "fac_5 = Factorial(5)"
   ]
  },
  {
   "cell_type": "code",
   "execution_count": 98,
   "id": "c517476e",
   "metadata": {},
   "outputs": [
    {
     "name": "stdout",
     "output_type": "stream",
     "text": [
      "None\n"
     ]
    }
   ],
   "source": [
    "print(fac_5)"
   ]
  },
  {
   "cell_type": "code",
   "execution_count": 99,
   "id": "eb9bc13e",
   "metadata": {},
   "outputs": [],
   "source": [
    "def Factorial(num):\n",
    "    f = 1\n",
    "    for i in range(1,num+1): \n",
    "        f = f*i  # f = 1, f = 2, f = 6, f = 6*4\n",
    "    return f"
   ]
  },
  {
   "cell_type": "code",
   "execution_count": 100,
   "id": "8f895e18",
   "metadata": {},
   "outputs": [],
   "source": [
    "fac_5 = Factorial(5)"
   ]
  },
  {
   "cell_type": "code",
   "execution_count": 101,
   "id": "b019ce71",
   "metadata": {},
   "outputs": [
    {
     "data": {
      "text/plain": [
       "120"
      ]
     },
     "execution_count": 101,
     "metadata": {},
     "output_type": "execute_result"
    }
   ],
   "source": [
    "fac_5"
   ]
  },
  {
   "cell_type": "code",
   "execution_count": 106,
   "id": "e12becd0",
   "metadata": {},
   "outputs": [],
   "source": [
    "def Factors(num):\n",
    "    factors = []\n",
    "    for i in range(1,num):  \n",
    "        if num%i==0:\n",
    "            factors.append(i)\n",
    "    return factors"
   ]
  },
  {
   "cell_type": "code",
   "execution_count": 107,
   "id": "d091b333",
   "metadata": {},
   "outputs": [
    {
     "data": {
      "text/plain": [
       "[1, 3, 5, 9, 15]"
      ]
     },
     "execution_count": 107,
     "metadata": {},
     "output_type": "execute_result"
    }
   ],
   "source": [
    "fac_45 = Factors(45)\n",
    "fac_45"
   ]
  },
  {
   "cell_type": "code",
   "execution_count": 108,
   "id": "fccc1e48",
   "metadata": {},
   "outputs": [
    {
     "data": {
      "text/plain": [
       "[1, 3, 9, 11, 33]"
      ]
     },
     "execution_count": 108,
     "metadata": {},
     "output_type": "execute_result"
    }
   ],
   "source": [
    "Factors(99)"
   ]
  },
  {
   "cell_type": "code",
   "execution_count": null,
   "id": "36e9d4c1",
   "metadata": {},
   "outputs": [],
   "source": []
  },
  {
   "cell_type": "code",
   "execution_count": 109,
   "id": "784186d0",
   "metadata": {},
   "outputs": [
    {
     "data": {
      "text/plain": [
       "[1, 4, 9, 16, 25, 36, 49, 64, 81, 100]"
      ]
     },
     "execution_count": 109,
     "metadata": {},
     "output_type": "execute_result"
    }
   ],
   "source": [
    "#square of all num from 1 - 10\n",
    "sq_list = []\n",
    "for i in range(1,11):\n",
    "    sq_list.append(i**2)\n",
    "sq_list"
   ]
  },
  {
   "cell_type": "code",
   "execution_count": 5,
   "id": "768751fe",
   "metadata": {},
   "outputs": [],
   "source": [
    "# [expression for i in iterable if condition]"
   ]
  },
  {
   "cell_type": "code",
   "execution_count": 2,
   "id": "9480c68b",
   "metadata": {},
   "outputs": [
    {
     "data": {
      "text/plain": [
       "[0, 1, 2, 3, 4, 5, 6, 7, 8, 9]"
      ]
     },
     "execution_count": 2,
     "metadata": {},
     "output_type": "execute_result"
    }
   ],
   "source": [
    "[i for i in range(10)]"
   ]
  },
  {
   "cell_type": "code",
   "execution_count": 3,
   "id": "f713dfe0",
   "metadata": {},
   "outputs": [
    {
     "data": {
      "text/plain": [
       "[[1, 2, 3, 4, 5], [2, 4, 6, 8, 10], [3, 6, 9, 12, 15]]"
      ]
     },
     "execution_count": 3,
     "metadata": {},
     "output_type": "execute_result"
    }
   ],
   "source": [
    "[[i*j for j in range(1,6)] for i in (range(1,4))]"
   ]
  },
  {
   "cell_type": "code",
   "execution_count": 12,
   "id": "bb60a1b5",
   "metadata": {},
   "outputs": [
    {
     "data": {
      "text/plain": [
       "[[1, 2, 3, 4, 5], [2, 4, 6, 8, 10], [3, 6, 9, 12, 15]]"
      ]
     },
     "execution_count": 12,
     "metadata": {},
     "output_type": "execute_result"
    }
   ],
   "source": [
    "[[i*j for j in range(1,6)] for i in range(1,4)]\n",
    "# [[j for j in range(1,6)] for _ in range(1,3)]"
   ]
  },
  {
   "cell_type": "code",
   "execution_count": 14,
   "id": "b4cad453",
   "metadata": {},
   "outputs": [
    {
     "data": {
      "text/plain": [
       "[1, 4, 9, 16, 25, 36, 49, 64, 81, 100]"
      ]
     },
     "execution_count": 14,
     "metadata": {},
     "output_type": "execute_result"
    }
   ],
   "source": [
    "[  i**2      for i in range(1,11)     ]  #"
   ]
  },
  {
   "cell_type": "code",
   "execution_count": 16,
   "id": "093bda2b",
   "metadata": {},
   "outputs": [
    {
     "data": {
      "text/plain": [
       "[2, 4, 6, 8, 10]"
      ]
     },
     "execution_count": 16,
     "metadata": {},
     "output_type": "execute_result"
    }
   ],
   "source": [
    "# print all the even numbers between 1-10\n",
    "[i for i in range(1,11) if i%2==0]"
   ]
  },
  {
   "cell_type": "code",
   "execution_count": null,
   "id": "8ec5c93b",
   "metadata": {},
   "outputs": [],
   "source": [
    "# if i%2==0:\n",
    "#     if i>5:\n",
    "#         print(i)"
   ]
  },
  {
   "cell_type": "code",
   "execution_count": null,
   "id": "10ec0341",
   "metadata": {},
   "outputs": [],
   "source": [
    "#[1,2,3,4,5,6,7,8,9,10]\n",
    "\n",
    "# [\"odd\", \"even\",\"odd\"]"
   ]
  },
  {
   "cell_type": "code",
   "execution_count": 5,
   "id": "3acda692",
   "metadata": {},
   "outputs": [
    {
     "data": {
      "text/plain": [
       "['odd', 'even', 'odd', 'even', 'odd']"
      ]
     },
     "execution_count": 5,
     "metadata": {},
     "output_type": "execute_result"
    }
   ],
   "source": [
    "# mapping with even and odd\n",
    "['even' if i%2==0 else 'odd' for i in range(1,6)]"
   ]
  },
  {
   "cell_type": "code",
   "execution_count": 19,
   "id": "5e9a6f16",
   "metadata": {},
   "outputs": [],
   "source": [
    "# [(1,\"odd\"), (2,\"even\"), (3,\"odd\")......(10,\"even\")]"
   ]
  },
  {
   "cell_type": "code",
   "execution_count": 21,
   "id": "38d54d64",
   "metadata": {},
   "outputs": [
    {
     "data": {
      "text/plain": [
       "[(1, 'odd'),\n",
       " (2, 'even'),\n",
       " (3, 'odd'),\n",
       " (4, 'even'),\n",
       " (5, 'odd'),\n",
       " (6, 'even'),\n",
       " (7, 'odd'),\n",
       " (8, 'even'),\n",
       " (9, 'odd'),\n",
       " (10, 'even')]"
      ]
     },
     "execution_count": 21,
     "metadata": {},
     "output_type": "execute_result"
    }
   ],
   "source": [
    "[(i,\"even\") if i%2==0 else (i,\"odd\")    for i in range(1,11)]"
   ]
  },
  {
   "cell_type": "code",
   "execution_count": 9,
   "id": "1cea881a",
   "metadata": {
    "scrolled": true
   },
   "outputs": [
    {
     "data": {
      "text/plain": [
       "[[5, 6, 7, 8, 9, 10],\n",
       " [10, 12, 14, 16, 18, 20],\n",
       " [15, 18, 21, 24, 27, 30],\n",
       " [20, 24, 28, 32, 36, 40],\n",
       " [25, 30, 35, 40, 45, 50],\n",
       " [30, 36, 42, 48, 54, 60],\n",
       " [35, 42, 49, 56, 63, 70],\n",
       " [40, 48, 56, 64, 72, 80],\n",
       " [45, 54, 63, 72, 81, 90],\n",
       " [50, 60, 70, 80, 90, 100]]"
      ]
     },
     "execution_count": 9,
     "metadata": {},
     "output_type": "execute_result"
    }
   ],
   "source": [
    "# nesting\n",
    "[ [ i*j     for i in range(5,11)]  for j in range(1,11)   ]\n",
    "[[i*j for i in range(5,11)] for j in range(1,11)]"
   ]
  },
  {
   "cell_type": "code",
   "execution_count": null,
   "id": "5d20b063",
   "metadata": {},
   "outputs": [],
   "source": [
    "# [  [5,,10,15...50] ,  [6....60] ]"
   ]
  },
  {
   "cell_type": "code",
   "execution_count": 33,
   "id": "43eea6a7",
   "metadata": {},
   "outputs": [
    {
     "data": {
      "text/plain": [
       "[[5, 10, 15, 20, 25, 30, 35, 40, 45, 50],\n",
       " [6, 12, 18, 24, 30, 36, 42, 48, 54, 60],\n",
       " [7, 14, 21, 28, 35, 42, 49, 56, 63, 70],\n",
       " [8, 16, 24, 32, 40, 48, 56, 64, 72, 80],\n",
       " [9, 18, 27, 36, 45, 54, 63, 72, 81, 90],\n",
       " [10, 20, 30, 40, 50, 60, 70, 80, 90, 100]]"
      ]
     },
     "execution_count": 33,
     "metadata": {},
     "output_type": "execute_result"
    }
   ],
   "source": [
    "[  [ i*j  for j in range(1,11)]    for i in range(5,11)    ]"
   ]
  },
  {
   "cell_type": "code",
   "execution_count": 120,
   "id": "817a0a68",
   "metadata": {},
   "outputs": [
    {
     "data": {
      "text/plain": [
       "[5, 10, 15, 20, 25, 30, 35, 40, 45, 50]"
      ]
     },
     "execution_count": 120,
     "metadata": {},
     "output_type": "execute_result"
    }
   ],
   "source": [
    "x = 5\n",
    "[x*j   for j in range(1,11)]"
   ]
  },
  {
   "cell_type": "code",
   "execution_count": 34,
   "id": "ab4f8258",
   "metadata": {},
   "outputs": [
    {
     "data": {
      "text/plain": [
       "[5,\n",
       " 10,\n",
       " 15,\n",
       " 20,\n",
       " 25,\n",
       " 30,\n",
       " 35,\n",
       " 40,\n",
       " 45,\n",
       " 50,\n",
       " 6,\n",
       " 12,\n",
       " 18,\n",
       " 24,\n",
       " 30,\n",
       " 36,\n",
       " 42,\n",
       " 48,\n",
       " 54,\n",
       " 60,\n",
       " 7,\n",
       " 14,\n",
       " 21,\n",
       " 28,\n",
       " 35,\n",
       " 42,\n",
       " 49,\n",
       " 56,\n",
       " 63,\n",
       " 70,\n",
       " 8,\n",
       " 16,\n",
       " 24,\n",
       " 32,\n",
       " 40,\n",
       " 48,\n",
       " 56,\n",
       " 64,\n",
       " 72,\n",
       " 80,\n",
       " 9,\n",
       " 18,\n",
       " 27,\n",
       " 36,\n",
       " 45,\n",
       " 54,\n",
       " 63,\n",
       " 72,\n",
       " 81,\n",
       " 90,\n",
       " 10,\n",
       " 20,\n",
       " 30,\n",
       " 40,\n",
       " 50,\n",
       " 60,\n",
       " 70,\n",
       " 80,\n",
       " 90,\n",
       " 100]"
      ]
     },
     "execution_count": 34,
     "metadata": {},
     "output_type": "execute_result"
    }
   ],
   "source": [
    "table = []\n",
    "for i in range(5,11):\n",
    "    for j in range(1,11):\n",
    "        table.append(i*j)\n",
    "table "
   ]
  },
  {
   "cell_type": "code",
   "execution_count": 126,
   "id": "4581b171",
   "metadata": {
    "collapsed": true
   },
   "outputs": [
    {
     "data": {
      "text/plain": [
       "[[5, 10, 15, 20, 25, 30, 35, 40, 45, 50],\n",
       " [6, 12, 18, 24, 30, 36, 42, 48, 54, 60],\n",
       " [7, 14, 21, 28, 35, 42, 49, 56, 63, 70],\n",
       " [8, 16, 24, 32, 40, 48, 56, 64, 72, 80],\n",
       " [9, 18, 27, 36, 45, 54, 63, 72, 81, 90],\n",
       " [10, 20, 30, 40, 50, 60, 70, 80, 90, 100]]"
      ]
     },
     "execution_count": 126,
     "metadata": {},
     "output_type": "execute_result"
    }
   ],
   "source": [
    "table = []\n",
    "for i in range(5,11): \n",
    "    temp_l = []  \n",
    "    for j in range(1,11):\n",
    "        temp_l.append(i*j)\n",
    "    table.append(temp_l)\n",
    "table"
   ]
  },
  {
   "cell_type": "code",
   "execution_count": 130,
   "id": "517b7beb",
   "metadata": {
    "collapsed": true
   },
   "outputs": [
    {
     "data": {
      "text/plain": [
       "{4, 16, 36, 64, 100}"
      ]
     },
     "execution_count": 130,
     "metadata": {},
     "output_type": "execute_result"
    }
   ],
   "source": [
    "s = { i**2   for i in range(1,11)  if i%2==0}\n",
    "s"
   ]
  },
  {
   "cell_type": "code",
   "execution_count": 131,
   "id": "6de1b6cb",
   "metadata": {},
   "outputs": [
    {
     "data": {
      "text/plain": [
       "set"
      ]
     },
     "execution_count": 131,
     "metadata": {},
     "output_type": "execute_result"
    }
   ],
   "source": [
    "type(s)"
   ]
  },
  {
   "cell_type": "code",
   "execution_count": 135,
   "id": "63faf9cd",
   "metadata": {},
   "outputs": [
    {
     "data": {
      "text/plain": [
       "<generator object <genexpr> at 0x000001988278DD60>"
      ]
     },
     "execution_count": 135,
     "metadata": {},
     "output_type": "execute_result"
    }
   ],
   "source": [
    "s = ( i**2   for i in range(1,11)  if i%2==0)\n",
    "s"
   ]
  },
  {
   "cell_type": "code",
   "execution_count": 136,
   "id": "54be26bd",
   "metadata": {},
   "outputs": [
    {
     "data": {
      "text/plain": [
       "[4, 16, 36, 64, 100]"
      ]
     },
     "execution_count": 136,
     "metadata": {},
     "output_type": "execute_result"
    }
   ],
   "source": [
    "list(s)"
   ]
  },
  {
   "cell_type": "code",
   "execution_count": 137,
   "id": "5b009c36",
   "metadata": {},
   "outputs": [
    {
     "data": {
      "text/plain": [
       "[]"
      ]
     },
     "execution_count": 137,
     "metadata": {},
     "output_type": "execute_result"
    }
   ],
   "source": [
    "list(s)"
   ]
  }
 ],
 "metadata": {
  "kernelspec": {
   "display_name": "Python 3 (ipykernel)",
   "language": "python",
   "name": "python3"
  },
  "language_info": {
   "codemirror_mode": {
    "name": "ipython",
    "version": 3
   },
   "file_extension": ".py",
   "mimetype": "text/x-python",
   "name": "python",
   "nbconvert_exporter": "python",
   "pygments_lexer": "ipython3",
   "version": "3.10.9"
  }
 },
 "nbformat": 4,
 "nbformat_minor": 5
}
