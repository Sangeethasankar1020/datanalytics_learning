{
 "cells": [
  {
   "cell_type": "code",
   "execution_count": 19,
   "id": "2318b8be",
   "metadata": {},
   "outputs": [
    {
     "data": {
      "text/plain": [
       "'p'"
      ]
     },
     "execution_count": 19,
     "metadata": {},
     "output_type": "execute_result"
    }
   ],
   "source": [
    "# string - indexing\n",
    "\n",
    "s = \"python\"\n",
    "s[0]"
   ]
  },
  {
   "cell_type": "code",
   "execution_count": 20,
   "id": "3506a738",
   "metadata": {
    "scrolled": true
   },
   "outputs": [
    {
     "data": {
      "text/plain": [
       "6"
      ]
     },
     "execution_count": 20,
     "metadata": {},
     "output_type": "execute_result"
    }
   ],
   "source": [
    "l = [2,4,5,6]\n",
    "max(l)"
   ]
  },
  {
   "cell_type": "code",
   "execution_count": 21,
   "id": "264cef13",
   "metadata": {},
   "outputs": [
    {
     "name": "stdout",
     "output_type": "stream",
     "text": [
      "6\n"
     ]
    }
   ],
   "source": [
    "l = [2, 4, 5, 6]\n",
    "\n",
    "largest_value = max(l,key=lambda x: x)\n",
    "\n",
    "print(largest_value)\n"
   ]
  },
  {
   "cell_type": "code",
   "execution_count": 22,
   "id": "ddb851cd",
   "metadata": {},
   "outputs": [
    {
     "data": {
      "text/plain": [
       "6"
      ]
     },
     "execution_count": 22,
     "metadata": {},
     "output_type": "execute_result"
    }
   ],
   "source": [
    "sorted(l)[-1]"
   ]
  },
  {
   "cell_type": "code",
   "execution_count": null,
   "id": "67ed2ba6",
   "metadata": {},
   "outputs": [],
   "source": []
  },
  {
   "cell_type": "code",
   "execution_count": 23,
   "id": "bc8bcd04",
   "metadata": {},
   "outputs": [
    {
     "name": "stdout",
     "output_type": "stream",
     "text": [
      "6\n"
     ]
    }
   ],
   "source": [
    "large = l[0]\n",
    "for i in l:\n",
    "    if i > large:\n",
    "        large=i\n",
    "print(large)\n",
    "    \n",
    "    "
   ]
  },
  {
   "cell_type": "code",
   "execution_count": 24,
   "id": "b3f9fce2",
   "metadata": {},
   "outputs": [],
   "source": [
    "e = [1,1,2,2,3,4,5]\n",
    "d = {}\n",
    "# for i in e:\n",
    "#     if i in d:\n",
    "#         d[i]+=1\n",
    "#     else:\n",
    "#         d[i]=1\n",
    "# print(d)"
   ]
  },
  {
   "cell_type": "code",
   "execution_count": 25,
   "id": "97ac695c",
   "metadata": {},
   "outputs": [
    {
     "name": "stdout",
     "output_type": "stream",
     "text": [
      "{1: 2, 2: 2, 3: 1, 4: 1, 5: 1}\n"
     ]
    }
   ],
   "source": [
    "for i in e:\n",
    "    if i in d:\n",
    "        d[i]+=1\n",
    "    else:\n",
    "        d[i]=1\n",
    "print(d)"
   ]
  },
  {
   "cell_type": "code",
   "execution_count": null,
   "id": "a6785305",
   "metadata": {},
   "outputs": [],
   "source": []
  },
  {
   "cell_type": "code",
   "execution_count": 26,
   "id": "893d550d",
   "metadata": {},
   "outputs": [
    {
     "data": {
      "text/plain": [
       "1"
      ]
     },
     "execution_count": 26,
     "metadata": {},
     "output_type": "execute_result"
    }
   ],
   "source": [
    "1%2"
   ]
  },
  {
   "cell_type": "code",
   "execution_count": 27,
   "id": "485f6618",
   "metadata": {},
   "outputs": [
    {
     "data": {
      "text/plain": [
       "'p'"
      ]
     },
     "execution_count": 27,
     "metadata": {},
     "output_type": "execute_result"
    }
   ],
   "source": [
    "s[-6]"
   ]
  },
  {
   "cell_type": "code",
   "execution_count": 28,
   "id": "359c0771",
   "metadata": {},
   "outputs": [
    {
     "data": {
      "text/plain": [
       "'h'"
      ]
     },
     "execution_count": 28,
     "metadata": {},
     "output_type": "execute_result"
    }
   ],
   "source": [
    "s[-3]"
   ]
  },
  {
   "cell_type": "code",
   "execution_count": 29,
   "id": "b265e537",
   "metadata": {},
   "outputs": [
    {
     "data": {
      "text/plain": [
       "'h'"
      ]
     },
     "execution_count": 29,
     "metadata": {},
     "output_type": "execute_result"
    }
   ],
   "source": [
    "s[3]"
   ]
  },
  {
   "cell_type": "code",
   "execution_count": 30,
   "id": "3403ad92",
   "metadata": {},
   "outputs": [
    {
     "data": {
      "text/plain": [
       "'py'"
      ]
     },
     "execution_count": 30,
     "metadata": {},
     "output_type": "execute_result"
    }
   ],
   "source": [
    "# slicing\n",
    "# string[start : end + 1]\n",
    "s[0 : 2]"
   ]
  },
  {
   "cell_type": "code",
   "execution_count": 31,
   "id": "fef62651",
   "metadata": {},
   "outputs": [
    {
     "data": {
      "text/plain": [
       "'py'"
      ]
     },
     "execution_count": 31,
     "metadata": {},
     "output_type": "execute_result"
    }
   ],
   "source": [
    "s[-6 : -4]"
   ]
  },
  {
   "cell_type": "code",
   "execution_count": 32,
   "id": "eb88769c",
   "metadata": {},
   "outputs": [
    {
     "data": {
      "text/plain": [
       "'py'"
      ]
     },
     "execution_count": 32,
     "metadata": {},
     "output_type": "execute_result"
    }
   ],
   "source": [
    "s[-6 : 2]"
   ]
  },
  {
   "cell_type": "code",
   "execution_count": 33,
   "id": "0806f884",
   "metadata": {},
   "outputs": [
    {
     "data": {
      "text/plain": [
       "'py'"
      ]
     },
     "execution_count": 33,
     "metadata": {},
     "output_type": "execute_result"
    }
   ],
   "source": [
    "s[0 : -4]"
   ]
  },
  {
   "cell_type": "code",
   "execution_count": 34,
   "id": "0fe99325",
   "metadata": {},
   "outputs": [
    {
     "data": {
      "text/plain": [
       "'py'"
      ]
     },
     "execution_count": 34,
     "metadata": {},
     "output_type": "execute_result"
    }
   ],
   "source": [
    "s[  : 2]"
   ]
  },
  {
   "cell_type": "code",
   "execution_count": 35,
   "id": "50420a17",
   "metadata": {},
   "outputs": [
    {
     "data": {
      "text/plain": [
       "'ython'"
      ]
     },
     "execution_count": 35,
     "metadata": {},
     "output_type": "execute_result"
    }
   ],
   "source": [
    "s[1 : ]"
   ]
  },
  {
   "cell_type": "code",
   "execution_count": 36,
   "id": "f3897337",
   "metadata": {},
   "outputs": [
    {
     "data": {
      "text/plain": [
       "'python'"
      ]
     },
     "execution_count": 36,
     "metadata": {},
     "output_type": "execute_result"
    }
   ],
   "source": [
    "s[ : ]"
   ]
  },
  {
   "cell_type": "code",
   "execution_count": 37,
   "id": "42afdce7",
   "metadata": {},
   "outputs": [
    {
     "data": {
      "text/plain": [
       "'python'"
      ]
     },
     "execution_count": 37,
     "metadata": {},
     "output_type": "execute_result"
    }
   ],
   "source": [
    "s"
   ]
  },
  {
   "cell_type": "code",
   "execution_count": 38,
   "id": "80f9b893",
   "metadata": {},
   "outputs": [
    {
     "data": {
      "text/plain": [
       "'nohtyp'"
      ]
     },
     "execution_count": 38,
     "metadata": {},
     "output_type": "execute_result"
    }
   ],
   "source": [
    "s[ : :-1]"
   ]
  },
  {
   "cell_type": "code",
   "execution_count": 39,
   "id": "da5033f6",
   "metadata": {},
   "outputs": [
    {
     "data": {
      "text/plain": [
       "'oht'"
      ]
     },
     "execution_count": 39,
     "metadata": {},
     "output_type": "execute_result"
    }
   ],
   "source": [
    "s[-2 : -5 : -1]"
   ]
  },
  {
   "cell_type": "code",
   "execution_count": 40,
   "id": "935f4e5c",
   "metadata": {},
   "outputs": [
    {
     "data": {
      "text/plain": [
       "'gninraeL taerG'"
      ]
     },
     "execution_count": 40,
     "metadata": {},
     "output_type": "execute_result"
    }
   ],
   "source": [
    "s1 = \"Great Learning\"\n",
    "# print learning in reverse \n",
    "# gninraeL\n",
    "s1[-1 :  : -1]"
   ]
  },
  {
   "cell_type": "code",
   "execution_count": 41,
   "id": "c6f61049",
   "metadata": {},
   "outputs": [
    {
     "data": {
      "text/plain": [
       "'gninraeL'"
      ]
     },
     "execution_count": 41,
     "metadata": {},
     "output_type": "execute_result"
    }
   ],
   "source": [
    "s1[-8 : ][ : :-1]"
   ]
  },
  {
   "cell_type": "code",
   "execution_count": 42,
   "id": "4acba228",
   "metadata": {},
   "outputs": [
    {
     "data": {
      "text/plain": [
       "'Python Programming'"
      ]
     },
     "execution_count": 42,
     "metadata": {},
     "output_type": "execute_result"
    }
   ],
   "source": [
    "s2 = \"Python Programming\"\n",
    "# print only python\n",
    "# print only programming'\n",
    "# print python in reverse \n",
    "# print programming in reverse\n",
    "s2"
   ]
  },
  {
   "cell_type": "code",
   "execution_count": 43,
   "id": "290ce805",
   "metadata": {},
   "outputs": [
    {
     "data": {
      "text/plain": [
       "'nohtyP'"
      ]
     },
     "execution_count": 43,
     "metadata": {},
     "output_type": "execute_result"
    }
   ],
   "source": [
    "s2[  : 6] [: :-1]"
   ]
  },
  {
   "cell_type": "code",
   "execution_count": 44,
   "id": "6ca19977",
   "metadata": {},
   "outputs": [
    {
     "data": {
      "text/plain": [
       "'gnimmargorP'"
      ]
     },
     "execution_count": 44,
     "metadata": {},
     "output_type": "execute_result"
    }
   ],
   "source": [
    "s2[7 : ] [ : :-1]"
   ]
  },
  {
   "cell_type": "code",
   "execution_count": 45,
   "id": "1cb67c75",
   "metadata": {},
   "outputs": [
    {
     "data": {
      "text/plain": [
       "'nohtyP'"
      ]
     },
     "execution_count": 45,
     "metadata": {},
     "output_type": "execute_result"
    }
   ],
   "source": [
    "s2[ 5 :  :-1] "
   ]
  },
  {
   "cell_type": "code",
   "execution_count": 46,
   "id": "983d831d",
   "metadata": {},
   "outputs": [
    {
     "data": {
      "text/plain": [
       "'gnimmargorP'"
      ]
     },
     "execution_count": 46,
     "metadata": {},
     "output_type": "execute_result"
    }
   ],
   "source": [
    "s2[-1 : 6 : -1]"
   ]
  },
  {
   "cell_type": "code",
   "execution_count": 47,
   "id": "c65f2a1a",
   "metadata": {},
   "outputs": [
    {
     "name": "stdout",
     "output_type": "stream",
     "text": [
      "Help on built-in function print in module builtins:\n",
      "\n",
      "print(...)\n",
      "    print(value, ..., sep=' ', end='\\n', file=sys.stdout, flush=False)\n",
      "    \n",
      "    Prints the values to a stream, or to sys.stdout by default.\n",
      "    Optional keyword arguments:\n",
      "    file:  a file-like object (stream); defaults to the current sys.stdout.\n",
      "    sep:   string inserted between values, default a space.\n",
      "    end:   string appended after the last value, default a newline.\n",
      "    flush: whether to forcibly flush the stream.\n",
      "\n"
     ]
    }
   ],
   "source": [
    "# string functions\n",
    "help(print)"
   ]
  },
  {
   "cell_type": "code",
   "execution_count": 48,
   "id": "25feb7e9",
   "metadata": {},
   "outputs": [
    {
     "name": "stdout",
     "output_type": "stream",
     "text": [
      "['__add__', '__class__', '__contains__', '__delattr__', '__dir__', '__doc__', '__eq__', '__format__', '__ge__', '__getattribute__', '__getitem__', '__getnewargs__', '__gt__', '__hash__', '__init__', '__init_subclass__', '__iter__', '__le__', '__len__', '__lt__', '__mod__', '__mul__', '__ne__', '__new__', '__reduce__', '__reduce_ex__', '__repr__', '__rmod__', '__rmul__', '__setattr__', '__sizeof__', '__str__', '__subclasshook__', 'capitalize', 'casefold', 'center', 'count', 'encode', 'endswith', 'expandtabs', 'find', 'format', 'format_map', 'index', 'isalnum', 'isalpha', 'isascii', 'isdecimal', 'isdigit', 'isidentifier', 'islower', 'isnumeric', 'isprintable', 'isspace', 'istitle', 'isupper', 'join', 'ljust', 'lower', 'lstrip', 'maketrans', 'partition', 'removeprefix', 'removesuffix', 'replace', 'rfind', 'rindex', 'rjust', 'rpartition', 'rsplit', 'rstrip', 'split', 'splitlines', 'startswith', 'strip', 'swapcase', 'title', 'translate', 'upper', 'zfill']\n"
     ]
    }
   ],
   "source": [
    "print(dir(str))"
   ]
  },
  {
   "cell_type": "code",
   "execution_count": 49,
   "id": "5437153c",
   "metadata": {},
   "outputs": [
    {
     "name": "stdout",
     "output_type": "stream",
     "text": [
      "Help on method_descriptor:\n",
      "\n",
      "capitalize(self, /)\n",
      "    Return a capitalized version of the string.\n",
      "    \n",
      "    More specifically, make the first character have upper case and the rest lower\n",
      "    case.\n",
      "\n"
     ]
    }
   ],
   "source": [
    "help(str.capitalize)"
   ]
  },
  {
   "cell_type": "code",
   "execution_count": 54,
   "id": "e4e9260e",
   "metadata": {},
   "outputs": [
    {
     "data": {
      "text/plain": [
       "'PYTHON'"
      ]
     },
     "execution_count": 54,
     "metadata": {},
     "output_type": "execute_result"
    }
   ],
   "source": [
    "# upper, lower, capitalize, title\n",
    "new_s = s.upper()\n",
    "new_s"
   ]
  },
  {
   "cell_type": "code",
   "execution_count": 55,
   "id": "549865a4",
   "metadata": {},
   "outputs": [],
   "source": [
    "# s  # str is immutable"
   ]
  },
  {
   "cell_type": "code",
   "execution_count": 56,
   "id": "61fe4dd7",
   "metadata": {},
   "outputs": [
    {
     "data": {
      "text/plain": [
       "1479201166640"
      ]
     },
     "execution_count": 56,
     "metadata": {},
     "output_type": "execute_result"
    }
   ],
   "source": [
    "# identity operator - memory address\n",
    "id(s)"
   ]
  },
  {
   "cell_type": "code",
   "execution_count": 57,
   "id": "c850158e",
   "metadata": {},
   "outputs": [
    {
     "data": {
      "text/plain": [
       "1479236818352"
      ]
     },
     "execution_count": 57,
     "metadata": {},
     "output_type": "execute_result"
    }
   ],
   "source": [
    "id(new_s)"
   ]
  },
  {
   "cell_type": "code",
   "execution_count": 58,
   "id": "172bc813",
   "metadata": {},
   "outputs": [
    {
     "data": {
      "text/plain": [
       "False"
      ]
     },
     "execution_count": 58,
     "metadata": {},
     "output_type": "execute_result"
    }
   ],
   "source": [
    "s is new_s"
   ]
  },
  {
   "cell_type": "code",
   "execution_count": 59,
   "id": "e340aec1",
   "metadata": {},
   "outputs": [],
   "source": [
    "a = 500\n",
    "b = a"
   ]
  },
  {
   "cell_type": "code",
   "execution_count": 60,
   "id": "85124f61",
   "metadata": {},
   "outputs": [
    {
     "data": {
      "text/plain": [
       "1479263993776"
      ]
     },
     "execution_count": 60,
     "metadata": {},
     "output_type": "execute_result"
    }
   ],
   "source": [
    "id(a)"
   ]
  },
  {
   "cell_type": "code",
   "execution_count": 61,
   "id": "6b7b6159",
   "metadata": {},
   "outputs": [
    {
     "data": {
      "text/plain": [
       "1479263993776"
      ]
     },
     "execution_count": 61,
     "metadata": {},
     "output_type": "execute_result"
    }
   ],
   "source": [
    "id(b)"
   ]
  },
  {
   "cell_type": "code",
   "execution_count": 62,
   "id": "7d4a3581",
   "metadata": {},
   "outputs": [
    {
     "data": {
      "text/plain": [
       "True"
      ]
     },
     "execution_count": 62,
     "metadata": {},
     "output_type": "execute_result"
    }
   ],
   "source": [
    "a is b"
   ]
  },
  {
   "cell_type": "code",
   "execution_count": 63,
   "id": "e1b09ac4",
   "metadata": {},
   "outputs": [
    {
     "data": {
      "text/plain": [
       "False"
      ]
     },
     "execution_count": 63,
     "metadata": {},
     "output_type": "execute_result"
    }
   ],
   "source": [
    "a is not b"
   ]
  },
  {
   "cell_type": "code",
   "execution_count": 64,
   "id": "09b1e054",
   "metadata": {},
   "outputs": [
    {
     "data": {
      "text/plain": [
       "'python'"
      ]
     },
     "execution_count": 64,
     "metadata": {},
     "output_type": "execute_result"
    }
   ],
   "source": [
    "new_s.lower()"
   ]
  },
  {
   "cell_type": "code",
   "execution_count": 65,
   "id": "837e93f8",
   "metadata": {},
   "outputs": [
    {
     "data": {
      "text/plain": [
       "'Python'"
      ]
     },
     "execution_count": 65,
     "metadata": {},
     "output_type": "execute_result"
    }
   ],
   "source": [
    "new_s.capitalize()"
   ]
  },
  {
   "cell_type": "code",
   "execution_count": 66,
   "id": "4bced8a7",
   "metadata": {},
   "outputs": [
    {
     "data": {
      "text/plain": [
       "'Python For Data Science'"
      ]
     },
     "execution_count": 66,
     "metadata": {},
     "output_type": "execute_result"
    }
   ],
   "source": [
    "string = \"python for data science\"\n",
    "string.title()"
   ]
  },
  {
   "cell_type": "code",
   "execution_count": 67,
   "id": "c07b7f47",
   "metadata": {},
   "outputs": [
    {
     "data": {
      "text/plain": [
       "False"
      ]
     },
     "execution_count": 67,
     "metadata": {},
     "output_type": "execute_result"
    }
   ],
   "source": [
    "# isupper, islower, istitle\n",
    "s.isupper()"
   ]
  },
  {
   "cell_type": "code",
   "execution_count": 68,
   "id": "64d8e14f",
   "metadata": {},
   "outputs": [
    {
     "data": {
      "text/plain": [
       "True"
      ]
     },
     "execution_count": 68,
     "metadata": {},
     "output_type": "execute_result"
    }
   ],
   "source": [
    "s.islower()"
   ]
  },
  {
   "cell_type": "code",
   "execution_count": 69,
   "id": "d5313499",
   "metadata": {},
   "outputs": [
    {
     "data": {
      "text/plain": [
       "False"
      ]
     },
     "execution_count": 69,
     "metadata": {},
     "output_type": "execute_result"
    }
   ],
   "source": [
    "string.istitle()"
   ]
  },
  {
   "cell_type": "code",
   "execution_count": 71,
   "id": "76c5f24b",
   "metadata": {},
   "outputs": [
    {
     "data": {
      "text/plain": [
       "'Python for data science'"
      ]
     },
     "execution_count": 71,
     "metadata": {},
     "output_type": "execute_result"
    }
   ],
   "source": [
    "string.capitalize()"
   ]
  },
  {
   "cell_type": "code",
   "execution_count": 58,
   "id": "8f461c03",
   "metadata": {},
   "outputs": [
    {
     "data": {
      "text/plain": [
       "'python'"
      ]
     },
     "execution_count": 58,
     "metadata": {},
     "output_type": "execute_result"
    }
   ],
   "source": [
    "# capitalize - 1st letter in upper, rest in lower\n",
    "s"
   ]
  },
  {
   "cell_type": "code",
   "execution_count": 72,
   "id": "439cebdc",
   "metadata": {},
   "outputs": [
    {
     "data": {
      "text/plain": [
       "False"
      ]
     },
     "execution_count": 72,
     "metadata": {},
     "output_type": "execute_result"
    }
   ],
   "source": [
    "s[0].isupper()"
   ]
  },
  {
   "cell_type": "code",
   "execution_count": 73,
   "id": "58b5807a",
   "metadata": {},
   "outputs": [
    {
     "data": {
      "text/plain": [
       "True"
      ]
     },
     "execution_count": 73,
     "metadata": {},
     "output_type": "execute_result"
    }
   ],
   "source": [
    "s[1 : ].islower()"
   ]
  },
  {
   "cell_type": "code",
   "execution_count": 74,
   "id": "f5d9c10a",
   "metadata": {},
   "outputs": [
    {
     "data": {
      "text/plain": [
       "False"
      ]
     },
     "execution_count": 74,
     "metadata": {},
     "output_type": "execute_result"
    }
   ],
   "source": [
    "s[0].isupper() and s[1 : ].islower()"
   ]
  },
  {
   "cell_type": "code",
   "execution_count": 75,
   "id": "a485f034",
   "metadata": {},
   "outputs": [
    {
     "data": {
      "text/plain": [
       "'python for data science'"
      ]
     },
     "execution_count": 75,
     "metadata": {},
     "output_type": "execute_result"
    }
   ],
   "source": [
    "# index, find, replace, count\n",
    "string"
   ]
  },
  {
   "cell_type": "code",
   "execution_count": 76,
   "id": "dd52dfe6",
   "metadata": {},
   "outputs": [
    {
     "data": {
      "text/plain": [
       "1"
      ]
     },
     "execution_count": 76,
     "metadata": {},
     "output_type": "execute_result"
    }
   ],
   "source": [
    "string.index(\"y\")"
   ]
  },
  {
   "cell_type": "code",
   "execution_count": 77,
   "id": "d3473298",
   "metadata": {},
   "outputs": [
    {
     "data": {
      "text/plain": [
       "4"
      ]
     },
     "execution_count": 77,
     "metadata": {},
     "output_type": "execute_result"
    }
   ],
   "source": [
    "string.index(\"o\")  # left to right"
   ]
  },
  {
   "cell_type": "code",
   "execution_count": 78,
   "id": "cb33980d",
   "metadata": {},
   "outputs": [
    {
     "data": {
      "text/plain": [
       "8"
      ]
     },
     "execution_count": 78,
     "metadata": {},
     "output_type": "execute_result"
    }
   ],
   "source": [
    "string.rindex(\"o\")  # right to left"
   ]
  },
  {
   "cell_type": "code",
   "execution_count": 79,
   "id": "d980f4c8",
   "metadata": {},
   "outputs": [
    {
     "data": {
      "text/plain": [
       "8"
      ]
     },
     "execution_count": 79,
     "metadata": {},
     "output_type": "execute_result"
    }
   ],
   "source": [
    "string.index(\"o\", 5 )"
   ]
  },
  {
   "cell_type": "code",
   "execution_count": 80,
   "id": "5ddd8592",
   "metadata": {},
   "outputs": [
    {
     "data": {
      "text/plain": [
       "8"
      ]
     },
     "execution_count": 80,
     "metadata": {},
     "output_type": "execute_result"
    }
   ],
   "source": [
    "string.index(\"o\", 5, 15 )"
   ]
  },
  {
   "cell_type": "code",
   "execution_count": 81,
   "id": "414d5b81",
   "metadata": {},
   "outputs": [
    {
     "data": {
      "text/plain": [
       "11"
      ]
     },
     "execution_count": 81,
     "metadata": {},
     "output_type": "execute_result"
    }
   ],
   "source": [
    "string.index(\"data\")"
   ]
  },
  {
   "cell_type": "code",
   "execution_count": 82,
   "id": "61965bae",
   "metadata": {},
   "outputs": [
    {
     "data": {
      "text/plain": [
       "28"
      ]
     },
     "execution_count": 82,
     "metadata": {},
     "output_type": "execute_result"
    }
   ],
   "source": [
    "new_string = \"python for data science and data analyst\"\n",
    "new_string.rindex(\"data\")"
   ]
  },
  {
   "cell_type": "code",
   "execution_count": 86,
   "id": "55fb3dce",
   "metadata": {},
   "outputs": [
    {
     "data": {
      "text/plain": [
       "'python for data science'"
      ]
     },
     "execution_count": 86,
     "metadata": {},
     "output_type": "execute_result"
    }
   ],
   "source": [
    "string"
   ]
  },
  {
   "cell_type": "code",
   "execution_count": 88,
   "id": "93c93cf4",
   "metadata": {
    "scrolled": true
   },
   "outputs": [
    {
     "ename": "ValueError",
     "evalue": "substring not found",
     "output_type": "error",
     "traceback": [
      "\u001b[1;31m---------------------------------------------------------------------------\u001b[0m",
      "\u001b[1;31mValueError\u001b[0m                                Traceback (most recent call last)",
      "Cell \u001b[1;32mIn[88], line 1\u001b[0m\n\u001b[1;32m----> 1\u001b[0m \u001b[43mstring\u001b[49m\u001b[38;5;241;43m.\u001b[39;49m\u001b[43mindex\u001b[49m\u001b[43m(\u001b[49m\u001b[38;5;124;43m\"\u001b[39;49m\u001b[38;5;124;43mgreat\u001b[39;49m\u001b[38;5;124;43m\"\u001b[39;49m\u001b[43m)\u001b[49m\n",
      "\u001b[1;31mValueError\u001b[0m: substring not found"
     ]
    }
   ],
   "source": [
    "string.index(\"great\")"
   ]
  },
  {
   "cell_type": "code",
   "execution_count": 89,
   "id": "72e33e95",
   "metadata": {},
   "outputs": [
    {
     "data": {
      "text/plain": [
       "-1"
      ]
     },
     "execution_count": 89,
     "metadata": {},
     "output_type": "execute_result"
    }
   ],
   "source": [
    "string.find(\"z\")"
   ]
  },
  {
   "cell_type": "code",
   "execution_count": 85,
   "id": "16e8f796",
   "metadata": {},
   "outputs": [
    {
     "data": {
      "text/plain": [
       "'python for data analysis'"
      ]
     },
     "execution_count": 85,
     "metadata": {},
     "output_type": "execute_result"
    }
   ],
   "source": [
    "# replace\n",
    "string.replace(\"science\", \"analysis\")"
   ]
  },
  {
   "cell_type": "code",
   "execution_count": 73,
   "id": "11fc6256",
   "metadata": {},
   "outputs": [
    {
     "data": {
      "text/plain": [
       "'python for decision science and decision analyst'"
      ]
     },
     "execution_count": 73,
     "metadata": {},
     "output_type": "execute_result"
    }
   ],
   "source": [
    "new_string.replace(\"data\",\"decision\")"
   ]
  },
  {
   "cell_type": "code",
   "execution_count": 74,
   "id": "2c9c3cdf",
   "metadata": {},
   "outputs": [
    {
     "data": {
      "text/plain": [
       "1"
      ]
     },
     "execution_count": 74,
     "metadata": {},
     "output_type": "execute_result"
    }
   ],
   "source": [
    "# count\n",
    "string.count(\"data\")"
   ]
  },
  {
   "cell_type": "code",
   "execution_count": 75,
   "id": "2bcfea7d",
   "metadata": {},
   "outputs": [
    {
     "data": {
      "text/plain": [
       "'python for data science and data analyst'"
      ]
     },
     "execution_count": 75,
     "metadata": {},
     "output_type": "execute_result"
    }
   ],
   "source": [
    "new_string"
   ]
  },
  {
   "cell_type": "code",
   "execution_count": 76,
   "id": "97d42977",
   "metadata": {},
   "outputs": [
    {
     "data": {
      "text/plain": [
       "2"
      ]
     },
     "execution_count": 76,
     "metadata": {},
     "output_type": "execute_result"
    }
   ],
   "source": [
    "new_string.count(\"data\")"
   ]
  },
  {
   "cell_type": "code",
   "execution_count": 77,
   "id": "940d0616",
   "metadata": {},
   "outputs": [],
   "source": [
    "# split, join, strip, isdigit, isspace, isascii, isalpha, isalnum"
   ]
  },
  {
   "cell_type": "code",
   "execution_count": 78,
   "id": "b293fd93",
   "metadata": {},
   "outputs": [],
   "source": [
    "# index, find "
   ]
  },
  {
   "cell_type": "code",
   "execution_count": 79,
   "id": "0f5f134a",
   "metadata": {},
   "outputs": [
    {
     "data": {
      "text/plain": [
       "4"
      ]
     },
     "execution_count": 79,
     "metadata": {},
     "output_type": "execute_result"
    }
   ],
   "source": [
    "s.index(\"o\")"
   ]
  },
  {
   "cell_type": "code",
   "execution_count": 80,
   "id": "e87ece60",
   "metadata": {},
   "outputs": [
    {
     "ename": "ValueError",
     "evalue": "substring not found",
     "output_type": "error",
     "traceback": [
      "\u001b[1;31m---------------------------------------------------------------------------\u001b[0m",
      "\u001b[1;31mValueError\u001b[0m                                Traceback (most recent call last)",
      "Cell \u001b[1;32mIn[80], line 1\u001b[0m\n\u001b[1;32m----> 1\u001b[0m \u001b[43ms\u001b[49m\u001b[38;5;241;43m.\u001b[39;49m\u001b[43mindex\u001b[49m\u001b[43m(\u001b[49m\u001b[38;5;124;43m\"\u001b[39;49m\u001b[38;5;124;43mx\u001b[39;49m\u001b[38;5;124;43m\"\u001b[39;49m\u001b[43m)\u001b[49m\n",
      "\u001b[1;31mValueError\u001b[0m: substring not found"
     ]
    }
   ],
   "source": [
    "s.index(\"x\")"
   ]
  },
  {
   "cell_type": "code",
   "execution_count": 81,
   "id": "61ede75d",
   "metadata": {},
   "outputs": [
    {
     "data": {
      "text/plain": [
       "-1"
      ]
     },
     "execution_count": 81,
     "metadata": {},
     "output_type": "execute_result"
    }
   ],
   "source": [
    "s.find(\"x\")"
   ]
  },
  {
   "cell_type": "code",
   "execution_count": 82,
   "id": "a9fef2d2",
   "metadata": {},
   "outputs": [
    {
     "data": {
      "text/plain": [
       "'python java c c++'"
      ]
     },
     "execution_count": 82,
     "metadata": {},
     "output_type": "execute_result"
    }
   ],
   "source": [
    "# split, join, strip\n",
    "string1 = \"python java c c++\"\n",
    "string1"
   ]
  },
  {
   "cell_type": "code",
   "execution_count": null,
   "id": "24c6c803",
   "metadata": {},
   "outputs": [],
   "source": [
    "string1.split()"
   ]
  },
  {
   "cell_type": "code",
   "execution_count": 94,
   "id": "97e0e4ce",
   "metadata": {},
   "outputs": [
    {
     "data": {
      "text/plain": [
       "['python', 'java', 'c', 'c++']"
      ]
     },
     "execution_count": 94,
     "metadata": {},
     "output_type": "execute_result"
    }
   ],
   "source": [
    "string1 = \"python,java,c,c++\"\n",
    "s_list = string1.split(\",\")\n",
    "s_list"
   ]
  },
  {
   "cell_type": "code",
   "execution_count": 104,
   "id": "aa3dcdce",
   "metadata": {},
   "outputs": [
    {
     "data": {
      "text/plain": [
       "'python java c c++'"
      ]
     },
     "execution_count": 104,
     "metadata": {},
     "output_type": "execute_result"
    }
   ],
   "source": [
    "\" \".join(string1.split(\",\"))"
   ]
  },
  {
   "cell_type": "code",
   "execution_count": 105,
   "id": "2b176ec6",
   "metadata": {},
   "outputs": [
    {
     "data": {
      "text/plain": [
       "'python,java,c,c++'"
      ]
     },
     "execution_count": 105,
     "metadata": {},
     "output_type": "execute_result"
    }
   ],
   "source": [
    "# join \n",
    "\",\".join(s_list)"
   ]
  },
  {
   "cell_type": "code",
   "execution_count": 106,
   "id": "da528b9e",
   "metadata": {},
   "outputs": [
    {
     "data": {
      "text/plain": [
       "'p-y-t-h-o-n'"
      ]
     },
     "execution_count": 106,
     "metadata": {},
     "output_type": "execute_result"
    }
   ],
   "source": [
    "\"-\".join(s)"
   ]
  },
  {
   "cell_type": "code",
   "execution_count": 107,
   "id": "0362a987",
   "metadata": {},
   "outputs": [
    {
     "data": {
      "text/plain": [
       "'       python            '"
      ]
     },
     "execution_count": 107,
     "metadata": {},
     "output_type": "execute_result"
    }
   ],
   "source": [
    "# strip\n",
    "s = \"       python            \"\n",
    "s"
   ]
  },
  {
   "cell_type": "code",
   "execution_count": 108,
   "id": "d7e3da6c",
   "metadata": {},
   "outputs": [
    {
     "data": {
      "text/plain": [
       "'python'"
      ]
     },
     "execution_count": 108,
     "metadata": {},
     "output_type": "execute_result"
    }
   ],
   "source": [
    "s.strip()"
   ]
  },
  {
   "cell_type": "code",
   "execution_count": 85,
   "id": "d4a204d2",
   "metadata": {},
   "outputs": [
    {
     "data": {
      "text/plain": [
       "'python'"
      ]
     },
     "execution_count": 85,
     "metadata": {},
     "output_type": "execute_result"
    }
   ],
   "source": [
    "s = \"?*python*?\"\n",
    "s.strip(\"?*\")"
   ]
  },
  {
   "cell_type": "code",
   "execution_count": null,
   "id": "74a5fe3b",
   "metadata": {},
   "outputs": [],
   "source": [
    "s = \"*python????\"\n",
    "s.strip(\"?*\")"
   ]
  },
  {
   "cell_type": "code",
   "execution_count": null,
   "id": "cf8c0d7c",
   "metadata": {},
   "outputs": [],
   "source": [
    "s = \"*%$$$python???%%%?\"\n",
    "s.strip(\"?*%$\")"
   ]
  },
  {
   "cell_type": "code",
   "execution_count": 48,
   "id": "a4897443",
   "metadata": {},
   "outputs": [
    {
     "data": {
      "text/plain": [
       "'pyt?hon'"
      ]
     },
     "execution_count": 48,
     "metadata": {},
     "output_type": "execute_result"
    }
   ],
   "source": [
    "# isalpha, isnumeric, isalnum, isspace, isascii\n",
    "s = \"pyt?hon\"\n",
    "s"
   ]
  },
  {
   "cell_type": "code",
   "execution_count": 49,
   "id": "347379ab",
   "metadata": {},
   "outputs": [
    {
     "data": {
      "text/plain": [
       "False"
      ]
     },
     "execution_count": 49,
     "metadata": {},
     "output_type": "execute_result"
    }
   ],
   "source": [
    "s.isalpha()"
   ]
  },
  {
   "cell_type": "code",
   "execution_count": 50,
   "id": "aa3a786d",
   "metadata": {},
   "outputs": [
    {
     "data": {
      "text/plain": [
       "True"
      ]
     },
     "execution_count": 50,
     "metadata": {},
     "output_type": "execute_result"
    }
   ],
   "source": [
    "a =\"100\"\n",
    "a.isnumeric()"
   ]
  },
  {
   "cell_type": "code",
   "execution_count": null,
   "id": "4ac9bfee",
   "metadata": {},
   "outputs": [],
   "source": [
    "x = \"python23\"\n",
    "x.isalnum()"
   ]
  },
  {
   "cell_type": "code",
   "execution_count": null,
   "id": "4369965b",
   "metadata": {},
   "outputs": [],
   "source": [
    "x = \" a   \"\n",
    "x.isspace()"
   ]
  },
  {
   "cell_type": "code",
   "execution_count": 53,
   "id": "ebd54f87",
   "metadata": {},
   "outputs": [
    {
     "data": {
      "text/plain": [
       "False"
      ]
     },
     "execution_count": 53,
     "metadata": {},
     "output_type": "execute_result"
    }
   ],
   "source": [
    "# \n",
    "z = \"java😂\"\n",
    "z.isascii()"
   ]
  },
  {
   "cell_type": "code",
   "execution_count": 55,
   "id": "163f1dba",
   "metadata": {},
   "outputs": [
    {
     "data": {
      "text/plain": [
       "[10, 10.5, 'python', (10+5j), True, [1, 2, 3, 4]]"
      ]
     },
     "execution_count": 55,
     "metadata": {},
     "output_type": "execute_result"
    }
   ],
   "source": [
    "# list -\n",
    "list1 = [10,10.5, \"python\", 10+5j, True, [1,2,3,4]]\n",
    "list1"
   ]
  },
  {
   "cell_type": "code",
   "execution_count": null,
   "id": "52e1aec8",
   "metadata": {},
   "outputs": [],
   "source": [
    "list1[0]"
   ]
  },
  {
   "cell_type": "code",
   "execution_count": null,
   "id": "8a8e7ec6",
   "metadata": {},
   "outputs": [],
   "source": [
    "list1[-6]"
   ]
  },
  {
   "cell_type": "code",
   "execution_count": null,
   "id": "fcc784c8",
   "metadata": {},
   "outputs": [],
   "source": [
    "list1[2][0]"
   ]
  },
  {
   "cell_type": "code",
   "execution_count": null,
   "id": "be51eed9",
   "metadata": {},
   "outputs": [],
   "source": [
    "list1[ 0 : 3]"
   ]
  },
  {
   "cell_type": "code",
   "execution_count": null,
   "id": "d87632dd",
   "metadata": {},
   "outputs": [],
   "source": [
    "list1[ -6 : -3]"
   ]
  },
  {
   "cell_type": "code",
   "execution_count": null,
   "id": "cac7ad8a",
   "metadata": {},
   "outputs": [],
   "source": [
    "list1[  : -3]"
   ]
  },
  {
   "cell_type": "code",
   "execution_count": null,
   "id": "f4164ec8",
   "metadata": {},
   "outputs": [],
   "source": [
    "list1[ -6 : 3]"
   ]
  },
  {
   "cell_type": "code",
   "execution_count": null,
   "id": "b34d580b",
   "metadata": {},
   "outputs": [],
   "source": [
    "list1[-1][0 : 2]"
   ]
  },
  {
   "cell_type": "code",
   "execution_count": null,
   "id": "7cac378d",
   "metadata": {},
   "outputs": [],
   "source": [
    "list1[ : :-1]"
   ]
  },
  {
   "cell_type": "code",
   "execution_count": null,
   "id": "72da0eae",
   "metadata": {},
   "outputs": [],
   "source": [
    "list1[0] = 200"
   ]
  },
  {
   "cell_type": "code",
   "execution_count": null,
   "id": "fc5e611d",
   "metadata": {},
   "outputs": [],
   "source": [
    "list1"
   ]
  },
  {
   "cell_type": "code",
   "execution_count": null,
   "id": "a1b7fb4e",
   "metadata": {},
   "outputs": [],
   "source": [
    "s[0] = \"s\""
   ]
  },
  {
   "cell_type": "code",
   "execution_count": null,
   "id": "dd6ccbc1",
   "metadata": {},
   "outputs": [],
   "source": [
    "list1[1] += 1\n",
    "list1"
   ]
  },
  {
   "cell_type": "code",
   "execution_count": null,
   "id": "5a4ff199",
   "metadata": {},
   "outputs": [],
   "source": [
    "list1[0 : 2] = [400, 12.5]\n",
    "list1"
   ]
  },
  {
   "cell_type": "code",
   "execution_count": null,
   "id": "84cc7a94",
   "metadata": {},
   "outputs": [],
   "source": [
    "# operators on list\n",
    "# membership and +, *\n",
    "\"java\" in list1"
   ]
  },
  {
   "cell_type": "code",
   "execution_count": null,
   "id": "97bb4471",
   "metadata": {},
   "outputs": [],
   "source": [
    "list2 = [10,90,80]\n",
    "list1 + list2"
   ]
  },
  {
   "cell_type": "code",
   "execution_count": null,
   "id": "ef03d9e2",
   "metadata": {},
   "outputs": [],
   "source": [
    "list2 * 3"
   ]
  },
  {
   "cell_type": "code",
   "execution_count": null,
   "id": "35d0d128",
   "metadata": {},
   "outputs": [],
   "source": [
    "print(dir(list))"
   ]
  },
  {
   "cell_type": "code",
   "execution_count": null,
   "id": "55261dd8",
   "metadata": {},
   "outputs": [],
   "source": [
    "# 'append', 'clear', 'copy', 'count', 'extend', 'index',  \n",
    "# 'insert', 'pop', 'remove', 'reverse', 'sort'"
   ]
  },
  {
   "cell_type": "code",
   "execution_count": null,
   "id": "6602550a",
   "metadata": {},
   "outputs": [],
   "source": [
    "# adding values to a existing list\n",
    "# append, extend\n",
    "len(list1)"
   ]
  },
  {
   "cell_type": "code",
   "execution_count": null,
   "id": "cf6bcf13",
   "metadata": {},
   "outputs": [],
   "source": [
    "len(\"java\")"
   ]
  },
  {
   "cell_type": "code",
   "execution_count": 56,
   "id": "114e2b2d",
   "metadata": {},
   "outputs": [],
   "source": [
    "list1.append(\"Machine Learning\")"
   ]
  },
  {
   "cell_type": "code",
   "execution_count": null,
   "id": "9c794b2c",
   "metadata": {},
   "outputs": [],
   "source": [
    "list1"
   ]
  },
  {
   "cell_type": "code",
   "execution_count": null,
   "id": "c1f96ff1",
   "metadata": {},
   "outputs": [],
   "source": [
    "del list1[-3 : ] # delete value form -3 to end"
   ]
  },
  {
   "cell_type": "code",
   "execution_count": null,
   "id": "680003a7",
   "metadata": {},
   "outputs": [],
   "source": [
    "list1"
   ]
  },
  {
   "cell_type": "code",
   "execution_count": null,
   "id": "4fea57d9",
   "metadata": {},
   "outputs": [],
   "source": [
    "x = 10\n",
    "x"
   ]
  },
  {
   "cell_type": "code",
   "execution_count": null,
   "id": "81445242",
   "metadata": {},
   "outputs": [],
   "source": [
    "del x"
   ]
  },
  {
   "cell_type": "code",
   "execution_count": null,
   "id": "e9b1694b",
   "metadata": {},
   "outputs": [],
   "source": [
    "x"
   ]
  },
  {
   "cell_type": "code",
   "execution_count": 57,
   "id": "cb7a73f0",
   "metadata": {},
   "outputs": [
    {
     "name": "stdout",
     "output_type": "stream",
     "text": [
      "None\n"
     ]
    }
   ],
   "source": [
    "l = list1.append(\"Machine Learning\")\n",
    "print(l)"
   ]
  },
  {
   "cell_type": "code",
   "execution_count": null,
   "id": "3b72cf1d",
   "metadata": {},
   "outputs": [],
   "source": [
    "list1"
   ]
  },
  {
   "cell_type": "code",
   "execution_count": null,
   "id": "84f7f22a",
   "metadata": {},
   "outputs": [],
   "source": [
    "type(l)"
   ]
  },
  {
   "cell_type": "code",
   "execution_count": 58,
   "id": "4d69321f",
   "metadata": {},
   "outputs": [],
   "source": [
    "# extend \n",
    "list1.append([\"DS\",\"ITP\"])"
   ]
  },
  {
   "cell_type": "code",
   "execution_count": null,
   "id": "f27108f1",
   "metadata": {},
   "outputs": [],
   "source": [
    "list1"
   ]
  },
  {
   "cell_type": "code",
   "execution_count": 59,
   "id": "4c652699",
   "metadata": {},
   "outputs": [
    {
     "data": {
      "text/plain": [
       "[10,\n",
       " 10.5,\n",
       " 'python',\n",
       " (10+5j),\n",
       " True,\n",
       " [1, 2, 3, 4],\n",
       " 'Machine Learning',\n",
       " 'Machine Learning',\n",
       " ['DS', 'ITP'],\n",
       " 'DS',\n",
       " 'ITP']"
      ]
     },
     "execution_count": 59,
     "metadata": {},
     "output_type": "execute_result"
    }
   ],
   "source": [
    "list1.extend([\"DS\",\"ITP\"])\n",
    "list1"
   ]
  },
  {
   "cell_type": "code",
   "execution_count": null,
   "id": "903f3e33",
   "metadata": {},
   "outputs": [],
   "source": [
    "# insert \n",
    "list1.insert(2, \"Java\")\n",
    "list1"
   ]
  },
  {
   "cell_type": "code",
   "execution_count": null,
   "id": "715db9ed",
   "metadata": {
    "scrolled": true
   },
   "outputs": [],
   "source": [
    "# remove,pop, count, index\n",
    "print(list1)"
   ]
  },
  {
   "cell_type": "code",
   "execution_count": null,
   "id": "70a84553",
   "metadata": {},
   "outputs": [],
   "source": [
    "# \n",
    "del list1[0]\n",
    "list1"
   ]
  },
  {
   "cell_type": "code",
   "execution_count": 60,
   "id": "99d862b1",
   "metadata": {},
   "outputs": [
    {
     "data": {
      "text/plain": [
       "[10,\n",
       " 10.5,\n",
       " 'python',\n",
       " (10+5j),\n",
       " True,\n",
       " [1, 2, 3, 4],\n",
       " 'Machine Learning',\n",
       " 'Machine Learning',\n",
       " ['DS', 'ITP'],\n",
       " 'DS']"
      ]
     },
     "execution_count": 60,
     "metadata": {},
     "output_type": "execute_result"
    }
   ],
   "source": [
    "list1.remove(\"ITP\")\n",
    "list1"
   ]
  },
  {
   "cell_type": "code",
   "execution_count": null,
   "id": "f8f3c25a",
   "metadata": {},
   "outputs": [],
   "source": [
    "list1.remove(12.5)"
   ]
  },
  {
   "cell_type": "code",
   "execution_count": null,
   "id": "35f1adad",
   "metadata": {},
   "outputs": [],
   "source": [
    "list1"
   ]
  },
  {
   "cell_type": "code",
   "execution_count": 64,
   "id": "6693dc67",
   "metadata": {},
   "outputs": [
    {
     "ename": "ValueError",
     "evalue": "list.remove(x): x not in list",
     "output_type": "error",
     "traceback": [
      "\u001b[1;31m---------------------------------------------------------------------------\u001b[0m",
      "\u001b[1;31mValueError\u001b[0m                                Traceback (most recent call last)",
      "Cell \u001b[1;32mIn[64], line 1\u001b[0m\n\u001b[1;32m----> 1\u001b[0m list1\u001b[38;5;241m.\u001b[39mremove(\u001b[38;5;124m\"\u001b[39m\u001b[38;5;124mDS\u001b[39m\u001b[38;5;124m\"\u001b[39m)  \u001b[38;5;66;03m# removes the first occurence\u001b[39;00m\n\u001b[0;32m      2\u001b[0m list1\n",
      "\u001b[1;31mValueError\u001b[0m: list.remove(x): x not in list"
     ]
    }
   ],
   "source": [
    "list1.remove(\"DS\")  # removes the first occurence\n",
    "list1"
   ]
  },
  {
   "cell_type": "code",
   "execution_count": 65,
   "id": "44444678",
   "metadata": {},
   "outputs": [
    {
     "data": {
      "text/plain": [
       "['DS', 'ITP']"
      ]
     },
     "execution_count": 65,
     "metadata": {},
     "output_type": "execute_result"
    }
   ],
   "source": [
    "# pop\n",
    "list1.pop()"
   ]
  },
  {
   "cell_type": "code",
   "execution_count": 68,
   "id": "fdb18217",
   "metadata": {},
   "outputs": [
    {
     "data": {
      "text/plain": [
       "[10, 10.5, True, [1, 2, 3, 4], 'Machine Learning', 'Machine Learning']"
      ]
     },
     "execution_count": 68,
     "metadata": {},
     "output_type": "execute_result"
    }
   ],
   "source": [
    "list1"
   ]
  },
  {
   "cell_type": "code",
   "execution_count": 67,
   "id": "17898a38",
   "metadata": {},
   "outputs": [
    {
     "data": {
      "text/plain": [
       "(10+5j)"
      ]
     },
     "execution_count": 67,
     "metadata": {},
     "output_type": "execute_result"
    }
   ],
   "source": [
    "list1.pop(2)"
   ]
  },
  {
   "cell_type": "code",
   "execution_count": null,
   "id": "e0487520",
   "metadata": {},
   "outputs": [],
   "source": [
    "list1"
   ]
  },
  {
   "cell_type": "code",
   "execution_count": null,
   "id": "ea7df51c",
   "metadata": {},
   "outputs": [],
   "source": [
    "list2.pop()"
   ]
  },
  {
   "cell_type": "code",
   "execution_count": null,
   "id": "df6cbe32",
   "metadata": {},
   "outputs": [],
   "source": [
    "list2"
   ]
  },
  {
   "cell_type": "code",
   "execution_count": null,
   "id": "d7fd0b90",
   "metadata": {},
   "outputs": [],
   "source": [
    "list2.pop()"
   ]
  },
  {
   "cell_type": "code",
   "execution_count": null,
   "id": "e66bf4b1",
   "metadata": {},
   "outputs": [],
   "source": [
    "list2"
   ]
  },
  {
   "cell_type": "code",
   "execution_count": null,
   "id": "a5817b4e",
   "metadata": {},
   "outputs": [],
   "source": [
    "list2.pop()"
   ]
  },
  {
   "cell_type": "code",
   "execution_count": null,
   "id": "94cf64c5",
   "metadata": {},
   "outputs": [],
   "source": [
    "list2"
   ]
  },
  {
   "cell_type": "code",
   "execution_count": null,
   "id": "89c55e00",
   "metadata": {},
   "outputs": [],
   "source": [
    "list2.pop()  # pop from empty list gives error"
   ]
  },
  {
   "cell_type": "code",
   "execution_count": null,
   "id": "681c37ee",
   "metadata": {},
   "outputs": [],
   "source": [
    "# del list[index], remove- item, \n",
    "# pop - by default removes last value, we can specify index"
   ]
  },
  {
   "cell_type": "code",
   "execution_count": null,
   "id": "15f2a956",
   "metadata": {},
   "outputs": [],
   "source": [
    "# count\n",
    "list1.append(\"Java\")\n",
    "list1"
   ]
  },
  {
   "cell_type": "code",
   "execution_count": null,
   "id": "f5511804",
   "metadata": {},
   "outputs": [],
   "source": [
    "list1.count(\"python\") # counts occurences of the value in list"
   ]
  },
  {
   "cell_type": "code",
   "execution_count": null,
   "id": "3d2f059d",
   "metadata": {},
   "outputs": [],
   "source": [
    "list1.index(\"python\")"
   ]
  },
  {
   "cell_type": "code",
   "execution_count": null,
   "id": "10ea84b2",
   "metadata": {},
   "outputs": [],
   "source": [
    "list1.find(\"python\")  # find is not used on list only on string"
   ]
  },
  {
   "cell_type": "code",
   "execution_count": null,
   "id": "5d96ce34",
   "metadata": {},
   "outputs": [],
   "source": [
    "i = list1.index(\"python\")\n",
    "i"
   ]
  },
  {
   "cell_type": "code",
   "execution_count": null,
   "id": "359b4df4",
   "metadata": {},
   "outputs": [],
   "source": [
    "list1[i] = \"C++\"\n",
    "list1"
   ]
  },
  {
   "cell_type": "code",
   "execution_count": null,
   "id": "9b90a36a",
   "metadata": {},
   "outputs": [],
   "source": [
    "list1"
   ]
  },
  {
   "cell_type": "code",
   "execution_count": 70,
   "id": "e72320f4",
   "metadata": {},
   "outputs": [],
   "source": [
    "# clear, copy and sort\n",
    "list3 = [\"Java\",45,78]\n",
    "list4 = list3.copy()"
   ]
  },
  {
   "cell_type": "code",
   "execution_count": null,
   "id": "fa4e51ba",
   "metadata": {},
   "outputs": [],
   "source": [
    "id(list3), id(list4)"
   ]
  },
  {
   "cell_type": "code",
   "execution_count": null,
   "id": "c0d9b010",
   "metadata": {},
   "outputs": [],
   "source": [
    "list4.append(99)\n",
    "list4"
   ]
  },
  {
   "cell_type": "code",
   "execution_count": null,
   "id": "218941ac",
   "metadata": {},
   "outputs": [],
   "source": [
    "list3"
   ]
  },
  {
   "cell_type": "code",
   "execution_count": null,
   "id": "189dc75d",
   "metadata": {},
   "outputs": [],
   "source": [
    "list3.clear()"
   ]
  },
  {
   "cell_type": "code",
   "execution_count": null,
   "id": "d5aa91be",
   "metadata": {},
   "outputs": [],
   "source": [
    "list3"
   ]
  },
  {
   "cell_type": "code",
   "execution_count": null,
   "id": "fd49fcca",
   "metadata": {},
   "outputs": [],
   "source": [
    "# sort\n",
    "list5 = [45,8,34,9,12]\n",
    "list5.sort()\n",
    "list5"
   ]
  },
  {
   "cell_type": "code",
   "execution_count": 71,
   "id": "464ea3fa",
   "metadata": {},
   "outputs": [
    {
     "data": {
      "text/plain": [
       "[45, 34, 12, 9, 8.9]"
      ]
     },
     "execution_count": 71,
     "metadata": {},
     "output_type": "execute_result"
    }
   ],
   "source": [
    "list5 = [45,8.9,34,9,12]\n",
    "list5.sort(reverse=True)\n",
    "list5"
   ]
  },
  {
   "cell_type": "code",
   "execution_count": 76,
   "id": "e71a12c4",
   "metadata": {
    "collapsed": true
   },
   "outputs": [
    {
     "ename": "TypeError",
     "evalue": "'<' not supported between instances of 'str' and 'int'",
     "output_type": "error",
     "traceback": [
      "\u001b[1;31m---------------------------------------------------------------------------\u001b[0m",
      "\u001b[1;31mTypeError\u001b[0m                                 Traceback (most recent call last)",
      "Cell \u001b[1;32mIn[76], line 2\u001b[0m\n\u001b[0;32m      1\u001b[0m list5 \u001b[38;5;241m=\u001b[39m [\u001b[38;5;124m\"\u001b[39m\u001b[38;5;124mpython\u001b[39m\u001b[38;5;124m\"\u001b[39m,\u001b[38;5;241m8.9\u001b[39m,\u001b[38;5;241m34\u001b[39m,\u001b[38;5;241m9\u001b[39m,\u001b[38;5;241m12\u001b[39m] \u001b[38;5;66;03m# only homogeneous list can be sorted\u001b[39;00m\n\u001b[1;32m----> 2\u001b[0m list5\u001b[38;5;241m.\u001b[39msort(reverse\u001b[38;5;241m=\u001b[39m\u001b[38;5;28;01mTrue\u001b[39;00m)\n\u001b[0;32m      3\u001b[0m list5\n",
      "\u001b[1;31mTypeError\u001b[0m: '<' not supported between instances of 'str' and 'int'"
     ]
    }
   ],
   "source": [
    "list5 = [\"python\",8.9,34,9,12] # only homogeneous list can be sorted\n",
    "list5.sort(reverse=True)\n",
    "list5"
   ]
  },
  {
   "cell_type": "code",
   "execution_count": null,
   "id": "593f9ab5",
   "metadata": {},
   "outputs": [],
   "source": [
    "# relational operator\n",
    "9 > \"python\""
   ]
  },
  {
   "cell_type": "code",
   "execution_count": 73,
   "id": "ee745bb3",
   "metadata": {},
   "outputs": [
    {
     "data": {
      "text/plain": [
       "['Manvendra', 'Vidya', 'namia']"
      ]
     },
     "execution_count": 73,
     "metadata": {},
     "output_type": "execute_result"
    }
   ],
   "source": [
    "list_names = [\"Vidya\",\"Manvendra\",\"namia\"]\n",
    "list_names.sort()\n",
    "list_names"
   ]
  },
  {
   "cell_type": "code",
   "execution_count": null,
   "id": "6e35176a",
   "metadata": {},
   "outputs": [],
   "source": [
    "ord(\"n\")"
   ]
  },
  {
   "cell_type": "code",
   "execution_count": null,
   "id": "0fc1ae28",
   "metadata": {},
   "outputs": [],
   "source": [
    "list_names = [\"vidya\",\"Manvendra\",\"namia\"]\n",
    "list_names.sort(key=len)\n",
    "list_names"
   ]
  },
  {
   "cell_type": "code",
   "execution_count": null,
   "id": "032d77cd",
   "metadata": {},
   "outputs": [],
   "source": [
    "# reverse \n",
    "list4[ : :-1]"
   ]
  },
  {
   "cell_type": "code",
   "execution_count": 74,
   "id": "ba92ec67",
   "metadata": {},
   "outputs": [
    {
     "data": {
      "text/plain": [
       "[78, 45, 'Java']"
      ]
     },
     "execution_count": 74,
     "metadata": {},
     "output_type": "execute_result"
    }
   ],
   "source": [
    "list4.reverse()\n",
    "list4"
   ]
  },
  {
   "cell_type": "code",
   "execution_count": null,
   "id": "3b10a94a",
   "metadata": {},
   "outputs": [],
   "source": [
    "list4"
   ]
  },
  {
   "cell_type": "code",
   "execution_count": null,
   "id": "66b8e147",
   "metadata": {},
   "outputs": [],
   "source": []
  },
  {
   "cell_type": "code",
   "execution_count": null,
   "id": "a17f8c81",
   "metadata": {},
   "outputs": [],
   "source": [
    "# tuple\n",
    "a = (\"python\",)\n",
    "type(a)"
   ]
  },
  {
   "cell_type": "code",
   "execution_count": null,
   "id": "5da21c4d",
   "metadata": {},
   "outputs": [],
   "source": [
    "t1 = ()\n",
    "print(t1)\n",
    "type(t1)"
   ]
  },
  {
   "cell_type": "code",
   "execution_count": null,
   "id": "d4bc9b85",
   "metadata": {},
   "outputs": [],
   "source": [
    "l1 = [10.9]\n",
    "t2 = tuple(l1)\n",
    "t2"
   ]
  },
  {
   "cell_type": "code",
   "execution_count": null,
   "id": "fb7869d4",
   "metadata": {},
   "outputs": [],
   "source": [
    "list(t2)"
   ]
  },
  {
   "cell_type": "code",
   "execution_count": 86,
   "id": "e0ecab9d",
   "metadata": {},
   "outputs": [
    {
     "name": "stdout",
     "output_type": "stream",
     "text": [
      "(10, 9, 6)\n"
     ]
    },
    {
     "data": {
      "text/plain": [
       "tuple"
      ]
     },
     "execution_count": 86,
     "metadata": {},
     "output_type": "execute_result"
    }
   ],
   "source": [
    "t4 = 10,9,6  # immutable\n",
    "print(t4)\n",
    "type(t4)"
   ]
  },
  {
   "cell_type": "code",
   "execution_count": 87,
   "id": "62a1b9b4",
   "metadata": {},
   "outputs": [
    {
     "data": {
      "text/plain": [
       "(10, 11.5, 'python', True, [12, 6, 8], (10, 6, 9))"
      ]
     },
     "execution_count": 87,
     "metadata": {},
     "output_type": "execute_result"
    }
   ],
   "source": [
    "# tuple \n",
    "t5 = (10,11.5, \"python\", True, [12,6,8], (10,6,9) )\n",
    "t5"
   ]
  },
  {
   "cell_type": "code",
   "execution_count": 88,
   "id": "6f7aab51",
   "metadata": {},
   "outputs": [
    {
     "data": {
      "text/plain": [
       "(10, 'python')"
      ]
     },
     "execution_count": 88,
     "metadata": {},
     "output_type": "execute_result"
    }
   ],
   "source": [
    "t5[0 : 4 : 2]"
   ]
  },
  {
   "cell_type": "code",
   "execution_count": 89,
   "id": "958e0163",
   "metadata": {},
   "outputs": [
    {
     "ename": "TypeError",
     "evalue": "'tuple' object does not support item assignment",
     "output_type": "error",
     "traceback": [
      "\u001b[1;31m---------------------------------------------------------------------------\u001b[0m",
      "\u001b[1;31mTypeError\u001b[0m                                 Traceback (most recent call last)",
      "Cell \u001b[1;32mIn[89], line 1\u001b[0m\n\u001b[1;32m----> 1\u001b[0m t5[\u001b[38;5;241m0\u001b[39m] \u001b[38;5;241m=\u001b[39m \u001b[38;5;241m700\u001b[39m\n",
      "\u001b[1;31mTypeError\u001b[0m: 'tuple' object does not support item assignment"
     ]
    }
   ],
   "source": [
    "t5[0] = 700"
   ]
  },
  {
   "cell_type": "code",
   "execution_count": 90,
   "id": "f588f73b",
   "metadata": {},
   "outputs": [],
   "source": [
    "t5[-2].append(100)"
   ]
  },
  {
   "cell_type": "code",
   "execution_count": 91,
   "id": "9ddf0f72",
   "metadata": {},
   "outputs": [
    {
     "data": {
      "text/plain": [
       "6"
      ]
     },
     "execution_count": 91,
     "metadata": {},
     "output_type": "execute_result"
    }
   ],
   "source": [
    "len(t5)"
   ]
  },
  {
   "cell_type": "code",
   "execution_count": 92,
   "id": "36a7212d",
   "metadata": {},
   "outputs": [
    {
     "name": "stdout",
     "output_type": "stream",
     "text": [
      "['__add__', '__class__', '__class_getitem__', '__contains__', '__delattr__', '__dir__', '__doc__', '__eq__', '__format__', '__ge__', '__getattribute__', '__getitem__', '__getnewargs__', '__gt__', '__hash__', '__init__', '__init_subclass__', '__iter__', '__le__', '__len__', '__lt__', '__mul__', '__ne__', '__new__', '__reduce__', '__reduce_ex__', '__repr__', '__rmul__', '__setattr__', '__sizeof__', '__str__', '__subclasshook__', 'count', 'index']\n"
     ]
    }
   ],
   "source": [
    "print(dir(tuple))"
   ]
  },
  {
   "cell_type": "code",
   "execution_count": 93,
   "id": "8061936f",
   "metadata": {
    "collapsed": true
   },
   "outputs": [
    {
     "ename": "NameError",
     "evalue": "name 'list5' is not defined",
     "output_type": "error",
     "traceback": [
      "\u001b[1;31m---------------------------------------------------------------------------\u001b[0m",
      "\u001b[1;31mNameError\u001b[0m                                 Traceback (most recent call last)",
      "Cell \u001b[1;32mIn[93], line 2\u001b[0m\n\u001b[0;32m      1\u001b[0m \u001b[38;5;66;03m# list, tuple  - sum, len, max, min, sorted\u001b[39;00m\n\u001b[1;32m----> 2\u001b[0m list_num \u001b[38;5;241m=\u001b[39m \u001b[43mlist5\u001b[49m[\u001b[38;5;241m1\u001b[39m:]\n\u001b[0;32m      3\u001b[0m list_num\n",
      "\u001b[1;31mNameError\u001b[0m: name 'list5' is not defined"
     ]
    }
   ],
   "source": [
    "# list, tuple  - sum, len, max, min, sorted\n",
    "list_num = list5[1:]\n",
    "list_num"
   ]
  },
  {
   "cell_type": "code",
   "execution_count": null,
   "id": "71f0e916",
   "metadata": {},
   "outputs": [],
   "source": [
    "sum(list_num)"
   ]
  },
  {
   "cell_type": "code",
   "execution_count": null,
   "id": "9905345b",
   "metadata": {},
   "outputs": [],
   "source": [
    "sum(list5)"
   ]
  },
  {
   "cell_type": "code",
   "execution_count": null,
   "id": "1ba6b087",
   "metadata": {},
   "outputs": [],
   "source": [
    "list_str = [\"python\",\"java\"]\n",
    "sum(list_str)  # numeric values or boolean"
   ]
  },
  {
   "cell_type": "code",
   "execution_count": 94,
   "id": "9e6fa7d9",
   "metadata": {},
   "outputs": [
    {
     "data": {
      "text/plain": [
       "2"
      ]
     },
     "execution_count": 94,
     "metadata": {},
     "output_type": "execute_result"
    }
   ],
   "source": [
    "l = [True,True,False]\n",
    "sum(l)"
   ]
  },
  {
   "cell_type": "code",
   "execution_count": null,
   "id": "d78384a3",
   "metadata": {},
   "outputs": [],
   "source": [
    "max(list_num)"
   ]
  },
  {
   "cell_type": "code",
   "execution_count": null,
   "id": "2c960679",
   "metadata": {},
   "outputs": [],
   "source": [
    "min(list_num)"
   ]
  },
  {
   "cell_type": "code",
   "execution_count": null,
   "id": "cde6fd80",
   "metadata": {},
   "outputs": [],
   "source": [
    "t6 = (10,6,9,12,8)\n",
    "sum(t6)"
   ]
  },
  {
   "cell_type": "code",
   "execution_count": null,
   "id": "6b8bd979",
   "metadata": {},
   "outputs": [],
   "source": [
    "min(t6)"
   ]
  },
  {
   "cell_type": "code",
   "execution_count": null,
   "id": "e14f67fa",
   "metadata": {},
   "outputs": [],
   "source": [
    "max(t6)"
   ]
  },
  {
   "cell_type": "code",
   "execution_count": null,
   "id": "ae7f7d9a",
   "metadata": {},
   "outputs": [],
   "source": [
    "# sorted\n",
    "# sort"
   ]
  },
  {
   "cell_type": "code",
   "execution_count": 81,
   "id": "c7a16423",
   "metadata": {},
   "outputs": [
    {
     "data": {
      "text/plain": [
       "[8.9, 9, 12, 34]"
      ]
     },
     "execution_count": 81,
     "metadata": {},
     "output_type": "execute_result"
    }
   ],
   "source": [
    "new_list = sorted(list_num)\n",
    "new_list"
   ]
  },
  {
   "cell_type": "code",
   "execution_count": null,
   "id": "a0bbc72c",
   "metadata": {},
   "outputs": [],
   "source": [
    "list_num"
   ]
  },
  {
   "cell_type": "code",
   "execution_count": null,
   "id": "a8358ff9",
   "metadata": {},
   "outputs": [],
   "source": [
    "tuple(sorted(t6, reverse = True))"
   ]
  },
  {
   "cell_type": "code",
   "execution_count": null,
   "id": "e56c9ec4",
   "metadata": {},
   "outputs": [],
   "source": [
    "# membership \n",
    "12 in t6"
   ]
  },
  {
   "cell_type": "code",
   "execution_count": null,
   "id": "f124d9e4",
   "metadata": {},
   "outputs": [],
   "source": [
    "# +, *\n",
    "t2 + t6"
   ]
  },
  {
   "cell_type": "code",
   "execution_count": null,
   "id": "8ddb5521",
   "metadata": {},
   "outputs": [],
   "source": [
    "t6*2"
   ]
  },
  {
   "cell_type": "code",
   "execution_count": null,
   "id": "fc311e1e",
   "metadata": {},
   "outputs": [],
   "source": []
  }
 ],
 "metadata": {
  "kernelspec": {
   "display_name": "Python 3 (ipykernel)",
   "language": "python",
   "name": "python3"
  },
  "language_info": {
   "codemirror_mode": {
    "name": "ipython",
    "version": 3
   },
   "file_extension": ".py",
   "mimetype": "text/x-python",
   "name": "python",
   "nbconvert_exporter": "python",
   "pygments_lexer": "ipython3",
   "version": "3.10.9"
  }
 },
 "nbformat": 4,
 "nbformat_minor": 5
}
