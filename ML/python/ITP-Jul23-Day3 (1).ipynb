{
 "cells": [
  {
   "cell_type": "code",
   "execution_count": 1,
   "id": "871bc059",
   "metadata": {},
   "outputs": [
    {
     "data": {
      "text/plain": [
       "{}"
      ]
     },
     "execution_count": 1,
     "metadata": {},
     "output_type": "execute_result"
    }
   ],
   "source": [
    "# dictionary is mutable\n",
    "d = {}  # empty dict\n",
    "d"
   ]
  },
  {
   "cell_type": "code",
   "execution_count": 2,
   "id": "b13b8e84",
   "metadata": {},
   "outputs": [
    {
     "data": {
      "text/plain": [
       "dict"
      ]
     },
     "execution_count": 2,
     "metadata": {},
     "output_type": "execute_result"
    }
   ],
   "source": [
    "type(d)"
   ]
  },
  {
   "cell_type": "code",
   "execution_count": 3,
   "id": "c20c9636",
   "metadata": {},
   "outputs": [
    {
     "data": {
      "text/plain": [
       "{'A': 30, 'B': 50, 'C': 60}"
      ]
     },
     "execution_count": 3,
     "metadata": {},
     "output_type": "execute_result"
    }
   ],
   "source": [
    "d = {\"A\" : 30, \"B\" : 50, \"C\" : 60}\n",
    "d"
   ]
  },
  {
   "cell_type": "code",
   "execution_count": 4,
   "id": "d0c860af",
   "metadata": {},
   "outputs": [
    {
     "data": {
      "text/plain": [
       "{'A': 30, 0: 50, 10.2: 60, True: 70, (10, 1): 100}"
      ]
     },
     "execution_count": 4,
     "metadata": {},
     "output_type": "execute_result"
    }
   ],
   "source": [
    "# keys - only immutable data type\n",
    "d = {\"A\" : 30, \n",
    "     0 : 50, \n",
    "     10.2 : 60, \n",
    "     True : 70, \n",
    "     (10,1) : 100}\n",
    "d"
   ]
  },
  {
   "cell_type": "code",
   "execution_count": 5,
   "id": "7a496cc2",
   "metadata": {
    "collapsed": true
   },
   "outputs": [
    {
     "ename": "TypeError",
     "evalue": "unhashable type: 'list'",
     "output_type": "error",
     "traceback": [
      "\u001b[1;31m---------------------------------------------------------------------------\u001b[0m",
      "\u001b[1;31mTypeError\u001b[0m                                 Traceback (most recent call last)",
      "Cell \u001b[1;32mIn[5], line 1\u001b[0m\n\u001b[1;32m----> 1\u001b[0m d \u001b[38;5;241m=\u001b[39m {\u001b[38;5;124m\"\u001b[39m\u001b[38;5;124mA\u001b[39m\u001b[38;5;124m\"\u001b[39m : \u001b[38;5;241m30\u001b[39m, \n\u001b[0;32m      2\u001b[0m      \u001b[38;5;241m0\u001b[39m : \u001b[38;5;241m50\u001b[39m, \n\u001b[0;32m      3\u001b[0m      \u001b[38;5;241m10.2\u001b[39m : \u001b[38;5;241m60\u001b[39m, \n\u001b[0;32m      4\u001b[0m      \u001b[38;5;28;01mTrue\u001b[39;00m : \u001b[38;5;241m70\u001b[39m, \n\u001b[0;32m      5\u001b[0m      (\u001b[38;5;241m10\u001b[39m,\u001b[38;5;241m1\u001b[39m) : \u001b[38;5;241m100\u001b[39m,\n\u001b[0;32m      6\u001b[0m     [\u001b[38;5;241m12\u001b[39m,\u001b[38;5;241m1\u001b[39m] : \u001b[38;5;241m200\u001b[39m}\n\u001b[0;32m      7\u001b[0m d\n",
      "\u001b[1;31mTypeError\u001b[0m: unhashable type: 'list'"
     ]
    }
   ],
   "source": [
    "d = {\"A\" : 30, \n",
    "     0 : 50, \n",
    "     10.2 : 60, \n",
    "     True : 70, \n",
    "     (10,1) : 100,\n",
    "    [12,1] : 200}\n",
    "d"
   ]
  },
  {
   "cell_type": "code",
   "execution_count": 2,
   "id": "17d41426",
   "metadata": {},
   "outputs": [
    {
     "data": {
      "text/plain": [
       "{'A': 200, 0: 50, 10.2: 60, True: 70, (10, 1): 100}"
      ]
     },
     "execution_count": 2,
     "metadata": {},
     "output_type": "execute_result"
    }
   ],
   "source": [
    "d = {\"A\" : 30, # if there are duplicate keys it stores the last value\n",
    "     0 : 50, \n",
    "     10.2 : 60, \n",
    "     True : 70, \n",
    "     (10,1) : 100,\n",
    "    \"A\" : 200}\n",
    "d"
   ]
  },
  {
   "cell_type": "code",
   "execution_count": 1,
   "id": "a0ee0ff7",
   "metadata": {},
   "outputs": [
    {
     "data": {
      "text/plain": [
       "{'Batch': 'Jul23',\n",
       " 'Strentgh': 75,\n",
       " 'Students': ['S1', 'S2', 'S3'],\n",
       " 'Batch_S': True,\n",
       " 'Marks': {'ITP': [24, 26, 28], 'SQL': [12, 24, 22]}}"
      ]
     },
     "execution_count": 1,
     "metadata": {},
     "output_type": "execute_result"
    }
   ],
   "source": [
    "d = {\"Batch\" : \"Jul23\", \n",
    "      \"Strentgh\" : 75, \n",
    "     \"Students\" : [\"S1\",\"S2\",\"S3\"], \n",
    "     \"Batch_S\" : True, \n",
    "       \"Marks\" : {\"ITP\" : [24,26,28], \"SQL\" : [12,24,22] } }\n",
    "d"
   ]
  },
  {
   "cell_type": "code",
   "execution_count": 2,
   "id": "50fb2347",
   "metadata": {},
   "outputs": [
    {
     "data": {
      "text/plain": [
       "'Jul23'"
      ]
     },
     "execution_count": 2,
     "metadata": {},
     "output_type": "execute_result"
    }
   ],
   "source": [
    "d[\"Batch\"]"
   ]
  },
  {
   "cell_type": "code",
   "execution_count": 3,
   "id": "4ae7e6c0",
   "metadata": {},
   "outputs": [],
   "source": [
    "d[\"Students\"].append(\"S4\")"
   ]
  },
  {
   "cell_type": "code",
   "execution_count": 4,
   "id": "72691294",
   "metadata": {},
   "outputs": [
    {
     "data": {
      "text/plain": [
       "{'Batch': 'Jul23',\n",
       " 'Strentgh': 75,\n",
       " 'Students': ['S1', 'S2', 'S3', 'S4'],\n",
       " 'Batch_S': True,\n",
       " 'Marks': {'ITP': [24, 26, 28], 'SQL': [12, 24, 22]}}"
      ]
     },
     "execution_count": 4,
     "metadata": {},
     "output_type": "execute_result"
    }
   ],
   "source": [
    "d"
   ]
  },
  {
   "cell_type": "code",
   "execution_count": 5,
   "id": "83f47a28",
   "metadata": {},
   "outputs": [
    {
     "data": {
      "text/plain": [
       "[12, 24, 22]"
      ]
     },
     "execution_count": 5,
     "metadata": {},
     "output_type": "execute_result"
    }
   ],
   "source": [
    "d[\"Marks\"][\"SQL\"]"
   ]
  },
  {
   "cell_type": "code",
   "execution_count": 6,
   "id": "52cc53b1",
   "metadata": {},
   "outputs": [
    {
     "name": "stdout",
     "output_type": "stream",
     "text": [
      "['__class__', '__class_getitem__', '__contains__', '__delattr__', '__delitem__', '__dir__', '__doc__', '__eq__', '__format__', '__ge__', '__getattribute__', '__getitem__', '__gt__', '__hash__', '__init__', '__init_subclass__', '__ior__', '__iter__', '__le__', '__len__', '__lt__', '__ne__', '__new__', '__or__', '__reduce__', '__reduce_ex__', '__repr__', '__reversed__', '__ror__', '__setattr__', '__setitem__', '__sizeof__', '__str__', '__subclasshook__', 'clear', 'copy', 'fromkeys', 'get', 'items', 'keys', 'pop', 'popitem', 'setdefault', 'update', 'values']\n"
     ]
    }
   ],
   "source": [
    "print(dir(dict))"
   ]
  },
  {
   "cell_type": "code",
   "execution_count": 7,
   "id": "bea8dedf",
   "metadata": {},
   "outputs": [],
   "source": [
    "# 'fromkeys', 'get', 'items', 'keys', 'pop', 'popitem', \n",
    "# 'setdefault', 'update', 'values'"
   ]
  },
  {
   "cell_type": "code",
   "execution_count": 8,
   "id": "41da8df3",
   "metadata": {
    "collapsed": true
   },
   "outputs": [
    {
     "ename": "KeyError",
     "evalue": "'Place'",
     "output_type": "error",
     "traceback": [
      "\u001b[1;31m---------------------------------------------------------------------------\u001b[0m",
      "\u001b[1;31mKeyError\u001b[0m                                  Traceback (most recent call last)",
      "Cell \u001b[1;32mIn[8], line 1\u001b[0m\n\u001b[1;32m----> 1\u001b[0m \u001b[43md\u001b[49m\u001b[43m[\u001b[49m\u001b[38;5;124;43m\"\u001b[39;49m\u001b[38;5;124;43mPlace\u001b[39;49m\u001b[38;5;124;43m\"\u001b[39;49m\u001b[43m]\u001b[49m\n",
      "\u001b[1;31mKeyError\u001b[0m: 'Place'"
     ]
    }
   ],
   "source": [
    "d[\"Place\"]"
   ]
  },
  {
   "cell_type": "code",
   "execution_count": 9,
   "id": "dfc41e77",
   "metadata": {},
   "outputs": [
    {
     "data": {
      "text/plain": [
       "'Jul23'"
      ]
     },
     "execution_count": 9,
     "metadata": {},
     "output_type": "execute_result"
    }
   ],
   "source": [
    "d.get(\"Batch\")"
   ]
  },
  {
   "cell_type": "code",
   "execution_count": 12,
   "id": "0b854ae5",
   "metadata": {},
   "outputs": [
    {
     "data": {
      "text/plain": [
       "'Jul23'"
      ]
     },
     "execution_count": 12,
     "metadata": {},
     "output_type": "execute_result"
    }
   ],
   "source": [
    "d.get(\"Batch\", \"Not found\" )"
   ]
  },
  {
   "cell_type": "code",
   "execution_count": 18,
   "id": "1e93d65c",
   "metadata": {},
   "outputs": [
    {
     "data": {
      "text/plain": [
       "dict_values(['Jul23', 75, ['S1', 'S2', 'S3', 'S4'], True, {'ITP': [24, 26, 28], 'SQL': [12, 24, 22]}])"
      ]
     },
     "execution_count": 18,
     "metadata": {},
     "output_type": "execute_result"
    }
   ],
   "source": [
    "# value, keys, items\n",
    "d.values()"
   ]
  },
  {
   "cell_type": "code",
   "execution_count": 19,
   "id": "a2a9b935",
   "metadata": {},
   "outputs": [
    {
     "data": {
      "text/plain": [
       "dict_keys(['Batch', 'Strentgh', 'Students', 'Batch_S', 'Marks'])"
      ]
     },
     "execution_count": 19,
     "metadata": {},
     "output_type": "execute_result"
    }
   ],
   "source": [
    "d.keys()"
   ]
  },
  {
   "cell_type": "code",
   "execution_count": 20,
   "id": "073591a4",
   "metadata": {},
   "outputs": [
    {
     "data": {
      "text/plain": [
       "dict_items([('Batch', 'Jul23'), ('Strentgh', 75), ('Students', ['S1', 'S2', 'S3', 'S4']), ('Batch_S', True), ('Marks', {'ITP': [24, 26, 28], 'SQL': [12, 24, 22]})])"
      ]
     },
     "execution_count": 20,
     "metadata": {},
     "output_type": "execute_result"
    }
   ],
   "source": [
    "d.items()"
   ]
  },
  {
   "cell_type": "code",
   "execution_count": 21,
   "id": "9c6c10f8",
   "metadata": {},
   "outputs": [
    {
     "data": {
      "text/plain": [
       "'Jul23'"
      ]
     },
     "execution_count": 21,
     "metadata": {},
     "output_type": "execute_result"
    }
   ],
   "source": [
    "# 'pop', 'popitem'\n",
    "d.pop(\"Batch\")"
   ]
  },
  {
   "cell_type": "code",
   "execution_count": 22,
   "id": "76941d0a",
   "metadata": {},
   "outputs": [
    {
     "data": {
      "text/plain": [
       "{'Strentgh': 75,\n",
       " 'Students': ['S1', 'S2', 'S3', 'S4'],\n",
       " 'Batch_S': True,\n",
       " 'Marks': {'ITP': [24, 26, 28], 'SQL': [12, 24, 22]}}"
      ]
     },
     "execution_count": 22,
     "metadata": {},
     "output_type": "execute_result"
    }
   ],
   "source": [
    "d"
   ]
  },
  {
   "cell_type": "code",
   "execution_count": 24,
   "id": "b63ab2fe",
   "metadata": {
    "collapsed": true
   },
   "outputs": [
    {
     "ename": "TypeError",
     "evalue": "pop expected at least 1 argument, got 0",
     "output_type": "error",
     "traceback": [
      "\u001b[1;31m---------------------------------------------------------------------------\u001b[0m",
      "\u001b[1;31mTypeError\u001b[0m                                 Traceback (most recent call last)",
      "Cell \u001b[1;32mIn[24], line 1\u001b[0m\n\u001b[1;32m----> 1\u001b[0m \u001b[43md\u001b[49m\u001b[38;5;241;43m.\u001b[39;49m\u001b[43mpop\u001b[49m\u001b[43m(\u001b[49m\u001b[43m)\u001b[49m\n",
      "\u001b[1;31mTypeError\u001b[0m: pop expected at least 1 argument, got 0"
     ]
    }
   ],
   "source": [
    "d.pop()"
   ]
  },
  {
   "cell_type": "code",
   "execution_count": 11,
   "id": "fe7fb314",
   "metadata": {},
   "outputs": [
    {
     "data": {
      "text/plain": [
       "('Marks', {'ITP': [24, 26, 28], 'SQL': [12, 24, 22]})"
      ]
     },
     "execution_count": 11,
     "metadata": {},
     "output_type": "execute_result"
    }
   ],
   "source": [
    "d.popitem()"
   ]
  },
  {
   "cell_type": "code",
   "execution_count": 33,
   "id": "236c2289",
   "metadata": {
    "collapsed": true
   },
   "outputs": [
    {
     "data": {
      "text/plain": [
       "{'Strentgh': 75, 'Students': ['S1', 'S2', 'S3', 'S4'], 'Batch_S': True}"
      ]
     },
     "execution_count": 33,
     "metadata": {},
     "output_type": "execute_result"
    }
   ],
   "source": [
    "d"
   ]
  },
  {
   "cell_type": "code",
   "execution_count": 12,
   "id": "0e8068ef",
   "metadata": {},
   "outputs": [
    {
     "data": {
      "text/plain": [
       "('Batch_S', True)"
      ]
     },
     "execution_count": 12,
     "metadata": {},
     "output_type": "execute_result"
    }
   ],
   "source": [
    "d.popitem()"
   ]
  },
  {
   "cell_type": "code",
   "execution_count": 13,
   "id": "01ee24ef",
   "metadata": {},
   "outputs": [
    {
     "data": {
      "text/plain": [
       "{'Batch': 'Jul23', 'Strentgh': 75, 'Students': ['S1', 'S2', 'S3']}"
      ]
     },
     "execution_count": 13,
     "metadata": {},
     "output_type": "execute_result"
    }
   ],
   "source": [
    "d"
   ]
  },
  {
   "cell_type": "code",
   "execution_count": 36,
   "id": "a42b2f63",
   "metadata": {
    "collapsed": true
   },
   "outputs": [
    {
     "data": {
      "text/plain": [
       "('Students', ['S1', 'S2', 'S3', 'S4'])"
      ]
     },
     "execution_count": 36,
     "metadata": {},
     "output_type": "execute_result"
    }
   ],
   "source": [
    "d.popitem()"
   ]
  },
  {
   "cell_type": "code",
   "execution_count": 37,
   "id": "067d4dae",
   "metadata": {},
   "outputs": [
    {
     "data": {
      "text/plain": [
       "{'Strentgh': 75}"
      ]
     },
     "execution_count": 37,
     "metadata": {},
     "output_type": "execute_result"
    }
   ],
   "source": [
    "d"
   ]
  },
  {
   "cell_type": "code",
   "execution_count": 38,
   "id": "01792a9c",
   "metadata": {},
   "outputs": [
    {
     "data": {
      "text/plain": [
       "('Strentgh', 75)"
      ]
     },
     "execution_count": 38,
     "metadata": {},
     "output_type": "execute_result"
    }
   ],
   "source": [
    "d.popitem()"
   ]
  },
  {
   "cell_type": "code",
   "execution_count": 39,
   "id": "b5374f03",
   "metadata": {},
   "outputs": [
    {
     "data": {
      "text/plain": [
       "{}"
      ]
     },
     "execution_count": 39,
     "metadata": {},
     "output_type": "execute_result"
    }
   ],
   "source": [
    "d"
   ]
  },
  {
   "cell_type": "code",
   "execution_count": 40,
   "id": "f9519f9f",
   "metadata": {
    "collapsed": true
   },
   "outputs": [
    {
     "ename": "KeyError",
     "evalue": "'popitem(): dictionary is empty'",
     "output_type": "error",
     "traceback": [
      "\u001b[1;31m---------------------------------------------------------------------------\u001b[0m",
      "\u001b[1;31mKeyError\u001b[0m                                  Traceback (most recent call last)",
      "Input \u001b[1;32mIn [40]\u001b[0m, in \u001b[0;36m<cell line: 1>\u001b[1;34m()\u001b[0m\n\u001b[1;32m----> 1\u001b[0m \u001b[43md\u001b[49m\u001b[38;5;241;43m.\u001b[39;49m\u001b[43mpopitem\u001b[49m\u001b[43m(\u001b[49m\u001b[43m)\u001b[49m\n",
      "\u001b[1;31mKeyError\u001b[0m: 'popitem(): dictionary is empty'"
     ]
    }
   ],
   "source": [
    "d.popitem()"
   ]
  },
  {
   "cell_type": "code",
   "execution_count": 41,
   "id": "90f569ca",
   "metadata": {
    "collapsed": true
   },
   "outputs": [
    {
     "data": {
      "text/plain": [
       "{'Batch': 'Jul23',\n",
       " 'Strentgh': 75,\n",
       " 'Students': ['S1', 'S2', 'S3'],\n",
       " 'Batch_S': True,\n",
       " 'Marks': {'ITP': [24, 26, 28], 'SQL': [12, 24, 22]}}"
      ]
     },
     "execution_count": 41,
     "metadata": {},
     "output_type": "execute_result"
    }
   ],
   "source": [
    "d = {\"Batch\" : \"Jul23\", \n",
    "      \"Strentgh\" : 75, \n",
    "     \"Students\" : [\"S1\",\"S2\",\"S3\"], \n",
    "     \"Batch_S\" : True, \n",
    "       \"Marks\" : {\"ITP\" : [24,26,28], \"SQL\" : [12,24,22] } }\n",
    "d"
   ]
  },
  {
   "cell_type": "code",
   "execution_count": 42,
   "id": "f2ab7aa7",
   "metadata": {},
   "outputs": [],
   "source": [
    "del d[\"Batch\"]"
   ]
  },
  {
   "cell_type": "code",
   "execution_count": 43,
   "id": "f9286966",
   "metadata": {
    "collapsed": true
   },
   "outputs": [
    {
     "data": {
      "text/plain": [
       "{'Strentgh': 75,\n",
       " 'Students': ['S1', 'S2', 'S3'],\n",
       " 'Batch_S': True,\n",
       " 'Marks': {'ITP': [24, 26, 28], 'SQL': [12, 24, 22]}}"
      ]
     },
     "execution_count": 43,
     "metadata": {},
     "output_type": "execute_result"
    }
   ],
   "source": [
    "d"
   ]
  },
  {
   "cell_type": "code",
   "execution_count": 44,
   "id": "f86453dd",
   "metadata": {
    "collapsed": true
   },
   "outputs": [
    {
     "data": {
      "text/plain": [
       "{'Strentgh': 75,\n",
       " 'Students': ['S1', 'S2', 'S3'],\n",
       " 'Batch_S': True,\n",
       " 'Marks': {'ITP': [24, 26, 28], 'SQL': [12, 24, 22]}}"
      ]
     },
     "execution_count": 44,
     "metadata": {},
     "output_type": "execute_result"
    }
   ],
   "source": [
    "# 'setdefault', 'update'\n",
    "d"
   ]
  },
  {
   "cell_type": "code",
   "execution_count": 45,
   "id": "f9ec7d54",
   "metadata": {
    "collapsed": true
   },
   "outputs": [
    {
     "data": {
      "text/plain": [
       "{'Strentgh': 75,\n",
       " 'Students': ['S1', 'S2', 'S3'],\n",
       " 'Batch_S': True,\n",
       " 'Marks': {'ITP': [24, 26, 28], 'SQL': [12, 24, 22]},\n",
       " 'Place': 'CHN'}"
      ]
     },
     "execution_count": 45,
     "metadata": {},
     "output_type": "execute_result"
    }
   ],
   "source": [
    "d[\"Place\"] = \"CHN\"\n",
    "d"
   ]
  },
  {
   "cell_type": "code",
   "execution_count": 47,
   "id": "0a9cef49",
   "metadata": {
    "collapsed": true
   },
   "outputs": [
    {
     "data": {
      "text/plain": [
       "{'Strentgh': 76,\n",
       " 'Students': ['S1', 'S2', 'S3'],\n",
       " 'Batch_S': True,\n",
       " 'Marks': {'ITP': [24, 26, 28], 'SQL': [12, 24, 22]},\n",
       " 'Place': 'CHN'}"
      ]
     },
     "execution_count": 47,
     "metadata": {},
     "output_type": "execute_result"
    }
   ],
   "source": [
    "d[\"Strentgh\"] += 1\n",
    "d"
   ]
  },
  {
   "cell_type": "code",
   "execution_count": 49,
   "id": "df6d058d",
   "metadata": {
    "collapsed": true
   },
   "outputs": [
    {
     "data": {
      "text/plain": [
       "{'Strentgh': 76,\n",
       " 'Students': ['S1', 'S2', 'S3'],\n",
       " 'Batch_S': True,\n",
       " 'Marks': {'ITP': [24, 26, 28], 'SQL': [12, 24, 22]},\n",
       " 'Place': 'CHN',\n",
       " 'Batch': 'Jul23',\n",
       " 'Duration': 6}"
      ]
     },
     "execution_count": 49,
     "metadata": {},
     "output_type": "execute_result"
    }
   ],
   "source": [
    "# update \n",
    "d.update(  {\"Batch\" : \"Jul23\", \"Duration\" : 6}  )\n",
    "d"
   ]
  },
  {
   "cell_type": "code",
   "execution_count": 24,
   "id": "533e448c",
   "metadata": {},
   "outputs": [
    {
     "data": {
      "text/plain": [
       "{'Batch': 'Jul23',\n",
       " 'Strentgh': 80,\n",
       " 'Students': ['S1', 'S2', 'S3'],\n",
       " 'Faculty': 'Vaishnavi',\n",
       " 'Program Manager': 'Vaishnavi'}"
      ]
     },
     "execution_count": 24,
     "metadata": {},
     "output_type": "execute_result"
    }
   ],
   "source": [
    "d.update(  {\"Faculty\" : \"Vaishnavi\"}  )\n",
    "d"
   ]
  },
  {
   "cell_type": "code",
   "execution_count": 25,
   "id": "503b7eb1",
   "metadata": {},
   "outputs": [
    {
     "data": {
      "text/plain": [
       "'Vaishnavi'"
      ]
     },
     "execution_count": 25,
     "metadata": {},
     "output_type": "execute_result"
    }
   ],
   "source": [
    "# setdefault\n",
    "d.setdefault(\"Faculty\", \"Manvendra\")"
   ]
  },
  {
   "cell_type": "code",
   "execution_count": 16,
   "id": "85ff4ed0",
   "metadata": {},
   "outputs": [
    {
     "data": {
      "text/plain": [
       "{'Batch': 'Jul23',\n",
       " 'Strentgh': 75,\n",
       " 'Students': ['S1', 'S2', 'S3'],\n",
       " 'Faculty': 'Manvendra'}"
      ]
     },
     "execution_count": 16,
     "metadata": {},
     "output_type": "execute_result"
    }
   ],
   "source": [
    "d"
   ]
  },
  {
   "cell_type": "code",
   "execution_count": 17,
   "id": "bae94296",
   "metadata": {},
   "outputs": [
    {
     "data": {
      "text/plain": [
       "'Gowthami'"
      ]
     },
     "execution_count": 17,
     "metadata": {},
     "output_type": "execute_result"
    }
   ],
   "source": [
    "d.setdefault(\"Program Manager\", \"Gowthami\")"
   ]
  },
  {
   "cell_type": "code",
   "execution_count": 55,
   "id": "112aa885",
   "metadata": {
    "collapsed": true
   },
   "outputs": [
    {
     "data": {
      "text/plain": [
       "{'Strentgh': 80,\n",
       " 'Students': ['S1', 'S2', 'S3'],\n",
       " 'Batch_S': True,\n",
       " 'Marks': {'ITP': [24, 26, 28], 'SQL': [12, 24, 22]},\n",
       " 'Place': 'CHN',\n",
       " 'Batch': 'Jul23',\n",
       " 'Duration': 6,\n",
       " 'Program Manager': 'Vaishnavi',\n",
       " 'Faculty': 'Manvendra'}"
      ]
     },
     "execution_count": 55,
     "metadata": {},
     "output_type": "execute_result"
    }
   ],
   "source": [
    "d"
   ]
  },
  {
   "cell_type": "code",
   "execution_count": 25,
   "id": "abbcda1d",
   "metadata": {},
   "outputs": [
    {
     "data": {
      "text/plain": [
       "{'S': '4'}"
      ]
     },
     "execution_count": 25,
     "metadata": {},
     "output_type": "execute_result"
    }
   ],
   "source": [
    "# fromkeys - \n",
    "# dict from list\n",
    "name = (\"S1\", \"S2\",\"S3\",\"S4\")\n",
    "dict(name)"
   ]
  },
  {
   "cell_type": "code",
   "execution_count": 26,
   "id": "b339a56f",
   "metadata": {},
   "outputs": [
    {
     "data": {
      "text/plain": [
       "{'S1': None, 'S2': None, 'S3': None, 'S4': None}"
      ]
     },
     "execution_count": 26,
     "metadata": {},
     "output_type": "execute_result"
    }
   ],
   "source": [
    "dict.fromkeys(name)"
   ]
  },
  {
   "cell_type": "code",
   "execution_count": 27,
   "id": "00c4c6e9",
   "metadata": {},
   "outputs": [
    {
     "data": {
      "text/plain": [
       "{'S1': 0, 'S2': 0, 'S3': 0, 'S4': 0}"
      ]
     },
     "execution_count": 27,
     "metadata": {},
     "output_type": "execute_result"
    }
   ],
   "source": [
    "dict.fromkeys(name, 0)"
   ]
  },
  {
   "cell_type": "code",
   "execution_count": 28,
   "id": "4e394f41",
   "metadata": {},
   "outputs": [
    {
     "data": {
      "text/plain": [
       "{'S1': 23, 'S2': 26, 'S3': 18}"
      ]
     },
     "execution_count": 28,
     "metadata": {},
     "output_type": "execute_result"
    }
   ],
   "source": [
    "list_m = ( [\"S1\", 23], [\"S2\", 26], [\"S3\", 18 ] )\n",
    "dict(list_m)"
   ]
  },
  {
   "cell_type": "code",
   "execution_count": 29,
   "id": "76815f98",
   "metadata": {},
   "outputs": [
    {
     "data": {
      "text/plain": [
       "[('S1', 23), ('S2', 22), ('S3', 26)]"
      ]
     },
     "execution_count": 29,
     "metadata": {},
     "output_type": "execute_result"
    }
   ],
   "source": [
    "# zip\n",
    "list_n = [\"S1\", \"S2\", \"S3\", \"S4\"]\n",
    "list_m = [23,22,26]\n",
    "list(zip(list_n,list_m))"
   ]
  },
  {
   "cell_type": "code",
   "execution_count": 30,
   "id": "c8899bef",
   "metadata": {},
   "outputs": [
    {
     "data": {
      "text/plain": [
       "(('S1', 23), ('S2', 22), ('S3', 26))"
      ]
     },
     "execution_count": 30,
     "metadata": {},
     "output_type": "execute_result"
    }
   ],
   "source": [
    "# zip\n",
    "list_n = [\"S1\", \"S2\", \"S3\", \"S4\"]\n",
    "list_m = [23,22,26]\n",
    "tuple(zip(list_n,list_m))"
   ]
  },
  {
   "cell_type": "code",
   "execution_count": 31,
   "id": "07fc446c",
   "metadata": {},
   "outputs": [
    {
     "data": {
      "text/plain": [
       "{'S1': 23, 'S2': 22, 'S3': 26}"
      ]
     },
     "execution_count": 31,
     "metadata": {},
     "output_type": "execute_result"
    }
   ],
   "source": [
    "# zip\n",
    "list_n = [\"S1\", \"S2\", \"S3\", \"S4\"]\n",
    "list_m = [23,22,26]\n",
    "dict(zip(list_n,list_m))"
   ]
  },
  {
   "cell_type": "code",
   "execution_count": 74,
   "id": "be815502",
   "metadata": {
    "collapsed": true
   },
   "outputs": [
    {
     "data": {
      "text/plain": [
       "{'G': None,\n",
       " 'r': None,\n",
       " 'e': None,\n",
       " 'a': None,\n",
       " 't': None,\n",
       " ' ': None,\n",
       " 'L': None,\n",
       " 'n': None,\n",
       " 'i': None,\n",
       " 'g': None}"
      ]
     },
     "execution_count": 74,
     "metadata": {},
     "output_type": "execute_result"
    }
   ],
   "source": [
    "s = \"Great Learning\"\n",
    "dict.fromkeys(s)"
   ]
  },
  {
   "cell_type": "code",
   "execution_count": 76,
   "id": "4bf141a3",
   "metadata": {},
   "outputs": [
    {
     "data": {
      "text/plain": [
       "True"
      ]
     },
     "execution_count": 76,
     "metadata": {},
     "output_type": "execute_result"
    }
   ],
   "source": [
    "# membership for keys\n",
    "\"Place\" in d"
   ]
  },
  {
   "cell_type": "code",
   "execution_count": 32,
   "id": "92563a70",
   "metadata": {},
   "outputs": [],
   "source": [
    "d1 = {\"A\" :  10, \"B\" : 20}"
   ]
  },
  {
   "cell_type": "code",
   "execution_count": 33,
   "id": "e61e11c9",
   "metadata": {},
   "outputs": [
    {
     "data": {
      "text/plain": [
       "{'C': 30, 'D': 40}"
      ]
     },
     "execution_count": 33,
     "metadata": {},
     "output_type": "execute_result"
    }
   ],
   "source": [
    "d2 = {\"C\" : 30, \"D\" : 40}\n",
    "d2"
   ]
  },
  {
   "cell_type": "code",
   "execution_count": 34,
   "id": "5cbd62a3",
   "metadata": {},
   "outputs": [
    {
     "data": {
      "text/plain": [
       "{'A': 10, 'B': 20, 'C': 30, 'D': 40}"
      ]
     },
     "execution_count": 34,
     "metadata": {},
     "output_type": "execute_result"
    }
   ],
   "source": [
    "{**d1, **d2}  # concatenation"
   ]
  },
  {
   "cell_type": "code",
   "execution_count": 35,
   "id": "6f0ae32b",
   "metadata": {},
   "outputs": [
    {
     "data": {
      "text/plain": [
       "set()"
      ]
     },
     "execution_count": 35,
     "metadata": {},
     "output_type": "execute_result"
    }
   ],
   "source": [
    "\n",
    "# set\n",
    "s = set()\n",
    "s"
   ]
  },
  {
   "cell_type": "code",
   "execution_count": 36,
   "id": "795e4e89",
   "metadata": {},
   "outputs": [
    {
     "data": {
      "text/plain": [
       "[10, 'python', True, 'Apple']"
      ]
     },
     "execution_count": 36,
     "metadata": {},
     "output_type": "execute_result"
    }
   ],
   "source": [
    "[10,\"python\", True, \"Apple\"]"
   ]
  },
  {
   "cell_type": "code",
   "execution_count": 37,
   "id": "65527231",
   "metadata": {},
   "outputs": [
    {
     "data": {
      "text/plain": [
       "{10, 'Apple', True, 'python'}"
      ]
     },
     "execution_count": 37,
     "metadata": {},
     "output_type": "execute_result"
    }
   ],
   "source": [
    "s = {10,\"python\", True, \"Apple\"}  # set is unordered\n",
    "s"
   ]
  },
  {
   "cell_type": "code",
   "execution_count": 38,
   "id": "368fcae1",
   "metadata": {},
   "outputs": [
    {
     "data": {
      "text/plain": [
       "{10, 'Apple', True, 'python'}"
      ]
     },
     "execution_count": 38,
     "metadata": {},
     "output_type": "execute_result"
    }
   ],
   "source": [
    "s = {10,\"python\", True, \"Apple\",\"python\"}  # set cannot store duplicate\n",
    "s"
   ]
  },
  {
   "cell_type": "code",
   "execution_count": 39,
   "id": "669345a4",
   "metadata": {},
   "outputs": [
    {
     "data": {
      "text/plain": [
       "{('Apple', 'python'), 10, True, 'python'}"
      ]
     },
     "execution_count": 39,
     "metadata": {},
     "output_type": "execute_result"
    }
   ],
   "source": [
    "s = {10,\"python\", True, (\"Apple\",\"python\")}  # set cannot store mutable\n",
    "s"
   ]
  },
  {
   "cell_type": "code",
   "execution_count": 40,
   "id": "c04275da",
   "metadata": {
    "collapsed": true
   },
   "outputs": [
    {
     "ename": "TypeError",
     "evalue": "unhashable type: 'list'",
     "output_type": "error",
     "traceback": [
      "\u001b[1;31m---------------------------------------------------------------------------\u001b[0m",
      "\u001b[1;31mTypeError\u001b[0m                                 Traceback (most recent call last)",
      "Cell \u001b[1;32mIn[40], line 1\u001b[0m\n\u001b[1;32m----> 1\u001b[0m s \u001b[38;5;241m=\u001b[39m {\u001b[38;5;241m10\u001b[39m,\u001b[38;5;124m\"\u001b[39m\u001b[38;5;124mpython\u001b[39m\u001b[38;5;124m\"\u001b[39m, \u001b[38;5;28;01mTrue\u001b[39;00m, [\u001b[38;5;124m\"\u001b[39m\u001b[38;5;124mApple\u001b[39m\u001b[38;5;124m\"\u001b[39m,\u001b[38;5;124m\"\u001b[39m\u001b[38;5;124mpython\u001b[39m\u001b[38;5;124m\"\u001b[39m]}  \u001b[38;5;66;03m# set cannot store mutable\u001b[39;00m\n\u001b[0;32m      2\u001b[0m s\n",
      "\u001b[1;31mTypeError\u001b[0m: unhashable type: 'list'"
     ]
    }
   ],
   "source": [
    "s = {10,\"python\", True, [\"Apple\",\"python\"]}  # set cannot store mutable\n",
    "s"
   ]
  },
  {
   "cell_type": "code",
   "execution_count": 41,
   "id": "c67362de",
   "metadata": {
    "collapsed": true
   },
   "outputs": [
    {
     "ename": "TypeError",
     "evalue": "unhashable type: 'set'",
     "output_type": "error",
     "traceback": [
      "\u001b[1;31m---------------------------------------------------------------------------\u001b[0m",
      "\u001b[1;31mTypeError\u001b[0m                                 Traceback (most recent call last)",
      "Cell \u001b[1;32mIn[41], line 1\u001b[0m\n\u001b[1;32m----> 1\u001b[0m s \u001b[38;5;241m=\u001b[39m {\u001b[38;5;241m10\u001b[39m,\u001b[38;5;124m\"\u001b[39m\u001b[38;5;124mpython\u001b[39m\u001b[38;5;124m\"\u001b[39m, \u001b[38;5;28;01mTrue\u001b[39;00m, {\u001b[38;5;124m\"\u001b[39m\u001b[38;5;124mApple\u001b[39m\u001b[38;5;124m\"\u001b[39m,\u001b[38;5;124m\"\u001b[39m\u001b[38;5;124mpython\u001b[39m\u001b[38;5;124m\"\u001b[39m}}  \u001b[38;5;66;03m# set cannot store mutable\u001b[39;00m\n\u001b[0;32m      2\u001b[0m s\n",
      "\u001b[1;31mTypeError\u001b[0m: unhashable type: 'set'"
     ]
    }
   ],
   "source": [
    "s = {10,\"python\", True, {\"Apple\",\"python\"}}  # set cannot store mutable\n",
    "s"
   ]
  },
  {
   "cell_type": "code",
   "execution_count": 43,
   "id": "25c489e6",
   "metadata": {},
   "outputs": [
    {
     "data": {
      "text/plain": [
       "{(1, 2), (10, 12), 10, 'Java', 'ml', 'python'}"
      ]
     },
     "execution_count": 43,
     "metadata": {},
     "output_type": "execute_result"
    }
   ],
   "source": [
    "s = {10,\"python\",\"Java\", \"ml\", (10,12), (1,2)}\n",
    "s"
   ]
  },
  {
   "cell_type": "code",
   "execution_count": 44,
   "id": "df639b72",
   "metadata": {
    "collapsed": true
   },
   "outputs": [
    {
     "ename": "TypeError",
     "evalue": "'set' object is not subscriptable",
     "output_type": "error",
     "traceback": [
      "\u001b[1;31m---------------------------------------------------------------------------\u001b[0m",
      "\u001b[1;31mTypeError\u001b[0m                                 Traceback (most recent call last)",
      "Cell \u001b[1;32mIn[44], line 2\u001b[0m\n\u001b[0;32m      1\u001b[0m \u001b[38;5;66;03m# set - indexing and slicing is not possible\u001b[39;00m\n\u001b[1;32m----> 2\u001b[0m \u001b[43ms\u001b[49m\u001b[43m[\u001b[49m\u001b[38;5;241;43m0\u001b[39;49m\u001b[43m]\u001b[49m\n",
      "\u001b[1;31mTypeError\u001b[0m: 'set' object is not subscriptable"
     ]
    }
   ],
   "source": [
    "# set - indexing and slicing is not possible\n",
    "s[0]"
   ]
  },
  {
   "cell_type": "code",
   "execution_count": 45,
   "id": "7d129f89",
   "metadata": {},
   "outputs": [],
   "source": [
    "A = {10,5,8,7,6,2}\n",
    "B = {8,7,2,20,22}\n",
    "C = {50,51,53}\n",
    "D = {8,7,10}"
   ]
  },
  {
   "cell_type": "code",
   "execution_count": 46,
   "id": "c39e0efc",
   "metadata": {},
   "outputs": [
    {
     "data": {
      "text/plain": [
       "{2, 5, 6, 7, 8, 10, 20, 22}"
      ]
     },
     "execution_count": 46,
     "metadata": {},
     "output_type": "execute_result"
    }
   ],
   "source": [
    "# union \n",
    "A.union(B)"
   ]
  },
  {
   "cell_type": "code",
   "execution_count": 47,
   "id": "a107b412",
   "metadata": {},
   "outputs": [
    {
     "data": {
      "text/plain": [
       "{2, 7, 8}"
      ]
     },
     "execution_count": 47,
     "metadata": {},
     "output_type": "execute_result"
    }
   ],
   "source": [
    "# union \n",
    "A.intersection(B)"
   ]
  },
  {
   "cell_type": "code",
   "execution_count": 48,
   "id": "012e0d4e",
   "metadata": {},
   "outputs": [
    {
     "data": {
      "text/plain": [
       "{5, 6, 10}"
      ]
     },
     "execution_count": 48,
     "metadata": {},
     "output_type": "execute_result"
    }
   ],
   "source": [
    "# difference\n",
    "A - B"
   ]
  },
  {
   "cell_type": "code",
   "execution_count": 49,
   "id": "b2df4e5f",
   "metadata": {},
   "outputs": [
    {
     "data": {
      "text/plain": [
       "{5, 6, 10}"
      ]
     },
     "execution_count": 49,
     "metadata": {},
     "output_type": "execute_result"
    }
   ],
   "source": [
    "A.difference(B)"
   ]
  },
  {
   "cell_type": "code",
   "execution_count": 50,
   "id": "7bdd0b90",
   "metadata": {},
   "outputs": [
    {
     "data": {
      "text/plain": [
       "False"
      ]
     },
     "execution_count": 50,
     "metadata": {},
     "output_type": "execute_result"
    }
   ],
   "source": [
    "A.isdisjoint(B)"
   ]
  },
  {
   "cell_type": "code",
   "execution_count": 51,
   "id": "f2668026",
   "metadata": {},
   "outputs": [
    {
     "data": {
      "text/plain": [
       "True"
      ]
     },
     "execution_count": 51,
     "metadata": {},
     "output_type": "execute_result"
    }
   ],
   "source": [
    "A.isdisjoint(C)"
   ]
  },
  {
   "cell_type": "code",
   "execution_count": 52,
   "id": "629e2e9d",
   "metadata": {},
   "outputs": [
    {
     "data": {
      "text/plain": [
       "False"
      ]
     },
     "execution_count": 52,
     "metadata": {},
     "output_type": "execute_result"
    }
   ],
   "source": [
    "B.issubset(A)"
   ]
  },
  {
   "cell_type": "code",
   "execution_count": 53,
   "id": "42ef0adc",
   "metadata": {},
   "outputs": [
    {
     "data": {
      "text/plain": [
       "True"
      ]
     },
     "execution_count": 53,
     "metadata": {},
     "output_type": "execute_result"
    }
   ],
   "source": [
    "D.issubset(A)"
   ]
  },
  {
   "cell_type": "code",
   "execution_count": 54,
   "id": "f299cbcb",
   "metadata": {},
   "outputs": [
    {
     "data": {
      "text/plain": [
       "True"
      ]
     },
     "execution_count": 54,
     "metadata": {},
     "output_type": "execute_result"
    }
   ],
   "source": [
    "A.issuperset(D)"
   ]
  },
  {
   "cell_type": "code",
   "execution_count": 55,
   "id": "fd6096c8",
   "metadata": {},
   "outputs": [
    {
     "data": {
      "text/plain": [
       "{5, 6, 10, 20, 22}"
      ]
     },
     "execution_count": 55,
     "metadata": {},
     "output_type": "execute_result"
    }
   ],
   "source": [
    "A.symmetric_difference(B)"
   ]
  },
  {
   "cell_type": "code",
   "execution_count": 56,
   "id": "8fb7b085",
   "metadata": {
    "scrolled": true
   },
   "outputs": [
    {
     "name": "stdout",
     "output_type": "stream",
     "text": [
      "['__and__', '__class__', '__class_getitem__', '__contains__', '__delattr__', '__dir__', '__doc__', '__eq__', '__format__', '__ge__', '__getattribute__', '__gt__', '__hash__', '__iand__', '__init__', '__init_subclass__', '__ior__', '__isub__', '__iter__', '__ixor__', '__le__', '__len__', '__lt__', '__ne__', '__new__', '__or__', '__rand__', '__reduce__', '__reduce_ex__', '__repr__', '__ror__', '__rsub__', '__rxor__', '__setattr__', '__sizeof__', '__str__', '__sub__', '__subclasshook__', '__xor__', 'add', 'clear', 'copy', 'difference', 'difference_update', 'discard', 'intersection', 'intersection_update', 'isdisjoint', 'issubset', 'issuperset', 'pop', 'remove', 'symmetric_difference', 'symmetric_difference_update', 'union', 'update']\n"
     ]
    }
   ],
   "source": [
    "# \n",
    "print(dir(set))"
   ]
  },
  {
   "cell_type": "code",
   "execution_count": 57,
   "id": "e5b3ef80",
   "metadata": {},
   "outputs": [],
   "source": [
    "# 'add',  'difference_update', 'discard',  'intersection_update', \n",
    "# 'pop', 'remove',  'symmetric_difference_update',  'update'\n",
    "\n",
    "# add, update"
   ]
  },
  {
   "cell_type": "code",
   "execution_count": 58,
   "id": "df04b9ef",
   "metadata": {},
   "outputs": [],
   "source": [
    "# add - append, \n",
    "# update - extend"
   ]
  },
  {
   "cell_type": "code",
   "execution_count": 59,
   "id": "5b57d6c1",
   "metadata": {},
   "outputs": [
    {
     "data": {
      "text/plain": [
       "{2, 5, 6, 7, 8, 10}"
      ]
     },
     "execution_count": 59,
     "metadata": {},
     "output_type": "execute_result"
    }
   ],
   "source": [
    "A"
   ]
  },
  {
   "cell_type": "code",
   "execution_count": 60,
   "id": "d4b4aca8",
   "metadata": {},
   "outputs": [
    {
     "data": {
      "text/plain": [
       "{10, 2, 5, 6, 7, 8, 'Python'}"
      ]
     },
     "execution_count": 60,
     "metadata": {},
     "output_type": "execute_result"
    }
   ],
   "source": [
    "A.add(\"Python\")\n",
    "A"
   ]
  },
  {
   "cell_type": "code",
   "execution_count": 61,
   "id": "ce6eef0e",
   "metadata": {},
   "outputs": [
    {
     "data": {
      "text/plain": [
       "{10, 2, 5, 6, 7, 8, 'Python', 'a'}"
      ]
     },
     "execution_count": 61,
     "metadata": {},
     "output_type": "execute_result"
    }
   ],
   "source": [
    "A.add(\"a\")\n",
    "A"
   ]
  },
  {
   "cell_type": "code",
   "execution_count": 62,
   "id": "c0f09ca9",
   "metadata": {},
   "outputs": [
    {
     "data": {
      "text/plain": [
       "{10, 2, 5, 6, 7, 8, 'Data Science', 'Python', 'a'}"
      ]
     },
     "execution_count": 62,
     "metadata": {},
     "output_type": "execute_result"
    }
   ],
   "source": [
    "A.add(\"Data Science\")\n",
    "A"
   ]
  },
  {
   "cell_type": "code",
   "execution_count": 63,
   "id": "f9506b62",
   "metadata": {},
   "outputs": [
    {
     "data": {
      "text/plain": [
       "{10, 2, 5, 6, 7, 8, 'Data Science', 'Excel', 'Python', 'Tableau', 'a'}"
      ]
     },
     "execution_count": 63,
     "metadata": {},
     "output_type": "execute_result"
    }
   ],
   "source": [
    "A.update({\"Excel\", \"Tableau\"})\n",
    "A"
   ]
  },
  {
   "cell_type": "code",
   "execution_count": 64,
   "id": "af468111",
   "metadata": {},
   "outputs": [
    {
     "data": {
      "text/plain": [
       "{10, 2, 5, 6, 7, 8, 'Data Science', 'Excel', 'Python', 'Tableau', 'a'}"
      ]
     },
     "execution_count": 64,
     "metadata": {},
     "output_type": "execute_result"
    }
   ],
   "source": [
    "A.update([\"Excel\", \"Tableau\"])\n",
    "A"
   ]
  },
  {
   "cell_type": "code",
   "execution_count": 65,
   "id": "c41306b3",
   "metadata": {},
   "outputs": [
    {
     "data": {
      "text/plain": [
       "{10,\n",
       " 2,\n",
       " 5,\n",
       " 6,\n",
       " 7,\n",
       " 8,\n",
       " 'Data Science',\n",
       " 'Excel',\n",
       " 'Great Learning',\n",
       " 'Python',\n",
       " 'Tableau',\n",
       " 'a'}"
      ]
     },
     "execution_count": 65,
     "metadata": {},
     "output_type": "execute_result"
    }
   ],
   "source": [
    "A.update([\"Great Learning\"])\n",
    "A"
   ]
  },
  {
   "cell_type": "code",
   "execution_count": 66,
   "id": "dc42c80f",
   "metadata": {},
   "outputs": [],
   "source": [
    "# remove, discard, pop\n",
    "B.remove(7)"
   ]
  },
  {
   "cell_type": "code",
   "execution_count": 67,
   "id": "1aee0f25",
   "metadata": {},
   "outputs": [
    {
     "data": {
      "text/plain": [
       "{2, 8, 20, 22}"
      ]
     },
     "execution_count": 67,
     "metadata": {},
     "output_type": "execute_result"
    }
   ],
   "source": [
    "B"
   ]
  },
  {
   "cell_type": "code",
   "execution_count": 68,
   "id": "772e7bf5",
   "metadata": {},
   "outputs": [
    {
     "data": {
      "text/plain": [
       "{2, 20, 22}"
      ]
     },
     "execution_count": 68,
     "metadata": {},
     "output_type": "execute_result"
    }
   ],
   "source": [
    "B.discard(8)\n",
    "B"
   ]
  },
  {
   "cell_type": "code",
   "execution_count": 69,
   "id": "33af78fd",
   "metadata": {},
   "outputs": [
    {
     "ename": "KeyError",
     "evalue": "50",
     "output_type": "error",
     "traceback": [
      "\u001b[1;31m---------------------------------------------------------------------------\u001b[0m",
      "\u001b[1;31mKeyError\u001b[0m                                  Traceback (most recent call last)",
      "Cell \u001b[1;32mIn[69], line 1\u001b[0m\n\u001b[1;32m----> 1\u001b[0m \u001b[43mB\u001b[49m\u001b[38;5;241;43m.\u001b[39;49m\u001b[43mremove\u001b[49m\u001b[43m(\u001b[49m\u001b[38;5;241;43m50\u001b[39;49m\u001b[43m)\u001b[49m\n",
      "\u001b[1;31mKeyError\u001b[0m: 50"
     ]
    }
   ],
   "source": [
    "B.remove(50)"
   ]
  },
  {
   "cell_type": "code",
   "execution_count": 70,
   "id": "b57428d0",
   "metadata": {},
   "outputs": [
    {
     "data": {
      "text/plain": [
       "{2, 20, 22}"
      ]
     },
     "execution_count": 70,
     "metadata": {},
     "output_type": "execute_result"
    }
   ],
   "source": [
    "B.discard(50)\n",
    "B"
   ]
  },
  {
   "cell_type": "code",
   "execution_count": 71,
   "id": "75e97dd8",
   "metadata": {},
   "outputs": [
    {
     "data": {
      "text/plain": [
       "2"
      ]
     },
     "execution_count": 71,
     "metadata": {},
     "output_type": "execute_result"
    }
   ],
   "source": [
    "# pop\n",
    "A.pop()"
   ]
  },
  {
   "cell_type": "code",
   "execution_count": 72,
   "id": "238f244e",
   "metadata": {},
   "outputs": [
    {
     "data": {
      "text/plain": [
       "5"
      ]
     },
     "execution_count": 72,
     "metadata": {},
     "output_type": "execute_result"
    }
   ],
   "source": [
    "A.pop()"
   ]
  },
  {
   "cell_type": "code",
   "execution_count": 73,
   "id": "a520358b",
   "metadata": {},
   "outputs": [
    {
     "data": {
      "text/plain": [
       "2"
      ]
     },
     "execution_count": 73,
     "metadata": {},
     "output_type": "execute_result"
    }
   ],
   "source": [
    "B.pop()"
   ]
  },
  {
   "cell_type": "code",
   "execution_count": 74,
   "id": "c2670541",
   "metadata": {},
   "outputs": [
    {
     "data": {
      "text/plain": [
       "20"
      ]
     },
     "execution_count": 74,
     "metadata": {},
     "output_type": "execute_result"
    }
   ],
   "source": [
    "B.pop()"
   ]
  },
  {
   "cell_type": "code",
   "execution_count": 75,
   "id": "031a1a4e",
   "metadata": {},
   "outputs": [
    {
     "data": {
      "text/plain": [
       "22"
      ]
     },
     "execution_count": 75,
     "metadata": {},
     "output_type": "execute_result"
    }
   ],
   "source": [
    "B.pop()"
   ]
  },
  {
   "cell_type": "code",
   "execution_count": 76,
   "id": "af41118b",
   "metadata": {},
   "outputs": [
    {
     "ename": "KeyError",
     "evalue": "'pop from an empty set'",
     "output_type": "error",
     "traceback": [
      "\u001b[1;31m---------------------------------------------------------------------------\u001b[0m",
      "\u001b[1;31mKeyError\u001b[0m                                  Traceback (most recent call last)",
      "Cell \u001b[1;32mIn[76], line 1\u001b[0m\n\u001b[1;32m----> 1\u001b[0m \u001b[43mB\u001b[49m\u001b[38;5;241;43m.\u001b[39;49m\u001b[43mpop\u001b[49m\u001b[43m(\u001b[49m\u001b[43m)\u001b[49m\n",
      "\u001b[1;31mKeyError\u001b[0m: 'pop from an empty set'"
     ]
    }
   ],
   "source": [
    "B.pop()"
   ]
  },
  {
   "cell_type": "code",
   "execution_count": 77,
   "id": "8ea027f0",
   "metadata": {},
   "outputs": [
    {
     "data": {
      "text/plain": [
       "{5, 6, 10}"
      ]
     },
     "execution_count": 77,
     "metadata": {},
     "output_type": "execute_result"
    }
   ],
   "source": [
    "A = {10,5,8,7,6,2}\n",
    "B = {8,7,2,20,22}\n",
    "A.difference(B)"
   ]
  },
  {
   "cell_type": "code",
   "execution_count": 78,
   "id": "751c744b",
   "metadata": {},
   "outputs": [
    {
     "data": {
      "text/plain": [
       "{2, 5, 6, 7, 8, 10}"
      ]
     },
     "execution_count": 78,
     "metadata": {},
     "output_type": "execute_result"
    }
   ],
   "source": [
    "A"
   ]
  },
  {
   "cell_type": "code",
   "execution_count": 79,
   "id": "868ef067",
   "metadata": {},
   "outputs": [
    {
     "data": {
      "text/plain": [
       "{2, 7, 8, 20, 22}"
      ]
     },
     "execution_count": 79,
     "metadata": {},
     "output_type": "execute_result"
    }
   ],
   "source": [
    "B"
   ]
  },
  {
   "cell_type": "code",
   "execution_count": 80,
   "id": "a875a8e0",
   "metadata": {},
   "outputs": [],
   "source": [
    "A = {10,5,8,7,6,2}\n",
    "B = {8,7,2,20,22}\n",
    "A.difference_update(B)"
   ]
  },
  {
   "cell_type": "code",
   "execution_count": 81,
   "id": "88a5114a",
   "metadata": {},
   "outputs": [
    {
     "data": {
      "text/plain": [
       "{5, 6, 10}"
      ]
     },
     "execution_count": 81,
     "metadata": {},
     "output_type": "execute_result"
    }
   ],
   "source": [
    "A"
   ]
  },
  {
   "cell_type": "code",
   "execution_count": 82,
   "id": "8f0dc5ba",
   "metadata": {},
   "outputs": [],
   "source": [
    "A = {10,5,8,7,6,2}\n",
    "B = {8,7,2,20,22}\n",
    "A.intersection_update(B)"
   ]
  },
  {
   "cell_type": "code",
   "execution_count": 83,
   "id": "f8bc3229",
   "metadata": {},
   "outputs": [
    {
     "data": {
      "text/plain": [
       "{2, 7, 8}"
      ]
     },
     "execution_count": 83,
     "metadata": {},
     "output_type": "execute_result"
    }
   ],
   "source": [
    "A"
   ]
  },
  {
   "cell_type": "code",
   "execution_count": 84,
   "id": "42b6c985",
   "metadata": {},
   "outputs": [
    {
     "data": {
      "text/plain": [
       "{10, 12, 'data science', 'python'}"
      ]
     },
     "execution_count": 84,
     "metadata": {},
     "output_type": "execute_result"
    }
   ],
   "source": [
    "# convert a list into set\n",
    "list1 = [10,12,\"python\", 12,\"data science\", \"python\"]\n",
    "set(list1)"
   ]
  },
  {
   "cell_type": "code",
   "execution_count": 85,
   "id": "c4b8ba36",
   "metadata": {},
   "outputs": [
    {
     "data": {
      "text/plain": [
       "6"
      ]
     },
     "execution_count": 85,
     "metadata": {},
     "output_type": "execute_result"
    }
   ],
   "source": [
    "sen = \"Python for data science and data analysis\"\n",
    "s = set(sen.split())\n",
    "len(s)"
   ]
  },
  {
   "cell_type": "code",
   "execution_count": 86,
   "id": "59d8debe",
   "metadata": {
    "collapsed": true
   },
   "outputs": [
    {
     "ename": "TypeError",
     "evalue": "unsupported operand type(s) for *: 'set' and 'int'",
     "output_type": "error",
     "traceback": [
      "\u001b[1;31m---------------------------------------------------------------------------\u001b[0m",
      "\u001b[1;31mTypeError\u001b[0m                                 Traceback (most recent call last)",
      "Cell \u001b[1;32mIn[86], line 1\u001b[0m\n\u001b[1;32m----> 1\u001b[0m \u001b[43mA\u001b[49m\u001b[43m \u001b[49m\u001b[38;5;241;43m*\u001b[39;49m\u001b[43m \u001b[49m\u001b[38;5;241;43m2\u001b[39;49m\n",
      "\u001b[1;31mTypeError\u001b[0m: unsupported operand type(s) for *: 'set' and 'int'"
     ]
    }
   ],
   "source": [
    "A * 2"
   ]
  },
  {
   "cell_type": "code",
   "execution_count": null,
   "id": "7313839d",
   "metadata": {},
   "outputs": [],
   "source": []
  },
  {
   "cell_type": "code",
   "execution_count": 157,
   "id": "b04f0502",
   "metadata": {},
   "outputs": [
    {
     "name": "stdout",
     "output_type": "stream",
     "text": [
      "Enter your age - 12\n",
      "Done!\n"
     ]
    }
   ],
   "source": [
    "# check whether a person is eligible to vote\n",
    "age = float(input(\"Enter your age - \"))\n",
    "\n",
    "if age >= 18:\n",
    "    print(\"Eligible\")\n",
    "print(\"Done!\")"
   ]
  },
  {
   "cell_type": "code",
   "execution_count": 159,
   "id": "7d7ced37",
   "metadata": {},
   "outputs": [
    {
     "name": "stdout",
     "output_type": "stream",
     "text": [
      "Enter your age - 12\n",
      "NE\n",
      "Done!\n"
     ]
    }
   ],
   "source": [
    "# check whether a person is eligible to vote\n",
    "age = float(input(\"Enter your age - \"))\n",
    "\n",
    "if age >= 18:\n",
    "    print(\"Eligible\")\n",
    "else:\n",
    "    print(\"NE\")\n",
    "    \n",
    "print(\"Done!\")"
   ]
  },
  {
   "cell_type": "code",
   "execution_count": null,
   "id": "2d4f9d02",
   "metadata": {},
   "outputs": [],
   "source": [
    "# 30 - >=18\n",
    "\n",
    "# write a program that will take marks as input and display \n",
    "# whether a student is eligible for placement or not\n",
    "\n",
    "marks = float(input(\"Enter your marks out of 30 - \"))\n",
    "\n",
    "if marks >= 18:\n",
    "    print(\"Eligible\")\n",
    "else:\n",
    "    print(\"NE\")\n",
    "    \n",
    "print(\"Done!\")"
   ]
  },
  {
   "cell_type": "code",
   "execution_count": 162,
   "id": "b319d5c1",
   "metadata": {},
   "outputs": [
    {
     "name": "stdout",
     "output_type": "stream",
     "text": [
      "Enter your age - 22\n",
      "Eligible\n",
      "Done\n"
     ]
    }
   ],
   "source": [
    "age = float(input(\"Enter your age - \"))\n",
    "\n",
    "print(\"Eligible\" if age >= 18 else \"NE\")\n",
    "print(\"Done\")"
   ]
  },
  {
   "cell_type": "code",
   "execution_count": 164,
   "id": "a6237705",
   "metadata": {},
   "outputs": [
    {
     "name": "stdout",
     "output_type": "stream",
     "text": [
      "Enter your age - 22\n",
      "Enter your country - Australia\n",
      "NE\n",
      "Done!\n"
     ]
    }
   ],
   "source": [
    "# check whether a person is eligible to vote\n",
    "age = float(input(\"Enter your age - \"))\n",
    "country = input(\"Enter your country - \")\n",
    "\n",
    "if (age >= 18)  and (country == \"India\"):\n",
    "    print(\"Eligible\")\n",
    "else:\n",
    "    print(\"NE\")\n",
    "    \n",
    "print(\"Done!\")"
   ]
  },
  {
   "cell_type": "code",
   "execution_count": 170,
   "id": "2757641c",
   "metadata": {},
   "outputs": [
    {
     "name": "stdout",
     "output_type": "stream",
     "text": [
      "Enter your age - 6\n",
      "NE\n",
      "Done!\n"
     ]
    }
   ],
   "source": [
    "# check whether a person is eligible to vote\n",
    "age = float(input(\"Enter your age - \")) \n",
    "\n",
    "if (age > 0)  and (age <= 120):\n",
    "    if age >= 18:\n",
    "        print(\"Eligible\")\n",
    "    else:\n",
    "        print(\"NE\")\n",
    "else:\n",
    "    print(\"Invalid Input\")\n",
    "    \n",
    "print(\"Done!\")"
   ]
  },
  {
   "cell_type": "code",
   "execution_count": null,
   "id": "17aee3ab",
   "metadata": {},
   "outputs": [],
   "source": [
    "# check whether a person is eligible for placement 0 - 30"
   ]
  },
  {
   "cell_type": "code",
   "execution_count": 172,
   "id": "6cb1ac5c",
   "metadata": {},
   "outputs": [
    {
     "name": "stdout",
     "output_type": "stream",
     "text": [
      "Enter your age - 22\n",
      "Eligible\n",
      "Done Checking!\n"
     ]
    }
   ],
   "source": [
    "# check whether a person is eligible to vote\n",
    "age = float(input(\"Enter your age - \")) \n",
    "\n",
    "if (age< 0) or (age >120):\n",
    "    print(\"Invalid Input\")\n",
    "elif age>= 18:\n",
    "    print(\"Eligible\")\n",
    "else:\n",
    "    print(\"NE\")\n",
    "    \n",
    "print(\"Done Checking!\")"
   ]
  },
  {
   "cell_type": "code",
   "execution_count": null,
   "id": "18cd4c3d",
   "metadata": {},
   "outputs": [],
   "source": [
    "# 1. Write a program to check whether a number is even or odd\n",
    "\n",
    "# 2. Write a program which will take input a num - 15\n",
    "# if num is div by 3 print div by 3\n",
    "# if the num is div by 5 print div by 5\n",
    "# if the num is div by 3 and 5 print div by 3 and 5 both\n",
    "\n",
    "# 3. Write a program to display the day of the week \n",
    "# 0 - sunday\n",
    "# 1 - Monday\n",
    "# 2 - Tuesday\n",
    "# 3 - Wednesday\n",
    "# 4 - Thursday\n",
    "# 5 - Friday\n",
    "# 6 - Saturday\n",
    "\n",
    "# 4. check whether a day is work day or holiday - 1-5 - \n",
    "# workday, 0,6 - holiday"
   ]
  },
  {
   "cell_type": "code",
   "execution_count": 177,
   "id": "10ed023b",
   "metadata": {},
   "outputs": [
    {
     "name": "stdout",
     "output_type": "stream",
     "text": [
      "Enter a num - 11\n",
      "odd\n"
     ]
    }
   ],
   "source": [
    "# 1. Write a program to check whether a number is even or odd\n",
    "num = int(input(\"Enter a num - \"))\n",
    "if num%2==0:\n",
    "    print(\"Even\")\n",
    "else:\n",
    "    print(\"odd\")"
   ]
  },
  {
   "cell_type": "code",
   "execution_count": 179,
   "id": "767de8ff",
   "metadata": {},
   "outputs": [
    {
     "name": "stdout",
     "output_type": "stream",
     "text": [
      "Enter a num - 10\n"
     ]
    },
    {
     "data": {
      "text/plain": [
       "'Even'"
      ]
     },
     "execution_count": 179,
     "metadata": {},
     "output_type": "execute_result"
    }
   ],
   "source": [
    "num = int(input(\"Enter a num - \"))\n",
    "\"Even\"  if num%2==0  else \"odd\""
   ]
  },
  {
   "cell_type": "code",
   "execution_count": 183,
   "id": "19823ab5",
   "metadata": {},
   "outputs": [
    {
     "name": "stdout",
     "output_type": "stream",
     "text": [
      "Enter a num - 15\n",
      "div by both 3 and 5\n"
     ]
    }
   ],
   "source": [
    "# 2. Write a program which will take input a num - 15\n",
    "# if num is div by 3 print div by 3\n",
    "# if the num is div by 5 print div by 5\n",
    "# if the num is div by 3 and 5 print div by 3 and 5 both\n",
    "num = int(input(\"Enter a num - \"))\n",
    "\n",
    "\n",
    "if num%3==0 and num%5==0:\n",
    "    print(\"div by both 3 and 5\")\n",
    "elif num%3==0:\n",
    "    print(\"Div by 3\")\n",
    "elif num%5==0:\n",
    "    print(\"Div by 5\")\n"
   ]
  },
  {
   "cell_type": "code",
   "execution_count": 186,
   "id": "5bffe120",
   "metadata": {},
   "outputs": [
    {
     "name": "stdout",
     "output_type": "stream",
     "text": [
      "Enter a num - 2\n",
      "Tuesday\n"
     ]
    }
   ],
   "source": [
    "# 3. Write a program to display the day of the week \n",
    "# 0 - sunday\n",
    "# 1 - Monday\n",
    "# 2 - Tuesday\n",
    "# 3 - Wednesday\n",
    "# 4 - Thursday\n",
    "# 5 - Friday\n",
    "# 6 - Saturday\n",
    "\n",
    "num  = int(input(\"Enter a num - \"))\n",
    "\n",
    "if num<0 or num>6:\n",
    "    print(\"Invalid\")\n",
    "elif num==0:\n",
    "    print(\"sunday\")\n",
    "elif num==1:\n",
    "    print(\"monday\")\n",
    "elif num==2:\n",
    "    print(\"Tuesday\")\n",
    "elif num==3:\n",
    "    print(\"Wednesday\")\n",
    "elif num==4:\n",
    "    print(\"Thursday\")\n",
    "elif num==5:\n",
    "    print(\"Friday\")\n",
    "elif num==6:\n",
    "    print(\"Saturday\")"
   ]
  },
  {
   "cell_type": "code",
   "execution_count": null,
   "id": "8fedef7a",
   "metadata": {},
   "outputs": [],
   "source": []
  },
  {
   "cell_type": "code",
   "execution_count": 27,
   "id": "945ebb3c",
   "metadata": {},
   "outputs": [
    {
     "name": "stdout",
     "output_type": "stream",
     "text": [
      "Enter a num - 5\n"
     ]
    },
    {
     "data": {
      "text/plain": [
       "'Workday'"
      ]
     },
     "execution_count": 27,
     "metadata": {},
     "output_type": "execute_result"
    }
   ],
   "source": [
    "# 4. check whether a day is work day or holiday - 1-5 - \n",
    "# workday, 0,6 - holiday\n",
    "num  = int(input(\"Enter a num - \"))\n",
    "\n",
    "\"Holiday\" if num==0 or num==6  else \"Workday\"\n"
   ]
  },
  {
   "cell_type": "code",
   "execution_count": 191,
   "id": "504ffdd5",
   "metadata": {},
   "outputs": [
    {
     "name": "stdout",
     "output_type": "stream",
     "text": [
      "Enter a num - 3\n",
      "Workday\n"
     ]
    }
   ],
   "source": [
    "num  = int(input(\"Enter a num - \"))\n",
    "if num<0 or num >6:\n",
    "    print(\"invalid\")\n",
    "elif num==0 or num==6:\n",
    "    print(\"Holiday\")\n",
    "else:\n",
    "    print(\"Workday\")"
   ]
  },
  {
   "cell_type": "code",
   "execution_count": 192,
   "id": "20748580",
   "metadata": {},
   "outputs": [
    {
     "name": "stdout",
     "output_type": "stream",
     "text": [
      "Even\n"
     ]
    }
   ],
   "source": [
    "num = 10\n",
    "if num%2==0:\n",
    "    print(\"Even\")\n",
    "else:\n",
    "    print(\"odd\")"
   ]
  },
  {
   "cell_type": "code",
   "execution_count": 193,
   "id": "157f5d81",
   "metadata": {},
   "outputs": [
    {
     "name": "stdout",
     "output_type": "stream",
     "text": [
      "Even\n"
     ]
    }
   ],
   "source": [
    "num = 110\n",
    "if num%2==0:\n",
    "    print(\"Even\")\n",
    "else:\n",
    "    print(\"odd\")"
   ]
  },
  {
   "cell_type": "code",
   "execution_count": 194,
   "id": "86c2b3f5",
   "metadata": {},
   "outputs": [
    {
     "name": "stdout",
     "output_type": "stream",
     "text": [
      "50\n"
     ]
    }
   ],
   "source": [
    "x = 10\n",
    "y = 40\n",
    "\n",
    "result = x + y\n",
    "print(result)"
   ]
  },
  {
   "cell_type": "code",
   "execution_count": 196,
   "id": "c05e3f1b",
   "metadata": {},
   "outputs": [
    {
     "name": "stdout",
     "output_type": "stream",
     "text": [
      "900\n"
     ]
    }
   ],
   "source": [
    "A = 400\n",
    "B = 500\n",
    "result = A+B\n",
    "print(result)"
   ]
  },
  {
   "cell_type": "code",
   "execution_count": 197,
   "id": "4ec5dc97",
   "metadata": {},
   "outputs": [],
   "source": [
    "def Add(x,y):  # function definition\n",
    "    result = x+y\n",
    "    print(result)"
   ]
  },
  {
   "cell_type": "code",
   "execution_count": 198,
   "id": "5cd9d7e0",
   "metadata": {},
   "outputs": [
    {
     "name": "stdout",
     "output_type": "stream",
     "text": [
      "50\n"
     ]
    }
   ],
   "source": [
    "# call\n",
    "Add(10,40)"
   ]
  },
  {
   "cell_type": "code",
   "execution_count": 199,
   "id": "57dbb705",
   "metadata": {},
   "outputs": [
    {
     "name": "stdout",
     "output_type": "stream",
     "text": [
      "1400\n"
     ]
    }
   ],
   "source": [
    "Add(500,900)"
   ]
  },
  {
   "cell_type": "code",
   "execution_count": 200,
   "id": "247700f0",
   "metadata": {},
   "outputs": [],
   "source": [
    "def EvenOdd(n):\n",
    "    if n%2==0:\n",
    "        print(\"Even\")\n",
    "    else:\n",
    "        print(\"odd\")"
   ]
  },
  {
   "cell_type": "code",
   "execution_count": 201,
   "id": "9dce51c5",
   "metadata": {},
   "outputs": [
    {
     "name": "stdout",
     "output_type": "stream",
     "text": [
      "Even\n"
     ]
    }
   ],
   "source": [
    "EvenOdd(90)"
   ]
  },
  {
   "cell_type": "code",
   "execution_count": 202,
   "id": "906db7ae",
   "metadata": {},
   "outputs": [
    {
     "name": "stdout",
     "output_type": "stream",
     "text": [
      "odd\n"
     ]
    }
   ],
   "source": [
    "EvenOdd(57)"
   ]
  },
  {
   "cell_type": "code",
   "execution_count": null,
   "id": "a097bde1",
   "metadata": {},
   "outputs": [],
   "source": []
  },
  {
   "cell_type": "code",
   "execution_count": null,
   "id": "92886603",
   "metadata": {},
   "outputs": [],
   "source": []
  },
  {
   "cell_type": "code",
   "execution_count": null,
   "id": "beae74c5",
   "metadata": {},
   "outputs": [],
   "source": []
  }
 ],
 "metadata": {
  "kernelspec": {
   "display_name": "Python 3 (ipykernel)",
   "language": "python",
   "name": "python3"
  },
  "language_info": {
   "codemirror_mode": {
    "name": "ipython",
    "version": 3
   },
   "file_extension": ".py",
   "mimetype": "text/x-python",
   "name": "python",
   "nbconvert_exporter": "python",
   "pygments_lexer": "ipython3",
   "version": "3.10.9"
  }
 },
 "nbformat": 4,
 "nbformat_minor": 5
}
