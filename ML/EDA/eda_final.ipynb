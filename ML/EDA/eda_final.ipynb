{
 "cells": [
  {
   "cell_type": "code",
   "execution_count": 2,
   "id": "ea2f4962",
   "metadata": {},
   "outputs": [],
   "source": [
    "df = sns.load_dataset('titanic')"
   ]
  },
  {
   "cell_type": "code",
   "execution_count": 3,
   "id": "a340c63c",
   "metadata": {},
   "outputs": [
    {
     "data": {
      "text/html": [
       "<div>\n",
       "<style scoped>\n",
       "    .dataframe tbody tr th:only-of-type {\n",
       "        vertical-align: middle;\n",
       "    }\n",
       "\n",
       "    .dataframe tbody tr th {\n",
       "        vertical-align: top;\n",
       "    }\n",
       "\n",
       "    .dataframe thead th {\n",
       "        text-align: right;\n",
       "    }\n",
       "</style>\n",
       "<table border=\"1\" class=\"dataframe\">\n",
       "  <thead>\n",
       "    <tr style=\"text-align: right;\">\n",
       "      <th></th>\n",
       "      <th>survived</th>\n",
       "      <th>pclass</th>\n",
       "      <th>sex</th>\n",
       "      <th>age</th>\n",
       "      <th>sibsp</th>\n",
       "      <th>parch</th>\n",
       "      <th>fare</th>\n",
       "      <th>embarked</th>\n",
       "      <th>class</th>\n",
       "      <th>who</th>\n",
       "      <th>adult_male</th>\n",
       "      <th>deck</th>\n",
       "      <th>embark_town</th>\n",
       "      <th>alive</th>\n",
       "      <th>alone</th>\n",
       "    </tr>\n",
       "  </thead>\n",
       "  <tbody>\n",
       "    <tr>\n",
       "      <th>0</th>\n",
       "      <td>0</td>\n",
       "      <td>3</td>\n",
       "      <td>male</td>\n",
       "      <td>22.0</td>\n",
       "      <td>1</td>\n",
       "      <td>0</td>\n",
       "      <td>7.2500</td>\n",
       "      <td>S</td>\n",
       "      <td>Third</td>\n",
       "      <td>man</td>\n",
       "      <td>True</td>\n",
       "      <td>NaN</td>\n",
       "      <td>Southampton</td>\n",
       "      <td>no</td>\n",
       "      <td>False</td>\n",
       "    </tr>\n",
       "    <tr>\n",
       "      <th>1</th>\n",
       "      <td>1</td>\n",
       "      <td>1</td>\n",
       "      <td>female</td>\n",
       "      <td>38.0</td>\n",
       "      <td>1</td>\n",
       "      <td>0</td>\n",
       "      <td>71.2833</td>\n",
       "      <td>C</td>\n",
       "      <td>First</td>\n",
       "      <td>woman</td>\n",
       "      <td>False</td>\n",
       "      <td>C</td>\n",
       "      <td>Cherbourg</td>\n",
       "      <td>yes</td>\n",
       "      <td>False</td>\n",
       "    </tr>\n",
       "    <tr>\n",
       "      <th>2</th>\n",
       "      <td>1</td>\n",
       "      <td>3</td>\n",
       "      <td>female</td>\n",
       "      <td>26.0</td>\n",
       "      <td>0</td>\n",
       "      <td>0</td>\n",
       "      <td>7.9250</td>\n",
       "      <td>S</td>\n",
       "      <td>Third</td>\n",
       "      <td>woman</td>\n",
       "      <td>False</td>\n",
       "      <td>NaN</td>\n",
       "      <td>Southampton</td>\n",
       "      <td>yes</td>\n",
       "      <td>True</td>\n",
       "    </tr>\n",
       "    <tr>\n",
       "      <th>3</th>\n",
       "      <td>1</td>\n",
       "      <td>1</td>\n",
       "      <td>female</td>\n",
       "      <td>35.0</td>\n",
       "      <td>1</td>\n",
       "      <td>0</td>\n",
       "      <td>53.1000</td>\n",
       "      <td>S</td>\n",
       "      <td>First</td>\n",
       "      <td>woman</td>\n",
       "      <td>False</td>\n",
       "      <td>C</td>\n",
       "      <td>Southampton</td>\n",
       "      <td>yes</td>\n",
       "      <td>False</td>\n",
       "    </tr>\n",
       "    <tr>\n",
       "      <th>4</th>\n",
       "      <td>0</td>\n",
       "      <td>3</td>\n",
       "      <td>male</td>\n",
       "      <td>35.0</td>\n",
       "      <td>0</td>\n",
       "      <td>0</td>\n",
       "      <td>8.0500</td>\n",
       "      <td>S</td>\n",
       "      <td>Third</td>\n",
       "      <td>man</td>\n",
       "      <td>True</td>\n",
       "      <td>NaN</td>\n",
       "      <td>Southampton</td>\n",
       "      <td>no</td>\n",
       "      <td>True</td>\n",
       "    </tr>\n",
       "    <tr>\n",
       "      <th>...</th>\n",
       "      <td>...</td>\n",
       "      <td>...</td>\n",
       "      <td>...</td>\n",
       "      <td>...</td>\n",
       "      <td>...</td>\n",
       "      <td>...</td>\n",
       "      <td>...</td>\n",
       "      <td>...</td>\n",
       "      <td>...</td>\n",
       "      <td>...</td>\n",
       "      <td>...</td>\n",
       "      <td>...</td>\n",
       "      <td>...</td>\n",
       "      <td>...</td>\n",
       "      <td>...</td>\n",
       "    </tr>\n",
       "    <tr>\n",
       "      <th>886</th>\n",
       "      <td>0</td>\n",
       "      <td>2</td>\n",
       "      <td>male</td>\n",
       "      <td>27.0</td>\n",
       "      <td>0</td>\n",
       "      <td>0</td>\n",
       "      <td>13.0000</td>\n",
       "      <td>S</td>\n",
       "      <td>Second</td>\n",
       "      <td>man</td>\n",
       "      <td>True</td>\n",
       "      <td>NaN</td>\n",
       "      <td>Southampton</td>\n",
       "      <td>no</td>\n",
       "      <td>True</td>\n",
       "    </tr>\n",
       "    <tr>\n",
       "      <th>887</th>\n",
       "      <td>1</td>\n",
       "      <td>1</td>\n",
       "      <td>female</td>\n",
       "      <td>19.0</td>\n",
       "      <td>0</td>\n",
       "      <td>0</td>\n",
       "      <td>30.0000</td>\n",
       "      <td>S</td>\n",
       "      <td>First</td>\n",
       "      <td>woman</td>\n",
       "      <td>False</td>\n",
       "      <td>B</td>\n",
       "      <td>Southampton</td>\n",
       "      <td>yes</td>\n",
       "      <td>True</td>\n",
       "    </tr>\n",
       "    <tr>\n",
       "      <th>888</th>\n",
       "      <td>0</td>\n",
       "      <td>3</td>\n",
       "      <td>female</td>\n",
       "      <td>NaN</td>\n",
       "      <td>1</td>\n",
       "      <td>2</td>\n",
       "      <td>23.4500</td>\n",
       "      <td>S</td>\n",
       "      <td>Third</td>\n",
       "      <td>woman</td>\n",
       "      <td>False</td>\n",
       "      <td>NaN</td>\n",
       "      <td>Southampton</td>\n",
       "      <td>no</td>\n",
       "      <td>False</td>\n",
       "    </tr>\n",
       "    <tr>\n",
       "      <th>889</th>\n",
       "      <td>1</td>\n",
       "      <td>1</td>\n",
       "      <td>male</td>\n",
       "      <td>26.0</td>\n",
       "      <td>0</td>\n",
       "      <td>0</td>\n",
       "      <td>30.0000</td>\n",
       "      <td>C</td>\n",
       "      <td>First</td>\n",
       "      <td>man</td>\n",
       "      <td>True</td>\n",
       "      <td>C</td>\n",
       "      <td>Cherbourg</td>\n",
       "      <td>yes</td>\n",
       "      <td>True</td>\n",
       "    </tr>\n",
       "    <tr>\n",
       "      <th>890</th>\n",
       "      <td>0</td>\n",
       "      <td>3</td>\n",
       "      <td>male</td>\n",
       "      <td>32.0</td>\n",
       "      <td>0</td>\n",
       "      <td>0</td>\n",
       "      <td>7.7500</td>\n",
       "      <td>Q</td>\n",
       "      <td>Third</td>\n",
       "      <td>man</td>\n",
       "      <td>True</td>\n",
       "      <td>NaN</td>\n",
       "      <td>Queenstown</td>\n",
       "      <td>no</td>\n",
       "      <td>True</td>\n",
       "    </tr>\n",
       "  </tbody>\n",
       "</table>\n",
       "<p>891 rows × 15 columns</p>\n",
       "</div>"
      ],
      "text/plain": [
       "     survived  pclass     sex   age  sibsp  parch     fare embarked   class  \\\n",
       "0           0       3    male  22.0      1      0   7.2500        S   Third   \n",
       "1           1       1  female  38.0      1      0  71.2833        C   First   \n",
       "2           1       3  female  26.0      0      0   7.9250        S   Third   \n",
       "3           1       1  female  35.0      1      0  53.1000        S   First   \n",
       "4           0       3    male  35.0      0      0   8.0500        S   Third   \n",
       "..        ...     ...     ...   ...    ...    ...      ...      ...     ...   \n",
       "886         0       2    male  27.0      0      0  13.0000        S  Second   \n",
       "887         1       1  female  19.0      0      0  30.0000        S   First   \n",
       "888         0       3  female   NaN      1      2  23.4500        S   Third   \n",
       "889         1       1    male  26.0      0      0  30.0000        C   First   \n",
       "890         0       3    male  32.0      0      0   7.7500        Q   Third   \n",
       "\n",
       "       who  adult_male deck  embark_town alive  alone  \n",
       "0      man        True  NaN  Southampton    no  False  \n",
       "1    woman       False    C    Cherbourg   yes  False  \n",
       "2    woman       False  NaN  Southampton   yes   True  \n",
       "3    woman       False    C  Southampton   yes  False  \n",
       "4      man        True  NaN  Southampton    no   True  \n",
       "..     ...         ...  ...          ...   ...    ...  \n",
       "886    man        True  NaN  Southampton    no   True  \n",
       "887  woman       False    B  Southampton   yes   True  \n",
       "888  woman       False  NaN  Southampton    no  False  \n",
       "889    man        True    C    Cherbourg   yes   True  \n",
       "890    man        True  NaN   Queenstown    no   True  \n",
       "\n",
       "[891 rows x 15 columns]"
      ]
     },
     "execution_count": 3,
     "metadata": {},
     "output_type": "execute_result"
    }
   ],
   "source": [
    "df"
   ]
  },
  {
   "cell_type": "code",
   "execution_count": 6,
   "id": "eb1268f4",
   "metadata": {},
   "outputs": [
    {
     "data": {
      "text/plain": [
       "0.09606669176903887"
      ]
     },
     "execution_count": 6,
     "metadata": {},
     "output_type": "execute_result"
    }
   ],
   "source": [
    "sa"
   ]
  },
  {
   "cell_type": "code",
   "execution_count": null,
   "id": "06224fa7",
   "metadata": {},
   "outputs": [],
   "source": []
  },
  {
   "cell_type": "code",
   "execution_count": 1,
   "id": "f4ed6fb3",
   "metadata": {},
   "outputs": [],
   "source": [
    "import pandas as pd\n",
    "import numpy as np\n",
    "import matplotlib.pyplot as plt\n",
    "import seaborn as sns\n",
    "import re"
   ]
  },
  {
   "cell_type": "code",
   "execution_count": 2,
   "id": "05b10024",
   "metadata": {},
   "outputs": [],
   "source": [
    "import warnings\n",
    "warnings.filterwarnings('ignore')"
   ]
  },
  {
   "cell_type": "code",
   "execution_count": 3,
   "id": "2dc18900",
   "metadata": {},
   "outputs": [],
   "source": [
    "plt.rcParams['figure.figsize'] = [15,8]\n",
    "pd.set_option('display.max_columns', 50)"
   ]
  },
  {
   "cell_type": "code",
   "execution_count": 165,
   "id": "bbe78cf5",
   "metadata": {},
   "outputs": [
    {
     "data": {
      "text/html": [
       "<div>\n",
       "<style scoped>\n",
       "    .dataframe tbody tr th:only-of-type {\n",
       "        vertical-align: middle;\n",
       "    }\n",
       "\n",
       "    .dataframe tbody tr th {\n",
       "        vertical-align: top;\n",
       "    }\n",
       "\n",
       "    .dataframe thead th {\n",
       "        text-align: right;\n",
       "    }\n",
       "</style>\n",
       "<table border=\"1\" class=\"dataframe\">\n",
       "  <thead>\n",
       "    <tr style=\"text-align: right;\">\n",
       "      <th></th>\n",
       "      <th>App</th>\n",
       "      <th>Category</th>\n",
       "      <th>Rating</th>\n",
       "      <th>Reviews</th>\n",
       "      <th>Size</th>\n",
       "      <th>Installs</th>\n",
       "      <th>Type</th>\n",
       "      <th>Price</th>\n",
       "      <th>Content Rating</th>\n",
       "      <th>Genres</th>\n",
       "      <th>Last Updated</th>\n",
       "      <th>Current Ver</th>\n",
       "      <th>Android Ver</th>\n",
       "    </tr>\n",
       "  </thead>\n",
       "  <tbody>\n",
       "    <tr>\n",
       "      <th>0</th>\n",
       "      <td>Photo Editor &amp; Candy Camera &amp; Grid &amp; ScrapBook</td>\n",
       "      <td>ART_AND_DESIGN</td>\n",
       "      <td>4.1</td>\n",
       "      <td>159</td>\n",
       "      <td>19M</td>\n",
       "      <td>10,000+</td>\n",
       "      <td>Free</td>\n",
       "      <td>0</td>\n",
       "      <td>Everyone</td>\n",
       "      <td>Art &amp; Design</td>\n",
       "      <td>January 7, 2018</td>\n",
       "      <td>1.0.0</td>\n",
       "      <td>4.0.3 and up</td>\n",
       "    </tr>\n",
       "    <tr>\n",
       "      <th>1</th>\n",
       "      <td>Coloring book moana</td>\n",
       "      <td>ART_AND_DESIGN</td>\n",
       "      <td>3.9</td>\n",
       "      <td>967</td>\n",
       "      <td>14M</td>\n",
       "      <td>500,000+</td>\n",
       "      <td>Free</td>\n",
       "      <td>0</td>\n",
       "      <td>Everyone</td>\n",
       "      <td>Art &amp; Design;Pretend Play</td>\n",
       "      <td>January 15, 2018</td>\n",
       "      <td>2.0.0</td>\n",
       "      <td>4.0.3 and up</td>\n",
       "    </tr>\n",
       "    <tr>\n",
       "      <th>2</th>\n",
       "      <td>U Launcher Lite – FREE Live Cool Themes, Hide ...</td>\n",
       "      <td>ART_AND_DESIGN</td>\n",
       "      <td>4.7</td>\n",
       "      <td>87510</td>\n",
       "      <td>8.7M</td>\n",
       "      <td>5,000,000+</td>\n",
       "      <td>Free</td>\n",
       "      <td>0</td>\n",
       "      <td>Everyone</td>\n",
       "      <td>Art &amp; Design</td>\n",
       "      <td>August 1, 2018</td>\n",
       "      <td>1.2.4</td>\n",
       "      <td>4.0.3 and up</td>\n",
       "    </tr>\n",
       "    <tr>\n",
       "      <th>3</th>\n",
       "      <td>Sketch - Draw &amp; Paint</td>\n",
       "      <td>ART_AND_DESIGN</td>\n",
       "      <td>4.5</td>\n",
       "      <td>215644</td>\n",
       "      <td>25M</td>\n",
       "      <td>50,000,000+</td>\n",
       "      <td>Free</td>\n",
       "      <td>0</td>\n",
       "      <td>Teen</td>\n",
       "      <td>Art &amp; Design</td>\n",
       "      <td>June 8, 2018</td>\n",
       "      <td>Varies with device</td>\n",
       "      <td>4.2 and up</td>\n",
       "    </tr>\n",
       "    <tr>\n",
       "      <th>4</th>\n",
       "      <td>Pixel Draw - Number Art Coloring Book</td>\n",
       "      <td>ART_AND_DESIGN</td>\n",
       "      <td>4.3</td>\n",
       "      <td>967</td>\n",
       "      <td>2.8M</td>\n",
       "      <td>100,000+</td>\n",
       "      <td>Free</td>\n",
       "      <td>0</td>\n",
       "      <td>Everyone</td>\n",
       "      <td>Art &amp; Design;Creativity</td>\n",
       "      <td>June 20, 2018</td>\n",
       "      <td>1.1</td>\n",
       "      <td>4.4 and up</td>\n",
       "    </tr>\n",
       "  </tbody>\n",
       "</table>\n",
       "</div>"
      ],
      "text/plain": [
       "                                                 App        Category  Rating  \\\n",
       "0     Photo Editor & Candy Camera & Grid & ScrapBook  ART_AND_DESIGN     4.1   \n",
       "1                                Coloring book moana  ART_AND_DESIGN     3.9   \n",
       "2  U Launcher Lite – FREE Live Cool Themes, Hide ...  ART_AND_DESIGN     4.7   \n",
       "3                              Sketch - Draw & Paint  ART_AND_DESIGN     4.5   \n",
       "4              Pixel Draw - Number Art Coloring Book  ART_AND_DESIGN     4.3   \n",
       "\n",
       "  Reviews  Size     Installs  Type Price Content Rating  \\\n",
       "0     159   19M      10,000+  Free     0       Everyone   \n",
       "1     967   14M     500,000+  Free     0       Everyone   \n",
       "2   87510  8.7M   5,000,000+  Free     0       Everyone   \n",
       "3  215644   25M  50,000,000+  Free     0           Teen   \n",
       "4     967  2.8M     100,000+  Free     0       Everyone   \n",
       "\n",
       "                      Genres      Last Updated         Current Ver  \\\n",
       "0               Art & Design   January 7, 2018               1.0.0   \n",
       "1  Art & Design;Pretend Play  January 15, 2018               2.0.0   \n",
       "2               Art & Design    August 1, 2018               1.2.4   \n",
       "3               Art & Design      June 8, 2018  Varies with device   \n",
       "4    Art & Design;Creativity     June 20, 2018                 1.1   \n",
       "\n",
       "    Android Ver  \n",
       "0  4.0.3 and up  \n",
       "1  4.0.3 and up  \n",
       "2  4.0.3 and up  \n",
       "3    4.2 and up  \n",
       "4    4.4 and up  "
      ]
     },
     "execution_count": 165,
     "metadata": {},
     "output_type": "execute_result"
    }
   ],
   "source": [
    "import pandas as pd\n",
    "\n",
    "import csv\n",
    "\n",
    "with open(\"data_set.csv\",\"r\") as file:\n",
    "\n",
    "    reader=csv.reader(file) \n",
    "    df=pd.read_csv(\"data_set.csv\")\n",
    "\n",
    "df.head()"
   ]
  },
  {
   "cell_type": "markdown",
   "id": "c3ba6d0a",
   "metadata": {},
   "source": [
    "# SECTION A: 20 MARKS"
   ]
  },
  {
   "cell_type": "markdown",
   "id": "e92c9922",
   "metadata": {},
   "source": [
    "### 1. Explain the different encoding techniques.  (8 Marks)"
   ]
  },
  {
   "cell_type": "code",
   "execution_count": 166,
   "id": "ab2d438f",
   "metadata": {},
   "outputs": [],
   "source": [
    "# Encoding Techniques are used to convert the categorical column into numeric columns.\n",
    "# There are different encoding echniques used for different categorical columns based on the different scenario.\n",
    "\n",
    "# For various different columns like ordinal, nominal, binom we will be using follwoing different encoding techniques accordingly.\n",
    "\n",
    "#One hot encoding\n",
    "from sklearn.preprocessing import OneHotEncoder\n",
    "# ohe = OneHotEncoder()\n",
    "# df['col_name'] = ohe.fit_transform(df['FatContent'])\n",
    "\n",
    "#Ordinal encoding\n",
    "from sklearn.preprocessing import OrdinalEncoder\n",
    "# oe = OrdinalEncoder(categories = [['Small','Medium','High']])\n",
    "# df['col_name'] = oe.fit_transform(df[['col_name']])\n",
    "\n",
    "#Label Encoding\n",
    "from sklearn.preprocessing import LabelEncoder\n",
    "# le = LabelEncoder()\n",
    "# df['col_name'] = le.fit_transform(df['col_name'])\n",
    "\n",
    "# Dummy ENCODING\n",
    "# df1 = pd.getdummies(df['col'], drop_first = True)\n",
    "\n",
    "#Target Encoding\n",
    "# from category.encoders import TargetEncoder\n",
    "# te = TargetEncoder()\n",
    "# df['col_name'] = te.fit_transform(df['col_name'])\n",
    "\n",
    "#Frequency Encoding\n",
    "# freq = df_cat.groupby('class').size()/len(df_cat)\n",
    "# df_cat['class_freq'] = df_cat['class'].map(freq)\n",
    "\n",
    "# Instead of the above mentioned encoding techniques we can also consoder simple replace method from\n",
    "# the dataframe builin method if we knwo what weightage should be given.\n",
    "\n",
    "# df['col_name'].replace({'Value 1':3,'Value 2':2, 'Value 3':1}, inplace = True)"
   ]
  },
  {
   "cell_type": "markdown",
   "id": "cb12c51d",
   "metadata": {},
   "source": [
    "### 2. Read the App store dataset and answer the questions below\n",
    "  \n",
    " A) Display the categorical and Numerical columns? (1 Marks)\n",
    "  \n",
    " B) Check if there any mismatch in the data values and the Data type of the column. Convert the columns in other datatype if required (2 Marks)\n",
    " \n",
    " C) Extract the year from the Last_updated column into Last_updated_year and drop the Last_updated (2 Marks)\n",
    " \n",
    " D) Drop the reduntant / unwanted columns from the dataframe (2 Marks)\n",
    " \n",
    "\n"
   ]
  },
  {
   "cell_type": "code",
   "execution_count": 167,
   "id": "165b377b",
   "metadata": {},
   "outputs": [
    {
     "name": "stdout",
     "output_type": "stream",
     "text": [
      "Numeric : Index(['Rating'], dtype='object')\n",
      "\n",
      "Categoric : Index(['App', 'Category', 'Reviews', 'Size', 'Installs', 'Type', 'Price',\n",
      "       'Content Rating', 'Genres', 'Last Updated', 'Current Ver',\n",
      "       'Android Ver'],\n",
      "      dtype='object')\n"
     ]
    }
   ],
   "source": [
    "# 2.A) Display the categorical and Numerical columns\n",
    "\n",
    "num_cols = df.select_dtypes(include = np.number)\n",
    "cat_cols = df.select_dtypes(exclude = np.number)\n",
    "\n",
    "print('Numeric :',num_cols.columns)\n",
    "print('\\nCategoric :',cat_cols.columns)"
   ]
  },
  {
   "cell_type": "code",
   "execution_count": 168,
   "id": "5e87e19e",
   "metadata": {},
   "outputs": [],
   "source": [
    "# 2.B) B) Check if there any mismatch in the data values and the Data type of the column. \n",
    "#         Convert the columns in other datatype if required (2 Marks)\n",
    "\n",
    "#Yes there is mismatch between the data types and data values in few columns.\n",
    "# column review is of type float but it is object\n",
    "# column current ver can also be converted into float but it is object\n",
    "# columns install can be converted into int or float if we remove the + sign and 'Free' value.\n",
    "\n",
    "df['Reviews'] = df['Reviews'].str.extract(r'(\\d+\\.?)', expand = False).astype(float)"
   ]
  },
  {
   "cell_type": "raw",
   "id": "1deb7085",
   "metadata": {},
   "source": [
    "# C) Extract the year from the Last_updated column into Last_updated_year and drop the Last_updated (2 Marks)\n",
    "\n",
    "df['Last Updated'] = df['Last Updated'].apply(lambda x: [i for i in x.split(',')])\n",
    "df['Last Updated'] = df['Last Updated'].apply(lambda x:x[-1])\n"
   ]
  },
  {
   "cell_type": "code",
   "execution_count": 170,
   "id": "f90fa413",
   "metadata": {},
   "outputs": [],
   "source": [
    "df.rename(columns = {'Last Updated':'Last_updated_year'}, inplace = True)"
   ]
  },
  {
   "cell_type": "code",
   "execution_count": 171,
   "id": "36edff12",
   "metadata": {},
   "outputs": [
    {
     "data": {
      "text/plain": [
       "Index(['App', 'Category', 'Rating', 'Reviews', 'Size', 'Installs', 'Type',\n",
       "       'Price', 'Content Rating', 'Genres', 'Last_updated_year', 'Current Ver',\n",
       "       'Android Ver'],\n",
       "      dtype='object')"
      ]
     },
     "execution_count": 171,
     "metadata": {},
     "output_type": "execute_result"
    }
   ],
   "source": [
    "df.columns"
   ]
  },
  {
   "cell_type": "code",
   "execution_count": 173,
   "id": "00100fe3",
   "metadata": {},
   "outputs": [
    {
     "data": {
      "text/html": [
       "<div>\n",
       "<style scoped>\n",
       "    .dataframe tbody tr th:only-of-type {\n",
       "        vertical-align: middle;\n",
       "    }\n",
       "\n",
       "    .dataframe tbody tr th {\n",
       "        vertical-align: top;\n",
       "    }\n",
       "\n",
       "    .dataframe thead th {\n",
       "        text-align: right;\n",
       "    }\n",
       "</style>\n",
       "<table border=\"1\" class=\"dataframe\">\n",
       "  <thead>\n",
       "    <tr style=\"text-align: right;\">\n",
       "      <th></th>\n",
       "      <th>App</th>\n",
       "      <th>Category</th>\n",
       "      <th>Rating</th>\n",
       "      <th>Reviews</th>\n",
       "      <th>Size</th>\n",
       "      <th>Installs</th>\n",
       "      <th>Type</th>\n",
       "      <th>Price</th>\n",
       "      <th>Content Rating</th>\n",
       "      <th>Genres</th>\n",
       "      <th>Last_updated_year</th>\n",
       "      <th>Current Ver</th>\n",
       "      <th>Android Ver</th>\n",
       "    </tr>\n",
       "  </thead>\n",
       "  <tbody>\n",
       "    <tr>\n",
       "      <th>0</th>\n",
       "      <td>Photo Editor &amp; Candy Camera &amp; Grid &amp; ScrapBook</td>\n",
       "      <td>ART_AND_DESIGN</td>\n",
       "      <td>4.1</td>\n",
       "      <td>159.0</td>\n",
       "      <td>19M</td>\n",
       "      <td>10,000+</td>\n",
       "      <td>Free</td>\n",
       "      <td>0</td>\n",
       "      <td>Everyone</td>\n",
       "      <td>Art &amp; Design</td>\n",
       "      <td>2018</td>\n",
       "      <td>1.0.0</td>\n",
       "      <td>4.0.3 and up</td>\n",
       "    </tr>\n",
       "    <tr>\n",
       "      <th>1</th>\n",
       "      <td>Coloring book moana</td>\n",
       "      <td>ART_AND_DESIGN</td>\n",
       "      <td>3.9</td>\n",
       "      <td>967.0</td>\n",
       "      <td>14M</td>\n",
       "      <td>500,000+</td>\n",
       "      <td>Free</td>\n",
       "      <td>0</td>\n",
       "      <td>Everyone</td>\n",
       "      <td>Art &amp; Design;Pretend Play</td>\n",
       "      <td>2018</td>\n",
       "      <td>2.0.0</td>\n",
       "      <td>4.0.3 and up</td>\n",
       "    </tr>\n",
       "  </tbody>\n",
       "</table>\n",
       "</div>"
      ],
      "text/plain": [
       "                                              App        Category  Rating  \\\n",
       "0  Photo Editor & Candy Camera & Grid & ScrapBook  ART_AND_DESIGN     4.1   \n",
       "1                             Coloring book moana  ART_AND_DESIGN     3.9   \n",
       "\n",
       "   Reviews Size  Installs  Type Price Content Rating  \\\n",
       "0    159.0  19M   10,000+  Free     0       Everyone   \n",
       "1    967.0  14M  500,000+  Free     0       Everyone   \n",
       "\n",
       "                      Genres Last_updated_year Current Ver   Android Ver  \n",
       "0               Art & Design              2018       1.0.0  4.0.3 and up  \n",
       "1  Art & Design;Pretend Play              2018       2.0.0  4.0.3 and up  "
      ]
     },
     "execution_count": 173,
     "metadata": {},
     "output_type": "execute_result"
    }
   ],
   "source": [
    "# D) Drop the reduntant / unwanted columns from the dataframe (2 Marks)\n",
    "# As of now i am not dropping any columns from the given data set."
   ]
  },
  {
   "cell_type": "markdown",
   "id": "51d5ea9e",
   "metadata": {},
   "source": [
    "### 3. Read the App store dataset and answer the questions below\n",
    "\n",
    " A) Display the % of missing values in each column.(1 marks)\n",
    " \n",
    " B) Remove $ from the price column (2 marks )\n",
    "\n",
    " C) Fill the null values in price and rating using appropriate method (2 Marks)\n",
    " \n",
    " "
   ]
  },
  {
   "cell_type": "code",
   "execution_count": 174,
   "id": "0c614b4c",
   "metadata": {},
   "outputs": [
    {
     "data": {
      "text/plain": [
       "App                   0.000000\n",
       "Category              0.000000\n",
       "Rating               13.596532\n",
       "Reviews               0.000000\n",
       "Size                  0.000000\n",
       "Installs              0.000000\n",
       "Type                  0.009224\n",
       "Price                 0.000000\n",
       "Content Rating        0.009224\n",
       "Genres                0.000000\n",
       "Last_updated_year     0.000000\n",
       "Current Ver           0.073794\n",
       "Android Ver           0.027673\n",
       "dtype: float64"
      ]
     },
     "execution_count": 174,
     "metadata": {},
     "output_type": "execute_result"
    }
   ],
   "source": [
    "# A) Display the % of missing values in each column\n",
    "\n",
    "df.isnull().sum()/df.shape[0]*100"
   ]
  },
  {
   "cell_type": "code",
   "execution_count": 175,
   "id": "222d02e7",
   "metadata": {},
   "outputs": [],
   "source": [
    "# B) Remove $ from the price column (2 marks)\n",
    "\n",
    "df['Price'] = df['Price'].str.replace('$','')"
   ]
  },
  {
   "cell_type": "code",
   "execution_count": 152,
   "id": "2529e03a",
   "metadata": {},
   "outputs": [],
   "source": [
    "# C) Fill the null values in price and rating using appropriate method (2 Marks)"
   ]
  },
  {
   "cell_type": "code",
   "execution_count": 176,
   "id": "c0599241",
   "metadata": {},
   "outputs": [],
   "source": [
    "df['Price'] = df['Price'].replace('Everyone', 0).astype(float)\n",
    "df['Price'] = df['Price'].fillna(df['Price'].median())"
   ]
  },
  {
   "cell_type": "code",
   "execution_count": 154,
   "id": "40397e4c",
   "metadata": {},
   "outputs": [
    {
     "name": "stdout",
     "output_type": "stream",
     "text": [
      "<class 'pandas.core.frame.DataFrame'>\n",
      "RangeIndex: 10841 entries, 0 to 10840\n",
      "Data columns (total 14 columns):\n",
      " #   Column             Non-Null Count  Dtype  \n",
      "---  ------             --------------  -----  \n",
      " 0   App                10841 non-null  object \n",
      " 1   Category           10841 non-null  object \n",
      " 2   Rating             9367 non-null   float64\n",
      " 3   Reviews            10841 non-null  object \n",
      " 4   Size               10841 non-null  object \n",
      " 5   Installs           10841 non-null  object \n",
      " 6   Type               10840 non-null  object \n",
      " 7   Price              10841 non-null  float64\n",
      " 8   Content Rating     10840 non-null  object \n",
      " 9   Genres             10841 non-null  object \n",
      " 10  Last_updated_year  10841 non-null  object \n",
      " 11  Current Ver        10833 non-null  object \n",
      " 12  Android Ver        10838 non-null  object \n",
      " 13  Review             10841 non-null  float64\n",
      "dtypes: float64(3), object(11)\n",
      "memory usage: 1.2+ MB\n"
     ]
    }
   ],
   "source": [
    "df.info()"
   ]
  },
  {
   "cell_type": "code",
   "execution_count": 177,
   "id": "8d62f0b4",
   "metadata": {},
   "outputs": [],
   "source": [
    "df['Rating'] = df['Rating'].fillna(df['Rating'].median())"
   ]
  },
  {
   "cell_type": "code",
   "execution_count": null,
   "id": "0e3634af",
   "metadata": {},
   "outputs": [],
   "source": []
  },
  {
   "cell_type": "code",
   "execution_count": null,
   "id": "d8700762",
   "metadata": {},
   "outputs": [],
   "source": []
  },
  {
   "cell_type": "code",
   "execution_count": null,
   "id": "f1ec200b",
   "metadata": {},
   "outputs": [],
   "source": []
  },
  {
   "cell_type": "code",
   "execution_count": null,
   "id": "977dcdcc",
   "metadata": {},
   "outputs": [],
   "source": []
  },
  {
   "cell_type": "markdown",
   "id": "1d6a9a32",
   "metadata": {},
   "source": [
    "# SECTION B: 20 MARKS  (Explain with appropriate plots)"
   ]
  },
  {
   "cell_type": "markdown",
   "id": "74482194",
   "metadata": {},
   "source": [
    "A) What is the distrubution of ratings explain with a plot? (2 Marks)\n",
    "\n",
    "B) Which categories had the most installations? (4 Marks)\n",
    "\n",
    "C) What are the percentage of free and paid apps ? (2 Marks)\n",
    "\n",
    "D) Does category correlate with rating? (2 Marks)\n",
    "\n",
    "E) What are the number of installations based on the type of the app ? (3 Marks)\n",
    "\n",
    "F) Does Number of reviews affect Rating ? (2 Marks)\n",
    "\n",
    "G) How does content rating affect number of installations? (3 Marks)\n",
    "\n",
    "H) Plot the distribution of number of reviews (2 Marks)\n"
   ]
  },
  {
   "cell_type": "code",
   "execution_count": 178,
   "id": "fd7a2a7f",
   "metadata": {},
   "outputs": [
    {
     "data": {
      "image/png": "[encoded data removed]",
      "text/plain": [
       "<Figure size 1080x576 with 1 Axes>"
      ]
     },
     "metadata": {
      "needs_background": "light"
     },
     "output_type": "display_data"
    }
   ],
   "source": [
    "# A) What is the distrubution of ratings explain with a plot? (2 Marks)\n",
    "\n",
    "sns.distplot(df['Rating'])\n",
    "plt.title('Rating')\n",
    "plt.show()\n",
    "\n",
    "#Inference\n",
    "# The distibution clearly states that the graph is right skewed."
   ]
  },
  {
   "cell_type": "code",
   "execution_count": 195,
   "id": "e0adae78",
   "metadata": {},
   "outputs": [
    {
     "data": {
      "image/png": "[encoded data removed]",
      "text/plain": [
       "<Figure size 1080x576 with 1 Axes>"
      ]
     },
     "metadata": {
      "needs_background": "light"
     },
     "output_type": "display_data"
    }
   ],
   "source": [
    "# B) Which categories had the most installations? (4 Marks)\n",
    "\n",
    "df1 = pd.DataFrame(df.groupby('Category')['Installs'].count().sort_values(ascending = False))\n",
    "df1.plot(kind = 'bar')\n",
    "plt.show()\n",
    "\n",
    "# Inference\n",
    "# The Graph clearly statses that the category Family has most number of installations."
   ]
  },
  {
   "cell_type": "code",
   "execution_count": 206,
   "id": "b2af38c6",
   "metadata": {},
   "outputs": [
    {
     "data": {
      "text/plain": [
       "<matplotlib.axes._subplots.AxesSubplot at 0x7f0a756df438>"
      ]
     },
     "execution_count": 206,
     "metadata": {},
     "output_type": "execute_result"
    },
    {
     "data": {
      "image/png": "[encoded data removed]",
      "text/plain": [
       "<Figure size 1080x576 with 1 Axes>"
      ]
     },
     "metadata": {},
     "output_type": "display_data"
    }
   ],
   "source": [
    "# C) What are the percentage of free and paid apps ? (2 Marks)\n",
    "df.head(1)\n",
    "df['Type'] = df['Type'].replace('0', 'Free')\n",
    "(df['Type'].value_counts(normalize = True)*100).plot(kind = 'pie', autopct = \"%.2f%%\")\n",
    "\n",
    "#Inference:\n",
    "# The percentage of paid is 7.38%\n",
    "# The percentage of Free is 92.62%"
   ]
  },
  {
   "cell_type": "code",
   "execution_count": 209,
   "id": "c5432111",
   "metadata": {},
   "outputs": [
    {
     "data": {
      "image/png": "[encoded data removed]",
      "text/plain": [
       "<Figure size 1080x576 with 1 Axes>"
      ]
     },
     "metadata": {
      "needs_background": "light"
     },
     "output_type": "display_data"
    }
   ],
   "source": [
    "# D) Does category correlate with rating? (2 Marks)\n",
    "\n",
    "sns.barplot(df['Category'], df['Rating'])\n",
    "plt.xticks(rotation = 90)\n",
    "plt.show()"
   ]
  },
  {
   "cell_type": "code",
   "execution_count": 228,
   "id": "43d63509",
   "metadata": {},
   "outputs": [
    {
     "data": {
      "image/png": "[encoded data removed]",
      "text/plain": [
       "<Figure size 1080x576 with 1 Axes>"
      ]
     },
     "metadata": {
      "needs_background": "light"
     },
     "output_type": "display_data"
    }
   ],
   "source": [
    "# E) What are the number of installations based on the type of the app ? (3 Marks)\n",
    "\n",
    "df2 = pd.DataFrame(df.groupby('Type')['Installs'].count().sort_values(ascending = False))\n",
    "df2.plot(kind = 'bar')\n",
    "plt.show()\n",
    "\n",
    "#Inference\n",
    "# The free app seems to be isntalled more times (10048) than the paid one."
   ]
  },
  {
   "cell_type": "code",
   "execution_count": 235,
   "id": "83005faa",
   "metadata": {},
   "outputs": [
    {
     "data": {
      "image/png": "[encoded data removed]",
      "text/plain": [
       "<Figure size 1080x576 with 1 Axes>"
      ]
     },
     "metadata": {
      "needs_background": "light"
     },
     "output_type": "display_data"
    }
   ],
   "source": [
    "# F) Does Number of reviews affect Rating ? (2 Marks)\n",
    "\n",
    "sns.scatterplot(df['Rating'], df['Reviews'])\n",
    "plt.show()\n",
    "\n",
    "#Inference:\n",
    "# Most of the ratings from 3 to 5 is based on the reviews given in the first few times between 0 and 1."
   ]
  },
  {
   "cell_type": "code",
   "execution_count": 218,
   "id": "cd4d5eab",
   "metadata": {},
   "outputs": [
    {
     "data": {
      "image/png": "[encoded data removed]",
      "text/plain": [
       "<Figure size 1080x576 with 1 Axes>"
      ]
     },
     "metadata": {
      "needs_background": "light"
     },
     "output_type": "display_data"
    }
   ],
   "source": [
    "# G) How does content rating affect number of installations? (3 Marks)\n",
    "\n",
    "df3 = pd.DataFrame(df.groupby('Content Rating')['Installs'].count().sort_values(ascending = False))\n",
    "df3.plot(kind = 'bar')\n",
    "plt.show()"
   ]
  },
  {
   "cell_type": "code",
   "execution_count": 224,
   "id": "afa941f1",
   "metadata": {},
   "outputs": [
    {
     "data": {
      "image/png": "[encoded data removed]",
      "text/plain": [
       "<Figure size 1080x576 with 1 Axes>"
      ]
     },
     "metadata": {
      "needs_background": "light"
     },
     "output_type": "display_data"
    }
   ],
   "source": [
    "# H) Plot the distribution of number of reviews (2 Marks)\n",
    "plt.hist(df['Reviews'])\n",
    "plt.show()\n",
    "\n",
    "#The distribution is right skewed."
   ]
  },
  {
   "cell_type": "markdown",
   "id": "e56b1aa6",
   "metadata": {},
   "source": [
    "# SECTION C: 30 MARKS  (Explain with appropriate plots)"
   ]
  },
  {
   "cell_type": "markdown",
   "id": "e36a6474",
   "metadata": {},
   "source": [
    "A) Do apps with certain content ratings get more reviews than others? (3 Marks)\n",
    "\n",
    "B) Is there a correlation between rating and year last updated? (3 Marks)\n",
    "\n",
    "C) Explain the difference between Univariate , Bivariate and Multivariate analysis (8 Marks)\n",
    "\n",
    "D) Mention the two kinds of target variables for predictive modeling. (2 Marks)\n",
    "\n",
    "E) Is content rating and rating related to each other (2 Marks)\n",
    "\n",
    "F) What are the business insights you can get from the plots?  (5 Marks)\n",
    "\n",
    "G) Explain Multicollinearity,How to check for Multicollinearity in the dataset, drop the multicollinear columns if any (4 Marks)\n",
    "\n",
    "H) Split the Dataset into Train and Test. Statically prove that Training and Testing Data represent population? (3 Marks)"
   ]
  },
  {
   "cell_type": "code",
   "execution_count": null,
   "id": "8ce268c7",
   "metadata": {},
   "outputs": [],
   "source": [
    "# C) Explain the difference between Univariate , Bivariate and Multivariate analysis (8 Marks)\n",
    "\n",
    "# All these univarient, bivarient and multivarient analysis are done for the undertanding the data\n",
    "# and gather isnights from the data on each and individual column is contributing to the target variable.\n",
    "# By doing this analysis we will find out what is the importance of the column, is it important ot not,\n",
    "# doest it contribute anything to the data, is the column correlated with each other ot not.\n",
    "\n",
    "# Univarient Analysis is done for the both numeric and categorical columns individually.\n",
    "# example:\n",
    "#     sns.distplot(df['NUERIC'])\n",
    "#     sns.countplot(df['categoric'])\n",
    "\n",
    "# Bivarient Analysis is done for the numeric vs numeric and numeric vs categoric separatedly based on\n",
    "# target variable. Target variable can be both numeric and categoric.\n",
    "# example:\n",
    "#     sns.batplot(df['CATEGORICAL_COLUMN'], df['Numerical_column'])\n",
    "#     sns.scatterplot(df['Numeric'],df['Numeric'])\n",
    "\n",
    "# Multivarient Analaysis is done for all the numeric columns in the dataset.\n",
    "# This analysis is done to find is ther any multicollinearity or how individual numeric columns are \n",
    "# contributing to the data.\n",
    "\n",
    "# example code:\n",
    "#     sns.heatmap(df.corr(), annot = True, cmap = 'Blues', mask = np.triu(df.corr()))"
   ]
  },
  {
   "cell_type": "code",
   "execution_count": null,
   "id": "7e3bbf1b",
   "metadata": {},
   "outputs": [],
   "source": [
    "from sklearn.model_selection import train_test_split\n",
    "from scipy.stats import ttest_ind\n",
    "\n",
    "# Step 1: Split the dataset\n",
    "X_train, X_test, y_train, y_test = train_test_split(X, y, test_size=0.2, random_state=42)\n",
    "\n",
    "# Step 2: Check representativeness\n",
    "\n",
    "# Stratified Sampling (for classification problems)\n",
    "stratification_check = ttest_ind(y_train, y_test)\n",
    "\n",
    "# Feature Representation Check\n",
    "feature_checks = [ttest_ind(X_train[i], X_test[i]).pvalue for i in X.columns]\n",
    "\n",
    "# Conclusion\n",
    "if stratification_check > 0.05 and all(p_value > 0.05 for p_value in feature_checks):\n",
    "    print(\"The training and testing sets are likely representative of the population.\")\n",
    "else:\n",
    "    print(\"There may be differences between the training and testing sets. Further investigation is recommended.\")\n"
   ]
  },
  {
   "cell_type": "code",
   "execution_count": null,
   "id": "0379f5a7",
   "metadata": {},
   "outputs": [],
   "source": []
  },
  {
   "cell_type": "code",
   "execution_count": null,
   "id": "fd606bf4",
   "metadata": {},
   "outputs": [],
   "source": []
  }
 ],
 "metadata": {
  "kernelspec": {
   "display_name": "Python 3 (ipykernel)",
   "language": "python",
   "name": "python3"
  },
  "language_info": {
   "codemirror_mode": {
    "name": "ipython",
    "version": 3
   },
   "file_extension": ".py",
   "mimetype": "text/x-python",
   "name": "python",
   "nbconvert_exporter": "python",
   "pygments_lexer": "ipython3",
   "version": "3.12.4"
  }
 },
 "nbformat": 4,
 "nbformat_minor": 5
}
