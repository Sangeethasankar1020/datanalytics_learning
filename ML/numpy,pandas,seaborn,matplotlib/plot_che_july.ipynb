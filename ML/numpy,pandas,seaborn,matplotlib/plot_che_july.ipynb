{
 "cells": [
  {
   "cell_type": "code",
   "execution_count": null,
   "id": "b705ee1f",
   "metadata": {},
   "outputs": [],
   "source": [
    "import pandas as pd\n",
    "import numpy as np\n",
    "import matplotlib.pyplot as plt\n",
    "import seaborn as sns"
   ]
  },
  {
   "cell_type": "code",
   "execution_count": null,
   "id": "aa3eed81",
   "metadata": {},
   "outputs": [],
   "source": [
    "df1 = pd.read_csv('https://raw.githubusercontent.com/vcsgithub/vcsgithub.github.io/master/lds41.csv')\n",
    "df1"
   ]
  },
  {
   "cell_type": "markdown",
   "id": "d4b31f6a",
   "metadata": {},
   "source": [
    "# Scatter Plot"
   ]
  },
  {
   "cell_type": "code",
   "execution_count": null,
   "id": "550e2ca0",
   "metadata": {},
   "outputs": [],
   "source": [
    "x1 = np.arange(5)\n",
    "y1 = x1 * 2\n",
    "y2 = x1 ** 3\n",
    "print(x1)\n",
    "print(y1)\n",
    "print(y2)"
   ]
  },
  {
   "cell_type": "code",
   "execution_count": null,
   "id": "67317c00",
   "metadata": {},
   "outputs": [],
   "source": [
    "plt.figure(figsize=(3,2), dpi=100)\n",
    "plt.scatter(x=x1, y=y1, color='red', marker='D')\n",
    "plt.scatter(x=x1, y=y2, color='blue', marker='>')\n",
    "\n",
    "plt.savefig('scatter.jpg')\n",
    "plt.show()"
   ]
  },
  {
   "cell_type": "code",
   "execution_count": null,
   "id": "d0e0017c",
   "metadata": {},
   "outputs": [],
   "source": [
    "plt.figure(figsize=(3,2), dpi=100)\n",
    "\n",
    "plt.scatter(x=df1.gear, y=df1.mpg)"
   ]
  },
  {
   "cell_type": "code",
   "execution_count": null,
   "id": "df5c6e70",
   "metadata": {},
   "outputs": [],
   "source": [
    "df1.gear.value_counts()"
   ]
  },
  {
   "cell_type": "code",
   "execution_count": null,
   "id": "0e7c8a59",
   "metadata": {},
   "outputs": [],
   "source": [
    "plt.figure(figsize=(3,2), dpi=100)\n",
    "\n",
    "plt.scatter(x=df1.gear, y=df1.hp)"
   ]
  },
  {
   "cell_type": "code",
   "execution_count": null,
   "id": "07d8653f",
   "metadata": {},
   "outputs": [],
   "source": [
    "df1.plot(kind='scatter',x='gear', y='mpg', figsize=(3,2))"
   ]
  },
  {
   "cell_type": "code",
   "execution_count": null,
   "id": "02f793b7",
   "metadata": {},
   "outputs": [],
   "source": [
    "plt.figure(figsize=(4,3), dpi=100)\n",
    "\n",
    "plt.scatter(x=df1.gear, y=df1.mpg, s=df1.hp)"
   ]
  },
  {
   "cell_type": "code",
   "execution_count": null,
   "id": "1047ad3a",
   "metadata": {},
   "outputs": [],
   "source": [
    "df1.hp.max()"
   ]
  },
  {
   "cell_type": "code",
   "execution_count": null,
   "id": "16fc7877",
   "metadata": {},
   "outputs": [],
   "source": [
    "df1.mpg.min()"
   ]
  },
  {
   "cell_type": "code",
   "execution_count": null,
   "id": "73551b23",
   "metadata": {},
   "outputs": [],
   "source": [
    "df1[df1.hp == df1.hp.max()]"
   ]
  },
  {
   "cell_type": "code",
   "execution_count": null,
   "id": "ebc65200",
   "metadata": {},
   "outputs": [],
   "source": [
    "plt.figure(figsize=(4,3), dpi=100)\n",
    "\n",
    "plt.scatter(x=df1.gear, y=df1.mpg, s=df1.mpg*2)"
   ]
  },
  {
   "cell_type": "markdown",
   "id": "d94d2241",
   "metadata": {},
   "source": [
    "# Line Plots"
   ]
  },
  {
   "cell_type": "code",
   "execution_count": null,
   "id": "035ef569",
   "metadata": {},
   "outputs": [],
   "source": [
    "x1 = np.arange(5)\n",
    "y1 = x1 * 2\n",
    "y2 = x1 ** 2\n",
    "print(x1)\n",
    "print(y1)\n",
    "print(y2)"
   ]
  },
  {
   "cell_type": "code",
   "execution_count": null,
   "id": "d1bf6660",
   "metadata": {},
   "outputs": [],
   "source": [
    "plt.figure(figsize=(4,3), dpi=100)\n",
    "plt.plot(x1,y1, marker='*', color='red', label='linear_plot', linewidth=4)\n",
    "plt.plot(x1,y2, marker='D', color='#00ff00', label='exponential_plot', linestyle='dashed')\n",
    "\n",
    "plt.xlabel('x-axis')\n",
    "plt.ylabel('y-axis')\n",
    "plt.grid()\n",
    "plt.title('linear_expo_plot')\n",
    "\n",
    "#plt.xticks([1,2,3,4,5,6,7,8,9,10])\n",
    "#plt.yticks([1,2,3,4,5,6,7,8,9,10])\n",
    "\n",
    "plt.legend()\n",
    "plt.show()"
   ]
  },
  {
   "cell_type": "code",
   "execution_count": null,
   "id": "e795535c",
   "metadata": {},
   "outputs": [],
   "source": [
    "plt.figure(figsize=(4,3), dpi=100)\n",
    "plt.plot(df1.wt, df1.mpg, marker='*')"
   ]
  },
  {
   "cell_type": "code",
   "execution_count": null,
   "id": "5db72ed3",
   "metadata": {},
   "outputs": [],
   "source": [
    "df1.plot(kind='line', x='wt', y='mpg', figsize=(4,3), marker='*')"
   ]
  },
  {
   "cell_type": "code",
   "execution_count": null,
   "id": "4e1dd7d1",
   "metadata": {},
   "outputs": [],
   "source": [
    "df1[:].plot(kind='line', x='wt', y='mpg', figsize=(4,3), marker='*')"
   ]
  },
  {
   "cell_type": "code",
   "execution_count": null,
   "id": "56558969",
   "metadata": {},
   "outputs": [],
   "source": [
    "df1.head()"
   ]
  },
  {
   "cell_type": "code",
   "execution_count": null,
   "id": "6eccf9b4",
   "metadata": {},
   "outputs": [],
   "source": [
    "df1.sort_values(by='wt').plot(kind='line', x='wt', y='mpg', figsize=(4,3), marker='*')"
   ]
  },
  {
   "cell_type": "markdown",
   "id": "7cff36ff",
   "metadata": {},
   "source": [
    "seaborn loading a builtin dataset"
   ]
  },
  {
   "cell_type": "code",
   "execution_count": null,
   "id": "79992895",
   "metadata": {},
   "outputs": [],
   "source": [
    "sns.get_dataset_names()"
   ]
  },
  {
   "cell_type": "code",
   "execution_count": null,
   "id": "0e0a5762",
   "metadata": {},
   "outputs": [],
   "source": [
    "df2 = sns.load_dataset('titanic')\n",
    "df2"
   ]
  },
  {
   "cell_type": "markdown",
   "id": "55d16714",
   "metadata": {},
   "source": [
    "# Setting the Index Manually"
   ]
  },
  {
   "cell_type": "code",
   "execution_count": null,
   "id": "3c5dd8b4",
   "metadata": {},
   "outputs": [],
   "source": [
    "df1"
   ]
  },
  {
   "cell_type": "code",
   "execution_count": null,
   "id": "09ec33c7",
   "metadata": {},
   "outputs": [],
   "source": [
    "df1.set_index('model')"
   ]
  },
  {
   "cell_type": "code",
   "execution_count": null,
   "id": "bff21011",
   "metadata": {},
   "outputs": [],
   "source": []
  }
 ],
 "metadata": {
  "kernelspec": {
   "display_name": "Python 3 (ipykernel)",
   "language": "python",
   "name": "python3"
  },
  "language_info": {
   "codemirror_mode": {
    "name": "ipython",
    "version": 3
   },
   "file_extension": ".py",
   "mimetype": "text/x-python",
   "name": "python",
   "nbconvert_exporter": "python",
   "pygments_lexer": "ipython3",
   "version": "3.11.3"
  }
 },
 "nbformat": 4,
 "nbformat_minor": 5
}
