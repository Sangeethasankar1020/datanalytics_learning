{
 "cells": [
  {
   "cell_type": "code",
   "execution_count": null,
   "id": "dafb1956",
   "metadata": {},
   "outputs": [],
   "source": [
    "import numpy as np\n",
    "mylist1 = [1,2,3,4,5]\n",
    "n1 = np.array(mylist1)\n",
    "print(type(n1))     #type of datatype\n",
    "print(n1) \n",
    "print(n1.ndim)     #no of dimension\n",
    "print(n1.shape)    #shape of array\n",
    "print(n1.size)    #no of elements in array\n",
    "print(n1.itemsize)  #size of bytes\n",
    "print(n1.dtype)       #datatype  #we can customize dtype in bytes size"
   ]
  },
  {
   "cell_type": "code",
   "execution_count": null,
   "id": "e7598fec",
   "metadata": {},
   "outputs": [],
   "source": [
    "n2 = np.arange(10,40,2)\n",
    "print(n2)"
   ]
  },
  {
   "cell_type": "code",
   "execution_count": null,
   "id": "d071fc5d",
   "metadata": {},
   "outputs": [],
   "source": [
    "n3 = np.arange(10.5,40.3,0.5)\n",
    "print(n3)"
   ]
  },
  {
   "cell_type": "code",
   "execution_count": null,
   "id": "64e856f4",
   "metadata": {},
   "outputs": [],
   "source": [
    "n4 = np.random.randint(low=10, high=100, size=5)\n",
    "print(type(n4))\n",
    "print(n4)"
   ]
  },
  {
   "cell_type": "code",
   "execution_count": null,
   "id": "5980e357",
   "metadata": {},
   "outputs": [],
   "source": [
    "np.random.seed(23)\n",
    "n4 = np.random.randint(low=10, high=100, size=5)\n",
    "print(type(n4))\n",
    "print(n4)"
   ]
  },
  {
   "cell_type": "code",
   "execution_count": null,
   "id": "e3344e22",
   "metadata": {},
   "outputs": [],
   "source": [
    "n5 = [[5,4,3],\n",
    "    [9,0,0]]\n",
    "n6 = np.array(n5)\n",
    "print(n6)\n",
    "\n",
    "print(type(n6))     #type of datatype\n",
    "print(n6.ndim)     #no of dimension\n",
    "print(n6.shape)    #shape of array\n",
    "print(n6.size)    #no of elements in array"
   ]
  },
  {
   "cell_type": "code",
   "execution_count": null,
   "id": "0a5ad13a",
   "metadata": {},
   "outputs": [],
   "source": [
    "#Reshape will shape matrix or array\n",
    "# -1 is given in column (R,C) to calculate on its own.\n",
    "n34 = np.arange(12).reshape(3,4)\n",
    "print(n34)"
   ]
  },
  {
   "cell_type": "code",
   "execution_count": null,
   "id": "f4c8816b",
   "metadata": {},
   "outputs": [],
   "source": [
    "n6 = np.arange(127580).reshape(5,-1)\n",
    "print(n6)"
   ]
  },
  {
   "cell_type": "code",
   "execution_count": null,
   "id": "49afa917",
   "metadata": {},
   "outputs": [],
   "source": [
    "n7 = np.arange(12).reshape(2,-1)\n",
    "print(n7)"
   ]
  },
  {
   "cell_type": "code",
   "execution_count": null,
   "id": "b01ac032",
   "metadata": {},
   "outputs": [],
   "source": [
    "np.random.seed(23) #Will get same values..\n",
    "n8 = np.random.randint(low=10,high=100, size=(4,6))\n",
    "n8"
   ]
  },
  {
   "cell_type": "code",
   "execution_count": 179,
   "id": "3f21ff53",
   "metadata": {},
   "outputs": [
    {
     "data": {
      "text/plain": [
       "array([[93, 50, 83, 64, 41, 86, 49, 35, 61],\n",
       "       [16, 55, 22, 59, 76, 85, 95, 79, 74],\n",
       "       [22, 31, 58, 51, 89, 72, 67, 29, 43],\n",
       "       [69, 49, 25, 46, 75, 11, 53, 25, 96],\n",
       "       [93, 68, 35, 76, 84, 45, 66, 23, 70],\n",
       "       [32, 48, 41, 88, 10, 31, 16, 42, 42],\n",
       "       [24, 41, 88, 93, 90, 80, 76, 92, 95],\n",
       "       [65, 37, 72, 53, 84, 81, 52, 93, 31]])"
      ]
     },
     "execution_count": 179,
     "metadata": {},
     "output_type": "execute_result"
    }
   ],
   "source": [
    "np.random.seed(23)\n",
    "n9=np.random.randint(low=10, high=100, size=(8,9))\n",
    "n9"
   ]
  },
  {
   "cell_type": "code",
   "execution_count": 4,
   "id": "59c7a65f",
   "metadata": {},
   "outputs": [
    {
     "data": {
      "text/plain": [
       "array([[93, 50, 83, 64],\n",
       "       [41, 86, 49, 35],\n",
       "       [61, 16, 55, 22],\n",
       "       [59, 76, 85, 95],\n",
       "       [79, 74, 22, 31],\n",
       "       [58, 51, 89, 72]])"
      ]
     },
     "execution_count": 4,
     "metadata": {},
     "output_type": "execute_result"
    }
   ],
   "source": [
    "import numpy as np\n",
    "np.random.seed(23)\n",
    "n64 = np.random.randint(low=10, high=100, size=(6,4))\n",
    "n64"
   ]
  },
  {
   "cell_type": "code",
   "execution_count": 5,
   "id": "bafb046e",
   "metadata": {},
   "outputs": [
    {
     "data": {
      "text/plain": [
       "23"
      ]
     },
     "execution_count": 5,
     "metadata": {},
     "output_type": "execute_result"
    }
   ],
   "source": [
    "np.unique(n64).size"
   ]
  },
  {
   "cell_type": "code",
   "execution_count": 6,
   "id": "e0a05123",
   "metadata": {},
   "outputs": [
    {
     "data": {
      "text/plain": [
       "(array([2, 4], dtype=int64), array([3, 2], dtype=int64))"
      ]
     },
     "execution_count": 6,
     "metadata": {},
     "output_type": "execute_result"
    }
   ],
   "source": [
    "np.where(n64==22)  # it just tells where it is.."
   ]
  },
  {
   "cell_type": "code",
   "execution_count": 8,
   "id": "d9dae1c2",
   "metadata": {},
   "outputs": [
    {
     "data": {
      "text/plain": [
       "array([[ 93,  50,  83,  64],\n",
       "       [ 41,  86,  49,  35],\n",
       "       [ 61,  16,  55, 222],\n",
       "       [ 59,  76,  85,  95],\n",
       "       [ 79,  74, 222,  31],\n",
       "       [ 58,  51,  89,  72]])"
      ]
     },
     "execution_count": 8,
     "metadata": {},
     "output_type": "execute_result"
    }
   ],
   "source": [
    "np.where(n64==22,222,n64)   #When 22 is found, It converts into 222 else remain existing.."
   ]
  },
  {
   "cell_type": "code",
   "execution_count": 11,
   "id": "0b0b83ab",
   "metadata": {},
   "outputs": [
    {
     "name": "stdout",
     "output_type": "stream",
     "text": [
      "[93 50 83 64 41 86 49 35 61 16 55 22 59 76 85]\n",
      "[95 79 74 22 31 58 51 89 72 67 29 43 69 49 25]\n"
     ]
    }
   ],
   "source": [
    "#SETS OPERATION TOPICS..\n",
    "np.random.seed(23)\n",
    "x = np.random.randint(low=10, high=100, size=15)\n",
    "y = np.random.randint(low=10, high=100, size=15)\n",
    "print(x)\n",
    "print(y)"
   ]
  },
  {
   "cell_type": "code",
   "execution_count": 12,
   "id": "58427895",
   "metadata": {},
   "outputs": [
    {
     "data": {
      "text/plain": [
       "array([22, 49])"
      ]
     },
     "execution_count": 12,
     "metadata": {},
     "output_type": "execute_result"
    }
   ],
   "source": [
    "np.intersect1d(x,y)   #INTERSECTION 1D"
   ]
  },
  {
   "cell_type": "code",
   "execution_count": 13,
   "id": "951ca431",
   "metadata": {},
   "outputs": [
    {
     "data": {
      "text/plain": [
       "array([16, 22, 25, 29, 31, 35, 41, 43, 49, 50, 51, 55, 58, 59, 61, 64, 67,\n",
       "       69, 72, 74, 76, 79, 83, 85, 86, 89, 93, 95])"
      ]
     },
     "execution_count": 13,
     "metadata": {},
     "output_type": "execute_result"
    }
   ],
   "source": [
    "np.union1d(x,y)      #UNION 1D"
   ]
  },
  {
   "cell_type": "code",
   "execution_count": 14,
   "id": "ab381e2d",
   "metadata": {},
   "outputs": [
    {
     "data": {
      "text/plain": [
       "array([16, 35, 41, 50, 55, 59, 61, 64, 76, 83, 85, 86, 93])"
      ]
     },
     "execution_count": 14,
     "metadata": {},
     "output_type": "execute_result"
    }
   ],
   "source": [
    "np.setdiff1d(x,y)      #SET DIFFERENCE 1D"
   ]
  },
  {
   "cell_type": "code",
   "execution_count": null,
   "id": "5c6a39a0",
   "metadata": {},
   "outputs": [],
   "source": [
    "#EXTRACTION OF VALUES..."
   ]
  },
  {
   "cell_type": "code",
   "execution_count": null,
   "id": "d718852e",
   "metadata": {},
   "outputs": [],
   "source": [
    "print(n9[1,1])\n",
    "print(n9[-1,-4])\n",
    "print(n9[4,5])"
   ]
  },
  {
   "cell_type": "code",
   "execution_count": null,
   "id": "56585fa5",
   "metadata": {},
   "outputs": [],
   "source": [
    "print(n9[2:5,3:7])"
   ]
  },
  {
   "cell_type": "code",
   "execution_count": null,
   "id": "826cdd8f",
   "metadata": {},
   "outputs": [],
   "source": [
    "n9[[0,1,-2,-1]]"
   ]
  },
  {
   "cell_type": "code",
   "execution_count": null,
   "id": "4a2ab8da",
   "metadata": {},
   "outputs": [],
   "source": [
    "n9[[0,1,2],[3,3,3]]"
   ]
  },
  {
   "cell_type": "code",
   "execution_count": null,
   "id": "86fc29ba",
   "metadata": {},
   "outputs": [],
   "source": [
    "n9[[0,1,2][:1]]"
   ]
  },
  {
   "cell_type": "code",
   "execution_count": null,
   "id": "7cbe52d9",
   "metadata": {},
   "outputs": [],
   "source": [
    "n9[:,[2,4,-1]]"
   ]
  },
  {
   "cell_type": "code",
   "execution_count": null,
   "id": "02cc55a2",
   "metadata": {},
   "outputs": [],
   "source": [
    "n9[[1,3,-1],[2,3,4]]"
   ]
  },
  {
   "cell_type": "code",
   "execution_count": null,
   "id": "6a59cd88",
   "metadata": {},
   "outputs": [],
   "source": [
    "#repeated for reference\n",
    "np.random.seed(23)\n",
    "n9=np.random.randint(low=10, high=100, size=(8,9))\n",
    "n9"
   ]
  },
  {
   "cell_type": "code",
   "execution_count": null,
   "id": "3ce164d1",
   "metadata": {},
   "outputs": [],
   "source": [
    "#CONDITIONALS IN NUMPY\n",
    "\n",
    "mask1 = n9 > 50\n",
    "mask\n",
    "#np.array(n9>50) Another way for the above question..(Return bool)\n",
    "#n9[n9>50] Another way to for the above question..(Return values)"
   ]
  },
  {
   "cell_type": "code",
   "execution_count": null,
   "id": "6640be53",
   "metadata": {},
   "outputs": [],
   "source": [
    "mask2 = n9%2==0\n",
    "print(mask2)"
   ]
  },
  {
   "cell_type": "code",
   "execution_count": null,
   "id": "d3dc9668",
   "metadata": {},
   "outputs": [],
   "source": [
    "mask3 = mask1 & mask2\n",
    "mask3"
   ]
  },
  {
   "cell_type": "code",
   "execution_count": null,
   "id": "9b57845f",
   "metadata": {},
   "outputs": [],
   "source": [
    "n9[mask3]"
   ]
  },
  {
   "cell_type": "code",
   "execution_count": null,
   "id": "356a248a",
   "metadata": {},
   "outputs": [],
   "source": [
    "n9[(n9>50) & (n9%2==0)]"
   ]
  },
  {
   "cell_type": "code",
   "execution_count": null,
   "id": "9c56a682",
   "metadata": {},
   "outputs": [],
   "source": [
    "n9[0,0] = 9999  #Replaces values..\n",
    "n9"
   ]
  },
  {
   "cell_type": "code",
   "execution_count": null,
   "id": "2d4eab86",
   "metadata": {},
   "outputs": [],
   "source": [
    "n9[2:5,2:5] = 90000  #Replaces values in particular area\n",
    "n9"
   ]
  },
  {
   "cell_type": "code",
   "execution_count": 151,
   "id": "1cf7eb0f",
   "metadata": {},
   "outputs": [
    {
     "data": {
      "text/plain": [
       "[array([[93, 50, 83, 64, 41, 86, 49, 35, 61],\n",
       "        [16, 55, 22, 59, 76, 85, 95, 79, 74],\n",
       "        [22, 31, 58, 51, 89, 72, 67, 29, 43],\n",
       "        [69, 49, 25, 46, 75, 11, 53, 25, 96]]),\n",
       " array([[93, 68, 35, 76, 84, 45, 66, 23, 70],\n",
       "        [32, 48, 41, 88, 10, 31, 16, 42, 42],\n",
       "        [24, 41, 88, 93, 90, 80, 76, 92, 95],\n",
       "        [65, 37, 72, 53, 84, 81, 52, 93, 31]])]"
      ]
     },
     "execution_count": 151,
     "metadata": {},
     "output_type": "execute_result"
    }
   ],
   "source": [
    "A = np.vsplit(n9,2)  #Vertically splitting into 2\n",
    "A"
   ]
  },
  {
   "cell_type": "code",
   "execution_count": 156,
   "id": "0e4c3872",
   "metadata": {},
   "outputs": [
    {
     "data": {
      "text/plain": [
       "[array([[93, 50, 83, 64, 41, 86, 49, 35, 61],\n",
       "        [16, 55, 22, 59, 76, 85, 95, 79, 74]]),\n",
       " array([[22, 31, 58, 51, 89, 72, 67, 29, 43],\n",
       "        [69, 49, 25, 46, 75, 11, 53, 25, 96]]),\n",
       " array([[93, 68, 35, 76, 84, 45, 66, 23, 70],\n",
       "        [32, 48, 41, 88, 10, 31, 16, 42, 42]]),\n",
       " array([[24, 41, 88, 93, 90, 80, 76, 92, 95],\n",
       "        [65, 37, 72, 53, 84, 81, 52, 93, 31]])]"
      ]
     },
     "execution_count": 156,
     "metadata": {},
     "output_type": "execute_result"
    }
   ],
   "source": [
    "B = np.vsplit(n9,4)    #Vertically splitting into 4\n",
    "B"
   ]
  },
  {
   "cell_type": "code",
   "execution_count": 168,
   "id": "77c7cb0e",
   "metadata": {},
   "outputs": [
    {
     "data": {
      "text/plain": [
       "[array([[93, 50, 83, 64, 41, 86, 49, 35, 61],\n",
       "        [16, 55, 22, 59, 76, 85, 95, 79, 74]]),\n",
       " array([[22, 31, 58, 51, 89, 72, 67, 29, 43]]),\n",
       " array([[69, 49, 25, 46, 75, 11, 53, 25, 96]]),\n",
       " array([[93, 68, 35, 76, 84, 45, 66, 23, 70],\n",
       "        [32, 48, 41, 88, 10, 31, 16, 42, 42]]),\n",
       " array([[24, 41, 88, 93, 90, 80, 76, 92, 95],\n",
       "        [65, 37, 72, 53, 84, 81, 52, 93, 31]])]"
      ]
     },
     "execution_count": 168,
     "metadata": {},
     "output_type": "execute_result"
    }
   ],
   "source": [
    "np.vsplit(n9,[2,3,4,6]) #Index splitting in vsplit"
   ]
  },
  {
   "cell_type": "code",
   "execution_count": 178,
   "id": "c7d8ca1e",
   "metadata": {},
   "outputs": [
    {
     "data": {
      "text/plain": [
       "[array([[93, 50, 83],\n",
       "        [16, 55, 22],\n",
       "        [22, 31, 58],\n",
       "        [69, 49, 25],\n",
       "        [93, 68, 35],\n",
       "        [32, 48, 41],\n",
       "        [24, 41, 88],\n",
       "        [65, 37, 72]]),\n",
       " array([[64],\n",
       "        [59],\n",
       "        [51],\n",
       "        [46],\n",
       "        [76],\n",
       "        [88],\n",
       "        [93],\n",
       "        [53]]),\n",
       " array([[41, 86],\n",
       "        [76, 85],\n",
       "        [89, 72],\n",
       "        [75, 11],\n",
       "        [84, 45],\n",
       "        [10, 31],\n",
       "        [90, 80],\n",
       "        [84, 81]]),\n",
       " array([[49, 35],\n",
       "        [95, 79],\n",
       "        [67, 29],\n",
       "        [53, 25],\n",
       "        [66, 23],\n",
       "        [16, 42],\n",
       "        [76, 92],\n",
       "        [52, 93]]),\n",
       " array([[61],\n",
       "        [74],\n",
       "        [43],\n",
       "        [96],\n",
       "        [70],\n",
       "        [42],\n",
       "        [95],\n",
       "        [31]])]"
      ]
     },
     "execution_count": 178,
     "metadata": {},
     "output_type": "execute_result"
    }
   ],
   "source": [
    "C = np.hsplit(n9,[3,4,6,8]) #Horizontally splitting into as per our wish..\n",
    "C"
   ]
  },
  {
   "cell_type": "code",
   "execution_count": null,
   "id": "f4f7b08e",
   "metadata": {},
   "outputs": [],
   "source": [
    "# HSTACK and VSTACK TOPICS...\n",
    "#Use VSTACK using this [] brackets inside.."
   ]
  },
  {
   "cell_type": "code",
   "execution_count": 185,
   "id": "fa4ff8ac",
   "metadata": {},
   "outputs": [
    {
     "name": "stdout",
     "output_type": "stream",
     "text": [
      "[[ 0  1  2  3]\n",
      " [ 4  5  6  7]\n",
      " [ 8  9 10 11]]\n",
      "[[100 101 102 103]\n",
      " [104 105 106 107]\n",
      " [108 109 110 111]\n",
      " [112 113 114 115]\n",
      " [116 117 118 119]\n",
      " [120 121 122 123]]\n",
      "[[200 201 202 203 204 205]\n",
      " [206 207 208 209 210 211]\n",
      " [212 213 214 215 216 217]]\n"
     ]
    }
   ],
   "source": [
    "n34 = np.arange(12).reshape(3,4)\n",
    "print(n34)\n",
    "n64 = np.arange(100,124).reshape(6,4)\n",
    "print(n64)\n",
    "n36 = np.arange(200,218).reshape(3,6)\n",
    "print(n36)"
   ]
  },
  {
   "cell_type": "code",
   "execution_count": 189,
   "id": "f8b7759b",
   "metadata": {},
   "outputs": [
    {
     "data": {
      "text/plain": [
       "array([[  0,   1,   2,   3],\n",
       "       [  4,   5,   6,   7],\n",
       "       [  8,   9,  10,  11],\n",
       "       [100, 101, 102, 103],\n",
       "       [104, 105, 106, 107],\n",
       "       [108, 109, 110, 111],\n",
       "       [112, 113, 114, 115],\n",
       "       [116, 117, 118, 119],\n",
       "       [120, 121, 122, 123]])"
      ]
     },
     "execution_count": 189,
     "metadata": {},
     "output_type": "execute_result"
    }
   ],
   "source": [
    "np.vstack(tup=(n34,n64))"
   ]
  },
  {
   "cell_type": "code",
   "execution_count": 190,
   "id": "2ca10838",
   "metadata": {},
   "outputs": [
    {
     "ename": "ValueError",
     "evalue": "all the input array dimensions for the concatenation axis must match exactly, but along dimension 0, the array at index 0 has size 3 and the array at index 1 has size 6",
     "output_type": "error",
     "traceback": [
      "\u001b[1;31m---------------------------------------------------------------------------\u001b[0m",
      "\u001b[1;31mValueError\u001b[0m                                Traceback (most recent call last)",
      "Cell \u001b[1;32mIn[190], line 1\u001b[0m\n\u001b[1;32m----> 1\u001b[0m \u001b[43mnp\u001b[49m\u001b[38;5;241;43m.\u001b[39;49m\u001b[43mhstack\u001b[49m\u001b[43m(\u001b[49m\u001b[43mtup\u001b[49m\u001b[38;5;241;43m=\u001b[39;49m\u001b[43m(\u001b[49m\u001b[43mn34\u001b[49m\u001b[43m,\u001b[49m\u001b[43mn64\u001b[49m\u001b[43m)\u001b[49m\u001b[43m)\u001b[49m\n",
      "File \u001b[1;32m<__array_function__ internals>:180\u001b[0m, in \u001b[0;36mhstack\u001b[1;34m(*args, **kwargs)\u001b[0m\n",
      "File \u001b[1;32mC:\\ProgramData\\anaconda3\\lib\\site-packages\\numpy\\core\\shape_base.py:345\u001b[0m, in \u001b[0;36mhstack\u001b[1;34m(tup)\u001b[0m\n\u001b[0;32m    343\u001b[0m     \u001b[38;5;28;01mreturn\u001b[39;00m _nx\u001b[38;5;241m.\u001b[39mconcatenate(arrs, \u001b[38;5;241m0\u001b[39m)\n\u001b[0;32m    344\u001b[0m \u001b[38;5;28;01melse\u001b[39;00m:\n\u001b[1;32m--> 345\u001b[0m     \u001b[38;5;28;01mreturn\u001b[39;00m \u001b[43m_nx\u001b[49m\u001b[38;5;241;43m.\u001b[39;49m\u001b[43mconcatenate\u001b[49m\u001b[43m(\u001b[49m\u001b[43marrs\u001b[49m\u001b[43m,\u001b[49m\u001b[43m \u001b[49m\u001b[38;5;241;43m1\u001b[39;49m\u001b[43m)\u001b[49m\n",
      "File \u001b[1;32m<__array_function__ internals>:180\u001b[0m, in \u001b[0;36mconcatenate\u001b[1;34m(*args, **kwargs)\u001b[0m\n",
      "\u001b[1;31mValueError\u001b[0m: all the input array dimensions for the concatenation axis must match exactly, but along dimension 0, the array at index 0 has size 3 and the array at index 1 has size 6"
     ]
    }
   ],
   "source": [
    "np.hstack(tup=(n34,n64))  #Error came while running for HSTACK as same as VSTACK"
   ]
  },
  {
   "cell_type": "code",
   "execution_count": 193,
   "id": "5680f690",
   "metadata": {},
   "outputs": [
    {
     "data": {
      "text/plain": [
       "array([[  0,   1,   2,   3, 200, 201, 202, 203, 204, 205],\n",
       "       [  4,   5,   6,   7, 206, 207, 208, 209, 210, 211],\n",
       "       [  8,   9,  10,  11, 212, 213, 214, 215, 216, 217]])"
      ]
     },
     "execution_count": 193,
     "metadata": {},
     "output_type": "execute_result"
    }
   ],
   "source": [
    "np.hstack(tup=(n34,n36))   #TUP is optional"
   ]
  },
  {
   "cell_type": "code",
   "execution_count": 199,
   "id": "db636670",
   "metadata": {},
   "outputs": [
    {
     "ename": "ValueError",
     "evalue": "all the input array dimensions for the concatenation axis must match exactly, but along dimension 1, the array at index 0 has size 4 and the array at index 1 has size 6",
     "output_type": "error",
     "traceback": [
      "\u001b[1;31m---------------------------------------------------------------------------\u001b[0m",
      "\u001b[1;31mValueError\u001b[0m                                Traceback (most recent call last)",
      "Cell \u001b[1;32mIn[199], line 1\u001b[0m\n\u001b[1;32m----> 1\u001b[0m \u001b[43mnp\u001b[49m\u001b[38;5;241;43m.\u001b[39;49m\u001b[43mdstack\u001b[49m\u001b[43m(\u001b[49m\u001b[43mtup\u001b[49m\u001b[38;5;241;43m=\u001b[39;49m\u001b[43m(\u001b[49m\u001b[43mn34\u001b[49m\u001b[43m,\u001b[49m\u001b[43mn36\u001b[49m\u001b[43m)\u001b[49m\u001b[43m)\u001b[49m\n",
      "File \u001b[1;32m<__array_function__ internals>:180\u001b[0m, in \u001b[0;36mdstack\u001b[1;34m(*args, **kwargs)\u001b[0m\n",
      "File \u001b[1;32mC:\\ProgramData\\anaconda3\\lib\\site-packages\\numpy\\lib\\shape_base.py:723\u001b[0m, in \u001b[0;36mdstack\u001b[1;34m(tup)\u001b[0m\n\u001b[0;32m    721\u001b[0m \u001b[38;5;28;01mif\u001b[39;00m \u001b[38;5;129;01mnot\u001b[39;00m \u001b[38;5;28misinstance\u001b[39m(arrs, \u001b[38;5;28mlist\u001b[39m):\n\u001b[0;32m    722\u001b[0m     arrs \u001b[38;5;241m=\u001b[39m [arrs]\n\u001b[1;32m--> 723\u001b[0m \u001b[38;5;28;01mreturn\u001b[39;00m \u001b[43m_nx\u001b[49m\u001b[38;5;241;43m.\u001b[39;49m\u001b[43mconcatenate\u001b[49m\u001b[43m(\u001b[49m\u001b[43marrs\u001b[49m\u001b[43m,\u001b[49m\u001b[43m \u001b[49m\u001b[38;5;241;43m2\u001b[39;49m\u001b[43m)\u001b[49m\n",
      "File \u001b[1;32m<__array_function__ internals>:180\u001b[0m, in \u001b[0;36mconcatenate\u001b[1;34m(*args, **kwargs)\u001b[0m\n",
      "\u001b[1;31mValueError\u001b[0m: all the input array dimensions for the concatenation axis must match exactly, but along dimension 1, the array at index 0 has size 4 and the array at index 1 has size 6"
     ]
    }
   ],
   "source": [
    "#dstack is used only for 3D Dimensional Array...\n",
    "np.dstack(tup=(n34,n36))"
   ]
  },
  {
   "cell_type": "code",
   "execution_count": 202,
   "id": "b89bf565",
   "metadata": {},
   "outputs": [],
   "source": [
    "#3D Dimensional Array\n",
    "D = [\n",
    "    [[111,121],[141,151],[171,181]],\n",
    "    [[211,221],[241,251],[271,281]],\n",
    "     [[311,321],[341,351],[371,381]],\n",
    "    [[411,421],[441,451],[471,481]]\n",
    "] "
   ]
  },
  {
   "cell_type": "code",
   "execution_count": 213,
   "id": "b9083038",
   "metadata": {},
   "outputs": [],
   "source": [
    "D1 = [\n",
    "    [[1,1],[1,1],[1,1]],\n",
    "    [[2,2],[2,2],[2,2]],\n",
    "     [[3,3],[3,3],[3,3]],\n",
    "    [[4,4],[4,4],[4,4]]\n",
    "] "
   ]
  },
  {
   "cell_type": "code",
   "execution_count": 212,
   "id": "0f922623",
   "metadata": {},
   "outputs": [
    {
     "data": {
      "text/plain": [
       "array([[[111, 121,   1,   1],\n",
       "        [141, 151,   1,   1],\n",
       "        [171, 181,   1,   1]],\n",
       "\n",
       "       [[211, 221,   2,   2],\n",
       "        [241, 251,   2,   2],\n",
       "        [271, 281,   2,   2]],\n",
       "\n",
       "       [[311, 321,   3,   3],\n",
       "        [341, 351,   3,   3],\n",
       "        [371, 381,   3,   3]],\n",
       "\n",
       "       [[411, 421,   4,   4],\n",
       "        [441, 451,   4,   4],\n",
       "        [471, 481,   4,   4]]])"
      ]
     },
     "execution_count": 212,
     "metadata": {},
     "output_type": "execute_result"
    }
   ],
   "source": [
    "np.dstack(tup=[D,D1])   #Use DSTACK using this [] brackets inside.."
   ]
  },
  {
   "cell_type": "code",
   "execution_count": 206,
   "id": "2abd91d5",
   "metadata": {},
   "outputs": [],
   "source": [
    "#Using ENUMERATE() in NUMPY"
   ]
  },
  {
   "cell_type": "code",
   "execution_count": 224,
   "id": "04934690",
   "metadata": {},
   "outputs": [
    {
     "name": "stdout",
     "output_type": "stream",
     "text": [
      "[[200 201 202 203 204 205]\n",
      " [206 207 208 209 210 211]\n",
      " [212 213 214 215 216 217]]\n",
      "200\n",
      "\n",
      "201\n",
      "\n",
      "202\n",
      "\n",
      "203\n",
      "\n",
      "204\n",
      "\n",
      "205\n",
      "\n",
      "206\n",
      "\n",
      "207\n",
      "\n",
      "208\n",
      "\n",
      "209\n",
      "\n",
      "210\n",
      "\n",
      "211\n",
      "\n",
      "212\n",
      "\n",
      "213\n",
      "\n",
      "214\n",
      "\n",
      "215\n",
      "\n",
      "216\n",
      "\n",
      "217\n",
      "\n"
     ]
    }
   ],
   "source": [
    "print(n36)\n",
    "for i in np.nditer(n36,order='C'):\n",
    "    print(i)\n",
    "    print()"
   ]
  },
  {
   "cell_type": "code",
   "execution_count": 223,
   "id": "22eaf474",
   "metadata": {},
   "outputs": [
    {
     "name": "stdout",
     "output_type": "stream",
     "text": [
      "200\n",
      "\n",
      "206\n",
      "\n",
      "212\n",
      "\n",
      "201\n",
      "\n",
      "207\n",
      "\n",
      "213\n",
      "\n",
      "202\n",
      "\n",
      "208\n",
      "\n",
      "214\n",
      "\n",
      "203\n",
      "\n",
      "209\n",
      "\n",
      "215\n",
      "\n",
      "204\n",
      "\n",
      "210\n",
      "\n",
      "216\n",
      "\n",
      "205\n",
      "\n",
      "211\n",
      "\n",
      "217\n",
      "\n"
     ]
    }
   ],
   "source": [
    "for i in np.nditer(n36,order='F'):\n",
    "    print(i)\n",
    "    print()"
   ]
  },
  {
   "cell_type": "code",
   "execution_count": 228,
   "id": "93644436",
   "metadata": {},
   "outputs": [
    {
     "name": "stdout",
     "output_type": "stream",
     "text": [
      "((0, 0), 200)\n",
      "\n",
      "((0, 1), 201)\n",
      "\n",
      "((0, 2), 202)\n",
      "\n",
      "((0, 3), 203)\n",
      "\n",
      "((0, 4), 204)\n",
      "\n",
      "((0, 5), 205)\n",
      "\n",
      "((1, 0), 206)\n",
      "\n",
      "((1, 1), 207)\n",
      "\n",
      "((1, 2), 208)\n",
      "\n",
      "((1, 3), 209)\n",
      "\n",
      "((1, 4), 210)\n",
      "\n",
      "((1, 5), 211)\n",
      "\n",
      "((2, 0), 212)\n",
      "\n",
      "((2, 1), 213)\n",
      "\n",
      "((2, 2), 214)\n",
      "\n",
      "((2, 3), 215)\n",
      "\n",
      "((2, 4), 216)\n",
      "\n",
      "((2, 5), 217)\n",
      "\n"
     ]
    }
   ],
   "source": [
    "#Putting Index in NUMPY using Enumerate..\n",
    "for i in np.ndenumerate(n36):\n",
    "    print(i)\n",
    "    print()"
   ]
  },
  {
   "cell_type": "code",
   "execution_count": 230,
   "id": "78e94920",
   "metadata": {},
   "outputs": [
    {
     "name": "stdout",
     "output_type": "stream",
     "text": [
      "[45 33 39 52 48 14 42 60 95 37]\n",
      "[43 44 10 21 72 98 64 99 88 51]\n",
      "[  2 -11  29  31 -24 -84 -22 -39   7 -14]\n"
     ]
    }
   ],
   "source": [
    "highprice = np.random.randint(low=10, high=100, size=10)\n",
    "lowprice = np.random.randint(low=10, high=100, size=10)\n",
    "print(highprice)\n",
    "print(lowprice)\n",
    "volatility = highprice - lowprice\n",
    "print(volatility)"
   ]
  },
  {
   "cell_type": "code",
   "execution_count": 237,
   "id": "505dda7e",
   "metadata": {},
   "outputs": [
    {
     "name": "stdout",
     "output_type": "stream",
     "text": [
      "[[12 44 32 52]\n",
      " [76 99 11 88]\n",
      " [63 90 73 94]]\n",
      "[[97 80 12 69]\n",
      " [55 33 33 98]\n",
      " [95 41 70 13]]\n",
      "[[109 124  44 121]\n",
      " [131 132  44 186]\n",
      " [158 131 143 107]]\n"
     ]
    }
   ],
   "source": [
    "# ADD in NUMPY\n",
    "new = np.random.randint(low=10, high=100, size=(3,4))\n",
    "new1 = np.random.randint(low=10, high=100, size=(3,4))\n",
    "print(new)\n",
    "print(new1)\n",
    "new2 = new + new1\n",
    "print(new2)"
   ]
  },
  {
   "cell_type": "code",
   "execution_count": 245,
   "id": "e731179e",
   "metadata": {},
   "outputs": [
    {
     "data": {
      "text/plain": [
       "array([[ 1308,  5456,  1408,  6292],\n",
       "       [ 9956, 13068,   484, 16368],\n",
       "       [ 9954, 11790, 10439, 10058]])"
      ]
     },
     "execution_count": 245,
     "metadata": {},
     "output_type": "execute_result"
    }
   ],
   "source": [
    "# MULTPLY in NUMPY\n",
    "K = new2*new\n",
    "K"
   ]
  },
  {
   "cell_type": "code",
   "execution_count": 247,
   "id": "e7afcd0d",
   "metadata": {},
   "outputs": [
    {
     "name": "stdout",
     "output_type": "stream",
     "text": [
      "[[ 1308  9956  9954]\n",
      " [ 5456 13068 11790]\n",
      " [ 1408   484 10439]\n",
      " [ 6292 16368 10058]]\n"
     ]
    }
   ],
   "source": [
    "#TRANSPOSE TOPICS...\n",
    "K1 = K.T\n",
    "print(K1)"
   ]
  },
  {
   "cell_type": "code",
   "execution_count": 250,
   "id": "f84ae893",
   "metadata": {},
   "outputs": [
    {
     "data": {
      "text/plain": [
       "28572"
      ]
     },
     "execution_count": 250,
     "metadata": {},
     "output_type": "execute_result"
    }
   ],
   "source": [
    "#MATRIX MULTIPLY...\n",
    "highprice@lowprice  "
   ]
  },
  {
   "cell_type": "code",
   "execution_count": 248,
   "id": "6f44d5e0",
   "metadata": {},
   "outputs": [
    {
     "data": {
      "text/plain": [
       "array([[0., 0., 0., 0.],\n",
       "       [0., 0., 0., 0.],\n",
       "       [0., 0., 0., 0.]])"
      ]
     },
     "execution_count": 248,
     "metadata": {},
     "output_type": "execute_result"
    }
   ],
   "source": [
    "np.zeros(shape = (3,4))"
   ]
  },
  {
   "cell_type": "code",
   "execution_count": 251,
   "id": "176bef87",
   "metadata": {},
   "outputs": [
    {
     "data": {
      "text/plain": [
       "array([[0, 0, 0, 0],\n",
       "       [0, 0, 0, 0],\n",
       "       [0, 0, 0, 0]])"
      ]
     },
     "execution_count": 251,
     "metadata": {},
     "output_type": "execute_result"
    }
   ],
   "source": [
    "np.zeros(shape = (3,4), dtype = np.int32)"
   ]
  },
  {
   "cell_type": "code",
   "execution_count": 253,
   "id": "27c19651",
   "metadata": {},
   "outputs": [
    {
     "data": {
      "text/plain": [
       "array([[55, 55, 55, 55],\n",
       "       [55, 55, 55, 55],\n",
       "       [55, 55, 55, 55]])"
      ]
     },
     "execution_count": 253,
     "metadata": {},
     "output_type": "execute_result"
    }
   ],
   "source": [
    "np.full(shape=(3,4),fill_value=55)"
   ]
  },
  {
   "cell_type": "code",
   "execution_count": 255,
   "id": "6cde0672",
   "metadata": {},
   "outputs": [
    {
     "data": {
      "text/plain": [
       "array([[1., 0., 0.],\n",
       "       [0., 1., 0.],\n",
       "       [0., 0., 1.]])"
      ]
     },
     "execution_count": 255,
     "metadata": {},
     "output_type": "execute_result"
    }
   ],
   "source": [
    "np.identity(3)"
   ]
  },
  {
   "cell_type": "code",
   "execution_count": null,
   "id": "53578991",
   "metadata": {},
   "outputs": [],
   "source": [
    "#SUM(), MIN(), MAX() TOPICS..."
   ]
  },
  {
   "cell_type": "code",
   "execution_count": 256,
   "id": "7e452a23",
   "metadata": {},
   "outputs": [
    {
     "data": {
      "text/plain": [
       "array([[59, 72, 19, 31],\n",
       "       [75, 90, 91, 21],\n",
       "       [78, 90, 39, 20]])"
      ]
     },
     "execution_count": 256,
     "metadata": {},
     "output_type": "execute_result"
    }
   ],
   "source": [
    "N = np.random.randint(low=10, high=100, size=(3,4))\n",
    "N"
   ]
  },
  {
   "cell_type": "code",
   "execution_count": 257,
   "id": "dadab0b1",
   "metadata": {},
   "outputs": [
    {
     "data": {
      "text/plain": [
       "685"
      ]
     },
     "execution_count": 257,
     "metadata": {},
     "output_type": "execute_result"
    }
   ],
   "source": [
    "np.sum(N)"
   ]
  },
  {
   "cell_type": "code",
   "execution_count": 258,
   "id": "262b045b",
   "metadata": {},
   "outputs": [
    {
     "data": {
      "text/plain": [
       "19"
      ]
     },
     "execution_count": 258,
     "metadata": {},
     "output_type": "execute_result"
    }
   ],
   "source": [
    "np.min(N)"
   ]
  },
  {
   "cell_type": "code",
   "execution_count": 259,
   "id": "36a195b3",
   "metadata": {},
   "outputs": [
    {
     "data": {
      "text/plain": [
       "91"
      ]
     },
     "execution_count": 259,
     "metadata": {},
     "output_type": "execute_result"
    }
   ],
   "source": [
    "np.max(N)"
   ]
  },
  {
   "cell_type": "code",
   "execution_count": 291,
   "id": "357aebb5",
   "metadata": {},
   "outputs": [
    {
     "data": {
      "text/plain": [
       "array([[4, 7, 1, 2],\n",
       "       [7, 1, 8, 6],\n",
       "       [5, 4, 8, 3]])"
      ]
     },
     "execution_count": 291,
     "metadata": {},
     "output_type": "execute_result"
    }
   ],
   "source": [
    "np.random.seed(23)\n",
    "n34 = np.random.randint(low=1, high=9, size=(3,4))\n",
    "n34"
   ]
  },
  {
   "cell_type": "code",
   "execution_count": 292,
   "id": "36e87f21",
   "metadata": {},
   "outputs": [
    {
     "name": "stdout",
     "output_type": "stream",
     "text": [
      "56\n",
      "[16 12 17 11]\n",
      "[14 22 20]\n"
     ]
    }
   ],
   "source": [
    "print(np.sum(n34, axis=None))\n",
    "print(np.sum(n34, axis=0))\n",
    "print(np.sum(n34, axis=1))"
   ]
  },
  {
   "cell_type": "code",
   "execution_count": 293,
   "id": "ffbd7633",
   "metadata": {},
   "outputs": [
    {
     "name": "stdout",
     "output_type": "stream",
     "text": [
      "[[4 7 1 2]\n",
      " [7 1 8 6]\n",
      " [5 4 8 3]]\n",
      "1\n",
      "[4 1 1 2]\n",
      "[1 1 3]\n"
     ]
    }
   ],
   "source": [
    "print(n34)\n",
    "print(np.min(n34, axis=None))\n",
    "print(np.min(n34, axis=0))\n",
    "print(np.min(n34, axis=1))"
   ]
  },
  {
   "cell_type": "code",
   "execution_count": 294,
   "id": "5d30d839",
   "metadata": {},
   "outputs": [
    {
     "name": "stdout",
     "output_type": "stream",
     "text": [
      "[[4 7 1 2]\n",
      " [7 1 8 6]\n",
      " [5 4 8 3]]\n",
      "8\n",
      "[7 7 8 6]\n",
      "[7 8 8]\n"
     ]
    }
   ],
   "source": [
    "print(n34)\n",
    "print(np.max(n34, axis=None))\n",
    "print(np.max(n34, axis=0))\n",
    "print(np.max(n34, axis=1))"
   ]
  },
  {
   "cell_type": "code",
   "execution_count": 295,
   "id": "45e058b8",
   "metadata": {},
   "outputs": [
    {
     "name": "stdout",
     "output_type": "stream",
     "text": [
      "[[4 7 1 2]\n",
      " [7 1 8 6]\n",
      " [5 4 8 3]]\n",
      "4.666666666666667\n",
      "[5.33333333 4.         5.66666667 3.66666667]\n",
      "[3.5 5.5 5. ]\n"
     ]
    }
   ],
   "source": [
    "print(n34)\n",
    "print(np.mean(n34, axis=None))\n",
    "print(np.mean(n34, axis=0))\n",
    "print(np.mean(n34, axis=1))"
   ]
  },
  {
   "cell_type": "code",
   "execution_count": 261,
   "id": "fff80b4d",
   "metadata": {},
   "outputs": [
    {
     "name": "stdout",
     "output_type": "stream",
     "text": [
      "[[ 0  1  2  3]\n",
      " [ 4  5  6  7]\n",
      " [ 8  9 10 11]]\n"
     ]
    },
    {
     "data": {
      "text/plain": [
       "array([[  0,   1,   4,   9],\n",
       "       [ 16,  25,  36,  49],\n",
       "       [ 64,  81, 100, 121]], dtype=int32)"
      ]
     },
     "execution_count": 261,
     "metadata": {},
     "output_type": "execute_result"
    }
   ],
   "source": [
    "#POWER, REMAINDER TOPICS..\n",
    "print(n34)\n",
    "np.power(n34,2)"
   ]
  },
  {
   "cell_type": "code",
   "execution_count": 262,
   "id": "886cd675",
   "metadata": {},
   "outputs": [
    {
     "data": {
      "text/plain": [
       "array([[         1,          1,          4,         27],\n",
       "       [       256,       3125,      46656,     823543],\n",
       "       [  16777216,  387420489, 1410065408, 1843829075]])"
      ]
     },
     "execution_count": 262,
     "metadata": {},
     "output_type": "execute_result"
    }
   ],
   "source": [
    "np.power(n34,n34)"
   ]
  },
  {
   "cell_type": "code",
   "execution_count": 263,
   "id": "7593454c",
   "metadata": {},
   "outputs": [
    {
     "data": {
      "text/plain": [
       "array([[0, 1, 0, 1],\n",
       "       [0, 1, 0, 1],\n",
       "       [0, 1, 0, 1]], dtype=int32)"
      ]
     },
     "execution_count": 263,
     "metadata": {},
     "output_type": "execute_result"
    }
   ],
   "source": [
    "np.remainder(n34,2)"
   ]
  },
  {
   "cell_type": "code",
   "execution_count": 269,
   "id": "a9e8c62c",
   "metadata": {},
   "outputs": [
    {
     "data": {
      "text/plain": [
       "(array([0., 1., 2., 3., 4., 5., 6., 7.]), 1.0)"
      ]
     },
     "execution_count": 269,
     "metadata": {},
     "output_type": "execute_result"
    }
   ],
   "source": [
    "#LINSPACE TOPICS\n",
    "np.linspace(start=0, stop=7, num=8, retstep=True)"
   ]
  },
  {
   "cell_type": "code",
   "execution_count": 273,
   "id": "b3c823f9",
   "metadata": {},
   "outputs": [
    {
     "data": {
      "text/plain": [
       "(array([-1. , -0.5,  0. ,  0.5,  1. ]), 0.5)"
      ]
     },
     "execution_count": 273,
     "metadata": {},
     "output_type": "execute_result"
    }
   ],
   "source": [
    "np.linspace(start=-1, stop=1, num=5, retstep=True)"
   ]
  },
  {
   "cell_type": "code",
   "execution_count": null,
   "id": "10b785f4",
   "metadata": {},
   "outputs": [],
   "source": [
    "#RAND & RANDN TOPICS..."
   ]
  },
  {
   "cell_type": "code",
   "execution_count": 283,
   "id": "7b00b84c",
   "metadata": {},
   "outputs": [
    {
     "name": "stdout",
     "output_type": "stream",
     "text": [
      "[[0.88121639 0.43081651 0.76724716 ... 0.44684949 0.07563468 0.07239567]\n",
      " [0.43891927 0.55604462 0.19048379 ... 0.42483949 0.77069497 0.38040093]\n",
      " [0.58394436 0.18618664 0.92645195 ... 0.81138627 0.40796896 0.35322649]\n",
      " ...\n",
      " [0.15501388 0.3464038  0.61337502 ... 0.68700075 0.83684841 0.34022006]\n",
      " [0.21838821 0.97411143 0.79249157 ... 0.48041726 0.12366318 0.32944482]\n",
      " [0.76970442 0.46547938 0.67125065 ... 0.69546902 0.17857906 0.94472751]]\n",
      "0.0005834874997233674\n",
      "0.998886017678078\n",
      "0.49569054548094305\n"
     ]
    },
    {
     "data": {
      "image/png": "[encoded data removed]",
      "text/plain": [
       "<Figure size 640x480 with 1 Axes>"
      ]
     },
     "metadata": {},
     "output_type": "display_data"
    }
   ],
   "source": [
    "import matplotlib.pyplot as plt    # Generates values within uniform distribution framework\n",
    "n1 = np.random.rand(40,40)\n",
    "print(n1)\n",
    "print(n1.min())\n",
    "print(n1.max())\n",
    "print(n1.mean())\n",
    "plt.scatter(n1,n1.T)\n",
    "plt.show() "
   ]
  },
  {
   "cell_type": "code",
   "execution_count": 286,
   "id": "28ae3339",
   "metadata": {},
   "outputs": [
    {
     "name": "stdout",
     "output_type": "stream",
     "text": [
      "(40, 40)\n",
      "-3.404554954886265\n",
      "3.427375676609933\n",
      "-0.003030030888827868\n"
     ]
    },
    {
     "data": {
      "image/png": "[encoded data removed]",
      "text/plain": [
       "<Figure size 640x480 with 1 Axes>"
      ]
     },
     "metadata": {},
     "output_type": "display_data"
    }
   ],
   "source": [
    "n1 = np.random.randn(40,40)    # Generates values within normal distribution framework\n",
    "print(n1.shape)\n",
    "print(n1.min())\n",
    "print(n1.max())\n",
    "print(n1.mean())\n",
    "plt.hist(n1)\n",
    "plt.show()"
   ]
  },
  {
   "cell_type": "code",
   "execution_count": null,
   "id": "5bc81b1b",
   "metadata": {},
   "outputs": [],
   "source": [
    "#INTERSECT TOPICS..."
   ]
  },
  {
   "cell_type": "code",
   "execution_count": 287,
   "id": "27a8437b",
   "metadata": {},
   "outputs": [
    {
     "name": "stdout",
     "output_type": "stream",
     "text": [
      "[10 17 18 21 23 16 17 19 10 12 18 22 13 19 16 21 22 15 21 22]\n",
      "[23 21 16 15 22 13 24 12 23 19 24 20 22 24 16 14 14 17 12 10]\n"
     ]
    }
   ],
   "source": [
    "n1 = np.random.randint(low=10, high=25, size=20)\n",
    "n2 = np.random.randint(low=10, high=25, size=20)\n",
    "print(n1)\n",
    "print(n2)"
   ]
  },
  {
   "cell_type": "code",
   "execution_count": 289,
   "id": "f106d9a4",
   "metadata": {},
   "outputs": [
    {
     "data": {
      "text/plain": [
       "array([10, 12, 13, 15, 16, 17, 19, 21, 22, 23])"
      ]
     },
     "execution_count": 289,
     "metadata": {},
     "output_type": "execute_result"
    }
   ],
   "source": [
    "np.intersect1d(n1,n2)"
   ]
  },
  {
   "cell_type": "code",
   "execution_count": 290,
   "id": "6bbece44",
   "metadata": {},
   "outputs": [
    {
     "data": {
      "text/plain": [
       "array([10, 12, 13, 14, 15, 16, 17, 18, 19, 20, 21, 22, 23, 24])"
      ]
     },
     "execution_count": 290,
     "metadata": {},
     "output_type": "execute_result"
    }
   ],
   "source": [
    "np.union1d(n1,n2)"
   ]
  }
 ],
 "metadata": {
  "kernelspec": {
   "display_name": "Python 3 (ipykernel)",
   "language": "python",
   "name": "python3"
  },
  "language_info": {
   "codemirror_mode": {
    "name": "ipython",
    "version": 3
   },
   "file_extension": ".py",
   "mimetype": "text/x-python",
   "name": "python",
   "nbconvert_exporter": "python",
   "pygments_lexer": "ipython3",
   "version": "3.10.9"
  }
 },
 "nbformat": 4,
 "nbformat_minor": 5
}
