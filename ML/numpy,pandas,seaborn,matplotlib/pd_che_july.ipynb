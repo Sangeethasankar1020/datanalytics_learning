{
 "cells": [
  {
   "cell_type": "markdown",
   "id": "8098b428",
   "metadata": {},
   "source": [
    "# 5/Sep/2023"
   ]
  },
  {
   "cell_type": "markdown",
   "id": "344b6666",
   "metadata": {},
   "source": [
    "# Pandas"
   ]
  },
  {
   "cell_type": "code",
   "execution_count": null,
   "id": "4d89d463",
   "metadata": {},
   "outputs": [],
   "source": [
    "import pandas as pd"
   ]
  },
  {
   "cell_type": "markdown",
   "id": "de9b875f",
   "metadata": {},
   "source": [
    "# Series"
   ]
  },
  {
   "cell_type": "raw",
   "id": "034bb06e",
   "metadata": {},
   "source": [
    "Labelled Series\n",
    "\n",
    "Tata    100\n",
    "Birla   200\n",
    "Wipro   300\n",
    "HCL     400\n",
    "MRF     500"
   ]
  },
  {
   "cell_type": "code",
   "execution_count": null,
   "id": "b58c5c5e",
   "metadata": {},
   "outputs": [],
   "source": [
    "mylist1 = [100,200,300,400,500]\n",
    "\n",
    "ps1 = pd.Series(mylist1)  ##   unlabelled Series\n",
    "print(type(ps1))\n",
    "print(ps1.ndim)\n",
    "print(ps1.shape)\n",
    "print(ps1.index)\n",
    "print(ps1.values)\n",
    "print(type(ps1.values))\n",
    "ps1"
   ]
  },
  {
   "cell_type": "code",
   "execution_count": null,
   "id": "5ba3131e",
   "metadata": {},
   "outputs": [],
   "source": [
    "ps1[0]"
   ]
  },
  {
   "cell_type": "code",
   "execution_count": null,
   "id": "dbfedde2",
   "metadata": {},
   "outputs": [],
   "source": [
    "mylist1 = [100,200,300,400,500]\n",
    "indexlist = ['Tata', 'Birla', 'Wipro', 'HCL', 'MRF']\n",
    "ps2 = pd.Series(mylist1, index=indexlist)  ##  Labelled Series\n",
    "print(ps2.index)\n",
    "ps2"
   ]
  },
  {
   "cell_type": "code",
   "execution_count": null,
   "id": "0b74ea66",
   "metadata": {},
   "outputs": [],
   "source": [
    "ps2['Birla']"
   ]
  },
  {
   "cell_type": "code",
   "execution_count": null,
   "id": "3d87de55",
   "metadata": {},
   "outputs": [],
   "source": [
    "md1 = {'Tata':100, 'Birla':200, 'Wipro':300, 'HCL':400, 'MRF':500}\n",
    "\n",
    "ps3 = pd.Series(md1)\n",
    "print(ps3.index)\n",
    "print(ps3)"
   ]
  },
  {
   "cell_type": "markdown",
   "id": "d75e2432",
   "metadata": {},
   "source": [
    "# DataFrame"
   ]
  },
  {
   "cell_type": "raw",
   "id": "d55137e3",
   "metadata": {},
   "source": [
    "        Rev   Exp  HQ\n",
    "\n",
    "Tata    100   75   'Mum'\n",
    "Birla   200   175  'Kol'\n",
    "Wipro   300   275  'Blr'\n",
    "HCL     400   350  'NCR'\n",
    "MRF     500   375  'Che'"
   ]
  },
  {
   "cell_type": "code",
   "execution_count": null,
   "id": "c5ee2bd5",
   "metadata": {},
   "outputs": [],
   "source": [
    "mylist53 = [\n",
    "    [100,75,'Mum'],\n",
    "    [200,175,'Kol'],\n",
    "    [300,275,'Blr'],\n",
    "    [400,350,'NCR'],\n",
    "    [500,375,'Che']\n",
    "]\n",
    "\n",
    "row_labels = ['Tata','Birla','Wipro','HCL','MRF']\n",
    "col_labels = ['Rev','Exp','HQ']"
   ]
  },
  {
   "cell_type": "code",
   "execution_count": null,
   "id": "71b33857",
   "metadata": {},
   "outputs": [],
   "source": [
    "df1 = pd.DataFrame(mylist53)  ##  unlabelled dataframe\n",
    "print(type(df1))\n",
    "df1"
   ]
  },
  {
   "cell_type": "code",
   "execution_count": null,
   "id": "41be7ff1",
   "metadata": {},
   "outputs": [],
   "source": [
    "df2 = pd.DataFrame(mylist53, index=row_labels)\n",
    "df2"
   ]
  },
  {
   "cell_type": "code",
   "execution_count": null,
   "id": "33cb0264",
   "metadata": {},
   "outputs": [],
   "source": [
    "df3 = pd.DataFrame(mylist53, index=row_labels, columns=col_labels)\n",
    "df3"
   ]
  },
  {
   "cell_type": "code",
   "execution_count": null,
   "id": "f6234121",
   "metadata": {},
   "outputs": [],
   "source": [
    "df3.index"
   ]
  },
  {
   "cell_type": "code",
   "execution_count": null,
   "id": "c2340317",
   "metadata": {},
   "outputs": [],
   "source": [
    "df3.columns"
   ]
  },
  {
   "cell_type": "code",
   "execution_count": null,
   "id": "1920391f",
   "metadata": {},
   "outputs": [],
   "source": [
    "df3"
   ]
  },
  {
   "cell_type": "code",
   "execution_count": null,
   "id": "bbc017de",
   "metadata": {},
   "outputs": [],
   "source": [
    "md2 = {'Rev':[100,200,300,400,500], \n",
    "       'Exp':[75,175,275,350,375], \n",
    "       'HQ':['Mum','Kol','Blr','NCR','Che']\n",
    "      }"
   ]
  },
  {
   "cell_type": "code",
   "execution_count": null,
   "id": "699e4f8e",
   "metadata": {},
   "outputs": [],
   "source": [
    "df2 = pd.DataFrame(md2, index=row_labels)\n",
    "df2"
   ]
  },
  {
   "cell_type": "markdown",
   "id": "c1f80991",
   "metadata": {},
   "source": [
    "# DataFrame from a File"
   ]
  },
  {
   "cell_type": "code",
   "execution_count": null,
   "id": "5fa340e3",
   "metadata": {},
   "outputs": [],
   "source": [
    "df1 = pd.read_csv('https://raw.githubusercontent.com/vcsgithub/vcsgithub.github.io/master/lds1.csv')\n",
    "df1"
   ]
  },
  {
   "cell_type": "code",
   "execution_count": null,
   "id": "c9188ad4",
   "metadata": {},
   "outputs": [],
   "source": [
    "df1.info()"
   ]
  },
  {
   "cell_type": "code",
   "execution_count": null,
   "id": "2af45ecb",
   "metadata": {},
   "outputs": [],
   "source": [
    "df1.index"
   ]
  },
  {
   "cell_type": "code",
   "execution_count": null,
   "id": "b9c72656",
   "metadata": {},
   "outputs": [],
   "source": [
    "df1.columns"
   ]
  },
  {
   "cell_type": "code",
   "execution_count": null,
   "id": "337ff416",
   "metadata": {},
   "outputs": [],
   "source": [
    "d1 = df1.describe()\n",
    "d1"
   ]
  },
  {
   "cell_type": "code",
   "execution_count": null,
   "id": "3e834282",
   "metadata": {},
   "outputs": [],
   "source": [
    "df1.describe(include='all')"
   ]
  },
  {
   "cell_type": "code",
   "execution_count": null,
   "id": "c016ea1f",
   "metadata": {},
   "outputs": [],
   "source": [
    "df1.describe(include='object')"
   ]
  },
  {
   "cell_type": "code",
   "execution_count": null,
   "id": "97f33099",
   "metadata": {},
   "outputs": [],
   "source": [
    "df1.describe(include='float64')"
   ]
  },
  {
   "cell_type": "code",
   "execution_count": null,
   "id": "e2950fbb",
   "metadata": {},
   "outputs": [],
   "source": [
    "df1.describe(include='int64')"
   ]
  },
  {
   "cell_type": "code",
   "execution_count": null,
   "id": "bf7bd2df",
   "metadata": {},
   "outputs": [],
   "source": [
    "df1.head()"
   ]
  },
  {
   "cell_type": "code",
   "execution_count": null,
   "id": "c937e85a",
   "metadata": {},
   "outputs": [],
   "source": [
    "df1.tail(3)"
   ]
  },
  {
   "cell_type": "markdown",
   "id": "2994424a",
   "metadata": {},
   "source": [
    "# Save to file"
   ]
  },
  {
   "cell_type": "code",
   "execution_count": null,
   "id": "3f1fc756",
   "metadata": {},
   "outputs": [],
   "source": [
    "df1.to_csv('file1.csv')"
   ]
  },
  {
   "cell_type": "code",
   "execution_count": null,
   "id": "32365a4d",
   "metadata": {},
   "outputs": [],
   "source": [
    "df1.to_excel('file1.xlsx')"
   ]
  },
  {
   "cell_type": "code",
   "execution_count": null,
   "id": "dcc94a6a",
   "metadata": {},
   "outputs": [],
   "source": [
    "df1.to_json('file1.json')"
   ]
  },
  {
   "cell_type": "code",
   "execution_count": null,
   "id": "b2f22c5e",
   "metadata": {},
   "outputs": [],
   "source": [
    "df1.to_html('file1.html')"
   ]
  },
  {
   "cell_type": "code",
   "execution_count": null,
   "id": "9833ddef",
   "metadata": {},
   "outputs": [],
   "source": [
    "df2 = pd.read_csv('file1.csv')\n",
    "df2"
   ]
  },
  {
   "cell_type": "code",
   "execution_count": null,
   "id": "be393b60",
   "metadata": {},
   "outputs": [],
   "source": [
    "df2 = pd.read_csv('file1.csv', index_col=0)\n",
    "df2"
   ]
  },
  {
   "cell_type": "code",
   "execution_count": null,
   "id": "7f72b9c9",
   "metadata": {},
   "outputs": [],
   "source": [
    "pd.read_excel('file1.xlsx', index_col=0)"
   ]
  },
  {
   "cell_type": "code",
   "execution_count": null,
   "id": "588b9957",
   "metadata": {},
   "outputs": [],
   "source": [
    "pd.read_json('file1.json')"
   ]
  },
  {
   "cell_type": "code",
   "execution_count": null,
   "id": "cfdd4a0a",
   "metadata": {},
   "outputs": [],
   "source": [
    "dflist = pd.read_html('file1.html', index_col=0)\n",
    "dflist[0]"
   ]
  },
  {
   "cell_type": "markdown",
   "id": "62143d38",
   "metadata": {},
   "source": [
    "# Access"
   ]
  },
  {
   "cell_type": "code",
   "execution_count": null,
   "id": "172d5c99",
   "metadata": {},
   "outputs": [],
   "source": [
    "df1 = pd.read_csv('https://raw.githubusercontent.com/vcsgithub/vcsgithub.github.io/master/lds1.csv')\n",
    "df1"
   ]
  },
  {
   "cell_type": "markdown",
   "id": "66bfd670",
   "metadata": {},
   "source": [
    "Direct Access"
   ]
  },
  {
   "cell_type": "code",
   "execution_count": null,
   "id": "164e92e2",
   "metadata": {},
   "outputs": [],
   "source": [
    "df1['Vol']"
   ]
  },
  {
   "cell_type": "code",
   "execution_count": null,
   "id": "5c31def2",
   "metadata": {},
   "outputs": [],
   "source": [
    "df1['Bombay_Finance']  ## error"
   ]
  },
  {
   "cell_type": "code",
   "execution_count": null,
   "id": "9f42adfe",
   "metadata": {},
   "outputs": [],
   "source": [
    "df1.Vol"
   ]
  },
  {
   "cell_type": "code",
   "execution_count": null,
   "id": "b661bd00",
   "metadata": {},
   "outputs": [],
   "source": [
    "df1[ ['Vol','Exp', 'HQ'] ]"
   ]
  },
  {
   "cell_type": "code",
   "execution_count": null,
   "id": "bcde8119",
   "metadata": {},
   "outputs": [],
   "source": [
    "df1[ ['Bombay_Finance', 'Chennai_Shipping'] ]"
   ]
  },
  {
   "cell_type": "code",
   "execution_count": null,
   "id": "8046a6eb",
   "metadata": {},
   "outputs": [],
   "source": [
    "df1['Bombay_Sporting':'Chennai_Shipping':2]"
   ]
  },
  {
   "cell_type": "code",
   "execution_count": null,
   "id": "8c0dd539",
   "metadata": {},
   "outputs": [],
   "source": [
    "df1['Rev':'HQ']  ## error"
   ]
  },
  {
   "cell_type": "code",
   "execution_count": null,
   "id": "9693f111",
   "metadata": {},
   "outputs": [],
   "source": [
    "df1['Bombay_Sporting' : 'Bombay_Sporting']"
   ]
  },
  {
   "cell_type": "code",
   "execution_count": null,
   "id": "37d5bcf6",
   "metadata": {},
   "outputs": [],
   "source": [
    "print(type(df1.Vol))"
   ]
  },
  {
   "cell_type": "markdown",
   "id": "c760ab3d",
   "metadata": {},
   "source": [
    "Integer Location Based Acccess"
   ]
  },
  {
   "cell_type": "code",
   "execution_count": null,
   "id": "916e4657",
   "metadata": {},
   "outputs": [],
   "source": [
    "df1"
   ]
  },
  {
   "cell_type": "code",
   "execution_count": null,
   "id": "6b6f3631",
   "metadata": {},
   "outputs": [],
   "source": [
    "df1.iloc[0]"
   ]
  },
  {
   "cell_type": "code",
   "execution_count": null,
   "id": "c8027ade",
   "metadata": {},
   "outputs": [],
   "source": [
    "df1.iloc[0,0]"
   ]
  },
  {
   "cell_type": "code",
   "execution_count": null,
   "id": "37698a72",
   "metadata": {},
   "outputs": [],
   "source": [
    "df1.iloc[1:4]"
   ]
  },
  {
   "cell_type": "code",
   "execution_count": null,
   "id": "108584a1",
   "metadata": {},
   "outputs": [],
   "source": [
    "df1.iloc[1:4, 2:7]"
   ]
  },
  {
   "cell_type": "code",
   "execution_count": null,
   "id": "4b601279",
   "metadata": {},
   "outputs": [],
   "source": [
    "df1.iloc['NCR_Leagles']   ##  Error"
   ]
  },
  {
   "cell_type": "code",
   "execution_count": null,
   "id": "22017d50",
   "metadata": {},
   "outputs": [],
   "source": [
    "df1.iloc[ [0,1,-1,-2] ]"
   ]
  },
  {
   "cell_type": "code",
   "execution_count": null,
   "id": "223fb7f7",
   "metadata": {},
   "outputs": [],
   "source": [
    "df1.iloc[ [0,1,-1,-2] , [1,2,4,-2,-1]  ]"
   ]
  },
  {
   "cell_type": "code",
   "execution_count": null,
   "id": "a94b7e8e",
   "metadata": {},
   "outputs": [],
   "source": [
    "df1.iloc[ [0,1,-1,-2] , 2:5]"
   ]
  },
  {
   "cell_type": "code",
   "execution_count": null,
   "id": "be34f776",
   "metadata": {},
   "outputs": [],
   "source": [
    "df1.iloc[:, 3]"
   ]
  },
  {
   "cell_type": "raw",
   "id": "c640bc2b",
   "metadata": {},
   "source": [
    "Grammer\n",
    "\n",
    "1.  Direct Access\n",
    "2.  Integer Location Based Access\n",
    "3.  Label Based Access\n",
    "\n",
    "\n",
    "1.  Direct Access\n",
    "    df1['col_only'] or df1.col_name\n",
    "    df1[ [list of col labels only] ]\n",
    "    df1[ slice of row labels only ]  # end point = True\n",
    "    \n",
    "    df1[ boolean series]\n",
    "    \n",
    "2.  Integer Location Based Access    \n",
    "    \n",
    "    df1.iloc[ row_n_index ]  ##  row is returned as a series\n",
    "    df1.iloc[ row_n_index, col_n_index ] ##  cell values is returned.\n",
    "    \n",
    "    df1.iloc[ row_n_slice ]\n",
    "    df1.iloc[ row_n_slice, col_n_slice]\n",
    "    \n",
    "    df1.iloc[ [list of row_n_indices] ]\n",
    "    df1.iloc[ [list of row_n_indices] , [list of col_n_indices] ]   \n",
    "    \n",
    "    combo of all of above\n",
    "    \n",
    "3.  Label Based Access    \n",
    "\n",
    "    df1.loc[ row_label ]              ##  row is returned as a series\n",
    "    df1.loc[ row_label, col_label ]   ##  cell values is returned.\n",
    "    \n",
    "    df1.loc[ row_label_slice ]\n",
    "    df1.loc[ row_label_slice, col_label_slice]\n",
    "    \n",
    "    df1.loc[ [list of row_labels] ]\n",
    "    df1.loc[ [list of row_labels] , [list of col_labels] ]   \n",
    "    \n",
    "    combo of all of above\n",
    "    \n",
    "    df1.loc[boolean_series]\n",
    "    \n",
    "Conditional Access    "
   ]
  },
  {
   "cell_type": "markdown",
   "id": "87079c1c",
   "metadata": {},
   "source": [
    "Label Based Access"
   ]
  },
  {
   "cell_type": "code",
   "execution_count": null,
   "id": "dee8784f",
   "metadata": {},
   "outputs": [],
   "source": [
    "df1.index"
   ]
  },
  {
   "cell_type": "code",
   "execution_count": null,
   "id": "672f3a97",
   "metadata": {},
   "outputs": [],
   "source": [
    "df1.columns"
   ]
  },
  {
   "cell_type": "code",
   "execution_count": null,
   "id": "ac8cc23c",
   "metadata": {},
   "outputs": [],
   "source": [
    "df1.loc['NCR_Leagles']"
   ]
  },
  {
   "cell_type": "code",
   "execution_count": null,
   "id": "838e405e",
   "metadata": {},
   "outputs": [],
   "source": [
    "df1.loc['NCR_Leagles', 'Rev']"
   ]
  },
  {
   "cell_type": "code",
   "execution_count": null,
   "id": "f04d1a1f",
   "metadata": {},
   "outputs": [],
   "source": [
    "df1.loc['NCR_Leagles': 'Chennai_Shipping':2]"
   ]
  },
  {
   "cell_type": "code",
   "execution_count": null,
   "id": "28c9f713",
   "metadata": {},
   "outputs": [],
   "source": [
    "df1.loc['NCR_Leagles': 'Chennai_Shipping':2 , 'Rev':'GST']"
   ]
  },
  {
   "cell_type": "code",
   "execution_count": null,
   "id": "96fac2d9",
   "metadata": {},
   "outputs": [],
   "source": [
    "df1.loc[['NCR_Leagles', 'Chennai_Chemicals', 'Bombay_Finance']]"
   ]
  },
  {
   "cell_type": "code",
   "execution_count": null,
   "id": "449bf57f",
   "metadata": {},
   "outputs": [],
   "source": [
    "df1.loc[['NCR_Leagles', 'Chennai_Chemicals', 'Bombay_Finance'],  ['GST','HQ','Exp','Rev']]"
   ]
  },
  {
   "cell_type": "markdown",
   "id": "5c411d94",
   "metadata": {},
   "source": [
    "# Conditional  Access"
   ]
  },
  {
   "cell_type": "code",
   "execution_count": null,
   "id": "67f3dd9d",
   "metadata": {},
   "outputs": [],
   "source": [
    "df1 = pd.read_csv('https://raw.githubusercontent.com/vcsgithub/vcsgithub.github.io/master/lds1.csv')\n",
    "df1"
   ]
  },
  {
   "cell_type": "code",
   "execution_count": null,
   "id": "78dcf04f",
   "metadata": {},
   "outputs": [],
   "source": [
    "bs1 = df1.Sector == 'Pub'\n",
    "bs1"
   ]
  },
  {
   "cell_type": "code",
   "execution_count": null,
   "id": "aeaf4b56",
   "metadata": {},
   "outputs": [],
   "source": [
    "df1[bs1]"
   ]
  },
  {
   "cell_type": "code",
   "execution_count": null,
   "id": "70a5a0bb",
   "metadata": {},
   "outputs": [],
   "source": [
    "df1[df1.Sector == 'Pub']"
   ]
  },
  {
   "cell_type": "code",
   "execution_count": null,
   "id": "70092ada",
   "metadata": {},
   "outputs": [],
   "source": [
    "df1[  (df1.Sector == 'Pub') &  (df1.MNC == 1)]"
   ]
  },
  {
   "cell_type": "code",
   "execution_count": null,
   "id": "2839fd49",
   "metadata": {},
   "outputs": [],
   "source": [
    "df1[  (df1.Sector == 'Pub') &  (df1.MNC == 1)]['EmpCnt']   # direct access method"
   ]
  },
  {
   "cell_type": "code",
   "execution_count": null,
   "id": "37cc64ec",
   "metadata": {},
   "outputs": [],
   "source": [
    "df1.loc[ (df1.Sector == 'Pub') &  (df1.MNC == 1) , 'EmpCnt' ]"
   ]
  },
  {
   "cell_type": "code",
   "execution_count": null,
   "id": "ed439f5f",
   "metadata": {},
   "outputs": [],
   "source": [
    "df1.loc[ (df1.Sector == 'Pub') &  (df1.MNC == 1) , ['EmpCnt','HQ' ]]"
   ]
  },
  {
   "cell_type": "code",
   "execution_count": null,
   "id": "ae7bb6c0",
   "metadata": {},
   "outputs": [],
   "source": [
    "df1"
   ]
  },
  {
   "cell_type": "markdown",
   "id": "932cf318",
   "metadata": {},
   "source": [
    "# Mutability"
   ]
  },
  {
   "cell_type": "code",
   "execution_count": null,
   "id": "ddd2d022",
   "metadata": {},
   "outputs": [],
   "source": [
    "df1"
   ]
  },
  {
   "cell_type": "code",
   "execution_count": null,
   "id": "5a6da880",
   "metadata": {},
   "outputs": [],
   "source": [
    "df1['Profit'] = df1.Rev - df1.Exp"
   ]
  },
  {
   "cell_type": "code",
   "execution_count": null,
   "id": "e6fd57e6",
   "metadata": {},
   "outputs": [],
   "source": [
    "df1"
   ]
  },
  {
   "cell_type": "code",
   "execution_count": null,
   "id": "a6fa5a62",
   "metadata": {},
   "outputs": [],
   "source": [
    "df1.Profit"
   ]
  },
  {
   "cell_type": "code",
   "execution_count": null,
   "id": "a02b32e2",
   "metadata": {},
   "outputs": [],
   "source": [
    "df1.Rev.mean()"
   ]
  },
  {
   "cell_type": "code",
   "execution_count": null,
   "id": "73cf537b",
   "metadata": {},
   "outputs": [],
   "source": [
    "df1[df1.Rev >= df1.Rev.mean()]"
   ]
  },
  {
   "cell_type": "code",
   "execution_count": null,
   "id": "e2d6016a",
   "metadata": {},
   "outputs": [],
   "source": [
    "df1.Rev.min()"
   ]
  },
  {
   "cell_type": "code",
   "execution_count": null,
   "id": "10aa1000",
   "metadata": {},
   "outputs": [],
   "source": [
    "df1.Rev.max()"
   ]
  },
  {
   "cell_type": "code",
   "execution_count": null,
   "id": "300fe663",
   "metadata": {},
   "outputs": [],
   "source": [
    "df1.Rev.mean()"
   ]
  },
  {
   "cell_type": "code",
   "execution_count": null,
   "id": "90f731ce",
   "metadata": {},
   "outputs": [],
   "source": [
    "df1.Rev.median()"
   ]
  },
  {
   "cell_type": "code",
   "execution_count": null,
   "id": "114f682d",
   "metadata": {},
   "outputs": [],
   "source": [
    "df1.Rev.sum()"
   ]
  },
  {
   "cell_type": "code",
   "execution_count": null,
   "id": "1b3271b5",
   "metadata": {},
   "outputs": [],
   "source": [
    "df1"
   ]
  },
  {
   "cell_type": "code",
   "execution_count": null,
   "id": "edcad9ce",
   "metadata": {},
   "outputs": [],
   "source": [
    "df1.loc[df1.Rev >= df1.Rev.mean()]"
   ]
  },
  {
   "cell_type": "code",
   "execution_count": null,
   "id": "2fe47624",
   "metadata": {},
   "outputs": [],
   "source": [
    "df1.loc[df1.Rev >= df1.Rev.mean(), 'Rev'] = 999"
   ]
  },
  {
   "cell_type": "code",
   "execution_count": null,
   "id": "95697983",
   "metadata": {},
   "outputs": [],
   "source": [
    "df1"
   ]
  },
  {
   "cell_type": "markdown",
   "id": "34808bf3",
   "metadata": {},
   "source": [
    "# Sorting"
   ]
  },
  {
   "cell_type": "code",
   "execution_count": null,
   "id": "caafdeaa",
   "metadata": {},
   "outputs": [],
   "source": [
    "df1 = pd.read_json('file1.json')\n",
    "df1"
   ]
  },
  {
   "cell_type": "code",
   "execution_count": null,
   "id": "c183305f",
   "metadata": {},
   "outputs": [],
   "source": [
    "mylist1 = [1,2,3]\n",
    "\n",
    "r = mylist1.append(4)\n",
    "\n",
    "print(r)"
   ]
  },
  {
   "cell_type": "code",
   "execution_count": null,
   "id": "6522df81",
   "metadata": {},
   "outputs": [],
   "source": [
    "mylist1"
   ]
  },
  {
   "cell_type": "code",
   "execution_count": null,
   "id": "0031a65c",
   "metadata": {},
   "outputs": [],
   "source": [
    "ms1 = 'hello'\n",
    "r = ms1.replace('h','j')\n",
    "print(r)"
   ]
  },
  {
   "cell_type": "code",
   "execution_count": null,
   "id": "faa4784c",
   "metadata": {},
   "outputs": [],
   "source": [
    "ms1"
   ]
  },
  {
   "cell_type": "code",
   "execution_count": null,
   "id": "77e3d3a5",
   "metadata": {},
   "outputs": [],
   "source": [
    "df1"
   ]
  },
  {
   "cell_type": "code",
   "execution_count": null,
   "id": "c03553dd",
   "metadata": {},
   "outputs": [],
   "source": [
    "df2 = df1.sort_index(axis=0, inplace=True, ascending=False)\n",
    "print(df2)"
   ]
  },
  {
   "cell_type": "code",
   "execution_count": null,
   "id": "63f2fd76",
   "metadata": {},
   "outputs": [],
   "source": [
    "df1"
   ]
  },
  {
   "cell_type": "code",
   "execution_count": null,
   "id": "d691febb",
   "metadata": {},
   "outputs": [],
   "source": [
    "df1 = pd.read_json('file1.json')\n",
    "df1"
   ]
  },
  {
   "cell_type": "code",
   "execution_count": null,
   "id": "f34a95d5",
   "metadata": {},
   "outputs": [],
   "source": [
    "df1.sort_index(axis=0, inplace=False, ascending=False)"
   ]
  },
  {
   "cell_type": "code",
   "execution_count": null,
   "id": "96482d56",
   "metadata": {},
   "outputs": [],
   "source": [
    "df1.sort_index(axis=0, inplace=False, ascending=True)"
   ]
  },
  {
   "cell_type": "code",
   "execution_count": null,
   "id": "729aa6fe",
   "metadata": {},
   "outputs": [],
   "source": [
    "df1.sort_index(axis=1, inplace=False, ascending=True)"
   ]
  },
  {
   "cell_type": "code",
   "execution_count": null,
   "id": "a1468835",
   "metadata": {},
   "outputs": [],
   "source": [
    "df1.sort_index(axis=1, inplace=False, ascending=False)"
   ]
  },
  {
   "cell_type": "code",
   "execution_count": null,
   "id": "5bfee1bb",
   "metadata": {},
   "outputs": [],
   "source": [
    "df1 = pd.read_json('file1.json')\n",
    "df1"
   ]
  },
  {
   "cell_type": "code",
   "execution_count": null,
   "id": "bd54ad77",
   "metadata": {},
   "outputs": [],
   "source": [
    "df1.sort_values(by='Vol',ascending=True,inplace=False)"
   ]
  },
  {
   "cell_type": "code",
   "execution_count": null,
   "id": "0a58acea",
   "metadata": {},
   "outputs": [],
   "source": [
    "df1.sort_values(by='Vol',ascending=False,inplace=False)"
   ]
  },
  {
   "cell_type": "code",
   "execution_count": null,
   "id": "e697f22b",
   "metadata": {},
   "outputs": [],
   "source": [
    "df1.sort_values(by='Vol',ascending=True,inplace=False)"
   ]
  },
  {
   "cell_type": "code",
   "execution_count": null,
   "id": "e22ef22d",
   "metadata": {},
   "outputs": [],
   "source": [
    "df1.sort_values(by=['Vol','Rev'],ascending=[True,True],inplace=False)"
   ]
  },
  {
   "cell_type": "code",
   "execution_count": null,
   "id": "db8e9cd5",
   "metadata": {},
   "outputs": [],
   "source": [
    "df1.sort_values(by=['Vol','Rev'],ascending=[True,False],inplace=False, axis=0)"
   ]
  },
  {
   "cell_type": "code",
   "execution_count": null,
   "id": "34145d9a",
   "metadata": {},
   "outputs": [],
   "source": [
    "df1.sort_values(by='NCR_Leagles', axis=1)"
   ]
  },
  {
   "cell_type": "code",
   "execution_count": null,
   "id": "3c222670",
   "metadata": {},
   "outputs": [],
   "source": [
    "123 > 'abc'"
   ]
  },
  {
   "cell_type": "code",
   "execution_count": null,
   "id": "9d3e5dde",
   "metadata": {},
   "outputs": [],
   "source": [
    "df1.select_dtypes(include='object').sort_values(by='NCR_Leagles', axis=1)"
   ]
  },
  {
   "cell_type": "code",
   "execution_count": null,
   "id": "8e35c56c",
   "metadata": {},
   "outputs": [],
   "source": [
    "'abc' > 'def'"
   ]
  },
  {
   "cell_type": "code",
   "execution_count": null,
   "id": "446e93f8",
   "metadata": {},
   "outputs": [],
   "source": [
    "ord('a')"
   ]
  },
  {
   "cell_type": "code",
   "execution_count": null,
   "id": "5fb970cd",
   "metadata": {},
   "outputs": [],
   "source": [
    "ord('d')"
   ]
  },
  {
   "cell_type": "markdown",
   "id": "dcd669b1",
   "metadata": {},
   "source": [
    "# Rank"
   ]
  },
  {
   "cell_type": "code",
   "execution_count": null,
   "id": "7fcbd715",
   "metadata": {},
   "outputs": [],
   "source": [
    "df1 = pd.read_json('file1.json')\n",
    "df1"
   ]
  },
  {
   "cell_type": "code",
   "execution_count": null,
   "id": "d8b69dc3",
   "metadata": {},
   "outputs": [],
   "source": [
    "df1['vrank'] = df1.Vol.rank(method='average',ascending=False)\n",
    "df1"
   ]
  },
  {
   "cell_type": "code",
   "execution_count": null,
   "id": "014892e2",
   "metadata": {},
   "outputs": [],
   "source": [
    "df1['vrank'] = df1.Vol.rank(method='first',ascending=False)\n",
    "df1"
   ]
  },
  {
   "cell_type": "code",
   "execution_count": null,
   "id": "55acb334",
   "metadata": {},
   "outputs": [],
   "source": [
    "df1['vrank'] = df1.Vol.rank(method='dense',ascending=False)\n",
    "df1"
   ]
  },
  {
   "cell_type": "code",
   "execution_count": null,
   "id": "0bf388e9",
   "metadata": {},
   "outputs": [],
   "source": [
    "df1['vrank'] = df1.Vol.rank(method='min',ascending=False)\n",
    "df1"
   ]
  },
  {
   "cell_type": "code",
   "execution_count": null,
   "id": "0a66a5d0",
   "metadata": {},
   "outputs": [],
   "source": [
    "df1['vrank'] = df1.Vol.rank(method='max',ascending=False)\n",
    "df1"
   ]
  },
  {
   "cell_type": "raw",
   "id": "13d8e77d",
   "metadata": {},
   "source": [
    "map, replace, rename\n",
    "groupby, pivottable"
   ]
  },
  {
   "cell_type": "markdown",
   "id": "dd236130",
   "metadata": {},
   "source": [
    "# MAP"
   ]
  },
  {
   "cell_type": "code",
   "execution_count": null,
   "id": "43b5dcaa",
   "metadata": {},
   "outputs": [],
   "source": [
    "df1 = pd.read_json('file1.json')\n",
    "df1"
   ]
  },
  {
   "cell_type": "code",
   "execution_count": null,
   "id": "c802dd29",
   "metadata": {},
   "outputs": [],
   "source": [
    "md1 = {'Kol':'EZ', 'Mum':'WZ','Blr':'SZ', 'Che':'SZ', 'NCR':'NZ'}\n",
    "df1['Zone'] = df1.HQ.map(md1)\n",
    "df1"
   ]
  },
  {
   "cell_type": "code",
   "execution_count": null,
   "id": "7ee76d59",
   "metadata": {},
   "outputs": [],
   "source": [
    "##  > 950:'Excellent' <930: 'Average'  else 'Good'\n",
    "def sales_performance(sales):\n",
    "    if sales > 950:\n",
    "        return 'Excellent'\n",
    "    elif sales < 930:\n",
    "        return 'Average'\n",
    "    else:\n",
    "        return 'Good'"
   ]
  },
  {
   "cell_type": "code",
   "execution_count": null,
   "id": "8abd69e6",
   "metadata": {},
   "outputs": [],
   "source": [
    "df1['Sales_Performance'] = df1.Vol.map(sales_performance)\n",
    "df1"
   ]
  },
  {
   "cell_type": "code",
   "execution_count": null,
   "id": "e42f91ae",
   "metadata": {},
   "outputs": [],
   "source": [
    "df1['Sales_Performance1'] = df1.Vol.map(lambda vol: 'Exc' if vol > 950 else 'Avg' if vol < 930 else 'Good')\n",
    "df1"
   ]
  },
  {
   "cell_type": "markdown",
   "id": "deffc9e0",
   "metadata": {},
   "source": [
    "# Pivot Table"
   ]
  },
  {
   "cell_type": "code",
   "execution_count": null,
   "id": "2148a22f",
   "metadata": {},
   "outputs": [],
   "source": [
    "import numpy as np"
   ]
  },
  {
   "cell_type": "code",
   "execution_count": null,
   "id": "25e185e8",
   "metadata": {},
   "outputs": [],
   "source": [
    "df1 = pd.read_json('file1.json')\n",
    "df1"
   ]
  },
  {
   "cell_type": "code",
   "execution_count": null,
   "id": "b58ac5bc",
   "metadata": {},
   "outputs": [],
   "source": [
    "pd.pivot_table(df1, index='Sector')"
   ]
  },
  {
   "cell_type": "code",
   "execution_count": null,
   "id": "f4456e30",
   "metadata": {},
   "outputs": [],
   "source": [
    "pd.pivot_table(df1, index='Sector', values=['Vol','Rev'], aggfunc='mean')"
   ]
  },
  {
   "cell_type": "code",
   "execution_count": null,
   "id": "bfa6418a",
   "metadata": {},
   "outputs": [],
   "source": [
    "dfp = pd.pivot_table(df1, index='Sector', values=['Vol','Rev'], aggfunc=['min','max'])\n",
    "dfp"
   ]
  },
  {
   "cell_type": "code",
   "execution_count": null,
   "id": "2ba98fc2",
   "metadata": {},
   "outputs": [],
   "source": [
    "dfp.loc['Pub', ('min', 'Vol')]"
   ]
  },
  {
   "cell_type": "code",
   "execution_count": null,
   "id": "b841ca41",
   "metadata": {},
   "outputs": [],
   "source": [
    "dfp = pd.pivot_table(df1, index='Sector', columns='MNC', values=['Vol','Rev'], aggfunc='mean')\n",
    "dfp"
   ]
  },
  {
   "cell_type": "code",
   "execution_count": null,
   "id": "93804380",
   "metadata": {},
   "outputs": [],
   "source": [
    "df1[df1.Sector=='Gov']"
   ]
  },
  {
   "cell_type": "code",
   "execution_count": null,
   "id": "d750afbb",
   "metadata": {},
   "outputs": [],
   "source": [
    "dfp = pd.pivot_table(df1, index='Sector', values='Vol', aggfunc=['min','max'])\n",
    "dfp"
   ]
  },
  {
   "cell_type": "code",
   "execution_count": null,
   "id": "4833bbb0",
   "metadata": {},
   "outputs": [],
   "source": [
    "def minmaxdiff(series):\n",
    "    return series.max() - series.min()"
   ]
  },
  {
   "cell_type": "code",
   "execution_count": null,
   "id": "bb5c0ae6",
   "metadata": {},
   "outputs": [],
   "source": [
    "minmaxdiff(df1.Vol)"
   ]
  },
  {
   "cell_type": "code",
   "execution_count": null,
   "id": "e7a72571",
   "metadata": {},
   "outputs": [],
   "source": [
    "dfp = pd.pivot_table(df1, index='Sector', values='Vol', aggfunc=['min',np.max, minmaxdiff])\n",
    "dfp"
   ]
  },
  {
   "cell_type": "code",
   "execution_count": null,
   "id": "d692d7aa",
   "metadata": {},
   "outputs": [],
   "source": [
    "dfp = pd.pivot_table(df1, index=['Sector','GST'], values='Vol', aggfunc='mean')\n",
    "dfp"
   ]
  },
  {
   "cell_type": "markdown",
   "id": "152bfb3d",
   "metadata": {},
   "source": [
    "# Misc"
   ]
  },
  {
   "cell_type": "code",
   "execution_count": null,
   "id": "8abb48d0",
   "metadata": {},
   "outputs": [],
   "source": [
    "df1 = pd.read_json('file1.json')\n",
    "df1"
   ]
  },
  {
   "cell_type": "code",
   "execution_count": null,
   "id": "124059fd",
   "metadata": {},
   "outputs": [],
   "source": [
    "df1[['Month','Year']] = df1.Started.str.split(' ', expand=True)\n",
    "df1"
   ]
  },
  {
   "cell_type": "code",
   "execution_count": null,
   "id": "ccf711bf",
   "metadata": {},
   "outputs": [],
   "source": [
    "df1"
   ]
  },
  {
   "cell_type": "code",
   "execution_count": null,
   "id": "8b24c546",
   "metadata": {},
   "outputs": [],
   "source": [
    "df1.loc[:, df1.columns != 'EmpCnt']"
   ]
  },
  {
   "cell_type": "code",
   "execution_count": null,
   "id": "1c478565",
   "metadata": {},
   "outputs": [],
   "source": [
    "df1.columns != 'EmpCnt'"
   ]
  },
  {
   "cell_type": "markdown",
   "id": "4237dc85",
   "metadata": {},
   "source": [
    "# Pandas Insert"
   ]
  },
  {
   "cell_type": "code",
   "execution_count": null,
   "id": "66711e33",
   "metadata": {},
   "outputs": [],
   "source": [
    "df1 = pd.read_json('file1.json')\n",
    "df1"
   ]
  },
  {
   "cell_type": "code",
   "execution_count": null,
   "id": "93f31a6a",
   "metadata": {},
   "outputs": [],
   "source": [
    "industry = ['fmcg','legal','sports','bfsc','it','transport','fmcg','pharma','transport']\n",
    "s = pd.Series(industry, index=df1.index)\n",
    "s"
   ]
  },
  {
   "cell_type": "code",
   "execution_count": null,
   "id": "7883e247",
   "metadata": {},
   "outputs": [],
   "source": [
    "df1.insert(1,'industry',s)\n",
    "df1"
   ]
  },
  {
   "cell_type": "code",
   "execution_count": null,
   "id": "d1ac6b7d",
   "metadata": {},
   "outputs": [],
   "source": []
  }
 ],
 "metadata": {
  "kernelspec": {
   "display_name": "Python 3 (ipykernel)",
   "language": "python",
   "name": "python3"
  },
  "language_info": {
   "codemirror_mode": {
    "name": "ipython",
    "version": 3
   },
   "file_extension": ".py",
   "mimetype": "text/x-python",
   "name": "python",
   "nbconvert_exporter": "python",
   "pygments_lexer": "ipython3",
   "version": "3.10.9"
  }
 },
 "nbformat": 4,
 "nbformat_minor": 5
}
