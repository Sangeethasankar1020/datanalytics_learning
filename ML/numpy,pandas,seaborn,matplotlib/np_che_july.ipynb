{
 "cells": [
  {
   "cell_type": "markdown",
   "id": "a8b94f0f",
   "metadata": {},
   "source": [
    "# 04/Sep/2023.  "
   ]
  },
  {
   "cell_type": "markdown",
   "id": "097f1d80",
   "metadata": {},
   "source": [
    "# NUMPY"
   ]
  },
  {
   "cell_type": "code",
   "execution_count": 1,
   "id": "9cc6b18f",
   "metadata": {},
   "outputs": [],
   "source": [
    "import numpy as np"
   ]
  },
  {
   "cell_type": "markdown",
   "id": "67258cfb",
   "metadata": {},
   "source": [
    "# Creation of Array (1d)"
   ]
  },
  {
   "cell_type": "code",
   "execution_count": 2,
   "id": "b59cd996",
   "metadata": {},
   "outputs": [
    {
     "name": "stdout",
     "output_type": "stream",
     "text": [
      "<class 'numpy.ndarray'>\n",
      "[11 22 33 44 55]\n",
      "1\n",
      "(5,)\n",
      "5\n",
      "4\n",
      "int32\n"
     ]
    }
   ],
   "source": [
    "mylist1 = [11,22,33,44,55]\n",
    "n1 = np.array(mylist1)\n",
    "print(type(n1))\n",
    "\n",
    "print(n1)\n",
    "\n",
    "print(n1.ndim)  ##  number of dimensions\n",
    "print(n1.shape) ##  shape of the array.  count along each available axis\n",
    "\n",
    "print(n1.size)  ##  total number of elements in the array\n",
    "\n",
    "print(n1.itemsize) ##  size in bytes of each item in memory\n",
    "print(n1.dtype)    ##  dtype is the datatype"
   ]
  },
  {
   "cell_type": "code",
   "execution_count": 3,
   "id": "2f189f41",
   "metadata": {},
   "outputs": [
    {
     "name": "stdout",
     "output_type": "stream",
     "text": [
      "[11 22 33 44 55]\n",
      "1\n",
      "int8\n"
     ]
    }
   ],
   "source": [
    "mylist1 = [11,22,33,44,55]\n",
    "n1 = np.array(mylist1, dtype=np.int8)  ##  range of int8.  -128 to +127\n",
    "print(n1)\n",
    "print(n1.itemsize) ##  size in bytes of each item in memory\n",
    "print(n1.dtype)    ##  dtype is the datatype"
   ]
  },
  {
   "cell_type": "code",
   "execution_count": 4,
   "id": "7cc405b4",
   "metadata": {},
   "outputs": [
    {
     "name": "stdout",
     "output_type": "stream",
     "text": [
      "<class 'numpy.ndarray'>\n",
      "[11.   22.   33.   44.   55.98]\n",
      "1\n",
      "(5,)\n",
      "5\n",
      "8\n",
      "float64\n"
     ]
    }
   ],
   "source": [
    "mylist1 = [11,22,33,44,55.98]\n",
    "n1 = np.array(mylist1)\n",
    "print(type(n1))\n",
    "\n",
    "print(n1)\n",
    "\n",
    "print(n1.ndim)  ##  number of dimensions\n",
    "print(n1.shape) ##  shape of the array.  count along each available axis\n",
    "\n",
    "print(n1.size)  ##  total number of elements in the array\n",
    "\n",
    "print(n1.itemsize) ##  size in bytes of each item in memory\n",
    "print(n1.dtype)    ##  dtype is the datatype"
   ]
  },
  {
   "cell_type": "code",
   "execution_count": 5,
   "id": "e2c579d7",
   "metadata": {},
   "outputs": [
    {
     "name": "stdout",
     "output_type": "stream",
     "text": [
      "[10 12 14 16 18 20 22 24 26 28 30 32 34 36 38]\n",
      "<class 'numpy.ndarray'>\n"
     ]
    }
   ],
   "source": [
    "n1 = np.arange(10,40,2)\n",
    "print(n1)\n",
    "print(type(n1))"
   ]
  },
  {
   "cell_type": "code",
   "execution_count": 6,
   "id": "c1b9fbd1",
   "metadata": {},
   "outputs": [
    {
     "name": "stdout",
     "output_type": "stream",
     "text": [
      "[10.1  11.09 12.08 13.07 14.06 15.05 16.04 17.03 18.02 19.01 20.   20.99\n",
      " 21.98 22.97 23.96 24.95 25.94 26.93 27.92 28.91 29.9  30.89 31.88 32.87\n",
      " 33.86 34.85 35.84 36.83 37.82 38.81 39.8  40.79]\n",
      "<class 'numpy.ndarray'>\n"
     ]
    }
   ],
   "source": [
    "n1 = np.arange(10.1,40.9,0.99)\n",
    "print(n1)\n",
    "print(type(n1))"
   ]
  },
  {
   "cell_type": "code",
   "execution_count": 7,
   "id": "3baaf19e",
   "metadata": {},
   "outputs": [
    {
     "name": "stdout",
     "output_type": "stream",
     "text": [
      "<class 'numpy.ndarray'>\n",
      "[97 58 47 44 11]\n"
     ]
    },
    {
     "data": {
      "text/plain": [
       "array([83, 64, 20, 27, 30])"
      ]
     },
     "execution_count": 7,
     "metadata": {},
     "output_type": "execute_result"
    }
   ],
   "source": [
    "n1 = np.random.randint(low=10, high=100, size=5)\n",
    "print(type(n1))\n",
    "print(n1)\n",
    "np.random.randint(10,100,size=5)"
   ]
  },
  {
   "cell_type": "code",
   "execution_count": 14,
   "id": "0f6cfec4",
   "metadata": {},
   "outputs": [
    {
     "name": "stdout",
     "output_type": "stream",
     "text": [
      "<class 'numpy.ndarray'>\n",
      "[19 25 74 38 99]\n"
     ]
    }
   ],
   "source": [
    "np.random.seed(10)\n",
    "n1 = np.random.randint(low=10, high=100, size=5)\n",
    "print(type(n1))\n",
    "print(n1)"
   ]
  },
  {
   "cell_type": "markdown",
   "id": "c279ac00",
   "metadata": {},
   "source": [
    "# Creation of 2D Array"
   ]
  },
  {
   "cell_type": "code",
   "execution_count": 15,
   "id": "d2840faa",
   "metadata": {},
   "outputs": [
    {
     "name": "stdout",
     "output_type": "stream",
     "text": [
      "[[5 3 4]\n",
      " [9 0 0]]\n",
      "2\n",
      "(2, 3)\n",
      "6\n"
     ]
    }
   ],
   "source": [
    "mylist2d = [\n",
    "    [5,3,4],\n",
    "    [9,0,0]\n",
    "]\n",
    "\n",
    "n23 = np.array(mylist2d)\n",
    "\n",
    "print(n23)\n",
    "\n",
    "print(n23.ndim)  ##  number of dimensions\n",
    "print(n23.shape) ##  shape of the array.  count along each available axis\n",
    "\n",
    "print(n23.size)  ##  total number of elements in the array"
   ]
  },
  {
   "cell_type": "code",
   "execution_count": 16,
   "id": "f4ecd437",
   "metadata": {},
   "outputs": [
    {
     "name": "stdout",
     "output_type": "stream",
     "text": [
      "[[ 0  1  2  3]\n",
      " [ 4  5  6  7]\n",
      " [ 8  9 10 11]]\n",
      "(3, 4)\n"
     ]
    }
   ],
   "source": [
    "n34 = np.arange(12).reshape(3,4)\n",
    "print(n34)\n",
    "print(n34.shape)"
   ]
  },
  {
   "cell_type": "code",
   "execution_count": 23,
   "id": "566c5f09",
   "metadata": {},
   "outputs": [
    {
     "name": "stdout",
     "output_type": "stream",
     "text": [
      "(1234658, 10)\n"
     ]
    },
    {
     "data": {
      "text/plain": [
       "array([0, 1, 2, 3, 4, 5, 6, 7, 8, 9])"
      ]
     },
     "execution_count": 23,
     "metadata": {},
     "output_type": "execute_result"
    }
   ],
   "source": [
    "n34 = np.arange(12346580).reshape(-1, 10)\n",
    "print(n34.shape)\n",
    "n = np.arange(10)\n",
    "np.sort(n)"
   ]
  },
  {
   "cell_type": "code",
   "execution_count": 12,
   "id": "dd08f538",
   "metadata": {},
   "outputs": [
    {
     "name": "stdout",
     "output_type": "stream",
     "text": [
      "[[ 0  1  2  3]\n",
      " [ 4  5  6  7]\n",
      " [ 8  9 10 11]]\n",
      "(3, 4)\n"
     ]
    }
   ],
   "source": [
    "n34 = np.arange(12).reshape(3,4)\n",
    "print(n34)\n",
    "print(n34.shape)"
   ]
  },
  {
   "cell_type": "code",
   "execution_count": 13,
   "id": "d35f09e2",
   "metadata": {},
   "outputs": [
    {
     "name": "stdout",
     "output_type": "stream",
     "text": [
      "[[ 0  1  2  3  4  5]\n",
      " [ 6  7  8  9 10 11]]\n",
      "(2, 6)\n"
     ]
    }
   ],
   "source": [
    "n34 = np.arange(12).reshape(2,-1)\n",
    "print(n34)\n",
    "print(n34.shape)"
   ]
  },
  {
   "cell_type": "code",
   "execution_count": 14,
   "id": "45707543",
   "metadata": {},
   "outputs": [
    {
     "name": "stdout",
     "output_type": "stream",
     "text": [
      "(4, 6)\n"
     ]
    },
    {
     "data": {
      "text/plain": [
       "array([[93, 50, 83, 64, 41, 86],\n",
       "       [49, 35, 61, 16, 55, 22],\n",
       "       [59, 76, 85, 95, 79, 74],\n",
       "       [22, 31, 58, 51, 89, 72]])"
      ]
     },
     "execution_count": 14,
     "metadata": {},
     "output_type": "execute_result"
    }
   ],
   "source": [
    "np.random.seed(23)\n",
    "\n",
    "n46 = np.random.randint(low=10, high=100, size=(4,6))\n",
    "print(n46.shape)\n",
    "n46"
   ]
  },
  {
   "cell_type": "markdown",
   "id": "a3d50834",
   "metadata": {},
   "source": [
    "# Extraction of values"
   ]
  },
  {
   "cell_type": "code",
   "execution_count": 15,
   "id": "098cd8e6",
   "metadata": {},
   "outputs": [
    {
     "data": {
      "text/plain": [
       "array([[93, 50, 83, 64, 41, 86, 49, 35, 61],\n",
       "       [16, 55, 22, 59, 76, 85, 95, 79, 74],\n",
       "       [22, 31, 58, 51, 89, 72, 67, 29, 43],\n",
       "       [69, 49, 25, 46, 75, 11, 53, 25, 96],\n",
       "       [93, 68, 35, 76, 84, 45, 66, 23, 70],\n",
       "       [32, 48, 41, 88, 10, 31, 16, 42, 42],\n",
       "       [24, 41, 88, 93, 90, 80, 76, 92, 95],\n",
       "       [65, 37, 72, 53, 84, 81, 52, 93, 31]])"
      ]
     },
     "execution_count": 15,
     "metadata": {},
     "output_type": "execute_result"
    }
   ],
   "source": [
    "np.random.seed(23)\n",
    "\n",
    "n89 = np.random.randint(low=10, high=100, size=(8,9))\n",
    "n89"
   ]
  },
  {
   "cell_type": "code",
   "execution_count": 16,
   "id": "dcb32403",
   "metadata": {},
   "outputs": [
    {
     "data": {
      "text/plain": [
       "array([93, 50, 83, 64, 41, 86, 49, 35, 61])"
      ]
     },
     "execution_count": 16,
     "metadata": {},
     "output_type": "execute_result"
    }
   ],
   "source": [
    "n89[0]"
   ]
  },
  {
   "cell_type": "code",
   "execution_count": 17,
   "id": "91272b01",
   "metadata": {},
   "outputs": [
    {
     "data": {
      "text/plain": [
       "93"
      ]
     },
     "execution_count": 17,
     "metadata": {},
     "output_type": "execute_result"
    }
   ],
   "source": [
    "n89[0,0]"
   ]
  },
  {
   "cell_type": "code",
   "execution_count": 18,
   "id": "fe5dbd4d",
   "metadata": {},
   "outputs": [
    {
     "data": {
      "text/plain": [
       "93"
      ]
     },
     "execution_count": 18,
     "metadata": {},
     "output_type": "execute_result"
    }
   ],
   "source": [
    "n89[0][0]"
   ]
  },
  {
   "cell_type": "code",
   "execution_count": 19,
   "id": "94c779b0",
   "metadata": {},
   "outputs": [
    {
     "data": {
      "text/plain": [
       "31"
      ]
     },
     "execution_count": 19,
     "metadata": {},
     "output_type": "execute_result"
    }
   ],
   "source": [
    "n89[-1,-1]"
   ]
  },
  {
   "cell_type": "code",
   "execution_count": 20,
   "id": "22230502",
   "metadata": {},
   "outputs": [
    {
     "data": {
      "text/plain": [
       "array([65, 37, 72, 53, 84, 81, 52, 93, 31])"
      ]
     },
     "execution_count": 20,
     "metadata": {},
     "output_type": "execute_result"
    }
   ],
   "source": [
    "n89[-1]"
   ]
  },
  {
   "cell_type": "code",
   "execution_count": 21,
   "id": "bfb20f01",
   "metadata": {},
   "outputs": [
    {
     "data": {
      "text/plain": [
       "65"
      ]
     },
     "execution_count": 21,
     "metadata": {},
     "output_type": "execute_result"
    }
   ],
   "source": [
    "n89[-1,0]"
   ]
  },
  {
   "cell_type": "code",
   "execution_count": 22,
   "id": "411a77d0",
   "metadata": {},
   "outputs": [
    {
     "data": {
      "text/plain": [
       "array([[16, 55, 22, 59, 76, 85, 95, 79, 74],\n",
       "       [22, 31, 58, 51, 89, 72, 67, 29, 43],\n",
       "       [69, 49, 25, 46, 75, 11, 53, 25, 96]])"
      ]
     },
     "execution_count": 22,
     "metadata": {},
     "output_type": "execute_result"
    }
   ],
   "source": [
    "n89[1:4]"
   ]
  },
  {
   "cell_type": "code",
   "execution_count": 23,
   "id": "7087e2ce",
   "metadata": {},
   "outputs": [
    {
     "data": {
      "text/plain": [
       "array([[51, 89, 72, 67],\n",
       "       [46, 75, 11, 53],\n",
       "       [76, 84, 45, 66]])"
      ]
     },
     "execution_count": 23,
     "metadata": {},
     "output_type": "execute_result"
    }
   ],
   "source": [
    "n89[2:5, 3:7]"
   ]
  },
  {
   "cell_type": "code",
   "execution_count": 24,
   "id": "7b6b14f4",
   "metadata": {},
   "outputs": [
    {
     "data": {
      "text/plain": [
       "array([[16, 55, 22, 59, 76, 85, 95, 79, 74],\n",
       "       [69, 49, 25, 46, 75, 11, 53, 25, 96],\n",
       "       [24, 41, 88, 93, 90, 80, 76, 92, 95],\n",
       "       [65, 37, 72, 53, 84, 81, 52, 93, 31]])"
      ]
     },
     "execution_count": 24,
     "metadata": {},
     "output_type": "execute_result"
    }
   ],
   "source": [
    "n89[ [1,3,-2,-1] ]"
   ]
  },
  {
   "cell_type": "code",
   "execution_count": 25,
   "id": "0ff61468",
   "metadata": {},
   "outputs": [
    {
     "data": {
      "text/plain": [
       "array([[93, 50, 83, 64, 41, 86, 49, 35, 61],\n",
       "       [16, 55, 22, 59, 76, 85, 95, 79, 74],\n",
       "       [22, 31, 58, 51, 89, 72, 67, 29, 43],\n",
       "       [69, 49, 25, 46, 75, 11, 53, 25, 96],\n",
       "       [93, 68, 35, 76, 84, 45, 66, 23, 70],\n",
       "       [32, 48, 41, 88, 10, 31, 16, 42, 42],\n",
       "       [24, 41, 88, 93, 90, 80, 76, 92, 95],\n",
       "       [65, 37, 72, 53, 84, 81, 52, 93, 31]])"
      ]
     },
     "execution_count": 25,
     "metadata": {},
     "output_type": "execute_result"
    }
   ],
   "source": [
    "n89"
   ]
  },
  {
   "cell_type": "code",
   "execution_count": 26,
   "id": "07f31444",
   "metadata": {},
   "outputs": [
    {
     "data": {
      "text/plain": [
       "array([83, 59, 84])"
      ]
     },
     "execution_count": 26,
     "metadata": {},
     "output_type": "execute_result"
    }
   ],
   "source": [
    "n89[ [0,1,-1] , [2,3,4] ]"
   ]
  },
  {
   "cell_type": "code",
   "execution_count": 27,
   "id": "6ba53395",
   "metadata": {},
   "outputs": [
    {
     "data": {
      "text/plain": [
       "array([[41, 86],\n",
       "       [76, 85],\n",
       "       [89, 72],\n",
       "       [75, 11],\n",
       "       [84, 45],\n",
       "       [10, 31],\n",
       "       [90, 80],\n",
       "       [84, 81]])"
      ]
     },
     "execution_count": 27,
     "metadata": {},
     "output_type": "execute_result"
    }
   ],
   "source": [
    "n89[:, 4:6]"
   ]
  },
  {
   "cell_type": "code",
   "execution_count": 28,
   "id": "daa9322c",
   "metadata": {},
   "outputs": [
    {
     "data": {
      "text/plain": [
       "array([41, 76, 89, 75, 84, 10, 90, 84])"
      ]
     },
     "execution_count": 28,
     "metadata": {},
     "output_type": "execute_result"
    }
   ],
   "source": [
    "n89[:, 4]"
   ]
  },
  {
   "cell_type": "code",
   "execution_count": 29,
   "id": "dcf04206",
   "metadata": {},
   "outputs": [
    {
     "data": {
      "text/plain": [
       "array([[41],\n",
       "       [76],\n",
       "       [89],\n",
       "       [75],\n",
       "       [84],\n",
       "       [10],\n",
       "       [90],\n",
       "       [84]])"
      ]
     },
     "execution_count": 29,
     "metadata": {},
     "output_type": "execute_result"
    }
   ],
   "source": [
    "n89[:, 4:5]"
   ]
  },
  {
   "cell_type": "code",
   "execution_count": 30,
   "id": "d3a9e91e",
   "metadata": {},
   "outputs": [
    {
     "data": {
      "text/plain": [
       "array([[41],\n",
       "       [76],\n",
       "       [89],\n",
       "       [75],\n",
       "       [84],\n",
       "       [10],\n",
       "       [90],\n",
       "       [84]])"
      ]
     },
     "execution_count": 30,
     "metadata": {},
     "output_type": "execute_result"
    }
   ],
   "source": [
    "n89[:, [4]]"
   ]
  },
  {
   "cell_type": "code",
   "execution_count": 31,
   "id": "60d61031",
   "metadata": {},
   "outputs": [
    {
     "data": {
      "text/plain": [
       "array([[83, 41, 61],\n",
       "       [22, 76, 74],\n",
       "       [58, 89, 43],\n",
       "       [25, 75, 96],\n",
       "       [35, 84, 70],\n",
       "       [41, 10, 42],\n",
       "       [88, 90, 95],\n",
       "       [72, 84, 31]])"
      ]
     },
     "execution_count": 31,
     "metadata": {},
     "output_type": "execute_result"
    }
   ],
   "source": [
    "n89[:, [2,4,-1]]"
   ]
  },
  {
   "cell_type": "code",
   "execution_count": 32,
   "id": "604d563e",
   "metadata": {},
   "outputs": [
    {
     "data": {
      "text/plain": [
       "array([[16, 55, 22, 59, 76, 85, 95, 79, 74],\n",
       "       [69, 49, 25, 46, 75, 11, 53, 25, 96],\n",
       "       [65, 37, 72, 53, 84, 81, 52, 93, 31]])"
      ]
     },
     "execution_count": 32,
     "metadata": {},
     "output_type": "execute_result"
    }
   ],
   "source": [
    "n89[ [1,3,-1] ]"
   ]
  },
  {
   "cell_type": "code",
   "execution_count": 33,
   "id": "1c0fbd75",
   "metadata": {},
   "outputs": [
    {
     "data": {
      "text/plain": [
       "array([[85, 95, 79, 74],\n",
       "       [11, 53, 25, 96],\n",
       "       [81, 52, 93, 31]])"
      ]
     },
     "execution_count": 33,
     "metadata": {},
     "output_type": "execute_result"
    }
   ],
   "source": [
    "n89[ [1,3,-1] , 5:]"
   ]
  },
  {
   "cell_type": "code",
   "execution_count": 34,
   "id": "08d37aa2",
   "metadata": {},
   "outputs": [
    {
     "data": {
      "text/plain": [
       "array([[93, 50, 83, 64, 41, 86, 49, 35, 61],\n",
       "       [16, 55, 22, 59, 76, 85, 95, 79, 74],\n",
       "       [22, 31, 58, 51, 89, 72, 67, 29, 43],\n",
       "       [69, 49, 25, 46, 75, 11, 53, 25, 96],\n",
       "       [93, 68, 35, 76, 84, 45, 66, 23, 70],\n",
       "       [32, 48, 41, 88, 10, 31, 16, 42, 42],\n",
       "       [24, 41, 88, 93, 90, 80, 76, 92, 95],\n",
       "       [65, 37, 72, 53, 84, 81, 52, 93, 31]])"
      ]
     },
     "execution_count": 34,
     "metadata": {},
     "output_type": "execute_result"
    }
   ],
   "source": [
    "n89"
   ]
  },
  {
   "cell_type": "code",
   "execution_count": 35,
   "id": "78ca1906",
   "metadata": {},
   "outputs": [
    {
     "data": {
      "text/plain": [
       "array([[ True, False,  True,  True, False,  True, False, False,  True],\n",
       "       [False,  True, False,  True,  True,  True,  True,  True,  True],\n",
       "       [False, False,  True,  True,  True,  True,  True, False, False],\n",
       "       [ True, False, False, False,  True, False,  True, False,  True],\n",
       "       [ True,  True, False,  True,  True, False,  True, False,  True],\n",
       "       [False, False, False,  True, False, False, False, False, False],\n",
       "       [False, False,  True,  True,  True,  True,  True,  True,  True],\n",
       "       [ True, False,  True,  True,  True,  True,  True,  True, False]])"
      ]
     },
     "execution_count": 35,
     "metadata": {},
     "output_type": "execute_result"
    }
   ],
   "source": [
    "mask1 = n89 > 50\n",
    "mask1"
   ]
  },
  {
   "cell_type": "code",
   "execution_count": 36,
   "id": "99babf91",
   "metadata": {},
   "outputs": [
    {
     "data": {
      "text/plain": [
       "(8, 9)"
      ]
     },
     "execution_count": 36,
     "metadata": {},
     "output_type": "execute_result"
    }
   ],
   "source": [
    "mask1.shape"
   ]
  },
  {
   "cell_type": "code",
   "execution_count": 37,
   "id": "37593e3b",
   "metadata": {},
   "outputs": [
    {
     "data": {
      "text/plain": [
       "dtype('bool')"
      ]
     },
     "execution_count": 37,
     "metadata": {},
     "output_type": "execute_result"
    }
   ],
   "source": [
    "mask1.dtype"
   ]
  },
  {
   "cell_type": "code",
   "execution_count": 38,
   "id": "d87d0bb4",
   "metadata": {},
   "outputs": [
    {
     "data": {
      "text/plain": [
       "array([93, 83, 64, 86, 61, 55, 59, 76, 85, 95, 79, 74, 58, 51, 89, 72, 67,\n",
       "       69, 75, 53, 96, 93, 68, 76, 84, 66, 70, 88, 88, 93, 90, 80, 76, 92,\n",
       "       95, 65, 72, 53, 84, 81, 52, 93])"
      ]
     },
     "execution_count": 38,
     "metadata": {},
     "output_type": "execute_result"
    }
   ],
   "source": [
    "n89[mask1]"
   ]
  },
  {
   "cell_type": "code",
   "execution_count": 39,
   "id": "55c5ed24",
   "metadata": {},
   "outputs": [
    {
     "data": {
      "text/plain": [
       "array([93, 83, 64, 86, 61, 55, 59, 76, 85, 95, 79, 74, 58, 51, 89, 72, 67,\n",
       "       69, 75, 53, 96, 93, 68, 76, 84, 66, 70, 88, 88, 93, 90, 80, 76, 92,\n",
       "       95, 65, 72, 53, 84, 81, 52, 93])"
      ]
     },
     "execution_count": 39,
     "metadata": {},
     "output_type": "execute_result"
    }
   ],
   "source": [
    "n89[n89>50]"
   ]
  },
  {
   "cell_type": "code",
   "execution_count": 40,
   "id": "47dce868",
   "metadata": {},
   "outputs": [
    {
     "data": {
      "text/plain": [
       "array([[93, 50, 83, 64, 41, 86, 49, 35, 61],\n",
       "       [16, 55, 22, 59, 76, 85, 95, 79, 74],\n",
       "       [22, 31, 58, 51, 89, 72, 67, 29, 43],\n",
       "       [69, 49, 25, 46, 75, 11, 53, 25, 96],\n",
       "       [93, 68, 35, 76, 84, 45, 66, 23, 70],\n",
       "       [32, 48, 41, 88, 10, 31, 16, 42, 42],\n",
       "       [24, 41, 88, 93, 90, 80, 76, 92, 95],\n",
       "       [65, 37, 72, 53, 84, 81, 52, 93, 31]])"
      ]
     },
     "execution_count": 40,
     "metadata": {},
     "output_type": "execute_result"
    }
   ],
   "source": [
    "n89"
   ]
  },
  {
   "cell_type": "code",
   "execution_count": 41,
   "id": "b37e24a3",
   "metadata": {},
   "outputs": [
    {
     "data": {
      "text/plain": [
       "array([[ True, False,  True,  True, False,  True, False, False,  True],\n",
       "       [False,  True, False,  True,  True,  True,  True,  True,  True],\n",
       "       [False, False,  True,  True,  True,  True,  True, False, False],\n",
       "       [ True, False, False, False,  True, False,  True, False,  True],\n",
       "       [ True,  True, False,  True,  True, False,  True, False,  True],\n",
       "       [False, False, False,  True, False, False, False, False, False],\n",
       "       [False, False,  True,  True,  True,  True,  True,  True,  True],\n",
       "       [ True, False,  True,  True,  True,  True,  True,  True, False]])"
      ]
     },
     "execution_count": 41,
     "metadata": {},
     "output_type": "execute_result"
    }
   ],
   "source": [
    "mask1 = n89>50\n",
    "mask1"
   ]
  },
  {
   "cell_type": "code",
   "execution_count": 42,
   "id": "32dd0187",
   "metadata": {},
   "outputs": [
    {
     "data": {
      "text/plain": [
       "array([[False,  True, False,  True, False,  True, False, False, False],\n",
       "       [ True, False,  True, False,  True, False, False, False,  True],\n",
       "       [ True, False,  True, False, False,  True, False, False, False],\n",
       "       [False, False, False,  True, False, False, False, False,  True],\n",
       "       [False,  True, False,  True,  True, False,  True, False,  True],\n",
       "       [ True,  True, False,  True,  True, False,  True,  True,  True],\n",
       "       [ True, False,  True, False,  True,  True,  True,  True, False],\n",
       "       [False, False,  True, False,  True, False,  True, False, False]])"
      ]
     },
     "execution_count": 42,
     "metadata": {},
     "output_type": "execute_result"
    }
   ],
   "source": [
    "mask2 = n89%2 ==0\n",
    "mask2"
   ]
  },
  {
   "cell_type": "code",
   "execution_count": 43,
   "id": "05df1768",
   "metadata": {},
   "outputs": [
    {
     "data": {
      "text/plain": [
       "array([[False, False, False,  True, False,  True, False, False, False],\n",
       "       [False, False, False, False,  True, False, False, False,  True],\n",
       "       [False, False,  True, False, False,  True, False, False, False],\n",
       "       [False, False, False, False, False, False, False, False,  True],\n",
       "       [False,  True, False,  True,  True, False,  True, False,  True],\n",
       "       [False, False, False,  True, False, False, False, False, False],\n",
       "       [False, False,  True, False,  True,  True,  True,  True, False],\n",
       "       [False, False,  True, False,  True, False,  True, False, False]])"
      ]
     },
     "execution_count": 43,
     "metadata": {},
     "output_type": "execute_result"
    }
   ],
   "source": [
    "mask3 = mask1 & mask2\n",
    "mask3"
   ]
  },
  {
   "cell_type": "code",
   "execution_count": null,
   "id": "fb87eac3",
   "metadata": {},
   "outputs": [],
   "source": [
    "n89[mask3]"
   ]
  },
  {
   "cell_type": "code",
   "execution_count": null,
   "id": "2d037b10",
   "metadata": {},
   "outputs": [],
   "source": [
    "n89[  (n89>50) & (n89%2==0)]"
   ]
  },
  {
   "cell_type": "markdown",
   "id": "858efc9d",
   "metadata": {},
   "source": [
    "# Mutability"
   ]
  },
  {
   "cell_type": "code",
   "execution_count": null,
   "id": "27ff0a68",
   "metadata": {},
   "outputs": [],
   "source": [
    "n89"
   ]
  },
  {
   "cell_type": "code",
   "execution_count": null,
   "id": "5daa79c9",
   "metadata": {},
   "outputs": [],
   "source": [
    "n89[0,0] = 999"
   ]
  },
  {
   "cell_type": "raw",
   "id": "5ed992c3",
   "metadata": {},
   "source": [
    "Grammer\n",
    "\n",
    "\n",
    "n89 [row_n_index]\n",
    "n89 [ row_n_index,  col_n_index ]\n",
    "\n",
    "n89 [ row_n_slice]\n",
    "n89 [ row_n_slice, col_n_slice]\n",
    "\n",
    "n89 [ [list of row_n indices]  ]\n",
    "\n",
    "n89 [ [list of row_n indices], [list of col_n indices]] #  based on zip-like of rowlist,collist\n",
    "\n",
    "combo of all of above\n",
    "\n",
    "\n",
    "n89 [boolean mask of same shape as n89]"
   ]
  },
  {
   "cell_type": "code",
   "execution_count": null,
   "id": "d9f4349d",
   "metadata": {},
   "outputs": [],
   "source": [
    "n89"
   ]
  },
  {
   "cell_type": "code",
   "execution_count": null,
   "id": "89ff4353",
   "metadata": {},
   "outputs": [],
   "source": [
    "n89[n89>50] = 888"
   ]
  },
  {
   "cell_type": "code",
   "execution_count": null,
   "id": "b80438f5",
   "metadata": {},
   "outputs": [],
   "source": [
    "n89"
   ]
  },
  {
   "cell_type": "code",
   "execution_count": null,
   "id": "77eaa30e",
   "metadata": {},
   "outputs": [],
   "source": [
    "n89[2:5] = 777"
   ]
  },
  {
   "cell_type": "code",
   "execution_count": null,
   "id": "f6736810",
   "metadata": {},
   "outputs": [],
   "source": [
    "n89"
   ]
  },
  {
   "cell_type": "code",
   "execution_count": null,
   "id": "518bb263",
   "metadata": {},
   "outputs": [],
   "source": [
    "n89[2:5, 2:5] = 666"
   ]
  },
  {
   "cell_type": "code",
   "execution_count": null,
   "id": "f8a25c00",
   "metadata": {},
   "outputs": [],
   "source": [
    "n89"
   ]
  },
  {
   "cell_type": "markdown",
   "id": "592f1a92",
   "metadata": {},
   "source": [
    "# Splitting of Arrays"
   ]
  },
  {
   "cell_type": "code",
   "execution_count": null,
   "id": "303b8732",
   "metadata": {},
   "outputs": [],
   "source": [
    "np.random.seed(23)\n",
    "n812 = np.random.randint(low=10, high=100, size=(8,12))\n",
    "n812"
   ]
  },
  {
   "cell_type": "code",
   "execution_count": null,
   "id": "c7ea142d",
   "metadata": {},
   "outputs": [],
   "source": [
    "r = np.vsplit(n812, 2)\n",
    "print(type(r))\n",
    "\n",
    "for item in r:\n",
    "    print(item)\n",
    "    print()"
   ]
  },
  {
   "cell_type": "code",
   "execution_count": null,
   "id": "dbfede93",
   "metadata": {},
   "outputs": [],
   "source": [
    "r = np.vsplit(n812, 4)\n",
    "print(type(r))\n",
    "\n",
    "for item in r:\n",
    "    print(item)\n",
    "    print()"
   ]
  },
  {
   "cell_type": "code",
   "execution_count": null,
   "id": "8e828796",
   "metadata": {},
   "outputs": [],
   "source": [
    "r = np.vsplit(n812, 3)"
   ]
  },
  {
   "cell_type": "code",
   "execution_count": null,
   "id": "07dc2593",
   "metadata": {},
   "outputs": [],
   "source": [
    "np.vsplit(n812, [3,4,6,7]   )"
   ]
  },
  {
   "cell_type": "code",
   "execution_count": null,
   "id": "31b4deb0",
   "metadata": {},
   "outputs": [],
   "source": [
    "np.vsplit(n812, [2,3,4,6]   )"
   ]
  },
  {
   "cell_type": "code",
   "execution_count": null,
   "id": "868efcef",
   "metadata": {},
   "outputs": [],
   "source": [
    "np.hsplit(n812, 2  ) "
   ]
  },
  {
   "cell_type": "code",
   "execution_count": null,
   "id": "875f7a91",
   "metadata": {},
   "outputs": [],
   "source": [
    "r = np.hsplit(n812, [3,4,6,8,9,11]   )  ##  returns a list of numpy arrays\n",
    "for item in r:\n",
    "    print(item)\n",
    "    print(item.shape)\n",
    "    print(type(item))\n",
    "    print()"
   ]
  },
  {
   "cell_type": "code",
   "execution_count": null,
   "id": "99b2bbd9",
   "metadata": {},
   "outputs": [],
   "source": [
    "##  DIY: np.dsplit"
   ]
  },
  {
   "cell_type": "markdown",
   "id": "e93475c4",
   "metadata": {},
   "source": [
    "# hStack, vStack"
   ]
  },
  {
   "cell_type": "code",
   "execution_count": null,
   "id": "54bd1066",
   "metadata": {},
   "outputs": [],
   "source": [
    "n34 = np.arange(12).reshape(3,4)\n",
    "n64 = np.arange(100,124).reshape(6,4)\n",
    "n36 = np.arange(200,218).reshape(3,6)"
   ]
  },
  {
   "cell_type": "code",
   "execution_count": null,
   "id": "00b95def",
   "metadata": {},
   "outputs": [],
   "source": [
    "np.vstack(tup=(n34,n64))"
   ]
  },
  {
   "cell_type": "code",
   "execution_count": null,
   "id": "2249bbc9",
   "metadata": {},
   "outputs": [],
   "source": [
    "np.hstack(tup=(n34,n64))"
   ]
  },
  {
   "cell_type": "code",
   "execution_count": null,
   "id": "a727f2de",
   "metadata": {},
   "outputs": [],
   "source": [
    "np.hstack(tup=(n34,n36))"
   ]
  },
  {
   "cell_type": "code",
   "execution_count": null,
   "id": "7a46c1ef",
   "metadata": {},
   "outputs": [],
   "source": [
    "#DIY: dstack"
   ]
  },
  {
   "cell_type": "markdown",
   "id": "f2604240",
   "metadata": {},
   "source": [
    "3d matrix"
   ]
  },
  {
   "cell_type": "code",
   "execution_count": null,
   "id": "c16062ca",
   "metadata": {},
   "outputs": [],
   "source": [
    "ulist = [10,20,30]\n",
    "ulist1 = [\n",
    "    10,\n",
    "    20,30\n",
    "]"
   ]
  },
  {
   "cell_type": "code",
   "execution_count": null,
   "id": "862c6f01",
   "metadata": {},
   "outputs": [],
   "source": [
    "mylist432 = [\n",
    "    [ \n",
    "        [111,121], \n",
    "        [141,151], \n",
    "        [171,181] \n",
    "    ],\n",
    "    [ [211,221], [241,251], [271,281] ],    [ [311,321], [341,351], [371,381] ],    [ [411,421], [441,451], [471,481] ],\n",
    "]"
   ]
  },
  {
   "cell_type": "code",
   "execution_count": null,
   "id": "d6d7fc51",
   "metadata": {},
   "outputs": [],
   "source": [
    "n432 = np.array(mylist432)\n",
    "n432.shape"
   ]
  },
  {
   "cell_type": "code",
   "execution_count": null,
   "id": "7e37a900",
   "metadata": {},
   "outputs": [],
   "source": [
    "n432"
   ]
  },
  {
   "cell_type": "code",
   "execution_count": null,
   "id": "35e8d2b7",
   "metadata": {},
   "outputs": [],
   "source": [
    "n432[1,1,1]"
   ]
  },
  {
   "cell_type": "code",
   "execution_count": null,
   "id": "9977254f",
   "metadata": {},
   "outputs": [],
   "source": [
    "n432[2,1,0]"
   ]
  },
  {
   "cell_type": "code",
   "execution_count": null,
   "id": "5d647f66",
   "metadata": {},
   "outputs": [],
   "source": [
    "n432[1:3, 1:, 1]"
   ]
  },
  {
   "cell_type": "markdown",
   "id": "1a8cf30a",
   "metadata": {},
   "source": [
    "# Looping"
   ]
  },
  {
   "cell_type": "code",
   "execution_count": null,
   "id": "def7b898",
   "metadata": {},
   "outputs": [],
   "source": [
    "n34 = np.arange(100,112).reshape(3,4)\n",
    "n34"
   ]
  },
  {
   "cell_type": "code",
   "execution_count": null,
   "id": "d07dd0ec",
   "metadata": {},
   "outputs": [],
   "source": [
    "for row in n34:\n",
    "    print(row)\n",
    "    print()"
   ]
  },
  {
   "cell_type": "code",
   "execution_count": null,
   "id": "747c0916",
   "metadata": {},
   "outputs": [],
   "source": [
    "print(n34)\n",
    "for item in np.nditer(n34, order='C'):\n",
    "    print(item)\n",
    "    print()"
   ]
  },
  {
   "cell_type": "code",
   "execution_count": null,
   "id": "de5863f1",
   "metadata": {},
   "outputs": [],
   "source": [
    "print(n34)\n",
    "for item in np.nditer(n34, order='F'):\n",
    "    print(item)\n",
    "    print()"
   ]
  },
  {
   "cell_type": "code",
   "execution_count": null,
   "id": "46d1e51c",
   "metadata": {},
   "outputs": [],
   "source": [
    "print(n34)\n",
    "\n",
    "for item in np.ndenumerate(n34):\n",
    "    print(item)"
   ]
  },
  {
   "cell_type": "code",
   "execution_count": null,
   "id": "6aa39b4d",
   "metadata": {},
   "outputs": [],
   "source": [
    "print(n34)\n",
    "\n",
    "for index, value in np.ndenumerate(n34):\n",
    "    print(index, value)"
   ]
  },
  {
   "cell_type": "markdown",
   "id": "13eceb67",
   "metadata": {},
   "source": [
    "# Operations on Arrays"
   ]
  },
  {
   "cell_type": "code",
   "execution_count": null,
   "id": "09ad515e",
   "metadata": {},
   "outputs": [],
   "source": [
    "# +, *, @ , transpose, "
   ]
  },
  {
   "cell_type": "code",
   "execution_count": null,
   "id": "7bd52877",
   "metadata": {},
   "outputs": [],
   "source": [
    "highprice = np.random.randint(low=10, high=100, size=10)\n",
    "lowprice = np.random.randint(low=10, high=100, size=10)\n",
    "print(highprice)\n",
    "print(lowprice)\n",
    "\n",
    "volatility = highprice - lowprice\n",
    "print(volatility)"
   ]
  },
  {
   "cell_type": "code",
   "execution_count": null,
   "id": "e55aa746",
   "metadata": {},
   "outputs": [],
   "source": [
    "n34a = np.random.randint(low=10, high=100, size=(3,4))\n",
    "n34b = np.random.randint(low=10, high=100, size=(3,4))\n",
    "print(n34a)\n",
    "print(n34b)\n",
    "\n",
    "n34c = n34a + n34b\n",
    "print(n34c)"
   ]
  },
  {
   "cell_type": "code",
   "execution_count": null,
   "id": "972f3d53",
   "metadata": {},
   "outputs": [],
   "source": [
    "n34a * n34c"
   ]
  },
  {
   "cell_type": "code",
   "execution_count": null,
   "id": "977869a3",
   "metadata": {},
   "outputs": [],
   "source": [
    "##  MxN  @ NxK  -->  MxK   sum of products"
   ]
  },
  {
   "cell_type": "code",
   "execution_count": null,
   "id": "56374ac5",
   "metadata": {},
   "outputs": [],
   "source": [
    "n34a@n34b  ##  error"
   ]
  },
  {
   "cell_type": "code",
   "execution_count": null,
   "id": "567ba373",
   "metadata": {},
   "outputs": [],
   "source": [
    "n43 = n34b.T  ##  transpose\n",
    "n43"
   ]
  },
  {
   "cell_type": "code",
   "execution_count": null,
   "id": "4118e058",
   "metadata": {},
   "outputs": [],
   "source": [
    "n34a@n43  ##  matmul"
   ]
  },
  {
   "cell_type": "markdown",
   "id": "1de0e8cc",
   "metadata": {},
   "source": [
    "# Other Utility Functions"
   ]
  },
  {
   "cell_type": "code",
   "execution_count": null,
   "id": "0027361e",
   "metadata": {},
   "outputs": [],
   "source": [
    "#identity, ones, zeros, full"
   ]
  },
  {
   "cell_type": "code",
   "execution_count": null,
   "id": "4c9f60f2",
   "metadata": {},
   "outputs": [],
   "source": [
    "np.zeros(shape=(3,4))"
   ]
  },
  {
   "cell_type": "code",
   "execution_count": null,
   "id": "3dc6a714",
   "metadata": {},
   "outputs": [],
   "source": [
    "np.zeros(shape=(3,4), dtype=np.int32)"
   ]
  },
  {
   "cell_type": "code",
   "execution_count": null,
   "id": "05181bfe",
   "metadata": {},
   "outputs": [],
   "source": [
    "np.ones(shape=(3,4))"
   ]
  },
  {
   "cell_type": "code",
   "execution_count": null,
   "id": "6240d47f",
   "metadata": {},
   "outputs": [],
   "source": [
    "np.full(shape=(3,4), fill_value=55)"
   ]
  },
  {
   "cell_type": "code",
   "execution_count": 17,
   "id": "52f73d09",
   "metadata": {},
   "outputs": [
    {
     "data": {
      "text/plain": [
       "array([[1., 0., 0.],\n",
       "       [0., 1., 0.],\n",
       "       [0., 0., 1.]])"
      ]
     },
     "execution_count": 17,
     "metadata": {},
     "output_type": "execute_result"
    }
   ],
   "source": [
    "np.identity(3)"
   ]
  },
  {
   "cell_type": "code",
   "execution_count": null,
   "id": "dc15b1ee",
   "metadata": {},
   "outputs": [],
   "source": [
    "# sum, min, max,mean"
   ]
  },
  {
   "cell_type": "code",
   "execution_count": null,
   "id": "6ecf3d34",
   "metadata": {},
   "outputs": [],
   "source": [
    "np.random.seed(23)\n",
    "n34 = np.random.randint(low=1, high=9, size=(3,4))\n",
    "n34"
   ]
  },
  {
   "cell_type": "code",
   "execution_count": null,
   "id": "5ffa20d5",
   "metadata": {},
   "outputs": [],
   "source": [
    "print(n34)\n",
    "print(np.sum(n34, axis=None))\n",
    "print(np.sum(n34, axis=0))\n",
    "print(np.sum(n34, axis=1))"
   ]
  },
  {
   "cell_type": "code",
   "execution_count": null,
   "id": "cbe4e6fa",
   "metadata": {},
   "outputs": [],
   "source": [
    "print(n34)\n",
    "print(np.min(n34, axis=None))\n",
    "print(np.min(n34, axis=0))\n",
    "print(np.min(n34, axis=1))"
   ]
  },
  {
   "cell_type": "code",
   "execution_count": null,
   "id": "38c823d0",
   "metadata": {},
   "outputs": [],
   "source": [
    "print(n34)\n",
    "print(np.max(n34, axis=None))\n",
    "print(np.max(n34, axis=0))\n",
    "print(np.max(n34, axis=1))"
   ]
  },
  {
   "cell_type": "code",
   "execution_count": null,
   "id": "4b5e6fbf",
   "metadata": {},
   "outputs": [],
   "source": [
    "print(n34)\n",
    "print(np.mean(n34, axis=None))\n",
    "print(np.mean(n34, axis=0))\n",
    "print(np.mean(n34, axis=1))"
   ]
  },
  {
   "cell_type": "code",
   "execution_count": null,
   "id": "c9c2aeba",
   "metadata": {},
   "outputs": [],
   "source": [
    "# power, remainder"
   ]
  },
  {
   "cell_type": "code",
   "execution_count": null,
   "id": "8e16f4c9",
   "metadata": {},
   "outputs": [],
   "source": [
    "print(n34)\n",
    "np.power(n34,3)"
   ]
  },
  {
   "cell_type": "code",
   "execution_count": null,
   "id": "332c5bda",
   "metadata": {},
   "outputs": [],
   "source": [
    "print(n34)\n",
    "np.power(n34,n34)"
   ]
  },
  {
   "cell_type": "code",
   "execution_count": null,
   "id": "f11551ec",
   "metadata": {},
   "outputs": [],
   "source": [
    "print(n34)\n",
    "np.remainder(n34,2)"
   ]
  },
  {
   "cell_type": "code",
   "execution_count": null,
   "id": "2a21a326",
   "metadata": {},
   "outputs": [],
   "source": [
    "#linspace"
   ]
  },
  {
   "cell_type": "code",
   "execution_count": 18,
   "id": "27c52ee9",
   "metadata": {},
   "outputs": [
    {
     "data": {
      "text/plain": [
       "(array([0., 1., 2., 3., 4., 5., 6., 7.]), 1.0)"
      ]
     },
     "execution_count": 18,
     "metadata": {},
     "output_type": "execute_result"
    }
   ],
   "source": [
    "np.linspace(start=0, stop=7,num=8, retstep=True)"
   ]
  },
  {
   "cell_type": "code",
   "execution_count": 19,
   "id": "d6f9294f",
   "metadata": {},
   "outputs": [
    {
     "data": {
      "text/plain": [
       "(array([-1. , -0.5,  0. ,  0.5,  1. ]), 0.5)"
      ]
     },
     "execution_count": 19,
     "metadata": {},
     "output_type": "execute_result"
    }
   ],
   "source": [
    "np.linspace(start=-1, stop=1,num=5, retstep=True)"
   ]
  },
  {
   "cell_type": "code",
   "execution_count": null,
   "id": "5950337a",
   "metadata": {},
   "outputs": [],
   "source": [
    "np.linspace(start=3, stop=5,num=9, retstep=True)"
   ]
  },
  {
   "cell_type": "code",
   "execution_count": null,
   "id": "632ff8f8",
   "metadata": {},
   "outputs": [],
   "source": [
    "# rand and randn"
   ]
  },
  {
   "cell_type": "code",
   "execution_count": null,
   "id": "edf8a969",
   "metadata": {},
   "outputs": [],
   "source": [
    "import matplotlib.pyplot as plt"
   ]
  },
  {
   "cell_type": "code",
   "execution_count": null,
   "id": "fe121c2c",
   "metadata": {},
   "outputs": [],
   "source": [
    "n1 = np.random.rand(40,40) ## generates values within uniform dist framework\n",
    "print(n1.shape)\n",
    "print(n1.min())\n",
    "print(n1.max())\n",
    "print(n1.mean())\n",
    "plt.scatter(n1,n1.T)\n",
    "plt.show()"
   ]
  },
  {
   "cell_type": "code",
   "execution_count": null,
   "id": "043d06bd",
   "metadata": {},
   "outputs": [],
   "source": [
    "n1 = np.random.randn(40,40) ## generates values within normal dist framework\n",
    "print(n1.shape)\n",
    "print(n1.min())\n",
    "print(n1.max())\n",
    "print(n1.mean())\n",
    "plt.hist(n1)\n",
    "plt.show()"
   ]
  },
  {
   "cell_type": "markdown",
   "id": "1fd04a04",
   "metadata": {},
   "source": [
    "# Intersect"
   ]
  },
  {
   "cell_type": "code",
   "execution_count": null,
   "id": "b2af78c9",
   "metadata": {},
   "outputs": [],
   "source": [
    "n1 = np.random.randint(low=10,high=25, size=20)\n",
    "n2 = np.random.randint(low=10,high=25, size=20)\n",
    "print(n1)\n",
    "print(n2)"
   ]
  },
  {
   "cell_type": "code",
   "execution_count": null,
   "id": "eeb9029d",
   "metadata": {},
   "outputs": [],
   "source": [
    "np.intersect1d(n1,n2)"
   ]
  },
  {
   "cell_type": "code",
   "execution_count": null,
   "id": "d765e816",
   "metadata": {},
   "outputs": [],
   "source": [
    "np.union1d(n1,n2)"
   ]
  },
  {
   "cell_type": "code",
   "execution_count": null,
   "id": "9ace473d",
   "metadata": {},
   "outputs": [],
   "source": [
    "n34"
   ]
  },
  {
   "cell_type": "code",
   "execution_count": null,
   "id": "db1a74bf",
   "metadata": {},
   "outputs": [],
   "source": [
    "n34**4"
   ]
  },
  {
   "cell_type": "code",
   "execution_count": null,
   "id": "27b5d4f5",
   "metadata": {},
   "outputs": [],
   "source": []
  }
 ],
 "metadata": {
  "kernelspec": {
   "display_name": "Python 3 (ipykernel)",
   "language": "python",
   "name": "python3"
  },
  "language_info": {
   "codemirror_mode": {
    "name": "ipython",
    "version": 3
   },
   "file_extension": ".py",
   "mimetype": "text/x-python",
   "name": "python",
   "nbconvert_exporter": "python",
   "pygments_lexer": "ipython3",
   "version": "3.10.9"
  }
 },
 "nbformat": 4,
 "nbformat_minor": 5
}
