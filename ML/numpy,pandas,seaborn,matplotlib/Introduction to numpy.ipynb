{
 "cells": [
  {
   "cell_type": "markdown",
   "id": "f5632416-0b45-475f-9a70-fc6f6376bf02",
   "metadata": {},
   "source": [
    "# What is numpy?"
   ]
  },
  {
   "cell_type": "markdown",
   "id": "5cb8c4f0-c1a2-44b7-8f9c-f14cdd1ee453",
   "metadata": {},
   "source": [
    "* NumPy (Numerical Python) is a powerful library for numerical computing in Python, providing support for large, multi-dimensional arrays and matrices, along with a collection of high-level mathematical functions to operate on these arrays."
   ]
  },
  {
   "cell_type": "markdown",
   "id": "53e8417e-5403-4d72-ba24-1372a25001fb",
   "metadata": {},
   "source": [
    "* It enables efficient computation of mathematical operations such as linear algebra, Fourier transforms, and random number generation."
   ]
  },
  {
   "cell_type": "markdown",
   "id": "bd442b31-5bce-4c8f-9d5c-fdb5e1531170",
   "metadata": {},
   "source": [
    "* NumPy's array operations are optimized and vectorized, making it faster than traditional Python lists for numerical computations."
   ]
  },
  {
   "cell_type": "markdown",
   "id": "2cecdd6d-7fa1-487e-a83c-5429e3e0516a",
   "metadata": {},
   "source": [
    "* It serves as a fundamental library for data science, machine learning, and scientific computing due to its ease of use, performance, and broad ecosystem of extensions."
   ]
  },
  {
   "cell_type": "markdown",
   "id": "90fa5cdf-84c4-4392-9fbc-b40bac8b46ed",
   "metadata": {},
   "source": [
    "#  Array Creation"
   ]
  },
  {
   "cell_type": "markdown",
   "id": "5883bfcf-dbdd-4907-9181-d620fa71d9c2",
   "metadata": {},
   "source": [
    "### 1. Using array(): Create an array from lists or tuples."
   ]
  },
  {
   "cell_type": "code",
   "execution_count": 1,
   "id": "8ec56e4f-bc7e-48f0-a39f-de9019327542",
   "metadata": {},
   "outputs": [
    {
     "data": {
      "text/plain": [
       "array([1, 2, 3])"
      ]
     },
     "execution_count": 1,
     "metadata": {},
     "output_type": "execute_result"
    }
   ],
   "source": [
    "import numpy as np\n",
    "arr = np.array([1, 2, 3])\n",
    "arr"
   ]
  },
  {
   "cell_type": "markdown",
   "id": "7e5742f7-fe54-4fbf-a706-c69eae390daf",
   "metadata": {},
   "source": [
    "### 2. Using zeros(): Create an array of zeros."
   ]
  },
  {
   "cell_type": "code",
   "execution_count": 2,
   "id": "90422d39-b5da-4df4-9b98-df50efdec084",
   "metadata": {},
   "outputs": [
    {
     "data": {
      "text/plain": [
       "array([[1., 1., 1.],\n",
       "       [1., 1., 1.]])"
      ]
     },
     "execution_count": 2,
     "metadata": {},
     "output_type": "execute_result"
    }
   ],
   "source": [
    "arr = np.ones((2, 3))\n",
    "arr"
   ]
  },
  {
   "cell_type": "markdown",
   "id": "b7af08ac-d371-4fee-b614-954a47e0b2ac",
   "metadata": {},
   "source": [
    "# Array Attributes"
   ]
  },
  {
   "cell_type": "markdown",
   "id": "93d7c90b-e97c-4687-ad00-392518f6ef0b",
   "metadata": {},
   "source": [
    "In NumPy, attributes refer to properties associated with NumPy arrays. These attributes provide useful information about the array's structure and its contents. Here are some of the key attributes:"
   ]
  },
  {
   "cell_type": "markdown",
   "id": "a4f60c4a-b541-438a-bedc-d00e62f22ce9",
   "metadata": {},
   "source": [
    "### 1. ndarray.ndim"
   ]
  },
  {
   "cell_type": "markdown",
   "id": "996052a4-eafb-4f89-9931-6429b889e13c",
   "metadata": {},
   "source": [
    " The number of axes (dimensions) of the array."
   ]
  },
  {
   "cell_type": "code",
   "execution_count": 3,
   "id": "444e0b81-bc91-4dd8-a1ac-abff041830b1",
   "metadata": {},
   "outputs": [
    {
     "name": "stdout",
     "output_type": "stream",
     "text": [
      "2\n"
     ]
    }
   ],
   "source": [
    "import numpy as np\n",
    "a = np.array([[1, 2, 3], [4, 5, 6]])\n",
    "print(a.ndim)"
   ]
  },
  {
   "cell_type": "markdown",
   "id": "44d2c313-f3c3-4e3e-a1db-b33ba85dc23e",
   "metadata": {},
   "source": [
    "### 2. ndarray.shape\n",
    "A tuple representing the dimensions of the array. For a matrix with n rows and m columns, the shape will be (n, m)."
   ]
  },
  {
   "cell_type": "code",
   "execution_count": 4,
   "id": "44307cde-c4ef-4041-84e6-7965c2b11cdc",
   "metadata": {},
   "outputs": [
    {
     "name": "stdout",
     "output_type": "stream",
     "text": [
      "(2, 3)\n"
     ]
    }
   ],
   "source": [
    "print(a.shape) "
   ]
  },
  {
   "cell_type": "markdown",
   "id": "497fcb89-885b-427b-8512-2e43b39a8b5a",
   "metadata": {},
   "source": [
    "### 3. ndarray.size"
   ]
  },
  {
   "cell_type": "markdown",
   "id": "19990cd5-6e37-43fd-b4a9-a225deec3ffa",
   "metadata": {},
   "source": [
    "The total number of elements in the array."
   ]
  },
  {
   "cell_type": "code",
   "execution_count": 5,
   "id": "7fa91e30-6484-455d-bcb0-3d39bbb81cd9",
   "metadata": {},
   "outputs": [
    {
     "name": "stdout",
     "output_type": "stream",
     "text": [
      "6\n"
     ]
    }
   ],
   "source": [
    "print(a.size)  "
   ]
  },
  {
   "cell_type": "markdown",
   "id": "101a9996-ce42-4ae4-9e5f-a89739c2bfbf",
   "metadata": {},
   "source": [
    "### 4. ndarray.dtype"
   ]
  },
  {
   "cell_type": "markdown",
   "id": "cef51659-f4fa-4c97-8e66-c8a0bd157534",
   "metadata": {},
   "source": [
    "n NumPy, ndarray.dtype refers to an attribute of the NumPy array object (ndarray) that specifies the data type of the elements stored in the array."
   ]
  },
  {
   "cell_type": "code",
   "execution_count": 6,
   "id": "d621e963-1863-411f-902e-4627a2c1ea94",
   "metadata": {},
   "outputs": [
    {
     "name": "stdout",
     "output_type": "stream",
     "text": [
      "int32\n"
     ]
    }
   ],
   "source": [
    "print(a.dtype)"
   ]
  },
  {
   "cell_type": "markdown",
   "id": "1a18636e-4771-4302-8c04-f79b77d99369",
   "metadata": {},
   "source": [
    "### 5. ndarray.itemsize"
   ]
  },
  {
   "cell_type": "markdown",
   "id": "71c6e4d1-ac57-4547-ac79-226817b715bb",
   "metadata": {},
   "source": [
    "The size in bytes of each element in the array."
   ]
  },
  {
   "cell_type": "code",
   "execution_count": 7,
   "id": "34f70eef-e15d-44f0-9bc1-eee2a634bd46",
   "metadata": {},
   "outputs": [
    {
     "name": "stdout",
     "output_type": "stream",
     "text": [
      "4\n"
     ]
    }
   ],
   "source": [
    "print(a.itemsize) "
   ]
  },
  {
   "cell_type": "markdown",
   "id": "8541e196-8d9d-4924-954f-2aa08dc437d0",
   "metadata": {},
   "source": [
    "### 6. ndarray.transpose"
   ]
  },
  {
   "cell_type": "markdown",
   "id": "5c65e23d-4a5c-40dc-b55b-013d7f2f6c2b",
   "metadata": {},
   "source": [
    "The transpose of the array."
   ]
  },
  {
   "cell_type": "code",
   "execution_count": 8,
   "id": "72dfac7c-f910-42ae-a555-3eb2d421629d",
   "metadata": {},
   "outputs": [
    {
     "name": "stdout",
     "output_type": "stream",
     "text": [
      "[[1 4]\n",
      " [2 5]\n",
      " [3 6]]\n"
     ]
    }
   ],
   "source": [
    "print(a.T)"
   ]
  },
  {
   "cell_type": "markdown",
   "id": "6da299dd-9a4b-448d-95b0-7b3ba1df13fd",
   "metadata": {},
   "source": [
    "# NumPy Data Types"
   ]
  },
  {
   "cell_type": "markdown",
   "id": "a794d10c-8e56-4f0e-8601-7b6460fc20c3",
   "metadata": {},
   "source": [
    "A data type is a way to specify the type of data that will be stored in an array."
   ]
  },
  {
   "cell_type": "markdown",
   "id": "82597d45-c018-49fc-9742-31d08773e23c",
   "metadata": {},
   "source": [
    "array1 = np.array([2, 4, 6]) # Here, the array1 array contains three integer elements, so the data type is Integer(int64))."
   ]
  },
  {
   "cell_type": "markdown",
   "id": "d0845006-69c0-496f-91aa-3bda36df46b4",
   "metadata": {},
   "source": [
    "## NumPy Data Types:"
   ]
  },
  {
   "cell_type": "markdown",
   "id": "45a32599-df37-4923-941f-2fbad9a140f6",
   "metadata": {},
   "source": [
    "NumPy offers a wider range of numerical data types than what is available in Python. Here's the list of most commonly used numeric data types in NumPy:"
   ]
  },
  {
   "cell_type": "markdown",
   "id": "02d78001-fd36-413e-9aef-04981a0363b4",
   "metadata": {},
   "source": [
    "* int8, int16, int32, int64 - signed integer types with different bit sizes"
   ]
  },
  {
   "cell_type": "markdown",
   "id": "6134f7e5-afcc-4adb-a69d-e0226a624d41",
   "metadata": {},
   "source": [
    "* uint8, uint16, uint32, uint64 - unsigned integer types with different bit sizes"
   ]
  },
  {
   "cell_type": "markdown",
   "id": "e718576d-3514-4047-948a-a007c80568d1",
   "metadata": {},
   "source": [
    "* float32, float64 - floating-point types with different precision levels"
   ]
  },
  {
   "cell_type": "markdown",
   "id": "4d5e4ae1-32f7-440c-955f-9111aa46da9f",
   "metadata": {},
   "source": [
    "* complex64, complex128 - complex number types with different precision levels"
   ]
  },
  {
   "cell_type": "markdown",
   "id": "740ed7da-2a61-4f35-a73e-fdc0a41479b2",
   "metadata": {},
   "source": [
    "### 1. To check the data type of a NumPy array, we can use the dtype attribute."
   ]
  },
  {
   "cell_type": "code",
   "execution_count": 9,
   "id": "da684ed1-712f-4a81-b3c1-8375afc43355",
   "metadata": {},
   "outputs": [
    {
     "name": "stdout",
     "output_type": "stream",
     "text": [
      "int32\n"
     ]
    }
   ],
   "source": [
    "import numpy as np\n",
    "\n",
    "# create an array of integers \n",
    "array1 = np.array([2, 4, 6])\n",
    "\n",
    "# check the data type of array1\n",
    "print(array1.dtype)"
   ]
  },
  {
   "cell_type": "markdown",
   "id": "1f12406e-ff30-46e9-8acd-be6c185abeab",
   "metadata": {},
   "source": [
    "### 2. Creating NumPy Arrays With a Defined Data Type"
   ]
  },
  {
   "cell_type": "markdown",
   "id": "a7799424-44cc-498b-8dc2-2837fd68897b",
   "metadata": {},
   "source": [
    "In NumPy, we can create an array with a defined data type by passing the dtype parameter while calling the np.array() function. For example,"
   ]
  },
  {
   "cell_type": "code",
   "execution_count": 10,
   "id": "710ff6ce-0b78-433c-907a-db9438d4c60d",
   "metadata": {},
   "outputs": [
    {
     "name": "stdout",
     "output_type": "stream",
     "text": [
      "[1 3 7] int32\n"
     ]
    }
   ],
   "source": [
    "import numpy as np\n",
    "# create an array of 32-bit integers\n",
    "array1 = np.array([1, 3, 7], dtype='int32')\n",
    "print(array1, array1.dtype)"
   ]
  },
  {
   "cell_type": "markdown",
   "id": "b15ff305-6077-4a89-a681-6be7e42e4738",
   "metadata": {},
   "source": [
    "## NumPy Type Conversion"
   ]
  },
  {
   "cell_type": "markdown",
   "id": "ce1d7c38-82f1-4591-839a-3a7fe556103e",
   "metadata": {},
   "source": [
    "In NumPy, we can convert the data type of an array using the astype() method. For example,"
   ]
  },
  {
   "cell_type": "code",
   "execution_count": 11,
   "id": "aa5c2f49-659a-4b3f-9422-0241abe247da",
   "metadata": {},
   "outputs": [
    {
     "name": "stdout",
     "output_type": "stream",
     "text": [
      "[1 3 5 7] int32\n",
      "[1. 3. 5. 7.] float64\n"
     ]
    }
   ],
   "source": [
    "import numpy as np\n",
    "# create an array of integers\n",
    "int_array = np.array([1, 3, 5, 7])\n",
    "# convert data type of int_array to float\n",
    "float_array = int_array.astype('float')\n",
    "# print the arrays and their data types\n",
    "print(int_array, int_array.dtype)\n",
    "print(float_array, float_array.dtype)"
   ]
  },
  {
   "cell_type": "markdown",
   "id": "e422e82d-e2e0-4d7a-9d93-cb7873f80da3",
   "metadata": {},
   "source": [
    "# Array Methods"
   ]
  },
  {
   "cell_type": "markdown",
   "id": "f2d96aa9-7e66-4372-877f-45f5ee172d4f",
   "metadata": {},
   "source": [
    "### 1. Reshaping Arrays:"
   ]
  },
  {
   "cell_type": "markdown",
   "id": "70ea5413-66c7-40ab-a5a9-5117e587c6b6",
   "metadata": {},
   "source": [
    "arr.reshape(): Gives a new shape to an array without changing its data."
   ]
  },
  {
   "cell_type": "code",
   "execution_count": 12,
   "id": "6c21853f-438c-4025-96e2-1c3840b913e7",
   "metadata": {},
   "outputs": [
    {
     "data": {
      "text/plain": [
       "array([[1, 2, 3],\n",
       "       [4, 5, 6]])"
      ]
     },
     "execution_count": 12,
     "metadata": {},
     "output_type": "execute_result"
    }
   ],
   "source": [
    "arr = np.array([1, 2, 3, 4, 5, 6])\n",
    "new_arr = arr.reshape((2, 3))\n",
    "new_arr"
   ]
  },
  {
   "cell_type": "markdown",
   "id": "f2bd6290-207d-41bb-8d1d-98725fe70c36",
   "metadata": {},
   "source": [
    "### 2. Array Operations:"
   ]
  },
  {
   "cell_type": "markdown",
   "id": "658f3dc3-35f7-41ce-a84a-f67a23311b6a",
   "metadata": {},
   "source": [
    " * np.add(): Adds two arrays element-wise."
   ]
  },
  {
   "cell_type": "code",
   "execution_count": 13,
   "id": "e697e7e4-1c38-4b13-a07e-fb3489c3acc4",
   "metadata": {},
   "outputs": [
    {
     "data": {
      "text/plain": [
       "array([5, 7, 9])"
      ]
     },
     "execution_count": 13,
     "metadata": {},
     "output_type": "execute_result"
    }
   ],
   "source": [
    "arr1 = np.array([1, 2, 3])\n",
    "arr2 = np.array([4, 5, 6])\n",
    "result = np.add(arr1, arr2)\n",
    "result"
   ]
  },
  {
   "cell_type": "markdown",
   "id": "7daaa921-cdc8-4da7-a739-6d5a91e5c8d5",
   "metadata": {},
   "source": [
    "* np.multiply(): Multiplies two arrays element-wise."
   ]
  },
  {
   "cell_type": "code",
   "execution_count": 14,
   "id": "634606c7-3a2d-4e07-a083-64472be8453b",
   "metadata": {},
   "outputs": [
    {
     "data": {
      "text/plain": [
       "array([ 4, 10, 18])"
      ]
     },
     "execution_count": 14,
     "metadata": {},
     "output_type": "execute_result"
    }
   ],
   "source": [
    "arr1 = np.array([1, 2, 3])\n",
    "arr2 = np.array([4, 5, 6])\n",
    "result = np.multiply(arr1, arr2)\n",
    "result"
   ]
  },
  {
   "cell_type": "markdown",
   "id": "3366ca52-175a-4e7b-9f84-9821411cc438",
   "metadata": {},
   "source": [
    "### 3. Array Aggregations:"
   ]
  },
  {
   "cell_type": "markdown",
   "id": "73c86f55-1d98-4668-941d-91aa65567f29",
   "metadata": {},
   "source": [
    "* np.sum(): Sum of array elements."
   ]
  },
  {
   "cell_type": "code",
   "execution_count": 15,
   "id": "07c09901-51a2-4143-84b1-d53469306eee",
   "metadata": {},
   "outputs": [
    {
     "data": {
      "text/plain": [
       "10"
      ]
     },
     "execution_count": 15,
     "metadata": {},
     "output_type": "execute_result"
    }
   ],
   "source": [
    "arr = np.array([1, 2, 3, 4])\n",
    "total = np.sum(arr)\n",
    "total"
   ]
  },
  {
   "cell_type": "markdown",
   "id": "ec35614d-9d0c-40c7-90d0-5283f3cf2c6c",
   "metadata": {},
   "source": [
    "* np.mean(): Mean of array elements."
   ]
  },
  {
   "cell_type": "code",
   "execution_count": 16,
   "id": "5efb2db2-0590-4f33-a9ce-8acedcdde4db",
   "metadata": {},
   "outputs": [
    {
     "data": {
      "text/plain": [
       "2.5"
      ]
     },
     "execution_count": 16,
     "metadata": {},
     "output_type": "execute_result"
    }
   ],
   "source": [
    "arr = np.array([1, 2, 3, 4])\n",
    "mean_value = np.mean(arr)\n",
    "mean_value"
   ]
  },
  {
   "cell_type": "markdown",
   "id": "23aa1cfa-4847-4bc7-a4ff-46a15ed70d6f",
   "metadata": {},
   "source": [
    "### 4. Indexing and Slicing:"
   ]
  },
  {
   "cell_type": "markdown",
   "id": "240364cc-fb87-441a-bdca-1c8e6088a771",
   "metadata": {},
   "source": [
    "* arr[1:3]: Slices the array from index 1 to 3 (exclusive)."
   ]
  },
  {
   "cell_type": "code",
   "execution_count": 17,
   "id": "ac0d3218-2bfa-459f-b0a7-81d5fba22635",
   "metadata": {},
   "outputs": [
    {
     "data": {
      "text/plain": [
       "array([2, 3])"
      ]
     },
     "execution_count": 17,
     "metadata": {},
     "output_type": "execute_result"
    }
   ],
   "source": [
    "arr = np.array([1, 2, 3, 4, 5])\n",
    "sliced_arr = arr[1:3]\n",
    "sliced_arr"
   ]
  },
  {
   "cell_type": "markdown",
   "id": "5453e323-0b87-4939-bd15-0a6ae4092fb8",
   "metadata": {},
   "source": [
    "* arr[0, 1]: Indexing an element."
   ]
  },
  {
   "cell_type": "code",
   "execution_count": 18,
   "id": "88a7fdba-7226-4985-a51b-112f155b79bf",
   "metadata": {},
   "outputs": [
    {
     "data": {
      "text/plain": [
       "2"
      ]
     },
     "execution_count": 18,
     "metadata": {},
     "output_type": "execute_result"
    }
   ],
   "source": [
    "arr = np.array([[1, 2, 3], [4, 5, 6]])\n",
    "element = arr[0, 1] \n",
    "element"
   ]
  },
  {
   "cell_type": "markdown",
   "id": "1e729d42-0cc7-40a9-ad56-ae375f1caf3b",
   "metadata": {},
   "source": [
    "### 5. Transposing Arrays:\n",
    "\n"
   ]
  },
  {
   "cell_type": "markdown",
   "id": "afb1cac5-f4d0-41b1-951c-6a77ef9210f4",
   "metadata": {},
   "source": [
    "* arr.T: Transposes the array.\n"
   ]
  },
  {
   "cell_type": "code",
   "execution_count": 19,
   "id": "38d1b7fb-b9a7-4242-933e-1945a076dbe4",
   "metadata": {},
   "outputs": [
    {
     "data": {
      "text/plain": [
       "array([[1, 4],\n",
       "       [2, 5],\n",
       "       [3, 6]])"
      ]
     },
     "execution_count": 19,
     "metadata": {},
     "output_type": "execute_result"
    }
   ],
   "source": [
    "arr = np.array([[1, 2, 3], [4, 5, 6]])\n",
    "transposed_arr = arr.T\n",
    "transposed_arr"
   ]
  },
  {
   "cell_type": "markdown",
   "id": "3bf4687b-ea10-4cde-b715-d6e9f1e1f12a",
   "metadata": {},
   "source": [
    "### 6. Splitting Arrays:\n"
   ]
  },
  {
   "cell_type": "markdown",
   "id": "c4534f8c-11a2-4ade-b16a-caa2ec476bf2",
   "metadata": {},
   "source": [
    "* np.split(): Splits an array into multiple sub-arrays."
   ]
  },
  {
   "cell_type": "code",
   "execution_count": 20,
   "id": "46589276-8b0f-411e-909c-1b5937535444",
   "metadata": {},
   "outputs": [
    {
     "data": {
      "text/plain": [
       "[array([1, 2]), array([3, 4]), array([5, 6])]"
      ]
     },
     "execution_count": 20,
     "metadata": {},
     "output_type": "execute_result"
    }
   ],
   "source": [
    "arr = np.array([1, 2, 3, 4, 5, 6])\n",
    "split_arr = np.split(arr, 3)\n",
    "split_arr"
   ]
  },
  {
   "cell_type": "markdown",
   "id": "ccbce112-cc06-42bd-a61c-74e8fa8c2f5f",
   "metadata": {},
   "source": [
    "# Arange"
   ]
  },
  {
   "cell_type": "markdown",
   "id": "7e13f98e-8b7a-4f6d-8560-53b5e73c1d33",
   "metadata": {},
   "source": [
    "The np.arange function in NumPy is used to create arrays with regularly spaced values within a given interval. It is similar to the built-in Python function range but returns a NumPy array."
   ]
  },
  {
   "cell_type": "markdown",
   "id": "e1fbbf9b-ffb8-4fa8-ba45-a1ca765838fe",
   "metadata": {},
   "source": [
    "* start (optional): The starting value of the sequence. The default is 0."
   ]
  },
  {
   "cell_type": "markdown",
   "id": "4522f764-2221-4bf1-89a7-b05ccc37b907",
   "metadata": {},
   "source": [
    "* stop: The end value of the sequence. This value is not included in the array."
   ]
  },
  {
   "cell_type": "markdown",
   "id": "b41f6915-1a3b-4bf2-980d-e1fe38b789b9",
   "metadata": {},
   "source": [
    "\n",
    "* step (optional): The spacing between values. The default is 1."
   ]
  },
  {
   "cell_type": "markdown",
   "id": "b3722aee-48a5-463c-bf3a-ef8d09bc617e",
   "metadata": {},
   "source": [
    "* dtype (optional): The desired data-type for the array."
   ]
  },
  {
   "cell_type": "markdown",
   "id": "212ee734-b33c-43ad-a651-7730ef442c65",
   "metadata": {},
   "source": [
    "### 1. Basic Usage:"
   ]
  },
  {
   "cell_type": "code",
   "execution_count": 21,
   "id": "8a09521e-10c3-4825-9a96-420e5c7dade9",
   "metadata": {},
   "outputs": [
    {
     "name": "stdout",
     "output_type": "stream",
     "text": [
      "[0 1 2 3 4]\n"
     ]
    }
   ],
   "source": [
    "import numpy as np\n",
    "arr = np.arange(5)\n",
    "print(arr)"
   ]
  },
  {
   "cell_type": "markdown",
   "id": "03f07801-24e2-4034-993d-a6e82686d307",
   "metadata": {},
   "source": [
    "### 2. Specifying Start and Stop:\n",
    "\n"
   ]
  },
  {
   "cell_type": "code",
   "execution_count": 22,
   "id": "50dbae56-06eb-4655-9e44-190a5d860c97",
   "metadata": {},
   "outputs": [
    {
     "name": "stdout",
     "output_type": "stream",
     "text": [
      "[2 3 4 5 6]\n"
     ]
    }
   ],
   "source": [
    "arr = np.arange(2, 7)\n",
    "print(arr)"
   ]
  },
  {
   "cell_type": "markdown",
   "id": "7093ccf7-eb2c-47f5-89d6-ad485bc6cb31",
   "metadata": {},
   "source": [
    "### 3. Specifying Step:\n",
    "\n"
   ]
  },
  {
   "cell_type": "code",
   "execution_count": 23,
   "id": "5fede103-94f9-4b80-bf36-c1d15ba39b49",
   "metadata": {},
   "outputs": [
    {
     "name": "stdout",
     "output_type": "stream",
     "text": [
      "[1 3 5 7 9]\n"
     ]
    }
   ],
   "source": [
    "arr = np.arange(1, 10, 2)\n",
    "print(arr)"
   ]
  },
  {
   "cell_type": "markdown",
   "id": "b9010634-be52-4711-a4ea-ff7cb40060ae",
   "metadata": {},
   "source": [
    "### 4. Using Float Values:"
   ]
  },
  {
   "cell_type": "code",
   "execution_count": 24,
   "id": "54294da4-04cf-4bb2-bbb9-eae9e7e7687e",
   "metadata": {},
   "outputs": [
    {
     "name": "stdout",
     "output_type": "stream",
     "text": [
      "[0.  0.2 0.4 0.6 0.8]\n"
     ]
    }
   ],
   "source": [
    "arr = np.arange(0, 1, 0.2)\n",
    "print(arr)"
   ]
  },
  {
   "cell_type": "markdown",
   "id": "47f6414b-94cb-4f5a-ba32-d74a5a371bfb",
   "metadata": {},
   "source": [
    "# Random"
   ]
  },
  {
   "cell_type": "markdown",
   "id": "bf97097b-00b2-4d23-8efc-987f7efdb27e",
   "metadata": {},
   "source": [
    "NumPy's random module provides various functions to generate random numbers and perform random sampling. It can be used for tasks like generating random numbers, shuffling arrays, and sampling from statistical distributions.\n",
    "\n"
   ]
  },
  {
   "cell_type": "markdown",
   "id": "44e7286a-0250-4fe8-9c48-6da13497ab52",
   "metadata": {},
   "source": [
    "### 1.  To generate random numbers"
   ]
  },
  {
   "cell_type": "markdown",
   "id": "9b161162-98fe-4f68-a456-72b9b2837cfa",
   "metadata": {},
   "source": [
    "np.random.rand(): Generates random numbers in a given shape from a uniform distribution over [0, 1)."
   ]
  },
  {
   "cell_type": "code",
   "execution_count": 25,
   "id": "ce4fecef-6468-4a7c-8d3f-746b9febbbcb",
   "metadata": {},
   "outputs": [
    {
     "name": "stdout",
     "output_type": "stream",
     "text": [
      "[0.73083667 0.66756161 0.49731412]\n"
     ]
    }
   ],
   "source": [
    "import numpy as np\n",
    "random_numbers = np.random.rand(3)\n",
    "print(random_numbers)"
   ]
  },
  {
   "cell_type": "markdown",
   "id": "5382c4ac-dbc0-4267-a5ea-447d084e670c",
   "metadata": {},
   "source": [
    "### 2. To generate random numbers"
   ]
  },
  {
   "cell_type": "markdown",
   "id": "a4a24a14-d6e4-48f9-93ac-9e49fcae52ef",
   "metadata": {},
   "source": [
    "np.random.randint(low, high=None, size=None, dtype=int)\n"
   ]
  },
  {
   "cell_type": "code",
   "execution_count": 26,
   "id": "e366a381-e625-42d8-a22a-e80657a7ccfe",
   "metadata": {},
   "outputs": [
    {
     "name": "stdout",
     "output_type": "stream",
     "text": [
      "[7 6 5 6 9]\n"
     ]
    }
   ],
   "source": [
    "random_integers = np.random.randint(1, 10, size=5)\n",
    "print(random_integers)"
   ]
  },
  {
   "cell_type": "markdown",
   "id": "539f180c-7f11-40eb-8daf-02eae2c48524",
   "metadata": {},
   "source": [
    "### 3. To generate Random numbers by choice"
   ]
  },
  {
   "cell_type": "markdown",
   "id": "81f1a9dd-7978-4ac5-b768-374d8b955555",
   "metadata": {},
   "source": [
    "numpy.random.choice: Generates a random sample from a given 1D array."
   ]
  },
  {
   "cell_type": "code",
   "execution_count": 27,
   "id": "5fa6714b-1d71-4f22-94e0-7c8576e77cea",
   "metadata": {},
   "outputs": [
    {
     "name": "stdout",
     "output_type": "stream",
     "text": [
      "Random sample: [5 1 1]\n"
     ]
    }
   ],
   "source": [
    "# Generate a random sample of size 3 from a given array\n",
    "arr = np.array([1, 2, 3, 4, 5])\n",
    "sample = np.random.choice(arr, size=3)\n",
    "print(\"Random sample:\", sample)"
   ]
  },
  {
   "cell_type": "markdown",
   "id": "c2dade4a-7eb0-457d-8079-5b324dac5905",
   "metadata": {},
   "source": [
    "### 4. To shuffle the elements of an array"
   ]
  },
  {
   "cell_type": "markdown",
   "id": "d60c25c9-6fb4-4da5-b21a-bc4276d7860e",
   "metadata": {},
   "source": [
    "numpy.random.shuffle:numpy.random.shuffle"
   ]
  },
  {
   "cell_type": "code",
   "execution_count": 28,
   "id": "8452fb78-764e-4092-964f-6d75135e5547",
   "metadata": {},
   "outputs": [
    {
     "name": "stdout",
     "output_type": "stream",
     "text": [
      "Shuffled array: [3 2 5 1 4]\n"
     ]
    }
   ],
   "source": [
    "# Shuffle elements of an array\n",
    "arr = np.array([1, 2, 3, 4, 5])\n",
    "np.random.shuffle(arr)\n",
    "print(\"Shuffled array:\", arr)"
   ]
  },
  {
   "cell_type": "markdown",
   "id": "204dcfea-4f72-466b-ad2c-2b90a4d562ec",
   "metadata": {},
   "source": [
    "### 5. Permutations of random elements"
   ]
  },
  {
   "cell_type": "markdown",
   "id": "cfd7106a-fcda-4309-9d38-20c677d53f33",
   "metadata": {},
   "source": [
    "* Shuffling Arrays"
   ]
  },
  {
   "cell_type": "markdown",
   "id": "143039af-4d0a-4abf-ab32-03083c78c9aa",
   "metadata": {},
   "source": [
    "Shuffle means changing arrangement of elements in-place. i.e. in the array itself."
   ]
  },
  {
   "cell_type": "code",
   "execution_count": 29,
   "id": "e58651f9-c687-4e00-86f3-a841979258b5",
   "metadata": {},
   "outputs": [
    {
     "name": "stdout",
     "output_type": "stream",
     "text": [
      "[3 2 4 1 5]\n"
     ]
    }
   ],
   "source": [
    "from numpy import random\n",
    "import numpy as np\n",
    "arr = np.array([1, 2, 3, 4, 5])\n",
    "random.shuffle(arr)\n",
    "print(arr)"
   ]
  },
  {
   "cell_type": "markdown",
   "id": "3bae1f14-de75-4cf8-a8ff-e04e4c3bc423",
   "metadata": {},
   "source": [
    "* Generating Permutation of Arrays"
   ]
  },
  {
   "cell_type": "code",
   "execution_count": 30,
   "id": "da8e71a9-1957-4180-959f-7b3aa3b15fd1",
   "metadata": {},
   "outputs": [
    {
     "name": "stdout",
     "output_type": "stream",
     "text": [
      "[1 5 4 3 2]\n"
     ]
    }
   ],
   "source": [
    "from numpy import random\n",
    "import numpy as np\n",
    "arr = np.array([1, 2, 3, 4, 5])\n",
    "print(random.permutation(arr))"
   ]
  },
  {
   "cell_type": "markdown",
   "id": "06990bc2-d0d7-4c9b-b775-dd077c0f86ef",
   "metadata": {},
   "source": [
    "# Mutability"
   ]
  },
  {
   "cell_type": "markdown",
   "id": "cdc78378-d1ff-4c28-bc69-db6c87d1b832",
   "metadata": {},
   "source": [
    "In the context of NumPy arrays, mutability refers to whether the contents of an array can be modified after it has been created. NumPy arrays have different behaviors depending on whether they are mutable or immutable."
   ]
  },
  {
   "cell_type": "markdown",
   "id": "559c9ae4-e1bd-4c2a-84e6-aebff22f7b90",
   "metadata": {},
   "source": [
    "### 1. Mutable Arrays"
   ]
  },
  {
   "cell_type": "code",
   "execution_count": 31,
   "id": "1abd2d57-f258-4182-aff1-f52620a61277",
   "metadata": {},
   "outputs": [
    {
     "name": "stdout",
     "output_type": "stream",
     "text": [
      "Modified Array: [10  2  3  4  5]\n"
     ]
    }
   ],
   "source": [
    "import numpy as np\n",
    "list_data = [1, 2, 3, 4, 5]\n",
    "mutable_arr = np.array(list_data)\n",
    "# Modifying the array\n",
    "mutable_arr[0] = 10\n",
    "print(\"Modified Array:\", mutable_arr)"
   ]
  },
  {
   "cell_type": "markdown",
   "id": "73b82386-4d0e-4ea3-a914-090aad7cc5cc",
   "metadata": {},
   "source": [
    "### 2. Immutable Arrays\n"
   ]
  },
  {
   "cell_type": "code",
   "execution_count": 32,
   "id": "a5a79efb-b8f1-4d7e-b9e1-76d47ece9c1d",
   "metadata": {},
   "outputs": [],
   "source": [
    "import numpy as np\n",
    "tuple_data = (1, 2, 3, 4, 5)\n",
    "immutable_arr = np.array(tuple_data)\n",
    "# Attempting to modify the array will raise an error\n",
    "try:\n",
    "    immutable_arr[0] = 10\n",
    "except ValueError as e:\n",
    "    print(\"Error:\", e) #output is an error"
   ]
  },
  {
   "cell_type": "markdown",
   "id": "1031f7ce-1f6a-41bd-a1ec-c494ee7761d1",
   "metadata": {},
   "source": [
    "# Split"
   ]
  },
  {
   "cell_type": "markdown",
   "id": "f1da435c-5273-4527-a69c-3965a433c3a1",
   "metadata": {},
   "source": [
    "In NumPy, the split function is used to split an array into multiple sub-arrays along a specified axis. This function is particularly useful when you need to divide a large array into smaller arrays based on specific criteria."
   ]
  },
  {
   "cell_type": "markdown",
   "id": "dd4ca98c-b949-45be-a661-6b8b8aa1c275",
   "metadata": {},
   "source": [
    "* array: The array to be split."
   ]
  },
  {
   "cell_type": "markdown",
   "id": "29023834-ad17-4ce2-a780-0aefa5e1c7e4",
   "metadata": {},
   "source": [
    "* indices_or_sections: If an integer n, it specifies the number of equal-sized sub-arrays to create. If a 1-D array of sorted integers, it indicates the indices at which to split the array."
   ]
  },
  {
   "cell_type": "markdown",
   "id": "eafa350d-9284-4aba-88de-a467870cf95a",
   "metadata": {},
   "source": [
    "* axis: The axis along which to split the array. Default is 0 (along rows)."
   ]
  },
  {
   "cell_type": "markdown",
   "id": "46092f4c-aca8-4eec-b404-ddcf67cd628c",
   "metadata": {},
   "source": [
    "### 1. Equal Splitting"
   ]
  },
  {
   "cell_type": "code",
   "execution_count": 33,
   "id": "c837187b-eaff-4b77-b925-18ed8f6127e1",
   "metadata": {},
   "outputs": [
    {
     "name": "stdout",
     "output_type": "stream",
     "text": [
      "Original Array:\n",
      "[[ 0  1  2]\n",
      " [ 3  4  5]\n",
      " [ 6  7  8]\n",
      " [ 9 10 11]]\n",
      "\n",
      "Split Arrays:\n",
      "[[0 1 2]\n",
      " [3 4 5]]\n",
      "[[ 6  7  8]\n",
      " [ 9 10 11]]\n"
     ]
    }
   ],
   "source": [
    "import numpy as np\n",
    "arr = np.arange(12).reshape(4, 3)\n",
    "print(\"Original Array:\")\n",
    "print(arr)\n",
    "# Split into 2 equal parts along rows\n",
    "split_arr = np.split(arr, 2)\n",
    "print(\"\\nSplit Arrays:\")\n",
    "for a in split_arr:\n",
    "    print(a)"
   ]
  },
  {
   "cell_type": "markdown",
   "id": "24479ae2-be55-4c02-97f2-8c2faa50c17d",
   "metadata": {},
   "source": [
    "### 2. Splitting with Indices"
   ]
  },
  {
   "cell_type": "code",
   "execution_count": 34,
   "id": "1e01c125-1b17-4fc0-9c3e-b83232e55b8e",
   "metadata": {},
   "outputs": [
    {
     "name": "stdout",
     "output_type": "stream",
     "text": [
      "Original Array: [0 1 2 3 4 5 6 7 8 9]\n",
      "\n",
      "Split Arrays:\n",
      "[0 1 2]\n",
      "[3 4 5 6]\n",
      "[7 8 9]\n"
     ]
    }
   ],
   "source": [
    "import numpy as np\n",
    "arr = np.arange(10)\n",
    "print(\"Original Array:\", arr)\n",
    "# Split at indices 3 and 7\n",
    "split_arr = np.split(arr, [3, 7])\n",
    "print(\"\\nSplit Arrays:\")\n",
    "for a in split_arr:\n",
    "    print(a)"
   ]
  },
  {
   "cell_type": "markdown",
   "id": "2bd41f02-2a85-4b6a-ba19-e78db9427939",
   "metadata": {},
   "source": [
    "### 3. Splitting Along Columns"
   ]
  },
  {
   "cell_type": "code",
   "execution_count": 35,
   "id": "1ba5387a-ce48-4976-b169-628dd9c5db41",
   "metadata": {},
   "outputs": [
    {
     "name": "stdout",
     "output_type": "stream",
     "text": [
      "Original Array:\n",
      "[[1 2 3 4]\n",
      " [5 6 7 8]]\n",
      "\n",
      "Split Arrays:\n",
      "[[1 2]\n",
      " [5 6]]\n",
      "[[3 4]\n",
      " [7 8]]\n"
     ]
    }
   ],
   "source": [
    "import numpy as np\n",
    "arr = np.array([[1, 2, 3, 4],\n",
    "                [5, 6, 7, 8]])\n",
    "print(\"Original Array:\")\n",
    "print(arr)\n",
    "# Split along columns\n",
    "split_arr = np.split(arr, [2], axis=1)\n",
    "print(\"\\nSplit Arrays:\")\n",
    "for a in split_arr:\n",
    "    print(a)"
   ]
  },
  {
   "cell_type": "markdown",
   "id": "9ad6c44a-de37-42f4-9510-bbd51e171576",
   "metadata": {},
   "source": [
    "# Stack"
   ]
  },
  {
   "cell_type": "markdown",
   "id": "09b87ef7-c335-4107-8b41-425c1c4c5433",
   "metadata": {},
   "source": [
    "In NumPy, stacking refers to combining arrays along a new axis. This operation is useful when you need to concatenate arrays either vertically (along rows) or horizontally (along columns), depending on the axis specified.\n",
    "\n"
   ]
  },
  {
   "cell_type": "markdown",
   "id": "b8c182ad-5268-4c0b-8e0d-8d39b0519902",
   "metadata": {},
   "source": [
    "### 1. np.stack\n"
   ]
  },
  {
   "cell_type": "code",
   "execution_count": 36,
   "id": "6da507dc-abb9-48ba-a881-37122f10389c",
   "metadata": {},
   "outputs": [
    {
     "name": "stdout",
     "output_type": "stream",
     "text": [
      "Stacked Array:\n",
      "[[1 2 3]\n",
      " [4 5 6]]\n"
     ]
    }
   ],
   "source": [
    "import numpy as n\n",
    "arr1 = np.array([1, 2, 3])\n",
    "arr2 = np.array([4, 5, 6])\n",
    "stacked_arr = np.stack((arr1, arr2))\n",
    "print(\"Stacked Array:\")\n",
    "print(stacked_arr)"
   ]
  },
  {
   "cell_type": "markdown",
   "id": "1daadc25-4d69-4f06-a813-1399beca80e4",
   "metadata": {},
   "source": [
    "### 2. np.vstack"
   ]
  },
  {
   "cell_type": "code",
   "execution_count": 37,
   "id": "e038703c-75d2-49f6-9e7a-d8594e4a2562",
   "metadata": {},
   "outputs": [
    {
     "name": "stdout",
     "output_type": "stream",
     "text": [
      "Vertically Stacked Array:\n",
      "[[1 2 3]\n",
      " [4 5 6]]\n"
     ]
    }
   ],
   "source": [
    "import numpy as np\n",
    "arr1 = np.array([1, 2, 3])\n",
    "arr2 = np.array([4, 5, 6])\n",
    "# Stack vertically\n",
    "stacked_arr = np.vstack((arr1, arr2))\n",
    "print(\"Vertically Stacked Array:\")\n",
    "print(stacked_arr)"
   ]
  },
  {
   "cell_type": "markdown",
   "id": "3df79af0-caa4-46f6-9d2f-71450f98ece6",
   "metadata": {},
   "source": [
    "### 3. np.hstack"
   ]
  },
  {
   "cell_type": "code",
   "execution_count": 38,
   "id": "b21d770d-0a12-4b7d-bb59-c69d2795dc8b",
   "metadata": {},
   "outputs": [
    {
     "name": "stdout",
     "output_type": "stream",
     "text": [
      "Horizontally Stacked Array:\n",
      "[1 2 3 4 5 6]\n"
     ]
    }
   ],
   "source": [
    "import numpy as np\n",
    "arr1 = np.array([1, 2, 3])\n",
    "arr2 = np.array([4, 5, 6])\n",
    "# Stack horizontally\n",
    "stacked_arr = np.hstack((arr1, arr2))\n",
    "print(\"Horizontally Stacked Array:\")\n",
    "print(stacked_arr)"
   ]
  },
  {
   "cell_type": "markdown",
   "id": "1fb082d8-78e8-4303-a62d-41d5141bf4ce",
   "metadata": {},
   "source": [
    "### 4. np.dstack\n"
   ]
  },
  {
   "cell_type": "code",
   "execution_count": 39,
   "id": "06706201-d609-4eea-84b6-b4b2467a536d",
   "metadata": {},
   "outputs": [
    {
     "name": "stdout",
     "output_type": "stream",
     "text": [
      "Depth-wise Stacked Array:\n",
      "[[[ 1  7]\n",
      "  [ 2  8]\n",
      "  [ 3  9]]\n",
      "\n",
      " [[ 4 10]\n",
      "  [ 5 11]\n",
      "  [ 6 12]]]\n"
     ]
    }
   ],
   "source": [
    "import numpy as np\n",
    "arr1 = np.array([[1, 2, 3],\n",
    "                 [4, 5, 6]])\n",
    "arr2 = np.array([[7, 8, 9],\n",
    "                 [10, 11, 12]])\n",
    "# Stack depth-wise\n",
    "stacked_arr = np.dstack((arr1, arr2))\n",
    "print(\"Depth-wise Stacked Array:\")\n",
    "print(stacked_arr)"
   ]
  }
 ],
 "metadata": {
  "kernelspec": {
   "display_name": "Python 3 (ipykernel)",
   "language": "python",
   "name": "python3"
  },
  "language_info": {
   "codemirror_mode": {
    "name": "ipython",
    "version": 3
   },
   "file_extension": ".py",
   "mimetype": "text/x-python",
   "name": "python",
   "nbconvert_exporter": "python",
   "pygments_lexer": "ipython3",
   "version": "3.10.9"
  }
 },
 "nbformat": 4,
 "nbformat_minor": 5
}
