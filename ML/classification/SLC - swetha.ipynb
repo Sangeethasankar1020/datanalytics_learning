{
 "cells": [
  {
   "cell_type": "code",
   "execution_count": 288,
   "metadata": {},
   "outputs": [],
   "source": [
    "import numpy as np\n",
    "import pandas as pd\n",
    "import seaborn as sns\n",
    "import matplotlib.pyplot as plt\n",
    "import warnings\n",
    "warnings.filterwarnings(\"ignore\")\n",
    "from scipy import stats\n",
    "\n",
    "import statsmodels.api as sma\n",
    "\n",
    "from sklearn.preprocessing import *\n",
    "from sklearn.model_selection import *\n",
    "\n",
    "from sklearn.linear_model import *\n",
    "from sklearn.tree import *\n",
    "from sklearn.ensemble import *\n",
    "from xgboost import XGBClassifier\n",
    "\n",
    "from sklearn.metrics import *"
   ]
  },
  {
   "cell_type": "markdown",
   "metadata": {
    "id": "W7lec7Uu8k3w"
   },
   "source": [
    "### 1.\tRead the dataset (tab, csv, xls, txt, inbuilt dataset)"
   ]
  },
  {
   "cell_type": "code",
   "execution_count": 139,
   "metadata": {},
   "outputs": [
    {
     "data": {
      "text/html": [
       "<div>\n",
       "<style scoped>\n",
       "    .dataframe tbody tr th:only-of-type {\n",
       "        vertical-align: middle;\n",
       "    }\n",
       "\n",
       "    .dataframe tbody tr th {\n",
       "        vertical-align: top;\n",
       "    }\n",
       "\n",
       "    .dataframe thead th {\n",
       "        text-align: right;\n",
       "    }\n",
       "</style>\n",
       "<table border=\"1\" class=\"dataframe\">\n",
       "  <thead>\n",
       "    <tr style=\"text-align: right;\">\n",
       "      <th></th>\n",
       "      <th>Student I.D.</th>\n",
       "      <th>Age</th>\n",
       "      <th>Gender</th>\n",
       "      <th>ISiF</th>\n",
       "      <th>Viva_Score</th>\n",
       "      <th>Written_Score</th>\n",
       "      <th>Nqi</th>\n",
       "      <th>Ndiq</th>\n",
       "      <th>LsDp</th>\n",
       "      <th>Education_Level</th>\n",
       "      <th>N_de</th>\n",
       "      <th>P_in</th>\n",
       "      <th>S_Fit</th>\n",
       "      <th>Interview_center</th>\n",
       "      <th>N_at</th>\n",
       "      <th>S_10</th>\n",
       "      <th>S_12</th>\n",
       "      <th>Selection</th>\n",
       "    </tr>\n",
       "  </thead>\n",
       "  <tbody>\n",
       "    <tr>\n",
       "      <th>0</th>\n",
       "      <td>2370</td>\n",
       "      <td>NaN</td>\n",
       "      <td>Male</td>\n",
       "      <td>3</td>\n",
       "      <td>9.666853</td>\n",
       "      <td>253.355183</td>\n",
       "      <td>1</td>\n",
       "      <td>1</td>\n",
       "      <td>106.8635992</td>\n",
       "      <td>Masters</td>\n",
       "      <td>1</td>\n",
       "      <td>Poor</td>\n",
       "      <td>13</td>\n",
       "      <td>East</td>\n",
       "      <td>1</td>\n",
       "      <td>29.406406</td>\n",
       "      <td>34.96</td>\n",
       "      <td>Rejected</td>\n",
       "    </tr>\n",
       "    <tr>\n",
       "      <th>1</th>\n",
       "      <td>2371</td>\n",
       "      <td>51.0</td>\n",
       "      <td>Female</td>\n",
       "      <td>1</td>\n",
       "      <td>22.591295</td>\n",
       "      <td>258.081171</td>\n",
       "      <td>2</td>\n",
       "      <td>1</td>\n",
       "      <td>101.9870576</td>\n",
       "      <td>Double Masters</td>\n",
       "      <td>2</td>\n",
       "      <td>Poor</td>\n",
       "      <td>11</td>\n",
       "      <td>East</td>\n",
       "      <td>1</td>\n",
       "      <td>40.146583</td>\n",
       "      <td>44.48</td>\n",
       "      <td>Rejected</td>\n",
       "    </tr>\n",
       "    <tr>\n",
       "      <th>2</th>\n",
       "      <td>2372</td>\n",
       "      <td>58.0</td>\n",
       "      <td>Male</td>\n",
       "      <td>3</td>\n",
       "      <td>14.889823</td>\n",
       "      <td>249.338592</td>\n",
       "      <td>3</td>\n",
       "      <td>1</td>\n",
       "      <td>124.8536995</td>\n",
       "      <td>Double Masters</td>\n",
       "      <td>3</td>\n",
       "      <td>Very Good</td>\n",
       "      <td>10</td>\n",
       "      <td>West</td>\n",
       "      <td>1</td>\n",
       "      <td>43.984982</td>\n",
       "      <td>25.77</td>\n",
       "      <td>Rejected</td>\n",
       "    </tr>\n",
       "    <tr>\n",
       "      <th>3</th>\n",
       "      <td>2373</td>\n",
       "      <td>54.0</td>\n",
       "      <td>Male</td>\n",
       "      <td>2</td>\n",
       "      <td>9.948302</td>\n",
       "      <td>235.107669</td>\n",
       "      <td>2</td>\n",
       "      <td>1</td>\n",
       "      <td>106.856292</td>\n",
       "      <td>M.Phil</td>\n",
       "      <td>1</td>\n",
       "      <td>Average</td>\n",
       "      <td>11</td>\n",
       "      <td>North</td>\n",
       "      <td>4</td>\n",
       "      <td>51.321849</td>\n",
       "      <td>46.49</td>\n",
       "      <td>Rejected</td>\n",
       "    </tr>\n",
       "    <tr>\n",
       "      <th>4</th>\n",
       "      <td>2374</td>\n",
       "      <td>52.0</td>\n",
       "      <td>Male</td>\n",
       "      <td>0</td>\n",
       "      <td>10.162708</td>\n",
       "      <td>NaN</td>\n",
       "      <td>2</td>\n",
       "      <td>1</td>\n",
       "      <td>119.5353453</td>\n",
       "      <td>Graduate</td>\n",
       "      <td>1</td>\n",
       "      <td>Poor</td>\n",
       "      <td>9</td>\n",
       "      <td>East</td>\n",
       "      <td>3</td>\n",
       "      <td>24.409154</td>\n",
       "      <td>42.20</td>\n",
       "      <td>Rejected</td>\n",
       "    </tr>\n",
       "  </tbody>\n",
       "</table>\n",
       "</div>"
      ],
      "text/plain": [
       "   Student I.D.   Age  Gender  ISiF  Viva_Score  Written_Score  Nqi  Ndiq  \\\n",
       "0          2370   NaN    Male     3    9.666853     253.355183    1     1   \n",
       "1          2371  51.0  Female     1   22.591295     258.081171    2     1   \n",
       "2          2372  58.0    Male     3   14.889823     249.338592    3     1   \n",
       "3          2373  54.0    Male     2    9.948302     235.107669    2     1   \n",
       "4          2374  52.0    Male     0   10.162708            NaN    2     1   \n",
       "\n",
       "          LsDp Education_Level  N_de       P_in  S_Fit Interview_center  N_at  \\\n",
       "0  106.8635992         Masters     1       Poor     13             East     1   \n",
       "1  101.9870576  Double Masters     2       Poor     11             East     1   \n",
       "2  124.8536995  Double Masters     3  Very Good     10             West     1   \n",
       "3   106.856292          M.Phil     1    Average     11            North     4   \n",
       "4  119.5353453        Graduate     1       Poor      9             East     3   \n",
       "\n",
       "        S_10   S_12 Selection  \n",
       "0  29.406406  34.96  Rejected  \n",
       "1  40.146583  44.48  Rejected  \n",
       "2  43.984982  25.77  Rejected  \n",
       "3  51.321849  46.49  Rejected  \n",
       "4  24.409154  42.20  Rejected  "
      ]
     },
     "execution_count": 139,
     "metadata": {},
     "output_type": "execute_result"
    }
   ],
   "source": [
    "df = pd.read_csv(\"data_set.csv\")\n",
    "df.head()"
   ]
  },
  {
   "cell_type": "markdown",
   "metadata": {},
   "source": [
    "An IS aspirant wants to see what could be the possible factors that helps a candidate to become IS.He has collected various information about the students from the past records.He has collected the selection data about the candidates as well.The aspirant wants to see if there is a pattern to classify the candidates who has been `Rejected` or `Accepted`\n",
    "Given below is the detail of the dataset.\n",
    "\n",
    "**Detail of the dataset**\n",
    "\n",
    "`Student I.D.` --> Index of applicant enrolment number\n",
    "\n",
    "`Age`  --> Age of the applicant\n",
    "\n",
    "`Gender` --> Gender of the applicant\n",
    "\n",
    "`ISiF` --> Number of IS in the family of the applicant\n",
    "\n",
    "`Viva_Score` --> Score achieved by the applicant in the viva exam\n",
    "\n",
    "`Written_Score` --> Score achieved by the applicant in the written exam \n",
    "\n",
    "`Nqi` --> Number of questions asked to the applicant in interview\n",
    "\n",
    "`Ndiq` --> Number of difficult questions asked to the applicant in interview\n",
    "\n",
    "`LsDp` --> scaled Score of the applicant in last degree program\n",
    "\n",
    "`Education_Level` --> Last achieved education level of the applicant\n",
    "\n",
    "`N_de` --> Number of dependents on the applicant\n",
    "\n",
    "`P_in` --> Performance of the applicant in the interview     \n",
    "\n",
    "`S_Fit` --> Score achieved by the applicant in the physical fitness assessment \n",
    "\n",
    "`Interview_center `  --> Interview center zone alloted for the applicant\n",
    "\n",
    "`N_at` --> Number of attempt of the applicant\n",
    "\n",
    "`S_10` --> Score of the applicant in  the 10 th board exam\n",
    "\n",
    "`S_12` -->  Score of the applicant in  the 12 th board exam\n",
    "\n",
    "`Selection` --> whether the applicant has rejected or selcted"
   ]
  },
  {
   "cell_type": "markdown",
   "metadata": {
    "id": "m6IBywq48k3-"
   },
   "source": [
    "### 1.\tData Understanding (8 marks)\n",
    "\n",
    "a.\tRead the dataset (tab, csv, xls, txt, inbuilt dataset). What are the number of rows and no. of cols & types of variables (continuous, categorical etc.)? (2 MARK)\n",
    "\n",
    "b.\tCalculate five-point summary for numerical variables (1 MARK)\n",
    "\n",
    "c.\tSummarize observations for categorical variables – no. of categories, % observations in each category. (1 mark)\n",
    "\n",
    "d.\tCheck for defects in the data such as missing values, null, outliers, etc and also check for class imbalance. (4 marks)\n"
   ]
  },
  {
   "cell_type": "markdown",
   "metadata": {
    "_cell_guid": "bfca2f2a-d078-4f0a-ad8a-3d3571a08f76",
    "_execution_state": "idle",
    "_uuid": "e5e4b5ee88062058ceff62de7993eac563c1582b",
    "id": "hDa-ztgd8k4C"
   },
   "source": [
    "First, we need to load all of our libraries we will use for this project."
   ]
  },
  {
   "cell_type": "markdown",
   "metadata": {
    "id": "1yPKMkLp8k4H"
   },
   "source": [
    "##### a.\tRead the dataset (tab, csv, xls, txt, inbuilt dataset). What are the number of rows and no. of cols & types of variables (continuous, categorical etc.)? (1 MARK)"
   ]
  },
  {
   "cell_type": "code",
   "execution_count": 140,
   "metadata": {},
   "outputs": [
    {
     "data": {
      "text/plain": [
       "(6011, 18)"
      ]
     },
     "execution_count": 140,
     "metadata": {},
     "output_type": "execute_result"
    }
   ],
   "source": [
    "df.shape"
   ]
  },
  {
   "cell_type": "code",
   "execution_count": 141,
   "metadata": {},
   "outputs": [
    {
     "name": "stdout",
     "output_type": "stream",
     "text": [
      "<class 'pandas.core.frame.DataFrame'>\n",
      "RangeIndex: 6011 entries, 0 to 6010\n",
      "Data columns (total 18 columns):\n",
      " #   Column            Non-Null Count  Dtype  \n",
      "---  ------            --------------  -----  \n",
      " 0   Student I.D.      6011 non-null   int64  \n",
      " 1   Age               5412 non-null   float64\n",
      " 2   Gender            6011 non-null   object \n",
      " 3   ISiF              6011 non-null   int64  \n",
      " 4   Viva_Score        6011 non-null   float64\n",
      " 5   Written_Score     5387 non-null   float64\n",
      " 6   Nqi               6011 non-null   int64  \n",
      " 7   Ndiq              6011 non-null   int64  \n",
      " 8   LsDp              6011 non-null   object \n",
      " 9   Education_Level   6011 non-null   object \n",
      " 10  N_de              6011 non-null   int64  \n",
      " 11  P_in              6011 non-null   object \n",
      " 12  S_Fit             6011 non-null   int64  \n",
      " 13  Interview_center  6011 non-null   object \n",
      " 14  N_at              6011 non-null   int64  \n",
      " 15  S_10              6011 non-null   float64\n",
      " 16  S_12              5650 non-null   float64\n",
      " 17  Selection         6011 non-null   object \n",
      "dtypes: float64(5), int64(7), object(6)\n",
      "memory usage: 845.4+ KB\n"
     ]
    }
   ],
   "source": [
    "df.info()"
   ]
  },
  {
   "cell_type": "code",
   "execution_count": 142,
   "metadata": {},
   "outputs": [
    {
     "name": "stdout",
     "output_type": "stream",
     "text": [
      "No of rows:  6011\n",
      "No of variables:  18\n"
     ]
    }
   ],
   "source": [
    "print(\"No of rows: \", df.shape[0])\n",
    "print(\"No of variables: \", df.shape[1])"
   ]
  },
  {
   "cell_type": "code",
   "execution_count": 143,
   "metadata": {},
   "outputs": [
    {
     "data": {
      "text/html": [
       "<div>\n",
       "<style scoped>\n",
       "    .dataframe tbody tr th:only-of-type {\n",
       "        vertical-align: middle;\n",
       "    }\n",
       "\n",
       "    .dataframe tbody tr th {\n",
       "        vertical-align: top;\n",
       "    }\n",
       "\n",
       "    .dataframe thead th {\n",
       "        text-align: right;\n",
       "    }\n",
       "</style>\n",
       "<table border=\"1\" class=\"dataframe\">\n",
       "  <thead>\n",
       "    <tr style=\"text-align: right;\">\n",
       "      <th></th>\n",
       "      <th>Student I.D.</th>\n",
       "      <th>Age</th>\n",
       "      <th>ISiF</th>\n",
       "      <th>Viva_Score</th>\n",
       "      <th>Written_Score</th>\n",
       "      <th>Nqi</th>\n",
       "      <th>Ndiq</th>\n",
       "      <th>N_de</th>\n",
       "      <th>S_Fit</th>\n",
       "      <th>N_at</th>\n",
       "      <th>S_10</th>\n",
       "      <th>S_12</th>\n",
       "    </tr>\n",
       "  </thead>\n",
       "  <tbody>\n",
       "    <tr>\n",
       "      <th>0</th>\n",
       "      <td>2370</td>\n",
       "      <td>NaN</td>\n",
       "      <td>3</td>\n",
       "      <td>9.666853</td>\n",
       "      <td>253.355183</td>\n",
       "      <td>1</td>\n",
       "      <td>1</td>\n",
       "      <td>1</td>\n",
       "      <td>13</td>\n",
       "      <td>1</td>\n",
       "      <td>29.406406</td>\n",
       "      <td>34.96</td>\n",
       "    </tr>\n",
       "    <tr>\n",
       "      <th>1</th>\n",
       "      <td>2371</td>\n",
       "      <td>51.0</td>\n",
       "      <td>1</td>\n",
       "      <td>22.591295</td>\n",
       "      <td>258.081171</td>\n",
       "      <td>2</td>\n",
       "      <td>1</td>\n",
       "      <td>2</td>\n",
       "      <td>11</td>\n",
       "      <td>1</td>\n",
       "      <td>40.146583</td>\n",
       "      <td>44.48</td>\n",
       "    </tr>\n",
       "    <tr>\n",
       "      <th>2</th>\n",
       "      <td>2372</td>\n",
       "      <td>58.0</td>\n",
       "      <td>3</td>\n",
       "      <td>14.889823</td>\n",
       "      <td>249.338592</td>\n",
       "      <td>3</td>\n",
       "      <td>1</td>\n",
       "      <td>3</td>\n",
       "      <td>10</td>\n",
       "      <td>1</td>\n",
       "      <td>43.984982</td>\n",
       "      <td>25.77</td>\n",
       "    </tr>\n",
       "    <tr>\n",
       "      <th>3</th>\n",
       "      <td>2373</td>\n",
       "      <td>54.0</td>\n",
       "      <td>2</td>\n",
       "      <td>9.948302</td>\n",
       "      <td>235.107669</td>\n",
       "      <td>2</td>\n",
       "      <td>1</td>\n",
       "      <td>1</td>\n",
       "      <td>11</td>\n",
       "      <td>4</td>\n",
       "      <td>51.321849</td>\n",
       "      <td>46.49</td>\n",
       "    </tr>\n",
       "    <tr>\n",
       "      <th>4</th>\n",
       "      <td>2374</td>\n",
       "      <td>52.0</td>\n",
       "      <td>0</td>\n",
       "      <td>10.162708</td>\n",
       "      <td>NaN</td>\n",
       "      <td>2</td>\n",
       "      <td>1</td>\n",
       "      <td>1</td>\n",
       "      <td>9</td>\n",
       "      <td>3</td>\n",
       "      <td>24.409154</td>\n",
       "      <td>42.20</td>\n",
       "    </tr>\n",
       "    <tr>\n",
       "      <th>...</th>\n",
       "      <td>...</td>\n",
       "      <td>...</td>\n",
       "      <td>...</td>\n",
       "      <td>...</td>\n",
       "      <td>...</td>\n",
       "      <td>...</td>\n",
       "      <td>...</td>\n",
       "      <td>...</td>\n",
       "      <td>...</td>\n",
       "      <td>...</td>\n",
       "      <td>...</td>\n",
       "      <td>...</td>\n",
       "    </tr>\n",
       "    <tr>\n",
       "      <th>6006</th>\n",
       "      <td>2365</td>\n",
       "      <td>54.0</td>\n",
       "      <td>1</td>\n",
       "      <td>17.520195</td>\n",
       "      <td>235.844935</td>\n",
       "      <td>1</td>\n",
       "      <td>1</td>\n",
       "      <td>1</td>\n",
       "      <td>9</td>\n",
       "      <td>2</td>\n",
       "      <td>47.442668</td>\n",
       "      <td>15.95</td>\n",
       "    </tr>\n",
       "    <tr>\n",
       "      <th>6007</th>\n",
       "      <td>2366</td>\n",
       "      <td>50.0</td>\n",
       "      <td>3</td>\n",
       "      <td>10.510617</td>\n",
       "      <td>254.349422</td>\n",
       "      <td>1</td>\n",
       "      <td>0</td>\n",
       "      <td>2</td>\n",
       "      <td>7</td>\n",
       "      <td>4</td>\n",
       "      <td>45.709586</td>\n",
       "      <td>52.69</td>\n",
       "    </tr>\n",
       "    <tr>\n",
       "      <th>6008</th>\n",
       "      <td>2367</td>\n",
       "      <td>56.0</td>\n",
       "      <td>1</td>\n",
       "      <td>9.240526</td>\n",
       "      <td>NaN</td>\n",
       "      <td>3</td>\n",
       "      <td>1</td>\n",
       "      <td>2</td>\n",
       "      <td>6</td>\n",
       "      <td>4</td>\n",
       "      <td>27.104480</td>\n",
       "      <td>23.37</td>\n",
       "    </tr>\n",
       "    <tr>\n",
       "      <th>6009</th>\n",
       "      <td>2368</td>\n",
       "      <td>54.0</td>\n",
       "      <td>1</td>\n",
       "      <td>18.416980</td>\n",
       "      <td>239.790076</td>\n",
       "      <td>1</td>\n",
       "      <td>1</td>\n",
       "      <td>1</td>\n",
       "      <td>10</td>\n",
       "      <td>4</td>\n",
       "      <td>29.933738</td>\n",
       "      <td>28.23</td>\n",
       "    </tr>\n",
       "    <tr>\n",
       "      <th>6010</th>\n",
       "      <td>2369</td>\n",
       "      <td>56.0</td>\n",
       "      <td>3</td>\n",
       "      <td>19.271279</td>\n",
       "      <td>251.885698</td>\n",
       "      <td>1</td>\n",
       "      <td>1</td>\n",
       "      <td>2</td>\n",
       "      <td>13</td>\n",
       "      <td>2</td>\n",
       "      <td>30.904932</td>\n",
       "      <td>NaN</td>\n",
       "    </tr>\n",
       "  </tbody>\n",
       "</table>\n",
       "<p>6011 rows × 12 columns</p>\n",
       "</div>"
      ],
      "text/plain": [
       "      Student I.D.   Age  ISiF  Viva_Score  Written_Score  Nqi  Ndiq  N_de  \\\n",
       "0             2370   NaN     3    9.666853     253.355183    1     1     1   \n",
       "1             2371  51.0     1   22.591295     258.081171    2     1     2   \n",
       "2             2372  58.0     3   14.889823     249.338592    3     1     3   \n",
       "3             2373  54.0     2    9.948302     235.107669    2     1     1   \n",
       "4             2374  52.0     0   10.162708            NaN    2     1     1   \n",
       "...            ...   ...   ...         ...            ...  ...   ...   ...   \n",
       "6006          2365  54.0     1   17.520195     235.844935    1     1     1   \n",
       "6007          2366  50.0     3   10.510617     254.349422    1     0     2   \n",
       "6008          2367  56.0     1    9.240526            NaN    3     1     2   \n",
       "6009          2368  54.0     1   18.416980     239.790076    1     1     1   \n",
       "6010          2369  56.0     3   19.271279     251.885698    1     1     2   \n",
       "\n",
       "      S_Fit  N_at       S_10   S_12  \n",
       "0        13     1  29.406406  34.96  \n",
       "1        11     1  40.146583  44.48  \n",
       "2        10     1  43.984982  25.77  \n",
       "3        11     4  51.321849  46.49  \n",
       "4         9     3  24.409154  42.20  \n",
       "...     ...   ...        ...    ...  \n",
       "6006      9     2  47.442668  15.95  \n",
       "6007      7     4  45.709586  52.69  \n",
       "6008      6     4  27.104480  23.37  \n",
       "6009     10     4  29.933738  28.23  \n",
       "6010     13     2  30.904932    NaN  \n",
       "\n",
       "[6011 rows x 12 columns]"
      ]
     },
     "execution_count": 143,
     "metadata": {},
     "output_type": "execute_result"
    }
   ],
   "source": [
    "num_col = df.select_dtypes(include=np.number)\n",
    "num_col"
   ]
  },
  {
   "cell_type": "code",
   "execution_count": 144,
   "metadata": {},
   "outputs": [
    {
     "name": "stdout",
     "output_type": "stream",
     "text": [
      "No of numerical variables :  12\n"
     ]
    }
   ],
   "source": [
    "print(\"No of numerical variables : \",num_col.shape[1])"
   ]
  },
  {
   "cell_type": "code",
   "execution_count": 145,
   "metadata": {},
   "outputs": [
    {
     "data": {
      "text/html": [
       "<div>\n",
       "<style scoped>\n",
       "    .dataframe tbody tr th:only-of-type {\n",
       "        vertical-align: middle;\n",
       "    }\n",
       "\n",
       "    .dataframe tbody tr th {\n",
       "        vertical-align: top;\n",
       "    }\n",
       "\n",
       "    .dataframe thead th {\n",
       "        text-align: right;\n",
       "    }\n",
       "</style>\n",
       "<table border=\"1\" class=\"dataframe\">\n",
       "  <thead>\n",
       "    <tr style=\"text-align: right;\">\n",
       "      <th></th>\n",
       "      <th>Gender</th>\n",
       "      <th>LsDp</th>\n",
       "      <th>Education_Level</th>\n",
       "      <th>P_in</th>\n",
       "      <th>Interview_center</th>\n",
       "      <th>Selection</th>\n",
       "    </tr>\n",
       "  </thead>\n",
       "  <tbody>\n",
       "    <tr>\n",
       "      <th>0</th>\n",
       "      <td>Male</td>\n",
       "      <td>106.8635992</td>\n",
       "      <td>Masters</td>\n",
       "      <td>Poor</td>\n",
       "      <td>East</td>\n",
       "      <td>Rejected</td>\n",
       "    </tr>\n",
       "    <tr>\n",
       "      <th>1</th>\n",
       "      <td>Female</td>\n",
       "      <td>101.9870576</td>\n",
       "      <td>Double Masters</td>\n",
       "      <td>Poor</td>\n",
       "      <td>East</td>\n",
       "      <td>Rejected</td>\n",
       "    </tr>\n",
       "    <tr>\n",
       "      <th>2</th>\n",
       "      <td>Male</td>\n",
       "      <td>124.8536995</td>\n",
       "      <td>Double Masters</td>\n",
       "      <td>Very Good</td>\n",
       "      <td>West</td>\n",
       "      <td>Rejected</td>\n",
       "    </tr>\n",
       "    <tr>\n",
       "      <th>3</th>\n",
       "      <td>Male</td>\n",
       "      <td>106.856292</td>\n",
       "      <td>M.Phil</td>\n",
       "      <td>Average</td>\n",
       "      <td>North</td>\n",
       "      <td>Rejected</td>\n",
       "    </tr>\n",
       "    <tr>\n",
       "      <th>4</th>\n",
       "      <td>Male</td>\n",
       "      <td>119.5353453</td>\n",
       "      <td>Graduate</td>\n",
       "      <td>Poor</td>\n",
       "      <td>East</td>\n",
       "      <td>Rejected</td>\n",
       "    </tr>\n",
       "    <tr>\n",
       "      <th>...</th>\n",
       "      <td>...</td>\n",
       "      <td>...</td>\n",
       "      <td>...</td>\n",
       "      <td>...</td>\n",
       "      <td>...</td>\n",
       "      <td>...</td>\n",
       "    </tr>\n",
       "    <tr>\n",
       "      <th>6006</th>\n",
       "      <td>Male</td>\n",
       "      <td>109.1426445</td>\n",
       "      <td>M.Phil</td>\n",
       "      <td>Very Good</td>\n",
       "      <td>West</td>\n",
       "      <td>Rejected</td>\n",
       "    </tr>\n",
       "    <tr>\n",
       "      <th>6007</th>\n",
       "      <td>Male</td>\n",
       "      <td>113.7737061</td>\n",
       "      <td>M.Phil</td>\n",
       "      <td>Poor</td>\n",
       "      <td>North</td>\n",
       "      <td>Rejected</td>\n",
       "    </tr>\n",
       "    <tr>\n",
       "      <th>6008</th>\n",
       "      <td>Female</td>\n",
       "      <td>110.5970387</td>\n",
       "      <td>Under graduate</td>\n",
       "      <td>Poor</td>\n",
       "      <td>East</td>\n",
       "      <td>Rejected</td>\n",
       "    </tr>\n",
       "    <tr>\n",
       "      <th>6009</th>\n",
       "      <td>Male</td>\n",
       "      <td>116.6791871</td>\n",
       "      <td>Doctorate</td>\n",
       "      <td>Very Good</td>\n",
       "      <td>South</td>\n",
       "      <td>Rejected</td>\n",
       "    </tr>\n",
       "    <tr>\n",
       "      <th>6010</th>\n",
       "      <td>Male</td>\n",
       "      <td>122.5764098</td>\n",
       "      <td>Under graduate</td>\n",
       "      <td>Very Good</td>\n",
       "      <td>North</td>\n",
       "      <td>Rejected</td>\n",
       "    </tr>\n",
       "  </tbody>\n",
       "</table>\n",
       "<p>6011 rows × 6 columns</p>\n",
       "</div>"
      ],
      "text/plain": [
       "      Gender         LsDp Education_Level       P_in Interview_center  \\\n",
       "0       Male  106.8635992         Masters       Poor             East   \n",
       "1     Female  101.9870576  Double Masters       Poor             East   \n",
       "2       Male  124.8536995  Double Masters  Very Good             West   \n",
       "3       Male   106.856292          M.Phil    Average            North   \n",
       "4       Male  119.5353453        Graduate       Poor             East   \n",
       "...      ...          ...             ...        ...              ...   \n",
       "6006    Male  109.1426445          M.Phil  Very Good             West   \n",
       "6007    Male  113.7737061          M.Phil       Poor            North   \n",
       "6008  Female  110.5970387  Under graduate       Poor             East   \n",
       "6009    Male  116.6791871       Doctorate  Very Good            South   \n",
       "6010    Male  122.5764098  Under graduate  Very Good            North   \n",
       "\n",
       "     Selection  \n",
       "0     Rejected  \n",
       "1     Rejected  \n",
       "2     Rejected  \n",
       "3     Rejected  \n",
       "4     Rejected  \n",
       "...        ...  \n",
       "6006  Rejected  \n",
       "6007  Rejected  \n",
       "6008  Rejected  \n",
       "6009  Rejected  \n",
       "6010  Rejected  \n",
       "\n",
       "[6011 rows x 6 columns]"
      ]
     },
     "execution_count": 145,
     "metadata": {},
     "output_type": "execute_result"
    }
   ],
   "source": [
    "cat_col = df.select_dtypes(include=object)\n",
    "cat_col"
   ]
  },
  {
   "cell_type": "code",
   "execution_count": 146,
   "metadata": {},
   "outputs": [
    {
     "name": "stdout",
     "output_type": "stream",
     "text": [
      "No of categorical variables : 6\n"
     ]
    }
   ],
   "source": [
    "print(\"No of categorical variables :\",cat_col.shape[1])"
   ]
  },
  {
   "cell_type": "markdown",
   "metadata": {
    "id": "xZk-cqDU8k4M"
   },
   "source": [
    "##### b.\tCalculate five-point summary for numerical variables (1 MARK)"
   ]
  },
  {
   "cell_type": "code",
   "execution_count": 147,
   "metadata": {},
   "outputs": [
    {
     "data": {
      "text/html": [
       "<div>\n",
       "<style scoped>\n",
       "    .dataframe tbody tr th:only-of-type {\n",
       "        vertical-align: middle;\n",
       "    }\n",
       "\n",
       "    .dataframe tbody tr th {\n",
       "        vertical-align: top;\n",
       "    }\n",
       "\n",
       "    .dataframe thead th {\n",
       "        text-align: right;\n",
       "    }\n",
       "</style>\n",
       "<table border=\"1\" class=\"dataframe\">\n",
       "  <thead>\n",
       "    <tr style=\"text-align: right;\">\n",
       "      <th></th>\n",
       "      <th>Student I.D.</th>\n",
       "      <th>Age</th>\n",
       "      <th>ISiF</th>\n",
       "      <th>Viva_Score</th>\n",
       "      <th>Written_Score</th>\n",
       "      <th>Nqi</th>\n",
       "      <th>Ndiq</th>\n",
       "      <th>N_de</th>\n",
       "      <th>S_Fit</th>\n",
       "      <th>N_at</th>\n",
       "      <th>S_10</th>\n",
       "      <th>S_12</th>\n",
       "    </tr>\n",
       "  </thead>\n",
       "  <tbody>\n",
       "    <tr>\n",
       "      <th>count</th>\n",
       "      <td>6011.000000</td>\n",
       "      <td>5412.000000</td>\n",
       "      <td>6011.000000</td>\n",
       "      <td>6011.000000</td>\n",
       "      <td>5387.000000</td>\n",
       "      <td>6011.000000</td>\n",
       "      <td>6011.000000</td>\n",
       "      <td>6011.000000</td>\n",
       "      <td>6011.000000</td>\n",
       "      <td>6011.000000</td>\n",
       "      <td>6011.000000</td>\n",
       "      <td>5650.000000</td>\n",
       "    </tr>\n",
       "    <tr>\n",
       "      <th>mean</th>\n",
       "      <td>3985.027949</td>\n",
       "      <td>65.509054</td>\n",
       "      <td>1.647812</td>\n",
       "      <td>14.069158</td>\n",
       "      <td>248.555385</td>\n",
       "      <td>2.659790</td>\n",
       "      <td>0.911163</td>\n",
       "      <td>1.554317</td>\n",
       "      <td>9.528531</td>\n",
       "      <td>2.515222</td>\n",
       "      <td>40.867625</td>\n",
       "      <td>40.395181</td>\n",
       "    </tr>\n",
       "    <tr>\n",
       "      <th>std</th>\n",
       "      <td>1754.272987</td>\n",
       "      <td>15.157124</td>\n",
       "      <td>1.061928</td>\n",
       "      <td>5.130764</td>\n",
       "      <td>10.356986</td>\n",
       "      <td>1.098272</td>\n",
       "      <td>0.708701</td>\n",
       "      <td>0.669395</td>\n",
       "      <td>2.281002</td>\n",
       "      <td>1.115565</td>\n",
       "      <td>11.198465</td>\n",
       "      <td>11.630763</td>\n",
       "    </tr>\n",
       "    <tr>\n",
       "      <th>min</th>\n",
       "      <td>6.000000</td>\n",
       "      <td>29.000000</td>\n",
       "      <td>0.000000</td>\n",
       "      <td>1.241648</td>\n",
       "      <td>212.122186</td>\n",
       "      <td>1.000000</td>\n",
       "      <td>0.000000</td>\n",
       "      <td>1.000000</td>\n",
       "      <td>6.000000</td>\n",
       "      <td>1.000000</td>\n",
       "      <td>1.242888</td>\n",
       "      <td>3.010000</td>\n",
       "    </tr>\n",
       "    <tr>\n",
       "      <th>25%</th>\n",
       "      <td>2492.500000</td>\n",
       "      <td>53.000000</td>\n",
       "      <td>1.000000</td>\n",
       "      <td>9.403510</td>\n",
       "      <td>240.667384</td>\n",
       "      <td>2.000000</td>\n",
       "      <td>0.000000</td>\n",
       "      <td>1.000000</td>\n",
       "      <td>8.000000</td>\n",
       "      <td>2.000000</td>\n",
       "      <td>33.245788</td>\n",
       "      <td>32.280000</td>\n",
       "    </tr>\n",
       "    <tr>\n",
       "      <th>50%</th>\n",
       "      <td>3995.000000</td>\n",
       "      <td>69.000000</td>\n",
       "      <td>1.000000</td>\n",
       "      <td>14.611830</td>\n",
       "      <td>249.338592</td>\n",
       "      <td>3.000000</td>\n",
       "      <td>1.000000</td>\n",
       "      <td>1.000000</td>\n",
       "      <td>10.000000</td>\n",
       "      <td>3.000000</td>\n",
       "      <td>40.952178</td>\n",
       "      <td>39.870000</td>\n",
       "    </tr>\n",
       "    <tr>\n",
       "      <th>75%</th>\n",
       "      <td>5497.500000</td>\n",
       "      <td>78.000000</td>\n",
       "      <td>3.000000</td>\n",
       "      <td>18.334351</td>\n",
       "      <td>255.374700</td>\n",
       "      <td>4.000000</td>\n",
       "      <td>1.000000</td>\n",
       "      <td>2.000000</td>\n",
       "      <td>12.000000</td>\n",
       "      <td>4.000000</td>\n",
       "      <td>48.623251</td>\n",
       "      <td>48.720000</td>\n",
       "    </tr>\n",
       "    <tr>\n",
       "      <th>max</th>\n",
       "      <td>7000.000000</td>\n",
       "      <td>91.000000</td>\n",
       "      <td>3.000000</td>\n",
       "      <td>27.644734</td>\n",
       "      <td>283.852277</td>\n",
       "      <td>4.000000</td>\n",
       "      <td>2.000000</td>\n",
       "      <td>3.000000</td>\n",
       "      <td>13.000000</td>\n",
       "      <td>4.000000</td>\n",
       "      <td>84.045723</td>\n",
       "      <td>86.030000</td>\n",
       "    </tr>\n",
       "  </tbody>\n",
       "</table>\n",
       "</div>"
      ],
      "text/plain": [
       "       Student I.D.          Age         ISiF   Viva_Score  Written_Score  \\\n",
       "count   6011.000000  5412.000000  6011.000000  6011.000000    5387.000000   \n",
       "mean    3985.027949    65.509054     1.647812    14.069158     248.555385   \n",
       "std     1754.272987    15.157124     1.061928     5.130764      10.356986   \n",
       "min        6.000000    29.000000     0.000000     1.241648     212.122186   \n",
       "25%     2492.500000    53.000000     1.000000     9.403510     240.667384   \n",
       "50%     3995.000000    69.000000     1.000000    14.611830     249.338592   \n",
       "75%     5497.500000    78.000000     3.000000    18.334351     255.374700   \n",
       "max     7000.000000    91.000000     3.000000    27.644734     283.852277   \n",
       "\n",
       "               Nqi         Ndiq         N_de        S_Fit         N_at  \\\n",
       "count  6011.000000  6011.000000  6011.000000  6011.000000  6011.000000   \n",
       "mean      2.659790     0.911163     1.554317     9.528531     2.515222   \n",
       "std       1.098272     0.708701     0.669395     2.281002     1.115565   \n",
       "min       1.000000     0.000000     1.000000     6.000000     1.000000   \n",
       "25%       2.000000     0.000000     1.000000     8.000000     2.000000   \n",
       "50%       3.000000     1.000000     1.000000    10.000000     3.000000   \n",
       "75%       4.000000     1.000000     2.000000    12.000000     4.000000   \n",
       "max       4.000000     2.000000     3.000000    13.000000     4.000000   \n",
       "\n",
       "              S_10         S_12  \n",
       "count  6011.000000  5650.000000  \n",
       "mean     40.867625    40.395181  \n",
       "std      11.198465    11.630763  \n",
       "min       1.242888     3.010000  \n",
       "25%      33.245788    32.280000  \n",
       "50%      40.952178    39.870000  \n",
       "75%      48.623251    48.720000  \n",
       "max      84.045723    86.030000  "
      ]
     },
     "execution_count": 147,
     "metadata": {},
     "output_type": "execute_result"
    }
   ],
   "source": [
    "df.describe(include=np.number)"
   ]
  },
  {
   "cell_type": "markdown",
   "metadata": {
    "_cell_guid": "7ad8dd1d-470b-4e1e-b7b5-44769b775131",
    "_execution_state": "idle",
    "_uuid": "6cb8261a58c38c0492512efdbd1621d910965d52",
    "id": "TCLxT-ja8k4c"
   },
   "source": [
    "#### c.\tSummarize observations for categorical variables – no. of categories, % observations in each category"
   ]
  },
  {
   "cell_type": "code",
   "execution_count": 148,
   "metadata": {},
   "outputs": [
    {
     "name": "stdout",
     "output_type": "stream",
     "text": [
      "Gender\n",
      "Male      69.70554\n",
      "Female    30.29446\n",
      "Name: Gender, dtype: float64\n",
      "====================================================================================================\n",
      "LsDp\n",
      "?              1.264349\n",
      "112.3576993    0.016636\n",
      "113.3823462    0.016636\n",
      "117.9127594    0.016636\n",
      "98.76468273    0.016636\n",
      "                 ...   \n",
      "103.8016579    0.016636\n",
      "111.0754026    0.016636\n",
      "104.7373354    0.016636\n",
      "107.9843665    0.016636\n",
      "120.0157216    0.016636\n",
      "Name: LsDp, Length: 5936, dtype: float64\n",
      "====================================================================================================\n",
      "Education_Level\n",
      "Graduate           24.355349\n",
      "Under graduate     14.606555\n",
      "Doctorate          14.456829\n",
      "Masters            14.440193\n",
      "Double Masters     14.074197\n",
      "M.Phil             14.057561\n",
      "Double graduate     4.009316\n",
      "Name: Education_Level, dtype: float64\n",
      "====================================================================================================\n",
      "P_in\n",
      "Very Good    51.988022\n",
      "Average      36.399933\n",
      "Poor         11.612045\n",
      "Name: P_in, dtype: float64\n",
      "====================================================================================================\n",
      "Interview_center\n",
      "East     49.492597\n",
      "North    30.593911\n",
      "West     10.497421\n",
      "South     9.416071\n",
      "Name: Interview_center, dtype: float64\n",
      "====================================================================================================\n",
      "Selection\n",
      "Rejected    84.67809\n",
      "Accepted    15.32191\n",
      "Name: Selection, dtype: float64\n",
      "====================================================================================================\n"
     ]
    }
   ],
   "source": [
    "for i in cat_col:\n",
    "    print(i)\n",
    "    print(df[i].value_counts(normalize=True)*100)\n",
    "    print(\"=\"*100)"
   ]
  },
  {
   "cell_type": "markdown",
   "metadata": {
    "id": "Vk9ujzYu8k4i"
   },
   "source": [
    "##### d.\tCheck for defects in the data such as missing values, null, outliers, etc and also check for class imbalance. (4 marks)"
   ]
  },
  {
   "cell_type": "code",
   "execution_count": 149,
   "metadata": {},
   "outputs": [
    {
     "data": {
      "text/plain": [
       "Student I.D.          0\n",
       "Age                 599\n",
       "Gender                0\n",
       "ISiF                  0\n",
       "Viva_Score            0\n",
       "Written_Score       624\n",
       "Nqi                   0\n",
       "Ndiq                  0\n",
       "LsDp                  0\n",
       "Education_Level       0\n",
       "N_de                  0\n",
       "P_in                  0\n",
       "S_Fit                 0\n",
       "Interview_center      0\n",
       "N_at                  0\n",
       "S_10                  0\n",
       "S_12                361\n",
       "Selection             0\n",
       "dtype: int64"
      ]
     },
     "execution_count": 149,
     "metadata": {},
     "output_type": "execute_result"
    }
   ],
   "source": [
    "df.isnull().sum()"
   ]
  },
  {
   "cell_type": "code",
   "execution_count": 150,
   "metadata": {},
   "outputs": [
    {
     "data": {
      "text/plain": [
       "Student I.D.    -0.044103\n",
       "Age             -0.391446\n",
       "ISiF            -0.018020\n",
       "Viva_Score      -0.035589\n",
       "Written_Score   -0.123087\n",
       "Nqi             -0.331132\n",
       "Ndiq             0.128450\n",
       "N_de             0.806747\n",
       "S_Fit           -0.018509\n",
       "N_at            -0.017708\n",
       "S_10            -0.068453\n",
       "S_12             0.074763\n",
       "dtype: float64"
      ]
     },
     "execution_count": 150,
     "metadata": {},
     "output_type": "execute_result"
    }
   ],
   "source": [
    "df.skew()"
   ]
  },
  {
   "cell_type": "markdown",
   "metadata": {
    "id": "KVo5f1MA8k4u"
   },
   "source": [
    "#### 2.\tData Preparation (17 marks)\n",
    "\n",
    "a.\tFix the defects found above and do appropriate treatment if any. (10 marks)\n",
    "\n",
    "b.\tVisualize the data using relevant plots. Find out the variables which are highly correlated with Target? (3 marks)\n",
    "\n",
    "c.\tDo you want to exclude some variables from the model based on this analysis? What other actions will you take? (2 marks)\n",
    "\n",
    " d.\tSplit dataset into train and test (70:30). Are both train and test representative of the overall data? How would you ascertain this statistically? (2 marks)"
   ]
  },
  {
   "cell_type": "markdown",
   "metadata": {
    "id": "S5Dsr1BG8k4w"
   },
   "source": [
    "##### a.\tFix the defects found above and do appropriate treatment if any. (10 marks)"
   ]
  },
  {
   "cell_type": "code",
   "execution_count": 151,
   "metadata": {},
   "outputs": [],
   "source": [
    "df[\"Age\"] = df[\"Age\"].fillna(df[\"Age\"].median())"
   ]
  },
  {
   "cell_type": "code",
   "execution_count": 152,
   "metadata": {},
   "outputs": [
    {
     "data": {
      "text/plain": [
       "0"
      ]
     },
     "execution_count": 152,
     "metadata": {},
     "output_type": "execute_result"
    }
   ],
   "source": [
    "df[\"Age\"].isnull().sum()"
   ]
  },
  {
   "cell_type": "code",
   "execution_count": 153,
   "metadata": {},
   "outputs": [],
   "source": [
    "df[\"Written_Score\"] = df[\"Written_Score\"].fillna(df[\"Written_Score\"].median())"
   ]
  },
  {
   "cell_type": "code",
   "execution_count": 154,
   "metadata": {},
   "outputs": [
    {
     "data": {
      "text/plain": [
       "0"
      ]
     },
     "execution_count": 154,
     "metadata": {},
     "output_type": "execute_result"
    }
   ],
   "source": [
    "df[\"Written_Score\"].isnull().sum()"
   ]
  },
  {
   "cell_type": "code",
   "execution_count": 155,
   "metadata": {},
   "outputs": [],
   "source": [
    "df[\"S_12\"] = df[\"S_12\"].fillna(df[\"S_12\"].median())"
   ]
  },
  {
   "cell_type": "code",
   "execution_count": 156,
   "metadata": {},
   "outputs": [
    {
     "data": {
      "text/plain": [
       "0"
      ]
     },
     "execution_count": 156,
     "metadata": {},
     "output_type": "execute_result"
    }
   ],
   "source": [
    "df[\"S_12\"].isnull().sum() "
   ]
  },
  {
   "cell_type": "code",
   "execution_count": 157,
   "metadata": {},
   "outputs": [],
   "source": [
    "df.LsDp.replace(to_replace=\"?\",value=np.nan,inplace=True)"
   ]
  },
  {
   "cell_type": "code",
   "execution_count": 158,
   "metadata": {},
   "outputs": [
    {
     "data": {
      "text/plain": [
       "76"
      ]
     },
     "execution_count": 158,
     "metadata": {},
     "output_type": "execute_result"
    }
   ],
   "source": [
    "df.LsDp.isnull().sum()"
   ]
  },
  {
   "cell_type": "code",
   "execution_count": 159,
   "metadata": {},
   "outputs": [],
   "source": [
    "df[\"LsDp\"] = df[\"LsDp\"].fillna(df[\"LsDp\"].median())"
   ]
  },
  {
   "cell_type": "code",
   "execution_count": 160,
   "metadata": {},
   "outputs": [
    {
     "data": {
      "text/plain": [
       "0"
      ]
     },
     "execution_count": 160,
     "metadata": {},
     "output_type": "execute_result"
    }
   ],
   "source": [
    "df.LsDp.isnull().sum()"
   ]
  },
  {
   "cell_type": "code",
   "execution_count": 161,
   "metadata": {},
   "outputs": [],
   "source": [
    "df[\"LsDp\"]=df[\"LsDp\"].astype(float)"
   ]
  },
  {
   "cell_type": "code",
   "execution_count": 162,
   "metadata": {},
   "outputs": [
    {
     "data": {
      "text/html": [
       "<div>\n",
       "<style scoped>\n",
       "    .dataframe tbody tr th:only-of-type {\n",
       "        vertical-align: middle;\n",
       "    }\n",
       "\n",
       "    .dataframe tbody tr th {\n",
       "        vertical-align: top;\n",
       "    }\n",
       "\n",
       "    .dataframe thead th {\n",
       "        text-align: right;\n",
       "    }\n",
       "</style>\n",
       "<table border=\"1\" class=\"dataframe\">\n",
       "  <thead>\n",
       "    <tr style=\"text-align: right;\">\n",
       "      <th></th>\n",
       "      <th>Gender</th>\n",
       "      <th>Education_Level</th>\n",
       "      <th>P_in</th>\n",
       "      <th>Interview_center</th>\n",
       "      <th>Selection</th>\n",
       "    </tr>\n",
       "  </thead>\n",
       "  <tbody>\n",
       "    <tr>\n",
       "      <th>0</th>\n",
       "      <td>Male</td>\n",
       "      <td>Masters</td>\n",
       "      <td>Poor</td>\n",
       "      <td>East</td>\n",
       "      <td>Rejected</td>\n",
       "    </tr>\n",
       "    <tr>\n",
       "      <th>1</th>\n",
       "      <td>Female</td>\n",
       "      <td>Double Masters</td>\n",
       "      <td>Poor</td>\n",
       "      <td>East</td>\n",
       "      <td>Rejected</td>\n",
       "    </tr>\n",
       "    <tr>\n",
       "      <th>2</th>\n",
       "      <td>Male</td>\n",
       "      <td>Double Masters</td>\n",
       "      <td>Very Good</td>\n",
       "      <td>West</td>\n",
       "      <td>Rejected</td>\n",
       "    </tr>\n",
       "    <tr>\n",
       "      <th>3</th>\n",
       "      <td>Male</td>\n",
       "      <td>M.Phil</td>\n",
       "      <td>Average</td>\n",
       "      <td>North</td>\n",
       "      <td>Rejected</td>\n",
       "    </tr>\n",
       "    <tr>\n",
       "      <th>4</th>\n",
       "      <td>Male</td>\n",
       "      <td>Graduate</td>\n",
       "      <td>Poor</td>\n",
       "      <td>East</td>\n",
       "      <td>Rejected</td>\n",
       "    </tr>\n",
       "    <tr>\n",
       "      <th>...</th>\n",
       "      <td>...</td>\n",
       "      <td>...</td>\n",
       "      <td>...</td>\n",
       "      <td>...</td>\n",
       "      <td>...</td>\n",
       "    </tr>\n",
       "    <tr>\n",
       "      <th>6006</th>\n",
       "      <td>Male</td>\n",
       "      <td>M.Phil</td>\n",
       "      <td>Very Good</td>\n",
       "      <td>West</td>\n",
       "      <td>Rejected</td>\n",
       "    </tr>\n",
       "    <tr>\n",
       "      <th>6007</th>\n",
       "      <td>Male</td>\n",
       "      <td>M.Phil</td>\n",
       "      <td>Poor</td>\n",
       "      <td>North</td>\n",
       "      <td>Rejected</td>\n",
       "    </tr>\n",
       "    <tr>\n",
       "      <th>6008</th>\n",
       "      <td>Female</td>\n",
       "      <td>Under graduate</td>\n",
       "      <td>Poor</td>\n",
       "      <td>East</td>\n",
       "      <td>Rejected</td>\n",
       "    </tr>\n",
       "    <tr>\n",
       "      <th>6009</th>\n",
       "      <td>Male</td>\n",
       "      <td>Doctorate</td>\n",
       "      <td>Very Good</td>\n",
       "      <td>South</td>\n",
       "      <td>Rejected</td>\n",
       "    </tr>\n",
       "    <tr>\n",
       "      <th>6010</th>\n",
       "      <td>Male</td>\n",
       "      <td>Under graduate</td>\n",
       "      <td>Very Good</td>\n",
       "      <td>North</td>\n",
       "      <td>Rejected</td>\n",
       "    </tr>\n",
       "  </tbody>\n",
       "</table>\n",
       "<p>6011 rows × 5 columns</p>\n",
       "</div>"
      ],
      "text/plain": [
       "      Gender Education_Level       P_in Interview_center Selection\n",
       "0       Male         Masters       Poor             East  Rejected\n",
       "1     Female  Double Masters       Poor             East  Rejected\n",
       "2       Male  Double Masters  Very Good             West  Rejected\n",
       "3       Male          M.Phil    Average            North  Rejected\n",
       "4       Male        Graduate       Poor             East  Rejected\n",
       "...      ...             ...        ...              ...       ...\n",
       "6006    Male          M.Phil  Very Good             West  Rejected\n",
       "6007    Male          M.Phil       Poor            North  Rejected\n",
       "6008  Female  Under graduate       Poor             East  Rejected\n",
       "6009    Male       Doctorate  Very Good            South  Rejected\n",
       "6010    Male  Under graduate  Very Good            North  Rejected\n",
       "\n",
       "[6011 rows x 5 columns]"
      ]
     },
     "execution_count": 162,
     "metadata": {},
     "output_type": "execute_result"
    }
   ],
   "source": [
    "cat_col = df.select_dtypes(include = object)\n",
    "cat_col"
   ]
  },
  {
   "cell_type": "code",
   "execution_count": 163,
   "metadata": {
    "scrolled": true
   },
   "outputs": [
    {
     "data": {
      "image/png": "[encoded data removed]",
      "text/plain": [
       "<Figure size 432x288 with 1 Axes>"
      ]
     },
     "metadata": {
      "needs_background": "light"
     },
     "output_type": "display_data"
    },
    {
     "data": {
      "image/png": "[encoded data removed]",
      "text/plain": [
       "<Figure size 432x288 with 1 Axes>"
      ]
     },
     "metadata": {
      "needs_background": "light"
     },
     "output_type": "display_data"
    },
    {
     "data": {
      "image/png": "[encoded data removed]",
      "text/plain": [
       "<Figure size 432x288 with 1 Axes>"
      ]
     },
     "metadata": {
      "needs_background": "light"
     },
     "output_type": "display_data"
    },
    {
     "data": {
      "image/png": "[encoded data removed]",
      "text/plain": [
       "<Figure size 432x288 with 1 Axes>"
      ]
     },
     "metadata": {
      "needs_background": "light"
     },
     "output_type": "display_data"
    },
    {
     "data": {
      "image/png": "[encoded data removed]",
      "text/plain": [
       "<Figure size 432x288 with 1 Axes>"
      ]
     },
     "metadata": {
      "needs_background": "light"
     },
     "output_type": "display_data"
    },
    {
     "data": {
      "image/png": "[encoded data removed]",
      "text/plain": [
       "<Figure size 432x288 with 1 Axes>"
      ]
     },
     "metadata": {
      "needs_background": "light"
     },
     "output_type": "display_data"
    },
    {
     "data": {
      "image/png": "[encoded data removed]",
      "text/plain": [
       "<Figure size 432x288 with 1 Axes>"
      ]
     },
     "metadata": {
      "needs_background": "light"
     },
     "output_type": "display_data"
    },
    {
     "data": {
      "image/png": "[encoded data removed]",
      "text/plain": [
       "<Figure size 432x288 with 1 Axes>"
      ]
     },
     "metadata": {
      "needs_background": "light"
     },
     "output_type": "display_data"
    },
    {
     "data": {
      "image/png": "[encoded data removed]",
      "text/plain": [
       "<Figure size 432x288 with 1 Axes>"
      ]
     },
     "metadata": {
      "needs_background": "light"
     },
     "output_type": "display_data"
    },
    {
     "data": {
      "image/png": "[encoded data removed]",
      "text/plain": [
       "<Figure size 432x288 with 1 Axes>"
      ]
     },
     "metadata": {
      "needs_background": "light"
     },
     "output_type": "display_data"
    },
    {
     "data": {
      "image/png": "[encoded data removed]",
      "text/plain": [
       "<Figure size 432x288 with 1 Axes>"
      ]
     },
     "metadata": {
      "needs_background": "light"
     },
     "output_type": "display_data"
    },
    {
     "data": {
      "image/png": "[encoded data removed]",
      "text/plain": [
       "<Figure size 432x288 with 1 Axes>"
      ]
     },
     "metadata": {
      "needs_background": "light"
     },
     "output_type": "display_data"
    }
   ],
   "source": [
    "for i in num_col.columns:\n",
    "    sns.boxplot(df[i])\n",
    "    plt.show()"
   ]
  },
  {
   "cell_type": "markdown",
   "metadata": {},
   "source": [
    "* There is not much outliers in the numerical variables. \n",
    "* since the data set has limited data , i have considered to not treat the outliers"
   ]
  },
  {
   "cell_type": "code",
   "execution_count": 164,
   "metadata": {},
   "outputs": [
    {
     "data": {
      "image/png": "[encoded data removed]",
      "text/plain": [
       "<Figure size 432x288 with 1 Axes>"
      ]
     },
     "metadata": {
      "needs_background": "light"
     },
     "output_type": "display_data"
    },
    {
     "data": {
      "image/png": "[encoded data removed]",
      "text/plain": [
       "<Figure size 432x288 with 1 Axes>"
      ]
     },
     "metadata": {
      "needs_background": "light"
     },
     "output_type": "display_data"
    },
    {
     "data": {
      "image/png": "[encoded data removed]",
      "text/plain": [
       "<Figure size 432x288 with 1 Axes>"
      ]
     },
     "metadata": {
      "needs_background": "light"
     },
     "output_type": "display_data"
    },
    {
     "data": {
      "image/png": "[encoded data removed]",
      "text/plain": [
       "<Figure size 432x288 with 1 Axes>"
      ]
     },
     "metadata": {
      "needs_background": "light"
     },
     "output_type": "display_data"
    },
    {
     "data": {
      "image/png": "[encoded data removed]",
      "text/plain": [
       "<Figure size 432x288 with 1 Axes>"
      ]
     },
     "metadata": {
      "needs_background": "light"
     },
     "output_type": "display_data"
    }
   ],
   "source": [
    "for i in cat_col.columns:\n",
    "    sns.countplot(x=df[i])\n",
    "    plt.show()"
   ]
  },
  {
   "cell_type": "markdown",
   "metadata": {},
   "source": [
    "* since the above visualized are the categorical variables where we cant able to predict the outliers so here we can only able to check the balanced or imbalanced data"
   ]
  },
  {
   "cell_type": "markdown",
   "metadata": {},
   "source": [
    "* since the target variable has some imbalanced data in it"
   ]
  },
  {
   "cell_type": "code",
   "execution_count": 165,
   "metadata": {},
   "outputs": [
    {
     "data": {
      "text/plain": [
       "Rejected    84.67809\n",
       "Accepted    15.32191\n",
       "Name: Selection, dtype: float64"
      ]
     },
     "execution_count": 165,
     "metadata": {},
     "output_type": "execute_result"
    }
   ],
   "source": [
    "df.Selection.value_counts(normalize=True)*100"
   ]
  },
  {
   "cell_type": "markdown",
   "metadata": {},
   "source": [
    "* the data is imbalanced\n",
    "* here for this dataset im considered it as balanced and i am continuing with this"
   ]
  },
  {
   "cell_type": "markdown",
   "metadata": {
    "id": "EU2sE5iz8k40"
   },
   "source": [
    "##### b.\tVisualize the data using relevant plots. Find out the variables which are highly correlated with Target? (3 marks)"
   ]
  },
  {
   "cell_type": "code",
   "execution_count": 166,
   "metadata": {},
   "outputs": [
    {
     "data": {
      "text/plain": [
       "<matplotlib.axes._subplots.AxesSubplot at 0x7f9898773208>"
      ]
     },
     "execution_count": 166,
     "metadata": {},
     "output_type": "execute_result"
    },
    {
     "data": {
      "image/png": "[encoded data removed]",
      "text/plain": [
       "<Figure size 2160x1440 with 2 Axes>"
      ]
     },
     "metadata": {
      "needs_background": "light"
     },
     "output_type": "display_data"
    }
   ],
   "source": [
    "plt.figure(figsize=[30,20])\n",
    "sns.heatmap(df.corr(),annot=True)"
   ]
  },
  {
   "cell_type": "markdown",
   "metadata": {},
   "source": [
    "* the dataset has less correlation between the independent variables"
   ]
  },
  {
   "cell_type": "code",
   "execution_count": 167,
   "metadata": {},
   "outputs": [
    {
     "data": {
      "image/png": "[encoded data removed]",
      "text/plain": [
       "<Figure size 432x288 with 1 Axes>"
      ]
     },
     "metadata": {
      "needs_background": "light"
     },
     "output_type": "display_data"
    },
    {
     "data": {
      "image/png": "[encoded data removed]",
      "text/plain": [
       "<Figure size 432x288 with 1 Axes>"
      ]
     },
     "metadata": {
      "needs_background": "light"
     },
     "output_type": "display_data"
    },
    {
     "data": {
      "image/png": "[encoded data removed]",
      "text/plain": [
       "<Figure size 432x288 with 1 Axes>"
      ]
     },
     "metadata": {
      "needs_background": "light"
     },
     "output_type": "display_data"
    },
    {
     "data": {
      "image/png": "[encoded data removed]",
      "text/plain": [
       "<Figure size 432x288 with 1 Axes>"
      ]
     },
     "metadata": {
      "needs_background": "light"
     },
     "output_type": "display_data"
    }
   ],
   "source": [
    "for i in cat_col.columns[:-1]:\n",
    "    sns.heatmap(pd.crosstab(df[i],df[\"Selection\"]),annot=True,fmt=\"d\",cbar=False,cmap=[\"red\",\"green\"])\n",
    "    plt.show()"
   ]
  },
  {
   "cell_type": "markdown",
   "metadata": {},
   "source": [
    "* according to the selection on the basis of gender the males got rejected compared to female.\n",
    "* according to the selection on the basis of education the graduated students with graduation got rejected most compared to others\n",
    "* according to the selection on the basis of performance in the interview the very good and average peformed students got rejected most(their count is high) \n",
    "* according to the selection on the basis of interview center alloted north and east center students faced most of the rejection compared to south and west"
   ]
  },
  {
   "cell_type": "markdown",
   "metadata": {
    "id": "5gnHgk1V8k42"
   },
   "source": [
    "##### c.\tDo you want to exclude some variables from the model based on this analysis? What other actions will you take? (2 marks)"
   ]
  },
  {
   "cell_type": "markdown",
   "metadata": {},
   "source": [
    "* as per my knowledge student id doesn't add any values to the dataset or the problem statement"
   ]
  },
  {
   "cell_type": "code",
   "execution_count": 168,
   "metadata": {},
   "outputs": [],
   "source": [
    "df = df.drop(['Student I.D.'],axis=1)"
   ]
  },
  {
   "cell_type": "markdown",
   "metadata": {
    "id": "Z5-ZDKO78k49"
   },
   "source": [
    "##### d.\tSplit dataset into train and test (70:30). Are both train and test representative of the overall data? How would you ascertain this statistically? (2 marks)"
   ]
  },
  {
   "cell_type": "code",
   "execution_count": 169,
   "metadata": {
    "scrolled": true
   },
   "outputs": [
    {
     "data": {
      "text/html": [
       "<div>\n",
       "<style scoped>\n",
       "    .dataframe tbody tr th:only-of-type {\n",
       "        vertical-align: middle;\n",
       "    }\n",
       "\n",
       "    .dataframe tbody tr th {\n",
       "        vertical-align: top;\n",
       "    }\n",
       "\n",
       "    .dataframe thead th {\n",
       "        text-align: right;\n",
       "    }\n",
       "</style>\n",
       "<table border=\"1\" class=\"dataframe\">\n",
       "  <thead>\n",
       "    <tr style=\"text-align: right;\">\n",
       "      <th></th>\n",
       "      <th>Age</th>\n",
       "      <th>Gender</th>\n",
       "      <th>ISiF</th>\n",
       "      <th>Viva_Score</th>\n",
       "      <th>Written_Score</th>\n",
       "      <th>Nqi</th>\n",
       "      <th>Ndiq</th>\n",
       "      <th>LsDp</th>\n",
       "      <th>Education_Level</th>\n",
       "      <th>N_de</th>\n",
       "      <th>P_in</th>\n",
       "      <th>S_Fit</th>\n",
       "      <th>Interview_center</th>\n",
       "      <th>N_at</th>\n",
       "      <th>S_10</th>\n",
       "      <th>S_12</th>\n",
       "      <th>Selection</th>\n",
       "    </tr>\n",
       "  </thead>\n",
       "  <tbody>\n",
       "    <tr>\n",
       "      <th>0</th>\n",
       "      <td>69.0</td>\n",
       "      <td>Male</td>\n",
       "      <td>3</td>\n",
       "      <td>9.666853</td>\n",
       "      <td>253.355183</td>\n",
       "      <td>1</td>\n",
       "      <td>1</td>\n",
       "      <td>106.863599</td>\n",
       "      <td>Masters</td>\n",
       "      <td>1</td>\n",
       "      <td>Poor</td>\n",
       "      <td>13</td>\n",
       "      <td>East</td>\n",
       "      <td>1</td>\n",
       "      <td>29.406406</td>\n",
       "      <td>34.96</td>\n",
       "      <td>Rejected</td>\n",
       "    </tr>\n",
       "    <tr>\n",
       "      <th>1</th>\n",
       "      <td>51.0</td>\n",
       "      <td>Female</td>\n",
       "      <td>1</td>\n",
       "      <td>22.591295</td>\n",
       "      <td>258.081171</td>\n",
       "      <td>2</td>\n",
       "      <td>1</td>\n",
       "      <td>101.987058</td>\n",
       "      <td>Double Masters</td>\n",
       "      <td>2</td>\n",
       "      <td>Poor</td>\n",
       "      <td>11</td>\n",
       "      <td>East</td>\n",
       "      <td>1</td>\n",
       "      <td>40.146583</td>\n",
       "      <td>44.48</td>\n",
       "      <td>Rejected</td>\n",
       "    </tr>\n",
       "    <tr>\n",
       "      <th>2</th>\n",
       "      <td>58.0</td>\n",
       "      <td>Male</td>\n",
       "      <td>3</td>\n",
       "      <td>14.889823</td>\n",
       "      <td>249.338592</td>\n",
       "      <td>3</td>\n",
       "      <td>1</td>\n",
       "      <td>124.853700</td>\n",
       "      <td>Double Masters</td>\n",
       "      <td>3</td>\n",
       "      <td>Very Good</td>\n",
       "      <td>10</td>\n",
       "      <td>West</td>\n",
       "      <td>1</td>\n",
       "      <td>43.984982</td>\n",
       "      <td>25.77</td>\n",
       "      <td>Rejected</td>\n",
       "    </tr>\n",
       "    <tr>\n",
       "      <th>3</th>\n",
       "      <td>54.0</td>\n",
       "      <td>Male</td>\n",
       "      <td>2</td>\n",
       "      <td>9.948302</td>\n",
       "      <td>235.107669</td>\n",
       "      <td>2</td>\n",
       "      <td>1</td>\n",
       "      <td>106.856292</td>\n",
       "      <td>M.Phil</td>\n",
       "      <td>1</td>\n",
       "      <td>Average</td>\n",
       "      <td>11</td>\n",
       "      <td>North</td>\n",
       "      <td>4</td>\n",
       "      <td>51.321849</td>\n",
       "      <td>46.49</td>\n",
       "      <td>Rejected</td>\n",
       "    </tr>\n",
       "    <tr>\n",
       "      <th>4</th>\n",
       "      <td>52.0</td>\n",
       "      <td>Male</td>\n",
       "      <td>0</td>\n",
       "      <td>10.162708</td>\n",
       "      <td>249.338592</td>\n",
       "      <td>2</td>\n",
       "      <td>1</td>\n",
       "      <td>119.535345</td>\n",
       "      <td>Graduate</td>\n",
       "      <td>1</td>\n",
       "      <td>Poor</td>\n",
       "      <td>9</td>\n",
       "      <td>East</td>\n",
       "      <td>3</td>\n",
       "      <td>24.409154</td>\n",
       "      <td>42.20</td>\n",
       "      <td>Rejected</td>\n",
       "    </tr>\n",
       "  </tbody>\n",
       "</table>\n",
       "</div>"
      ],
      "text/plain": [
       "    Age  Gender  ISiF  Viva_Score  Written_Score  Nqi  Ndiq        LsDp  \\\n",
       "0  69.0    Male     3    9.666853     253.355183    1     1  106.863599   \n",
       "1  51.0  Female     1   22.591295     258.081171    2     1  101.987058   \n",
       "2  58.0    Male     3   14.889823     249.338592    3     1  124.853700   \n",
       "3  54.0    Male     2    9.948302     235.107669    2     1  106.856292   \n",
       "4  52.0    Male     0   10.162708     249.338592    2     1  119.535345   \n",
       "\n",
       "  Education_Level  N_de       P_in  S_Fit Interview_center  N_at       S_10  \\\n",
       "0         Masters     1       Poor     13             East     1  29.406406   \n",
       "1  Double Masters     2       Poor     11             East     1  40.146583   \n",
       "2  Double Masters     3  Very Good     10             West     1  43.984982   \n",
       "3          M.Phil     1    Average     11            North     4  51.321849   \n",
       "4        Graduate     1       Poor      9             East     3  24.409154   \n",
       "\n",
       "    S_12 Selection  \n",
       "0  34.96  Rejected  \n",
       "1  44.48  Rejected  \n",
       "2  25.77  Rejected  \n",
       "3  46.49  Rejected  \n",
       "4  42.20  Rejected  "
      ]
     },
     "execution_count": 169,
     "metadata": {},
     "output_type": "execute_result"
    }
   ],
   "source": [
    "df.head()"
   ]
  },
  {
   "cell_type": "code",
   "execution_count": 170,
   "metadata": {},
   "outputs": [
    {
     "name": "stdout",
     "output_type": "stream",
     "text": [
      "Gender----  ['Male' 'Female']\n",
      "Education_Level----  ['Masters' 'Double Masters' 'M.Phil' 'Graduate' 'Doctorate'\n",
      " 'Under graduate' 'Double graduate']\n",
      "P_in----  ['Poor' 'Very Good' 'Average']\n",
      "Interview_center----  ['East' 'West' 'North' 'South']\n",
      "Selection----  ['Rejected' 'Accepted']\n"
     ]
    }
   ],
   "source": [
    "for i in cat_col.columns:\n",
    "    print(f\"{i}---- \",df[i].unique())"
   ]
  },
  {
   "cell_type": "code",
   "execution_count": 171,
   "metadata": {},
   "outputs": [],
   "source": [
    "#df[\"Gender\"] = df[\"Gender\"].replace(to_replace=['Male','Female'],value = [0,1])\n",
    "#df[\"Education_Level\"] = df[\"Education_Level\"].replace(to_replace=['Masters','Double Masters','M.Phil','Graduate','Doctorate','Under graduate','Double graduate'],value = [0,1,2,3,4,5,6],inplace=True)\n",
    "#df[\"P_in\"] = df[\"P_in\"].replace(to_replace=['Poor','Very Good','Average'],value=[0,1,2],inplace=True)\n",
    "#df[\"Interview_center\"]=df[\"Interview_center\"].replace(to_replace= ['East','West','North','South'],value=[0,1,2,3],inplace=True)\n",
    "#df[\"Selection\"] = df[\"Selection\"].replace(to_replace=['Rejected','Accepted'],value=[0,1],inplace=True)"
   ]
  },
  {
   "cell_type": "code",
   "execution_count": 172,
   "metadata": {},
   "outputs": [],
   "source": [
    "df[\"Gender\"] = pd.get_dummies(df[\"Gender\"],drop_first=True)"
   ]
  },
  {
   "cell_type": "code",
   "execution_count": 173,
   "metadata": {},
   "outputs": [],
   "source": [
    "df[\"Education_Level\"] = pd.get_dummies(df[\"Education_Level\"],drop_first=True)"
   ]
  },
  {
   "cell_type": "code",
   "execution_count": 174,
   "metadata": {},
   "outputs": [],
   "source": [
    "df[\"P_in\"]=pd.get_dummies(df[\"P_in\"],drop_first=True)"
   ]
  },
  {
   "cell_type": "code",
   "execution_count": 175,
   "metadata": {},
   "outputs": [],
   "source": [
    "df[\"Interview_center\"]=pd.get_dummies(df[\"Interview_center\"],drop_first=True)"
   ]
  },
  {
   "cell_type": "code",
   "execution_count": 176,
   "metadata": {},
   "outputs": [],
   "source": [
    "df[\"Selection\"]=pd.get_dummies(df[\"Selection\"],drop_first=True)"
   ]
  },
  {
   "cell_type": "code",
   "execution_count": 177,
   "metadata": {},
   "outputs": [
    {
     "data": {
      "text/plain": [
       "(6011, 17)"
      ]
     },
     "execution_count": 177,
     "metadata": {},
     "output_type": "execute_result"
    }
   ],
   "source": [
    "df.shape"
   ]
  },
  {
   "cell_type": "code",
   "execution_count": 178,
   "metadata": {},
   "outputs": [
    {
     "data": {
      "text/html": [
       "<div>\n",
       "<style scoped>\n",
       "    .dataframe tbody tr th:only-of-type {\n",
       "        vertical-align: middle;\n",
       "    }\n",
       "\n",
       "    .dataframe tbody tr th {\n",
       "        vertical-align: top;\n",
       "    }\n",
       "\n",
       "    .dataframe thead th {\n",
       "        text-align: right;\n",
       "    }\n",
       "</style>\n",
       "<table border=\"1\" class=\"dataframe\">\n",
       "  <thead>\n",
       "    <tr style=\"text-align: right;\">\n",
       "      <th></th>\n",
       "      <th>Age</th>\n",
       "      <th>Gender</th>\n",
       "      <th>ISiF</th>\n",
       "      <th>Viva_Score</th>\n",
       "      <th>Written_Score</th>\n",
       "      <th>Nqi</th>\n",
       "      <th>Ndiq</th>\n",
       "      <th>LsDp</th>\n",
       "      <th>Education_Level</th>\n",
       "      <th>N_de</th>\n",
       "      <th>P_in</th>\n",
       "      <th>S_Fit</th>\n",
       "      <th>Interview_center</th>\n",
       "      <th>N_at</th>\n",
       "      <th>S_10</th>\n",
       "      <th>S_12</th>\n",
       "      <th>Selection</th>\n",
       "    </tr>\n",
       "  </thead>\n",
       "  <tbody>\n",
       "    <tr>\n",
       "      <th>0</th>\n",
       "      <td>69.0</td>\n",
       "      <td>1</td>\n",
       "      <td>3</td>\n",
       "      <td>9.666853</td>\n",
       "      <td>253.355183</td>\n",
       "      <td>1</td>\n",
       "      <td>1</td>\n",
       "      <td>106.863599</td>\n",
       "      <td>0</td>\n",
       "      <td>1</td>\n",
       "      <td>1</td>\n",
       "      <td>13</td>\n",
       "      <td>0</td>\n",
       "      <td>1</td>\n",
       "      <td>29.406406</td>\n",
       "      <td>34.96</td>\n",
       "      <td>1</td>\n",
       "    </tr>\n",
       "    <tr>\n",
       "      <th>1</th>\n",
       "      <td>51.0</td>\n",
       "      <td>0</td>\n",
       "      <td>1</td>\n",
       "      <td>22.591295</td>\n",
       "      <td>258.081171</td>\n",
       "      <td>2</td>\n",
       "      <td>1</td>\n",
       "      <td>101.987058</td>\n",
       "      <td>1</td>\n",
       "      <td>2</td>\n",
       "      <td>1</td>\n",
       "      <td>11</td>\n",
       "      <td>0</td>\n",
       "      <td>1</td>\n",
       "      <td>40.146583</td>\n",
       "      <td>44.48</td>\n",
       "      <td>1</td>\n",
       "    </tr>\n",
       "    <tr>\n",
       "      <th>2</th>\n",
       "      <td>58.0</td>\n",
       "      <td>1</td>\n",
       "      <td>3</td>\n",
       "      <td>14.889823</td>\n",
       "      <td>249.338592</td>\n",
       "      <td>3</td>\n",
       "      <td>1</td>\n",
       "      <td>124.853700</td>\n",
       "      <td>1</td>\n",
       "      <td>3</td>\n",
       "      <td>0</td>\n",
       "      <td>10</td>\n",
       "      <td>0</td>\n",
       "      <td>1</td>\n",
       "      <td>43.984982</td>\n",
       "      <td>25.77</td>\n",
       "      <td>1</td>\n",
       "    </tr>\n",
       "    <tr>\n",
       "      <th>3</th>\n",
       "      <td>54.0</td>\n",
       "      <td>1</td>\n",
       "      <td>2</td>\n",
       "      <td>9.948302</td>\n",
       "      <td>235.107669</td>\n",
       "      <td>2</td>\n",
       "      <td>1</td>\n",
       "      <td>106.856292</td>\n",
       "      <td>0</td>\n",
       "      <td>1</td>\n",
       "      <td>0</td>\n",
       "      <td>11</td>\n",
       "      <td>1</td>\n",
       "      <td>4</td>\n",
       "      <td>51.321849</td>\n",
       "      <td>46.49</td>\n",
       "      <td>1</td>\n",
       "    </tr>\n",
       "    <tr>\n",
       "      <th>4</th>\n",
       "      <td>52.0</td>\n",
       "      <td>1</td>\n",
       "      <td>0</td>\n",
       "      <td>10.162708</td>\n",
       "      <td>249.338592</td>\n",
       "      <td>2</td>\n",
       "      <td>1</td>\n",
       "      <td>119.535345</td>\n",
       "      <td>0</td>\n",
       "      <td>1</td>\n",
       "      <td>1</td>\n",
       "      <td>9</td>\n",
       "      <td>0</td>\n",
       "      <td>3</td>\n",
       "      <td>24.409154</td>\n",
       "      <td>42.20</td>\n",
       "      <td>1</td>\n",
       "    </tr>\n",
       "    <tr>\n",
       "      <th>...</th>\n",
       "      <td>...</td>\n",
       "      <td>...</td>\n",
       "      <td>...</td>\n",
       "      <td>...</td>\n",
       "      <td>...</td>\n",
       "      <td>...</td>\n",
       "      <td>...</td>\n",
       "      <td>...</td>\n",
       "      <td>...</td>\n",
       "      <td>...</td>\n",
       "      <td>...</td>\n",
       "      <td>...</td>\n",
       "      <td>...</td>\n",
       "      <td>...</td>\n",
       "      <td>...</td>\n",
       "      <td>...</td>\n",
       "      <td>...</td>\n",
       "    </tr>\n",
       "    <tr>\n",
       "      <th>6006</th>\n",
       "      <td>54.0</td>\n",
       "      <td>1</td>\n",
       "      <td>1</td>\n",
       "      <td>17.520195</td>\n",
       "      <td>235.844935</td>\n",
       "      <td>1</td>\n",
       "      <td>1</td>\n",
       "      <td>109.142645</td>\n",
       "      <td>0</td>\n",
       "      <td>1</td>\n",
       "      <td>0</td>\n",
       "      <td>9</td>\n",
       "      <td>0</td>\n",
       "      <td>2</td>\n",
       "      <td>47.442668</td>\n",
       "      <td>15.95</td>\n",
       "      <td>1</td>\n",
       "    </tr>\n",
       "    <tr>\n",
       "      <th>6007</th>\n",
       "      <td>50.0</td>\n",
       "      <td>1</td>\n",
       "      <td>3</td>\n",
       "      <td>10.510617</td>\n",
       "      <td>254.349422</td>\n",
       "      <td>1</td>\n",
       "      <td>0</td>\n",
       "      <td>113.773706</td>\n",
       "      <td>0</td>\n",
       "      <td>2</td>\n",
       "      <td>1</td>\n",
       "      <td>7</td>\n",
       "      <td>1</td>\n",
       "      <td>4</td>\n",
       "      <td>45.709586</td>\n",
       "      <td>52.69</td>\n",
       "      <td>1</td>\n",
       "    </tr>\n",
       "    <tr>\n",
       "      <th>6008</th>\n",
       "      <td>56.0</td>\n",
       "      <td>0</td>\n",
       "      <td>1</td>\n",
       "      <td>9.240526</td>\n",
       "      <td>249.338592</td>\n",
       "      <td>3</td>\n",
       "      <td>1</td>\n",
       "      <td>110.597039</td>\n",
       "      <td>0</td>\n",
       "      <td>2</td>\n",
       "      <td>1</td>\n",
       "      <td>6</td>\n",
       "      <td>0</td>\n",
       "      <td>4</td>\n",
       "      <td>27.104480</td>\n",
       "      <td>23.37</td>\n",
       "      <td>1</td>\n",
       "    </tr>\n",
       "    <tr>\n",
       "      <th>6009</th>\n",
       "      <td>54.0</td>\n",
       "      <td>1</td>\n",
       "      <td>1</td>\n",
       "      <td>18.416980</td>\n",
       "      <td>239.790076</td>\n",
       "      <td>1</td>\n",
       "      <td>1</td>\n",
       "      <td>116.679187</td>\n",
       "      <td>0</td>\n",
       "      <td>1</td>\n",
       "      <td>0</td>\n",
       "      <td>10</td>\n",
       "      <td>0</td>\n",
       "      <td>4</td>\n",
       "      <td>29.933738</td>\n",
       "      <td>28.23</td>\n",
       "      <td>1</td>\n",
       "    </tr>\n",
       "    <tr>\n",
       "      <th>6010</th>\n",
       "      <td>56.0</td>\n",
       "      <td>1</td>\n",
       "      <td>3</td>\n",
       "      <td>19.271279</td>\n",
       "      <td>251.885698</td>\n",
       "      <td>1</td>\n",
       "      <td>1</td>\n",
       "      <td>122.576410</td>\n",
       "      <td>0</td>\n",
       "      <td>2</td>\n",
       "      <td>0</td>\n",
       "      <td>13</td>\n",
       "      <td>1</td>\n",
       "      <td>2</td>\n",
       "      <td>30.904932</td>\n",
       "      <td>39.87</td>\n",
       "      <td>1</td>\n",
       "    </tr>\n",
       "  </tbody>\n",
       "</table>\n",
       "<p>6011 rows × 17 columns</p>\n",
       "</div>"
      ],
      "text/plain": [
       "       Age  Gender  ISiF  Viva_Score  Written_Score  Nqi  Ndiq        LsDp  \\\n",
       "0     69.0       1     3    9.666853     253.355183    1     1  106.863599   \n",
       "1     51.0       0     1   22.591295     258.081171    2     1  101.987058   \n",
       "2     58.0       1     3   14.889823     249.338592    3     1  124.853700   \n",
       "3     54.0       1     2    9.948302     235.107669    2     1  106.856292   \n",
       "4     52.0       1     0   10.162708     249.338592    2     1  119.535345   \n",
       "...    ...     ...   ...         ...            ...  ...   ...         ...   \n",
       "6006  54.0       1     1   17.520195     235.844935    1     1  109.142645   \n",
       "6007  50.0       1     3   10.510617     254.349422    1     0  113.773706   \n",
       "6008  56.0       0     1    9.240526     249.338592    3     1  110.597039   \n",
       "6009  54.0       1     1   18.416980     239.790076    1     1  116.679187   \n",
       "6010  56.0       1     3   19.271279     251.885698    1     1  122.576410   \n",
       "\n",
       "      Education_Level  N_de  P_in  S_Fit  Interview_center  N_at       S_10  \\\n",
       "0                   0     1     1     13                 0     1  29.406406   \n",
       "1                   1     2     1     11                 0     1  40.146583   \n",
       "2                   1     3     0     10                 0     1  43.984982   \n",
       "3                   0     1     0     11                 1     4  51.321849   \n",
       "4                   0     1     1      9                 0     3  24.409154   \n",
       "...               ...   ...   ...    ...               ...   ...        ...   \n",
       "6006                0     1     0      9                 0     2  47.442668   \n",
       "6007                0     2     1      7                 1     4  45.709586   \n",
       "6008                0     2     1      6                 0     4  27.104480   \n",
       "6009                0     1     0     10                 0     4  29.933738   \n",
       "6010                0     2     0     13                 1     2  30.904932   \n",
       "\n",
       "       S_12  Selection  \n",
       "0     34.96          1  \n",
       "1     44.48          1  \n",
       "2     25.77          1  \n",
       "3     46.49          1  \n",
       "4     42.20          1  \n",
       "...     ...        ...  \n",
       "6006  15.95          1  \n",
       "6007  52.69          1  \n",
       "6008  23.37          1  \n",
       "6009  28.23          1  \n",
       "6010  39.87          1  \n",
       "\n",
       "[6011 rows x 17 columns]"
      ]
     },
     "execution_count": 178,
     "metadata": {},
     "output_type": "execute_result"
    }
   ],
   "source": [
    "df"
   ]
  },
  {
   "cell_type": "code",
   "execution_count": 179,
   "metadata": {},
   "outputs": [
    {
     "data": {
      "text/html": [
       "<div>\n",
       "<style scoped>\n",
       "    .dataframe tbody tr th:only-of-type {\n",
       "        vertical-align: middle;\n",
       "    }\n",
       "\n",
       "    .dataframe tbody tr th {\n",
       "        vertical-align: top;\n",
       "    }\n",
       "\n",
       "    .dataframe thead th {\n",
       "        text-align: right;\n",
       "    }\n",
       "</style>\n",
       "<table border=\"1\" class=\"dataframe\">\n",
       "  <thead>\n",
       "    <tr style=\"text-align: right;\">\n",
       "      <th></th>\n",
       "      <th>Age</th>\n",
       "      <th>Gender</th>\n",
       "      <th>ISiF</th>\n",
       "      <th>Viva_Score</th>\n",
       "      <th>Written_Score</th>\n",
       "      <th>Nqi</th>\n",
       "      <th>Ndiq</th>\n",
       "      <th>LsDp</th>\n",
       "      <th>Education_Level</th>\n",
       "      <th>N_de</th>\n",
       "      <th>P_in</th>\n",
       "      <th>S_Fit</th>\n",
       "      <th>Interview_center</th>\n",
       "      <th>N_at</th>\n",
       "      <th>S_10</th>\n",
       "      <th>S_12</th>\n",
       "      <th>Selection</th>\n",
       "    </tr>\n",
       "  </thead>\n",
       "  <tbody>\n",
       "    <tr>\n",
       "      <th>0</th>\n",
       "      <td>69.0</td>\n",
       "      <td>1</td>\n",
       "      <td>3</td>\n",
       "      <td>9.666853</td>\n",
       "      <td>253.355183</td>\n",
       "      <td>1</td>\n",
       "      <td>1</td>\n",
       "      <td>106.863599</td>\n",
       "      <td>0</td>\n",
       "      <td>1</td>\n",
       "      <td>1</td>\n",
       "      <td>13</td>\n",
       "      <td>0</td>\n",
       "      <td>1</td>\n",
       "      <td>29.406406</td>\n",
       "      <td>34.96</td>\n",
       "      <td>1</td>\n",
       "    </tr>\n",
       "    <tr>\n",
       "      <th>1</th>\n",
       "      <td>51.0</td>\n",
       "      <td>0</td>\n",
       "      <td>1</td>\n",
       "      <td>22.591295</td>\n",
       "      <td>258.081171</td>\n",
       "      <td>2</td>\n",
       "      <td>1</td>\n",
       "      <td>101.987058</td>\n",
       "      <td>1</td>\n",
       "      <td>2</td>\n",
       "      <td>1</td>\n",
       "      <td>11</td>\n",
       "      <td>0</td>\n",
       "      <td>1</td>\n",
       "      <td>40.146583</td>\n",
       "      <td>44.48</td>\n",
       "      <td>1</td>\n",
       "    </tr>\n",
       "    <tr>\n",
       "      <th>2</th>\n",
       "      <td>58.0</td>\n",
       "      <td>1</td>\n",
       "      <td>3</td>\n",
       "      <td>14.889823</td>\n",
       "      <td>249.338592</td>\n",
       "      <td>3</td>\n",
       "      <td>1</td>\n",
       "      <td>124.853700</td>\n",
       "      <td>1</td>\n",
       "      <td>3</td>\n",
       "      <td>0</td>\n",
       "      <td>10</td>\n",
       "      <td>0</td>\n",
       "      <td>1</td>\n",
       "      <td>43.984982</td>\n",
       "      <td>25.77</td>\n",
       "      <td>1</td>\n",
       "    </tr>\n",
       "    <tr>\n",
       "      <th>3</th>\n",
       "      <td>54.0</td>\n",
       "      <td>1</td>\n",
       "      <td>2</td>\n",
       "      <td>9.948302</td>\n",
       "      <td>235.107669</td>\n",
       "      <td>2</td>\n",
       "      <td>1</td>\n",
       "      <td>106.856292</td>\n",
       "      <td>0</td>\n",
       "      <td>1</td>\n",
       "      <td>0</td>\n",
       "      <td>11</td>\n",
       "      <td>1</td>\n",
       "      <td>4</td>\n",
       "      <td>51.321849</td>\n",
       "      <td>46.49</td>\n",
       "      <td>1</td>\n",
       "    </tr>\n",
       "    <tr>\n",
       "      <th>4</th>\n",
       "      <td>52.0</td>\n",
       "      <td>1</td>\n",
       "      <td>0</td>\n",
       "      <td>10.162708</td>\n",
       "      <td>249.338592</td>\n",
       "      <td>2</td>\n",
       "      <td>1</td>\n",
       "      <td>119.535345</td>\n",
       "      <td>0</td>\n",
       "      <td>1</td>\n",
       "      <td>1</td>\n",
       "      <td>9</td>\n",
       "      <td>0</td>\n",
       "      <td>3</td>\n",
       "      <td>24.409154</td>\n",
       "      <td>42.20</td>\n",
       "      <td>1</td>\n",
       "    </tr>\n",
       "    <tr>\n",
       "      <th>...</th>\n",
       "      <td>...</td>\n",
       "      <td>...</td>\n",
       "      <td>...</td>\n",
       "      <td>...</td>\n",
       "      <td>...</td>\n",
       "      <td>...</td>\n",
       "      <td>...</td>\n",
       "      <td>...</td>\n",
       "      <td>...</td>\n",
       "      <td>...</td>\n",
       "      <td>...</td>\n",
       "      <td>...</td>\n",
       "      <td>...</td>\n",
       "      <td>...</td>\n",
       "      <td>...</td>\n",
       "      <td>...</td>\n",
       "      <td>...</td>\n",
       "    </tr>\n",
       "    <tr>\n",
       "      <th>6006</th>\n",
       "      <td>54.0</td>\n",
       "      <td>1</td>\n",
       "      <td>1</td>\n",
       "      <td>17.520195</td>\n",
       "      <td>235.844935</td>\n",
       "      <td>1</td>\n",
       "      <td>1</td>\n",
       "      <td>109.142645</td>\n",
       "      <td>0</td>\n",
       "      <td>1</td>\n",
       "      <td>0</td>\n",
       "      <td>9</td>\n",
       "      <td>0</td>\n",
       "      <td>2</td>\n",
       "      <td>47.442668</td>\n",
       "      <td>15.95</td>\n",
       "      <td>1</td>\n",
       "    </tr>\n",
       "    <tr>\n",
       "      <th>6007</th>\n",
       "      <td>50.0</td>\n",
       "      <td>1</td>\n",
       "      <td>3</td>\n",
       "      <td>10.510617</td>\n",
       "      <td>254.349422</td>\n",
       "      <td>1</td>\n",
       "      <td>0</td>\n",
       "      <td>113.773706</td>\n",
       "      <td>0</td>\n",
       "      <td>2</td>\n",
       "      <td>1</td>\n",
       "      <td>7</td>\n",
       "      <td>1</td>\n",
       "      <td>4</td>\n",
       "      <td>45.709586</td>\n",
       "      <td>52.69</td>\n",
       "      <td>1</td>\n",
       "    </tr>\n",
       "    <tr>\n",
       "      <th>6008</th>\n",
       "      <td>56.0</td>\n",
       "      <td>0</td>\n",
       "      <td>1</td>\n",
       "      <td>9.240526</td>\n",
       "      <td>249.338592</td>\n",
       "      <td>3</td>\n",
       "      <td>1</td>\n",
       "      <td>110.597039</td>\n",
       "      <td>0</td>\n",
       "      <td>2</td>\n",
       "      <td>1</td>\n",
       "      <td>6</td>\n",
       "      <td>0</td>\n",
       "      <td>4</td>\n",
       "      <td>27.104480</td>\n",
       "      <td>23.37</td>\n",
       "      <td>1</td>\n",
       "    </tr>\n",
       "    <tr>\n",
       "      <th>6009</th>\n",
       "      <td>54.0</td>\n",
       "      <td>1</td>\n",
       "      <td>1</td>\n",
       "      <td>18.416980</td>\n",
       "      <td>239.790076</td>\n",
       "      <td>1</td>\n",
       "      <td>1</td>\n",
       "      <td>116.679187</td>\n",
       "      <td>0</td>\n",
       "      <td>1</td>\n",
       "      <td>0</td>\n",
       "      <td>10</td>\n",
       "      <td>0</td>\n",
       "      <td>4</td>\n",
       "      <td>29.933738</td>\n",
       "      <td>28.23</td>\n",
       "      <td>1</td>\n",
       "    </tr>\n",
       "    <tr>\n",
       "      <th>6010</th>\n",
       "      <td>56.0</td>\n",
       "      <td>1</td>\n",
       "      <td>3</td>\n",
       "      <td>19.271279</td>\n",
       "      <td>251.885698</td>\n",
       "      <td>1</td>\n",
       "      <td>1</td>\n",
       "      <td>122.576410</td>\n",
       "      <td>0</td>\n",
       "      <td>2</td>\n",
       "      <td>0</td>\n",
       "      <td>13</td>\n",
       "      <td>1</td>\n",
       "      <td>2</td>\n",
       "      <td>30.904932</td>\n",
       "      <td>39.87</td>\n",
       "      <td>1</td>\n",
       "    </tr>\n",
       "  </tbody>\n",
       "</table>\n",
       "<p>6011 rows × 17 columns</p>\n",
       "</div>"
      ],
      "text/plain": [
       "       Age  Gender  ISiF  Viva_Score  Written_Score  Nqi  Ndiq        LsDp  \\\n",
       "0     69.0       1     3    9.666853     253.355183    1     1  106.863599   \n",
       "1     51.0       0     1   22.591295     258.081171    2     1  101.987058   \n",
       "2     58.0       1     3   14.889823     249.338592    3     1  124.853700   \n",
       "3     54.0       1     2    9.948302     235.107669    2     1  106.856292   \n",
       "4     52.0       1     0   10.162708     249.338592    2     1  119.535345   \n",
       "...    ...     ...   ...         ...            ...  ...   ...         ...   \n",
       "6006  54.0       1     1   17.520195     235.844935    1     1  109.142645   \n",
       "6007  50.0       1     3   10.510617     254.349422    1     0  113.773706   \n",
       "6008  56.0       0     1    9.240526     249.338592    3     1  110.597039   \n",
       "6009  54.0       1     1   18.416980     239.790076    1     1  116.679187   \n",
       "6010  56.0       1     3   19.271279     251.885698    1     1  122.576410   \n",
       "\n",
       "      Education_Level  N_de  P_in  S_Fit  Interview_center  N_at       S_10  \\\n",
       "0                   0     1     1     13                 0     1  29.406406   \n",
       "1                   1     2     1     11                 0     1  40.146583   \n",
       "2                   1     3     0     10                 0     1  43.984982   \n",
       "3                   0     1     0     11                 1     4  51.321849   \n",
       "4                   0     1     1      9                 0     3  24.409154   \n",
       "...               ...   ...   ...    ...               ...   ...        ...   \n",
       "6006                0     1     0      9                 0     2  47.442668   \n",
       "6007                0     2     1      7                 1     4  45.709586   \n",
       "6008                0     2     1      6                 0     4  27.104480   \n",
       "6009                0     1     0     10                 0     4  29.933738   \n",
       "6010                0     2     0     13                 1     2  30.904932   \n",
       "\n",
       "       S_12  Selection  \n",
       "0     34.96          1  \n",
       "1     44.48          1  \n",
       "2     25.77          1  \n",
       "3     46.49          1  \n",
       "4     42.20          1  \n",
       "...     ...        ...  \n",
       "6006  15.95          1  \n",
       "6007  52.69          1  \n",
       "6008  23.37          1  \n",
       "6009  28.23          1  \n",
       "6010  39.87          1  \n",
       "\n",
       "[6011 rows x 17 columns]"
      ]
     },
     "execution_count": 179,
     "metadata": {},
     "output_type": "execute_result"
    }
   ],
   "source": [
    "df.select_dtypes(include=np.number)"
   ]
  },
  {
   "cell_type": "markdown",
   "metadata": {},
   "source": [
    "**HYPOTHESIS TEST**\n",
    "\n",
    "* h0 : both train and test representative of the overall data\n",
    "* h1 : both train and test not representative of the overall data"
   ]
  },
  {
   "cell_type": "code",
   "execution_count": 206,
   "metadata": {},
   "outputs": [],
   "source": [
    "x = df.drop(\"Selection\",axis=1)\n",
    "y = df[\"Selection\"]"
   ]
  },
  {
   "cell_type": "code",
   "execution_count": 207,
   "metadata": {},
   "outputs": [],
   "source": [
    "xtrain,xtest,ytrain,ytest = train_test_split(x,y,test_size=0.3,random_state=1)"
   ]
  },
  {
   "cell_type": "code",
   "execution_count": 208,
   "metadata": {},
   "outputs": [
    {
     "name": "stdout",
     "output_type": "stream",
     "text": [
      "(4207, 16) (1804, 16) (4207,) (1804,)\n"
     ]
    }
   ],
   "source": [
    "print(xtrain.shape,xtest.shape,ytrain.shape,ytest.shape)"
   ]
  },
  {
   "cell_type": "code",
   "execution_count": 209,
   "metadata": {},
   "outputs": [
    {
     "name": "stdout",
     "output_type": "stream",
     "text": [
      "Ttest_indResult(statistic=array([-0.94869716, -0.58246283,  0.83885041,  0.20582307,  1.17413958,\n",
      "        1.36491734,  0.26754176, -2.01750298, -0.65554557, -0.79928361,\n",
      "        0.56927023,  1.65932626,  1.58273385, -1.45170663,  0.3035553 ,\n",
      "        1.08676806]), pvalue=array([0.34281281, 0.56027682, 0.40158663, 0.83693609, 0.24038565,\n",
      "       0.17233013, 0.78906125, 0.04368742, 0.51214165, 0.42415757,\n",
      "       0.56919405, 0.09710225, 0.11353477, 0.1466354 , 0.76147722,\n",
      "       0.27718292]))\n",
      "\n",
      "====================================================================================================\n",
      "\n",
      "Ttest_indResult(statistic=-0.18805188114661822, pvalue=0.8508423311222074)\n"
     ]
    }
   ],
   "source": [
    "print(stats.ttest_ind(xtrain,xtest))\n",
    "print()\n",
    "print(\"=\"*100)\n",
    "print()\n",
    "print(stats.ttest_ind(ytrain,ytest))"
   ]
  },
  {
   "cell_type": "markdown",
   "metadata": {},
   "source": [
    "* from both the test all the variables has pvalue greater than the significance level \n",
    "* so we accept the null hypothesis\n",
    "* both train and test representative of the overall data"
   ]
  },
  {
   "cell_type": "markdown",
   "metadata": {
    "id": "grc_AesJ8k5B"
   },
   "source": [
    "#### 3.\tModel Building (25 marks)\n",
    "\n",
    "a.\tFit a base model and explain the reason of selecting that model. Please write your key observations. (6 marks)\n",
    "\n",
    "b.\tWhat is the overall Accuracy? Please comment on whether it is good or not.  (4 mark)\n",
    "\n",
    "c.\tEvaluate the model built using Precision, Recall and F1 Score and what will be the optimization objective keeping in mind the problem statement. (4 marks) \n",
    "\n",
    "d.\tHow do you improve the accuracy of the model? Write clearly the changes that you will make before re-fitting the model. Fit the final model.  (7 marks)\n",
    "\n",
    "e.\tWrite down a business interpretation/explanation of the model – which variables are affecting the target the most and explain the relationship. Feel free to use charts or graphs to explain. (4 marks)\n"
   ]
  },
  {
   "cell_type": "code",
   "execution_count": 228,
   "metadata": {},
   "outputs": [],
   "source": [
    "x = df.drop(\"Selection\",axis=1)\n",
    "y = df[\"Selection\"]"
   ]
  },
  {
   "cell_type": "code",
   "execution_count": 229,
   "metadata": {},
   "outputs": [],
   "source": [
    "ss = StandardScaler()\n",
    "\n",
    "scaled_df = ss.fit_transform(x)"
   ]
  },
  {
   "cell_type": "code",
   "execution_count": 230,
   "metadata": {},
   "outputs": [],
   "source": [
    "scaled_df = pd.DataFrame(scaled_df,columns=df.columns[:-1])"
   ]
  },
  {
   "cell_type": "code",
   "execution_count": 241,
   "metadata": {},
   "outputs": [],
   "source": [
    "df_final = pd.concat((scaled_df,y),axis=1)"
   ]
  },
  {
   "cell_type": "code",
   "execution_count": 243,
   "metadata": {},
   "outputs": [],
   "source": [
    "x  = df_final.drop(\"Selection\",axis=1)\n",
    "y = df_final[\"Selection\"]"
   ]
  },
  {
   "cell_type": "code",
   "execution_count": 244,
   "metadata": {},
   "outputs": [],
   "source": [
    "xtrain,xtest,ytrain,ytest = train_test_split(x,y,test_size=0.3,random_state=1)"
   ]
  },
  {
   "cell_type": "code",
   "execution_count": 249,
   "metadata": {},
   "outputs": [
    {
     "name": "stdout",
     "output_type": "stream",
     "text": [
      "(4207, 16) (1804, 16) (4207,) (1804,)\n"
     ]
    }
   ],
   "source": [
    "print(xtrain.shape,xtest.shape,ytrain.shape,ytest.shape)"
   ]
  },
  {
   "cell_type": "markdown",
   "metadata": {
    "id": "CEMtogt_8k5C"
   },
   "source": [
    "##### a.\tFit a base model and explain the reason of selecting that model. Please write your key observations. (6 marks)"
   ]
  },
  {
   "cell_type": "markdown",
   "metadata": {},
   "source": [
    "* Here i have chosen the statiscal logit model as my base model, so that i can get more inference from it"
   ]
  },
  {
   "cell_type": "code",
   "execution_count": 245,
   "metadata": {},
   "outputs": [],
   "source": [
    "xtrain_con = sma.add_constant(xtrain)\n",
    "xtest_con = sma.add_constant(xtest)"
   ]
  },
  {
   "cell_type": "code",
   "execution_count": 246,
   "metadata": {},
   "outputs": [
    {
     "name": "stdout",
     "output_type": "stream",
     "text": [
      "Optimization terminated successfully.\n",
      "         Current function value: 0.140927\n",
      "         Iterations 6\n"
     ]
    }
   ],
   "source": [
    "base_model = sma.Logit(ytrain,xtrain_con).fit()"
   ]
  },
  {
   "cell_type": "code",
   "execution_count": 247,
   "metadata": {
    "scrolled": false
   },
   "outputs": [
    {
     "name": "stderr",
     "output_type": "stream",
     "text": [
      "/home/gl_jupyter/anaconda3/lib/python3.7/site-packages/statsmodels/base/model.py:593: HessianInversionWarning: Inverting hessian failed, no bse or cov_params available\n",
      "  'available', HessianInversionWarning)\n",
      "/home/gl_jupyter/anaconda3/lib/python3.7/site-packages/statsmodels/base/model.py:593: HessianInversionWarning: Inverting hessian failed, no bse or cov_params available\n",
      "  'available', HessianInversionWarning)\n"
     ]
    },
    {
     "data": {
      "text/html": [
       "<table class=\"simpletable\">\n",
       "<caption>Logit Regression Results</caption>\n",
       "<tr>\n",
       "  <th>Dep. Variable:</th>       <td>Selection</td>    <th>  No. Observations:  </th>  <td>  4207</td> \n",
       "</tr>\n",
       "<tr>\n",
       "  <th>Model:</th>                 <td>Logit</td>      <th>  Df Residuals:      </th>  <td>  4190</td> \n",
       "</tr>\n",
       "<tr>\n",
       "  <th>Method:</th>                 <td>MLE</td>       <th>  Df Model:          </th>  <td>    16</td> \n",
       "</tr>\n",
       "<tr>\n",
       "  <th>Date:</th>            <td>Sat, 16 Dec 2023</td> <th>  Pseudo R-squ.:     </th>  <td>   inf</td> \n",
       "</tr>\n",
       "<tr>\n",
       "  <th>Time:</th>                <td>05:11:19</td>     <th>  Log-Likelihood:    </th> <td> -592.88</td>\n",
       "</tr>\n",
       "<tr>\n",
       "  <th>converged:</th>             <td>True</td>       <th>  LL-Null:           </th> <td>  0.0000</td>\n",
       "</tr>\n",
       "<tr>\n",
       "  <th>Covariance Type:</th>     <td>nonrobust</td>    <th>  LLR p-value:       </th>  <td> 1.000</td> \n",
       "</tr>\n",
       "</table>\n",
       "<table class=\"simpletable\">\n",
       "<tr>\n",
       "          <td></td>            <th>coef</th>     <th>std err</th>      <th>z</th>      <th>P>|z|</th>  <th>[0.025</th>    <th>0.975]</th>  \n",
       "</tr>\n",
       "<tr>\n",
       "  <th>const</th>            <td>    1.7212</td> <td>    0.043</td> <td>   39.711</td> <td> 0.000</td> <td>    1.636</td> <td>    1.806</td>\n",
       "</tr>\n",
       "<tr>\n",
       "  <th>Age</th>              <td>   -0.0520</td> <td>    0.043</td> <td>   -1.197</td> <td> 0.231</td> <td>   -0.137</td> <td>    0.033</td>\n",
       "</tr>\n",
       "<tr>\n",
       "  <th>Gender</th>           <td>    0.0810</td> <td>    0.042</td> <td>    1.932</td> <td> 0.053</td> <td>   -0.001</td> <td>    0.163</td>\n",
       "</tr>\n",
       "<tr>\n",
       "  <th>ISiF</th>             <td>   -0.0167</td> <td>    0.043</td> <td>   -0.389</td> <td> 0.697</td> <td>   -0.101</td> <td>    0.068</td>\n",
       "</tr>\n",
       "<tr>\n",
       "  <th>Viva_Score</th>       <td>   -0.0051</td> <td>    0.043</td> <td>   -0.119</td> <td> 0.906</td> <td>   -0.089</td> <td>    0.079</td>\n",
       "</tr>\n",
       "<tr>\n",
       "  <th>Written_Score</th>    <td>   -0.0637</td> <td>    0.043</td> <td>   -1.468</td> <td> 0.142</td> <td>   -0.149</td> <td>    0.021</td>\n",
       "</tr>\n",
       "<tr>\n",
       "  <th>Nqi</th>              <td>   -0.0779</td> <td>    0.045</td> <td>   -1.722</td> <td> 0.085</td> <td>   -0.167</td> <td>    0.011</td>\n",
       "</tr>\n",
       "<tr>\n",
       "  <th>Ndiq</th>             <td>    0.0506</td> <td>    0.044</td> <td>    1.147</td> <td> 0.251</td> <td>   -0.036</td> <td>    0.137</td>\n",
       "</tr>\n",
       "<tr>\n",
       "  <th>LsDp</th>             <td>    0.0433</td> <td>    0.043</td> <td>    0.996</td> <td> 0.319</td> <td>   -0.042</td> <td>    0.128</td>\n",
       "</tr>\n",
       "<tr>\n",
       "  <th>Education_Level</th>  <td>    0.0073</td> <td>    0.043</td> <td>    0.169</td> <td> 0.866</td> <td>   -0.078</td> <td>    0.092</td>\n",
       "</tr>\n",
       "<tr>\n",
       "  <th>N_de</th>             <td>    0.0387</td> <td>    0.043</td> <td>    0.891</td> <td> 0.373</td> <td>   -0.046</td> <td>    0.124</td>\n",
       "</tr>\n",
       "<tr>\n",
       "  <th>P_in</th>             <td>    0.0580</td> <td>    0.045</td> <td>    1.289</td> <td> 0.198</td> <td>   -0.030</td> <td>    0.146</td>\n",
       "</tr>\n",
       "<tr>\n",
       "  <th>S_Fit</th>            <td>    0.0062</td> <td>    0.043</td> <td>    0.145</td> <td> 0.885</td> <td>   -0.078</td> <td>    0.090</td>\n",
       "</tr>\n",
       "<tr>\n",
       "  <th>Interview_center</th> <td>    0.0117</td> <td>    0.043</td> <td>    0.273</td> <td> 0.785</td> <td>   -0.072</td> <td>    0.096</td>\n",
       "</tr>\n",
       "<tr>\n",
       "  <th>N_at</th>             <td>    0.0790</td> <td>    0.043</td> <td>    1.835</td> <td> 0.067</td> <td>   -0.005</td> <td>    0.163</td>\n",
       "</tr>\n",
       "<tr>\n",
       "  <th>S_10</th>             <td>   -0.0639</td> <td>    0.043</td> <td>   -1.483</td> <td> 0.138</td> <td>   -0.148</td> <td>    0.021</td>\n",
       "</tr>\n",
       "<tr>\n",
       "  <th>S_12</th>             <td>    0.0352</td> <td>    0.043</td> <td>    0.820</td> <td> 0.412</td> <td>   -0.049</td> <td>    0.119</td>\n",
       "</tr>\n",
       "</table>"
      ],
      "text/plain": [
       "<class 'statsmodels.iolib.summary.Summary'>\n",
       "\"\"\"\n",
       "                           Logit Regression Results                           \n",
       "==============================================================================\n",
       "Dep. Variable:              Selection   No. Observations:                 4207\n",
       "Model:                          Logit   Df Residuals:                     4190\n",
       "Method:                           MLE   Df Model:                           16\n",
       "Date:                Sat, 16 Dec 2023   Pseudo R-squ.:                     inf\n",
       "Time:                        05:11:19   Log-Likelihood:                -592.88\n",
       "converged:                       True   LL-Null:                        0.0000\n",
       "Covariance Type:            nonrobust   LLR p-value:                     1.000\n",
       "====================================================================================\n",
       "                       coef    std err          z      P>|z|      [0.025      0.975]\n",
       "------------------------------------------------------------------------------------\n",
       "const                1.7212      0.043     39.711      0.000       1.636       1.806\n",
       "Age                 -0.0520      0.043     -1.197      0.231      -0.137       0.033\n",
       "Gender               0.0810      0.042      1.932      0.053      -0.001       0.163\n",
       "ISiF                -0.0167      0.043     -0.389      0.697      -0.101       0.068\n",
       "Viva_Score          -0.0051      0.043     -0.119      0.906      -0.089       0.079\n",
       "Written_Score       -0.0637      0.043     -1.468      0.142      -0.149       0.021\n",
       "Nqi                 -0.0779      0.045     -1.722      0.085      -0.167       0.011\n",
       "Ndiq                 0.0506      0.044      1.147      0.251      -0.036       0.137\n",
       "LsDp                 0.0433      0.043      0.996      0.319      -0.042       0.128\n",
       "Education_Level      0.0073      0.043      0.169      0.866      -0.078       0.092\n",
       "N_de                 0.0387      0.043      0.891      0.373      -0.046       0.124\n",
       "P_in                 0.0580      0.045      1.289      0.198      -0.030       0.146\n",
       "S_Fit                0.0062      0.043      0.145      0.885      -0.078       0.090\n",
       "Interview_center     0.0117      0.043      0.273      0.785      -0.072       0.096\n",
       "N_at                 0.0790      0.043      1.835      0.067      -0.005       0.163\n",
       "S_10                -0.0639      0.043     -1.483      0.138      -0.148       0.021\n",
       "S_12                 0.0352      0.043      0.820      0.412      -0.049       0.119\n",
       "====================================================================================\n",
       "\"\"\""
      ]
     },
     "execution_count": 247,
     "metadata": {},
     "output_type": "execute_result"
    }
   ],
   "source": [
    "base_model.summary()"
   ]
  },
  {
   "cell_type": "markdown",
   "metadata": {},
   "source": [
    "* from this statistical model i can infer that it gives less weightage on the target variable\n",
    "* p value shows the insignificant and significant variables"
   ]
  },
  {
   "cell_type": "markdown",
   "metadata": {
    "id": "8eMIRQqj8k5D"
   },
   "source": [
    "##### b.\tWhat is the overall Accuracy? Please comment on whether it is good or not.  (4 mark)"
   ]
  },
  {
   "cell_type": "code",
   "execution_count": 278,
   "metadata": {},
   "outputs": [],
   "source": [
    "lr = LogisticRegression()\n",
    "lr.fit(xtrain,ytrain)\n",
    "ypred = lr.predict(xtest)\n"
   ]
  },
  {
   "cell_type": "code",
   "execution_count": 279,
   "metadata": {},
   "outputs": [
    {
     "data": {
      "text/html": [
       "<div>\n",
       "<style scoped>\n",
       "    .dataframe tbody tr th:only-of-type {\n",
       "        vertical-align: middle;\n",
       "    }\n",
       "\n",
       "    .dataframe tbody tr th {\n",
       "        vertical-align: top;\n",
       "    }\n",
       "\n",
       "    .dataframe thead th {\n",
       "        text-align: right;\n",
       "    }\n",
       "</style>\n",
       "<table border=\"1\" class=\"dataframe\">\n",
       "  <thead>\n",
       "    <tr style=\"text-align: right;\">\n",
       "      <th></th>\n",
       "      <th>accuracy</th>\n",
       "      <th>recall</th>\n",
       "      <th>precision</th>\n",
       "      <th>f1score</th>\n",
       "    </tr>\n",
       "  </thead>\n",
       "  <tbody>\n",
       "    <tr>\n",
       "      <th>LogisticRegression</th>\n",
       "      <td>0.848115</td>\n",
       "      <td>1.0</td>\n",
       "      <td>0.848115</td>\n",
       "      <td>0.917816</td>\n",
       "    </tr>\n",
       "  </tbody>\n",
       "</table>\n",
       "</div>"
      ],
      "text/plain": [
       "                    accuracy  recall  precision   f1score\n",
       "LogisticRegression  0.848115     1.0   0.848115  0.917816"
      ]
     },
     "execution_count": 279,
     "metadata": {},
     "output_type": "execute_result"
    }
   ],
   "source": [
    "model_report = pd.DataFrame(index = [\"accuracy\",\"recall\",\"precision\",\"f1score\"])\n",
    "\n",
    "logreg = [accuracy_score(ytest,ypred),recall_score(ytest,ypred),precision_score(ytest,ypred),f1_score(ytest,ypred)]\n",
    "model_report[\"LogisticRegression\"] = logreg\n",
    "model_report.T"
   ]
  },
  {
   "cell_type": "code",
   "execution_count": 272,
   "metadata": {},
   "outputs": [],
   "source": [
    "fpr,tpr,threshold = roc_curve(ytest,ypred)"
   ]
  },
  {
   "cell_type": "code",
   "execution_count": 274,
   "metadata": {},
   "outputs": [
    {
     "data": {
      "text/plain": [
       "0.5"
      ]
     },
     "execution_count": 274,
     "metadata": {},
     "output_type": "execute_result"
    }
   ],
   "source": [
    "roc_auc_score(ytest,ypred)"
   ]
  },
  {
   "cell_type": "markdown",
   "metadata": {},
   "source": [
    "* the accuracy of the model is good it predicts 84%"
   ]
  },
  {
   "cell_type": "markdown",
   "metadata": {
    "id": "TsfYbECL8k5D"
   },
   "source": [
    "##### c.\tEvaluate the model built using Precision, Recall and F1 Score and what will be the optimization objective keeping in mind the problem statement. (4 marks) "
   ]
  },
  {
   "cell_type": "markdown",
   "metadata": {},
   "source": [
    "* precision where we have to check on the false positive depending on the problem statement by reducing the false positive we can improve the precision score \n",
    "* recall where we have to check on the false negative depending on the problem statement by reducing the false negative we can improve the recall score\n",
    "* f1 score is the harmonic mean of precision and recall. it has to be focused when the data is imbalanced and if the problem statement is focused on both precision and recall."
   ]
  },
  {
   "cell_type": "code",
   "execution_count": 280,
   "metadata": {},
   "outputs": [
    {
     "data": {
      "text/html": [
       "<div>\n",
       "<style scoped>\n",
       "    .dataframe tbody tr th:only-of-type {\n",
       "        vertical-align: middle;\n",
       "    }\n",
       "\n",
       "    .dataframe tbody tr th {\n",
       "        vertical-align: top;\n",
       "    }\n",
       "\n",
       "    .dataframe thead th {\n",
       "        text-align: right;\n",
       "    }\n",
       "</style>\n",
       "<table border=\"1\" class=\"dataframe\">\n",
       "  <thead>\n",
       "    <tr style=\"text-align: right;\">\n",
       "      <th></th>\n",
       "      <th>accuracy</th>\n",
       "      <th>recall</th>\n",
       "      <th>precision</th>\n",
       "      <th>f1score</th>\n",
       "    </tr>\n",
       "  </thead>\n",
       "  <tbody>\n",
       "    <tr>\n",
       "      <th>LogisticRegression</th>\n",
       "      <td>0.848115</td>\n",
       "      <td>1.0</td>\n",
       "      <td>0.848115</td>\n",
       "      <td>0.917816</td>\n",
       "    </tr>\n",
       "  </tbody>\n",
       "</table>\n",
       "</div>"
      ],
      "text/plain": [
       "                    accuracy  recall  precision   f1score\n",
       "LogisticRegression  0.848115     1.0   0.848115  0.917816"
      ]
     },
     "execution_count": 280,
     "metadata": {},
     "output_type": "execute_result"
    }
   ],
   "source": [
    "model_report.T"
   ]
  },
  {
   "cell_type": "markdown",
   "metadata": {},
   "source": [
    "* in the base model i have got precision 0.84 so we have to focus on the false positive to reduce it \n",
    "* our problem statment is to check the rejection\n",
    "* rejected is predicated as accepted that is the major problem here so we have to reduce the false positive to improve the preciison\n"
   ]
  },
  {
   "cell_type": "markdown",
   "metadata": {
    "id": "7mOqTUc-8k5F"
   },
   "source": [
    "##### d.\tHow do you improve the accuracy of the model? Write clearly the changes that you will make before re-fitting the model. Fit the final model.  (7 marks)"
   ]
  },
  {
   "cell_type": "code",
   "execution_count": 281,
   "metadata": {},
   "outputs": [
    {
     "data": {
      "text/html": [
       "<div>\n",
       "<style scoped>\n",
       "    .dataframe tbody tr th:only-of-type {\n",
       "        vertical-align: middle;\n",
       "    }\n",
       "\n",
       "    .dataframe tbody tr th {\n",
       "        vertical-align: top;\n",
       "    }\n",
       "\n",
       "    .dataframe thead th {\n",
       "        text-align: right;\n",
       "    }\n",
       "</style>\n",
       "<table border=\"1\" class=\"dataframe\">\n",
       "  <thead>\n",
       "    <tr style=\"text-align: right;\">\n",
       "      <th></th>\n",
       "      <th>accuracy</th>\n",
       "      <th>recall</th>\n",
       "      <th>precision</th>\n",
       "      <th>f1score</th>\n",
       "    </tr>\n",
       "  </thead>\n",
       "  <tbody>\n",
       "    <tr>\n",
       "      <th>DecisionTreeClassification</th>\n",
       "      <td>0.705654</td>\n",
       "      <td>0.797386</td>\n",
       "      <td>0.846634</td>\n",
       "      <td>0.821272</td>\n",
       "    </tr>\n",
       "  </tbody>\n",
       "</table>\n",
       "</div>"
      ],
      "text/plain": [
       "                            accuracy    recall  precision   f1score\n",
       "DecisionTreeClassification  0.705654  0.797386   0.846634  0.821272"
      ]
     },
     "execution_count": 281,
     "metadata": {},
     "output_type": "execute_result"
    }
   ],
   "source": [
    "dt = DecisionTreeClassifier()\n",
    "dt.fit(xtrain,ytrain)\n",
    "ypred = dt.predict(xtest)\n",
    "\n",
    "\n",
    "model_report = pd.DataFrame(index = [\"accuracy\",\"recall\",\"precision\",\"f1score\"])\n",
    "\n",
    "dtree = [accuracy_score(ytest,ypred),recall_score(ytest,ypred),precision_score(ytest,ypred),f1_score(ytest,ypred)]\n",
    "model_report[\"DecisionTreeClassification\"] = dtree\n",
    "model_report.T"
   ]
  },
  {
   "cell_type": "code",
   "execution_count": 290,
   "metadata": {},
   "outputs": [
    {
     "data": {
      "text/html": [
       "<div>\n",
       "<style scoped>\n",
       "    .dataframe tbody tr th:only-of-type {\n",
       "        vertical-align: middle;\n",
       "    }\n",
       "\n",
       "    .dataframe tbody tr th {\n",
       "        vertical-align: top;\n",
       "    }\n",
       "\n",
       "    .dataframe thead th {\n",
       "        text-align: right;\n",
       "    }\n",
       "</style>\n",
       "<table border=\"1\" class=\"dataframe\">\n",
       "  <thead>\n",
       "    <tr style=\"text-align: right;\">\n",
       "      <th></th>\n",
       "      <th>accuracy</th>\n",
       "      <th>recall</th>\n",
       "      <th>precision</th>\n",
       "      <th>f1score</th>\n",
       "    </tr>\n",
       "  </thead>\n",
       "  <tbody>\n",
       "    <tr>\n",
       "      <th>RandomForestClassifier</th>\n",
       "      <td>0.848115</td>\n",
       "      <td>1.0</td>\n",
       "      <td>0.848115</td>\n",
       "      <td>0.917816</td>\n",
       "    </tr>\n",
       "  </tbody>\n",
       "</table>\n",
       "</div>"
      ],
      "text/plain": [
       "                        accuracy  recall  precision   f1score\n",
       "RandomForestClassifier  0.848115     1.0   0.848115  0.917816"
      ]
     },
     "execution_count": 290,
     "metadata": {},
     "output_type": "execute_result"
    }
   ],
   "source": [
    "rfc = RandomForestClassifier()\n",
    "rfc.fit(xtrain,ytrain)\n",
    "ypred = rfc.predict(xtest)\n",
    "\n",
    "\n",
    "model_report = pd.DataFrame(index = [\"accuracy\",\"recall\",\"precision\",\"f1score\"])\n",
    "\n",
    "rfc = [accuracy_score(ytest,ypred),recall_score(ytest,ypred),precision_score(ytest,ypred),f1_score(ytest,ypred)]\n",
    "model_report[\"RandomForestClassifier\"] = rfc\n",
    "model_report.T"
   ]
  },
  {
   "cell_type": "code",
   "execution_count": 282,
   "metadata": {},
   "outputs": [
    {
     "data": {
      "text/html": [
       "<div>\n",
       "<style scoped>\n",
       "    .dataframe tbody tr th:only-of-type {\n",
       "        vertical-align: middle;\n",
       "    }\n",
       "\n",
       "    .dataframe tbody tr th {\n",
       "        vertical-align: top;\n",
       "    }\n",
       "\n",
       "    .dataframe thead th {\n",
       "        text-align: right;\n",
       "    }\n",
       "</style>\n",
       "<table border=\"1\" class=\"dataframe\">\n",
       "  <thead>\n",
       "    <tr style=\"text-align: right;\">\n",
       "      <th></th>\n",
       "      <th>accuracy</th>\n",
       "      <th>recall</th>\n",
       "      <th>precision</th>\n",
       "      <th>f1score</th>\n",
       "    </tr>\n",
       "  </thead>\n",
       "  <tbody>\n",
       "    <tr>\n",
       "      <th>AdaBoostClassifier</th>\n",
       "      <td>0.846452</td>\n",
       "      <td>0.997386</td>\n",
       "      <td>0.848249</td>\n",
       "      <td>0.916792</td>\n",
       "    </tr>\n",
       "  </tbody>\n",
       "</table>\n",
       "</div>"
      ],
      "text/plain": [
       "                    accuracy    recall  precision   f1score\n",
       "AdaBoostClassifier  0.846452  0.997386   0.848249  0.916792"
      ]
     },
     "execution_count": 282,
     "metadata": {},
     "output_type": "execute_result"
    }
   ],
   "source": [
    "abc = AdaBoostClassifier()\n",
    "abc.fit(xtrain,ytrain)\n",
    "ypred = abc.predict(xtest)\n",
    "\n",
    "\n",
    "model_report = pd.DataFrame(index = [\"accuracy\",\"recall\",\"precision\",\"f1score\"])\n",
    "\n",
    "abc = [accuracy_score(ytest,ypred),recall_score(ytest,ypred),precision_score(ytest,ypred),f1_score(ytest,ypred)]\n",
    "model_report[\"AdaBoostClassifier\"] = abc\n",
    "model_report.T"
   ]
  },
  {
   "cell_type": "code",
   "execution_count": 284,
   "metadata": {},
   "outputs": [
    {
     "data": {
      "text/html": [
       "<div>\n",
       "<style scoped>\n",
       "    .dataframe tbody tr th:only-of-type {\n",
       "        vertical-align: middle;\n",
       "    }\n",
       "\n",
       "    .dataframe tbody tr th {\n",
       "        vertical-align: top;\n",
       "    }\n",
       "\n",
       "    .dataframe thead th {\n",
       "        text-align: right;\n",
       "    }\n",
       "</style>\n",
       "<table border=\"1\" class=\"dataframe\">\n",
       "  <thead>\n",
       "    <tr style=\"text-align: right;\">\n",
       "      <th></th>\n",
       "      <th>accuracy</th>\n",
       "      <th>recall</th>\n",
       "      <th>precision</th>\n",
       "      <th>f1score</th>\n",
       "    </tr>\n",
       "  </thead>\n",
       "  <tbody>\n",
       "    <tr>\n",
       "      <th>GradientBoostingClassifier</th>\n",
       "      <td>0.847007</td>\n",
       "      <td>0.998039</td>\n",
       "      <td>0.848333</td>\n",
       "      <td>0.917117</td>\n",
       "    </tr>\n",
       "  </tbody>\n",
       "</table>\n",
       "</div>"
      ],
      "text/plain": [
       "                            accuracy    recall  precision   f1score\n",
       "GradientBoostingClassifier  0.847007  0.998039   0.848333  0.917117"
      ]
     },
     "execution_count": 284,
     "metadata": {},
     "output_type": "execute_result"
    }
   ],
   "source": [
    "gbc = GradientBoostingClassifier()\n",
    "gbc.fit(xtrain,ytrain)\n",
    "ypred = gbc.predict(xtest)\n",
    "\n",
    "\n",
    "model_report = pd.DataFrame(index = [\"accuracy\",\"recall\",\"precision\",\"f1score\"])\n",
    "\n",
    "gbc = [accuracy_score(ytest,ypred),recall_score(ytest,ypred),precision_score(ytest,ypred),f1_score(ytest,ypred)]\n",
    "model_report[\"GradientBoostingClassifier\"] = gbc\n",
    "model_report.T"
   ]
  },
  {
   "cell_type": "code",
   "execution_count": 289,
   "metadata": {},
   "outputs": [
    {
     "data": {
      "text/html": [
       "<div>\n",
       "<style scoped>\n",
       "    .dataframe tbody tr th:only-of-type {\n",
       "        vertical-align: middle;\n",
       "    }\n",
       "\n",
       "    .dataframe tbody tr th {\n",
       "        vertical-align: top;\n",
       "    }\n",
       "\n",
       "    .dataframe thead th {\n",
       "        text-align: right;\n",
       "    }\n",
       "</style>\n",
       "<table border=\"1\" class=\"dataframe\">\n",
       "  <thead>\n",
       "    <tr style=\"text-align: right;\">\n",
       "      <th></th>\n",
       "      <th>accuracy</th>\n",
       "      <th>recall</th>\n",
       "      <th>precision</th>\n",
       "      <th>f1score</th>\n",
       "    </tr>\n",
       "  </thead>\n",
       "  <tbody>\n",
       "    <tr>\n",
       "      <th>XGBClassifier</th>\n",
       "      <td>0.848115</td>\n",
       "      <td>1.0</td>\n",
       "      <td>0.848115</td>\n",
       "      <td>0.917816</td>\n",
       "    </tr>\n",
       "  </tbody>\n",
       "</table>\n",
       "</div>"
      ],
      "text/plain": [
       "               accuracy  recall  precision   f1score\n",
       "XGBClassifier  0.848115     1.0   0.848115  0.917816"
      ]
     },
     "execution_count": 289,
     "metadata": {},
     "output_type": "execute_result"
    }
   ],
   "source": [
    "Xgbc = XGBClassifier()\n",
    "Xgbc.fit(xtrain,ytrain)\n",
    "ypred = Xgbc.predict(xtest)\n",
    "\n",
    "\n",
    "model_report = pd.DataFrame(index = [\"accuracy\",\"recall\",\"precision\",\"f1score\"])\n",
    "\n",
    "Xgbc = [accuracy_score(ytest,ypred),recall_score(ytest,ypred),precision_score(ytest,ypred),f1_score(ytest,ypred)]\n",
    "model_report[\"XGBClassifier\"] = Xgbc\n",
    "model_report.T"
   ]
  },
  {
   "cell_type": "markdown",
   "metadata": {},
   "source": [
    "* from all the model gradient boosting classifier works better it increased precision to 0.85833 \n",
    "* so it would reduced the false positive \n",
    "* so from all the model gradient boosting works better"
   ]
  },
  {
   "cell_type": "markdown",
   "metadata": {},
   "source": [
    "hypertuning done on the gradient boosting"
   ]
  },
  {
   "cell_type": "code",
   "execution_count": 293,
   "metadata": {},
   "outputs": [
    {
     "data": {
      "text/plain": [
       "GridSearchCV(estimator=GradientBoostingClassifier(),\n",
       "             param_grid={'learning_rate': [0.4, 0.5, 0.1]})"
      ]
     },
     "execution_count": 293,
     "metadata": {},
     "output_type": "execute_result"
    }
   ],
   "source": [
    "gbc = GradientBoostingClassifier()\n",
    "param = {\"learning_rate\" : [0.4,0.5,0.1]}\n",
    "\n",
    "gbc_cv = GridSearchCV(gbc,param_grid = param)\n",
    "gbc_cv.fit(xtrain,ytrain)"
   ]
  },
  {
   "cell_type": "code",
   "execution_count": 294,
   "metadata": {},
   "outputs": [
    {
     "data": {
      "text/plain": [
       "{'learning_rate': 0.1}"
      ]
     },
     "execution_count": 294,
     "metadata": {},
     "output_type": "execute_result"
    }
   ],
   "source": [
    "gbc_cv.best_params_"
   ]
  },
  {
   "cell_type": "code",
   "execution_count": 298,
   "metadata": {},
   "outputs": [],
   "source": [
    "gbc = GradientBoostingClassifier(learning_rate= 0.1)\n",
    "gbc.fit(xtrain,ytrain)\n",
    "ypred = gbc.predict(xtest)\n",
    "\n"
   ]
  },
  {
   "cell_type": "code",
   "execution_count": 299,
   "metadata": {},
   "outputs": [
    {
     "data": {
      "text/html": [
       "<div>\n",
       "<style scoped>\n",
       "    .dataframe tbody tr th:only-of-type {\n",
       "        vertical-align: middle;\n",
       "    }\n",
       "\n",
       "    .dataframe tbody tr th {\n",
       "        vertical-align: top;\n",
       "    }\n",
       "\n",
       "    .dataframe thead th {\n",
       "        text-align: right;\n",
       "    }\n",
       "</style>\n",
       "<table border=\"1\" class=\"dataframe\">\n",
       "  <thead>\n",
       "    <tr style=\"text-align: right;\">\n",
       "      <th></th>\n",
       "      <th>accuracy</th>\n",
       "      <th>recall</th>\n",
       "      <th>precision</th>\n",
       "      <th>f1score</th>\n",
       "    </tr>\n",
       "  </thead>\n",
       "  <tbody>\n",
       "    <tr>\n",
       "      <th>GradientBoostingClassifier_hyp</th>\n",
       "      <td>0.846452</td>\n",
       "      <td>0.997386</td>\n",
       "      <td>0.848249</td>\n",
       "      <td>0.916792</td>\n",
       "    </tr>\n",
       "  </tbody>\n",
       "</table>\n",
       "</div>"
      ],
      "text/plain": [
       "                                accuracy    recall  precision   f1score\n",
       "GradientBoostingClassifier_hyp  0.846452  0.997386   0.848249  0.916792"
      ]
     },
     "execution_count": 299,
     "metadata": {},
     "output_type": "execute_result"
    }
   ],
   "source": [
    "\n",
    "model_report = pd.DataFrame(index = [\"accuracy\",\"recall\",\"precision\",\"f1score\"])\n",
    "\n",
    "gbc_c = [accuracy_score(ytest,ypred),recall_score(ytest,ypred),precision_score(ytest,ypred),f1_score(ytest,ypred)]\n",
    "model_report[\"GradientBoostingClassifier_hyp\"] = gbc_c\n",
    "model_report.T"
   ]
  },
  {
   "cell_type": "markdown",
   "metadata": {},
   "source": [
    "* it gives the best fit model compared to all the models built above."
   ]
  },
  {
   "cell_type": "markdown",
   "metadata": {
    "id": "EIgD2O918k5b"
   },
   "source": [
    "##### e.\tWrite down a business interpretation/explanation of the model – which variables are affecting the target the most and explain the relationship. Feel free to use charts or graphs to explain. (4 marks)"
   ]
  },
  {
   "cell_type": "code",
   "execution_count": 300,
   "metadata": {},
   "outputs": [
    {
     "data": {
      "text/plain": [
       "array([0.08937851, 0.00585367, 0.00423853, 0.16133835, 0.17409599,\n",
       "       0.02851606, 0.00914807, 0.14064984, 0.00732722, 0.00653616,\n",
       "       0.00248888, 0.01849796, 0.00772822, 0.01583205, 0.14034487,\n",
       "       0.18802561])"
      ]
     },
     "execution_count": 300,
     "metadata": {},
     "output_type": "execute_result"
    }
   ],
   "source": [
    "gbc.feature_importances_"
   ]
  },
  {
   "cell_type": "code",
   "execution_count": 304,
   "metadata": {},
   "outputs": [],
   "source": [
    "fi = pd.DataFrame()\n",
    "fi[\"imp\"] = gbc.feature_importances_\n",
    "fi[\"cols\"] = df_final.columns[:-1]"
   ]
  },
  {
   "cell_type": "code",
   "execution_count": 309,
   "metadata": {},
   "outputs": [],
   "source": [
    "fi.set_index(\"cols\",inplace=True)"
   ]
  },
  {
   "cell_type": "code",
   "execution_count": 311,
   "metadata": {},
   "outputs": [
    {
     "data": {
      "text/plain": [
       "<matplotlib.axes._subplots.AxesSubplot at 0x7f985960fb00>"
      ]
     },
     "execution_count": 311,
     "metadata": {},
     "output_type": "execute_result"
    },
    {
     "data": {
      "image/png": "[encoded data removed]",
      "text/plain": [
       "<Figure size 432x288 with 1 Axes>"
      ]
     },
     "metadata": {
      "needs_background": "light"
     },
     "output_type": "display_data"
    }
   ],
   "source": [
    "fi.sort_values(\"imp\",ascending=False).plot(kind=\"bar\")"
   ]
  },
  {
   "cell_type": "markdown",
   "metadata": {},
   "source": [
    "* here s_12> written_score> viva_score>lsdp >s_10 >age> nqi.......\n",
    "* there are the variables affecting the target variable according to the business interpolation has been visualized\n",
    "* from s_12 the significant variables are shown"
   ]
  },
  {
   "cell_type": "code",
   "execution_count": null,
   "metadata": {},
   "outputs": [],
   "source": []
  }
 ],
 "metadata": {
  "kernelspec": {
   "display_name": "Python 3 (ipykernel)",
   "language": "python",
   "name": "python3"
  },
  "language_info": {
   "codemirror_mode": {
    "name": "ipython",
    "version": 3
   },
   "file_extension": ".py",
   "mimetype": "text/x-python",
   "name": "python",
   "nbconvert_exporter": "python",
   "pygments_lexer": "ipython3",
   "version": "3.10.9"
  }
 },
 "nbformat": 4,
 "nbformat_minor": 4
}
