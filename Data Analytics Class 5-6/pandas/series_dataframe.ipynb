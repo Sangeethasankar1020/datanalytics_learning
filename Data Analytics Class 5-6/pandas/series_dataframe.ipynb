{
 "cells": [
  {
   "cell_type": "markdown",
   "id": "0593ba17-3e21-499c-b188-c830c15cd4d5",
   "metadata": {},
   "source": [
    "# Series & Data Frame - Data types "
   ]
  },
  {
   "cell_type": "code",
   "execution_count": 1,
   "id": "04d06eef-c7fe-4c55-ae78-92b33ff6c169",
   "metadata": {},
   "outputs": [
    {
     "name": "stdout",
     "output_type": "stream",
     "text": [
      "Requirement already satisfied: pandas in c:\\users\\dell 4\\appdata\\local\\programs\\python\\python310\\lib\\site-packages (2.2.3)\n",
      "Requirement already satisfied: numpy>=1.22.4 in c:\\users\\dell 4\\appdata\\local\\programs\\python\\python310\\lib\\site-packages (from pandas) (2.1.1)\n",
      "Requirement already satisfied: python-dateutil>=2.8.2 in c:\\users\\dell 4\\appdata\\local\\programs\\python\\python310\\lib\\site-packages (from pandas) (2.8.2)\n",
      "Requirement already satisfied: pytz>=2020.1 in c:\\users\\dell 4\\appdata\\local\\programs\\python\\python310\\lib\\site-packages (from pandas) (2024.2)\n",
      "Requirement already satisfied: tzdata>=2022.7 in c:\\users\\dell 4\\appdata\\local\\programs\\python\\python310\\lib\\site-packages (from pandas) (2023.3)\n",
      "Requirement already satisfied: six>=1.5 in c:\\users\\dell 4\\appdata\\local\\programs\\python\\python310\\lib\\site-packages (from python-dateutil>=2.8.2->pandas) (1.16.0)\n",
      "Note: you may need to restart the kernel to use updated packages.\n"
     ]
    },
    {
     "name": "stderr",
     "output_type": "stream",
     "text": [
      "\n",
      "[notice] A new release of pip is available: 24.2 -> 24.3.1\n",
      "[notice] To update, run: python.exe -m pip install --upgrade pip\n"
     ]
    }
   ],
   "source": [
    "pip install pandas"
   ]
  },
  {
   "cell_type": "code",
   "execution_count": 2,
   "id": "9ff58370-1e2b-4941-afc8-4608aa6bfa60",
   "metadata": {},
   "outputs": [],
   "source": [
    "import pandas as pd\n",
    "import numpy as np\n",
    "from numpy.random import randn"
   ]
  },
  {
   "cell_type": "code",
   "execution_count": 3,
   "id": "fdd3d97e-f85e-4c5e-b4fd-e78ae7d939ba",
   "metadata": {},
   "outputs": [],
   "source": [
    "# series "
   ]
  },
  {
   "cell_type": "code",
   "execution_count": 4,
   "id": "f9e39c3b-af01-48ea-be06-bccfeb501b4a",
   "metadata": {},
   "outputs": [],
   "source": [
    "mylist=[1,2,3,4,5,60]"
   ]
  },
  {
   "cell_type": "code",
   "execution_count": 5,
   "id": "a0fbc917-9af4-4e38-9532-a4571593ebb0",
   "metadata": {},
   "outputs": [],
   "source": [
    "data=pd.Series(mylist)"
   ]
  },
  {
   "cell_type": "code",
   "execution_count": 6,
   "id": "995b14ae-bc96-4ed7-b1f5-e4cb57250464",
   "metadata": {},
   "outputs": [
    {
     "data": {
      "text/plain": [
       "dtype('int64')"
      ]
     },
     "execution_count": 6,
     "metadata": {},
     "output_type": "execute_result"
    }
   ],
   "source": [
    "data.dtype"
   ]
  },
  {
   "cell_type": "code",
   "execution_count": 7,
   "id": "30c96bc1-8c29-499a-bc97-c2bf149a84e4",
   "metadata": {},
   "outputs": [
    {
     "data": {
      "text/plain": [
       "0     1\n",
       "1     2\n",
       "2     3\n",
       "3     4\n",
       "4     5\n",
       "5    60\n",
       "dtype: int64"
      ]
     },
     "execution_count": 7,
     "metadata": {},
     "output_type": "execute_result"
    }
   ],
   "source": [
    "data"
   ]
  },
  {
   "cell_type": "code",
   "execution_count": 8,
   "id": "6d43a01e-e486-4bdd-9c98-5f080e447397",
   "metadata": {},
   "outputs": [],
   "source": [
    "data=pd.Series(mylist,index=[\"A\",\"B\",\"C\",\"D\",\"E\",\"F\"])"
   ]
  },
  {
   "cell_type": "code",
   "execution_count": 9,
   "id": "2c5fc900-8189-4e17-ab8d-296cf8e05865",
   "metadata": {},
   "outputs": [
    {
     "data": {
      "text/plain": [
       "A     1\n",
       "B     2\n",
       "C     3\n",
       "D     4\n",
       "E     5\n",
       "F    60\n",
       "dtype: int64"
      ]
     },
     "execution_count": 9,
     "metadata": {},
     "output_type": "execute_result"
    }
   ],
   "source": [
    "data"
   ]
  },
  {
   "cell_type": "code",
   "execution_count": 10,
   "id": "ff9cc47a-5274-4151-8c03-149e35426813",
   "metadata": {},
   "outputs": [],
   "source": [
    "#adding two series"
   ]
  },
  {
   "cell_type": "code",
   "execution_count": 11,
   "id": "71d93f96-1402-443e-bb9e-210e33e97b62",
   "metadata": {},
   "outputs": [],
   "source": [
    "ser1=pd.Series([1,2,3,4],index=[\"USA\",\"Germany\",\"Japan\",\"USSR\"])\n",
    "ser2=pd.Series([1,2,3,4],index=[\"USA\",\"Germany\",\"Japan\",\"USSR\"])"
   ]
  },
  {
   "cell_type": "code",
   "execution_count": 12,
   "id": "25ea74f8-6cb7-4240-a964-b57bab489de2",
   "metadata": {},
   "outputs": [
    {
     "data": {
      "text/plain": [
       "USA        2\n",
       "Germany    4\n",
       "Japan      6\n",
       "USSR       8\n",
       "dtype: int64"
      ]
     },
     "execution_count": 12,
     "metadata": {},
     "output_type": "execute_result"
    }
   ],
   "source": [
    "ser1+ser2"
   ]
  },
  {
   "cell_type": "code",
   "execution_count": 13,
   "id": "75bf74a2-0e85-4a49-aed4-24bb32c1cd71",
   "metadata": {},
   "outputs": [],
   "source": [
    "mydict={\"name\":\"aravinth\",\"age\":21}"
   ]
  },
  {
   "cell_type": "code",
   "execution_count": 14,
   "id": "658fbea5-3e36-4863-af8b-c608c01f27e5",
   "metadata": {},
   "outputs": [],
   "source": [
    "data=pd.Series(mydict)"
   ]
  },
  {
   "cell_type": "code",
   "execution_count": 15,
   "id": "c0b828de-293f-4bc0-84be-3a362cc8d286",
   "metadata": {},
   "outputs": [
    {
     "data": {
      "text/plain": [
       "name    aravinth\n",
       "age           21\n",
       "dtype: object"
      ]
     },
     "execution_count": 15,
     "metadata": {},
     "output_type": "execute_result"
    }
   ],
   "source": [
    "data"
   ]
  },
  {
   "cell_type": "code",
   "execution_count": 16,
   "id": "21f18a27-bb3c-471b-9448-067903349fa6",
   "metadata": {},
   "outputs": [],
   "source": [
    "#dataframe"
   ]
  },
  {
   "cell_type": "code",
   "execution_count": 19,
   "id": "bb293c1b-042c-4892-97b6-861cb62f59a8",
   "metadata": {},
   "outputs": [],
   "source": [
    "# data=pd.DataFrame(randn(5,5))\n",
    "data=pd.DataFrame(randn(5,5),index=\"A B C D E\".split(),columns=\"P Q R S T\".split())"
   ]
  },
  {
   "cell_type": "code",
   "execution_count": 20,
   "id": "9ed07373-6393-4436-b46e-5c65252561e2",
   "metadata": {},
   "outputs": [
    {
     "data": {
      "text/html": [
       "<div>\n",
       "<style scoped>\n",
       "    .dataframe tbody tr th:only-of-type {\n",
       "        vertical-align: middle;\n",
       "    }\n",
       "\n",
       "    .dataframe tbody tr th {\n",
       "        vertical-align: top;\n",
       "    }\n",
       "\n",
       "    .dataframe thead th {\n",
       "        text-align: right;\n",
       "    }\n",
       "</style>\n",
       "<table border=\"1\" class=\"dataframe\">\n",
       "  <thead>\n",
       "    <tr style=\"text-align: right;\">\n",
       "      <th></th>\n",
       "      <th>P</th>\n",
       "      <th>Q</th>\n",
       "      <th>R</th>\n",
       "      <th>S</th>\n",
       "      <th>T</th>\n",
       "    </tr>\n",
       "  </thead>\n",
       "  <tbody>\n",
       "    <tr>\n",
       "      <th>A</th>\n",
       "      <td>-0.378859</td>\n",
       "      <td>-1.008803</td>\n",
       "      <td>0.141927</td>\n",
       "      <td>-2.741278</td>\n",
       "      <td>-1.994769</td>\n",
       "    </tr>\n",
       "    <tr>\n",
       "      <th>B</th>\n",
       "      <td>-0.582801</td>\n",
       "      <td>0.459583</td>\n",
       "      <td>0.451061</td>\n",
       "      <td>0.161224</td>\n",
       "      <td>0.333523</td>\n",
       "    </tr>\n",
       "    <tr>\n",
       "      <th>C</th>\n",
       "      <td>-1.380462</td>\n",
       "      <td>-0.290739</td>\n",
       "      <td>0.257184</td>\n",
       "      <td>0.273521</td>\n",
       "      <td>0.854744</td>\n",
       "    </tr>\n",
       "    <tr>\n",
       "      <th>D</th>\n",
       "      <td>0.256764</td>\n",
       "      <td>1.120898</td>\n",
       "      <td>1.798909</td>\n",
       "      <td>-0.627288</td>\n",
       "      <td>-1.168058</td>\n",
       "    </tr>\n",
       "    <tr>\n",
       "      <th>E</th>\n",
       "      <td>-0.316841</td>\n",
       "      <td>1.589518</td>\n",
       "      <td>-0.409563</td>\n",
       "      <td>-0.150636</td>\n",
       "      <td>0.310360</td>\n",
       "    </tr>\n",
       "  </tbody>\n",
       "</table>\n",
       "</div>"
      ],
      "text/plain": [
       "          P         Q         R         S         T\n",
       "A -0.378859 -1.008803  0.141927 -2.741278 -1.994769\n",
       "B -0.582801  0.459583  0.451061  0.161224  0.333523\n",
       "C -1.380462 -0.290739  0.257184  0.273521  0.854744\n",
       "D  0.256764  1.120898  1.798909 -0.627288 -1.168058\n",
       "E -0.316841  1.589518 -0.409563 -0.150636  0.310360"
      ]
     },
     "execution_count": 20,
     "metadata": {},
     "output_type": "execute_result"
    }
   ],
   "source": [
    "data"
   ]
  },
  {
   "cell_type": "code",
   "execution_count": 21,
   "id": "e6e66229-d87f-4227-a1fd-6d01158e7abc",
   "metadata": {},
   "outputs": [
    {
     "data": {
      "text/plain": [
       "A   -0.378859\n",
       "B   -0.582801\n",
       "C   -1.380462\n",
       "D    0.256764\n",
       "E   -0.316841\n",
       "Name: P, dtype: float64"
      ]
     },
     "execution_count": 21,
     "metadata": {},
     "output_type": "execute_result"
    }
   ],
   "source": [
    "data[\"P\"]"
   ]
  },
  {
   "cell_type": "code",
   "execution_count": 23,
   "id": "37e28aa3-3b81-4c46-a3e3-dd40ce3bfc32",
   "metadata": {},
   "outputs": [],
   "source": [
    "data[\"U\"]=data[\"P\"] + data[\"Q\"]"
   ]
  },
  {
   "cell_type": "code",
   "execution_count": 24,
   "id": "95f45866-9118-4b99-ae88-2199a7a1eb00",
   "metadata": {},
   "outputs": [
    {
     "data": {
      "text/html": [
       "<div>\n",
       "<style scoped>\n",
       "    .dataframe tbody tr th:only-of-type {\n",
       "        vertical-align: middle;\n",
       "    }\n",
       "\n",
       "    .dataframe tbody tr th {\n",
       "        vertical-align: top;\n",
       "    }\n",
       "\n",
       "    .dataframe thead th {\n",
       "        text-align: right;\n",
       "    }\n",
       "</style>\n",
       "<table border=\"1\" class=\"dataframe\">\n",
       "  <thead>\n",
       "    <tr style=\"text-align: right;\">\n",
       "      <th></th>\n",
       "      <th>P</th>\n",
       "      <th>Q</th>\n",
       "      <th>R</th>\n",
       "      <th>S</th>\n",
       "      <th>T</th>\n",
       "      <th>U</th>\n",
       "    </tr>\n",
       "  </thead>\n",
       "  <tbody>\n",
       "    <tr>\n",
       "      <th>A</th>\n",
       "      <td>-0.378859</td>\n",
       "      <td>-1.008803</td>\n",
       "      <td>0.141927</td>\n",
       "      <td>-2.741278</td>\n",
       "      <td>-1.994769</td>\n",
       "      <td>-1.387661</td>\n",
       "    </tr>\n",
       "    <tr>\n",
       "      <th>B</th>\n",
       "      <td>-0.582801</td>\n",
       "      <td>0.459583</td>\n",
       "      <td>0.451061</td>\n",
       "      <td>0.161224</td>\n",
       "      <td>0.333523</td>\n",
       "      <td>-0.123218</td>\n",
       "    </tr>\n",
       "    <tr>\n",
       "      <th>C</th>\n",
       "      <td>-1.380462</td>\n",
       "      <td>-0.290739</td>\n",
       "      <td>0.257184</td>\n",
       "      <td>0.273521</td>\n",
       "      <td>0.854744</td>\n",
       "      <td>-1.671201</td>\n",
       "    </tr>\n",
       "    <tr>\n",
       "      <th>D</th>\n",
       "      <td>0.256764</td>\n",
       "      <td>1.120898</td>\n",
       "      <td>1.798909</td>\n",
       "      <td>-0.627288</td>\n",
       "      <td>-1.168058</td>\n",
       "      <td>1.377662</td>\n",
       "    </tr>\n",
       "    <tr>\n",
       "      <th>E</th>\n",
       "      <td>-0.316841</td>\n",
       "      <td>1.589518</td>\n",
       "      <td>-0.409563</td>\n",
       "      <td>-0.150636</td>\n",
       "      <td>0.310360</td>\n",
       "      <td>1.272677</td>\n",
       "    </tr>\n",
       "  </tbody>\n",
       "</table>\n",
       "</div>"
      ],
      "text/plain": [
       "          P         Q         R         S         T         U\n",
       "A -0.378859 -1.008803  0.141927 -2.741278 -1.994769 -1.387661\n",
       "B -0.582801  0.459583  0.451061  0.161224  0.333523 -0.123218\n",
       "C -1.380462 -0.290739  0.257184  0.273521  0.854744 -1.671201\n",
       "D  0.256764  1.120898  1.798909 -0.627288 -1.168058  1.377662\n",
       "E -0.316841  1.589518 -0.409563 -0.150636  0.310360  1.272677"
      ]
     },
     "execution_count": 24,
     "metadata": {},
     "output_type": "execute_result"
    }
   ],
   "source": [
    "data"
   ]
  },
  {
   "cell_type": "code",
   "execution_count": 25,
   "id": "5e8c0318-d526-4c19-805d-191d63679c07",
   "metadata": {},
   "outputs": [
    {
     "data": {
      "text/html": [
       "<div>\n",
       "<style scoped>\n",
       "    .dataframe tbody tr th:only-of-type {\n",
       "        vertical-align: middle;\n",
       "    }\n",
       "\n",
       "    .dataframe tbody tr th {\n",
       "        vertical-align: top;\n",
       "    }\n",
       "\n",
       "    .dataframe thead th {\n",
       "        text-align: right;\n",
       "    }\n",
       "</style>\n",
       "<table border=\"1\" class=\"dataframe\">\n",
       "  <thead>\n",
       "    <tr style=\"text-align: right;\">\n",
       "      <th></th>\n",
       "      <th>P</th>\n",
       "      <th>Q</th>\n",
       "      <th>R</th>\n",
       "      <th>S</th>\n",
       "      <th>T</th>\n",
       "      <th>U</th>\n",
       "    </tr>\n",
       "  </thead>\n",
       "  <tbody>\n",
       "    <tr>\n",
       "      <th>A</th>\n",
       "      <td>-0.378859</td>\n",
       "      <td>-1.008803</td>\n",
       "      <td>0.141927</td>\n",
       "      <td>-2.741278</td>\n",
       "      <td>-1.994769</td>\n",
       "      <td>-1.387661</td>\n",
       "    </tr>\n",
       "    <tr>\n",
       "      <th>B</th>\n",
       "      <td>-0.582801</td>\n",
       "      <td>0.459583</td>\n",
       "      <td>0.451061</td>\n",
       "      <td>0.161224</td>\n",
       "      <td>0.333523</td>\n",
       "      <td>-0.123218</td>\n",
       "    </tr>\n",
       "    <tr>\n",
       "      <th>C</th>\n",
       "      <td>-1.380462</td>\n",
       "      <td>-0.290739</td>\n",
       "      <td>0.257184</td>\n",
       "      <td>0.273521</td>\n",
       "      <td>0.854744</td>\n",
       "      <td>-1.671201</td>\n",
       "    </tr>\n",
       "    <tr>\n",
       "      <th>D</th>\n",
       "      <td>0.256764</td>\n",
       "      <td>1.120898</td>\n",
       "      <td>1.798909</td>\n",
       "      <td>-0.627288</td>\n",
       "      <td>-1.168058</td>\n",
       "      <td>1.377662</td>\n",
       "    </tr>\n",
       "    <tr>\n",
       "      <th>E</th>\n",
       "      <td>-0.316841</td>\n",
       "      <td>1.589518</td>\n",
       "      <td>-0.409563</td>\n",
       "      <td>-0.150636</td>\n",
       "      <td>0.310360</td>\n",
       "      <td>1.272677</td>\n",
       "    </tr>\n",
       "  </tbody>\n",
       "</table>\n",
       "</div>"
      ],
      "text/plain": [
       "          P         Q         R         S         T         U\n",
       "A -0.378859 -1.008803  0.141927 -2.741278 -1.994769 -1.387661\n",
       "B -0.582801  0.459583  0.451061  0.161224  0.333523 -0.123218\n",
       "C -1.380462 -0.290739  0.257184  0.273521  0.854744 -1.671201\n",
       "D  0.256764  1.120898  1.798909 -0.627288 -1.168058  1.377662\n",
       "E -0.316841  1.589518 -0.409563 -0.150636  0.310360  1.272677"
      ]
     },
     "execution_count": 25,
     "metadata": {},
     "output_type": "execute_result"
    }
   ],
   "source": [
    "data"
   ]
  },
  {
   "cell_type": "code",
   "execution_count": 26,
   "id": "50c9e33a-6abc-4d6b-b26e-051529d304af",
   "metadata": {},
   "outputs": [],
   "source": [
    "data.drop(\"U\",axis=1,inplace=True)"
   ]
  },
  {
   "cell_type": "code",
   "execution_count": null,
   "id": "175afede",
   "metadata": {},
   "outputs": [],
   "source": [
    "#axis - 0 row , axis - 1 column , inplace - true - original data affect "
   ]
  },
  {
   "cell_type": "code",
   "execution_count": 28,
   "id": "f656485c",
   "metadata": {},
   "outputs": [
    {
     "data": {
      "text/html": [
       "<div>\n",
       "<style scoped>\n",
       "    .dataframe tbody tr th:only-of-type {\n",
       "        vertical-align: middle;\n",
       "    }\n",
       "\n",
       "    .dataframe tbody tr th {\n",
       "        vertical-align: top;\n",
       "    }\n",
       "\n",
       "    .dataframe thead th {\n",
       "        text-align: right;\n",
       "    }\n",
       "</style>\n",
       "<table border=\"1\" class=\"dataframe\">\n",
       "  <thead>\n",
       "    <tr style=\"text-align: right;\">\n",
       "      <th></th>\n",
       "      <th>P</th>\n",
       "      <th>Q</th>\n",
       "      <th>R</th>\n",
       "      <th>S</th>\n",
       "      <th>T</th>\n",
       "    </tr>\n",
       "  </thead>\n",
       "  <tbody>\n",
       "    <tr>\n",
       "      <th>A</th>\n",
       "      <td>-0.378859</td>\n",
       "      <td>-1.008803</td>\n",
       "      <td>0.141927</td>\n",
       "      <td>-2.741278</td>\n",
       "      <td>-1.994769</td>\n",
       "    </tr>\n",
       "    <tr>\n",
       "      <th>B</th>\n",
       "      <td>-0.582801</td>\n",
       "      <td>0.459583</td>\n",
       "      <td>0.451061</td>\n",
       "      <td>0.161224</td>\n",
       "      <td>0.333523</td>\n",
       "    </tr>\n",
       "    <tr>\n",
       "      <th>C</th>\n",
       "      <td>-1.380462</td>\n",
       "      <td>-0.290739</td>\n",
       "      <td>0.257184</td>\n",
       "      <td>0.273521</td>\n",
       "      <td>0.854744</td>\n",
       "    </tr>\n",
       "    <tr>\n",
       "      <th>D</th>\n",
       "      <td>0.256764</td>\n",
       "      <td>1.120898</td>\n",
       "      <td>1.798909</td>\n",
       "      <td>-0.627288</td>\n",
       "      <td>-1.168058</td>\n",
       "    </tr>\n",
       "    <tr>\n",
       "      <th>E</th>\n",
       "      <td>-0.316841</td>\n",
       "      <td>1.589518</td>\n",
       "      <td>-0.409563</td>\n",
       "      <td>-0.150636</td>\n",
       "      <td>0.310360</td>\n",
       "    </tr>\n",
       "  </tbody>\n",
       "</table>\n",
       "</div>"
      ],
      "text/plain": [
       "          P         Q         R         S         T\n",
       "A -0.378859 -1.008803  0.141927 -2.741278 -1.994769\n",
       "B -0.582801  0.459583  0.451061  0.161224  0.333523\n",
       "C -1.380462 -0.290739  0.257184  0.273521  0.854744\n",
       "D  0.256764  1.120898  1.798909 -0.627288 -1.168058\n",
       "E -0.316841  1.589518 -0.409563 -0.150636  0.310360"
      ]
     },
     "execution_count": 28,
     "metadata": {},
     "output_type": "execute_result"
    }
   ],
   "source": [
    "data"
   ]
  },
  {
   "cell_type": "code",
   "execution_count": 29,
   "id": "1b1287a9",
   "metadata": {},
   "outputs": [],
   "source": [
    "#loc - location"
   ]
  },
  {
   "cell_type": "code",
   "execution_count": null,
   "id": "668f8d59",
   "metadata": {},
   "outputs": [],
   "source": [
    "data.loc[\"P\"]"
   ]
  },
  {
   "cell_type": "code",
   "execution_count": null,
   "id": "48f70fbd",
   "metadata": {},
   "outputs": [],
   "source": []
  }
 ],
 "metadata": {
  "kernelspec": {
   "display_name": "Python 3",
   "language": "python",
   "name": "python3"
  },
  "language_info": {
   "codemirror_mode": {
    "name": "ipython",
    "version": 3
   },
   "file_extension": ".py",
   "mimetype": "text/x-python",
   "name": "python",
   "nbconvert_exporter": "python",
   "pygments_lexer": "ipython3",
   "version": "3.10.5"
  }
 },
 "nbformat": 4,
 "nbformat_minor": 5
}
