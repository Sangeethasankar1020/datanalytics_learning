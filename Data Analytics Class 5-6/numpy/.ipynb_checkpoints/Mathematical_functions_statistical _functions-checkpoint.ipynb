{
 "cells": [
  {
   "cell_type": "code",
   "execution_count": 1,
   "id": "90b75013-5e1a-4da5-9b7d-9cc3a52874b5",
   "metadata": {},
   "outputs": [],
   "source": [
    "import numpy as np"
   ]
  },
  {
   "cell_type": "markdown",
   "id": "07b05b8b-0046-4f32-ac8e-2c3a5a5489b6",
   "metadata": {},
   "source": [
    "### Mathematical Functions"
   ]
  },
  {
   "cell_type": "code",
   "execution_count": 8,
   "id": "4255d700-5422-48b4-9e35-72a0240d74a2",
   "metadata": {},
   "outputs": [
    {
     "data": {
      "text/plain": [
       "array([ 7,  4,  6,  8, 10])"
      ]
     },
     "execution_count": 8,
     "metadata": {},
     "output_type": "execute_result"
    }
   ],
   "source": [
    "arr1=np.array([1,2,3,4,5,6,7])\n",
    "arr2=np.array([6,2,3,4,5])\n",
    "\n",
    "res=np.add(arr1,arr2)\n",
    "res\n"
   ]
  },
  {
   "cell_type": "code",
   "execution_count": 10,
   "id": "d8e90ba5-7260-4c26-bb7e-84632125f0f1",
   "metadata": {},
   "outputs": [
    {
     "data": {
      "text/plain": [
       "15"
      ]
     },
     "execution_count": 10,
     "metadata": {},
     "output_type": "execute_result"
    }
   ],
   "source": [
    "sum_arr=np.sum(arr1)\n",
    "sum_arr"
   ]
  },
  {
   "cell_type": "markdown",
   "id": "784b3e2a-8fc7-4ffe-84d1-9495c275e88b",
   "metadata": {},
   "source": [
    "### Statistical functions "
   ]
  },
  {
   "cell_type": "code",
   "execution_count": 15,
   "id": "3bdc6513-84d8-4a0a-821d-9639b4ca0f0e",
   "metadata": {},
   "outputs": [
    {
     "data": {
      "text/plain": [
       "3.0"
      ]
     },
     "execution_count": 15,
     "metadata": {},
     "output_type": "execute_result"
    }
   ],
   "source": [
    "mean_value=np.mean(arr1)\n",
    "mean_value"
   ]
  },
  {
   "cell_type": "code",
   "execution_count": 19,
   "id": "453eb2e3-eff0-4060-b555-ad68a161e533",
   "metadata": {},
   "outputs": [
    {
     "data": {
      "text/plain": [
       "3.0"
      ]
     },
     "execution_count": 19,
     "metadata": {},
     "output_type": "execute_result"
    }
   ],
   "source": [
    "median_value=np.median(arr1)\n",
    "median_value"
   ]
  },
  {
   "cell_type": "code",
   "execution_count": null,
   "id": "bf1f96c6-cf8a-4b67-abcd-f540a4bf35a7",
   "metadata": {},
   "outputs": [],
   "source": []
  }
 ],
 "metadata": {
  "kernelspec": {
   "display_name": "Python 3 (ipykernel)",
   "language": "python",
   "name": "python3"
  },
  "language_info": {
   "codemirror_mode": {
    "name": "ipython",
    "version": 3
   },
   "file_extension": ".py",
   "mimetype": "text/x-python",
   "name": "python",
   "nbconvert_exporter": "python",
   "pygments_lexer": "ipython3",
   "version": "3.12.4"
  }
 },
 "nbformat": 4,
 "nbformat_minor": 5
}
