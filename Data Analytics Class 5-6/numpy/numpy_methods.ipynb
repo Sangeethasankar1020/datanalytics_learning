{
 "cells": [
  {
   "cell_type": "markdown",
   "id": "791450a0-46b2-4c39-a8ec-5eebc6390d0e",
   "metadata": {},
   "source": [
    "# Numpy Methods "
   ]
  },
  {
   "cell_type": "markdown",
   "id": "f90f8867-ea41-4cbb-b6ae-497c49645c47",
   "metadata": {},
   "source": [
    "###  sort"
   ]
  },
  {
   "cell_type": "code",
   "execution_count": 3,
   "id": "52babfa8-743d-4ef6-8caf-f2e9c8900f42",
   "metadata": {},
   "outputs": [],
   "source": [
    "import numpy as np"
   ]
  },
  {
   "cell_type": "code",
   "execution_count": 5,
   "id": "6ac8cfdd-385c-4e7e-8163-8f84f55617f0",
   "metadata": {},
   "outputs": [],
   "source": [
    "arr=np.array([1,2,3,10,-1,3,90])"
   ]
  },
  {
   "cell_type": "code",
   "execution_count": 7,
   "id": "de86f6f9-24f7-4165-901b-6e2ce5e02f4c",
   "metadata": {},
   "outputs": [
    {
     "data": {
      "text/plain": [
       "array([-1,  1,  2,  3,  3, 10, 90])"
      ]
     },
     "execution_count": 7,
     "metadata": {},
     "output_type": "execute_result"
    }
   ],
   "source": [
    "sorted_arr=np.sort(arr)\n",
    "sorted_arr"
   ]
  },
  {
   "cell_type": "code",
   "execution_count": 9,
   "id": "05f10271-d0e1-4342-a490-080e47e83353",
   "metadata": {},
   "outputs": [],
   "source": [
    "#argsort"
   ]
  },
  {
   "cell_type": "code",
   "execution_count": 13,
   "id": "faf3c198-56e3-4919-ba61-92b2ba217929",
   "metadata": {},
   "outputs": [],
   "source": [
    "arr=np.array([1,2,4,3,5])\n",
    "\n",
    "indices=np.argsort(arr)"
   ]
  },
  {
   "cell_type": "code",
   "execution_count": 17,
   "id": "f320fd28-347e-48f2-bbcf-12993e3710f5",
   "metadata": {},
   "outputs": [],
   "source": [
    "arr2=np.array([\"A\",\"B\",\"D\",\"C\",\"E\"])"
   ]
  },
  {
   "cell_type": "code",
   "execution_count": 19,
   "id": "a943d284-7c46-4fa1-b467-922f87f62e36",
   "metadata": {},
   "outputs": [],
   "source": [
    "sorted_arr=arr2[indices]"
   ]
  },
  {
   "cell_type": "code",
   "execution_count": 21,
   "id": "ff26b361-0542-4b1f-9e16-952fa9f06fd7",
   "metadata": {},
   "outputs": [
    {
     "data": {
      "text/plain": [
       "array(['A', 'B', 'C', 'D', 'E'], dtype='<U1')"
      ]
     },
     "execution_count": 21,
     "metadata": {},
     "output_type": "execute_result"
    }
   ],
   "source": [
    "sorted_arr"
   ]
  },
  {
   "cell_type": "code",
   "execution_count": 23,
   "id": "29aa0c13-6b86-48fd-b6bb-6b91b4d1611a",
   "metadata": {},
   "outputs": [],
   "source": [
    "#multidimensional array"
   ]
  },
  {
   "cell_type": "code",
   "execution_count": 31,
   "id": "bebede69-1a71-4df6-a86b-d4455f71e2c4",
   "metadata": {},
   "outputs": [],
   "source": [
    "arr=np.array([[7,3,2],[5,4,6]])"
   ]
  },
  {
   "cell_type": "code",
   "execution_count": 37,
   "id": "6624eaa0-f41e-4b5c-9c46-38659b196bf4",
   "metadata": {},
   "outputs": [],
   "source": [
    "sorted_arr=np.sort(arr,axis=0) #axis=0 row wise"
   ]
  },
  {
   "cell_type": "code",
   "execution_count": 39,
   "id": "103d3f86-6851-4093-8aad-4750e05e6bff",
   "metadata": {},
   "outputs": [
    {
     "data": {
      "text/plain": [
       "array([[5, 3, 2],\n",
       "       [7, 4, 6]])"
      ]
     },
     "execution_count": 39,
     "metadata": {},
     "output_type": "execute_result"
    }
   ],
   "source": [
    "sorted_arr"
   ]
  },
  {
   "cell_type": "code",
   "execution_count": 43,
   "id": "97ed4887-5a37-4700-86a7-1f02ed708898",
   "metadata": {},
   "outputs": [
    {
     "data": {
      "text/plain": [
       "array([[2, 3, 7],\n",
       "       [4, 5, 6]])"
      ]
     },
     "execution_count": 43,
     "metadata": {},
     "output_type": "execute_result"
    }
   ],
   "source": [
    "sorted_arr=np.sort(arr,axis=1) #axis=1 column wise sorting\n",
    "sorted_arr"
   ]
  },
  {
   "cell_type": "code",
   "execution_count": 46,
   "id": "473cc9c6-5c28-4b29-9b67-5fcbbc60310b",
   "metadata": {},
   "outputs": [
    {
     "data": {
      "text/plain": [
       "array([[7, 3, 2],\n",
       "       [5, 4, 6]])"
      ]
     },
     "execution_count": 46,
     "metadata": {},
     "output_type": "execute_result"
    }
   ],
   "source": [
    "arr"
   ]
  },
  {
   "cell_type": "code",
   "execution_count": 48,
   "id": "d4bf2ff5-5a96-4f71-9aa5-afc870ed6a20",
   "metadata": {},
   "outputs": [],
   "source": [
    "#inplacesort"
   ]
  },
  {
   "cell_type": "code",
   "execution_count": 50,
   "id": "6337b0b7-e20d-4e71-b383-c15ea368096d",
   "metadata": {},
   "outputs": [],
   "source": [
    "arr.sort()"
   ]
  },
  {
   "cell_type": "code",
   "execution_count": 52,
   "id": "20221812-213f-4fb7-8a6d-1dfd23fbae59",
   "metadata": {},
   "outputs": [
    {
     "data": {
      "text/plain": [
       "array([[2, 3, 7],\n",
       "       [4, 5, 6]])"
      ]
     },
     "execution_count": 52,
     "metadata": {},
     "output_type": "execute_result"
    }
   ],
   "source": [
    "arr"
   ]
  },
  {
   "cell_type": "markdown",
   "id": "c81e8ca9-acfa-496c-a2aa-2b7d184edd81",
   "metadata": {},
   "source": [
    "### Copy vs view "
   ]
  },
  {
   "cell_type": "code",
   "execution_count": 55,
   "id": "ae33f396-7c22-4be2-8670-4bb475615d60",
   "metadata": {},
   "outputs": [],
   "source": [
    "arr=np.array([1,2,3,4,5])\n",
    "\n",
    "arr2=np.copy(arr)"
   ]
  },
  {
   "cell_type": "code",
   "execution_count": 57,
   "id": "03c9b8ca-81cb-43fc-a8b5-fe4a9dc4855a",
   "metadata": {},
   "outputs": [
    {
     "data": {
      "text/plain": [
       "array([1, 2, 3, 4, 5])"
      ]
     },
     "execution_count": 57,
     "metadata": {},
     "output_type": "execute_result"
    }
   ],
   "source": [
    "arr"
   ]
  },
  {
   "cell_type": "code",
   "execution_count": 59,
   "id": "b37e699d-abdc-49d4-8cea-8d556ae2b328",
   "metadata": {},
   "outputs": [
    {
     "data": {
      "text/plain": [
       "array([1, 2, 3, 4, 5])"
      ]
     },
     "execution_count": 59,
     "metadata": {},
     "output_type": "execute_result"
    }
   ],
   "source": [
    "arr2"
   ]
  },
  {
   "cell_type": "code",
   "execution_count": 61,
   "id": "3ad46ff3-1c45-4b51-930b-4e39b1b8060b",
   "metadata": {},
   "outputs": [],
   "source": [
    "arr[0]=10"
   ]
  },
  {
   "cell_type": "code",
   "execution_count": 63,
   "id": "f9530db3-17c3-423f-a305-348bc07f65c3",
   "metadata": {},
   "outputs": [
    {
     "data": {
      "text/plain": [
       "array([10,  2,  3,  4,  5])"
      ]
     },
     "execution_count": 63,
     "metadata": {},
     "output_type": "execute_result"
    }
   ],
   "source": [
    "arr"
   ]
  },
  {
   "cell_type": "code",
   "execution_count": 65,
   "id": "e53e3020-bc32-41f3-8e46-3ab6477da381",
   "metadata": {},
   "outputs": [
    {
     "data": {
      "text/plain": [
       "array([1, 2, 3, 4, 5])"
      ]
     },
     "execution_count": 65,
     "metadata": {},
     "output_type": "execute_result"
    }
   ],
   "source": [
    "arr2"
   ]
  },
  {
   "cell_type": "code",
   "execution_count": 67,
   "id": "173a8e8f-bbf1-410e-a62b-307d2efd5828",
   "metadata": {},
   "outputs": [],
   "source": [
    "#view"
   ]
  },
  {
   "cell_type": "code",
   "execution_count": 69,
   "id": "72fbcb1b-5260-4f0d-8c15-c2ea91ddf350",
   "metadata": {},
   "outputs": [],
   "source": [
    "arr=np.array([1,2,3,4,5])\n"
   ]
  },
  {
   "cell_type": "code",
   "execution_count": 75,
   "id": "820313c8-59ae-4ed3-baec-663a1cbff2f4",
   "metadata": {},
   "outputs": [],
   "source": [
    "arr2=arr.view()"
   ]
  },
  {
   "cell_type": "code",
   "execution_count": 77,
   "id": "9e9cd0e3-58cc-4ebf-99d8-2395de677800",
   "metadata": {},
   "outputs": [
    {
     "data": {
      "text/plain": [
       "array([1, 2, 3, 4, 5])"
      ]
     },
     "execution_count": 77,
     "metadata": {},
     "output_type": "execute_result"
    }
   ],
   "source": [
    "arr"
   ]
  },
  {
   "cell_type": "code",
   "execution_count": 79,
   "id": "4141a229-9594-40a6-ac19-c08617cceab3",
   "metadata": {},
   "outputs": [
    {
     "data": {
      "text/plain": [
       "array([1, 2, 3, 4, 5])"
      ]
     },
     "execution_count": 79,
     "metadata": {},
     "output_type": "execute_result"
    }
   ],
   "source": [
    "arr2"
   ]
  },
  {
   "cell_type": "code",
   "execution_count": 81,
   "id": "428ae8f3-e5f6-4b85-b291-67892db1c0df",
   "metadata": {},
   "outputs": [],
   "source": [
    "arr[0]=12\n"
   ]
  },
  {
   "cell_type": "code",
   "execution_count": 83,
   "id": "2272a5c7-6929-43cf-a515-50183f76dfe9",
   "metadata": {},
   "outputs": [
    {
     "data": {
      "text/plain": [
       "array([12,  2,  3,  4,  5])"
      ]
     },
     "execution_count": 83,
     "metadata": {},
     "output_type": "execute_result"
    }
   ],
   "source": [
    "arr"
   ]
  },
  {
   "cell_type": "code",
   "execution_count": 85,
   "id": "4b3e963a-79f5-472c-91de-4db1d08dd6f0",
   "metadata": {},
   "outputs": [
    {
     "data": {
      "text/plain": [
       "array([12,  2,  3,  4,  5])"
      ]
     },
     "execution_count": 85,
     "metadata": {},
     "output_type": "execute_result"
    }
   ],
   "source": [
    "arr2"
   ]
  },
  {
   "cell_type": "markdown",
   "id": "a8c71a26-1d51-4ddf-9f37-e518ed85ed5b",
   "metadata": {},
   "source": [
    "### arange "
   ]
  },
  {
   "cell_type": "code",
   "execution_count": 88,
   "id": "c359e49d-13a6-4809-9f18-cfb26a352ae3",
   "metadata": {},
   "outputs": [],
   "source": [
    "arr=np.arange(12)"
   ]
  },
  {
   "cell_type": "code",
   "execution_count": 90,
   "id": "bf2cbb0f-0a6d-4a91-a399-b759b1fe8841",
   "metadata": {},
   "outputs": [
    {
     "data": {
      "text/plain": [
       "array([ 0,  1,  2,  3,  4,  5,  6,  7,  8,  9, 10, 11])"
      ]
     },
     "execution_count": 90,
     "metadata": {},
     "output_type": "execute_result"
    }
   ],
   "source": [
    "arr"
   ]
  },
  {
   "cell_type": "markdown",
   "id": "de1306d5-e4a9-4d4f-ba36-a8e3bb831f46",
   "metadata": {},
   "source": [
    "### linspace"
   ]
  },
  {
   "cell_type": "code",
   "execution_count": 105,
   "id": "731c10c4-6d60-4000-852f-c6ae2318bc4d",
   "metadata": {},
   "outputs": [],
   "source": [
    "arr=np.linspace(1,20,4)"
   ]
  },
  {
   "cell_type": "code",
   "execution_count": 107,
   "id": "2c1dee8e-4844-42f3-a03e-b34dbc998a86",
   "metadata": {},
   "outputs": [
    {
     "data": {
      "text/plain": [
       "array([ 1.        ,  7.33333333, 13.66666667, 20.        ])"
      ]
     },
     "execution_count": 107,
     "metadata": {},
     "output_type": "execute_result"
    }
   ],
   "source": [
    "arr"
   ]
  },
  {
   "cell_type": "markdown",
   "id": "591c6a04-fd03-4146-a314-c72d7309026c",
   "metadata": {},
   "source": [
    "### shape & reshape"
   ]
  },
  {
   "cell_type": "code",
   "execution_count": 129,
   "id": "c2e7cfbb-2311-496f-b2fe-ee0d234d2798",
   "metadata": {},
   "outputs": [],
   "source": [
    "arr=np.array([1,2,3,4,5])"
   ]
  },
  {
   "cell_type": "code",
   "execution_count": 131,
   "id": "202a9220-423d-44fc-8522-a4156a39cd67",
   "metadata": {},
   "outputs": [],
   "source": [
    "shape=np.shape(arr)"
   ]
  },
  {
   "cell_type": "code",
   "execution_count": 133,
   "id": "7d3ddd61-c568-4f4d-b913-477d2c59640e",
   "metadata": {},
   "outputs": [
    {
     "data": {
      "text/plain": [
       "(5,)"
      ]
     },
     "execution_count": 133,
     "metadata": {},
     "output_type": "execute_result"
    }
   ],
   "source": [
    "shape"
   ]
  },
  {
   "cell_type": "code",
   "execution_count": 135,
   "id": "a316dca8-ac7d-471e-a6ed-e7a1a7472464",
   "metadata": {},
   "outputs": [],
   "source": [
    "arr=np.array([[1,2,3,4],[5,7,6,1]])"
   ]
  },
  {
   "cell_type": "code",
   "execution_count": 137,
   "id": "392c40ab-b3af-47c8-a845-dbe46d661db3",
   "metadata": {},
   "outputs": [],
   "source": [
    "shape=np.shape(arr)"
   ]
  },
  {
   "cell_type": "code",
   "execution_count": 139,
   "id": "1c7edd71-2df7-468f-8fad-5888e124b632",
   "metadata": {},
   "outputs": [
    {
     "data": {
      "text/plain": [
       "(2, 4)"
      ]
     },
     "execution_count": 139,
     "metadata": {},
     "output_type": "execute_result"
    }
   ],
   "source": [
    "shape"
   ]
  },
  {
   "cell_type": "code",
   "execution_count": 141,
   "id": "927fd60c-e3c1-42fe-805c-0311afcaaabc",
   "metadata": {},
   "outputs": [],
   "source": [
    "reshaped_arr=arr.reshape(4,2)"
   ]
  },
  {
   "cell_type": "code",
   "execution_count": 143,
   "id": "08822a85-c8a2-44b0-a8aa-573441646da4",
   "metadata": {},
   "outputs": [
    {
     "data": {
      "text/plain": [
       "array([[1, 2],\n",
       "       [3, 4],\n",
       "       [5, 7],\n",
       "       [6, 1]])"
      ]
     },
     "execution_count": 143,
     "metadata": {},
     "output_type": "execute_result"
    }
   ],
   "source": [
    "reshaped_arr"
   ]
  },
  {
   "cell_type": "markdown",
   "id": "bde60b03-9927-429d-8996-2e7ea5074ed7",
   "metadata": {},
   "source": [
    "### concatnate "
   ]
  },
  {
   "cell_type": "code",
   "execution_count": 174,
   "id": "f60c36f9-860a-4b09-ba25-bf08974c1aa2",
   "metadata": {},
   "outputs": [],
   "source": [
    "arr1=np.array([[1,2,3,4],[1,2,3,4]])\n",
    "arr2=np.array([[5,6,7,8],[1,2,3,4]])"
   ]
  },
  {
   "cell_type": "code",
   "execution_count": 176,
   "id": "ac9ccf26-c528-4db7-8b66-47f9e3244bff",
   "metadata": {},
   "outputs": [],
   "source": [
    "res=np.concatenate((arr1,arr2))"
   ]
  },
  {
   "cell_type": "code",
   "execution_count": 178,
   "id": "3dac2cad-2364-4f7a-89aa-eb6800a40e56",
   "metadata": {},
   "outputs": [
    {
     "data": {
      "text/plain": [
       "array([[1, 2, 3, 4],\n",
       "       [1, 2, 3, 4],\n",
       "       [5, 6, 7, 8],\n",
       "       [1, 2, 3, 4]])"
      ]
     },
     "execution_count": 178,
     "metadata": {},
     "output_type": "execute_result"
    }
   ],
   "source": [
    "res"
   ]
  },
  {
   "cell_type": "code",
   "execution_count": 180,
   "id": "718d7a16-aaab-4c36-9b7a-24403fd10e85",
   "metadata": {},
   "outputs": [],
   "source": [
    "res=np.concatenate((arr1,arr2),axis=1)"
   ]
  },
  {
   "cell_type": "code",
   "execution_count": 182,
   "id": "4408f04b-56b5-4e70-9717-bdb0037c29b5",
   "metadata": {},
   "outputs": [
    {
     "data": {
      "text/plain": [
       "array([[1, 2, 3, 4, 5, 6, 7, 8],\n",
       "       [1, 2, 3, 4, 1, 2, 3, 4]])"
      ]
     },
     "execution_count": 182,
     "metadata": {},
     "output_type": "execute_result"
    }
   ],
   "source": [
    "res"
   ]
  },
  {
   "cell_type": "markdown",
   "id": "5438129a-08ad-4e46-a1b0-520bf4b9080e",
   "metadata": {},
   "source": [
    "### Arithmetic operations"
   ]
  },
  {
   "cell_type": "code",
   "execution_count": 189,
   "id": "d8c3c0b2-3c13-4245-9c76-20f7386db299",
   "metadata": {},
   "outputs": [],
   "source": [
    "arr=np.array([1,2,3,4])\n",
    "arr1=np.array([5,6,7,8])"
   ]
  },
  {
   "cell_type": "code",
   "execution_count": 191,
   "id": "06a03a6b-dd02-43ab-8fb9-e88584867290",
   "metadata": {},
   "outputs": [
    {
     "data": {
      "text/plain": [
       "array([ 6,  8, 10, 12])"
      ]
     },
     "execution_count": 191,
     "metadata": {},
     "output_type": "execute_result"
    }
   ],
   "source": [
    "arr+arr1"
   ]
  },
  {
   "cell_type": "code",
   "execution_count": 193,
   "id": "f4745f6f-6763-42e4-a345-ed634880f683",
   "metadata": {},
   "outputs": [
    {
     "data": {
      "text/plain": [
       "array([-4, -4, -4, -4])"
      ]
     },
     "execution_count": 193,
     "metadata": {},
     "output_type": "execute_result"
    }
   ],
   "source": [
    "arr-arr1"
   ]
  },
  {
   "cell_type": "code",
   "execution_count": 195,
   "id": "13e0e183-3e91-4dc4-85ab-950851f7f51c",
   "metadata": {},
   "outputs": [
    {
     "data": {
      "text/plain": [
       "array([ 5, 12, 21, 32])"
      ]
     },
     "execution_count": 195,
     "metadata": {},
     "output_type": "execute_result"
    }
   ],
   "source": [
    "arr*arr1"
   ]
  },
  {
   "cell_type": "code",
   "execution_count": 197,
   "id": "005a9b19-929e-4998-839b-e592f30a262e",
   "metadata": {},
   "outputs": [
    {
     "data": {
      "text/plain": [
       "array([0.2       , 0.33333333, 0.42857143, 0.5       ])"
      ]
     },
     "execution_count": 197,
     "metadata": {},
     "output_type": "execute_result"
    }
   ],
   "source": [
    "arr/arr1"
   ]
  },
  {
   "cell_type": "code",
   "execution_count": null,
   "id": "a262a06e-394a-40bf-8cd9-ab3cbaa81744",
   "metadata": {},
   "outputs": [],
   "source": []
  }
 ],
 "metadata": {
  "kernelspec": {
   "display_name": "Python 3 (ipykernel)",
   "language": "python",
   "name": "python3"
  },
  "language_info": {
   "codemirror_mode": {
    "name": "ipython",
    "version": 3
   },
   "file_extension": ".py",
   "mimetype": "text/x-python",
   "name": "python",
   "nbconvert_exporter": "python",
   "pygments_lexer": "ipython3",
   "version": "3.12.4"
  }
 },
 "nbformat": 4,
 "nbformat_minor": 5
}
