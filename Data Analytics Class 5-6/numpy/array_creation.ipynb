{
 "cells": [
  {
   "cell_type": "code",
   "execution_count": null,
   "id": "af8b5f04",
   "metadata": {},
   "outputs": [],
   "source": []
  },
  {
   "cell_type": "markdown",
   "id": "144cee76-ccae-45ee-beb6-6e21a1ab22b6",
   "metadata": {},
   "source": [
    "# Array Creation\n"
   ]
  },
  {
   "cell_type": "code",
   "execution_count": 2,
   "id": "26e62b6d-3929-43fb-8c8a-ea5466f20b37",
   "metadata": {},
   "outputs": [],
   "source": [
    "import numpy as np"
   ]
  },
  {
   "cell_type": "code",
   "execution_count": 3,
   "id": "554701a7-4a89-4c64-b9fd-67b4b6acc13c",
   "metadata": {},
   "outputs": [],
   "source": [
    "df=np.array(7)"
   ]
  },
  {
   "cell_type": "code",
   "execution_count": 4,
   "id": "ea4c2069-1dc5-4c56-8e7b-677e12c2c676",
   "metadata": {},
   "outputs": [
    {
     "name": "stdout",
     "output_type": "stream",
     "text": [
      "No of dim: 0\n"
     ]
    }
   ],
   "source": [
    "print(\"No of dim:\",df.ndim)"
   ]
  },
  {
   "cell_type": "code",
   "execution_count": null,
   "id": "d25e437d-610a-4ba1-8d02-6004d0d67c4d",
   "metadata": {},
   "outputs": [
    {
     "data": {
      "text/plain": [
       "1"
      ]
     },
     "execution_count": 25,
     "metadata": {},
     "output_type": "execute_result"
    }
   ],
   "source": [
    "arr=np.array([1,2,3,45,5])\n",
    "arr.ndim"
   ]
  },
  {
   "cell_type": "code",
   "execution_count": null,
   "id": "c2ec18ab-29d5-46d9-9425-109a893511dd",
   "metadata": {},
   "outputs": [
    {
     "data": {
      "text/plain": [
       "numpy.ndarray"
      ]
     },
     "execution_count": 27,
     "metadata": {},
     "output_type": "execute_result"
    }
   ],
   "source": [
    "type(arr)"
   ]
  },
  {
   "cell_type": "code",
   "execution_count": null,
   "id": "7677ddfa-92e5-488e-9cd7-e88a489a557e",
   "metadata": {},
   "outputs": [
    {
     "data": {
      "text/plain": [
       "dtype('int32')"
      ]
     },
     "execution_count": 29,
     "metadata": {},
     "output_type": "execute_result"
    }
   ],
   "source": [
    "arr.dtype"
   ]
  },
  {
   "cell_type": "code",
   "execution_count": null,
   "id": "b83c524a-88df-4b2b-ae3b-ffee955c5d3a",
   "metadata": {},
   "outputs": [
    {
     "data": {
      "text/plain": [
       "45"
      ]
     },
     "execution_count": 36,
     "metadata": {},
     "output_type": "execute_result"
    }
   ],
   "source": [
    "arr[3]"
   ]
  },
  {
   "cell_type": "code",
   "execution_count": null,
   "id": "1f43f453-206d-4348-8db0-b7b8a6e8e238",
   "metadata": {},
   "outputs": [],
   "source": [
    "#2 d array"
   ]
  },
  {
   "cell_type": "code",
   "execution_count": null,
   "id": "d91042a1-9206-4ebe-854c-8782fc92649a",
   "metadata": {},
   "outputs": [],
   "source": [
    "arr=np.array([[1,2,3],[4,6,7]])"
   ]
  },
  {
   "cell_type": "code",
   "execution_count": null,
   "id": "1472d79c-6d44-40d6-a281-8a1592a1beaa",
   "metadata": {},
   "outputs": [
    {
     "data": {
      "text/plain": [
       "2"
      ]
     },
     "execution_count": 42,
     "metadata": {},
     "output_type": "execute_result"
    }
   ],
   "source": [
    "arr.ndim"
   ]
  },
  {
   "cell_type": "code",
   "execution_count": null,
   "id": "c2bfa571-7160-4b1a-b99d-604eb3574a8f",
   "metadata": {},
   "outputs": [
    {
     "data": {
      "text/plain": [
       "2"
      ]
     },
     "execution_count": 46,
     "metadata": {},
     "output_type": "execute_result"
    }
   ],
   "source": [
    "arr[0,1]"
   ]
  },
  {
   "cell_type": "code",
   "execution_count": null,
   "id": "fc0f4614-2aed-4a17-a1d0-f2f1e5854747",
   "metadata": {},
   "outputs": [
    {
     "data": {
      "text/plain": [
       "4"
      ]
     },
     "execution_count": 48,
     "metadata": {},
     "output_type": "execute_result"
    }
   ],
   "source": [
    "arr[1,0]"
   ]
  },
  {
   "cell_type": "code",
   "execution_count": null,
   "id": "26f14e99-f13f-45f4-b493-c5e622c2eb5e",
   "metadata": {},
   "outputs": [],
   "source": [
    "#3 d array"
   ]
  },
  {
   "cell_type": "code",
   "execution_count": null,
   "id": "0f4a86f2-1819-458a-8c2b-01632d7241ef",
   "metadata": {},
   "outputs": [],
   "source": [
    "arr=np.array([[[1,2,3],[4,5,6]],[[4,5,6],[9,2,1]]])"
   ]
  },
  {
   "cell_type": "code",
   "execution_count": null,
   "id": "f715c0e5-03fd-4b11-bbc4-7faedc37874b",
   "metadata": {},
   "outputs": [
    {
     "data": {
      "text/plain": [
       "array([[[1, 2, 3],\n",
       "        [4, 5, 6]],\n",
       "\n",
       "       [[4, 5, 6],\n",
       "        [9, 2, 1]]])"
      ]
     },
     "execution_count": 54,
     "metadata": {},
     "output_type": "execute_result"
    }
   ],
   "source": [
    "arr"
   ]
  },
  {
   "cell_type": "code",
   "execution_count": null,
   "id": "b6d5f598-3482-423e-976a-1c08a9b43bdb",
   "metadata": {},
   "outputs": [
    {
     "data": {
      "text/plain": [
       "3"
      ]
     },
     "execution_count": 56,
     "metadata": {},
     "output_type": "execute_result"
    }
   ],
   "source": [
    "arr.ndim"
   ]
  },
  {
   "cell_type": "code",
   "execution_count": null,
   "id": "15aa4d7d-a1fc-4169-942b-6fcad409b091",
   "metadata": {},
   "outputs": [
    {
     "data": {
      "text/plain": [
       "1"
      ]
     },
     "execution_count": 58,
     "metadata": {},
     "output_type": "execute_result"
    }
   ],
   "source": [
    "arr[0,0,0]"
   ]
  },
  {
   "cell_type": "code",
   "execution_count": null,
   "id": "baa4b39b-835c-439b-880c-a5b09d5e3e96",
   "metadata": {},
   "outputs": [
    {
     "data": {
      "text/plain": [
       "4"
      ]
     },
     "execution_count": 60,
     "metadata": {},
     "output_type": "execute_result"
    }
   ],
   "source": [
    "arr[0,1,0]"
   ]
  },
  {
   "cell_type": "code",
   "execution_count": null,
   "id": "0aba7ea3-c6a1-4107-ace4-5f72634674dd",
   "metadata": {},
   "outputs": [
    {
     "data": {
      "text/plain": [
       "4"
      ]
     },
     "execution_count": 62,
     "metadata": {},
     "output_type": "execute_result"
    }
   ],
   "source": [
    "arr[1,0,0]"
   ]
  },
  {
   "cell_type": "code",
   "execution_count": null,
   "id": "59db2071-acf6-4e50-8c36-aecbe5c1ce7a",
   "metadata": {},
   "outputs": [
    {
     "data": {
      "text/plain": [
       "9"
      ]
     },
     "execution_count": 64,
     "metadata": {},
     "output_type": "execute_result"
    }
   ],
   "source": [
    "arr[1,1,0]"
   ]
  },
  {
   "cell_type": "code",
   "execution_count": null,
   "id": "e734dd59-f3ea-4899-b9ca-d818fb55e4c8",
   "metadata": {},
   "outputs": [],
   "source": [
    "arr=np.array([1,2,4,5],ndmin=5)"
   ]
  },
  {
   "cell_type": "code",
   "execution_count": null,
   "id": "afdaf09c-0373-46bb-9593-5aa1a3389679",
   "metadata": {},
   "outputs": [
    {
     "data": {
      "text/plain": [
       "5"
      ]
     },
     "execution_count": 70,
     "metadata": {},
     "output_type": "execute_result"
    }
   ],
   "source": [
    "arr.ndim"
   ]
  },
  {
   "cell_type": "code",
   "execution_count": null,
   "id": "fcabd003-09a7-460f-9374-e4ffde805287",
   "metadata": {},
   "outputs": [
    {
     "data": {
      "text/plain": [
       "array([[[[[1, 2, 4, 5]]]]])"
      ]
     },
     "execution_count": 72,
     "metadata": {},
     "output_type": "execute_result"
    }
   ],
   "source": [
    "arr"
   ]
  },
  {
   "cell_type": "markdown",
   "id": "c3610ed6-757e-4c49-b6d5-32cf327d0e7c",
   "metadata": {},
   "source": [
    "### Creating a array using Functions"
   ]
  },
  {
   "cell_type": "code",
   "execution_count": null,
   "id": "391797f1-7161-4d4c-bbf5-6274f0ccb91d",
   "metadata": {},
   "outputs": [],
   "source": [
    "#identity"
   ]
  },
  {
   "cell_type": "code",
   "execution_count": null,
   "id": "e1af70c2-b9d3-4544-9c85-5fd03e746aba",
   "metadata": {},
   "outputs": [],
   "source": [
    "matrix=np.identity(3)"
   ]
  },
  {
   "cell_type": "code",
   "execution_count": null,
   "id": "f34a080b-a862-40d8-8317-277ae46fb290",
   "metadata": {},
   "outputs": [
    {
     "data": {
      "text/plain": [
       "array([[1., 0., 0.],\n",
       "       [0., 1., 0.],\n",
       "       [0., 0., 1.]])"
      ]
     },
     "execution_count": 91,
     "metadata": {},
     "output_type": "execute_result"
    }
   ],
   "source": [
    "matrix"
   ]
  },
  {
   "cell_type": "code",
   "execution_count": null,
   "id": "b5c7491f-1d53-4736-a343-c011efbe86b9",
   "metadata": {},
   "outputs": [],
   "source": [
    "#ones"
   ]
  },
  {
   "cell_type": "code",
   "execution_count": null,
   "id": "ed86375e-2e51-4a12-aec5-6f84731a8d75",
   "metadata": {},
   "outputs": [
    {
     "data": {
      "text/plain": [
       "array([[1., 1., 1., 1.],\n",
       "       [1., 1., 1., 1.],\n",
       "       [1., 1., 1., 1.]])"
      ]
     },
     "execution_count": 98,
     "metadata": {},
     "output_type": "execute_result"
    }
   ],
   "source": [
    "matrix=np.ones((3,4))\n",
    "matrix"
   ]
  },
  {
   "cell_type": "code",
   "execution_count": null,
   "id": "1f731d56-9a54-4139-9e61-4ab757ffbb08",
   "metadata": {},
   "outputs": [],
   "source": [
    "#zeros"
   ]
  },
  {
   "cell_type": "code",
   "execution_count": null,
   "id": "37d8009e-9134-4952-a234-05ba15d3e543",
   "metadata": {},
   "outputs": [],
   "source": [
    "matrix=np.zeros((2,3))"
   ]
  },
  {
   "cell_type": "code",
   "execution_count": null,
   "id": "9cec1668-4b9d-400e-a628-d32a03b30cdd",
   "metadata": {},
   "outputs": [
    {
     "data": {
      "text/plain": [
       "array([[0., 0., 0.],\n",
       "       [0., 0., 0.]])"
      ]
     },
     "execution_count": 104,
     "metadata": {},
     "output_type": "execute_result"
    }
   ],
   "source": [
    "matrix"
   ]
  },
  {
   "cell_type": "code",
   "execution_count": null,
   "id": "dcaceb02-6cd2-417b-833a-f31ea8485712",
   "metadata": {},
   "outputs": [],
   "source": [
    "matrix=np.full((3,3),5)"
   ]
  },
  {
   "cell_type": "code",
   "execution_count": null,
   "id": "0608d3d1-5865-450c-baa6-2735e94afc1b",
   "metadata": {},
   "outputs": [
    {
     "data": {
      "text/plain": [
       "array([[5, 5, 5],\n",
       "       [5, 5, 5],\n",
       "       [5, 5, 5]])"
      ]
     },
     "execution_count": 110,
     "metadata": {},
     "output_type": "execute_result"
    }
   ],
   "source": [
    "matrix"
   ]
  },
  {
   "cell_type": "code",
   "execution_count": null,
   "id": "cf2f9306-622a-49e5-bffc-33d959e3bab7",
   "metadata": {},
   "outputs": [],
   "source": [
    "#slicing"
   ]
  },
  {
   "cell_type": "code",
   "execution_count": null,
   "id": "13212cb1-64e7-4fc4-a273-8135ffc40325",
   "metadata": {},
   "outputs": [],
   "source": [
    "arr=np.array([[1,2,3],[4,6,7]])"
   ]
  },
  {
   "cell_type": "code",
   "execution_count": null,
   "id": "ff7cb682-be55-4c36-805a-1ebd3fa2428c",
   "metadata": {},
   "outputs": [
    {
     "data": {
      "text/plain": [
       "array([1, 2])"
      ]
     },
     "execution_count": 117,
     "metadata": {},
     "output_type": "execute_result"
    }
   ],
   "source": [
    "arr[0,:2]"
   ]
  },
  {
   "cell_type": "code",
   "execution_count": null,
   "id": "c8d38164-1427-490e-9648-94ddcb3947fa",
   "metadata": {},
   "outputs": [
    {
     "data": {
      "text/plain": [
       "array([6, 7])"
      ]
     },
     "execution_count": 119,
     "metadata": {},
     "output_type": "execute_result"
    }
   ],
   "source": [
    "arr[1,1:]"
   ]
  },
  {
   "cell_type": "code",
   "execution_count": null,
   "id": "81e48432-89fa-474b-abbd-e7caff41fafd",
   "metadata": {},
   "outputs": [],
   "source": [
    "arr=np.array([[[1,2,3],[4,5,6]],[[4,5,6],[9,2,1]]])"
   ]
  },
  {
   "cell_type": "code",
   "execution_count": null,
   "id": "c99d903e-15cf-4fe6-b162-67a603b2f915",
   "metadata": {},
   "outputs": [
    {
     "data": {
      "text/plain": [
       "array([2, 3])"
      ]
     },
     "execution_count": 123,
     "metadata": {},
     "output_type": "execute_result"
    }
   ],
   "source": [
    "arr[0,0,1:]"
   ]
  },
  {
   "cell_type": "markdown",
   "id": "0a674ae3-0e40-48d5-a9a3-2e7f30101638",
   "metadata": {},
   "source": [
    "### Loop"
   ]
  },
  {
   "cell_type": "code",
   "execution_count": null,
   "id": "ff6d8d1c-0399-4628-b31e-a9ad23efdb4a",
   "metadata": {},
   "outputs": [],
   "source": [
    "arr=np.array([1,2,4,5,6,7])"
   ]
  },
  {
   "cell_type": "code",
   "execution_count": null,
   "id": "de8b8a1c-dd93-4d9c-b1f3-a4ab556c7c21",
   "metadata": {},
   "outputs": [
    {
     "name": "stdout",
     "output_type": "stream",
     "text": [
      "1\n",
      "2\n",
      "4\n",
      "5\n",
      "6\n",
      "7\n"
     ]
    }
   ],
   "source": [
    "for i in arr:\n",
    "    print(i)"
   ]
  },
  {
   "cell_type": "code",
   "execution_count": null,
   "id": "42a07e53-cf6f-49dd-b260-0e53af35318e",
   "metadata": {},
   "outputs": [],
   "source": [
    "# 2d array"
   ]
  },
  {
   "cell_type": "code",
   "execution_count": null,
   "id": "796d18de-1cab-4cdb-b2c0-064430521d7d",
   "metadata": {},
   "outputs": [],
   "source": [
    "arr=np.array([[1,2,3],[4,6,7]])"
   ]
  },
  {
   "cell_type": "code",
   "execution_count": null,
   "id": "34870406-8e62-4b37-9052-26cf03596d03",
   "metadata": {},
   "outputs": [
    {
     "name": "stdout",
     "output_type": "stream",
     "text": [
      "1\n",
      "2\n",
      "3\n",
      "4\n",
      "6\n",
      "7\n"
     ]
    }
   ],
   "source": [
    "for i in arr:\n",
    "    for j in i:\n",
    "        print(j)"
   ]
  },
  {
   "cell_type": "code",
   "execution_count": null,
   "id": "e8605c09-aab4-4b83-a3a8-48ec7c751a34",
   "metadata": {},
   "outputs": [],
   "source": [
    "# 3 d array"
   ]
  },
  {
   "cell_type": "code",
   "execution_count": null,
   "id": "a43f764d-40ad-4952-b73d-5c103f10b6f6",
   "metadata": {},
   "outputs": [],
   "source": [
    "arr=np.array([[[1,2,3],[4,5,6]],[[4,5,6],[9,2,1]]])"
   ]
  },
  {
   "cell_type": "code",
   "execution_count": null,
   "id": "25420d4e-0773-4af8-a141-62c944cb04fb",
   "metadata": {},
   "outputs": [
    {
     "name": "stdout",
     "output_type": "stream",
     "text": [
      "1\n",
      "2\n",
      "3\n",
      "4\n",
      "5\n",
      "6\n",
      "4\n",
      "5\n",
      "6\n",
      "9\n",
      "2\n",
      "1\n"
     ]
    }
   ],
   "source": [
    "for i in arr:\n",
    "    for j in i:\n",
    "        for k in j:\n",
    "            print(k)"
   ]
  },
  {
   "cell_type": "code",
   "execution_count": null,
   "id": "fe1dab6f-e46a-4bd8-8b45-39371c2b5569",
   "metadata": {},
   "outputs": [
    {
     "name": "stdout",
     "output_type": "stream",
     "text": [
      "1\n",
      "2\n",
      "3\n",
      "4\n",
      "5\n",
      "6\n",
      "4\n",
      "5\n",
      "6\n",
      "9\n",
      "2\n",
      "1\n"
     ]
    }
   ],
   "source": [
    "for i in np.nditer(arr):\n",
    "    print(i)"
   ]
  },
  {
   "cell_type": "code",
   "execution_count": null,
   "id": "0dc87de0-d840-4e5a-b71b-7b4c459080ef",
   "metadata": {},
   "outputs": [],
   "source": []
  }
 ],
 "metadata": {
  "kernelspec": {
   "display_name": "Python 3",
   "language": "python",
   "name": "python3"
  },
  "language_info": {
   "codemirror_mode": {
    "name": "ipython",
    "version": 3
   },
   "file_extension": ".py",
   "mimetype": "text/x-python",
   "name": "python",
   "nbconvert_exporter": "python",
   "pygments_lexer": "ipython3",
   "version": "3.10.5"
  }
 },
 "nbformat": 4,
 "nbformat_minor": 5
}
