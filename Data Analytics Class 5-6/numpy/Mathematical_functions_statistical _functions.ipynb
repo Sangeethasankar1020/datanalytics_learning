{
 "cells": [
  {
   "cell_type": "code",
   "execution_count": 76,
   "id": "90b75013-5e1a-4da5-9b7d-9cc3a52874b5",
   "metadata": {},
   "outputs": [],
   "source": [
    "import numpy as np\n",
    "from numpy import random"
   ]
  },
  {
   "cell_type": "markdown",
   "id": "07b05b8b-0046-4f32-ac8e-2c3a5a5489b6",
   "metadata": {},
   "source": [
    "### Mathematical Functions"
   ]
  },
  {
   "cell_type": "code",
   "execution_count": 79,
   "id": "4255d700-5422-48b4-9e35-72a0240d74a2",
   "metadata": {},
   "outputs": [],
   "source": [
    "arr1=np.array([1,2,3,4,5,6,7])\n",
    "arr2=np.array([6,2,3,4,5])\n",
    "\n",
    "# res=np.add(arr1,arr2)\n",
    "# res\n"
   ]
  },
  {
   "cell_type": "code",
   "execution_count": 81,
   "id": "d8e90ba5-7260-4c26-bb7e-84632125f0f1",
   "metadata": {},
   "outputs": [
    {
     "data": {
      "text/plain": [
       "28"
      ]
     },
     "execution_count": 81,
     "metadata": {},
     "output_type": "execute_result"
    }
   ],
   "source": [
    "sum_arr=np.sum(arr1)\n",
    "sum_arr"
   ]
  },
  {
   "cell_type": "markdown",
   "id": "784b3e2a-8fc7-4ffe-84d1-9495c275e88b",
   "metadata": {},
   "source": [
    "### Statistical functions "
   ]
  },
  {
   "cell_type": "code",
   "execution_count": 84,
   "id": "3bdc6513-84d8-4a0a-821d-9639b4ca0f0e",
   "metadata": {},
   "outputs": [
    {
     "data": {
      "text/plain": [
       "4.0"
      ]
     },
     "execution_count": 84,
     "metadata": {},
     "output_type": "execute_result"
    }
   ],
   "source": [
    "mean_value=np.mean(arr1)\n",
    "mean_value"
   ]
  },
  {
   "cell_type": "code",
   "execution_count": 86,
   "id": "453eb2e3-eff0-4060-b555-ad68a161e533",
   "metadata": {},
   "outputs": [
    {
     "data": {
      "text/plain": [
       "4.0"
      ]
     },
     "execution_count": 86,
     "metadata": {},
     "output_type": "execute_result"
    }
   ],
   "source": [
    "median_value=np.median(arr1)\n",
    "median_value"
   ]
  },
  {
   "cell_type": "code",
   "execution_count": 88,
   "id": "bf1f96c6-cf8a-4b67-abcd-f540a4bf35a7",
   "metadata": {},
   "outputs": [
    {
     "data": {
      "text/plain": [
       "2.0"
      ]
     },
     "execution_count": 88,
     "metadata": {},
     "output_type": "execute_result"
    }
   ],
   "source": [
    "std_value=np.std(arr1)\n",
    "std_value"
   ]
  },
  {
   "cell_type": "code",
   "execution_count": 90,
   "id": "c26670bc-ee0d-4a5d-bc64-f94e565468ea",
   "metadata": {},
   "outputs": [
    {
     "data": {
      "text/plain": [
       "4.0"
      ]
     },
     "execution_count": 90,
     "metadata": {},
     "output_type": "execute_result"
    }
   ],
   "source": [
    "var_value=np.var(arr1)\n",
    "var_value"
   ]
  },
  {
   "cell_type": "code",
   "execution_count": 92,
   "id": "2e709a72-e607-4b7e-97f4-02e30519fa2e",
   "metadata": {},
   "outputs": [
    {
     "data": {
      "text/plain": [
       "1"
      ]
     },
     "execution_count": 92,
     "metadata": {},
     "output_type": "execute_result"
    }
   ],
   "source": [
    "min_value=np.min(arr1)\n",
    "min_value"
   ]
  },
  {
   "cell_type": "code",
   "execution_count": 94,
   "id": "109a37d7-eac7-47b2-bbae-98165ef75cae",
   "metadata": {},
   "outputs": [
    {
     "data": {
      "text/plain": [
       "7"
      ]
     },
     "execution_count": 94,
     "metadata": {},
     "output_type": "execute_result"
    }
   ],
   "source": [
    "max_value=np.max(arr1)\n",
    "max_value"
   ]
  },
  {
   "cell_type": "code",
   "execution_count": 96,
   "id": "c1d85659-aec0-49ca-8706-401a7db118f8",
   "metadata": {},
   "outputs": [
    {
     "data": {
      "text/plain": [
       "5.5"
      ]
     },
     "execution_count": 96,
     "metadata": {},
     "output_type": "execute_result"
    }
   ],
   "source": [
    "percentile_50=np.percentile(arr1,75)\n",
    "percentile_50\n"
   ]
  },
  {
   "cell_type": "code",
   "execution_count": 98,
   "id": "2b2ea9a1-0e9c-4a52-b0e3-1907a46dc7bc",
   "metadata": {},
   "outputs": [
    {
     "data": {
      "text/plain": [
       "5040"
      ]
     },
     "execution_count": 98,
     "metadata": {},
     "output_type": "execute_result"
    }
   ],
   "source": [
    "product=np.prod(arr1)\n",
    "product"
   ]
  },
  {
   "cell_type": "code",
   "execution_count": 100,
   "id": "1d450bf2-1856-459e-840d-204495e7ae96",
   "metadata": {},
   "outputs": [],
   "source": [
    "cum_product=np.cumprod(arr1)"
   ]
  },
  {
   "cell_type": "code",
   "execution_count": 102,
   "id": "aebe6980-a3e2-4753-a46f-a6824c585ef7",
   "metadata": {},
   "outputs": [
    {
     "data": {
      "text/plain": [
       "array([   1,    2,    6,   24,  120,  720, 5040])"
      ]
     },
     "execution_count": 102,
     "metadata": {},
     "output_type": "execute_result"
    }
   ],
   "source": [
    "cum_product"
   ]
  },
  {
   "cell_type": "code",
   "execution_count": 104,
   "id": "1fb56ad6-c04e-4bdd-ba92-72fc9d23da86",
   "metadata": {},
   "outputs": [
    {
     "data": {
      "text/plain": [
       "array([ 1,  3,  6, 10, 15, 21, 28])"
      ]
     },
     "execution_count": 104,
     "metadata": {},
     "output_type": "execute_result"
    }
   ],
   "source": [
    "cum_sum=np.cumsum(arr1)\n",
    "cum_sum"
   ]
  },
  {
   "cell_type": "code",
   "execution_count": 106,
   "id": "ca2392c3-7cdd-45a8-bb3c-4cc4412d9f6b",
   "metadata": {},
   "outputs": [
    {
     "data": {
      "text/plain": [
       "(array([1, 2, 3, 4, 5, 6, 7]), array([1, 1, 1, 1, 1, 1, 1], dtype=int64))"
      ]
     },
     "execution_count": 106,
     "metadata": {},
     "output_type": "execute_result"
    }
   ],
   "source": [
    "count=np.unique(arr1,return_counts=True)\n",
    "count"
   ]
  },
  {
   "cell_type": "markdown",
   "id": "051d072d-3334-4093-b956-3da46cc530e6",
   "metadata": {},
   "source": [
    "### Boolean Operations "
   ]
  },
  {
   "cell_type": "code",
   "execution_count": 109,
   "id": "1888f7ed-bc97-4b30-914a-cd91454d3972",
   "metadata": {},
   "outputs": [],
   "source": [
    "bool_condition=arr1>5"
   ]
  },
  {
   "cell_type": "code",
   "execution_count": 111,
   "id": "3fe02cde-bf56-4d29-adf9-3efe3a13e259",
   "metadata": {},
   "outputs": [
    {
     "data": {
      "text/plain": [
       "array([False, False, False, False, False,  True,  True])"
      ]
     },
     "execution_count": 111,
     "metadata": {},
     "output_type": "execute_result"
    }
   ],
   "source": [
    "bool_condition"
   ]
  },
  {
   "cell_type": "code",
   "execution_count": 113,
   "id": "2761cc53-7b39-4bed-b30f-2a1f5014796f",
   "metadata": {},
   "outputs": [],
   "source": [
    "res=arr1[bool_condition]"
   ]
  },
  {
   "cell_type": "code",
   "execution_count": 115,
   "id": "f7aea511-139b-486f-9b37-c910b7bbdd73",
   "metadata": {},
   "outputs": [
    {
     "data": {
      "text/plain": [
       "array([6, 7])"
      ]
     },
     "execution_count": 115,
     "metadata": {},
     "output_type": "execute_result"
    }
   ],
   "source": [
    "res"
   ]
  },
  {
   "cell_type": "markdown",
   "id": "e94d76f7-aa75-46bb-ae20-787a010f9995",
   "metadata": {},
   "source": [
    "### Random Module "
   ]
  },
  {
   "cell_type": "code",
   "execution_count": 126,
   "id": "debca0de-f265-4a89-afe2-40d2c817605c",
   "metadata": {},
   "outputs": [
    {
     "data": {
      "text/plain": [
       "array([11, 17,  8,  2,  3, 18])"
      ]
     },
     "execution_count": 126,
     "metadata": {},
     "output_type": "execute_result"
    }
   ],
   "source": [
    "arr=random.randint(20,size=(6))\n",
    "arr"
   ]
  },
  {
   "cell_type": "code",
   "execution_count": 140,
   "id": "342dc671-0019-4c15-b302-7529e63d44bb",
   "metadata": {},
   "outputs": [],
   "source": [
    "data=random.randint(low=10,high=100,size=(100)).reshape(10,10)"
   ]
  },
  {
   "cell_type": "code",
   "execution_count": 142,
   "id": "e9c2195b-b3cd-430b-815e-ec73109c2e8d",
   "metadata": {},
   "outputs": [
    {
     "data": {
      "text/plain": [
       "array([[58, 14, 20, 96, 71, 57, 54, 47, 97, 98],\n",
       "       [22, 63, 45, 91, 83, 66, 20, 67, 13, 97],\n",
       "       [72, 80, 27, 32, 84, 47, 42, 35, 10, 49],\n",
       "       [63, 38, 80, 76, 57, 47, 42, 53, 87, 44],\n",
       "       [96, 33, 98, 98, 40, 84, 78, 17, 44, 85],\n",
       "       [75, 13, 87, 83, 33, 42, 64, 20, 94, 13],\n",
       "       [61, 94, 20, 72, 72, 11, 15, 53, 31, 64],\n",
       "       [70, 48, 71, 20, 39, 21, 89, 34, 14, 83],\n",
       "       [11, 92, 93, 98, 19, 97, 46, 17, 14, 68],\n",
       "       [44, 57, 55, 94, 19, 30, 79, 10, 20, 37]])"
      ]
     },
     "execution_count": 142,
     "metadata": {},
     "output_type": "execute_result"
    }
   ],
   "source": [
    "data"
   ]
  },
  {
   "cell_type": "markdown",
   "id": "e38a57fd-57c6-4c12-ae08-82411f90314d",
   "metadata": {},
   "source": [
    "### split stack"
   ]
  },
  {
   "cell_type": "code",
   "execution_count": 192,
   "id": "f977af8e-b38a-443d-81f9-eb3759ec8a0c",
   "metadata": {},
   "outputs": [
    {
     "name": "stdout",
     "output_type": "stream",
     "text": [
      "[array([[1],\n",
      "       [6]]), array([[2],\n",
      "       [7]]), array([[3],\n",
      "       [8]])]\n"
     ]
    }
   ],
   "source": [
    "\n",
    "data = np.array([[1, 2, 3], [6, 7, 8]])\n",
    "res = np.array_split(data, 3, axis=1)\n",
    "print(res)\n"
   ]
  },
  {
   "cell_type": "code",
   "execution_count": 204,
   "id": "c42ac40c-25f9-4e55-a625-02c9e80dbdbb",
   "metadata": {},
   "outputs": [
    {
     "data": {
      "text/plain": [
       "array([[1, 4, 6],\n",
       "       [1, 3, 5]])"
      ]
     },
     "execution_count": 204,
     "metadata": {},
     "output_type": "execute_result"
    }
   ],
   "source": [
    "arr1=np.array([1,4,6])\n",
    "arr2=np.array([1,3,5])\n",
    "\n",
    "res=np.stack((arr1,arr2),axis=0)\n",
    "res"
   ]
  },
  {
   "cell_type": "code",
   "execution_count": 210,
   "id": "35a16885-3541-447a-98e4-f5e711bbc103",
   "metadata": {},
   "outputs": [
    {
     "data": {
      "text/plain": [
       "array([[1, 4, 6],\n",
       "       [1, 3, 5]])"
      ]
     },
     "execution_count": 210,
     "metadata": {},
     "output_type": "execute_result"
    }
   ],
   "source": [
    "res=np.vstack((arr1,arr2))\n",
    "res"
   ]
  },
  {
   "cell_type": "code",
   "execution_count": 212,
   "id": "c1cb6f03-74cb-4ea6-906e-2dc14f3ff746",
   "metadata": {},
   "outputs": [
    {
     "data": {
      "text/plain": [
       "array([1, 4, 6, 1, 3, 5])"
      ]
     },
     "execution_count": 212,
     "metadata": {},
     "output_type": "execute_result"
    }
   ],
   "source": [
    "res=np.hstack((arr1,arr2))\n",
    "res"
   ]
  },
  {
   "cell_type": "code",
   "execution_count": null,
   "id": "269e6b5b-8ebd-40f3-88c0-ec188a5ca059",
   "metadata": {},
   "outputs": [],
   "source": []
  }
 ],
 "metadata": {
  "kernelspec": {
   "display_name": "Python 3 (ipykernel)",
   "language": "python",
   "name": "python3"
  },
  "language_info": {
   "codemirror_mode": {
    "name": "ipython",
    "version": 3
   },
   "file_extension": ".py",
   "mimetype": "text/x-python",
   "name": "python",
   "nbconvert_exporter": "python",
   "pygments_lexer": "ipython3",
   "version": "3.12.4"
  }
 },
 "nbformat": 4,
 "nbformat_minor": 5
}
