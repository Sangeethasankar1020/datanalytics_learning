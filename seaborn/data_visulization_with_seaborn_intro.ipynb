{
 "cells": [
  {
   "cell_type": "markdown",
   "id": "dd604110-c96d-4d29-8e28-20e924e9ca7e",
   "metadata": {},
   "source": [
    "### What is seaborn  "
   ]
  },
  {
   "cell_type": "markdown",
   "id": "3a00b501-22f4-4322-97c4-1797d59e67fc",
   "metadata": {},
   "source": [
    "Seaborn is an amazing python vizualization library built on top of matplotlib. It gives us the create amplified data visuals.This helps us understand the data by displaying it in a visual context to unearth any hidden correlation between variables or trends that might not be obvious initially."
   ]
  },
  {
   "cell_type": "markdown",
   "id": "94c16c3c-aceb-419e-b9ff-dc9cddc98862",
   "metadata": {},
   "source": [
    "Seaborn has a high- level interface as compared to the low level of Matplotlib."
   ]
  },
  {
   "cell_type": "markdown",
   "id": "e8ae7dda-58e1-4414-a4a8-0c5f0dd36463",
   "metadata": {},
   "source": [
    "### why should you use Seaborn versus matplotlib"
   ]
  },
  {
   "cell_type": "markdown",
   "id": "62e0c6c9-9092-4e87-8f85-953449d85b98",
   "metadata": {},
   "source": [
    "Seaborn makes our charts and plots look engaging and enables some of the common data visualiztion needs (like mapping color into a variables or using facting).\n",
    "Basically , it makes the data visualization and exploration easy to conquer.And trust me, that is no easy task in data science"
   ]
  },
  {
   "cell_type": "markdown",
   "id": "18a829c2-dc55-46bd-95fd-5bf491740fb5",
   "metadata": {},
   "source": [
    "If Matplotlib \"tries to make easy things easy and hard things possible\". seaborn tries to make a well-defined set of hard things easy too - Michael Waskom (creator of seaborn)."
   ]
  },
  {
   "cell_type": "markdown",
   "id": "eeb5cad8-ed5f-4c18-8cf6-eb840d3469a8",
   "metadata": {},
   "source": [
    "- seaborn comes with a large number of high level interface and customised themes that matplotlib lacks as it's not easy to figure out the settings that make plots attrative\n",
    "- matplotlib functions don't work well with datafames, where seaborn does"
   ]
  }
 ],
 "metadata": {
  "kernelspec": {
   "display_name": "Python 3 (ipykernel)",
   "language": "python",
   "name": "python3"
  },
  "language_info": {
   "codemirror_mode": {
    "name": "ipython",
    "version": 3
   },
   "file_extension": ".py",
   "mimetype": "text/x-python",
   "name": "python",
   "nbconvert_exporter": "python",
   "pygments_lexer": "ipython3",
   "version": "3.12.4"
  }
 },
 "nbformat": 4,
 "nbformat_minor": 5
}
