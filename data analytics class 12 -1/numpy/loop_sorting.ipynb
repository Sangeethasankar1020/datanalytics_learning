{
 "cells": [
  {
   "cell_type": "markdown",
   "id": "66b028d3-1230-4a11-a633-67427c35ddeb",
   "metadata": {},
   "source": [
    "# Looping"
   ]
  },
  {
   "cell_type": "code",
   "execution_count": 2,
   "id": "d111af8c-ae25-419e-81a8-1f5ef0e27683",
   "metadata": {},
   "outputs": [],
   "source": [
    "import numpy as np"
   ]
  },
  {
   "cell_type": "code",
   "execution_count": 6,
   "id": "54af043f-724b-472c-8732-806dcbc388a8",
   "metadata": {},
   "outputs": [
    {
     "name": "stdout",
     "output_type": "stream",
     "text": [
      "1\n",
      "2\n",
      "3\n",
      "4\n",
      "5\n"
     ]
    }
   ],
   "source": [
    "arr=np.array([1,2,3,4,5])\n",
    "\n",
    "for i in arr:\n",
    "    print(i)"
   ]
  },
  {
   "cell_type": "code",
   "execution_count": 8,
   "id": "14beb9ff-904f-4517-a322-c05102894515",
   "metadata": {},
   "outputs": [
    {
     "name": "stdout",
     "output_type": "stream",
     "text": [
      "[1 2 4]\n",
      "[5 6 7]\n"
     ]
    }
   ],
   "source": [
    "arr1=np.array([[1,2,4],[5,6,7]])\n",
    "\n",
    "for i in arr1:\n",
    "    print(i)"
   ]
  },
  {
   "cell_type": "code",
   "execution_count": 10,
   "id": "8f1dcbef-9235-4351-8347-ff5bc8e49452",
   "metadata": {},
   "outputs": [
    {
     "name": "stdout",
     "output_type": "stream",
     "text": [
      "1\n",
      "2\n",
      "4\n",
      "5\n",
      "6\n",
      "7\n"
     ]
    }
   ],
   "source": [
    "for i in arr1:\n",
    "    for j in i:\n",
    "        print(j)"
   ]
  },
  {
   "cell_type": "code",
   "execution_count": 12,
   "id": "0b73962d-e07d-4dbe-bf0b-4c4eb3a2043d",
   "metadata": {},
   "outputs": [
    {
     "name": "stdout",
     "output_type": "stream",
     "text": [
      "1\n",
      "2\n",
      "4\n",
      "5\n",
      "6\n",
      "7\n"
     ]
    }
   ],
   "source": [
    "for i in np.nditer(arr1):\n",
    "    print(i)"
   ]
  },
  {
   "cell_type": "code",
   "execution_count": 16,
   "id": "58919723-95e6-4f38-ab99-d6a129c8fcdd",
   "metadata": {},
   "outputs": [
    {
     "name": "stdout",
     "output_type": "stream",
     "text": [
      "[[1 2 4]\n",
      " [5 6 7]]\n",
      "[[1 2 3]\n",
      " [9 8 7]]\n"
     ]
    }
   ],
   "source": [
    "arr2=np.array([[[1,2,4],[5,6,7]],[[1,2,3],[9,8,7]]])\n",
    "\n",
    "for i in arr2:\n",
    "    print(i)"
   ]
  },
  {
   "cell_type": "code",
   "execution_count": 18,
   "id": "3a5d5903-3509-44cf-b755-6e8273889ed7",
   "metadata": {},
   "outputs": [
    {
     "name": "stdout",
     "output_type": "stream",
     "text": [
      "1\n",
      "2\n",
      "4\n",
      "5\n",
      "6\n",
      "7\n",
      "1\n",
      "2\n",
      "3\n",
      "9\n",
      "8\n",
      "7\n"
     ]
    }
   ],
   "source": [
    "for i in arr2:\n",
    "    for j in i:\n",
    "        for k in j:\n",
    "            print(k)"
   ]
  },
  {
   "cell_type": "code",
   "execution_count": 20,
   "id": "e220728e-21c0-4c66-87b8-24965ee87651",
   "metadata": {},
   "outputs": [
    {
     "name": "stdout",
     "output_type": "stream",
     "text": [
      "1\n",
      "2\n",
      "4\n",
      "5\n",
      "6\n",
      "7\n",
      "1\n",
      "2\n",
      "3\n",
      "9\n",
      "8\n",
      "7\n"
     ]
    }
   ],
   "source": [
    "for i in np.nditer(arr2):\n",
    "    print(i)"
   ]
  },
  {
   "cell_type": "code",
   "execution_count": 22,
   "id": "c9f49aac-5eec-414e-b01e-256b67ec5bb1",
   "metadata": {},
   "outputs": [],
   "source": [
    "#data types"
   ]
  },
  {
   "cell_type": "code",
   "execution_count": 24,
   "id": "1a83ff9f-8d3a-4621-833b-3ce537751ae8",
   "metadata": {},
   "outputs": [
    {
     "data": {
      "text/plain": [
       "dtype('int32')"
      ]
     },
     "execution_count": 24,
     "metadata": {},
     "output_type": "execute_result"
    }
   ],
   "source": [
    "arr=np.array([1,2,34,8])\n",
    "\n",
    "arr.dtype"
   ]
  },
  {
   "cell_type": "code",
   "execution_count": 29,
   "id": "b667734c-6022-4317-9ade-7c8c43dc7538",
   "metadata": {},
   "outputs": [],
   "source": [
    "#different data types"
   ]
  },
  {
   "cell_type": "code",
   "execution_count": 33,
   "id": "0cb3cd5b-f006-4c0c-966e-e117989d15f0",
   "metadata": {},
   "outputs": [
    {
     "name": "stdout",
     "output_type": "stream",
     "text": [
      "b'1'\n",
      "b'2'\n",
      "b'34'\n",
      "b'8'\n"
     ]
    }
   ],
   "source": [
    "for i in np.nditer(arr,flags=[\"buffered\"],op_dtypes=[\"S\"]):\n",
    "    print(i)"
   ]
  },
  {
   "cell_type": "code",
   "execution_count": 35,
   "id": "934727ef-bd23-4431-88f3-fb5b4784e034",
   "metadata": {},
   "outputs": [],
   "source": [
    "#enumerator - coordinator "
   ]
  },
  {
   "cell_type": "code",
   "execution_count": 39,
   "id": "8b81cb9d-37e0-420d-a80e-e21fd9cdea14",
   "metadata": {},
   "outputs": [
    {
     "name": "stdout",
     "output_type": "stream",
     "text": [
      "((0,), 1)\n",
      "((1,), 2)\n",
      "((2,), 34)\n",
      "((3,), 8)\n"
     ]
    }
   ],
   "source": [
    "for i in np.ndenumerate(arr):\n",
    "    print(i)"
   ]
  },
  {
   "cell_type": "code",
   "execution_count": 41,
   "id": "9b3830a5-f664-4cb9-b847-62b05996a8ae",
   "metadata": {},
   "outputs": [
    {
     "name": "stdout",
     "output_type": "stream",
     "text": [
      "(0,) 1\n",
      "(1,) 2\n",
      "(2,) 34\n",
      "(3,) 8\n"
     ]
    }
   ],
   "source": [
    "for i ,j in np.ndenumerate(arr):\n",
    "    print(i,j)"
   ]
  },
  {
   "cell_type": "markdown",
   "id": "1f6b170e-e2e8-4d9f-b915-96e2704b91c5",
   "metadata": {},
   "source": [
    "# Sorting "
   ]
  },
  {
   "cell_type": "code",
   "execution_count": 72,
   "id": "42dc053d-1b94-445a-b88f-1031236155f2",
   "metadata": {},
   "outputs": [],
   "source": [
    "arr=np.array([37,9,3,1,2,1,7,8,9,21,-1,0])\n",
    "sorted1=np.sort(arr)\n"
   ]
  },
  {
   "cell_type": "code",
   "execution_count": 74,
   "id": "0ce1329c-6288-4dac-85c2-8051f6429c3d",
   "metadata": {},
   "outputs": [
    {
     "data": {
      "text/plain": [
       "array([-1,  0,  1,  1,  2,  3,  7,  8,  9,  9, 21, 37])"
      ]
     },
     "execution_count": 74,
     "metadata": {},
     "output_type": "execute_result"
    }
   ],
   "source": [
    "sorted1"
   ]
  },
  {
   "cell_type": "code",
   "execution_count": 76,
   "id": "5bfae02a-1d7b-4274-ad66-41568fa55530",
   "metadata": {},
   "outputs": [
    {
     "data": {
      "text/plain": [
       "array(['A', 'B', 'C', 'D', 'E'], dtype='<U1')"
      ]
     },
     "execution_count": 76,
     "metadata": {},
     "output_type": "execute_result"
    }
   ],
   "source": [
    "sorted"
   ]
  },
  {
   "cell_type": "code",
   "execution_count": 78,
   "id": "ce0e0599-ad05-43a6-b50b-743d4db2170e",
   "metadata": {},
   "outputs": [
    {
     "data": {
      "text/plain": [
       "array([37,  9,  3,  1,  2,  1,  7,  8,  9, 21, -1,  0])"
      ]
     },
     "execution_count": 78,
     "metadata": {},
     "output_type": "execute_result"
    }
   ],
   "source": [
    "arr"
   ]
  },
  {
   "cell_type": "code",
   "execution_count": 54,
   "id": "9704c0fe-b415-4b56-8e72-5f812a8d0041",
   "metadata": {},
   "outputs": [
    {
     "data": {
      "text/plain": [
       "array(['A', 'B', 'C', 'D', 'E'], dtype='<U1')"
      ]
     },
     "execution_count": 54,
     "metadata": {},
     "output_type": "execute_result"
    }
   ],
   "source": [
    "# arg sort\n",
    "\n",
    "arr1=np.array([1,3,2,4,5])\n",
    "indices=np.argsort(arr1)\n",
    "\n",
    "arr2=np.array([\"A\",\"C\",\"B\",\"D\",\"E\"])\n",
    "sorted=arr2[indices]\n",
    "sorted"
   ]
  },
  {
   "cell_type": "code",
   "execution_count": 58,
   "id": "baa5e48a-2262-41eb-b1e9-73934bf2e9cc",
   "metadata": {},
   "outputs": [],
   "source": [
    "#inplace"
   ]
  },
  {
   "cell_type": "code",
   "execution_count": 80,
   "id": "e4627714-d6f6-4a9a-906e-41a2b7402649",
   "metadata": {},
   "outputs": [],
   "source": [
    "arr=np.array([37,9,3,1,2,1,7,8,9,21,-1,0])"
   ]
  },
  {
   "cell_type": "code",
   "execution_count": 82,
   "id": "f5400f8b-0125-4120-9902-3e4598e3ef9f",
   "metadata": {},
   "outputs": [],
   "source": [
    "arr.sort()"
   ]
  },
  {
   "cell_type": "code",
   "execution_count": 84,
   "id": "c27b996c-307d-49b7-82aa-9d173c3baed3",
   "metadata": {},
   "outputs": [
    {
     "data": {
      "text/plain": [
       "array([-1,  0,  1,  1,  2,  3,  7,  8,  9,  9, 21, 37])"
      ]
     },
     "execution_count": 84,
     "metadata": {},
     "output_type": "execute_result"
    }
   ],
   "source": [
    "arr"
   ]
  },
  {
   "cell_type": "markdown",
   "id": "8f363396-8241-4040-90c9-625e4d43a28f",
   "metadata": {},
   "source": [
    "# Data types"
   ]
  },
  {
   "cell_type": "code",
   "execution_count": 98,
   "id": "27f88fe1-c683-4423-bbf3-198f0658a9ad",
   "metadata": {},
   "outputs": [
    {
     "name": "stdout",
     "output_type": "stream",
     "text": [
      "int32\n"
     ]
    }
   ],
   "source": [
    "arr=np.array([1,22,2,22])\n",
    "print(arr.dtype)"
   ]
  },
  {
   "cell_type": "code",
   "execution_count": null,
   "id": "e0459ef5-8f2a-4431-b0ab-63c46713eca8",
   "metadata": {},
   "outputs": [],
   "source": [
    "#creat with different datatype"
   ]
  },
  {
   "cell_type": "code",
   "execution_count": 104,
   "id": "a33cb1c3-744f-4173-81df-75e729b2caef",
   "metadata": {},
   "outputs": [
    {
     "name": "stdout",
     "output_type": "stream",
     "text": [
      "|S1\n"
     ]
    }
   ],
   "source": [
    "arr1=np.array([1,2,4,5],dtype=\"S\")\n",
    "print(arr1.dtype)"
   ]
  },
  {
   "cell_type": "code",
   "execution_count": 110,
   "id": "4c738620-474f-4ac7-88a4-dc562280e1e4",
   "metadata": {},
   "outputs": [],
   "source": [
    "#convert one data type to another type"
   ]
  },
  {
   "cell_type": "code",
   "execution_count": 112,
   "id": "9554fa35-dc89-4eff-96cc-32feb541fe9f",
   "metadata": {},
   "outputs": [
    {
     "data": {
      "text/plain": [
       "array([2, 4, 7])"
      ]
     },
     "execution_count": 112,
     "metadata": {},
     "output_type": "execute_result"
    }
   ],
   "source": [
    "arr2=np.array([2.3,4.6,7.8])\n",
    "new_arr=arr2.astype(int)\n",
    "new_arr"
   ]
  },
  {
   "cell_type": "code",
   "execution_count": 114,
   "id": "c831ac97-9c0d-41b4-bb26-a5512a92f57e",
   "metadata": {},
   "outputs": [
    {
     "data": {
      "text/plain": [
       "dtype('int32')"
      ]
     },
     "execution_count": 114,
     "metadata": {},
     "output_type": "execute_result"
    }
   ],
   "source": [
    "new_arr.dtype"
   ]
  },
  {
   "cell_type": "code",
   "execution_count": null,
   "id": "3fc3b7aa-844e-4354-aecf-ecab8e5993aa",
   "metadata": {},
   "outputs": [],
   "source": []
  }
 ],
 "metadata": {
  "kernelspec": {
   "display_name": "Python 3 (ipykernel)",
   "language": "python",
   "name": "python3"
  },
  "language_info": {
   "codemirror_mode": {
    "name": "ipython",
    "version": 3
   },
   "file_extension": ".py",
   "mimetype": "text/x-python",
   "name": "python",
   "nbconvert_exporter": "python",
   "pygments_lexer": "ipython3",
   "version": "3.12.4"
  }
 },
 "nbformat": 4,
 "nbformat_minor": 5
}
