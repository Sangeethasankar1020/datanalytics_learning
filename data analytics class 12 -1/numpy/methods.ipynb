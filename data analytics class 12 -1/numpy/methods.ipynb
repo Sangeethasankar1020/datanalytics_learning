{
 "cells": [
  {
   "cell_type": "markdown",
   "id": "3d3bc114-3d41-40f1-ae0b-851c92a5f657",
   "metadata": {},
   "source": [
    "# Numpy Methods "
   ]
  },
  {
   "cell_type": "code",
   "execution_count": 22,
   "id": "f50c9601-8ee7-4436-8cbb-13066f72aa9c",
   "metadata": {},
   "outputs": [],
   "source": [
    "import numpy as np"
   ]
  },
  {
   "cell_type": "markdown",
   "id": "10da3e68-c677-4f25-afab-eccae4db7828",
   "metadata": {},
   "source": [
    "###  Copy"
   ]
  },
  {
   "cell_type": "code",
   "execution_count": 24,
   "id": "d5209fe0-c0ce-41bb-8dba-0714f7699612",
   "metadata": {},
   "outputs": [],
   "source": [
    "arr=np.array([1,2,3,4,5,6,9])\n",
    "\n",
    "new_arr=arr.copy()"
   ]
  },
  {
   "cell_type": "code",
   "execution_count": 25,
   "id": "99fff10e-15fb-4666-8f86-f9277372afc6",
   "metadata": {},
   "outputs": [
    {
     "data": {
      "text/plain": [
       "array([1, 2, 3, 4, 5, 6, 9])"
      ]
     },
     "execution_count": 25,
     "metadata": {},
     "output_type": "execute_result"
    }
   ],
   "source": [
    "new_arr"
   ]
  },
  {
   "cell_type": "code",
   "execution_count": 26,
   "id": "e3a5db2e-262d-465a-99ac-6ff90bcc0df7",
   "metadata": {},
   "outputs": [
    {
     "data": {
      "text/plain": [
       "array([12,  2,  3,  4,  5,  6,  9])"
      ]
     },
     "execution_count": 26,
     "metadata": {},
     "output_type": "execute_result"
    }
   ],
   "source": [
    "new_arr[0]=12\n",
    "new_arr"
   ]
  },
  {
   "cell_type": "code",
   "execution_count": 27,
   "id": "56359519-c289-486c-8bce-6c26166dfca4",
   "metadata": {},
   "outputs": [
    {
     "data": {
      "text/plain": [
       "array([1, 2, 3, 4, 5, 6, 9])"
      ]
     },
     "execution_count": 27,
     "metadata": {},
     "output_type": "execute_result"
    }
   ],
   "source": [
    "arr"
   ]
  },
  {
   "cell_type": "markdown",
   "id": "0e512115-bf6c-460e-a78a-7704b67a39b8",
   "metadata": {},
   "source": [
    "### View"
   ]
  },
  {
   "cell_type": "code",
   "execution_count": 29,
   "id": "2aca938f-a5c5-4b24-98d6-21cd8e1d8c4a",
   "metadata": {},
   "outputs": [],
   "source": [
    "arr1=np.array([1,2,3,5])"
   ]
  },
  {
   "cell_type": "code",
   "execution_count": 30,
   "id": "53150b2c-4074-4944-ae11-016f7ea89d8e",
   "metadata": {},
   "outputs": [
    {
     "data": {
      "text/plain": [
       "array([22,  2,  3,  5])"
      ]
     },
     "execution_count": 30,
     "metadata": {},
     "output_type": "execute_result"
    }
   ],
   "source": [
    "new_view=arr1.view()\n",
    "new_view[0]=22\n",
    "new_view\n"
   ]
  },
  {
   "cell_type": "code",
   "execution_count": 31,
   "id": "6a230604-a72f-474d-8c25-62713affbc3b",
   "metadata": {},
   "outputs": [
    {
     "data": {
      "text/plain": [
       "array([22,  2,  3,  5])"
      ]
     },
     "execution_count": 31,
     "metadata": {},
     "output_type": "execute_result"
    }
   ],
   "source": [
    "arr1"
   ]
  },
  {
   "cell_type": "markdown",
   "id": "9642a09d-5e8c-4c65-ad11-c8dd9e6a973b",
   "metadata": {},
   "source": [
    "### Shape "
   ]
  },
  {
   "cell_type": "code",
   "execution_count": 33,
   "id": "ae110ae8-e0cb-4ae7-965e-86f7ff1509bd",
   "metadata": {},
   "outputs": [
    {
     "data": {
      "text/plain": [
       "(2, 4)"
      ]
     },
     "execution_count": 33,
     "metadata": {},
     "output_type": "execute_result"
    }
   ],
   "source": [
    "arr3=np.array([[1,2,3,4],[5,6,7,8]])\n",
    "arr3.shape"
   ]
  },
  {
   "cell_type": "code",
   "execution_count": 34,
   "id": "bdc11e9d-f767-49d3-ace7-ba62a65faa0f",
   "metadata": {},
   "outputs": [],
   "source": [
    "# to create a ndim array"
   ]
  },
  {
   "cell_type": "code",
   "execution_count": 35,
   "id": "9e7844e3-3605-4704-bc8f-4a3cac04784b",
   "metadata": {},
   "outputs": [],
   "source": [
    "# arr4=np.array([1,2,3,4],ndim=5)\n",
    "# arr4\n"
   ]
  },
  {
   "cell_type": "markdown",
   "id": "5296f4d1-f982-4e08-90d8-9ea9a51852b8",
   "metadata": {},
   "source": [
    "###  Reshape"
   ]
  },
  {
   "cell_type": "code",
   "execution_count": 37,
   "id": "03c1ddc3-1e80-493c-b883-fc421d015bcb",
   "metadata": {},
   "outputs": [
    {
     "name": "stdout",
     "output_type": "stream",
     "text": [
      "[[1 2]\n",
      " [3 4]]\n"
     ]
    }
   ],
   "source": [
    "arr4 = np.array([1, 2, 3, 4]).reshape(2,2)\n",
    "print(arr4)"
   ]
  },
  {
   "cell_type": "markdown",
   "id": "8ba10b74-9ad9-4f43-97db-bca66a022604",
   "metadata": {},
   "source": [
    "### Arange "
   ]
  },
  {
   "cell_type": "code",
   "execution_count": 39,
   "id": "35ee9a42-4166-40d3-828d-ae40abaa3df4",
   "metadata": {},
   "outputs": [
    {
     "data": {
      "text/plain": [
       "array([1, 2, 3, 4, 5, 6, 7, 8, 9])"
      ]
     },
     "execution_count": 39,
     "metadata": {},
     "output_type": "execute_result"
    }
   ],
   "source": [
    "arr5=np.arange(1,10)\n",
    "arr5"
   ]
  },
  {
   "cell_type": "code",
   "execution_count": 40,
   "id": "a4408d9c-4769-405c-8137-90cc05809fe0",
   "metadata": {},
   "outputs": [
    {
     "data": {
      "text/plain": [
       "array([ 1,  6, 11, 16, 21, 26, 31, 36, 41, 46])"
      ]
     },
     "execution_count": 40,
     "metadata": {},
     "output_type": "execute_result"
    }
   ],
   "source": [
    "arr7=np.arange(1,50,5)\n",
    "arr7"
   ]
  },
  {
   "cell_type": "code",
   "execution_count": 41,
   "id": "149e597d-3e86-4154-8e53-55b6fa023bb5",
   "metadata": {},
   "outputs": [
    {
     "data": {
      "text/plain": [
       "10"
      ]
     },
     "execution_count": 41,
     "metadata": {},
     "output_type": "execute_result"
    }
   ],
   "source": [
    "arr7.size"
   ]
  },
  {
   "cell_type": "code",
   "execution_count": 42,
   "id": "825f0cce-117d-4356-a55b-89d218b3e3c5",
   "metadata": {},
   "outputs": [
    {
     "data": {
      "text/plain": [
       "4"
      ]
     },
     "execution_count": 42,
     "metadata": {},
     "output_type": "execute_result"
    }
   ],
   "source": [
    "arr7.itemsize"
   ]
  },
  {
   "cell_type": "markdown",
   "id": "d4129df0-aa38-40bf-89da-658c94595dcd",
   "metadata": {},
   "source": [
    "### linespace"
   ]
  },
  {
   "cell_type": "code",
   "execution_count": 44,
   "id": "cda59eee-84f6-4bc2-b071-ea08ca84b9ba",
   "metadata": {},
   "outputs": [
    {
     "data": {
      "text/plain": [
       "array([0.  , 0.25, 0.5 , 0.75, 1.  ])"
      ]
     },
     "execution_count": 44,
     "metadata": {},
     "output_type": "execute_result"
    }
   ],
   "source": [
    "arr=np.linspace(0,1,5)\n",
    "arr"
   ]
  },
  {
   "cell_type": "markdown",
   "id": "267c99d2-0685-4c71-bfa6-b7f8980150f7",
   "metadata": {},
   "source": [
    "### Concatenate "
   ]
  },
  {
   "cell_type": "code",
   "execution_count": 46,
   "id": "0a4f01c9-8bd5-4f63-a71b-621c114ce33f",
   "metadata": {},
   "outputs": [
    {
     "data": {
      "text/plain": [
       "array([1, 2, 3, 4, 5, 6, 7, 8])"
      ]
     },
     "execution_count": 46,
     "metadata": {},
     "output_type": "execute_result"
    }
   ],
   "source": [
    "arr1=np.array([1,2,3,4])\n",
    "arr2=np.array([5,6,7,8])\n",
    "\n",
    "res=np.concatenate((arr1,arr2))\n",
    "res"
   ]
  },
  {
   "cell_type": "code",
   "execution_count": 47,
   "id": "71b3c7ce-9d12-49d5-9a50-6bac2500bf4b",
   "metadata": {},
   "outputs": [
    {
     "data": {
      "text/plain": [
       "array([[1, 2, 3, 4],\n",
       "       [3, 4, 5, 6],\n",
       "       [5, 6, 7, 8],\n",
       "       [1, 2, 3, 4]])"
      ]
     },
     "execution_count": 47,
     "metadata": {},
     "output_type": "execute_result"
    }
   ],
   "source": [
    "arr1=np.array([[1,2,3,4],[3,4,5,6]])\n",
    "arr2=np.array([[5,6,7,8],[1,2,3,4]])\n",
    "\n",
    "res=np.concatenate((arr1,arr2),axis=0)\n",
    "res"
   ]
  },
  {
   "cell_type": "code",
   "execution_count": 48,
   "id": "f1948ad1-a6e1-4c1f-997d-188a048c03ca",
   "metadata": {},
   "outputs": [],
   "source": [
    "#axis - 0 column , axis - 1 row"
   ]
  },
  {
   "cell_type": "markdown",
   "id": "f0933ccf-ad51-4e2b-a9cd-ede4c317492f",
   "metadata": {},
   "source": [
    "### Arithmetic operations "
   ]
  },
  {
   "cell_type": "code",
   "execution_count": 50,
   "id": "40eecdc4-532a-4023-bc71-e8891b7caca1",
   "metadata": {},
   "outputs": [
    {
     "data": {
      "text/plain": [
       "array([11, 12, 13, 14])"
      ]
     },
     "execution_count": 50,
     "metadata": {},
     "output_type": "execute_result"
    }
   ],
   "source": [
    "arr1=np.array([1,2,3,4])\n",
    "arr2=np.array([5,6,7,8])\n",
    "\n",
    "arr1+arr2\n",
    "arr1-arr2\n",
    "arr1*arr2\n",
    "arr1/arr2\n",
    "\n",
    "arr1+10"
   ]
  },
  {
   "cell_type": "code",
   "execution_count": null,
   "id": "4c6ea898-1849-40a7-8a5d-199b27879137",
   "metadata": {},
   "outputs": [],
   "source": []
  }
 ],
 "metadata": {
  "kernelspec": {
   "display_name": "Python 3 (ipykernel)",
   "language": "python",
   "name": "python3"
  },
  "language_info": {
   "codemirror_mode": {
    "name": "ipython",
    "version": 3
   },
   "file_extension": ".py",
   "mimetype": "text/x-python",
   "name": "python",
   "nbconvert_exporter": "python",
   "pygments_lexer": "ipython3",
   "version": "3.12.4"
  }
 },
 "nbformat": 4,
 "nbformat_minor": 5
}
