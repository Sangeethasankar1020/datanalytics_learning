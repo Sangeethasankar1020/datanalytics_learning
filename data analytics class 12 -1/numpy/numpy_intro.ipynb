{
 "cells": [
  {
   "cell_type": "markdown",
   "id": "034f7067-0674-426c-bf5e-8d2a11e5a760",
   "metadata": {},
   "source": [
    "# Numpy"
   ]
  },
  {
   "cell_type": "code",
   "execution_count": 9,
   "id": "3431c3fa-27f8-436b-bd7e-741dee62793d",
   "metadata": {},
   "outputs": [
    {
     "name": "stdout",
     "output_type": "stream",
     "text": [
      "Requirement already satisfied: numpy in c:\\users\\dell 4\\anaconda3\\lib\\site-packages (1.26.4)\n",
      "Note: you may need to restart the kernel to use updated packages.\n"
     ]
    }
   ],
   "source": [
    "pip install numpy"
   ]
  },
  {
   "cell_type": "code",
   "execution_count": 11,
   "id": "0231c3ca-041c-4a0c-91f4-bb80ead5d3d1",
   "metadata": {},
   "outputs": [],
   "source": [
    "import numpy as np"
   ]
  },
  {
   "cell_type": "code",
   "execution_count": 13,
   "id": "fcc791d9-eb77-4dce-9ef5-bac4b6b069d6",
   "metadata": {},
   "outputs": [],
   "source": [
    "#zero dimensional"
   ]
  },
  {
   "cell_type": "code",
   "execution_count": 15,
   "id": "7afff617-5c2f-407d-8bb8-fefee66f6006",
   "metadata": {},
   "outputs": [],
   "source": [
    "zero_dim=np.array(4)"
   ]
  },
  {
   "cell_type": "code",
   "execution_count": 17,
   "id": "c2627977-03a0-4d64-8d0f-7dff87bda426",
   "metadata": {},
   "outputs": [
    {
     "data": {
      "text/plain": [
       "array(4)"
      ]
     },
     "execution_count": 17,
     "metadata": {},
     "output_type": "execute_result"
    }
   ],
   "source": [
    "zero_dim"
   ]
  },
  {
   "cell_type": "code",
   "execution_count": 19,
   "id": "71138987-3e7d-45cf-bbc1-fa339b1da12f",
   "metadata": {},
   "outputs": [
    {
     "data": {
      "text/plain": [
       "0"
      ]
     },
     "execution_count": 19,
     "metadata": {},
     "output_type": "execute_result"
    }
   ],
   "source": [
    "zero_dim.ndim"
   ]
  },
  {
   "cell_type": "code",
   "execution_count": 21,
   "id": "2541c7a0-808d-4b87-bcb1-04288c4f1987",
   "metadata": {},
   "outputs": [],
   "source": [
    "#one dimesional"
   ]
  },
  {
   "cell_type": "code",
   "execution_count": 106,
   "id": "6f904482-2e8a-40e0-ba30-ebde1cf5dfe4",
   "metadata": {},
   "outputs": [
    {
     "name": "stdout",
     "output_type": "stream",
     "text": [
      "dim 1\n",
      "index 3\n",
      "[ 2  3 45]\n",
      "[ 3 45 40]\n"
     ]
    }
   ],
   "source": [
    "one_dim=np.array([1,2,3,45,40])\n",
    "print(\"dim\",one_dim.ndim)\n",
    "print(\"index\",one_dim[2])\n",
    "\n",
    "#slicing\n",
    "print(one_dim[1:4])\n",
    "\n",
    "#negative slicing\n",
    "print(one_dim[-3:])"
   ]
  },
  {
   "cell_type": "code",
   "execution_count": 25,
   "id": "bd92d9ca-fa22-4303-8b75-a73aad79c062",
   "metadata": {},
   "outputs": [],
   "source": [
    "#two dimensional"
   ]
  },
  {
   "cell_type": "code",
   "execution_count": 116,
   "id": "a8d9bbe6-68b8-418d-b1dc-081d5c93cc1b",
   "metadata": {},
   "outputs": [
    {
     "name": "stdout",
     "output_type": "stream",
     "text": [
      "dim 2\n",
      "index 2\n",
      "index 5\n",
      "index 6\n",
      "[2 4]\n"
     ]
    }
   ],
   "source": [
    "two_dim=np.array([[1,2,4],[5,6,7]])\n",
    "print(\"dim\",two_dim.ndim)\n",
    "print(\"index\",two_dim[0,1])\n",
    "print(\"index\",two_dim[1,0])\n",
    "\n",
    "# negative indexing \n",
    "print(\"index\",two_dim[1,-2])\n",
    "\n",
    "#slicing\n",
    "print(two_dim[0,1:])"
   ]
  },
  {
   "cell_type": "code",
   "execution_count": 31,
   "id": "6c0f01d5-2472-4417-97c2-a3a0aa680707",
   "metadata": {},
   "outputs": [],
   "source": [
    "#three dimensional array"
   ]
  },
  {
   "cell_type": "code",
   "execution_count": 118,
   "id": "b873534f-900a-4356-97aa-388f75b0fe4e",
   "metadata": {},
   "outputs": [
    {
     "name": "stdout",
     "output_type": "stream",
     "text": [
      "dim 3\n",
      "index 1\n",
      "index 4\n",
      "index 2\n",
      "index 5\n",
      "[2 3]\n"
     ]
    }
   ],
   "source": [
    "three_dim=np.array([[[1,2,3],[4,5,6]],[[2,3,4],[5,6,7]]])\n",
    "print(\"dim\",three_dim.ndim)\n",
    "print(\"index\",three_dim[0,0,0])\n",
    "print(\"index\",three_dim[0,1,0])\n",
    "print(\"index\",three_dim[1,0,0])\n",
    "print(\"index\",three_dim[1,1,0])\n",
    "\n",
    "#slicing\n",
    "print(three_dim[0,0,1:])"
   ]
  },
  {
   "cell_type": "code",
   "execution_count": 37,
   "id": "6b7e87bf-1dd2-4fa6-9a12-4acf9a06e1cb",
   "metadata": {},
   "outputs": [],
   "source": [
    "#function creation"
   ]
  },
  {
   "cell_type": "code",
   "execution_count": 46,
   "id": "26396ec5-b209-48db-a94b-df6fa4dc44d6",
   "metadata": {},
   "outputs": [],
   "source": [
    "#identity"
   ]
  },
  {
   "cell_type": "code",
   "execution_count": 48,
   "id": "e5619e91-7e74-4921-b275-fce62cb1edf4",
   "metadata": {},
   "outputs": [
    {
     "data": {
      "text/plain": [
       "array([[1., 0., 0.],\n",
       "       [0., 1., 0.],\n",
       "       [0., 0., 1.]])"
      ]
     },
     "execution_count": 48,
     "metadata": {},
     "output_type": "execute_result"
    }
   ],
   "source": [
    "identity_arr=np.identity(3)\n",
    "identity_arr"
   ]
  },
  {
   "cell_type": "code",
   "execution_count": 50,
   "id": "ff210635-4a29-4a2a-9eec-f2aecf149831",
   "metadata": {},
   "outputs": [],
   "source": [
    "#zeros"
   ]
  },
  {
   "cell_type": "code",
   "execution_count": 58,
   "id": "b7fa652e-f080-47f6-b07d-1d7c7b31ef84",
   "metadata": {},
   "outputs": [
    {
     "data": {
      "text/plain": [
       "array([[0., 0., 0.],\n",
       "       [0., 0., 0.],\n",
       "       [0., 0., 0.]])"
      ]
     },
     "execution_count": 58,
     "metadata": {},
     "output_type": "execute_result"
    }
   ],
   "source": [
    "zero_arr=np.zeros((3,3))\n",
    "zero_arr"
   ]
  },
  {
   "cell_type": "code",
   "execution_count": 60,
   "id": "4ee62753-a0f0-4434-843e-c3bc43888ab1",
   "metadata": {},
   "outputs": [],
   "source": [
    "#ones"
   ]
  },
  {
   "cell_type": "code",
   "execution_count": 64,
   "id": "0bdfdb7a-1558-4980-9229-d66d1e3356a4",
   "metadata": {},
   "outputs": [
    {
     "data": {
      "text/plain": [
       "array([[1., 1., 1., 1.],\n",
       "       [1., 1., 1., 1.],\n",
       "       [1., 1., 1., 1.]])"
      ]
     },
     "execution_count": 64,
     "metadata": {},
     "output_type": "execute_result"
    }
   ],
   "source": [
    "one_arr=np.ones((3,4))\n",
    "one_arr"
   ]
  },
  {
   "cell_type": "code",
   "execution_count": 66,
   "id": "0e141b24-d596-449b-8608-9f7e9cac5082",
   "metadata": {},
   "outputs": [],
   "source": [
    "#full\n"
   ]
  },
  {
   "cell_type": "code",
   "execution_count": 72,
   "id": "f5a25d96-92e4-40f2-aa99-880062bb2771",
   "metadata": {},
   "outputs": [
    {
     "data": {
      "text/plain": [
       "array([[4, 4, 4],\n",
       "       [4, 4, 4],\n",
       "       [4, 4, 4]])"
      ]
     },
     "execution_count": 72,
     "metadata": {},
     "output_type": "execute_result"
    }
   ],
   "source": [
    "full_arr=np.full((3,3),4)\n",
    "full_arr"
   ]
  },
  {
   "cell_type": "code",
   "execution_count": null,
   "id": "1221f391-b2df-49c1-ac3c-a30b802d8ae9",
   "metadata": {},
   "outputs": [],
   "source": []
  }
 ],
 "metadata": {
  "kernelspec": {
   "display_name": "Python 3 (ipykernel)",
   "language": "python",
   "name": "python3"
  },
  "language_info": {
   "codemirror_mode": {
    "name": "ipython",
    "version": 3
   },
   "file_extension": ".py",
   "mimetype": "text/x-python",
   "name": "python",
   "nbconvert_exporter": "python",
   "pygments_lexer": "ipython3",
   "version": "3.12.4"
  }
 },
 "nbformat": 4,
 "nbformat_minor": 5
}
