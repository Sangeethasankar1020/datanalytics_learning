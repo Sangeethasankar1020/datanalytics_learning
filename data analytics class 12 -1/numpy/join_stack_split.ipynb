{
 "cells": [
  {
   "cell_type": "markdown",
   "id": "5c12a79d-b645-45b8-bd06-d0a0ffb8c168",
   "metadata": {},
   "source": [
    "### Join"
   ]
  },
  {
   "cell_type": "code",
   "execution_count": 5,
   "id": "7d4357eb-9c9b-4525-a723-e4e8ad1152c4",
   "metadata": {},
   "outputs": [],
   "source": [
    "\n",
    "import numpy as np\n",
    "from numpy import random"
   ]
  },
  {
   "cell_type": "code",
   "execution_count": 6,
   "id": "6eb5f0ee-af01-43ea-9d42-02e1b5fef8c1",
   "metadata": {},
   "outputs": [],
   "source": [
    "arr1=np.array([1,2,3,4,5])\n",
    "arr2=np.array([6,7,8,9,10])"
   ]
  },
  {
   "cell_type": "code",
   "execution_count": 7,
   "id": "2f78e51e-0bf5-4b34-a72d-b220b93a262f",
   "metadata": {},
   "outputs": [],
   "source": [
    "res=np.concatenate((arr1,arr2),axis=0)"
   ]
  },
  {
   "cell_type": "code",
   "execution_count": 8,
   "id": "4d93d9f6-3c53-4e66-be34-f51c92c83a18",
   "metadata": {},
   "outputs": [
    {
     "data": {
      "text/plain": [
       "array([ 1,  2,  3,  4,  5,  6,  7,  8,  9, 10])"
      ]
     },
     "execution_count": 8,
     "metadata": {},
     "output_type": "execute_result"
    }
   ],
   "source": [
    "res"
   ]
  },
  {
   "cell_type": "markdown",
   "id": "d228e231-4413-4599-b36a-39abc0021d4a",
   "metadata": {},
   "source": [
    "###  Stack"
   ]
  },
  {
   "cell_type": "code",
   "execution_count": 10,
   "id": "8704248e-42b3-466b-9f1f-e2cbcbb7be0f",
   "metadata": {},
   "outputs": [
    {
     "data": {
      "text/plain": [
       "array([[ 1,  6],\n",
       "       [ 2,  7],\n",
       "       [ 3,  8],\n",
       "       [ 4,  9],\n",
       "       [ 5, 10]])"
      ]
     },
     "execution_count": 10,
     "metadata": {},
     "output_type": "execute_result"
    }
   ],
   "source": [
    "res=np.stack((arr1,arr2),axis=1)\n",
    "res"
   ]
  },
  {
   "cell_type": "code",
   "execution_count": 11,
   "id": "2412008a-5cd6-4cb2-882a-4ee89676553d",
   "metadata": {},
   "outputs": [
    {
     "data": {
      "text/plain": [
       "array([ 1,  2,  3,  4,  5,  6,  7,  8,  9, 10])"
      ]
     },
     "execution_count": 11,
     "metadata": {},
     "output_type": "execute_result"
    }
   ],
   "source": [
    "res=np.hstack((arr1,arr2))\n",
    "res"
   ]
  },
  {
   "cell_type": "code",
   "execution_count": 12,
   "id": "52cd1bc9-6d6a-42ca-9f41-1b2a7e91e4dd",
   "metadata": {},
   "outputs": [
    {
     "data": {
      "text/plain": [
       "array([[ 1,  2,  3,  4,  5],\n",
       "       [ 6,  7,  8,  9, 10]])"
      ]
     },
     "execution_count": 12,
     "metadata": {},
     "output_type": "execute_result"
    }
   ],
   "source": [
    "res=np.vstack((arr1,arr2))\n",
    "res"
   ]
  },
  {
   "cell_type": "code",
   "execution_count": 13,
   "id": "3dc8d942-dcf2-44f0-b8c1-5cec48285bd6",
   "metadata": {},
   "outputs": [],
   "source": [
    "res=np.dstack((arr1,arr2))"
   ]
  },
  {
   "cell_type": "code",
   "execution_count": 14,
   "id": "b58848ee-c0b9-4072-b70d-43970a18fc52",
   "metadata": {},
   "outputs": [
    {
     "data": {
      "text/plain": [
       "array([[[ 1,  6],\n",
       "        [ 2,  7],\n",
       "        [ 3,  8],\n",
       "        [ 4,  9],\n",
       "        [ 5, 10]]])"
      ]
     },
     "execution_count": 14,
     "metadata": {},
     "output_type": "execute_result"
    }
   ],
   "source": [
    "res"
   ]
  },
  {
   "cell_type": "markdown",
   "id": "4feb90fb-7c02-499e-ade4-e4c6f91edfab",
   "metadata": {},
   "source": [
    "### Split "
   ]
  },
  {
   "cell_type": "code",
   "execution_count": 16,
   "id": "4bdb2502-51e4-474b-a870-9f8d12aaac9b",
   "metadata": {},
   "outputs": [
    {
     "data": {
      "text/plain": [
       "[array([1, 2, 3]), array([4, 5, 6])]"
      ]
     },
     "execution_count": 16,
     "metadata": {},
     "output_type": "execute_result"
    }
   ],
   "source": [
    "arr1=np.array([1,2,3,4,5,6])\n",
    "\n",
    "new_arr=np.split(arr1,2)\n",
    "new_arr"
   ]
  },
  {
   "cell_type": "code",
   "execution_count": 17,
   "id": "6cc49f2f-a89c-4f22-870e-0cbcb1ee6248",
   "metadata": {},
   "outputs": [],
   "source": [
    "arr2=np.array([[1,2,3],[4,5,6],[7,8,9],[10,11,12]])"
   ]
  },
  {
   "cell_type": "code",
   "execution_count": 18,
   "id": "91f5ea51-bfa2-46c3-b981-82d2fa28188b",
   "metadata": {},
   "outputs": [
    {
     "data": {
      "text/plain": [
       "array([[ 1,  2,  3],\n",
       "       [ 4,  5,  6],\n",
       "       [ 7,  8,  9],\n",
       "       [10, 11, 12]])"
      ]
     },
     "execution_count": 18,
     "metadata": {},
     "output_type": "execute_result"
    }
   ],
   "source": [
    "arr2"
   ]
  },
  {
   "cell_type": "code",
   "execution_count": 19,
   "id": "f9cf0881-1abe-4c6d-9e8b-4f3913cc5f94",
   "metadata": {},
   "outputs": [
    {
     "data": {
      "text/plain": [
       "[array([[1, 2, 3],\n",
       "        [4, 5, 6]]),\n",
       " array([[7, 8, 9]]),\n",
       " array([[10, 11, 12]])]"
      ]
     },
     "execution_count": 19,
     "metadata": {},
     "output_type": "execute_result"
    }
   ],
   "source": [
    "new_arr=np.array_split(arr2,3)\n",
    "new_arr"
   ]
  },
  {
   "cell_type": "markdown",
   "id": "213181d1-50f3-4319-a38c-31ec3925877c",
   "metadata": {},
   "source": [
    "# Random Module"
   ]
  },
  {
   "cell_type": "code",
   "execution_count": 21,
   "id": "f4f0bf35-6ebd-41a2-bde0-7212b9813b41",
   "metadata": {},
   "outputs": [
    {
     "data": {
      "text/plain": [
       "array([2, 2])"
      ]
     },
     "execution_count": 21,
     "metadata": {},
     "output_type": "execute_result"
    }
   ],
   "source": [
    "arr=random.randint(10,size=2)\n",
    "arr"
   ]
  },
  {
   "cell_type": "code",
   "execution_count": 22,
   "id": "85110a5b-8d32-4a76-a8dd-21ef8fa20275",
   "metadata": {},
   "outputs": [],
   "source": [
    "#using reshape"
   ]
  },
  {
   "cell_type": "code",
   "execution_count": 41,
   "id": "62245d58-25fc-49cd-91f8-b1e60e2a13e3",
   "metadata": {},
   "outputs": [
    {
     "data": {
      "text/plain": [
       "array([[65, 55, 59, 20, 43, 56, 81, 46, 91, 14],\n",
       "       [97, 37, 80, 11, 84, 50, 11, 88, 46, 74],\n",
       "       [84, 77, 69, 64, 22, 65, 55, 81, 80, 74],\n",
       "       [43, 75, 94, 74, 73, 54, 52, 46, 81, 24],\n",
       "       [72, 16, 89, 67, 88, 54, 13, 75, 10, 94],\n",
       "       [51, 49, 12, 92, 75, 79, 57, 44, 31, 79],\n",
       "       [10, 58, 39, 51, 34, 69, 37, 95, 93, 40],\n",
       "       [36, 77, 65, 34, 37, 19, 98, 66, 67, 31],\n",
       "       [25, 14, 30, 92, 11, 38, 99, 36, 48, 48],\n",
       "       [99, 51, 21, 14, 23, 86, 76, 30, 27, 53]])"
      ]
     },
     "execution_count": 41,
     "metadata": {},
     "output_type": "execute_result"
    }
   ],
   "source": [
    "arr=random.randint(low=10,high=100,size=100).reshape(10,10)\n",
    "arr"
   ]
  },
  {
   "cell_type": "code",
   "execution_count": 43,
   "id": "1609b4aa-2e4c-4a65-8a17-57d1a3a71ae7",
   "metadata": {},
   "outputs": [
    {
     "data": {
      "text/plain": [
       "array([65, 55, 59, 43, 56, 81, 46, 91, 97, 37, 80, 84, 50, 88, 46, 74, 84,\n",
       "       77, 69, 64, 65, 55, 81, 80, 74, 43, 75, 94, 74, 73, 54, 52, 46, 81,\n",
       "       72, 89, 67, 88, 54, 75, 94, 51, 49, 92, 75, 79, 57, 44, 31, 79, 58,\n",
       "       39, 51, 34, 69, 37, 95, 93, 40, 36, 77, 65, 34, 37, 98, 66, 67, 31,\n",
       "       92, 38, 99, 36, 48, 48, 99, 51, 86, 76, 53])"
      ]
     },
     "execution_count": 43,
     "metadata": {},
     "output_type": "execute_result"
    }
   ],
   "source": [
    "filters_data=arr>30\n",
    "res=arr[filters_data]\n",
    "res\n"
   ]
  },
  {
   "cell_type": "code",
   "execution_count": null,
   "id": "92842e2b-7622-4bf4-b70b-6c11ebdf6513",
   "metadata": {},
   "outputs": [],
   "source": []
  }
 ],
 "metadata": {
  "kernelspec": {
   "display_name": "Python 3 (ipykernel)",
   "language": "python",
   "name": "python3"
  },
  "language_info": {
   "codemirror_mode": {
    "name": "ipython",
    "version": 3
   },
   "file_extension": ".py",
   "mimetype": "text/x-python",
   "name": "python",
   "nbconvert_exporter": "python",
   "pygments_lexer": "ipython3",
   "version": "3.12.4"
  }
 },
 "nbformat": 4,
 "nbformat_minor": 5
}
