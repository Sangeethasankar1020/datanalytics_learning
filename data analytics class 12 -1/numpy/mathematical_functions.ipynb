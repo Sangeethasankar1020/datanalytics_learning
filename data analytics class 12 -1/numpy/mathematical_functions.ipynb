{
 "cells": [
  {
   "cell_type": "markdown",
   "id": "ac09125b-3be0-4082-ab93-e15f1bbda39d",
   "metadata": {},
   "source": [
    "# Mathematical functions"
   ]
  },
  {
   "cell_type": "code",
   "execution_count": 12,
   "id": "e74b6fe7-fbff-4f13-a7c0-2e016d9e135e",
   "metadata": {},
   "outputs": [],
   "source": [
    "import numpy as np"
   ]
  },
  {
   "cell_type": "code",
   "execution_count": 14,
   "id": "cdbe11d1-c7ae-4c84-a8ed-8dd2225c4894",
   "metadata": {},
   "outputs": [],
   "source": [
    "arr1=np.array([1,2,3,4,5,6])\n",
    "arr2=np.array([3,4,5,6,7,8])"
   ]
  },
  {
   "cell_type": "code",
   "execution_count": 16,
   "id": "47003972-22f3-474d-81c3-9052b181037c",
   "metadata": {},
   "outputs": [],
   "source": [
    "res=np.add(arr1,arr2)"
   ]
  },
  {
   "cell_type": "code",
   "execution_count": 18,
   "id": "afe65629-20c5-4520-a695-179c7300889c",
   "metadata": {},
   "outputs": [
    {
     "data": {
      "text/plain": [
       "array([ 4,  6,  8, 10, 12, 14])"
      ]
     },
     "execution_count": 18,
     "metadata": {},
     "output_type": "execute_result"
    }
   ],
   "source": [
    "res"
   ]
  },
  {
   "cell_type": "code",
   "execution_count": 20,
   "id": "a6f3bf83-c9da-4911-8464-2e382b80200d",
   "metadata": {},
   "outputs": [],
   "source": [
    "#sum\n"
   ]
  },
  {
   "cell_type": "code",
   "execution_count": 22,
   "id": "08e02d6b-2993-41b7-be76-5a0d841f7433",
   "metadata": {},
   "outputs": [],
   "source": [
    "total_sum=np.sum(arr1)"
   ]
  },
  {
   "cell_type": "code",
   "execution_count": 24,
   "id": "3d028b9e-6463-403c-8398-c2b48d951313",
   "metadata": {},
   "outputs": [
    {
     "data": {
      "text/plain": [
       "21"
      ]
     },
     "execution_count": 24,
     "metadata": {},
     "output_type": "execute_result"
    }
   ],
   "source": [
    "total_sum"
   ]
  },
  {
   "cell_type": "code",
   "execution_count": 26,
   "id": "bd729074-3aff-47b5-bfa3-879f4b717804",
   "metadata": {},
   "outputs": [],
   "source": [
    "mean_value=np.mean(arr1)"
   ]
  },
  {
   "cell_type": "code",
   "execution_count": 28,
   "id": "307ee566-06c9-41d3-bc8b-ddb45cce26dc",
   "metadata": {},
   "outputs": [
    {
     "data": {
      "text/plain": [
       "3.5"
      ]
     },
     "execution_count": 28,
     "metadata": {},
     "output_type": "execute_result"
    }
   ],
   "source": [
    "mean_value"
   ]
  },
  {
   "cell_type": "code",
   "execution_count": 30,
   "id": "e235ee7b-3229-461f-a676-0c035ae7f224",
   "metadata": {},
   "outputs": [],
   "source": [
    "max_value=np.max(arr1)"
   ]
  },
  {
   "cell_type": "code",
   "execution_count": 32,
   "id": "8084878d-11c1-423b-af75-d02956481dc9",
   "metadata": {},
   "outputs": [
    {
     "data": {
      "text/plain": [
       "6"
      ]
     },
     "execution_count": 32,
     "metadata": {},
     "output_type": "execute_result"
    }
   ],
   "source": [
    "max_value"
   ]
  },
  {
   "cell_type": "markdown",
   "id": "defde40f-6f88-40c7-9aae-a1adfce26fc2",
   "metadata": {},
   "source": [
    "# Statistical functions"
   ]
  },
  {
   "cell_type": "code",
   "execution_count": 47,
   "id": "8e636635-6cff-4fab-a808-16adade90eed",
   "metadata": {},
   "outputs": [],
   "source": [
    "arr1=np.array([1,3,4,2,5])\n",
    "arr1.sort()"
   ]
  },
  {
   "cell_type": "code",
   "execution_count": 49,
   "id": "2111bf0c-5cac-4fa4-b37f-bcc55f9f7350",
   "metadata": {},
   "outputs": [
    {
     "data": {
      "text/plain": [
       "array([1, 2, 3, 4, 5])"
      ]
     },
     "execution_count": 49,
     "metadata": {},
     "output_type": "execute_result"
    }
   ],
   "source": [
    "arr1"
   ]
  },
  {
   "cell_type": "code",
   "execution_count": 51,
   "id": "c86e8686-42c5-4828-b782-7695293b7f43",
   "metadata": {},
   "outputs": [
    {
     "data": {
      "text/plain": [
       "3.0"
      ]
     },
     "execution_count": 51,
     "metadata": {},
     "output_type": "execute_result"
    }
   ],
   "source": [
    "median_value=np.median(arr1)\n",
    "median_value"
   ]
  },
  {
   "cell_type": "code",
   "execution_count": 54,
   "id": "764e1725-83db-4acd-b50c-a1a84dda1b77",
   "metadata": {},
   "outputs": [],
   "source": [
    "std_value=np.std(arr1)"
   ]
  },
  {
   "cell_type": "code",
   "execution_count": 56,
   "id": "b13b64fb-baa0-4661-a9ed-3d15b15dfbbd",
   "metadata": {},
   "outputs": [
    {
     "data": {
      "text/plain": [
       "1.4142135623730951"
      ]
     },
     "execution_count": 56,
     "metadata": {},
     "output_type": "execute_result"
    }
   ],
   "source": [
    "std_value"
   ]
  },
  {
   "cell_type": "code",
   "execution_count": 58,
   "id": "139baf43-245c-4061-9be4-8fc604098826",
   "metadata": {},
   "outputs": [
    {
     "data": {
      "text/plain": [
       "2.0"
      ]
     },
     "execution_count": 58,
     "metadata": {},
     "output_type": "execute_result"
    }
   ],
   "source": [
    "var_value=np.var(arr1)\n",
    "var_value"
   ]
  },
  {
   "cell_type": "code",
   "execution_count": 60,
   "id": "d6ba72c6-35ad-461b-89d8-bf4fdfee8eab",
   "metadata": {},
   "outputs": [
    {
     "data": {
      "text/plain": [
       "1"
      ]
     },
     "execution_count": 60,
     "metadata": {},
     "output_type": "execute_result"
    }
   ],
   "source": [
    "min_value=np.min(arr1)\n",
    "min_value"
   ]
  },
  {
   "cell_type": "code",
   "execution_count": 62,
   "id": "91f0067b-81e0-4a13-915f-0304fd5923aa",
   "metadata": {},
   "outputs": [
    {
     "data": {
      "text/plain": [
       "4"
      ]
     },
     "execution_count": 62,
     "metadata": {},
     "output_type": "execute_result"
    }
   ],
   "source": [
    "#range\n",
    "\n",
    "range_value=np.ptp(arr1)\n",
    "range_value"
   ]
  },
  {
   "cell_type": "code",
   "execution_count": 64,
   "id": "ca6296a5-ab2a-4fa6-86bc-9cf247876240",
   "metadata": {},
   "outputs": [],
   "source": [
    "#percentile"
   ]
  },
  {
   "cell_type": "code",
   "execution_count": 66,
   "id": "c706796c-29e0-46e9-a52e-396f09334e45",
   "metadata": {},
   "outputs": [
    {
     "data": {
      "text/plain": [
       "3.0"
      ]
     },
     "execution_count": 66,
     "metadata": {},
     "output_type": "execute_result"
    }
   ],
   "source": [
    "percentile_50th=np.percentile(arr1,50)\n",
    "percentile_50th"
   ]
  },
  {
   "cell_type": "code",
   "execution_count": 68,
   "id": "8d6ba410-7a16-40ef-8b8e-de89410f2e8d",
   "metadata": {},
   "outputs": [
    {
     "data": {
      "text/plain": [
       "120"
      ]
     },
     "execution_count": 68,
     "metadata": {},
     "output_type": "execute_result"
    }
   ],
   "source": [
    "product=np.prod(arr1)\n",
    "product"
   ]
  },
  {
   "cell_type": "code",
   "execution_count": 70,
   "id": "99c882c7-ff6a-439b-8a61-9f55132c9c4e",
   "metadata": {},
   "outputs": [],
   "source": [
    "cum_sum=np.cumsum(arr1)"
   ]
  },
  {
   "cell_type": "code",
   "execution_count": 72,
   "id": "743e30c1-bde6-4e0e-ac5a-7af1aced5620",
   "metadata": {},
   "outputs": [
    {
     "data": {
      "text/plain": [
       "array([ 1,  3,  6, 10, 15])"
      ]
     },
     "execution_count": 72,
     "metadata": {},
     "output_type": "execute_result"
    }
   ],
   "source": [
    "cum_sum"
   ]
  },
  {
   "cell_type": "code",
   "execution_count": 74,
   "id": "e795386d-c6f5-4a6f-b41a-5bbd11fb8bcf",
   "metadata": {},
   "outputs": [
    {
     "data": {
      "text/plain": [
       "array([  1,   2,   6,  24, 120])"
      ]
     },
     "execution_count": 74,
     "metadata": {},
     "output_type": "execute_result"
    }
   ],
   "source": [
    "cum_product=np.cumprod(arr1)\n",
    "cum_product"
   ]
  },
  {
   "cell_type": "code",
   "execution_count": 76,
   "id": "9eaea55c-acf6-4a9e-bd81-a63543aadd94",
   "metadata": {},
   "outputs": [],
   "source": [
    "#unique elements\n"
   ]
  },
  {
   "cell_type": "code",
   "execution_count": 80,
   "id": "a8871b97-ae0d-46b7-a9ad-de7994847a68",
   "metadata": {},
   "outputs": [
    {
     "data": {
      "text/plain": [
       "array([1, 2, 3, 4, 5])"
      ]
     },
     "execution_count": 80,
     "metadata": {},
     "output_type": "execute_result"
    }
   ],
   "source": [
    "element,count =np.unique(arr1,return_counts=True)\n",
    "element"
   ]
  },
  {
   "cell_type": "code",
   "execution_count": 84,
   "id": "0336bc6b-df0d-4e6e-870c-c23125777e10",
   "metadata": {},
   "outputs": [
    {
     "data": {
      "text/plain": [
       "array([1, 1, 1, 1, 1], dtype=int64)"
      ]
     },
     "execution_count": 84,
     "metadata": {},
     "output_type": "execute_result"
    }
   ],
   "source": [
    "count"
   ]
  },
  {
   "cell_type": "code",
   "execution_count": 92,
   "id": "693a97d9-3cf9-4b20-b0ba-6f1bc1c42b70",
   "metadata": {},
   "outputs": [],
   "source": [
    "#boolean operations"
   ]
  },
  {
   "cell_type": "code",
   "execution_count": 88,
   "id": "ef211668-1a78-4f25-8804-3a7f5a9658f2",
   "metadata": {},
   "outputs": [
    {
     "data": {
      "text/plain": [
       "array([False,  True,  True,  True,  True])"
      ]
     },
     "execution_count": 88,
     "metadata": {},
     "output_type": "execute_result"
    }
   ],
   "source": [
    "bool_arr=arr1>1\n",
    "bool_arr"
   ]
  },
  {
   "cell_type": "code",
   "execution_count": 90,
   "id": "3d89f00e-9180-407e-897e-2e3adde0d49c",
   "metadata": {},
   "outputs": [
    {
     "data": {
      "text/plain": [
       "array([2, 3, 4, 5])"
      ]
     },
     "execution_count": 90,
     "metadata": {},
     "output_type": "execute_result"
    }
   ],
   "source": [
    "bool_arr=arr1>1\n",
    "filtered_data=arr1[bool_arr]\n",
    "filtered_data"
   ]
  },
  {
   "cell_type": "code",
   "execution_count": null,
   "id": "942aeef4-0c71-4dc9-907c-762d599edbe7",
   "metadata": {},
   "outputs": [],
   "source": []
  },
  {
   "cell_type": "code",
   "execution_count": null,
   "id": "06301cd6-d8f1-4bb9-a1af-f89225c3aec5",
   "metadata": {},
   "outputs": [],
   "source": []
  }
 ],
 "metadata": {
  "kernelspec": {
   "display_name": "Python 3 (ipykernel)",
   "language": "python",
   "name": "python3"
  },
  "language_info": {
   "codemirror_mode": {
    "name": "ipython",
    "version": 3
   },
   "file_extension": ".py",
   "mimetype": "text/x-python",
   "name": "python",
   "nbconvert_exporter": "python",
   "pygments_lexer": "ipython3",
   "version": "3.12.4"
  }
 },
 "nbformat": 4,
 "nbformat_minor": 5
}
