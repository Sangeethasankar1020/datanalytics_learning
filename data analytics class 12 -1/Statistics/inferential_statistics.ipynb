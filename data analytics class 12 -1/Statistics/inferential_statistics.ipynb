{
 "cells": [
  {
   "cell_type": "markdown",
   "id": "2ece834d-91af-43b7-a934-e9fd556673bd",
   "metadata": {},
   "source": [
    "### Inferential Statistics"
   ]
  },
  {
   "cell_type": "code",
   "execution_count": 4,
   "id": "5e5ec201-4a39-4921-b20d-9b5e800418bc",
   "metadata": {},
   "outputs": [],
   "source": [
    "import random\n",
    "import numpy as np\n",
    "from scipy import stats"
   ]
  },
  {
   "cell_type": "code",
   "execution_count": 7,
   "id": "bd716bd2-095c-4751-993f-05972003b834",
   "metadata": {},
   "outputs": [],
   "source": [
    "age=[random.randint(1,100) for i in range(100)]\n",
    "weights=[random.random()*10 for i in range(100)]"
   ]
  },
  {
   "cell_type": "code",
   "execution_count": 9,
   "id": "dd477bec-e73c-4510-ac6d-b7c5caa224dd",
   "metadata": {},
   "outputs": [],
   "source": [
    "sample=[random.choice(weights) for i in range(20) ]"
   ]
  },
  {
   "cell_type": "code",
   "execution_count": 11,
   "id": "1fc719fb-1e51-4355-8b44-d94a7abb9f41",
   "metadata": {},
   "outputs": [],
   "source": [
    "mean=np.mean(weights)"
   ]
  },
  {
   "cell_type": "code",
   "execution_count": 13,
   "id": "bc7bccde-7dbb-499e-8b66-9b59c4fcb243",
   "metadata": {},
   "outputs": [
    {
     "data": {
      "text/plain": [
       "4.925599012187974"
      ]
     },
     "execution_count": 13,
     "metadata": {},
     "output_type": "execute_result"
    }
   ],
   "source": [
    "mean"
   ]
  },
  {
   "cell_type": "code",
   "execution_count": 15,
   "id": "e08d491f-936b-4ee3-8345-b5ae7e1eb554",
   "metadata": {},
   "outputs": [],
   "source": [
    "# one group hypothesis testing\n",
    "\n",
    "ttest,p_value=stats.ttest_1samp(sample,mean)"
   ]
  },
  {
   "cell_type": "code",
   "execution_count": 17,
   "id": "95f1c48c-b8df-4338-898f-1424eccb9542",
   "metadata": {},
   "outputs": [
    {
     "name": "stdout",
     "output_type": "stream",
     "text": [
      "Accept the null hypothesis\n"
     ]
    }
   ],
   "source": [
    "if p_value>=0.05:\n",
    "    print(\"Accept the null hypothesis\")\n",
    "else:\n",
    "    print(\"Reject the null hypothesis\")"
   ]
  },
  {
   "cell_type": "code",
   "execution_count": 19,
   "id": "e691dc67-69f1-4c6c-9282-1efc0de197dd",
   "metadata": {},
   "outputs": [
    {
     "data": {
      "text/plain": [
       "[4.273731113693531,\n",
       " 4.293798302760189,\n",
       " 7.412925231275879,\n",
       " 1.117132864152941,\n",
       " 8.706031741982398,\n",
       " 4.273731113693531,\n",
       " 3.403737924302072,\n",
       " 1.7319343907409646,\n",
       " 1.4231389151689433,\n",
       " 6.779785722055754,\n",
       " 9.022276711705794,\n",
       " 2.5277840663153417,\n",
       " 1.423339507735265,\n",
       " 2.5277840663153417,\n",
       " 2.403569155830364,\n",
       " 3.8423491366554616,\n",
       " 7.506595566969637,\n",
       " 8.536708199665068,\n",
       " 1.9001017068823478,\n",
       " 8.25239981561303]"
      ]
     },
     "execution_count": 19,
     "metadata": {},
     "output_type": "execute_result"
    }
   ],
   "source": [
    "sample"
   ]
  },
  {
   "cell_type": "code",
   "execution_count": 21,
   "id": "9cb8aa71-cd8c-4c4b-8103-8113758c74af",
   "metadata": {},
   "outputs": [
    {
     "name": "stdout",
     "output_type": "stream",
     "text": [
      "Reject the null hypothesis\n"
     ]
    }
   ],
   "source": [
    "ttest,p_value=stats.ttest_ind(age,weights)\n",
    "if p_value>=0.05:\n",
    "    print(\"Accept the null hypothesis\")\n",
    "else:\n",
    "    print(\"Reject the null hypothesis\")"
   ]
  },
  {
   "cell_type": "code",
   "execution_count": null,
   "id": "14a44c15-406b-4334-804c-f76b1879b857",
   "metadata": {},
   "outputs": [],
   "source": []
  }
 ],
 "metadata": {
  "kernelspec": {
   "display_name": "Python 3 (ipykernel)",
   "language": "python",
   "name": "python3"
  },
  "language_info": {
   "codemirror_mode": {
    "name": "ipython",
    "version": 3
   },
   "file_extension": ".py",
   "mimetype": "text/x-python",
   "name": "python",
   "nbconvert_exporter": "python",
   "pygments_lexer": "ipython3",
   "version": "3.12.4"
  }
 },
 "nbformat": 4,
 "nbformat_minor": 5
}
