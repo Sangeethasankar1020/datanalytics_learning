{
 "cells": [
  {
   "cell_type": "markdown",
   "id": "9cfb75fb-ae3d-4f5d-b459-8e1c7bae3471",
   "metadata": {},
   "source": [
    "# Subplot - Plot Customization"
   ]
  },
  {
   "cell_type": "code",
   "execution_count": 31,
   "id": "4a77fd74-d1c0-445a-a577-33352756743f",
   "metadata": {},
   "outputs": [],
   "source": [
    "import matplotlib.pyplot  as plt\n",
    "%matplotlib inline\n",
    "import numpy as np"
   ]
  },
  {
   "cell_type": "code",
   "execution_count": 41,
   "id": "82967562-a957-49b6-a923-5eeea12933f2",
   "metadata": {},
   "outputs": [],
   "source": [
    "x=np.linspace(0,5,11)\n",
    "y=x**2"
   ]
  },
  {
   "cell_type": "code",
   "execution_count": 43,
   "id": "79a6b99e-d133-4ed8-bcac-8f290c5c09c3",
   "metadata": {},
   "outputs": [
    {
     "data": {
      "text/plain": [
       "<Figure size 640x480 with 0 Axes>"
      ]
     },
     "metadata": {},
     "output_type": "display_data"
    }
   ],
   "source": []
  },
  {
   "cell_type": "code",
   "execution_count": 58,
   "id": "0ca41def-6688-463b-ad69-a943ad3acf60",
   "metadata": {},
   "outputs": [
    {
     "data": {
      "text/plain": [
       "Text(0.5, 1.0, 'large')"
      ]
     },
     "execution_count": 58,
     "metadata": {},
     "output_type": "execute_result"
    }
   ],
   "source": [
    "fig=plt.figure()\n",
    "\n",
    "axes1=fig.add_axes([.3,.7,.9,.2])\n",
    "axes2=fig.add_axes([.1,.2,.3,.5])\n",
    "\n",
    "\n",
    "# large axes\n",
    "\n",
    "axes1.plot(x,y,'r')\n",
    "axes1.set_xlabel(\" larges x axes\")\n",
    "axes1.set_ylabel(\"large y axes\")\n",
    "axes1.set_title(\"large\")"
   ]
  },
  {
   "cell_type": "code",
   "execution_count": null,
   "id": "4a545a93-af9f-4799-966c-f50f4836d6f3",
   "metadata": {},
   "outputs": [],
   "source": []
  },
  {
   "cell_type": "code",
   "execution_count": null,
   "id": "8a77ca08-71b2-40b9-9796-6f3795f54270",
   "metadata": {},
   "outputs": [],
   "source": []
  },
  {
   "cell_type": "code",
   "execution_count": null,
   "id": "1bd851c7-6323-4850-9c02-42328244f9f9",
   "metadata": {},
   "outputs": [],
   "source": []
  }
 ],
 "metadata": {
  "kernelspec": {
   "display_name": "Python 3 (ipykernel)",
   "language": "python",
   "name": "python3"
  },
  "language_info": {
   "codemirror_mode": {
    "name": "ipython",
    "version": 3
   },
   "file_extension": ".py",
   "mimetype": "text/x-python",
   "name": "python",
   "nbconvert_exporter": "python",
   "pygments_lexer": "ipython3",
   "version": "3.12.4"
  }
 },
 "nbformat": 4,
 "nbformat_minor": 5
}
