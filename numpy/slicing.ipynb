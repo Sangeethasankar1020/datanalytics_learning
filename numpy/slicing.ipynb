{
 "cells": [
  {
   "cell_type": "code",
   "execution_count": 1,
   "id": "3fc0c969-6ef5-4297-9e60-e1d8bb9f5130",
   "metadata": {},
   "outputs": [],
   "source": [
    "#slicing"
   ]
  },
  {
   "cell_type": "code",
   "execution_count": 3,
   "id": "4cb29930-f362-48df-96a6-29cf17bdac68",
   "metadata": {},
   "outputs": [],
   "source": [
    "#array slicing"
   ]
  },
  {
   "cell_type": "code",
   "execution_count": 5,
   "id": "41768c17-0d38-4f5d-b502-d70c3a678d56",
   "metadata": {},
   "outputs": [],
   "source": [
    "#syntax - [start:end] , [start:end:step]"
   ]
  },
  {
   "cell_type": "code",
   "execution_count": 7,
   "id": "ba0ce2b3-7287-410a-a3d5-f2c720014017",
   "metadata": {},
   "outputs": [],
   "source": [
    "import numpy as np"
   ]
  },
  {
   "cell_type": "code",
   "execution_count": 9,
   "id": "b40bebc3-0a19-4135-841e-e9f94ceec946",
   "metadata": {},
   "outputs": [],
   "source": [
    "x=np.array([1,2,3,4,5,6,7,8,9])"
   ]
  },
  {
   "cell_type": "code",
   "execution_count": 11,
   "id": "2232681d-915e-43d5-be65-1a78d0904d41",
   "metadata": {},
   "outputs": [
    {
     "name": "stdout",
     "output_type": "stream",
     "text": [
      "[2 3 4 5]\n"
     ]
    }
   ],
   "source": [
    "print(x[1:5])"
   ]
  },
  {
   "cell_type": "code",
   "execution_count": 17,
   "id": "273d689f-a0a9-4513-8a43-e99a284017b5",
   "metadata": {},
   "outputs": [
    {
     "name": "stdout",
     "output_type": "stream",
     "text": [
      "[2 5]\n"
     ]
    }
   ],
   "source": [
    "print(x[1:6:3])"
   ]
  },
  {
   "cell_type": "code",
   "execution_count": 21,
   "id": "e187b32b-9820-4a3e-a803-9da6d996393b",
   "metadata": {},
   "outputs": [
    {
     "name": "stdout",
     "output_type": "stream",
     "text": [
      "[1 2 3 4 5]\n"
     ]
    }
   ],
   "source": [
    "print(x[:5])"
   ]
  },
  {
   "cell_type": "code",
   "execution_count": null,
   "id": "6bb3a6b8-5b3c-430d-93db-631a5cd806a6",
   "metadata": {},
   "outputs": [],
   "source": []
  }
 ],
 "metadata": {
  "kernelspec": {
   "display_name": "Python 3 (ipykernel)",
   "language": "python",
   "name": "python3"
  },
  "language_info": {
   "codemirror_mode": {
    "name": "ipython",
    "version": 3
   },
   "file_extension": ".py",
   "mimetype": "text/x-python",
   "name": "python",
   "nbconvert_exporter": "python",
   "pygments_lexer": "ipython3",
   "version": "3.12.4"
  }
 },
 "nbformat": 4,
 "nbformat_minor": 5
}
