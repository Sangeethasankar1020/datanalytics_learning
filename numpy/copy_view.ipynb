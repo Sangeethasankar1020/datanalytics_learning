{
 "cells": [
  {
   "cell_type": "markdown",
   "id": "aee921ca-b06b-4eab-af09-1640e45f3a0d",
   "metadata": {},
   "source": [
    "# Copy and View "
   ]
  },
  {
   "cell_type": "markdown",
   "id": "37ec0888-df79-464c-a013-baa111555dad",
   "metadata": {},
   "source": [
    "### Creating Arrays "
   ]
  },
  {
   "cell_type": "code",
   "execution_count": 3,
   "id": "fcdc55b3-6fb1-404e-a104-6e1106beb843",
   "metadata": {},
   "outputs": [],
   "source": [
    "import numpy as np"
   ]
  },
  {
   "cell_type": "code",
   "execution_count": 9,
   "id": "af6c78d6-77e2-4e6a-9b6b-b3c81c49bc1f",
   "metadata": {},
   "outputs": [],
   "source": [
    "arr1d=np.array([1,2,3,4,5])\n",
    "arr2d=np.array([[1,2,3],[4,5,6]])\n",
    "zeros=np.zeros((3,4))\n",
    "ones=np.ones((2,3))\n",
    "range_arr=np.arange(0,10,2)"
   ]
  },
  {
   "cell_type": "markdown",
   "id": "4e1b87b9-be10-4500-b3f2-8be37243abad",
   "metadata": {},
   "source": [
    "### copy "
   ]
  },
  {
   "cell_type": "code",
   "execution_count": 14,
   "id": "267a4a65-6f44-4c57-8092-db3c25fe042e",
   "metadata": {},
   "outputs": [
    {
     "name": "stdout",
     "output_type": "stream",
     "text": [
      "Original: [1 2 3]\n",
      "Copy: [10  2  3]\n"
     ]
    }
   ],
   "source": [
    "# Create an array\n",
    "original = np.array([1, 2, 3])\n",
    "\n",
    "# Copy the array\n",
    "copy_arr = original.copy()\n",
    "\n",
    "# Modify the copy\n",
    "copy_arr[0] = 10\n",
    "\n",
    "print(\"Original:\", original)\n",
    "print(\"Copy:\", copy_arr)      "
   ]
  },
  {
   "cell_type": "markdown",
   "id": "1aa18c73-4901-4db0-be9a-1441d31c29ca",
   "metadata": {},
   "source": [
    "### view "
   ]
  },
  {
   "cell_type": "code",
   "execution_count": 19,
   "id": "b91b5eca-2497-4b39-9c09-048588fa79b2",
   "metadata": {},
   "outputs": [
    {
     "name": "stdout",
     "output_type": "stream",
     "text": [
      "Original: [ 1 20  3  4  5]\n",
      "View: [20  3  4]\n"
     ]
    }
   ],
   "source": [
    "# Create an array\n",
    "arr = np.array([1, 2, 3, 4, 5])\n",
    "\n",
    "# Create a view of the array\n",
    "view_arr = arr[1:4]  # This slices the original array\n",
    "\n",
    "# Modify the view\n",
    "view_arr[0] = 20\n",
    "\n",
    "print(\"Original:\", arr)  \n",
    "print(\"View:\", view_arr)  \n"
   ]
  },
  {
   "cell_type": "code",
   "execution_count": null,
   "id": "7fc77171-5d38-4410-ba27-6ba45f40fdfa",
   "metadata": {},
   "outputs": [],
   "source": []
  }
 ],
 "metadata": {
  "kernelspec": {
   "display_name": "Python 3 (ipykernel)",
   "language": "python",
   "name": "python3"
  },
  "language_info": {
   "codemirror_mode": {
    "name": "ipython",
    "version": 3
   },
   "file_extension": ".py",
   "mimetype": "text/x-python",
   "name": "python",
   "nbconvert_exporter": "python",
   "pygments_lexer": "ipython3",
   "version": "3.12.4"
  }
 },
 "nbformat": 4,
 "nbformat_minor": 5
}
