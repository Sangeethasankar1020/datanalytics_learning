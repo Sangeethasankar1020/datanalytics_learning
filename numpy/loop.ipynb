{
 "cells": [
  {
   "cell_type": "code",
   "execution_count": 6,
   "id": "c3003724-98a0-4d47-9cd2-78f97cde24e3",
   "metadata": {},
   "outputs": [],
   "source": [
    "#numpy iterating - loop - step by step"
   ]
  },
  {
   "cell_type": "code",
   "execution_count": 7,
   "id": "a5b470d5-52a5-447e-a9a4-14930fa1dc48",
   "metadata": {},
   "outputs": [],
   "source": [
    "import numpy as np"
   ]
  },
  {
   "cell_type": "code",
   "execution_count": 8,
   "id": "0ed66a0c-1966-45f5-8afa-20a52e0033ad",
   "metadata": {},
   "outputs": [],
   "source": [
    "#1 - d"
   ]
  },
  {
   "cell_type": "code",
   "execution_count": 9,
   "id": "8d249d65-6730-441a-84b6-64ed6b8e6f55",
   "metadata": {},
   "outputs": [],
   "source": [
    "x=np.array([1,2,3])"
   ]
  },
  {
   "cell_type": "code",
   "execution_count": 10,
   "id": "94d3f558-58fa-40dd-996f-2164a1b4edc8",
   "metadata": {},
   "outputs": [
    {
     "name": "stdout",
     "output_type": "stream",
     "text": [
      "1\n",
      "2\n",
      "3\n"
     ]
    }
   ],
   "source": [
    "for i in x:\n",
    "    print(i)"
   ]
  },
  {
   "cell_type": "code",
   "execution_count": 11,
   "id": "0e652291-2fb0-4438-a8ad-59ab4bfe2e06",
   "metadata": {},
   "outputs": [],
   "source": [
    "#2 -d"
   ]
  },
  {
   "cell_type": "code",
   "execution_count": 12,
   "id": "4c46b589-ff4d-4094-9996-871327211f4d",
   "metadata": {},
   "outputs": [],
   "source": [
    "y=np.array([[1,2,3],[4,5,6]])"
   ]
  },
  {
   "cell_type": "code",
   "execution_count": 13,
   "id": "ce06082f-5081-4964-9daa-88ae6239b724",
   "metadata": {},
   "outputs": [
    {
     "name": "stdout",
     "output_type": "stream",
     "text": [
      "[1 2 3]\n",
      "[4 5 6]\n"
     ]
    }
   ],
   "source": [
    "for i in y:\n",
    "    print(i)"
   ]
  },
  {
   "cell_type": "code",
   "execution_count": 14,
   "id": "c2560237-0a1d-48c5-a4c3-706e5b878ffc",
   "metadata": {},
   "outputs": [],
   "source": [
    "#nested loop"
   ]
  },
  {
   "cell_type": "code",
   "execution_count": 15,
   "id": "a20ff0f8-f1fb-49b3-9a3e-13af0828233e",
   "metadata": {},
   "outputs": [
    {
     "name": "stdout",
     "output_type": "stream",
     "text": [
      "1\n",
      "2\n",
      "3\n",
      "4\n",
      "5\n",
      "6\n"
     ]
    }
   ],
   "source": [
    "for i in y:\n",
    "    for j in i:\n",
    "        print(j)"
   ]
  },
  {
   "cell_type": "code",
   "execution_count": 16,
   "id": "7846e916-80ce-4303-ac34-f28387b14f50",
   "metadata": {},
   "outputs": [],
   "source": [
    "#3 -d "
   ]
  },
  {
   "cell_type": "code",
   "execution_count": 17,
   "id": "24a182d5-d82b-4753-974a-5ee577d59237",
   "metadata": {},
   "outputs": [],
   "source": [
    "z=np.array([[[1,2,3],[4,5,6],[7,8,9],[4,5,2]]])"
   ]
  },
  {
   "cell_type": "code",
   "execution_count": 18,
   "id": "3a6fc8fe-b1e7-450b-bbfd-654b9dd9fc8f",
   "metadata": {},
   "outputs": [
    {
     "name": "stdout",
     "output_type": "stream",
     "text": [
      "1\n",
      "2\n",
      "3\n",
      "4\n",
      "5\n",
      "6\n",
      "7\n",
      "8\n",
      "9\n",
      "4\n",
      "5\n",
      "2\n"
     ]
    }
   ],
   "source": [
    "for i in z:\n",
    "    for j in i:\n",
    "        for k in j:\n",
    "            print(k)"
   ]
  },
  {
   "cell_type": "code",
   "execution_count": 19,
   "id": "7b22022e-afb3-4869-a46e-c5e071e031cd",
   "metadata": {},
   "outputs": [],
   "source": [
    "# numpy  - nditer()"
   ]
  },
  {
   "cell_type": "code",
   "execution_count": 20,
   "id": "b1078386-3315-4ab3-933e-860ce184b7a1",
   "metadata": {},
   "outputs": [],
   "source": [
    "arr=np.array([[[1,2,3],[4,5,6],[7,8,9],[4,5,2]]])"
   ]
  },
  {
   "cell_type": "code",
   "execution_count": 21,
   "id": "62c2469e-1f60-426c-b9c9-80461bf5f4d3",
   "metadata": {},
   "outputs": [
    {
     "name": "stdout",
     "output_type": "stream",
     "text": [
      "1\n",
      "2\n",
      "3\n",
      "4\n",
      "5\n",
      "6\n",
      "7\n",
      "8\n",
      "9\n",
      "4\n",
      "5\n",
      "2\n"
     ]
    }
   ],
   "source": [
    "for i in np.nditer(arr):\n",
    "    print(i)"
   ]
  },
  {
   "cell_type": "code",
   "execution_count": 22,
   "id": "22dfe1e4-1243-420a-a790-150a54242bd0",
   "metadata": {},
   "outputs": [],
   "source": [
    "#different data types iter"
   ]
  },
  {
   "cell_type": "code",
   "execution_count": 23,
   "id": "bf1ccce3-265e-499e-85ec-7f791d15a8f7",
   "metadata": {},
   "outputs": [],
   "source": [
    "arr1=np.array([1,2,3,4])"
   ]
  },
  {
   "cell_type": "code",
   "execution_count": 24,
   "id": "3a035dd2-b886-478f-93a2-c93e1ba229c8",
   "metadata": {},
   "outputs": [
    {
     "name": "stdout",
     "output_type": "stream",
     "text": [
      "b'1'\n",
      "b'2'\n",
      "b'3'\n",
      "b'4'\n"
     ]
    }
   ],
   "source": [
    "for i in np.nditer(arr1,flags=[\"buffered\"],op_dtypes=[\"S\"]):\n",
    "    print(i)"
   ]
  },
  {
   "cell_type": "code",
   "execution_count": 25,
   "id": "2c5488d9-7677-4556-9acb-385b457117ac",
   "metadata": {},
   "outputs": [],
   "source": [
    "#in this place integer changed into string"
   ]
  },
  {
   "cell_type": "code",
   "execution_count": 26,
   "id": "9cdedb61-f2f3-48b7-bfae-a7c42c1643ba",
   "metadata": {},
   "outputs": [],
   "source": [
    "#buffered - stored like c++ garbage , ndinter - data type change"
   ]
  },
  {
   "cell_type": "code",
   "execution_count": 27,
   "id": "4eaa6245-cb5e-4c10-b7b9-ec369ab4bdea",
   "metadata": {},
   "outputs": [],
   "source": [
    "y=np.array([[1,2,3],[4,5,6]])"
   ]
  },
  {
   "cell_type": "code",
   "execution_count": 28,
   "id": "2cab8f83-5e8d-47fc-a8ee-bc9fd70231dc",
   "metadata": {
    "scrolled": true
   },
   "outputs": [
    {
     "name": "stdout",
     "output_type": "stream",
     "text": [
      "1\n",
      "3\n",
      "4\n",
      "6\n"
     ]
    }
   ],
   "source": [
    "for x in np.nditer(y[:,::2]):\n",
    "    print(x)"
   ]
  },
  {
   "cell_type": "code",
   "execution_count": 29,
   "id": "577749c6-9ba2-40b0-bb83-d18ca1e97786",
   "metadata": {},
   "outputs": [],
   "source": [
    "#enumerator() - to find coordinator"
   ]
  },
  {
   "cell_type": "code",
   "execution_count": 30,
   "id": "7dce2919-0e2a-46c4-b9a2-1341652a6d4d",
   "metadata": {},
   "outputs": [
    {
     "name": "stdout",
     "output_type": "stream",
     "text": [
      "((0, 0), 1)\n",
      "((0, 1), 2)\n",
      "((0, 2), 3)\n",
      "((1, 0), 4)\n",
      "((1, 1), 5)\n",
      "((1, 2), 6)\n"
     ]
    }
   ],
   "source": [
    "for x in np.ndenumerate(y):\n",
    "    print(x)"
   ]
  },
  {
   "cell_type": "code",
   "execution_count": 31,
   "id": "6b5ec1d1-1f89-4237-ae42-9c3035a502b9",
   "metadata": {},
   "outputs": [],
   "source": [
    "#idx - means print x id"
   ]
  },
  {
   "cell_type": "code",
   "execution_count": 32,
   "id": "6b0bd16e-ab87-4163-a323-d7ae34916c2e",
   "metadata": {},
   "outputs": [
    {
     "name": "stdout",
     "output_type": "stream",
     "text": [
      "(0, 0) 1\n",
      "(0, 1) 2\n",
      "(0, 2) 3\n",
      "(1, 0) 4\n",
      "(1, 1) 5\n",
      "(1, 2) 6\n"
     ]
    }
   ],
   "source": [
    "for idx,x in np.ndenumerate(y):\n",
    "    print(idx,x)"
   ]
  },
  {
   "cell_type": "code",
   "execution_count": null,
   "id": "2b15b877-7f5a-4d79-b8af-cdd6b306718f",
   "metadata": {},
   "outputs": [],
   "source": []
  }
 ],
 "metadata": {
  "kernelspec": {
   "display_name": "Python 3 (ipykernel)",
   "language": "python",
   "name": "python3"
  },
  "language_info": {
   "codemirror_mode": {
    "name": "ipython",
    "version": 3
   },
   "file_extension": ".py",
   "mimetype": "text/x-python",
   "name": "python",
   "nbconvert_exporter": "python",
   "pygments_lexer": "ipython3",
   "version": "3.12.4"
  }
 },
 "nbformat": 4,
 "nbformat_minor": 5
}
