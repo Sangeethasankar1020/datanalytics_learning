{
 "cells": [
  {
   "cell_type": "code",
   "execution_count": null,
   "id": "b2fce4cd-6a62-4079-ab0a-f7ea937e3ee3",
   "metadata": {},
   "outputs": [],
   "source": [
    "#indexing"
   ]
  },
  {
   "cell_type": "code",
   "execution_count": 66,
   "id": "e912e712-487b-4e9d-a3af-514494a40e77",
   "metadata": {},
   "outputs": [],
   "source": [
    "import numpy as np"
   ]
  },
  {
   "cell_type": "code",
   "execution_count": 68,
   "id": "9c553e16-8db8-4dd5-bde5-d51512b88d3c",
   "metadata": {},
   "outputs": [],
   "source": [
    "# 1- d"
   ]
  },
  {
   "cell_type": "code",
   "execution_count": 70,
   "id": "469a9515-1e95-4326-a6a0-873ce90277eb",
   "metadata": {},
   "outputs": [],
   "source": [
    "y = np.array([1,2,3,\"hello\",6,5,\"world\"])"
   ]
  },
  {
   "cell_type": "code",
   "execution_count": 72,
   "id": "23d08886-12fe-4414-b8ce-a9efad68cde7",
   "metadata": {},
   "outputs": [
    {
     "name": "stdout",
     "output_type": "stream",
     "text": [
      "1\n"
     ]
    }
   ],
   "source": [
    "print(y[0])"
   ]
  },
  {
   "cell_type": "code",
   "execution_count": 74,
   "id": "a1cba106-a284-4c85-84e9-2f93026c6196",
   "metadata": {},
   "outputs": [],
   "source": [
    "#2 -d - [0,0]"
   ]
  },
  {
   "cell_type": "code",
   "execution_count": 76,
   "id": "9c2746fa-2739-44ef-bd4e-e2f9af68c0cb",
   "metadata": {},
   "outputs": [],
   "source": [
    "z=np.array([[1,2,3],[4,5,6]])"
   ]
  },
  {
   "cell_type": "code",
   "execution_count": 78,
   "id": "fd06bc4c-0ff3-4adb-b4df-9d9fde8b3fd2",
   "metadata": {},
   "outputs": [
    {
     "name": "stdout",
     "output_type": "stream",
     "text": [
      "4\n"
     ]
    }
   ],
   "source": [
    "print(z[1,0])"
   ]
  },
  {
   "cell_type": "code",
   "execution_count": 80,
   "id": "90ff7c02-c170-4f27-9e65-9e2fea5abe85",
   "metadata": {},
   "outputs": [],
   "source": [
    "# 3- d"
   ]
  },
  {
   "cell_type": "code",
   "execution_count": 82,
   "id": "15e955e0-f455-42a2-9a53-7aae7310d2bf",
   "metadata": {},
   "outputs": [],
   "source": [
    "m=np.array([[[1,2,3],[4,5,6],[1,2,4],[4,5,9]]])"
   ]
  },
  {
   "cell_type": "code",
   "execution_count": 84,
   "id": "e1ea720d-158e-4757-80a4-d53db4edf1fc",
   "metadata": {},
   "outputs": [
    {
     "name": "stdout",
     "output_type": "stream",
     "text": [
      "[4 5 6]\n"
     ]
    }
   ],
   "source": [
    "print(m[0,1])"
   ]
  },
  {
   "cell_type": "code",
   "execution_count": 86,
   "id": "0dffcaad-7799-41be-9bdf-d2b68ca39e23",
   "metadata": {},
   "outputs": [],
   "source": [
    "#negative indexing"
   ]
  },
  {
   "cell_type": "code",
   "execution_count": 88,
   "id": "b9826496-9768-41a6-9008-03cf083030dc",
   "metadata": {},
   "outputs": [
    {
     "name": "stdout",
     "output_type": "stream",
     "text": [
      "9\n"
     ]
    }
   ],
   "source": [
    "print(m[0,-1,-1])"
   ]
  },
  {
   "cell_type": "code",
   "execution_count": null,
   "id": "35b0a026-0051-4ce6-96e5-916b5a997124",
   "metadata": {},
   "outputs": [],
   "source": []
  },
  {
   "cell_type": "code",
   "execution_count": null,
   "id": "61185ff9-2336-4e35-855d-24e9ef92f154",
   "metadata": {},
   "outputs": [],
   "source": []
  },
  {
   "cell_type": "code",
   "execution_count": null,
   "id": "d06eba5d-46a7-4e8b-88b8-6f3d505ad561",
   "metadata": {},
   "outputs": [],
   "source": []
  },
  {
   "cell_type": "code",
   "execution_count": null,
   "id": "696a2e8e-bfd7-4263-9766-a1e1825dcf09",
   "metadata": {},
   "outputs": [],
   "source": []
  },
  {
   "cell_type": "code",
   "execution_count": null,
   "id": "17c8ed7c-be3e-4b6c-9256-5d808f17a4f4",
   "metadata": {},
   "outputs": [],
   "source": []
  }
 ],
 "metadata": {
  "kernelspec": {
   "display_name": "Python 3 (ipykernel)",
   "language": "python",
   "name": "python3"
  },
  "language_info": {
   "codemirror_mode": {
    "name": "ipython",
    "version": 3
   },
   "file_extension": ".py",
   "mimetype": "text/x-python",
   "name": "python",
   "nbconvert_exporter": "python",
   "pygments_lexer": "ipython3",
   "version": "3.12.4"
  }
 },
 "nbformat": 4,
 "nbformat_minor": 5
}
