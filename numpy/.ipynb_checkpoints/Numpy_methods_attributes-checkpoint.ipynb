{
 "cells": [
  {
   "cell_type": "markdown",
   "id": "41fc6910-c533-4b97-a7c4-58cf2179bf19",
   "metadata": {},
   "source": [
    "# Numpy Methods and Atrributes "
   ]
  },
  {
   "cell_type": "markdown",
   "id": "10e00b81-b06d-4656-af7f-03851465e1e2",
   "metadata": {},
   "source": [
    "###  Array Creation"
   ]
  },
  {
   "cell_type": "code",
   "execution_count": 3,
   "id": "d42f5836-f55a-4475-9edb-abbcfeb6284c",
   "metadata": {},
   "outputs": [],
   "source": [
    "import numpy as np"
   ]
  },
  {
   "cell_type": "code",
   "execution_count": 5,
   "id": "d5a77c78-f876-4bb0-bb06-515f660667f2",
   "metadata": {},
   "outputs": [
    {
     "name": "stdout",
     "output_type": "stream",
     "text": [
      "Array: [1 2 3 4 5]\n"
     ]
    }
   ],
   "source": [
    "arr=np.array([1,2,3,4,5])\n",
    "print(\"Array:\",arr)"
   ]
  },
  {
   "cell_type": "code",
   "execution_count": null,
   "id": "53f97789-6337-46d7-99fb-cac11505c48e",
   "metadata": {},
   "outputs": [],
   "source": []
  },
  {
   "cell_type": "code",
   "execution_count": null,
   "id": "87bfd60a-e147-4bde-96d7-a8ada846d167",
   "metadata": {},
   "outputs": [],
   "source": []
  },
  {
   "cell_type": "code",
   "execution_count": null,
   "id": "33532316-450e-497f-aa72-4e65ce637744",
   "metadata": {},
   "outputs": [],
   "source": []
  },
  {
   "cell_type": "code",
   "execution_count": null,
   "id": "d9e6a70d-5a54-4051-a722-d5df64d03c0a",
   "metadata": {},
   "outputs": [],
   "source": []
  },
  {
   "cell_type": "code",
   "execution_count": null,
   "id": "d264338d-cbf9-4422-99f5-17aedecb9da2",
   "metadata": {},
   "outputs": [],
   "source": []
  },
  {
   "cell_type": "code",
   "execution_count": null,
   "id": "bfbd0c8e-c9ba-4efd-964b-1b5dc70917ee",
   "metadata": {},
   "outputs": [],
   "source": []
  }
 ],
 "metadata": {
  "kernelspec": {
   "display_name": "Python 3 (ipykernel)",
   "language": "python",
   "name": "python3"
  },
  "language_info": {
   "codemirror_mode": {
    "name": "ipython",
    "version": 3
   },
   "file_extension": ".py",
   "mimetype": "text/x-python",
   "name": "python",
   "nbconvert_exporter": "python",
   "pygments_lexer": "ipython3",
   "version": "3.12.4"
  }
 },
 "nbformat": 4,
 "nbformat_minor": 5
}
