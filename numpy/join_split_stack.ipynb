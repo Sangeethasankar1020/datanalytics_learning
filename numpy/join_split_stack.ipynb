{
 "cells": [
  {
   "cell_type": "markdown",
   "id": "fcd92fba-056b-4c1f-99ad-7a1b3ee245bf",
   "metadata": {},
   "source": [
    "# Join Split Stack "
   ]
  },
  {
   "cell_type": "markdown",
   "id": "9f98379f-a60b-4326-8eb9-59a6687fd57c",
   "metadata": {},
   "source": [
    "### Join "
   ]
  },
  {
   "cell_type": "code",
   "execution_count": 3,
   "id": "8d453b40-cba7-44cc-a39b-aed4dbc4365b",
   "metadata": {},
   "outputs": [],
   "source": [
    "import numpy as np"
   ]
  },
  {
   "cell_type": "code",
   "execution_count": 5,
   "id": "9812cf3e-4660-4ced-a157-bbbd7cc41c50",
   "metadata": {},
   "outputs": [],
   "source": [
    "a=np.array([[1,2],[3,4]])\n",
    "b=np.array([[5,6]])"
   ]
  },
  {
   "cell_type": "code",
   "execution_count": 9,
   "id": "d84ed2b6-07dc-470b-ab0a-75305df0ac77",
   "metadata": {},
   "outputs": [
    {
     "name": "stdout",
     "output_type": "stream",
     "text": [
      "[[1 2]\n",
      " [3 4]\n",
      " [5 6]]\n"
     ]
    }
   ],
   "source": [
    "#rows\n",
    "result=np.concatenate((a,b),axis=0)\n",
    "print(result)"
   ]
  },
  {
   "cell_type": "code",
   "execution_count": 12,
   "id": "3d2cd1b0-91c8-4bd2-91f1-4478d19017d9",
   "metadata": {},
   "outputs": [
    {
     "name": "stdout",
     "output_type": "stream",
     "text": [
      "[[1 2]\n",
      " [3 4]\n",
      " [5 6]]\n"
     ]
    }
   ],
   "source": [
    "# - vertical stacking - vstack\n",
    "result=np.vstack((a,b))\n",
    "print(result)"
   ]
  },
  {
   "cell_type": "code",
   "execution_count": 14,
   "id": "f427d1a4-4177-4393-a756-3352520d7dae",
   "metadata": {},
   "outputs": [
    {
     "name": "stdout",
     "output_type": "stream",
     "text": [
      "[[1 2 5]\n",
      " [3 4 6]]\n"
     ]
    }
   ],
   "source": [
    "#horizontal stacking - hstack\n",
    "result=np.hstack((a,b.T))\n",
    "print(result)"
   ]
  },
  {
   "cell_type": "markdown",
   "id": "d5d5dfe7-5b3f-4e13-835e-7f846b307417",
   "metadata": {},
   "source": [
    "### Split "
   ]
  },
  {
   "cell_type": "code",
   "execution_count": 29,
   "id": "72160c9f-a501-4c90-b4b3-e149c72ca631",
   "metadata": {},
   "outputs": [
    {
     "name": "stdout",
     "output_type": "stream",
     "text": [
      "[array([[1],\n",
      "       [4]]), array([[2],\n",
      "       [5]]), array([[3],\n",
      "       [6]])]\n"
     ]
    }
   ],
   "source": [
    "#Splitting arrays divides them into sub-arrays.\n",
    "a=np.array([[1,2,3],[4,5,6]])\n",
    "\n",
    "result=np.split(a,3,axis=1)\n",
    "print(result)"
   ]
  },
  {
   "cell_type": "markdown",
   "id": "c55332eb-4a11-4089-9bd6-a0237f8df14b",
   "metadata": {},
   "source": [
    "### Stack "
   ]
  },
  {
   "cell_type": "code",
   "execution_count": 34,
   "id": "37b6e87d-8fa2-4333-b667-19ab1a65c733",
   "metadata": {},
   "outputs": [
    {
     "name": "stdout",
     "output_type": "stream",
     "text": [
      "[[1 2 3]\n",
      " [4 5 6]]\n"
     ]
    }
   ],
   "source": [
    "a=np.array([1,2,3])\n",
    "b=np.array([4,5,6])\n",
    "\n",
    "#stack along a new axis\n",
    "result=np.stack((a,b),axis=0)\n",
    "print(result)"
   ]
  },
  {
   "cell_type": "code",
   "execution_count": 36,
   "id": "8be86401-b93b-4550-b41c-1e49640c9fdf",
   "metadata": {},
   "outputs": [
    {
     "name": "stdout",
     "output_type": "stream",
     "text": [
      "[[1 2 3]\n",
      " [4 5 6]]\n"
     ]
    }
   ],
   "source": [
    "result=np.vstack((a,b))\n",
    "print(result)"
   ]
  },
  {
   "cell_type": "code",
   "execution_count": null,
   "id": "3a555610-e41c-4bee-8d87-128f1349a118",
   "metadata": {},
   "outputs": [],
   "source": []
  },
  {
   "cell_type": "code",
   "execution_count": null,
   "id": "644001e7-c117-4e46-b0c0-7159b333a1d1",
   "metadata": {},
   "outputs": [],
   "source": []
  }
 ],
 "metadata": {
  "kernelspec": {
   "display_name": "Python 3 (ipykernel)",
   "language": "python",
   "name": "python3"
  },
  "language_info": {
   "codemirror_mode": {
    "name": "ipython",
    "version": 3
   },
   "file_extension": ".py",
   "mimetype": "text/x-python",
   "name": "python",
   "nbconvert_exporter": "python",
   "pygments_lexer": "ipython3",
   "version": "3.12.4"
  }
 },
 "nbformat": 4,
 "nbformat_minor": 5
}
