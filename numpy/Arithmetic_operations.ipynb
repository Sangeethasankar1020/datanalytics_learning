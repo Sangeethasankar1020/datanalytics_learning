{
 "cells": [
  {
   "cell_type": "markdown",
   "id": "3f637f75-87c3-4d55-bb3e-6272a878a185",
   "metadata": {},
   "source": [
    "# Arithmetic Operations "
   ]
  },
  {
   "cell_type": "code",
   "execution_count": 3,
   "id": "3c89d508-0860-40b4-90b8-32535d256e7d",
   "metadata": {},
   "outputs": [],
   "source": [
    "import numpy as np"
   ]
  },
  {
   "cell_type": "code",
   "execution_count": 5,
   "id": "76f79289-ba32-4269-9b32-9716b6cb0741",
   "metadata": {},
   "outputs": [],
   "source": [
    "#create two array"
   ]
  },
  {
   "cell_type": "code",
   "execution_count": 9,
   "id": "78f74861-4cdb-4642-8950-66a14b94682c",
   "metadata": {},
   "outputs": [],
   "source": [
    "a=np.array([1,2,3])\n",
    "b=np.array([4,5,6])"
   ]
  },
  {
   "cell_type": "code",
   "execution_count": 11,
   "id": "6f6ec765-06ba-40a9-b414-e7453f7ad5c1",
   "metadata": {},
   "outputs": [],
   "source": [
    "#arithmetic operations"
   ]
  },
  {
   "cell_type": "code",
   "execution_count": 13,
   "id": "93d2bc55-487a-4247-999b-4d1114c61c78",
   "metadata": {},
   "outputs": [
    {
     "name": "stdout",
     "output_type": "stream",
     "text": [
      "[5 7 9]\n"
     ]
    }
   ],
   "source": [
    "print(a+b)"
   ]
  },
  {
   "cell_type": "code",
   "execution_count": 15,
   "id": "1ef8bb09-5d7f-48ac-b220-db93e90e2ffb",
   "metadata": {},
   "outputs": [
    {
     "name": "stdout",
     "output_type": "stream",
     "text": [
      "[-3 -3 -3]\n"
     ]
    }
   ],
   "source": [
    "print(a-b)"
   ]
  },
  {
   "cell_type": "code",
   "execution_count": 17,
   "id": "4047b13b-c412-489a-8daa-6f90da796799",
   "metadata": {},
   "outputs": [
    {
     "name": "stdout",
     "output_type": "stream",
     "text": [
      "[ 4 10 18]\n"
     ]
    }
   ],
   "source": [
    "print(a*b)"
   ]
  },
  {
   "cell_type": "code",
   "execution_count": 19,
   "id": "861e7817-4744-4ae6-b010-d5bba80cf7fd",
   "metadata": {},
   "outputs": [
    {
     "name": "stdout",
     "output_type": "stream",
     "text": [
      "[0.25 0.4  0.5 ]\n"
     ]
    }
   ],
   "source": [
    "print(a/b)"
   ]
  },
  {
   "cell_type": "code",
   "execution_count": 21,
   "id": "b5149d69-e199-4995-bb3e-cd18d89d1ecc",
   "metadata": {},
   "outputs": [
    {
     "name": "stdout",
     "output_type": "stream",
     "text": [
      "[  1  32 729]\n"
     ]
    }
   ],
   "source": [
    "print(a**b)"
   ]
  },
  {
   "cell_type": "code",
   "execution_count": 23,
   "id": "ccf20db6-cf91-49cc-b297-6c0a3e0eaec2",
   "metadata": {},
   "outputs": [],
   "source": [
    "#scalar operations"
   ]
  },
  {
   "cell_type": "code",
   "execution_count": 25,
   "id": "5c23a037-6104-4985-994f-b3405ff6969e",
   "metadata": {},
   "outputs": [
    {
     "name": "stdout",
     "output_type": "stream",
     "text": [
      "[11 12 13]\n"
     ]
    }
   ],
   "source": [
    "print(a+10)"
   ]
  },
  {
   "cell_type": "code",
   "execution_count": 27,
   "id": "36a2998e-649b-43ab-b22c-0820f80cacbe",
   "metadata": {},
   "outputs": [
    {
     "name": "stdout",
     "output_type": "stream",
     "text": [
      "[3 6 9]\n"
     ]
    }
   ],
   "source": [
    "print(a*3)"
   ]
  },
  {
   "cell_type": "markdown",
   "id": "c1eb6325-be59-4d0e-95c9-0d3ba8bed35f",
   "metadata": {},
   "source": [
    "# Matrix Operations "
   ]
  },
  {
   "cell_type": "markdown",
   "id": "44517ff2-ef71-475f-a11a-045c6bc69ec0",
   "metadata": {},
   "source": [
    "<p style=\"color:black font-size:16px\">Matrix manipulations like matrix multiplication, transposition, inverse, etc., are commonly used in data manipulation.</p>"
   ]
  },
  {
   "cell_type": "markdown",
   "id": "e771b6e2-52ab-4028-86b4-8cff3c12b5ee",
   "metadata": {},
   "source": [
    "### Matrix multiplication "
   ]
  },
  {
   "cell_type": "code",
   "execution_count": 33,
   "id": "7ef0f49a-1bba-4328-8e92-2245d3d37777",
   "metadata": {},
   "outputs": [],
   "source": [
    "# use np.dot() or the @ operator."
   ]
  },
  {
   "cell_type": "code",
   "execution_count": 35,
   "id": "47e5e2af-e078-4b8e-9178-c7f01f8b839c",
   "metadata": {},
   "outputs": [],
   "source": [
    "#create two 2d arrays (matrixex)"
   ]
  },
  {
   "cell_type": "code",
   "execution_count": 41,
   "id": "432c3cf2-8502-4a31-85d6-c8b041948e8b",
   "metadata": {},
   "outputs": [],
   "source": [
    "A=np.array([[1,2],[3,4]])\n",
    "B=np.array([[5,6],[7,8]])"
   ]
  },
  {
   "cell_type": "code",
   "execution_count": 43,
   "id": "47eab429-e252-4cc9-8f19-1803945b6fdb",
   "metadata": {},
   "outputs": [
    {
     "name": "stdout",
     "output_type": "stream",
     "text": [
      "[[19 22]\n",
      " [43 50]]\n"
     ]
    }
   ],
   "source": [
    "print(np.dot(A,B))"
   ]
  },
  {
   "cell_type": "code",
   "execution_count": 45,
   "id": "5130103f-8b92-471b-b00d-a26ce0a5de06",
   "metadata": {},
   "outputs": [
    {
     "name": "stdout",
     "output_type": "stream",
     "text": [
      "[[19 22]\n",
      " [43 50]]\n"
     ]
    }
   ],
   "source": [
    "print(A @ B)"
   ]
  },
  {
   "cell_type": "markdown",
   "id": "f0f91acc-4070-4dae-8e32-4a4950054633",
   "metadata": {},
   "source": [
    "### Matrix Transposition"
   ]
  },
  {
   "cell_type": "code",
   "execution_count": 48,
   "id": "bba5b996-eab3-4182-8f54-442a140788a1",
   "metadata": {},
   "outputs": [],
   "source": [
    "# using .T attributes"
   ]
  },
  {
   "cell_type": "code",
   "execution_count": 50,
   "id": "bcda9d1c-09c6-4601-b84b-98428de33549",
   "metadata": {},
   "outputs": [
    {
     "name": "stdout",
     "output_type": "stream",
     "text": [
      "[[1 3]\n",
      " [2 4]]\n"
     ]
    }
   ],
   "source": [
    "print(A.T)"
   ]
  },
  {
   "cell_type": "markdown",
   "id": "324fdbcb-f0dc-4013-a992-b686c96e2daf",
   "metadata": {},
   "source": [
    "### Identity Matrix "
   ]
  },
  {
   "cell_type": "code",
   "execution_count": 53,
   "id": "7b6bb210-9b7d-46d6-90c0-1b82bb1a9427",
   "metadata": {},
   "outputs": [],
   "source": [
    "# using eye()"
   ]
  },
  {
   "cell_type": "code",
   "execution_count": 55,
   "id": "56dcbc1a-b11b-4bcb-80f2-53ad28a00883",
   "metadata": {},
   "outputs": [],
   "source": [
    "#create a 3*3 identity matrix"
   ]
  },
  {
   "cell_type": "code",
   "execution_count": 57,
   "id": "c16c4b63-05fa-451b-afe0-afabc46533f7",
   "metadata": {},
   "outputs": [
    {
     "name": "stdout",
     "output_type": "stream",
     "text": [
      "[[1. 0. 0.]\n",
      " [0. 1. 0.]\n",
      " [0. 0. 1.]]\n"
     ]
    }
   ],
   "source": [
    "I=np.eye(3)\n",
    "print(I)"
   ]
  },
  {
   "cell_type": "markdown",
   "id": "ee5c3746-dda4-4882-bd2e-d764c124e7e5",
   "metadata": {},
   "source": [
    "### Inverse of a Matrix "
   ]
  },
  {
   "cell_type": "code",
   "execution_count": 60,
   "id": "15898c71-ca44-47bb-919e-acfcd819ac1e",
   "metadata": {},
   "outputs": [],
   "source": [
    "#using np.linalg.inv()"
   ]
  },
  {
   "cell_type": "code",
   "execution_count": 68,
   "id": "8a9ec066-d438-4bd5-85e1-2fb70d836e25",
   "metadata": {},
   "outputs": [],
   "source": [
    "A=np.array([[1,2],[3,4]])"
   ]
  },
  {
   "cell_type": "code",
   "execution_count": 70,
   "id": "d731185f-bcd8-4f94-9cb9-4eb33060546d",
   "metadata": {},
   "outputs": [],
   "source": [
    "inv_A=np.linalg.inv(A)"
   ]
  },
  {
   "cell_type": "code",
   "execution_count": 72,
   "id": "828a3c81-e908-4084-b36c-c590e4f6dbd0",
   "metadata": {},
   "outputs": [
    {
     "name": "stdout",
     "output_type": "stream",
     "text": [
      "[[-2.   1. ]\n",
      " [ 1.5 -0.5]]\n"
     ]
    }
   ],
   "source": [
    "print(inv_A)"
   ]
  },
  {
   "cell_type": "markdown",
   "id": "f2ae2cd2-c2cc-4ad2-af77-6e5e38a1dda7",
   "metadata": {},
   "source": [
    "### Determinant of  a matrix"
   ]
  },
  {
   "cell_type": "code",
   "execution_count": 75,
   "id": "345b941f-ce10-4028-97cf-9dbfc48602f9",
   "metadata": {},
   "outputs": [
    {
     "name": "stdout",
     "output_type": "stream",
     "text": [
      "-2.0000000000000004\n"
     ]
    }
   ],
   "source": [
    "det_A =np.linalg.det(A)\n",
    "print(det_A)"
   ]
  },
  {
   "cell_type": "markdown",
   "id": "ddbe733c-4bd4-4dea-877e-4fc5dfaff0cd",
   "metadata": {},
   "source": [
    "### Broadcasting in Arithmetic Operations "
   ]
  },
  {
   "cell_type": "code",
   "execution_count": 84,
   "id": "9a95fdf9-78dc-4b82-805d-078fef5604e7",
   "metadata": {},
   "outputs": [],
   "source": [
    "a=np.array([1,2,3])\n",
    "b=np.array([[10],[20],[30]])"
   ]
  },
  {
   "cell_type": "code",
   "execution_count": 86,
   "id": "922b7037-540a-42b4-ae38-bdd1efee64a4",
   "metadata": {},
   "outputs": [
    {
     "name": "stdout",
     "output_type": "stream",
     "text": [
      "[[11 12 13]\n",
      " [21 22 23]\n",
      " [31 32 33]]\n"
     ]
    }
   ],
   "source": [
    "print(a+b)"
   ]
  },
  {
   "cell_type": "code",
   "execution_count": null,
   "id": "e28581e9-6f14-46ee-81ee-2909b8d3fcb1",
   "metadata": {},
   "outputs": [],
   "source": []
  }
 ],
 "metadata": {
  "kernelspec": {
   "display_name": "Python 3 (ipykernel)",
   "language": "python",
   "name": "python3"
  },
  "language_info": {
   "codemirror_mode": {
    "name": "ipython",
    "version": 3
   },
   "file_extension": ".py",
   "mimetype": "text/x-python",
   "name": "python",
   "nbconvert_exporter": "python",
   "pygments_lexer": "ipython3",
   "version": "3.12.4"
  }
 },
 "nbformat": 4,
 "nbformat_minor": 5
}
