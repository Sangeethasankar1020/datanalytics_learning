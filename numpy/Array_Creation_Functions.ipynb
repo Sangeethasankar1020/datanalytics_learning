{
 "cells": [
  {
   "cell_type": "markdown",
   "id": "fc335c9b-c120-4ce3-859d-0a16a0bde65d",
   "metadata": {},
   "source": [
    "# Array Creation Functions"
   ]
  },
  {
   "cell_type": "markdown",
   "id": "521e2ff0-80d5-486a-9d55-93de0ad31bec",
   "metadata": {},
   "source": [
    "### Identity "
   ]
  },
  {
   "cell_type": "code",
   "execution_count": 3,
   "id": "b5aba37a-225a-42dd-a5e6-a324a94880ab",
   "metadata": {},
   "outputs": [],
   "source": [
    "#Purpose: Creates a square identity matrix.\n",
    "#Shape: The output is a 2D array where the diagonal elements are 1 and all other elements are 0."
   ]
  },
  {
   "cell_type": "code",
   "execution_count": 5,
   "id": "888ab631-6029-43ff-bdbd-e7726c40043d",
   "metadata": {},
   "outputs": [],
   "source": [
    "import numpy as np"
   ]
  },
  {
   "cell_type": "code",
   "execution_count": null,
   "id": "f13d8366-c68b-4332-a4e6-5e00e6fbd616",
   "metadata": {},
   "outputs": [],
   "source": [
    "#identity_matrix = np.identity(n)"
   ]
  },
  {
   "cell_type": "code",
   "execution_count": 7,
   "id": "e1ec8255-de51-4777-95bc-5eec18a7b201",
   "metadata": {},
   "outputs": [
    {
     "name": "stdout",
     "output_type": "stream",
     "text": [
      "[[1. 0. 0.]\n",
      " [0. 1. 0.]\n",
      " [0. 0. 1.]]\n"
     ]
    }
   ],
   "source": [
    "identity_matrix=np.identity(3)\n",
    "print(identity_matrix)"
   ]
  },
  {
   "cell_type": "markdown",
   "id": "edfc0e7f-4492-472f-9f93-7fe57c8cfc96",
   "metadata": {},
   "source": [
    "### Ones "
   ]
  },
  {
   "cell_type": "code",
   "execution_count": 12,
   "id": "7ebf7f1f-b993-4638-8fb8-f9978fe47d3d",
   "metadata": {},
   "outputs": [],
   "source": [
    "#Purpose: Creates an array filled with 1s.\n",
    "#Shape: The shape of the output is determined by the given argument."
   ]
  },
  {
   "cell_type": "code",
   "execution_count": 16,
   "id": "bfc50f1b-04a9-44ce-8bc9-16517691fe29",
   "metadata": {},
   "outputs": [],
   "source": [
    "#ones_array = np.ones(shape, dtype=None)\n",
    "#shape: Tuple defining the shape of the array.\n",
    "#dtype: Optional, specifies the data type (e.g., int, float)."
   ]
  },
  {
   "cell_type": "code",
   "execution_count": 20,
   "id": "1db1e20b-484e-4b67-a5d9-a3caee08a5ab",
   "metadata": {},
   "outputs": [
    {
     "name": "stdout",
     "output_type": "stream",
     "text": [
      "[[1. 1. 1.]\n",
      " [1. 1. 1.]]\n"
     ]
    }
   ],
   "source": [
    "ones_array=np.ones((2,3))\n",
    "print(ones_array)\n"
   ]
  },
  {
   "cell_type": "markdown",
   "id": "8a08d0a2-bbc6-4a80-882c-67d911608680",
   "metadata": {},
   "source": [
    "### zeros"
   ]
  },
  {
   "cell_type": "code",
   "execution_count": 23,
   "id": "4d041551-cbb6-49ff-aec1-b6ea3714b3d3",
   "metadata": {},
   "outputs": [],
   "source": [
    "#Purpose: Creates an array filled with 0s.\n",
    "#Shape: Like ones, the shape of the array is defined by the user."
   ]
  },
  {
   "cell_type": "code",
   "execution_count": 29,
   "id": "ce98eb3c-5fac-4c59-9251-b194fad6bb71",
   "metadata": {},
   "outputs": [],
   "source": [
    "#zeros_array = np.zeros(shape, dtype=None)"
   ]
  },
  {
   "cell_type": "code",
   "execution_count": 31,
   "id": "fbde8127-ad83-4f78-86e3-e59c21fcfac7",
   "metadata": {},
   "outputs": [
    {
     "name": "stdout",
     "output_type": "stream",
     "text": [
      "[[0. 0.]\n",
      " [0. 0.]\n",
      " [0. 0.]]\n"
     ]
    }
   ],
   "source": [
    "zeros_array=np.zeros((3,2))\n",
    "print(zeros_array)"
   ]
  },
  {
   "cell_type": "markdown",
   "id": "658f4fab-e0e5-4728-a94e-401e795bea33",
   "metadata": {},
   "source": [
    "### full "
   ]
  },
  {
   "cell_type": "code",
   "execution_count": 34,
   "id": "e2f50c6c-fbcf-4aea-bf48-56f264672c76",
   "metadata": {},
   "outputs": [],
   "source": [
    "#Purpose: Creates an array filled with a specified constant value.\n",
    "#Shape: Defined by the input shape, but the entire array is filled with a constant."
   ]
  },
  {
   "cell_type": "code",
   "execution_count": 36,
   "id": "84ff0762-c593-4d8e-aafc-ff6a9f87d15a",
   "metadata": {},
   "outputs": [],
   "source": [
    "#full_array = np.full(shape, fill_value, dtype=None)"
   ]
  },
  {
   "cell_type": "code",
   "execution_count": 38,
   "id": "8ac2e753-8af9-4689-acc2-f4fcfed0ae38",
   "metadata": {},
   "outputs": [
    {
     "name": "stdout",
     "output_type": "stream",
     "text": [
      "[[7 7 7]\n",
      " [7 7 7]]\n"
     ]
    }
   ],
   "source": [
    "full_value=np.full((2,3),7)\n",
    "print(full_value)"
   ]
  },
  {
   "cell_type": "code",
   "execution_count": null,
   "id": "6b97e4ff-7732-44e2-919b-438341d4ea48",
   "metadata": {},
   "outputs": [],
   "source": []
  }
 ],
 "metadata": {
  "kernelspec": {
   "display_name": "Python 3 (ipykernel)",
   "language": "python",
   "name": "python3"
  },
  "language_info": {
   "codemirror_mode": {
    "name": "ipython",
    "version": 3
   },
   "file_extension": ".py",
   "mimetype": "text/x-python",
   "name": "python",
   "nbconvert_exporter": "python",
   "pygments_lexer": "ipython3",
   "version": "3.12.4"
  }
 },
 "nbformat": 4,
 "nbformat_minor": 5
}
