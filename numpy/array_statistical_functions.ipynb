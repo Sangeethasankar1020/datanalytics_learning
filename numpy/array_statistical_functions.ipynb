{
 "cells": [
  {
   "cell_type": "markdown",
   "id": "24621ea4-145b-4b58-a186-c045aec74e32",
   "metadata": {},
   "source": [
    "# Array Statistical Functions"
   ]
  },
  {
   "cell_type": "markdown",
   "id": "e1d26d87-e565-4111-9c58-abd72446eca7",
   "metadata": {},
   "source": [
    "### Mean"
   ]
  },
  {
   "cell_type": "code",
   "execution_count": 3,
   "id": "de912ca4-8b51-481f-92b1-e084fdb0a292",
   "metadata": {},
   "outputs": [],
   "source": [
    "import numpy as np"
   ]
  },
  {
   "cell_type": "code",
   "execution_count": 5,
   "id": "2a87f3d9-252c-41c8-b13a-1113b384e899",
   "metadata": {},
   "outputs": [],
   "source": [
    "a=np.array([1,2,3,4,5])"
   ]
  },
  {
   "cell_type": "code",
   "execution_count": 7,
   "id": "28e8cda0-9dc6-43e5-a811-47d0ff9e1a9c",
   "metadata": {},
   "outputs": [],
   "source": [
    "mean_value=np.mean(a)"
   ]
  },
  {
   "cell_type": "code",
   "execution_count": 9,
   "id": "8b9fda44-ebe6-4de5-8a1c-9fd85c4ae5fc",
   "metadata": {},
   "outputs": [
    {
     "name": "stdout",
     "output_type": "stream",
     "text": [
      "3.0\n"
     ]
    }
   ],
   "source": [
    "print(mean_value)"
   ]
  },
  {
   "cell_type": "markdown",
   "id": "c699f576-9adb-4863-b2df-c72dc2cb32b1",
   "metadata": {},
   "source": [
    "### Median "
   ]
  },
  {
   "cell_type": "code",
   "execution_count": 12,
   "id": "10737580-77cf-4f42-b02e-61f44028d229",
   "metadata": {},
   "outputs": [],
   "source": [
    "# middle value of the array when it is sorted."
   ]
  },
  {
   "cell_type": "code",
   "execution_count": 14,
   "id": "7c126783-77bc-4641-ad5e-755e77a550f1",
   "metadata": {},
   "outputs": [],
   "source": [
    "median_value=np.median(a)"
   ]
  },
  {
   "cell_type": "code",
   "execution_count": 16,
   "id": "132aa439-5f3f-466d-a8dd-be19a3dcfa82",
   "metadata": {},
   "outputs": [
    {
     "name": "stdout",
     "output_type": "stream",
     "text": [
      "3.0\n"
     ]
    }
   ],
   "source": [
    "print(median_value)"
   ]
  },
  {
   "cell_type": "markdown",
   "id": "9cbe581e-f834-459c-a1d4-931933ba4dfc",
   "metadata": {},
   "source": [
    "### Standard Deviation "
   ]
  },
  {
   "cell_type": "code",
   "execution_count": 23,
   "id": "53b893f6-f297-4dde-aa9d-901e73929fe8",
   "metadata": {},
   "outputs": [],
   "source": [
    "# measures the spread of the data relative to the mean"
   ]
  },
  {
   "cell_type": "code",
   "execution_count": 25,
   "id": "fabf921c-dd3b-4c15-8e5b-66a7cb759994",
   "metadata": {},
   "outputs": [],
   "source": [
    "std_value=np.std(a)"
   ]
  },
  {
   "cell_type": "code",
   "execution_count": 27,
   "id": "ca4a7111-1f38-4ea9-b98c-6336896868a7",
   "metadata": {},
   "outputs": [
    {
     "name": "stdout",
     "output_type": "stream",
     "text": [
      "1.4142135623730951\n"
     ]
    }
   ],
   "source": [
    "print(std_value)"
   ]
  },
  {
   "cell_type": "markdown",
   "id": "2a7b025d-f00c-4829-b2bc-707ce569fc9c",
   "metadata": {},
   "source": [
    "### variance "
   ]
  },
  {
   "cell_type": "code",
   "execution_count": 34,
   "id": "0b58bcf6-ab8d-485f-8ea9-dda7247efd54",
   "metadata": {},
   "outputs": [],
   "source": [
    "#standard deviation and shows how much the data varies from the mean."
   ]
  },
  {
   "cell_type": "code",
   "execution_count": 36,
   "id": "135affa7-d3ca-4a3d-bab6-8d258d9fbc68",
   "metadata": {},
   "outputs": [],
   "source": [
    "variance_value=np.var(a)"
   ]
  },
  {
   "cell_type": "code",
   "execution_count": 38,
   "id": "1c2b5580-a3e0-4250-9a6a-0ce1d3b7e3ba",
   "metadata": {},
   "outputs": [
    {
     "name": "stdout",
     "output_type": "stream",
     "text": [
      "2.0\n"
     ]
    }
   ],
   "source": [
    "print(variance_value)"
   ]
  },
  {
   "cell_type": "markdown",
   "id": "8e9969cd-9bf9-4c9c-a9a4-84b004d4e555",
   "metadata": {},
   "source": [
    "### Minimum "
   ]
  },
  {
   "cell_type": "code",
   "execution_count": 41,
   "id": "8b72d8ad-d691-4a95-aafc-eb92a7829bff",
   "metadata": {},
   "outputs": [],
   "source": [
    "min_value=np.min(a)"
   ]
  },
  {
   "cell_type": "code",
   "execution_count": 43,
   "id": "15b9955c-f04a-490f-b34b-5cd5b5856dec",
   "metadata": {},
   "outputs": [
    {
     "name": "stdout",
     "output_type": "stream",
     "text": [
      "1\n"
     ]
    }
   ],
   "source": [
    "print(min_value)"
   ]
  },
  {
   "cell_type": "markdown",
   "id": "3bf4bd7d-3481-4364-b965-16d49a6506fe",
   "metadata": {},
   "source": [
    "### Maximum "
   ]
  },
  {
   "cell_type": "code",
   "execution_count": 46,
   "id": "07669a67-647d-4714-931c-b45a81c0cd09",
   "metadata": {},
   "outputs": [],
   "source": [
    "max_value=np.max(a)"
   ]
  },
  {
   "cell_type": "code",
   "execution_count": 48,
   "id": "ac5f0513-155a-44a3-b499-3ea7874e96da",
   "metadata": {},
   "outputs": [
    {
     "name": "stdout",
     "output_type": "stream",
     "text": [
      "5\n"
     ]
    }
   ],
   "source": [
    "print(max_value)"
   ]
  },
  {
   "cell_type": "markdown",
   "id": "47435fc6-98f1-4191-9163-5f6d624d4aef",
   "metadata": {},
   "source": [
    "### Range (Max -Min) "
   ]
  },
  {
   "cell_type": "code",
   "execution_count": 51,
   "id": "90d0bd2e-8e02-414d-a1ef-353b6c6d8311",
   "metadata": {},
   "outputs": [],
   "source": [
    "range_value=np.ptp(a)"
   ]
  },
  {
   "cell_type": "code",
   "execution_count": 53,
   "id": "bfa716bc-7926-45ed-9e45-bd4c2149c6ca",
   "metadata": {},
   "outputs": [
    {
     "name": "stdout",
     "output_type": "stream",
     "text": [
      "4\n"
     ]
    }
   ],
   "source": [
    "print(range_value)"
   ]
  },
  {
   "cell_type": "markdown",
   "id": "677fe98c-7021-4371-9756-213d12c5066d",
   "metadata": {},
   "source": [
    "### Percentile "
   ]
  },
  {
   "cell_type": "code",
   "execution_count": 66,
   "id": "71495e05-68ea-452a-8842-a26b6c30689d",
   "metadata": {},
   "outputs": [],
   "source": [
    "# value below which a given percentage of observations\n",
    " #Calculate 50th percentile (same as median)"
   ]
  },
  {
   "cell_type": "code",
   "execution_count": 68,
   "id": "63e83cda-b581-41ca-9535-2f34e726373e",
   "metadata": {},
   "outputs": [],
   "source": [
    "percentile_50=np.percentile(a,50)"
   ]
  },
  {
   "cell_type": "code",
   "execution_count": 70,
   "id": "98a3377a-30db-4391-a0a0-02eb3cd49222",
   "metadata": {},
   "outputs": [
    {
     "name": "stdout",
     "output_type": "stream",
     "text": [
      "3.0\n"
     ]
    }
   ],
   "source": [
    "print(percentile_50)"
   ]
  },
  {
   "cell_type": "markdown",
   "id": "bb5b0acd-eaef-4d48-a2f5-39b274ace017",
   "metadata": {},
   "source": [
    "### Sum "
   ]
  },
  {
   "cell_type": "code",
   "execution_count": 73,
   "id": "a796aa71-e85b-47cf-b8f4-620a87d45e8f",
   "metadata": {},
   "outputs": [],
   "source": [
    "sum_value=np.sum(a)"
   ]
  },
  {
   "cell_type": "code",
   "execution_count": 75,
   "id": "0959dd74-edf2-4638-8cf4-1a71b6754696",
   "metadata": {},
   "outputs": [
    {
     "name": "stdout",
     "output_type": "stream",
     "text": [
      "15\n"
     ]
    }
   ],
   "source": [
    "print(sum_value)"
   ]
  },
  {
   "cell_type": "markdown",
   "id": "355eab31-f724-4431-8263-24c847c546b4",
   "metadata": {},
   "source": [
    "### Product "
   ]
  },
  {
   "cell_type": "code",
   "execution_count": 78,
   "id": "69b66378-6742-4f8c-a13c-69ba0af42d9c",
   "metadata": {},
   "outputs": [],
   "source": [
    "product_value=np.prod(a)"
   ]
  },
  {
   "cell_type": "code",
   "execution_count": 80,
   "id": "063b9246-87ca-456d-acfe-07a459ea93c4",
   "metadata": {},
   "outputs": [
    {
     "name": "stdout",
     "output_type": "stream",
     "text": [
      "120\n"
     ]
    }
   ],
   "source": [
    "print(product_value)"
   ]
  },
  {
   "cell_type": "markdown",
   "id": "e5474e8b-faee-45e6-b0fa-9dc677f2ba45",
   "metadata": {},
   "source": [
    "### Cumulative Sum "
   ]
  },
  {
   "cell_type": "code",
   "execution_count": 83,
   "id": "07d47693-e7bb-4017-b1a8-54b1bef74601",
   "metadata": {},
   "outputs": [
    {
     "name": "stdout",
     "output_type": "stream",
     "text": [
      "[ 1  3  6 10 15]\n"
     ]
    }
   ],
   "source": [
    "cumsum_value=np.cumsum(a)\n",
    "print(cumsum_value)"
   ]
  },
  {
   "cell_type": "markdown",
   "id": "9549d3ec-33f5-403d-8520-8fefd472ad15",
   "metadata": {},
   "source": [
    "### cumulative Product "
   ]
  },
  {
   "cell_type": "code",
   "execution_count": 86,
   "id": "12cb3944-3c5d-4db6-832f-cbd0023ecca4",
   "metadata": {},
   "outputs": [
    {
     "name": "stdout",
     "output_type": "stream",
     "text": [
      "[  1   2   6  24 120]\n"
     ]
    }
   ],
   "source": [
    "cumprod_value=np.cumprod(a)\n",
    "print(cumprod_value)"
   ]
  },
  {
   "cell_type": "markdown",
   "id": "e308ae37-6866-4382-b62d-7456b6431645",
   "metadata": {},
   "source": [
    "### Unique elements and counts "
   ]
  },
  {
   "cell_type": "code",
   "execution_count": 94,
   "id": "74f267d3-c0d5-495e-95e5-f4b521636481",
   "metadata": {},
   "outputs": [
    {
     "name": "stdout",
     "output_type": "stream",
     "text": [
      "[1 2 3]\n",
      "[1 2 3]\n"
     ]
    }
   ],
   "source": [
    "# Example array\n",
    "b = np.array([1, 2, 2, 3, 3, 3])\n",
    "\n",
    "\n",
    "unique_values, counts = np.unique(b, return_counts=True)\n",
    "print(unique_values)  \n",
    "print(counts)        \n"
   ]
  },
  {
   "cell_type": "code",
   "execution_count": null,
   "id": "4e7d9fdc-530d-4d62-92f1-0bb06dbedb0c",
   "metadata": {},
   "outputs": [],
   "source": []
  },
  {
   "cell_type": "code",
   "execution_count": null,
   "id": "32263b74-771e-4c2f-97f5-4a959b08eb47",
   "metadata": {},
   "outputs": [],
   "source": []
  }
 ],
 "metadata": {
  "kernelspec": {
   "display_name": "Python 3 (ipykernel)",
   "language": "python",
   "name": "python3"
  },
  "language_info": {
   "codemirror_mode": {
    "name": "ipython",
    "version": 3
   },
   "file_extension": ".py",
   "mimetype": "text/x-python",
   "name": "python",
   "nbconvert_exporter": "python",
   "pygments_lexer": "ipython3",
   "version": "3.12.4"
  }
 },
 "nbformat": 4,
 "nbformat_minor": 5
}
