{
 "cells": [
  {
   "cell_type": "markdown",
   "id": "9ff76bd1-2ed4-451a-8458-6ad1c0247083",
   "metadata": {},
   "source": [
    "# Array Sorting"
   ]
  },
  {
   "cell_type": "markdown",
   "id": "180537b1-e6f8-4076-a083-a76651f404e7",
   "metadata": {},
   "source": [
    "### sort "
   ]
  },
  {
   "cell_type": "code",
   "execution_count": 4,
   "id": "db35cc3e-2320-4c0c-94e1-9b600984eb03",
   "metadata": {},
   "outputs": [],
   "source": [
    "import numpy as np"
   ]
  },
  {
   "cell_type": "code",
   "execution_count": 5,
   "id": "d99dce4e-344b-4886-8590-d08d3a292920",
   "metadata": {},
   "outputs": [],
   "source": [
    "arr=np.array([3,1,2,5,4])"
   ]
  },
  {
   "cell_type": "code",
   "execution_count": 6,
   "id": "0348cc41-5711-4816-a2a9-3ce20d4ffcd2",
   "metadata": {},
   "outputs": [
    {
     "name": "stdout",
     "output_type": "stream",
     "text": [
      "[1 2 3 4 5] sorted arr\n"
     ]
    }
   ],
   "source": [
    "sorted_arr=np.sort(arr)\n",
    "print(sorted_arr,\"sorted arr\")"
   ]
  },
  {
   "cell_type": "markdown",
   "id": "cf45fcff-7aa8-4bd4-91e3-5a00e87c5650",
   "metadata": {},
   "source": [
    "### argsort "
   ]
  },
  {
   "cell_type": "code",
   "execution_count": 8,
   "id": "99f82e58-c345-4d26-8d01-7cbbefe5e8b8",
   "metadata": {},
   "outputs": [],
   "source": [
    "# indices that would sort the array. It’s useful when you want to sort based on one array \n",
    "#and apply the same sorting order to another array."
   ]
  },
  {
   "cell_type": "code",
   "execution_count": 9,
   "id": "35050ad7-4e4a-4a26-869f-adbaff560cbc",
   "metadata": {},
   "outputs": [],
   "source": [
    "arr=np.array([3,1,2,5,4])"
   ]
  },
  {
   "cell_type": "code",
   "execution_count": 10,
   "id": "0495ed16-e44e-461b-854a-834dea8ae512",
   "metadata": {},
   "outputs": [],
   "source": [
    "indices=np.argsort(arr)"
   ]
  },
  {
   "cell_type": "code",
   "execution_count": 11,
   "id": "a7f1446e-e462-4881-a941-7e2ca4e3616d",
   "metadata": {},
   "outputs": [
    {
     "name": "stdout",
     "output_type": "stream",
     "text": [
      "Indices that would sort the array: [1 2 0 4 3]\n"
     ]
    }
   ],
   "source": [
    "print(\"Indices that would sort the array:\",indices)"
   ]
  },
  {
   "cell_type": "code",
   "execution_count": 12,
   "id": "5677a7ed-7e8c-450c-bf72-199305ac962d",
   "metadata": {},
   "outputs": [
    {
     "name": "stdout",
     "output_type": "stream",
     "text": [
      "sorted another array: ['A' 'B' 'c' 'D' 'E']\n"
     ]
    }
   ],
   "source": [
    "another_arr=np.array(['c','A','B','E','D'])\n",
    "sorted_another_arr=another_arr[indices]\n",
    "print(\"sorted another array:\",sorted_another_arr)"
   ]
  },
  {
   "cell_type": "markdown",
   "id": "06c33e67",
   "metadata": {},
   "source": []
  },
  {
   "cell_type": "markdown",
   "id": "393d7896-af6e-44d4-b97c-1ba8e5bc47d9",
   "metadata": {},
   "source": [
    "### Sorting Multi- Dimensional Arrays "
   ]
  },
  {
   "cell_type": "code",
   "execution_count": 28,
   "id": "0e99209a-b3a7-4910-ba3b-5f8241aac283",
   "metadata": {},
   "outputs": [
    {
     "name": "stdout",
     "output_type": "stream",
     "text": [
      "Sorted along rows :\n",
      " [[3 5 2]\n",
      " [6 6 4]]\n",
      "Sorted along coloumns:\n",
      " [[2 3 6]\n",
      " [4 5 6]]\n"
     ]
    }
   ],
   "source": [
    "arr_2d=np.array([[3,6,2],[6,5,4]])\n",
    "\n",
    "sorted_2d_rows = np.sort(arr_2d,axis=0)\n",
    "print(\"Sorted along rows :\\n\",sorted_2d_rows)\n",
    "\n",
    "sorted_2d_columns=np.sort(arr_2d,axis=1)\n",
    "print(\"Sorted along coloumns:\\n\",sorted_2d_columns)\n"
   ]
  },
  {
   "cell_type": "markdown",
   "id": "01b5823e-77e8-4e1a-8c87-7cf598b04d53",
   "metadata": {},
   "source": [
    "### In-Place Sort"
   ]
  },
  {
   "cell_type": "code",
   "execution_count": 30,
   "id": "16a2b312-38c6-4142-920e-79baa48f4ee8",
   "metadata": {},
   "outputs": [
    {
     "name": "stdout",
     "output_type": "stream",
     "text": [
      "[1 2 3 4 5] sorted array\n"
     ]
    }
   ],
   "source": [
    "arr=np.array([3,1,2,5,4])\n",
    "arr.sort()\n",
    "print(arr,\"sorted array\")"
   ]
  },
  {
   "cell_type": "code",
   "execution_count": null,
   "id": "3897681d-b821-40be-9566-4f681f32e38b",
   "metadata": {},
   "outputs": [],
   "source": []
  }
 ],
 "metadata": {
  "kernelspec": {
   "display_name": "Python 3 (ipykernel)",
   "language": "python",
   "name": "python3"
  },
  "language_info": {
   "codemirror_mode": {
    "name": "ipython",
    "version": 3
   },
   "file_extension": ".py",
   "mimetype": "text/x-python",
   "name": "python",
   "nbconvert_exporter": "python",
   "pygments_lexer": "ipython3",
   "version": "3.12.4"
  }
 },
 "nbformat": 4,
 "nbformat_minor": 5
}
