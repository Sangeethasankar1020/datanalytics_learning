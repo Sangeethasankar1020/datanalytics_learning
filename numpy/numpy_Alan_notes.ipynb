{
 "cells": [
  {
   "cell_type": "markdown",
   "id": "097f1d80",
   "metadata": {},
   "source": [
    "<h1 style=\"background: linear-gradient(to right, #ff7e5f, #feb47b); color: white; padding: 10px; border-radius: 10px; text-align: center;\">\n",
    "  NumPy\n",
    "</h1>\n"
   ]
  },
  {
   "cell_type": "markdown",
   "id": "dd8a1238",
   "metadata": {},
   "source": [
    "# NumPy: Overview\n",
    "\n",
    "**NumPy** (Numerical Python) is a foundational Python library for numerical computing. It provides support for:\n",
    "- **Multidimensional arrays** and matrices.\n",
    "- A vast collection of mathematical functions to operate on these arrays."
   ]
  },
  {
   "cell_type": "markdown",
   "id": "75993bba",
   "metadata": {},
   "source": [
    "## Importing NumPy Library"
   ]
  },
  {
   "cell_type": "code",
   "execution_count": 5,
   "id": "6cdd032f",
   "metadata": {},
   "outputs": [],
   "source": [
    "import numpy as np"
   ]
  },
  {
   "cell_type": "code",
   "execution_count": 7,
   "id": "ff49beac",
   "metadata": {},
   "outputs": [
    {
     "name": "stdout",
     "output_type": "stream",
     "text": [
      "[1, 2, 3, 4, 5]\n"
     ]
    }
   ],
   "source": [
    "l = [1,2,3,4,5]\n",
    "print(l)"
   ]
  },
  {
   "cell_type": "code",
   "execution_count": 9,
   "id": "9bc78547",
   "metadata": {},
   "outputs": [
    {
     "data": {
      "text/plain": [
       "array([1, 2, 3, 4, 5])"
      ]
     },
     "execution_count": 9,
     "metadata": {},
     "output_type": "execute_result"
    }
   ],
   "source": [
    "arr = np.array(l)\n",
    "arr"
   ]
  },
  {
   "cell_type": "code",
   "execution_count": 11,
   "id": "cb683173",
   "metadata": {},
   "outputs": [
    {
     "data": {
      "text/plain": [
       "numpy.ndarray"
      ]
     },
     "execution_count": 11,
     "metadata": {},
     "output_type": "execute_result"
    }
   ],
   "source": [
    "type(arr)"
   ]
  },
  {
   "cell_type": "markdown",
   "id": "e6d4aebc",
   "metadata": {},
   "source": [
    "## Attributes"
   ]
  },
  {
   "cell_type": "code",
   "execution_count": 14,
   "id": "f8700388",
   "metadata": {},
   "outputs": [
    {
     "data": {
      "text/plain": [
       "array([1, 2, 3, 4, 5])"
      ]
     },
     "execution_count": 14,
     "metadata": {},
     "output_type": "execute_result"
    }
   ],
   "source": [
    "arr"
   ]
  },
  {
   "cell_type": "code",
   "execution_count": 16,
   "id": "588ebc1a",
   "metadata": {},
   "outputs": [
    {
     "data": {
      "text/plain": [
       "(5,)"
      ]
     },
     "execution_count": 16,
     "metadata": {},
     "output_type": "execute_result"
    }
   ],
   "source": [
    "arr.shape"
   ]
  },
  {
   "cell_type": "code",
   "execution_count": 18,
   "id": "1a3d7347",
   "metadata": {},
   "outputs": [
    {
     "data": {
      "text/plain": [
       "5"
      ]
     },
     "execution_count": 18,
     "metadata": {},
     "output_type": "execute_result"
    }
   ],
   "source": [
    "arr.size"
   ]
  },
  {
   "cell_type": "code",
   "execution_count": 20,
   "id": "7911c607",
   "metadata": {},
   "outputs": [
    {
     "data": {
      "text/plain": [
       "dtype('int32')"
      ]
     },
     "execution_count": 20,
     "metadata": {},
     "output_type": "execute_result"
    }
   ],
   "source": [
    "arr.dtype # Returns the element's datatype"
   ]
  },
  {
   "cell_type": "code",
   "execution_count": 22,
   "id": "bc191540",
   "metadata": {},
   "outputs": [
    {
     "data": {
      "text/plain": [
       "1"
      ]
     },
     "execution_count": 22,
     "metadata": {},
     "output_type": "execute_result"
    }
   ],
   "source": [
    "arr.ndim # Returns the No.of Dimensions in an Array"
   ]
  },
  {
   "cell_type": "code",
   "execution_count": 24,
   "id": "5d7906d5",
   "metadata": {},
   "outputs": [
    {
     "data": {
      "text/plain": [
       "array([1, 2, 3, 4, 5])"
      ]
     },
     "execution_count": 24,
     "metadata": {},
     "output_type": "execute_result"
    }
   ],
   "source": [
    "arr"
   ]
  },
  {
   "cell_type": "code",
   "execution_count": 26,
   "id": "19a9d4d9",
   "metadata": {},
   "outputs": [
    {
     "data": {
      "text/plain": [
       "array([[1],\n",
       "       [2],\n",
       "       [3],\n",
       "       [4],\n",
       "       [5]])"
      ]
     },
     "execution_count": 26,
     "metadata": {},
     "output_type": "execute_result"
    }
   ],
   "source": [
    "arr.reshape(5,1)"
   ]
  },
  {
   "cell_type": "code",
   "execution_count": 28,
   "id": "82e8362c",
   "metadata": {},
   "outputs": [
    {
     "data": {
      "text/plain": [
       "array([[1, 2],\n",
       "       [3, 4]])"
      ]
     },
     "execution_count": 28,
     "metadata": {},
     "output_type": "execute_result"
    }
   ],
   "source": [
    "l = [[1,2],[3,4]]\n",
    "arr2d = np.array(l)\n",
    "arr2d"
   ]
  },
  {
   "cell_type": "code",
   "execution_count": 30,
   "id": "d2442178",
   "metadata": {},
   "outputs": [
    {
     "data": {
      "text/plain": [
       "2"
      ]
     },
     "execution_count": 30,
     "metadata": {},
     "output_type": "execute_result"
    }
   ],
   "source": [
    "arr2d.ndim"
   ]
  },
  {
   "cell_type": "markdown",
   "id": "990eb3ee",
   "metadata": {},
   "source": [
    "### Indexing"
   ]
  },
  {
   "cell_type": "code",
   "execution_count": 33,
   "id": "dc2fa643",
   "metadata": {},
   "outputs": [
    {
     "data": {
      "text/plain": [
       "array([[1, 2],\n",
       "       [3, 4]])"
      ]
     },
     "execution_count": 33,
     "metadata": {},
     "output_type": "execute_result"
    }
   ],
   "source": [
    "arr2d"
   ]
  },
  {
   "cell_type": "code",
   "execution_count": 35,
   "id": "81481b18",
   "metadata": {},
   "outputs": [
    {
     "data": {
      "text/plain": [
       "2"
      ]
     },
     "execution_count": 35,
     "metadata": {},
     "output_type": "execute_result"
    }
   ],
   "source": [
    "arr2d[0,1]#row,column"
   ]
  },
  {
   "cell_type": "code",
   "execution_count": 37,
   "id": "08e7c0d0",
   "metadata": {},
   "outputs": [
    {
     "data": {
      "text/plain": [
       "4"
      ]
     },
     "execution_count": 37,
     "metadata": {},
     "output_type": "execute_result"
    }
   ],
   "source": [
    "arr2d[1,1]"
   ]
  },
  {
   "cell_type": "code",
   "execution_count": 39,
   "id": "35a824aa",
   "metadata": {},
   "outputs": [
    {
     "data": {
      "text/plain": [
       "array([1, 2, 3, 4, 5])"
      ]
     },
     "execution_count": 39,
     "metadata": {},
     "output_type": "execute_result"
    }
   ],
   "source": [
    "arr"
   ]
  },
  {
   "cell_type": "code",
   "execution_count": 41,
   "id": "6d842ad6",
   "metadata": {},
   "outputs": [
    {
     "data": {
      "text/plain": [
       "array([2, 3, 4])"
      ]
     },
     "execution_count": 41,
     "metadata": {},
     "output_type": "execute_result"
    }
   ],
   "source": [
    "arr[1:4]"
   ]
  },
  {
   "cell_type": "code",
   "execution_count": 43,
   "id": "0c3d9ea2",
   "metadata": {},
   "outputs": [
    {
     "data": {
      "text/plain": [
       "numpy.ndarray"
      ]
     },
     "execution_count": 43,
     "metadata": {},
     "output_type": "execute_result"
    }
   ],
   "source": [
    "type(arr)"
   ]
  },
  {
   "cell_type": "code",
   "execution_count": null,
   "id": "d38ba4e5",
   "metadata": {},
   "outputs": [],
   "source": []
  },
  {
   "cell_type": "code",
   "execution_count": 46,
   "id": "d8b181ff",
   "metadata": {},
   "outputs": [
    {
     "name": "stdout",
     "output_type": "stream",
     "text": [
      "[1 2 3 4 5]\n",
      "<class 'numpy.ndarray'>\n"
     ]
    },
    {
     "data": {
      "text/plain": [
       "(5,)"
      ]
     },
     "execution_count": 46,
     "metadata": {},
     "output_type": "execute_result"
    }
   ],
   "source": [
    "arr = np.array([1,2,3,4,5])\n",
    "print(arr)\n",
    "print(type(arr))\n",
    "arr.shape"
   ]
  },
  {
   "cell_type": "code",
   "execution_count": 48,
   "id": "63b78f9b",
   "metadata": {},
   "outputs": [
    {
     "data": {
      "text/plain": [
       "array([1, 2, 3, 4])"
      ]
     },
     "execution_count": 48,
     "metadata": {},
     "output_type": "execute_result"
    }
   ],
   "source": [
    "np.array((1,2,3,4))"
   ]
  },
  {
   "cell_type": "code",
   "execution_count": 50,
   "id": "81b2f73f",
   "metadata": {},
   "outputs": [],
   "source": [
    "#one dimensional array\n",
    "arr0d = np.array(42)"
   ]
  },
  {
   "cell_type": "code",
   "execution_count": 52,
   "id": "55c6291c",
   "metadata": {},
   "outputs": [],
   "source": [
    "# uni-dimensional or 1-D array\n",
    "arr1d = np.array((1,2,3))"
   ]
  },
  {
   "cell_type": "code",
   "execution_count": 25,
   "id": "6c2a8f0d",
   "metadata": {},
   "outputs": [],
   "source": [
    "#Two dimensional Arrays\n",
    "arr2d = np.array([[1,2,3],\n",
    "          [4,5,6]])"
   ]
  },
  {
   "cell_type": "code",
   "execution_count": 26,
   "id": "cfd3e7e5",
   "metadata": {},
   "outputs": [],
   "source": [
    "arr3d = np.array([\n",
    "         [[1,2,3],\n",
    "          [1,2,3]],\n",
    "         [[1,2,3],\n",
    "          [1,2,3]]\n",
    "        ])"
   ]
  },
  {
   "cell_type": "markdown",
   "id": "a37bddda",
   "metadata": {},
   "source": [
    "## Attributes of an Array"
   ]
  },
  {
   "cell_type": "code",
   "execution_count": 27,
   "id": "e4ef79a9",
   "metadata": {},
   "outputs": [
    {
     "data": {
      "text/plain": [
       "0"
      ]
     },
     "execution_count": 27,
     "metadata": {},
     "output_type": "execute_result"
    }
   ],
   "source": [
    "arr0d.ndim # returns the dimensions present in an array"
   ]
  },
  {
   "cell_type": "code",
   "execution_count": 28,
   "id": "f8fcff7d",
   "metadata": {},
   "outputs": [
    {
     "data": {
      "text/plain": [
       "1"
      ]
     },
     "execution_count": 28,
     "metadata": {},
     "output_type": "execute_result"
    }
   ],
   "source": [
    "arr1d.ndim"
   ]
  },
  {
   "cell_type": "code",
   "execution_count": 29,
   "id": "16ded33a",
   "metadata": {},
   "outputs": [
    {
     "data": {
      "text/plain": [
       "2"
      ]
     },
     "execution_count": 29,
     "metadata": {},
     "output_type": "execute_result"
    }
   ],
   "source": [
    "arr2d.ndim"
   ]
  },
  {
   "cell_type": "code",
   "execution_count": 30,
   "id": "ab13e9f0",
   "metadata": {},
   "outputs": [
    {
     "data": {
      "text/plain": [
       "3"
      ]
     },
     "execution_count": 30,
     "metadata": {},
     "output_type": "execute_result"
    }
   ],
   "source": [
    "arr3d.ndim"
   ]
  },
  {
   "cell_type": "code",
   "execution_count": 40,
   "id": "e8839d64",
   "metadata": {},
   "outputs": [
    {
     "data": {
      "text/plain": [
       "array([[[[[[1, 2, 3]]]]]])"
      ]
     },
     "execution_count": 40,
     "metadata": {},
     "output_type": "execute_result"
    }
   ],
   "source": [
    "x = np.array([1,2,3], ndmin = 6)\n",
    "x"
   ]
  },
  {
   "cell_type": "code",
   "execution_count": 41,
   "id": "5646019b",
   "metadata": {},
   "outputs": [
    {
     "data": {
      "text/plain": [
       "6"
      ]
     },
     "execution_count": 41,
     "metadata": {},
     "output_type": "execute_result"
    }
   ],
   "source": [
    "x.ndim"
   ]
  },
  {
   "cell_type": "code",
   "execution_count": 43,
   "id": "6e3378af",
   "metadata": {},
   "outputs": [
    {
     "data": {
      "text/plain": [
       "array([1, 2, 3])"
      ]
     },
     "execution_count": 43,
     "metadata": {},
     "output_type": "execute_result"
    }
   ],
   "source": [
    "a = np.array([1,2,3])\n",
    "a"
   ]
  },
  {
   "cell_type": "code",
   "execution_count": 44,
   "id": "1735b512",
   "metadata": {},
   "outputs": [
    {
     "data": {
      "text/plain": [
       "1"
      ]
     },
     "execution_count": 44,
     "metadata": {},
     "output_type": "execute_result"
    }
   ],
   "source": [
    "a[0]"
   ]
  },
  {
   "cell_type": "code",
   "execution_count": 45,
   "id": "0df1bda1",
   "metadata": {},
   "outputs": [
    {
     "data": {
      "text/plain": [
       "2"
      ]
     },
     "execution_count": 45,
     "metadata": {},
     "output_type": "execute_result"
    }
   ],
   "source": [
    "a[1]"
   ]
  },
  {
   "cell_type": "code",
   "execution_count": 47,
   "id": "e15f09fc",
   "metadata": {},
   "outputs": [
    {
     "data": {
      "text/plain": [
       "3"
      ]
     },
     "execution_count": 47,
     "metadata": {},
     "output_type": "execute_result"
    }
   ],
   "source": [
    "a[2]"
   ]
  },
  {
   "cell_type": "code",
   "execution_count": 51,
   "id": "a9f4ecb9",
   "metadata": {},
   "outputs": [
    {
     "name": "stdout",
     "output_type": "stream",
     "text": [
      "[1 2 3]\n",
      "5\n"
     ]
    }
   ],
   "source": [
    "print(a)\n",
    "print(a[1] + a[2])"
   ]
  },
  {
   "cell_type": "code",
   "execution_count": 52,
   "id": "a5a357bb",
   "metadata": {},
   "outputs": [],
   "source": [
    "arr = np.array([[1,2,3,4,5], [6,7,8,9,10]])"
   ]
  },
  {
   "cell_type": "code",
   "execution_count": 59,
   "id": "832ef1bb",
   "metadata": {
    "scrolled": true
   },
   "outputs": [
    {
     "data": {
      "text/plain": [
       "5"
      ]
     },
     "execution_count": 59,
     "metadata": {},
     "output_type": "execute_result"
    }
   ],
   "source": [
    "arr[0,4]"
   ]
  },
  {
   "cell_type": "code",
   "execution_count": 55,
   "id": "62ebf3dc",
   "metadata": {},
   "outputs": [
    {
     "data": {
      "text/plain": [
       "array([ 6,  7,  8,  9, 10])"
      ]
     },
     "execution_count": 55,
     "metadata": {},
     "output_type": "execute_result"
    }
   ],
   "source": [
    "arr[1]"
   ]
  },
  {
   "cell_type": "code",
   "execution_count": 57,
   "id": "f79dfa77",
   "metadata": {},
   "outputs": [
    {
     "data": {
      "text/plain": [
       "4"
      ]
     },
     "execution_count": 57,
     "metadata": {},
     "output_type": "execute_result"
    }
   ],
   "source": [
    "arr[0,3]"
   ]
  },
  {
   "cell_type": "code",
   "execution_count": 60,
   "id": "bfca8189",
   "metadata": {},
   "outputs": [],
   "source": [
    "arr = np.array([[[1, 2, 3], [4, 5, 6]], [[7, 8, 9], [10, 11, 12]]])"
   ]
  },
  {
   "cell_type": "code",
   "execution_count": 63,
   "id": "f157c5c0",
   "metadata": {},
   "outputs": [
    {
     "data": {
      "text/plain": [
       "1"
      ]
     },
     "execution_count": 63,
     "metadata": {},
     "output_type": "execute_result"
    }
   ],
   "source": [
    "arr[0,0,0]"
   ]
  },
  {
   "cell_type": "code",
   "execution_count": 71,
   "id": "3204fab1",
   "metadata": {},
   "outputs": [
    {
     "data": {
      "text/plain": [
       "12"
      ]
     },
     "execution_count": 71,
     "metadata": {},
     "output_type": "execute_result"
    }
   ],
   "source": [
    "arr[1,1,-1]"
   ]
  },
  {
   "cell_type": "code",
   "execution_count": 73,
   "id": "d0429422",
   "metadata": {},
   "outputs": [
    {
     "data": {
      "text/plain": [
       "12"
      ]
     },
     "execution_count": 73,
     "metadata": {},
     "output_type": "execute_result"
    }
   ],
   "source": [
    "arr[0,1,-2]+arr[1,0,0]"
   ]
  },
  {
   "cell_type": "markdown",
   "id": "67258cfb",
   "metadata": {},
   "source": [
    "# Creation of Array (1d)"
   ]
  },
  {
   "cell_type": "markdown",
   "id": "89c6d88f",
   "metadata": {},
   "source": [
    "## Attributes of an array eg. np.shape   -- (without brackets())"
   ]
  },
  {
   "cell_type": "code",
   "execution_count": 54,
   "id": "b59cd996",
   "metadata": {},
   "outputs": [
    {
     "name": "stdout",
     "output_type": "stream",
     "text": [
      "<class 'numpy.ndarray'>\n",
      "[11 22 33 44 55]\n",
      "1\n",
      "(5,)\n",
      "5\n",
      "4\n",
      "int32\n"
     ]
    }
   ],
   "source": [
    "import numpy as np\n",
    "mylist1 = [11,22,33,44,55]\n",
    "n1 = np.array(mylist1)\n",
    "print(type(n1))\n",
    "\n",
    "print(n1)\n",
    "\n",
    "print(n1.ndim)  ##  number of dimensions\n",
    "print(n1.shape) ##  shape of the array.  count along each available axis\n",
    "\n",
    "print(n1.size)  ##  total number of elements in the array\n",
    "\n",
    "print(n1.itemsize) ##  size in bytes of each item in memory\n",
    "print(n1.dtype)    ##  dtype is the datatype"
   ]
  },
  {
   "cell_type": "markdown",
   "id": "c279ac00",
   "metadata": {},
   "source": [
    "# Creation of 2D Array"
   ]
  },
  {
   "cell_type": "code",
   "execution_count": 6,
   "id": "d2840faa",
   "metadata": {},
   "outputs": [
    {
     "name": "stdout",
     "output_type": "stream",
     "text": [
      "[[5 3 4]\n",
      " [9 0 0]]\n",
      "2\n",
      "(2, 3)\n",
      "6\n"
     ]
    }
   ],
   "source": [
    "mylist2d = [\n",
    "    [5,3,4],\n",
    "    [9,0,0]\n",
    "]\n",
    "\n",
    "n23 = np.array(mylist2d)\n",
    "\n",
    "print(n23)\n",
    "\n",
    "print(n23.ndim)  ##  number of dimensions\n",
    "print(n23.shape) ##  shape of the array.  count along each available axis\n",
    "\n",
    "print(n23.size)  ##  total number of elements in the array"
   ]
  },
  {
   "cell_type": "code",
   "execution_count": 4,
   "id": "2f189f41",
   "metadata": {},
   "outputs": [
    {
     "name": "stdout",
     "output_type": "stream",
     "text": [
      "[11 22 33 44 55]\n",
      "1\n",
      "int8\n"
     ]
    }
   ],
   "source": [
    "mylist1 = [11,22,33,44,55]\n",
    "n1 = np.array(mylist1, dtype=np.int8)  ##  range of int8.  -128 to +127\n",
    "print(n1)\n",
    "print(n1.itemsize) ##  size in bytes of each item in memory\n",
    "print(n1.dtype)    ##  dtype is the datatype"
   ]
  },
  {
   "cell_type": "markdown",
   "id": "87bca1fc",
   "metadata": {},
   "source": [
    "# Arange"
   ]
  },
  {
   "cell_type": "code",
   "execution_count": 44,
   "id": "ffc1fe9c",
   "metadata": {},
   "outputs": [
    {
     "data": {
      "text/plain": [
       "array([1, 2, 3, 4, 5, 6, 7, 8, 9])"
      ]
     },
     "execution_count": 44,
     "metadata": {},
     "output_type": "execute_result"
    }
   ],
   "source": [
    "np.arange(1,10)"
   ]
  },
  {
   "cell_type": "code",
   "execution_count": null,
   "id": "4ec22d77",
   "metadata": {},
   "outputs": [],
   "source": []
  },
  {
   "cell_type": "code",
   "execution_count": 5,
   "id": "711567bc",
   "metadata": {},
   "outputs": [
    {
     "data": {
      "text/plain": [
       "array([1, 2, 3, 4, 5, 6, 7, 8, 9])"
      ]
     },
     "execution_count": 5,
     "metadata": {},
     "output_type": "execute_result"
    }
   ],
   "source": [
    "np.arange(1,10) #Return evenly spaced values within a given interval."
   ]
  },
  {
   "cell_type": "code",
   "execution_count": 15,
   "id": "5c923acb",
   "metadata": {},
   "outputs": [
    {
     "data": {
      "text/plain": [
       "array([ 0,  5, 10, 15, 20, 25, 30, 35, 40, 45, 50, 55, 60, 65, 70, 75, 80,\n",
       "       85, 90, 95])"
      ]
     },
     "execution_count": 15,
     "metadata": {},
     "output_type": "execute_result"
    }
   ],
   "source": [
    "np.arange(start = 0, stop = 100, step = 5)"
   ]
  },
  {
   "cell_type": "code",
   "execution_count": 6,
   "id": "e2c579d7",
   "metadata": {},
   "outputs": [
    {
     "name": "stdout",
     "output_type": "stream",
     "text": [
      "[10 12 14 16 18 20 22 24 26 28 30 32 34 36 38]\n",
      "<class 'numpy.ndarray'>\n"
     ]
    }
   ],
   "source": [
    "n1 = np.arange(10,40,2)\n",
    "print(n1)\n",
    "print(type(n1))"
   ]
  },
  {
   "cell_type": "code",
   "execution_count": 7,
   "id": "c1b9fbd1",
   "metadata": {
    "scrolled": true
   },
   "outputs": [
    {
     "name": "stdout",
     "output_type": "stream",
     "text": [
      "[10.1  11.09 12.08 13.07 14.06 15.05 16.04 17.03 18.02 19.01 20.   20.99\n",
      " 21.98 22.97 23.96 24.95 25.94 26.93 27.92 28.91 29.9  30.89 31.88 32.87\n",
      " 33.86 34.85 35.84 36.83 37.82 38.81 39.8  40.79]\n",
      "<class 'numpy.ndarray'>\n"
     ]
    }
   ],
   "source": [
    "n1 = np.arange(10.1,40.9,0.99)\n",
    "print(n1)\n",
    "print(type(n1))"
   ]
  },
  {
   "cell_type": "markdown",
   "id": "6ee617b3",
   "metadata": {},
   "source": [
    "# Random "
   ]
  },
  {
   "cell_type": "code",
   "execution_count": 84,
   "id": "d574e7f3",
   "metadata": {},
   "outputs": [
    {
     "data": {
      "text/plain": [
       "array([[27, 39, 20, 98, 89, 78, 62, 34, 11, 18],\n",
       "       [22, 52, 26, 12, 75, 73, 42, 93, 88, 61],\n",
       "       [11, 90, 80, 16, 50, 27, 18, 91, 60, 22],\n",
       "       [22, 26, 27, 92, 52, 96, 20, 58, 23, 35],\n",
       "       [32, 51, 38, 37, 99, 87, 68, 84, 46, 38],\n",
       "       [84, 11, 96, 79, 73, 61, 28, 41, 65, 91],\n",
       "       [33, 47, 82, 97, 40, 74, 18, 20, 64, 91],\n",
       "       [28, 63, 19, 85, 20, 50, 46, 10, 59, 27],\n",
       "       [95, 76, 56, 95, 91, 66, 30, 26, 76, 84],\n",
       "       [36, 83, 86, 48, 13, 95, 37, 52, 65, 15]])"
      ]
     },
     "execution_count": 84,
     "metadata": {},
     "output_type": "execute_result"
    }
   ],
   "source": [
    "np.random.randint(low = 10,high = 100, size = 100).reshape(10,10)"
   ]
  },
  {
   "cell_type": "code",
   "execution_count": 105,
   "id": "0840fff9",
   "metadata": {},
   "outputs": [
    {
     "data": {
      "text/plain": [
       "37"
      ]
     },
     "execution_count": 105,
     "metadata": {},
     "output_type": "execute_result"
    }
   ],
   "source": [
    "np.random.seed(1)\n",
    "np.random.randint(100)"
   ]
  },
  {
   "cell_type": "code",
   "execution_count": 109,
   "id": "3c2a6631",
   "metadata": {},
   "outputs": [
    {
     "data": {
      "text/plain": [
       "array([0.82960336, 0.27304997, 0.0592432 , 0.67052804, 0.59306552,\n",
       "       0.6716541 , 0.41178788, 0.1975509 , 0.28962964])"
      ]
     },
     "execution_count": 109,
     "metadata": {},
     "output_type": "execute_result"
    }
   ],
   "source": [
    "np.random.rand(9)"
   ]
  },
  {
   "cell_type": "code",
   "execution_count": null,
   "id": "f5b38fc4",
   "metadata": {},
   "outputs": [],
   "source": []
  },
  {
   "cell_type": "code",
   "execution_count": null,
   "id": "919944d5",
   "metadata": {},
   "outputs": [],
   "source": []
  },
  {
   "cell_type": "code",
   "execution_count": null,
   "id": "119d4d4f",
   "metadata": {},
   "outputs": [],
   "source": []
  },
  {
   "cell_type": "code",
   "execution_count": 22,
   "id": "45c1ce03",
   "metadata": {},
   "outputs": [
    {
     "data": {
      "text/plain": [
       "array([19, 25, 74, 38, 99, 39, 18, 83, 10, 50, 46, 26, 21, 64, 98, 72, 43,\n",
       "       82, 88, 59, 61, 64, 87, 79, 23, 35, 23, 96, 40, 40, 99, 22, 75, 41,\n",
       "       67, 46, 37, 28, 87, 32, 33, 21, 38, 84, 98, 19, 25, 28, 90, 81, 98,\n",
       "       21, 27, 56, 17, 85, 38, 43, 94, 98, 54, 15, 14, 81, 98, 98, 60, 64,\n",
       "       44, 25, 87, 98, 25, 16, 95, 32, 21, 22, 72, 67, 89, 52, 67, 60, 55,\n",
       "       50, 99, 83, 47, 10, 28, 33, 13, 39, 26, 94, 92, 24, 61, 89])"
      ]
     },
     "execution_count": 22,
     "metadata": {},
     "output_type": "execute_result"
    }
   ],
   "source": [
    "np.random.seed(10)\n",
    "np.random.randint(low = 10,high = 100, size = 100) #Return random integers from `low` (inclusive) to `high` (exclusive)."
   ]
  },
  {
   "cell_type": "code",
   "execution_count": 1,
   "id": "2fbf6209",
   "metadata": {},
   "outputs": [],
   "source": [
    "import numpy as np"
   ]
  },
  {
   "cell_type": "code",
   "execution_count": 9,
   "id": "0f6cfec4",
   "metadata": {},
   "outputs": [
    {
     "name": "stdout",
     "output_type": "stream",
     "text": [
      "<class 'numpy.ndarray'>\n",
      "[93 50 83 64 41]\n"
     ]
    }
   ],
   "source": [
    "np.random.seed(23)#used to set the initial state of the random number generator. \n",
    "#This is important when you want to ensure that your code generates the same sequence of random numbers\n",
    "#every time it is run.\n",
    "n1 = np.random.randint(low=10, high=100, size=5)\n",
    "print(type(n1))\n",
    "print(n1)"
   ]
  },
  {
   "cell_type": "code",
   "execution_count": 50,
   "id": "eed455c7",
   "metadata": {},
   "outputs": [
    {
     "data": {
      "text/plain": [
       "array([[86, 49, 35, 61, 16],\n",
       "       [55, 22, 59, 76, 85],\n",
       "       [95, 79, 74, 22, 31],\n",
       "       [58, 51, 89, 72, 67]])"
      ]
     },
     "execution_count": 50,
     "metadata": {},
     "output_type": "execute_result"
    }
   ],
   "source": [
    "np.random.randint(10,100,20).reshape(4,5)#used to reshape the output of array"
   ]
  },
  {
   "cell_type": "code",
   "execution_count": 23,
   "id": "158d0c21",
   "metadata": {},
   "outputs": [
    {
     "data": {
      "text/plain": [
       "array([[ 1,  2,  3,  4,  5],\n",
       "       [ 6,  7,  8,  9, 10]])"
      ]
     },
     "execution_count": 23,
     "metadata": {},
     "output_type": "execute_result"
    }
   ],
   "source": [
    "np.random.randint(10,100,20).reshape(4,5)#using random func & reshape to create 2d array\n",
    "np.arange(1,11).reshape(2,5)"
   ]
  },
  {
   "cell_type": "code",
   "execution_count": 61,
   "id": "e84124fe",
   "metadata": {},
   "outputs": [
    {
     "name": "stdout",
     "output_type": "stream",
     "text": [
      "[[ 1  2  3  4  5]\n",
      " [ 6  7  8  9 10]]\n"
     ]
    },
    {
     "data": {
      "text/plain": [
       "array([[21, 72, 98, 64, 99],\n",
       "       [88, 51, 80, 95, 15]])"
      ]
     },
     "execution_count": 61,
     "metadata": {},
     "output_type": "execute_result"
    }
   ],
   "source": [
    "print(np.arange(1,11).reshape(2,5))\n",
    "np.random.randint(10,100,10).reshape(2,5)"
   ]
  },
  {
   "cell_type": "code",
   "execution_count": 64,
   "id": "f4ecd437",
   "metadata": {
    "scrolled": true
   },
   "outputs": [
    {
     "name": "stdout",
     "output_type": "stream",
     "text": [
      "[[ 0  1  2  3]\n",
      " [ 4  5  6  7]\n",
      " [ 8  9 10 11]]\n",
      "(3, 4)\n"
     ]
    }
   ],
   "source": [
    "n34 = np.arange(12).reshape(3,-1)\n",
    "print(n34)\n",
    "print(n34.shape)"
   ]
  },
  {
   "cell_type": "code",
   "execution_count": 70,
   "id": "2f4904fa",
   "metadata": {},
   "outputs": [
    {
     "data": {
      "text/plain": [
       "array([[ 1,  2,  3,  4,  5],\n",
       "       [ 6,  7,  8,  9, 10]])"
      ]
     },
     "execution_count": 70,
     "metadata": {},
     "output_type": "execute_result"
    }
   ],
   "source": [
    "np.arange(1,11).reshape(2,-1)"
   ]
  },
  {
   "cell_type": "code",
   "execution_count": 111,
   "id": "566c5f09",
   "metadata": {},
   "outputs": [
    {
     "name": "stdout",
     "output_type": "stream",
     "text": [
      "[[ 0  1  2  3  4  5  6  7  8  9]\n",
      " [10 11 12 13 14 15 16 17 18 19]\n",
      " [20 21 22 23 24 25 26 27 28 29]\n",
      " [30 31 32 33 34 35 36 37 38 39]\n",
      " [40 41 42 43 44 45 46 47 48 49]\n",
      " [50 51 52 53 54 55 56 57 58 59]\n",
      " [60 61 62 63 64 65 66 67 68 69]\n",
      " [70 71 72 73 74 75 76 77 78 79]\n",
      " [80 81 82 83 84 85 86 87 88 89]\n",
      " [90 91 92 93 94 95 96 97 98 99]]\n"
     ]
    }
   ],
   "source": [
    "n34 = np.arange(100).reshape(-1, 10) #-1 --> auto row creation\n",
    "print(n34)"
   ]
  },
  {
   "cell_type": "code",
   "execution_count": 114,
   "id": "abcb359a",
   "metadata": {},
   "outputs": [
    {
     "data": {
      "text/plain": [
       "array([90, 91, 92, 93, 94, 95, 96, 97, 98, 99])"
      ]
     },
     "execution_count": 114,
     "metadata": {},
     "output_type": "execute_result"
    }
   ],
   "source": [
    "n34[n34>=90]"
   ]
  },
  {
   "cell_type": "code",
   "execution_count": 23,
   "id": "dd08f538",
   "metadata": {},
   "outputs": [
    {
     "name": "stdout",
     "output_type": "stream",
     "text": [
      "[[ 0  1  2  3]\n",
      " [ 4  5  6  7]\n",
      " [ 8  9 10 11]]\n",
      "(3, 4)\n"
     ]
    }
   ],
   "source": [
    "n34 = np.arange(12).reshape(3,4)\n",
    "print(n34)\n",
    "print(n34.shape)"
   ]
  },
  {
   "cell_type": "code",
   "execution_count": 24,
   "id": "d35f09e2",
   "metadata": {},
   "outputs": [
    {
     "name": "stdout",
     "output_type": "stream",
     "text": [
      "[[ 0  1]\n",
      " [ 2  3]\n",
      " [ 4  5]\n",
      " [ 6  7]\n",
      " [ 8  9]\n",
      " [10 11]]\n",
      "(6, 2)\n"
     ]
    }
   ],
   "source": [
    "n34 = np.arange(0,12).reshape(-1,2)\n",
    "print(n34)\n",
    "print(n34.shape)"
   ]
  },
  {
   "cell_type": "code",
   "execution_count": 26,
   "id": "93f39d36",
   "metadata": {},
   "outputs": [
    {
     "data": {
      "text/plain": [
       "array([[19, 25, 74, 38, 99, 39, 18, 83, 10, 50],\n",
       "       [46, 26, 21, 64, 98, 72, 43, 82, 88, 59],\n",
       "       [61, 64, 87, 79, 23, 35, 23, 96, 40, 40],\n",
       "       [99, 22, 75, 41, 67, 46, 37, 28, 87, 32],\n",
       "       [33, 21, 38, 84, 98, 19, 25, 28, 90, 81],\n",
       "       [98, 21, 27, 56, 17, 85, 38, 43, 94, 98],\n",
       "       [54, 15, 14, 81, 98, 98, 60, 64, 44, 25],\n",
       "       [87, 98, 25, 16, 95, 32, 21, 22, 72, 67],\n",
       "       [89, 52, 67, 60, 55, 50, 99, 83, 47, 10],\n",
       "       [28, 33, 13, 39, 26, 94, 92, 24, 61, 89]])"
      ]
     },
     "execution_count": 26,
     "metadata": {},
     "output_type": "execute_result"
    }
   ],
   "source": [
    "np.random.seed(10)\n",
    "np.random.randint(10,100,size=(10,10))"
   ]
  },
  {
   "cell_type": "code",
   "execution_count": 27,
   "id": "45707543",
   "metadata": {},
   "outputs": [
    {
     "name": "stdout",
     "output_type": "stream",
     "text": [
      "(4, 6)\n"
     ]
    },
    {
     "data": {
      "text/plain": [
       "array([[93, 50, 83, 64, 41, 86],\n",
       "       [49, 35, 61, 16, 55, 22],\n",
       "       [59, 76, 85, 95, 79, 74],\n",
       "       [22, 31, 58, 51, 89, 72]])"
      ]
     },
     "execution_count": 27,
     "metadata": {},
     "output_type": "execute_result"
    }
   ],
   "source": [
    "np.random.seed(23)\n",
    "\n",
    "n46 = np.random.randint(low=10, high=100, size=(4,6))\n",
    "print(n46.shape)\n",
    "n46"
   ]
  },
  {
   "cell_type": "markdown",
   "id": "a3d50834",
   "metadata": {},
   "source": [
    "# Extraction of values"
   ]
  },
  {
   "cell_type": "code",
   "execution_count": 110,
   "id": "78a6d967",
   "metadata": {},
   "outputs": [
    {
     "data": {
      "text/plain": [
       "array([[53, 86, 36, 62, 90, 51, 92, 25, 74, 78],\n",
       "       [35, 97, 17, 36, 35, 32, 19, 77, 33, 37],\n",
       "       [47, 67, 93, 48, 18, 42, 44, 20, 33, 25],\n",
       "       [97, 35, 81, 84, 72, 56, 42, 98, 33, 65],\n",
       "       [75, 87, 13, 10, 87, 16, 62, 95, 80, 12],\n",
       "       [86, 31, 85, 17, 87, 82, 85, 86, 53, 30],\n",
       "       [40, 46, 17, 55, 78, 67, 92, 23, 20, 33],\n",
       "       [91, 17, 34, 84, 30, 42, 22, 75, 70, 34],\n",
       "       [92, 12, 20, 64, 92, 96, 80, 76, 81, 58],\n",
       "       [64, 25, 15, 27, 52, 30, 58, 32, 23, 63]])"
      ]
     },
     "execution_count": 110,
     "metadata": {},
     "output_type": "execute_result"
    }
   ],
   "source": [
    "np.random.randint(10,100,(10,10))#low,high,size"
   ]
  },
  {
   "cell_type": "code",
   "execution_count": 33,
   "id": "f8f4f016",
   "metadata": {},
   "outputs": [
    {
     "data": {
      "text/plain": [
       "array([[93, 50, 83, 64, 41, 86, 49, 35, 61],\n",
       "       [16, 55, 22, 59, 76, 85, 95, 79, 74],\n",
       "       [22, 31, 58, 51, 89, 72, 67, 29, 43],\n",
       "       [69, 49, 25, 46, 75, 11, 53, 25, 96],\n",
       "       [93, 68, 35, 76, 84, 45, 66, 23, 70],\n",
       "       [32, 48, 41, 88, 10, 31, 16, 42, 42],\n",
       "       [24, 41, 88, 93, 90, 80, 76, 92, 95],\n",
       "       [65, 37, 72, 53, 84, 81, 52, 93, 31]])"
      ]
     },
     "execution_count": 33,
     "metadata": {},
     "output_type": "execute_result"
    }
   ],
   "source": [
    "n89"
   ]
  },
  {
   "cell_type": "code",
   "execution_count": 36,
   "id": "7584f328",
   "metadata": {},
   "outputs": [
    {
     "data": {
      "text/plain": [
       "array([[16, 78, 32, 53, 18, 95, 72, 42, 70],\n",
       "       [21, 11, 51, 36, 47, 51, 66, 49, 91],\n",
       "       [42, 63, 45, 33, 39, 52, 48, 14, 42],\n",
       "       [60, 95, 37, 43, 44, 10, 21, 72, 98],\n",
       "       [64, 99, 88, 51, 80, 95, 15, 17, 14],\n",
       "       [26, 19, 66, 58, 53, 72, 80, 41, 12],\n",
       "       [10, 25, 42, 58, 25, 71, 12, 44, 32],\n",
       "       [52, 76, 99, 11, 88, 63, 90, 73, 94]])"
      ]
     },
     "execution_count": 36,
     "metadata": {},
     "output_type": "execute_result"
    }
   ],
   "source": [
    "##### np.random.seed(23)\n",
    "\n",
    "n89 = np.random.randint(low=10, high=100, size=(8,9))\n",
    "n89"
   ]
  },
  {
   "cell_type": "raw",
   "id": "5ed992c3",
   "metadata": {},
   "source": [
    "# Grammer for array indexing & slicing\n",
    "\n",
    "\n",
    "n89 [row_n_index]\n",
    "n89 [ row_n_index,  col_n_index ]\n",
    "\n",
    "n89 [ row_n_slice]\n",
    "n89 [ row_n_slice, col_n_slice]\n",
    "\n",
    "n89 [ [list of row_n indices]  ]\n",
    "\n",
    "n89 [ [list of row_n indices], [list of col_n indices]] #  based on zip-like of rowlist,collist\n",
    "\n",
    "combo of all of above\n",
    "\n",
    "\n",
    "n89 [boolean mask of same shape as n89]"
   ]
  },
  {
   "cell_type": "code",
   "execution_count": 30,
   "id": "dcb32403",
   "metadata": {},
   "outputs": [
    {
     "data": {
      "text/plain": [
       "array([93, 50, 83, 64, 41, 86, 49, 35, 61])"
      ]
     },
     "execution_count": 30,
     "metadata": {},
     "output_type": "execute_result"
    }
   ],
   "source": [
    "n89[0]"
   ]
  },
  {
   "cell_type": "code",
   "execution_count": 31,
   "id": "91272b01",
   "metadata": {},
   "outputs": [
    {
     "data": {
      "text/plain": [
       "93"
      ]
     },
     "execution_count": 31,
     "metadata": {},
     "output_type": "execute_result"
    }
   ],
   "source": [
    "n89[0,0]#first row first element"
   ]
  },
  {
   "cell_type": "code",
   "execution_count": 32,
   "id": "fe5dbd4d",
   "metadata": {},
   "outputs": [
    {
     "data": {
      "text/plain": [
       "93"
      ]
     },
     "execution_count": 32,
     "metadata": {},
     "output_type": "execute_result"
    }
   ],
   "source": [
    "n89[0][0]"
   ]
  },
  {
   "cell_type": "code",
   "execution_count": 33,
   "id": "94c779b0",
   "metadata": {},
   "outputs": [
    {
     "data": {
      "text/plain": [
       "31"
      ]
     },
     "execution_count": 33,
     "metadata": {},
     "output_type": "execute_result"
    }
   ],
   "source": [
    "n89[-1,-1]#last row last element"
   ]
  },
  {
   "cell_type": "code",
   "execution_count": 34,
   "id": "22230502",
   "metadata": {},
   "outputs": [
    {
     "data": {
      "text/plain": [
       "array([65, 37, 72, 53, 84, 81, 52, 93, 31])"
      ]
     },
     "execution_count": 34,
     "metadata": {},
     "output_type": "execute_result"
    }
   ],
   "source": [
    "n89[-1]"
   ]
  },
  {
   "cell_type": "code",
   "execution_count": 35,
   "id": "bfb20f01",
   "metadata": {},
   "outputs": [
    {
     "data": {
      "text/plain": [
       "65"
      ]
     },
     "execution_count": 35,
     "metadata": {},
     "output_type": "execute_result"
    }
   ],
   "source": [
    "n89[-1,0]"
   ]
  },
  {
   "cell_type": "code",
   "execution_count": 36,
   "id": "411a77d0",
   "metadata": {},
   "outputs": [
    {
     "data": {
      "text/plain": [
       "array([[16, 55, 22, 59, 76, 85, 95, 79, 74],\n",
       "       [22, 31, 58, 51, 89, 72, 67, 29, 43],\n",
       "       [69, 49, 25, 46, 75, 11, 53, 25, 96]])"
      ]
     },
     "execution_count": 36,
     "metadata": {},
     "output_type": "execute_result"
    }
   ],
   "source": [
    "n89[1:4]"
   ]
  },
  {
   "cell_type": "code",
   "execution_count": 37,
   "id": "7087e2ce",
   "metadata": {},
   "outputs": [
    {
     "data": {
      "text/plain": [
       "array([[51, 89, 72, 67],\n",
       "       [46, 75, 11, 53],\n",
       "       [76, 84, 45, 66]])"
      ]
     },
     "execution_count": 37,
     "metadata": {},
     "output_type": "execute_result"
    }
   ],
   "source": [
    "n89[2:5, 3:7]"
   ]
  },
  {
   "cell_type": "code",
   "execution_count": 98,
   "id": "c742a2c3",
   "metadata": {},
   "outputs": [
    {
     "data": {
      "text/plain": [
       "array([[93, 50, 83, 64, 41, 86, 49, 35, 61],\n",
       "       [16, 55, 22, 59, 76, 85, 95, 79, 74],\n",
       "       [22, 31, 58, 51, 89, 72, 67, 29, 43],\n",
       "       [69, 49, 25, 46, 75, 11, 53, 25, 96],\n",
       "       [93, 68, 35, 76, 84, 45, 66, 23, 70],\n",
       "       [32, 48, 41, 88, 10, 31, 16, 42, 42],\n",
       "       [24, 41, 88, 93, 90, 80, 76, 92, 95],\n",
       "       [65, 37, 72, 53, 84, 81, 52, 93, 31]])"
      ]
     },
     "execution_count": 98,
     "metadata": {},
     "output_type": "execute_result"
    }
   ],
   "source": [
    "n89"
   ]
  },
  {
   "cell_type": "code",
   "execution_count": 101,
   "id": "7b6b14f4",
   "metadata": {},
   "outputs": [
    {
     "data": {
      "text/plain": [
       "array([[16, 55, 22, 59, 76, 85, 95, 79, 74],\n",
       "       [69, 49, 25, 46, 75, 11, 53, 25, 96],\n",
       "       [24, 41, 88, 93, 90, 80, 76, 92, 95],\n",
       "       [65, 37, 72, 53, 84, 81, 52, 93, 31]])"
      ]
     },
     "execution_count": 101,
     "metadata": {},
     "output_type": "execute_result"
    }
   ],
   "source": [
    "n89[ [1,3,-2,-1] ]"
   ]
  },
  {
   "cell_type": "code",
   "execution_count": 103,
   "id": "07f31444",
   "metadata": {},
   "outputs": [
    {
     "data": {
      "text/plain": [
       "array([83, 59, 84])"
      ]
     },
     "execution_count": 103,
     "metadata": {},
     "output_type": "execute_result"
    }
   ],
   "source": [
    "n89[ [0,1,-1] , [2,3,4] ]"
   ]
  },
  {
   "cell_type": "code",
   "execution_count": 104,
   "id": "6ba53395",
   "metadata": {},
   "outputs": [
    {
     "data": {
      "text/plain": [
       "array([[41, 86],\n",
       "       [76, 85],\n",
       "       [89, 72],\n",
       "       [75, 11],\n",
       "       [84, 45],\n",
       "       [10, 31],\n",
       "       [90, 80],\n",
       "       [84, 81]])"
      ]
     },
     "execution_count": 104,
     "metadata": {},
     "output_type": "execute_result"
    }
   ],
   "source": [
    "n89[:, 4:6]"
   ]
  },
  {
   "cell_type": "code",
   "execution_count": 105,
   "id": "daa9322c",
   "metadata": {},
   "outputs": [
    {
     "data": {
      "text/plain": [
       "array([41, 76, 89, 75, 84, 10, 90, 84])"
      ]
     },
     "execution_count": 105,
     "metadata": {},
     "output_type": "execute_result"
    }
   ],
   "source": [
    "n89[:, 4]"
   ]
  },
  {
   "cell_type": "code",
   "execution_count": 106,
   "id": "dcf04206",
   "metadata": {},
   "outputs": [
    {
     "data": {
      "text/plain": [
       "array([[41],\n",
       "       [76],\n",
       "       [89],\n",
       "       [75],\n",
       "       [84],\n",
       "       [10],\n",
       "       [90],\n",
       "       [84]])"
      ]
     },
     "execution_count": 106,
     "metadata": {},
     "output_type": "execute_result"
    }
   ],
   "source": [
    "n89[:, 4:5]"
   ]
  },
  {
   "cell_type": "code",
   "execution_count": 108,
   "id": "d3a9e91e",
   "metadata": {},
   "outputs": [
    {
     "data": {
      "text/plain": [
       "array([[41],\n",
       "       [76],\n",
       "       [89],\n",
       "       [75],\n",
       "       [84],\n",
       "       [10],\n",
       "       [90],\n",
       "       [84]])"
      ]
     },
     "execution_count": 108,
     "metadata": {},
     "output_type": "execute_result"
    }
   ],
   "source": [
    "n89[:, [4]]"
   ]
  },
  {
   "cell_type": "code",
   "execution_count": 109,
   "id": "60d61031",
   "metadata": {},
   "outputs": [
    {
     "data": {
      "text/plain": [
       "array([[83, 41, 61],\n",
       "       [22, 76, 74],\n",
       "       [58, 89, 43],\n",
       "       [25, 75, 96],\n",
       "       [35, 84, 70],\n",
       "       [41, 10, 42],\n",
       "       [88, 90, 95],\n",
       "       [72, 84, 31]])"
      ]
     },
     "execution_count": 109,
     "metadata": {},
     "output_type": "execute_result"
    }
   ],
   "source": [
    "n89[:, [2,4,-1]]"
   ]
  },
  {
   "cell_type": "code",
   "execution_count": 110,
   "id": "604d563e",
   "metadata": {},
   "outputs": [
    {
     "data": {
      "text/plain": [
       "array([[16, 55, 22, 59, 76, 85, 95, 79, 74],\n",
       "       [69, 49, 25, 46, 75, 11, 53, 25, 96],\n",
       "       [65, 37, 72, 53, 84, 81, 52, 93, 31]])"
      ]
     },
     "execution_count": 110,
     "metadata": {},
     "output_type": "execute_result"
    }
   ],
   "source": [
    "n89[ [1,3,-1] ]"
   ]
  },
  {
   "cell_type": "code",
   "execution_count": 111,
   "id": "1c0fbd75",
   "metadata": {},
   "outputs": [
    {
     "data": {
      "text/plain": [
       "array([[85, 95, 79, 74],\n",
       "       [11, 53, 25, 96],\n",
       "       [81, 52, 93, 31]])"
      ]
     },
     "execution_count": 111,
     "metadata": {},
     "output_type": "execute_result"
    }
   ],
   "source": [
    "n89[ [1,3,-1] , 5:]"
   ]
  },
  {
   "cell_type": "code",
   "execution_count": 112,
   "id": "08d37aa2",
   "metadata": {},
   "outputs": [
    {
     "data": {
      "text/plain": [
       "array([[93, 50, 83, 64, 41, 86, 49, 35, 61],\n",
       "       [16, 55, 22, 59, 76, 85, 95, 79, 74],\n",
       "       [22, 31, 58, 51, 89, 72, 67, 29, 43],\n",
       "       [69, 49, 25, 46, 75, 11, 53, 25, 96],\n",
       "       [93, 68, 35, 76, 84, 45, 66, 23, 70],\n",
       "       [32, 48, 41, 88, 10, 31, 16, 42, 42],\n",
       "       [24, 41, 88, 93, 90, 80, 76, 92, 95],\n",
       "       [65, 37, 72, 53, 84, 81, 52, 93, 31]])"
      ]
     },
     "execution_count": 112,
     "metadata": {},
     "output_type": "execute_result"
    }
   ],
   "source": [
    "n89"
   ]
  },
  {
   "cell_type": "code",
   "execution_count": 43,
   "id": "4b610fcd",
   "metadata": {},
   "outputs": [
    {
     "data": {
      "text/plain": [
       "array([95, 91, 95, 98, 99, 95, 99, 94])"
      ]
     },
     "execution_count": 43,
     "metadata": {},
     "output_type": "execute_result"
    }
   ],
   "source": [
    "n89[n89>90]"
   ]
  },
  {
   "cell_type": "code",
   "execution_count": 113,
   "id": "78ca1906",
   "metadata": {},
   "outputs": [
    {
     "data": {
      "text/plain": [
       "array([[ True, False,  True,  True, False,  True, False, False,  True],\n",
       "       [False,  True, False,  True,  True,  True,  True,  True,  True],\n",
       "       [False, False,  True,  True,  True,  True,  True, False, False],\n",
       "       [ True, False, False, False,  True, False,  True, False,  True],\n",
       "       [ True,  True, False,  True,  True, False,  True, False,  True],\n",
       "       [False, False, False,  True, False, False, False, False, False],\n",
       "       [False, False,  True,  True,  True,  True,  True,  True,  True],\n",
       "       [ True, False,  True,  True,  True,  True,  True,  True, False]])"
      ]
     },
     "execution_count": 113,
     "metadata": {},
     "output_type": "execute_result"
    }
   ],
   "source": [
    "mask1 = n89 > 50\n",
    "mask1"
   ]
  },
  {
   "cell_type": "code",
   "execution_count": 114,
   "id": "99babf91",
   "metadata": {},
   "outputs": [
    {
     "data": {
      "text/plain": [
       "(8, 9)"
      ]
     },
     "execution_count": 114,
     "metadata": {},
     "output_type": "execute_result"
    }
   ],
   "source": [
    "mask1.shape"
   ]
  },
  {
   "cell_type": "code",
   "execution_count": 115,
   "id": "37593e3b",
   "metadata": {},
   "outputs": [
    {
     "data": {
      "text/plain": [
       "dtype('bool')"
      ]
     },
     "execution_count": 115,
     "metadata": {},
     "output_type": "execute_result"
    }
   ],
   "source": [
    "mask1.dtype"
   ]
  },
  {
   "cell_type": "code",
   "execution_count": 116,
   "id": "d87d0bb4",
   "metadata": {},
   "outputs": [
    {
     "data": {
      "text/plain": [
       "array([93, 83, 64, 86, 61, 55, 59, 76, 85, 95, 79, 74, 58, 51, 89, 72, 67,\n",
       "       69, 75, 53, 96, 93, 68, 76, 84, 66, 70, 88, 88, 93, 90, 80, 76, 92,\n",
       "       95, 65, 72, 53, 84, 81, 52, 93])"
      ]
     },
     "execution_count": 116,
     "metadata": {},
     "output_type": "execute_result"
    }
   ],
   "source": [
    "n89[mask1]"
   ]
  },
  {
   "cell_type": "code",
   "execution_count": 117,
   "id": "55c5ed24",
   "metadata": {},
   "outputs": [
    {
     "data": {
      "text/plain": [
       "array([93, 83, 64, 86, 61, 55, 59, 76, 85, 95, 79, 74, 58, 51, 89, 72, 67,\n",
       "       69, 75, 53, 96, 93, 68, 76, 84, 66, 70, 88, 88, 93, 90, 80, 76, 92,\n",
       "       95, 65, 72, 53, 84, 81, 52, 93])"
      ]
     },
     "execution_count": 117,
     "metadata": {},
     "output_type": "execute_result"
    }
   ],
   "source": [
    "n89[n89>50]"
   ]
  },
  {
   "cell_type": "code",
   "execution_count": null,
   "id": "47dce868",
   "metadata": {},
   "outputs": [],
   "source": [
    "n89"
   ]
  },
  {
   "cell_type": "code",
   "execution_count": 118,
   "id": "b37e24a3",
   "metadata": {},
   "outputs": [
    {
     "data": {
      "text/plain": [
       "array([[ True, False,  True,  True, False,  True, False, False,  True],\n",
       "       [False,  True, False,  True,  True,  True,  True,  True,  True],\n",
       "       [False, False,  True,  True,  True,  True,  True, False, False],\n",
       "       [ True, False, False, False,  True, False,  True, False,  True],\n",
       "       [ True,  True, False,  True,  True, False,  True, False,  True],\n",
       "       [False, False, False,  True, False, False, False, False, False],\n",
       "       [False, False,  True,  True,  True,  True,  True,  True,  True],\n",
       "       [ True, False,  True,  True,  True,  True,  True,  True, False]])"
      ]
     },
     "execution_count": 118,
     "metadata": {},
     "output_type": "execute_result"
    }
   ],
   "source": [
    "mask1 = n89>50\n",
    "mask1"
   ]
  },
  {
   "cell_type": "code",
   "execution_count": null,
   "id": "5632f822",
   "metadata": {},
   "outputs": [],
   "source": []
  },
  {
   "cell_type": "code",
   "execution_count": 119,
   "id": "32dd0187",
   "metadata": {},
   "outputs": [
    {
     "data": {
      "text/plain": [
       "array([[False,  True, False,  True, False,  True, False, False, False],\n",
       "       [ True, False,  True, False,  True, False, False, False,  True],\n",
       "       [ True, False,  True, False, False,  True, False, False, False],\n",
       "       [False, False, False,  True, False, False, False, False,  True],\n",
       "       [False,  True, False,  True,  True, False,  True, False,  True],\n",
       "       [ True,  True, False,  True,  True, False,  True,  True,  True],\n",
       "       [ True, False,  True, False,  True,  True,  True,  True, False],\n",
       "       [False, False,  True, False,  True, False,  True, False, False]])"
      ]
     },
     "execution_count": 119,
     "metadata": {},
     "output_type": "execute_result"
    }
   ],
   "source": [
    "mask2 = n89%2 ==0\n",
    "mask2"
   ]
  },
  {
   "cell_type": "code",
   "execution_count": 121,
   "id": "60d89647",
   "metadata": {},
   "outputs": [
    {
     "data": {
      "text/plain": [
       "array([64, 86, 76, 74, 58, 72, 96, 68, 76, 84, 66, 70, 88, 88, 90, 80, 76,\n",
       "       92, 72, 84, 52])"
      ]
     },
     "execution_count": 121,
     "metadata": {},
     "output_type": "execute_result"
    }
   ],
   "source": [
    "n89[(n89>50) & (n89%2==0)]"
   ]
  },
  {
   "cell_type": "code",
   "execution_count": null,
   "id": "05df1768",
   "metadata": {},
   "outputs": [],
   "source": [
    "mask3 = mask1 & mask2\n",
    "mask3"
   ]
  },
  {
   "cell_type": "code",
   "execution_count": null,
   "id": "fb87eac3",
   "metadata": {},
   "outputs": [],
   "source": [
    "n89[mask3]"
   ]
  },
  {
   "cell_type": "code",
   "execution_count": null,
   "id": "2d037b10",
   "metadata": {},
   "outputs": [],
   "source": [
    "n89[  (n89>50) & (n89%2==0)]"
   ]
  },
  {
   "cell_type": "markdown",
   "id": "858efc9d",
   "metadata": {},
   "source": [
    "# Mutability"
   ]
  },
  {
   "cell_type": "code",
   "execution_count": 122,
   "id": "27ff0a68",
   "metadata": {},
   "outputs": [
    {
     "data": {
      "text/plain": [
       "array([[93, 50, 83, 64, 41, 86, 49, 35, 61],\n",
       "       [16, 55, 22, 59, 76, 85, 95, 79, 74],\n",
       "       [22, 31, 58, 51, 89, 72, 67, 29, 43],\n",
       "       [69, 49, 25, 46, 75, 11, 53, 25, 96],\n",
       "       [93, 68, 35, 76, 84, 45, 66, 23, 70],\n",
       "       [32, 48, 41, 88, 10, 31, 16, 42, 42],\n",
       "       [24, 41, 88, 93, 90, 80, 76, 92, 95],\n",
       "       [65, 37, 72, 53, 84, 81, 52, 93, 31]])"
      ]
     },
     "execution_count": 122,
     "metadata": {},
     "output_type": "execute_result"
    }
   ],
   "source": [
    "n89"
   ]
  },
  {
   "cell_type": "code",
   "execution_count": 47,
   "id": "2ce065b9",
   "metadata": {},
   "outputs": [
    {
     "data": {
      "text/plain": [
       "array([[ 16,  78,  32,  53,  18,  95,  72,  42,  70],\n",
       "       [ 21,  11,  51,  36,  47,  51,  66,  49,  91],\n",
       "       [ 42,  63,  45,  33,  39,  52,  48,  14,  42],\n",
       "       [ 60,  95,  37,  43,  44,  10,  21,  72,  98],\n",
       "       [ 64,  99,  88,  51,  80,  95,  15,  17,  14],\n",
       "       [ 26,  19,  66,  58,  53,  72,  80,  41,  12],\n",
       "       [ 10,  25,  42,  58,  25,  71,  12,  44,  32],\n",
       "       [ 52,  76, 999,  11,  88,  63,  90,  73,  94]])"
      ]
     },
     "execution_count": 47,
     "metadata": {},
     "output_type": "execute_result"
    }
   ],
   "source": [
    "n89[-1,2]=999\n",
    "n89"
   ]
  },
  {
   "cell_type": "code",
   "execution_count": 48,
   "id": "5daa79c9",
   "metadata": {},
   "outputs": [
    {
     "data": {
      "text/plain": [
       "array([[999,  78,  32,  53,  18,  95,  72,  42,  70],\n",
       "       [ 21,  11,  51,  36,  47,  51,  66,  49,  91],\n",
       "       [ 42,  63,  45,  33,  39,  52,  48,  14,  42],\n",
       "       [ 60,  95,  37,  43,  44,  10,  21,  72,  98],\n",
       "       [ 64,  99,  88,  51,  80,  95,  15,  17,  14],\n",
       "       [ 26,  19,  66,  58,  53,  72,  80,  41,  12],\n",
       "       [ 10,  25,  42,  58,  25,  71,  12,  44,  32],\n",
       "       [ 52,  76, 999,  11,  88,  63,  90,  73,  94]])"
      ]
     },
     "execution_count": 48,
     "metadata": {},
     "output_type": "execute_result"
    }
   ],
   "source": [
    "n89[0,0] = 999\n",
    "n89"
   ]
  },
  {
   "cell_type": "raw",
   "id": "b5432540",
   "metadata": {},
   "source": [
    "Grammer for array indexing & slicing\n",
    "\n",
    "\n",
    "n89 [row_n_index]\n",
    "n89 [ row_n_index,  col_n_index ]\n",
    "\n",
    "n89 [ row_n_slice]\n",
    "n89 [ row_n_slice, col_n_slice]\n",
    "\n",
    "n89 [ [list of row_n indices]  ]\n",
    "\n",
    "n89 [ [list of row_n indices], [list of col_n indices]] #  based on zip-like of rowlist,collist\n",
    "\n",
    "combo of all of above\n",
    "\n",
    "\n",
    "n89 [boolean mask of same shape as n89]"
   ]
  },
  {
   "cell_type": "code",
   "execution_count": 49,
   "id": "d9f4349d",
   "metadata": {},
   "outputs": [
    {
     "data": {
      "text/plain": [
       "array([[999,  78,  32,  53,  18,  95,  72,  42,  70],\n",
       "       [ 21,  11,  51,  36,  47,  51,  66,  49,  91],\n",
       "       [ 42,  63,  45,  33,  39,  52,  48,  14,  42],\n",
       "       [ 60,  95,  37,  43,  44,  10,  21,  72,  98],\n",
       "       [ 64,  99,  88,  51,  80,  95,  15,  17,  14],\n",
       "       [ 26,  19,  66,  58,  53,  72,  80,  41,  12],\n",
       "       [ 10,  25,  42,  58,  25,  71,  12,  44,  32],\n",
       "       [ 52,  76, 999,  11,  88,  63,  90,  73,  94]])"
      ]
     },
     "execution_count": 49,
     "metadata": {},
     "output_type": "execute_result"
    }
   ],
   "source": [
    "n89"
   ]
  },
  {
   "cell_type": "code",
   "execution_count": 50,
   "id": "89ff4353",
   "metadata": {},
   "outputs": [],
   "source": [
    "n89[n89>50] = 888"
   ]
  },
  {
   "cell_type": "code",
   "execution_count": 51,
   "id": "b80438f5",
   "metadata": {},
   "outputs": [
    {
     "data": {
      "text/plain": [
       "array([[888, 888,  32, 888,  18, 888, 888,  42, 888],\n",
       "       [ 21,  11, 888,  36,  47, 888, 888,  49, 888],\n",
       "       [ 42, 888,  45,  33,  39, 888,  48,  14,  42],\n",
       "       [888, 888,  37,  43,  44,  10,  21, 888, 888],\n",
       "       [888, 888, 888, 888, 888, 888,  15,  17,  14],\n",
       "       [ 26,  19, 888, 888, 888, 888, 888,  41,  12],\n",
       "       [ 10,  25,  42, 888,  25, 888,  12,  44,  32],\n",
       "       [888, 888, 888,  11, 888, 888, 888, 888, 888]])"
      ]
     },
     "execution_count": 51,
     "metadata": {},
     "output_type": "execute_result"
    }
   ],
   "source": [
    "n89"
   ]
  },
  {
   "cell_type": "code",
   "execution_count": 128,
   "id": "77eaa30e",
   "metadata": {},
   "outputs": [],
   "source": [
    "n89[2:5] = 777"
   ]
  },
  {
   "cell_type": "code",
   "execution_count": 129,
   "id": "f6736810",
   "metadata": {},
   "outputs": [
    {
     "data": {
      "text/plain": [
       "array([[888,  50, 888, 888,  41, 888,  49,  35, 888],\n",
       "       [ 16, 888,  22, 888, 888, 888, 888, 888, 888],\n",
       "       [777, 777, 777, 777, 777, 777, 777, 777, 777],\n",
       "       [777, 777, 777, 777, 777, 777, 777, 777, 777],\n",
       "       [777, 777, 777, 777, 777, 777, 777, 777, 777],\n",
       "       [ 32,  48,  41, 888,  10,  31,  16,  42,  42],\n",
       "       [ 24,  41, 888, 888, 888, 888, 888, 888, 888],\n",
       "       [888,  37, 888, 888, 888, 888, 888, 888,  31]])"
      ]
     },
     "execution_count": 129,
     "metadata": {},
     "output_type": "execute_result"
    }
   ],
   "source": [
    "n89"
   ]
  },
  {
   "cell_type": "code",
   "execution_count": 130,
   "id": "518bb263",
   "metadata": {},
   "outputs": [],
   "source": [
    "n89[2:5, 2:5] = 666"
   ]
  },
  {
   "cell_type": "code",
   "execution_count": 131,
   "id": "f8a25c00",
   "metadata": {},
   "outputs": [
    {
     "data": {
      "text/plain": [
       "array([[888,  50, 888, 888,  41, 888,  49,  35, 888],\n",
       "       [ 16, 888,  22, 888, 888, 888, 888, 888, 888],\n",
       "       [777, 777, 666, 666, 666, 777, 777, 777, 777],\n",
       "       [777, 777, 666, 666, 666, 777, 777, 777, 777],\n",
       "       [777, 777, 666, 666, 666, 777, 777, 777, 777],\n",
       "       [ 32,  48,  41, 888,  10,  31,  16,  42,  42],\n",
       "       [ 24,  41, 888, 888, 888, 888, 888, 888, 888],\n",
       "       [888,  37, 888, 888, 888, 888, 888, 888,  31]])"
      ]
     },
     "execution_count": 131,
     "metadata": {},
     "output_type": "execute_result"
    }
   ],
   "source": [
    "n89"
   ]
  },
  {
   "cell_type": "markdown",
   "id": "592f1a92",
   "metadata": {},
   "source": [
    "# Splitting of Arrays"
   ]
  },
  {
   "cell_type": "code",
   "execution_count": 52,
   "id": "303b8732",
   "metadata": {},
   "outputs": [
    {
     "data": {
      "text/plain": [
       "array([[93, 50, 83, 64, 41, 86, 49, 35, 61, 16, 55, 22],\n",
       "       [59, 76, 85, 95, 79, 74, 22, 31, 58, 51, 89, 72],\n",
       "       [67, 29, 43, 69, 49, 25, 46, 75, 11, 53, 25, 96],\n",
       "       [93, 68, 35, 76, 84, 45, 66, 23, 70, 32, 48, 41],\n",
       "       [88, 10, 31, 16, 42, 42, 24, 41, 88, 93, 90, 80],\n",
       "       [76, 92, 95, 65, 37, 72, 53, 84, 81, 52, 93, 31],\n",
       "       [16, 78, 32, 53, 18, 95, 72, 42, 70, 21, 11, 51],\n",
       "       [36, 47, 51, 66, 49, 91, 42, 63, 45, 33, 39, 52]])"
      ]
     },
     "execution_count": 52,
     "metadata": {},
     "output_type": "execute_result"
    }
   ],
   "source": [
    "np.random.seed(23)\n",
    "n812 = np.random.randint(low=10, high=100, size=(8,12))\n",
    "n812"
   ]
  },
  {
   "cell_type": "code",
   "execution_count": 61,
   "id": "30111341",
   "metadata": {},
   "outputs": [
    {
     "data": {
      "text/plain": [
       "[array([[93, 50, 83, 64, 41, 86, 49, 35, 61, 16, 55, 22],\n",
       "        [59, 76, 85, 95, 79, 74, 22, 31, 58, 51, 89, 72],\n",
       "        [67, 29, 43, 69, 49, 25, 46, 75, 11, 53, 25, 96],\n",
       "        [93, 68, 35, 76, 84, 45, 66, 23, 70, 32, 48, 41]]),\n",
       " array([[88, 10, 31, 16, 42, 42, 24, 41, 88, 93, 90, 80],\n",
       "        [76, 92, 95, 65, 37, 72, 53, 84, 81, 52, 93, 31],\n",
       "        [16, 78, 32, 53, 18, 95, 72, 42, 70, 21, 11, 51],\n",
       "        [36, 47, 51, 66, 49, 91, 42, 63, 45, 33, 39, 52]])]"
      ]
     },
     "execution_count": 61,
     "metadata": {},
     "output_type": "execute_result"
    }
   ],
   "source": [
    "np.vsplit(n812,2)"
   ]
  },
  {
   "cell_type": "code",
   "execution_count": 140,
   "id": "c7ea142d",
   "metadata": {},
   "outputs": [
    {
     "name": "stdout",
     "output_type": "stream",
     "text": [
      "<class 'list'>\n",
      "[[93 50 83 64 41 86 49 35 61 16 55 22]\n",
      " [59 76 85 95 79 74 22 31 58 51 89 72]\n",
      " [67 29 43 69 49 25 46 75 11 53 25 96]\n",
      " [93 68 35 76 84 45 66 23 70 32 48 41]]\n",
      "<class 'numpy.ndarray'>\n",
      "\n",
      "[[88 10 31 16 42 42 24 41 88 93 90 80]\n",
      " [76 92 95 65 37 72 53 84 81 52 93 31]\n",
      " [16 78 32 53 18 95 72 42 70 21 11 51]\n",
      " [36 47 51 66 49 91 42 63 45 33 39 52]]\n",
      "<class 'numpy.ndarray'>\n",
      "\n"
     ]
    }
   ],
   "source": [
    "r = np.vsplit(n812, 2)\n",
    "print(type(r))\n",
    "\n",
    "for item in r:\n",
    "    print(item)\n",
    "    print(type(item))\n",
    "    print()"
   ]
  },
  {
   "cell_type": "code",
   "execution_count": 141,
   "id": "dbfede93",
   "metadata": {},
   "outputs": [
    {
     "name": "stdout",
     "output_type": "stream",
     "text": [
      "<class 'list'>\n",
      "[[93 50 83 64 41 86 49 35 61 16 55 22]\n",
      " [59 76 85 95 79 74 22 31 58 51 89 72]]\n",
      "\n",
      "[[67 29 43 69 49 25 46 75 11 53 25 96]\n",
      " [93 68 35 76 84 45 66 23 70 32 48 41]]\n",
      "\n",
      "[[88 10 31 16 42 42 24 41 88 93 90 80]\n",
      " [76 92 95 65 37 72 53 84 81 52 93 31]]\n",
      "\n",
      "[[16 78 32 53 18 95 72 42 70 21 11 51]\n",
      " [36 47 51 66 49 91 42 63 45 33 39 52]]\n",
      "\n"
     ]
    }
   ],
   "source": [
    "r = np.vsplit(n812, 4)\n",
    "print(type(r))\n",
    "\n",
    "for item in r:\n",
    "    print(item)\n",
    "    print()"
   ]
  },
  {
   "cell_type": "code",
   "execution_count": 65,
   "id": "8e828796",
   "metadata": {
    "collapsed": true,
    "jupyter": {
     "outputs_hidden": true
    }
   },
   "outputs": [
    {
     "ename": "ValueError",
     "evalue": "array split does not result in an equal division",
     "output_type": "error",
     "traceback": [
      "\u001b[1;31m---------------------------------------------------------------------------\u001b[0m",
      "\u001b[1;31mValueError\u001b[0m                                Traceback (most recent call last)",
      "Cell \u001b[1;32mIn[65], line 1\u001b[0m\n\u001b[1;32m----> 1\u001b[0m r \u001b[38;5;241m=\u001b[39m \u001b[43mnp\u001b[49m\u001b[38;5;241;43m.\u001b[39;49m\u001b[43mvsplit\u001b[49m\u001b[43m(\u001b[49m\u001b[43mn812\u001b[49m\u001b[43m,\u001b[49m\u001b[38;5;241;43m3\u001b[39;49m\u001b[43m)\u001b[49m\n\u001b[0;32m      2\u001b[0m r\n",
      "File \u001b[1;32m<__array_function__ internals>:180\u001b[0m, in \u001b[0;36mvsplit\u001b[1;34m(*args, **kwargs)\u001b[0m\n",
      "File \u001b[1;32mC:\\ProgramData\\anaconda3\\lib\\site-packages\\numpy\\lib\\shape_base.py:997\u001b[0m, in \u001b[0;36mvsplit\u001b[1;34m(ary, indices_or_sections)\u001b[0m\n\u001b[0;32m    995\u001b[0m \u001b[38;5;28;01mif\u001b[39;00m _nx\u001b[38;5;241m.\u001b[39mndim(ary) \u001b[38;5;241m<\u001b[39m \u001b[38;5;241m2\u001b[39m:\n\u001b[0;32m    996\u001b[0m     \u001b[38;5;28;01mraise\u001b[39;00m \u001b[38;5;167;01mValueError\u001b[39;00m(\u001b[38;5;124m'\u001b[39m\u001b[38;5;124mvsplit only works on arrays of 2 or more dimensions\u001b[39m\u001b[38;5;124m'\u001b[39m)\n\u001b[1;32m--> 997\u001b[0m \u001b[38;5;28;01mreturn\u001b[39;00m \u001b[43msplit\u001b[49m\u001b[43m(\u001b[49m\u001b[43mary\u001b[49m\u001b[43m,\u001b[49m\u001b[43m \u001b[49m\u001b[43mindices_or_sections\u001b[49m\u001b[43m,\u001b[49m\u001b[43m \u001b[49m\u001b[38;5;241;43m0\u001b[39;49m\u001b[43m)\u001b[49m\n",
      "File \u001b[1;32m<__array_function__ internals>:180\u001b[0m, in \u001b[0;36msplit\u001b[1;34m(*args, **kwargs)\u001b[0m\n",
      "File \u001b[1;32mC:\\ProgramData\\anaconda3\\lib\\site-packages\\numpy\\lib\\shape_base.py:872\u001b[0m, in \u001b[0;36msplit\u001b[1;34m(ary, indices_or_sections, axis)\u001b[0m\n\u001b[0;32m    870\u001b[0m     N \u001b[38;5;241m=\u001b[39m ary\u001b[38;5;241m.\u001b[39mshape[axis]\n\u001b[0;32m    871\u001b[0m     \u001b[38;5;28;01mif\u001b[39;00m N \u001b[38;5;241m%\u001b[39m sections:\n\u001b[1;32m--> 872\u001b[0m         \u001b[38;5;28;01mraise\u001b[39;00m \u001b[38;5;167;01mValueError\u001b[39;00m(\n\u001b[0;32m    873\u001b[0m             \u001b[38;5;124m'\u001b[39m\u001b[38;5;124marray split does not result in an equal division\u001b[39m\u001b[38;5;124m'\u001b[39m) \u001b[38;5;28;01mfrom\u001b[39;00m \u001b[38;5;28;01mNone\u001b[39;00m\n\u001b[0;32m    874\u001b[0m \u001b[38;5;28;01mreturn\u001b[39;00m array_split(ary, indices_or_sections, axis)\n",
      "\u001b[1;31mValueError\u001b[0m: array split does not result in an equal division"
     ]
    }
   ],
   "source": [
    "r = np.vsplit(n812,3)\n",
    "r"
   ]
  },
  {
   "cell_type": "code",
   "execution_count": 143,
   "id": "07dc2593",
   "metadata": {},
   "outputs": [
    {
     "data": {
      "text/plain": [
       "[array([[93, 50, 83, 64, 41, 86, 49, 35, 61, 16, 55, 22],\n",
       "        [59, 76, 85, 95, 79, 74, 22, 31, 58, 51, 89, 72],\n",
       "        [67, 29, 43, 69, 49, 25, 46, 75, 11, 53, 25, 96]]),\n",
       " array([[93, 68, 35, 76, 84, 45, 66, 23, 70, 32, 48, 41]]),\n",
       " array([[88, 10, 31, 16, 42, 42, 24, 41, 88, 93, 90, 80],\n",
       "        [76, 92, 95, 65, 37, 72, 53, 84, 81, 52, 93, 31]]),\n",
       " array([[16, 78, 32, 53, 18, 95, 72, 42, 70, 21, 11, 51]]),\n",
       " array([[36, 47, 51, 66, 49, 91, 42, 63, 45, 33, 39, 52]])]"
      ]
     },
     "execution_count": 143,
     "metadata": {},
     "output_type": "execute_result"
    }
   ],
   "source": [
    "np.vsplit(n812, [3,4,6,7]   )"
   ]
  },
  {
   "cell_type": "code",
   "execution_count": 144,
   "id": "31b4deb0",
   "metadata": {},
   "outputs": [
    {
     "data": {
      "text/plain": [
       "[array([[93, 50, 83, 64, 41, 86, 49, 35, 61, 16, 55, 22],\n",
       "        [59, 76, 85, 95, 79, 74, 22, 31, 58, 51, 89, 72]]),\n",
       " array([[67, 29, 43, 69, 49, 25, 46, 75, 11, 53, 25, 96]]),\n",
       " array([[93, 68, 35, 76, 84, 45, 66, 23, 70, 32, 48, 41]]),\n",
       " array([[88, 10, 31, 16, 42, 42, 24, 41, 88, 93, 90, 80],\n",
       "        [76, 92, 95, 65, 37, 72, 53, 84, 81, 52, 93, 31]]),\n",
       " array([[16, 78, 32, 53, 18, 95, 72, 42, 70, 21, 11, 51],\n",
       "        [36, 47, 51, 66, 49, 91, 42, 63, 45, 33, 39, 52]])]"
      ]
     },
     "execution_count": 144,
     "metadata": {},
     "output_type": "execute_result"
    }
   ],
   "source": [
    "np.vsplit(n812, [2,3,4,6]   )"
   ]
  },
  {
   "cell_type": "code",
   "execution_count": 146,
   "id": "868efcef",
   "metadata": {},
   "outputs": [
    {
     "data": {
      "text/plain": [
       "[array([[93, 50, 83, 64, 41, 86],\n",
       "        [59, 76, 85, 95, 79, 74],\n",
       "        [67, 29, 43, 69, 49, 25],\n",
       "        [93, 68, 35, 76, 84, 45],\n",
       "        [88, 10, 31, 16, 42, 42],\n",
       "        [76, 92, 95, 65, 37, 72],\n",
       "        [16, 78, 32, 53, 18, 95],\n",
       "        [36, 47, 51, 66, 49, 91]]),\n",
       " array([[49, 35, 61, 16, 55, 22],\n",
       "        [22, 31, 58, 51, 89, 72],\n",
       "        [46, 75, 11, 53, 25, 96],\n",
       "        [66, 23, 70, 32, 48, 41],\n",
       "        [24, 41, 88, 93, 90, 80],\n",
       "        [53, 84, 81, 52, 93, 31],\n",
       "        [72, 42, 70, 21, 11, 51],\n",
       "        [42, 63, 45, 33, 39, 52]])]"
      ]
     },
     "execution_count": 146,
     "metadata": {},
     "output_type": "execute_result"
    }
   ],
   "source": [
    "np.hsplit(n812, 2  ) #column wise split"
   ]
  },
  {
   "cell_type": "code",
   "execution_count": 147,
   "id": "875f7a91",
   "metadata": {},
   "outputs": [
    {
     "name": "stdout",
     "output_type": "stream",
     "text": [
      "[[93 50 83]\n",
      " [59 76 85]\n",
      " [67 29 43]\n",
      " [93 68 35]\n",
      " [88 10 31]\n",
      " [76 92 95]\n",
      " [16 78 32]\n",
      " [36 47 51]]\n",
      "(8, 3)\n",
      "<class 'numpy.ndarray'>\n",
      "\n",
      "[[64]\n",
      " [95]\n",
      " [69]\n",
      " [76]\n",
      " [16]\n",
      " [65]\n",
      " [53]\n",
      " [66]]\n",
      "(8, 1)\n",
      "<class 'numpy.ndarray'>\n",
      "\n",
      "[[41 86]\n",
      " [79 74]\n",
      " [49 25]\n",
      " [84 45]\n",
      " [42 42]\n",
      " [37 72]\n",
      " [18 95]\n",
      " [49 91]]\n",
      "(8, 2)\n",
      "<class 'numpy.ndarray'>\n",
      "\n",
      "[[49 35]\n",
      " [22 31]\n",
      " [46 75]\n",
      " [66 23]\n",
      " [24 41]\n",
      " [53 84]\n",
      " [72 42]\n",
      " [42 63]]\n",
      "(8, 2)\n",
      "<class 'numpy.ndarray'>\n",
      "\n",
      "[[61]\n",
      " [58]\n",
      " [11]\n",
      " [70]\n",
      " [88]\n",
      " [81]\n",
      " [70]\n",
      " [45]]\n",
      "(8, 1)\n",
      "<class 'numpy.ndarray'>\n",
      "\n",
      "[[16 55]\n",
      " [51 89]\n",
      " [53 25]\n",
      " [32 48]\n",
      " [93 90]\n",
      " [52 93]\n",
      " [21 11]\n",
      " [33 39]]\n",
      "(8, 2)\n",
      "<class 'numpy.ndarray'>\n",
      "\n",
      "[[22]\n",
      " [72]\n",
      " [96]\n",
      " [41]\n",
      " [80]\n",
      " [31]\n",
      " [51]\n",
      " [52]]\n",
      "(8, 1)\n",
      "<class 'numpy.ndarray'>\n",
      "\n"
     ]
    }
   ],
   "source": [
    "r = np.hsplit(n812, [3,4,6,8,9,11]   )  ##  returns a list of numpy arrays\n",
    "for item in r:\n",
    "    print(item)\n",
    "    print(item.shape)\n",
    "    print(type(item))\n",
    "    print()"
   ]
  },
  {
   "cell_type": "code",
   "execution_count": null,
   "id": "99b2bbd9",
   "metadata": {},
   "outputs": [],
   "source": [
    "##  DIY: np.dsplit"
   ]
  },
  {
   "cell_type": "code",
   "execution_count": null,
   "id": "caa8981c",
   "metadata": {},
   "outputs": [],
   "source": [
    "n89"
   ]
  },
  {
   "cell_type": "markdown",
   "id": "e93475c4",
   "metadata": {},
   "source": [
    "# hStack, vStack"
   ]
  },
  {
   "cell_type": "code",
   "execution_count": 66,
   "id": "54bd1066",
   "metadata": {},
   "outputs": [],
   "source": [
    "n34 = np.arange(12).reshape(3,4)\n",
    "n64 = np.arange(100,124).reshape(6,4)\n",
    "n36 = np.arange(200,218).reshape(3,6) "
   ]
  },
  {
   "cell_type": "code",
   "execution_count": 67,
   "id": "0560c7db",
   "metadata": {},
   "outputs": [
    {
     "name": "stdout",
     "output_type": "stream",
     "text": [
      "[[ 0  1  2  3]\n",
      " [ 4  5  6  7]\n",
      " [ 8  9 10 11]]\n",
      "[[100 101 102 103]\n",
      " [104 105 106 107]\n",
      " [108 109 110 111]\n",
      " [112 113 114 115]\n",
      " [116 117 118 119]\n",
      " [120 121 122 123]]\n",
      "[[200 201 202 203 204 205]\n",
      " [206 207 208 209 210 211]\n",
      " [212 213 214 215 216 217]]\n"
     ]
    }
   ],
   "source": [
    "print(n34)\n",
    "print(n64)\n",
    "print(n36)"
   ]
  },
  {
   "cell_type": "code",
   "execution_count": 68,
   "id": "00b95def",
   "metadata": {
    "scrolled": true
   },
   "outputs": [
    {
     "data": {
      "text/plain": [
       "array([[  0,   1,   2,   3],\n",
       "       [  4,   5,   6,   7],\n",
       "       [  8,   9,  10,  11],\n",
       "       [100, 101, 102, 103],\n",
       "       [104, 105, 106, 107],\n",
       "       [108, 109, 110, 111],\n",
       "       [112, 113, 114, 115],\n",
       "       [116, 117, 118, 119],\n",
       "       [120, 121, 122, 123]])"
      ]
     },
     "execution_count": 68,
     "metadata": {},
     "output_type": "execute_result"
    }
   ],
   "source": [
    "np.vstack((n34,n64))"
   ]
  },
  {
   "cell_type": "code",
   "execution_count": 72,
   "id": "3506910a",
   "metadata": {},
   "outputs": [
    {
     "data": {
      "text/plain": [
       "array([[  0,   1,   2,   3, 200, 201, 202, 203, 204, 205],\n",
       "       [  4,   5,   6,   7, 206, 207, 208, 209, 210, 211],\n",
       "       [  8,   9,  10,  11, 212, 213, 214, 215, 216, 217]])"
      ]
     },
     "execution_count": 72,
     "metadata": {},
     "output_type": "execute_result"
    }
   ],
   "source": [
    "np.hstack((n34,n36))"
   ]
  },
  {
   "cell_type": "code",
   "execution_count": 42,
   "id": "2249bbc9",
   "metadata": {},
   "outputs": [
    {
     "ename": "ValueError",
     "evalue": "all the input array dimensions for the concatenation axis must match exactly, but along dimension 0, the array at index 0 has size 3 and the array at index 1 has size 6",
     "output_type": "error",
     "traceback": [
      "\u001b[1;31m---------------------------------------------------------------------------\u001b[0m",
      "\u001b[1;31mValueError\u001b[0m                                Traceback (most recent call last)",
      "Cell \u001b[1;32mIn[42], line 1\u001b[0m\n\u001b[1;32m----> 1\u001b[0m \u001b[43mnp\u001b[49m\u001b[38;5;241;43m.\u001b[39;49m\u001b[43mhstack\u001b[49m\u001b[43m(\u001b[49m\u001b[43m(\u001b[49m\u001b[43mn34\u001b[49m\u001b[43m,\u001b[49m\u001b[43mn64\u001b[49m\u001b[43m)\u001b[49m\u001b[43m)\u001b[49m\n",
      "File \u001b[1;32m<__array_function__ internals>:180\u001b[0m, in \u001b[0;36mhstack\u001b[1;34m(*args, **kwargs)\u001b[0m\n",
      "File \u001b[1;32mC:\\ProgramData\\anaconda3\\lib\\site-packages\\numpy\\core\\shape_base.py:345\u001b[0m, in \u001b[0;36mhstack\u001b[1;34m(tup)\u001b[0m\n\u001b[0;32m    343\u001b[0m     \u001b[38;5;28;01mreturn\u001b[39;00m _nx\u001b[38;5;241m.\u001b[39mconcatenate(arrs, \u001b[38;5;241m0\u001b[39m)\n\u001b[0;32m    344\u001b[0m \u001b[38;5;28;01melse\u001b[39;00m:\n\u001b[1;32m--> 345\u001b[0m     \u001b[38;5;28;01mreturn\u001b[39;00m \u001b[43m_nx\u001b[49m\u001b[38;5;241;43m.\u001b[39;49m\u001b[43mconcatenate\u001b[49m\u001b[43m(\u001b[49m\u001b[43marrs\u001b[49m\u001b[43m,\u001b[49m\u001b[43m \u001b[49m\u001b[38;5;241;43m1\u001b[39;49m\u001b[43m)\u001b[49m\n",
      "File \u001b[1;32m<__array_function__ internals>:180\u001b[0m, in \u001b[0;36mconcatenate\u001b[1;34m(*args, **kwargs)\u001b[0m\n",
      "\u001b[1;31mValueError\u001b[0m: all the input array dimensions for the concatenation axis must match exactly, but along dimension 0, the array at index 0 has size 3 and the array at index 1 has size 6"
     ]
    }
   ],
   "source": [
    "np.hstack((n34,n64))"
   ]
  },
  {
   "cell_type": "code",
   "execution_count": 157,
   "id": "a727f2de",
   "metadata": {},
   "outputs": [
    {
     "data": {
      "text/plain": [
       "array([[  0,   1,   2,   3, 200, 201, 202, 203, 204, 205],\n",
       "       [  4,   5,   6,   7, 206, 207, 208, 209, 210, 211],\n",
       "       [  8,   9,  10,  11, 212, 213, 214, 215, 216, 217]])"
      ]
     },
     "execution_count": 157,
     "metadata": {},
     "output_type": "execute_result"
    }
   ],
   "source": [
    "np.hstack(tup=(n34,n36))"
   ]
  },
  {
   "cell_type": "code",
   "execution_count": null,
   "id": "7a46c1ef",
   "metadata": {},
   "outputs": [],
   "source": [
    "#DIY: dstack"
   ]
  },
  {
   "cell_type": "markdown",
   "id": "f2604240",
   "metadata": {},
   "source": [
    "3d matrix"
   ]
  },
  {
   "cell_type": "code",
   "execution_count": 159,
   "id": "c16062ca",
   "metadata": {},
   "outputs": [],
   "source": [
    "ulist = [10,20,30]\n",
    "ulist1 = [\n",
    "    10,\n",
    "    20,30\n",
    "]"
   ]
  },
  {
   "cell_type": "code",
   "execution_count": 74,
   "id": "862c6f01",
   "metadata": {},
   "outputs": [],
   "source": [
    "mylist432 = [\n",
    "    [ \n",
    "        [111,121], \n",
    "        [141,151], \n",
    "        [171,181] \n",
    "    ],\n",
    "    [ [211,221], [241,251], [271,281] ],    [ [311,321], [341,351], [371,381] ],    [ [411,421], [441,451], [471,481] ],\n",
    "]"
   ]
  },
  {
   "cell_type": "code",
   "execution_count": 75,
   "id": "d6d7fc51",
   "metadata": {},
   "outputs": [
    {
     "data": {
      "text/plain": [
       "(4, 3, 2)"
      ]
     },
     "execution_count": 75,
     "metadata": {},
     "output_type": "execute_result"
    }
   ],
   "source": [
    "n432 = np.array(mylist432)\n",
    "n432.shape"
   ]
  },
  {
   "cell_type": "code",
   "execution_count": 76,
   "id": "7e37a900",
   "metadata": {},
   "outputs": [
    {
     "data": {
      "text/plain": [
       "array([[[111, 121],\n",
       "        [141, 151],\n",
       "        [171, 181]],\n",
       "\n",
       "       [[211, 221],\n",
       "        [241, 251],\n",
       "        [271, 281]],\n",
       "\n",
       "       [[311, 321],\n",
       "        [341, 351],\n",
       "        [371, 381]],\n",
       "\n",
       "       [[411, 421],\n",
       "        [441, 451],\n",
       "        [471, 481]]])"
      ]
     },
     "execution_count": 76,
     "metadata": {},
     "output_type": "execute_result"
    }
   ],
   "source": [
    "n432"
   ]
  },
  {
   "cell_type": "code",
   "execution_count": 84,
   "id": "35e8d2b7",
   "metadata": {},
   "outputs": [
    {
     "name": "stdout",
     "output_type": "stream",
     "text": [
      "211\n"
     ]
    },
    {
     "data": {
      "text/plain": [
       "471"
      ]
     },
     "execution_count": 84,
     "metadata": {},
     "output_type": "execute_result"
    }
   ],
   "source": [
    "print(n432[1,0,0])#second page, second row, first item\n",
    "n432[-1,-1,0]#last page, last row , first element"
   ]
  },
  {
   "cell_type": "code",
   "execution_count": 47,
   "id": "9977254f",
   "metadata": {},
   "outputs": [
    {
     "data": {
      "text/plain": [
       "341"
      ]
     },
     "execution_count": 47,
     "metadata": {},
     "output_type": "execute_result"
    }
   ],
   "source": [
    "n432[2,1,0]"
   ]
  },
  {
   "cell_type": "code",
   "execution_count": 48,
   "id": "5d647f66",
   "metadata": {},
   "outputs": [
    {
     "data": {
      "text/plain": [
       "array([[251, 281],\n",
       "       [351, 381]])"
      ]
     },
     "execution_count": 48,
     "metadata": {},
     "output_type": "execute_result"
    }
   ],
   "source": [
    "n432[1:3, 1:, 1]"
   ]
  },
  {
   "cell_type": "markdown",
   "id": "1a8cf30a",
   "metadata": {},
   "source": [
    "# Looping"
   ]
  },
  {
   "cell_type": "code",
   "execution_count": 54,
   "id": "def7b898",
   "metadata": {},
   "outputs": [
    {
     "data": {
      "text/plain": [
       "array([[100, 101, 102, 103],\n",
       "       [104, 105, 106, 107],\n",
       "       [108, 109, 110, 111]])"
      ]
     },
     "execution_count": 54,
     "metadata": {},
     "output_type": "execute_result"
    }
   ],
   "source": [
    "n34 = np.arange(100,112).reshape(3,4)\n",
    "n34"
   ]
  },
  {
   "cell_type": "code",
   "execution_count": 55,
   "id": "d07dd0ec",
   "metadata": {},
   "outputs": [
    {
     "name": "stdout",
     "output_type": "stream",
     "text": [
      "[100 101 102 103]\n",
      "\n",
      "[104 105 106 107]\n",
      "\n",
      "[108 109 110 111]\n",
      "\n"
     ]
    }
   ],
   "source": [
    "for row in n34:\n",
    "    print(row)\n",
    "    print()"
   ]
  },
  {
   "cell_type": "code",
   "execution_count": 58,
   "id": "7e8f2c37",
   "metadata": {},
   "outputs": [
    {
     "name": "stdout",
     "output_type": "stream",
     "text": [
      "[[100 101 102 103]\n",
      " [104 105 106 107]\n",
      " [108 109 110 111]]\n",
      "100\n",
      "101\n",
      "102\n",
      "103\n",
      "104\n",
      "105\n",
      "106\n",
      "107\n",
      "108\n",
      "109\n",
      "110\n",
      "111\n"
     ]
    }
   ],
   "source": [
    "print(n34)\n",
    "for i in n34:\n",
    "    for j in i :\n",
    "        print(j)"
   ]
  },
  {
   "cell_type": "code",
   "execution_count": 89,
   "id": "747c0916",
   "metadata": {
    "collapsed": true,
    "jupyter": {
     "outputs_hidden": true
    }
   },
   "outputs": [
    {
     "name": "stdout",
     "output_type": "stream",
     "text": [
      "[[ 0  1  2  3]\n",
      " [ 4  5  6  7]\n",
      " [ 8  9 10 11]]\n",
      "0\n",
      "\n",
      "1\n",
      "\n",
      "2\n",
      "\n",
      "3\n",
      "\n",
      "4\n",
      "\n",
      "5\n",
      "\n",
      "6\n",
      "\n",
      "7\n",
      "\n",
      "8\n",
      "\n",
      "9\n",
      "\n",
      "10\n",
      "\n",
      "11\n",
      "\n"
     ]
    }
   ],
   "source": [
    "print(n34)\n",
    "for item in np.nditer(n34, order='C'):#column wise\n",
    "    print(item)\n",
    "    print()"
   ]
  },
  {
   "cell_type": "code",
   "execution_count": 64,
   "id": "de5863f1",
   "metadata": {
    "scrolled": true
   },
   "outputs": [
    {
     "name": "stdout",
     "output_type": "stream",
     "text": [
      "[[100 101 102 103]\n",
      " [104 105 106 107]\n",
      " [108 109 110 111]]\n",
      "100\n",
      "\n",
      "104\n",
      "\n",
      "108\n",
      "\n",
      "101\n",
      "\n",
      "105\n",
      "\n",
      "109\n",
      "\n",
      "102\n",
      "\n",
      "106\n",
      "\n",
      "110\n",
      "\n",
      "103\n",
      "\n",
      "107\n",
      "\n",
      "111\n",
      "\n"
     ]
    }
   ],
   "source": [
    "print(n34)\n",
    "for item in np.nditer(n34, order='F'):\n",
    "    print(item)\n",
    "    print()"
   ]
  },
  {
   "cell_type": "code",
   "execution_count": 171,
   "id": "46d1e51c",
   "metadata": {},
   "outputs": [
    {
     "name": "stdout",
     "output_type": "stream",
     "text": [
      "[[100 101 102 103]\n",
      " [104 105 106 107]\n",
      " [108 109 110 111]]\n",
      "((0, 0), 100)\n",
      "((0, 1), 101)\n",
      "((0, 2), 102)\n",
      "((0, 3), 103)\n",
      "((1, 0), 104)\n",
      "((1, 1), 105)\n",
      "((1, 2), 106)\n",
      "((1, 3), 107)\n",
      "((2, 0), 108)\n",
      "((2, 1), 109)\n",
      "((2, 2), 110)\n",
      "((2, 3), 111)\n"
     ]
    }
   ],
   "source": [
    "print(n34)\n",
    "\n",
    "for item in np.ndenumerate(n34):\n",
    "    print(item)"
   ]
  },
  {
   "cell_type": "code",
   "execution_count": 172,
   "id": "6aa39b4d",
   "metadata": {},
   "outputs": [
    {
     "name": "stdout",
     "output_type": "stream",
     "text": [
      "[[100 101 102 103]\n",
      " [104 105 106 107]\n",
      " [108 109 110 111]]\n",
      "(0, 0) 100\n",
      "(0, 1) 101\n",
      "(0, 2) 102\n",
      "(0, 3) 103\n",
      "(1, 0) 104\n",
      "(1, 1) 105\n",
      "(1, 2) 106\n",
      "(1, 3) 107\n",
      "(2, 0) 108\n",
      "(2, 1) 109\n",
      "(2, 2) 110\n",
      "(2, 3) 111\n"
     ]
    }
   ],
   "source": [
    "print(n34)\n",
    "\n",
    "for index, value in np.ndenumerate(n34):\n",
    "    print(index, value)"
   ]
  },
  {
   "cell_type": "markdown",
   "id": "13eceb67",
   "metadata": {},
   "source": [
    "# Operations on Arrays"
   ]
  },
  {
   "cell_type": "code",
   "execution_count": 92,
   "id": "2b967eaf",
   "metadata": {},
   "outputs": [
    {
     "name": "stdout",
     "output_type": "stream",
     "text": [
      "[[1 0]\n",
      " [0 4]]\n"
     ]
    }
   ],
   "source": [
    "a= np.array([[1,0],\n",
    "    [0,1]])\n",
    "b = np.array([[1,2],\n",
    "     [3,4]])\n",
    "print(a*b)"
   ]
  },
  {
   "cell_type": "code",
   "execution_count": null,
   "id": "09ad515e",
   "metadata": {},
   "outputs": [],
   "source": [
    "# +, *, @ , transpose, "
   ]
  },
  {
   "cell_type": "code",
   "execution_count": 180,
   "id": "7bd52877",
   "metadata": {},
   "outputs": [
    {
     "name": "stdout",
     "output_type": "stream",
     "text": [
      "[48 14 42 60 95 37 43 44 10 21]\n",
      "[72 98 64 99 88 51 80 95 15 17]\n",
      "[-24 -84 -22 -39   7 -14 -37 -51  -5   4]\n"
     ]
    }
   ],
   "source": [
    "highprice = np.random.randint(low=10, high=100, size=10)\n",
    "lowprice = np.random.randint(low=10, high=100, size=10)\n",
    "print(highprice)\n",
    "print(lowprice)\n",
    "\n",
    "volatility = highprice - lowprice\n",
    "print(volatility)"
   ]
  },
  {
   "cell_type": "code",
   "execution_count": 181,
   "id": "e55aa746",
   "metadata": {},
   "outputs": [
    {
     "name": "stdout",
     "output_type": "stream",
     "text": [
      "[[14 26 19 66]\n",
      " [58 53 72 80]\n",
      " [41 12 10 25]]\n",
      "[[42 58 25 71]\n",
      " [12 44 32 52]\n",
      " [76 99 11 88]]\n",
      "[[ 56  84  44 137]\n",
      " [ 70  97 104 132]\n",
      " [117 111  21 113]]\n"
     ]
    }
   ],
   "source": [
    "n34a = np.random.randint(low=10, high=100, size=(3,4))\n",
    "n34b = np.random.randint(low=10, high=100, size=(3,4))\n",
    "print(n34a)\n",
    "print(n34b)\n",
    "\n",
    "n34c = n34a + n34b\n",
    "print(n34c)"
   ]
  },
  {
   "cell_type": "code",
   "execution_count": 182,
   "id": "972f3d53",
   "metadata": {},
   "outputs": [
    {
     "data": {
      "text/plain": [
       "array([[  784,  2184,   836,  9042],\n",
       "       [ 4060,  5141,  7488, 10560],\n",
       "       [ 4797,  1332,   210,  2825]])"
      ]
     },
     "execution_count": 182,
     "metadata": {},
     "output_type": "execute_result"
    }
   ],
   "source": [
    "n34a * n34c"
   ]
  },
  {
   "cell_type": "markdown",
   "id": "d3eecc2c",
   "metadata": {},
   "source": [
    "# Matrix Calculations in Array"
   ]
  },
  {
   "cell_type": "code",
   "execution_count": null,
   "id": "977869a3",
   "metadata": {},
   "outputs": [],
   "source": [
    "##  MxN  @ NxK  -->  MxK   sum of products"
   ]
  },
  {
   "cell_type": "code",
   "execution_count": 95,
   "id": "77879d60",
   "metadata": {},
   "outputs": [],
   "source": [
    "a = np.array([[2,3],\n",
    "              [1,5]])\n",
    "b = np.array([[5,3],\n",
    "              [6,2]])"
   ]
  },
  {
   "cell_type": "code",
   "execution_count": 96,
   "id": "56374ac5",
   "metadata": {},
   "outputs": [
    {
     "data": {
      "text/plain": [
       "array([[28, 12],\n",
       "       [35, 13]])"
      ]
     },
     "execution_count": 96,
     "metadata": {},
     "output_type": "execute_result"
    }
   ],
   "source": [
    "a@b  ##  error"
   ]
  },
  {
   "cell_type": "code",
   "execution_count": 187,
   "id": "f0e4fc53",
   "metadata": {},
   "outputs": [
    {
     "data": {
      "text/plain": [
       "array([[42, 58, 25, 71],\n",
       "       [12, 44, 32, 52],\n",
       "       [76, 99, 11, 88]])"
      ]
     },
     "execution_count": 187,
     "metadata": {},
     "output_type": "execute_result"
    }
   ],
   "source": [
    "n34b"
   ]
  },
  {
   "cell_type": "code",
   "execution_count": 184,
   "id": "567ba373",
   "metadata": {},
   "outputs": [
    {
     "data": {
      "text/plain": [
       "array([[42, 12, 76],\n",
       "       [58, 44, 99],\n",
       "       [25, 32, 11],\n",
       "       [71, 52, 88]])"
      ]
     },
     "execution_count": 184,
     "metadata": {},
     "output_type": "execute_result"
    }
   ],
   "source": [
    "n43 = n34b.T  ##  transpose\n",
    "n43"
   ]
  },
  {
   "cell_type": "code",
   "execution_count": 188,
   "id": "4118e058",
   "metadata": {
    "scrolled": true
   },
   "outputs": [
    {
     "data": {
      "text/plain": [
       "array([[ 7257,  5352,  9655],\n",
       "       [12990,  9492, 17487],\n",
       "       [ 4443,  2640,  6614]])"
      ]
     },
     "execution_count": 188,
     "metadata": {},
     "output_type": "execute_result"
    }
   ],
   "source": [
    "n34a@n43  ##  matmul"
   ]
  },
  {
   "cell_type": "markdown",
   "id": "1de0e8cc",
   "metadata": {},
   "source": [
    "# Other Utility Functions"
   ]
  },
  {
   "cell_type": "code",
   "execution_count": null,
   "id": "0027361e",
   "metadata": {},
   "outputs": [],
   "source": [
    "#identity, ones, zeros, full"
   ]
  },
  {
   "cell_type": "code",
   "execution_count": 189,
   "id": "4c9f60f2",
   "metadata": {},
   "outputs": [
    {
     "data": {
      "text/plain": [
       "array([[0., 0., 0., 0.],\n",
       "       [0., 0., 0., 0.],\n",
       "       [0., 0., 0., 0.]])"
      ]
     },
     "execution_count": 189,
     "metadata": {},
     "output_type": "execute_result"
    }
   ],
   "source": [
    "np.zeros(shape=(3,4))"
   ]
  },
  {
   "cell_type": "code",
   "execution_count": 99,
   "id": "3dc6a714",
   "metadata": {},
   "outputs": [
    {
     "data": {
      "text/plain": [
       "array([[0, 0, 0, 0],\n",
       "       [0, 0, 0, 0],\n",
       "       [0, 0, 0, 0]], dtype=int64)"
      ]
     },
     "execution_count": 99,
     "metadata": {},
     "output_type": "execute_result"
    }
   ],
   "source": [
    "np.zeros(shape=(3,4), dtype=np.int64)"
   ]
  },
  {
   "cell_type": "code",
   "execution_count": 191,
   "id": "05181bfe",
   "metadata": {},
   "outputs": [
    {
     "data": {
      "text/plain": [
       "array([[1., 1., 1., 1.],\n",
       "       [1., 1., 1., 1.],\n",
       "       [1., 1., 1., 1.]])"
      ]
     },
     "execution_count": 191,
     "metadata": {},
     "output_type": "execute_result"
    }
   ],
   "source": [
    "np.ones(shape=(3,4))"
   ]
  },
  {
   "cell_type": "code",
   "execution_count": 194,
   "id": "6240d47f",
   "metadata": {},
   "outputs": [
    {
     "data": {
      "text/plain": [
       "array([[55, 55, 55, 55],\n",
       "       [55, 55, 55, 55],\n",
       "       [55, 55, 55, 55]])"
      ]
     },
     "execution_count": 194,
     "metadata": {},
     "output_type": "execute_result"
    }
   ],
   "source": [
    "np.full(shape=(3,4), fill_value=55)"
   ]
  },
  {
   "cell_type": "code",
   "execution_count": 195,
   "id": "52f73d09",
   "metadata": {},
   "outputs": [
    {
     "data": {
      "text/plain": [
       "array([[1., 0., 0.],\n",
       "       [0., 1., 0.],\n",
       "       [0., 0., 1.]])"
      ]
     },
     "execution_count": 195,
     "metadata": {},
     "output_type": "execute_result"
    }
   ],
   "source": [
    "np.identity(3)"
   ]
  },
  {
   "cell_type": "code",
   "execution_count": 196,
   "id": "dc15b1ee",
   "metadata": {},
   "outputs": [],
   "source": [
    "# sum, min, max,mean"
   ]
  },
  {
   "cell_type": "code",
   "execution_count": 103,
   "id": "6ecf3d34",
   "metadata": {},
   "outputs": [
    {
     "data": {
      "text/plain": [
       "array([[4, 7, 1, 2],\n",
       "       [7, 1, 8, 6],\n",
       "       [5, 4, 8, 3]])"
      ]
     },
     "execution_count": 103,
     "metadata": {},
     "output_type": "execute_result"
    }
   ],
   "source": [
    "np.random.seed(23)\n",
    "n34 = np.random.randint(low=1, high=9, size=(3,4))\n",
    "n34"
   ]
  },
  {
   "cell_type": "code",
   "execution_count": 104,
   "id": "5ffa20d5",
   "metadata": {},
   "outputs": [
    {
     "name": "stdout",
     "output_type": "stream",
     "text": [
      "[[4 7 1 2]\n",
      " [7 1 8 6]\n",
      " [5 4 8 3]]\n",
      "56\n",
      "[16 12 17 11]\n",
      "[14 22 20]\n"
     ]
    }
   ],
   "source": [
    "print(n34)\n",
    "print(np.sum(n34, axis=None))\n",
    "print(np.sum(n34, axis=0))\n",
    "print(np.sum(n34, axis=1))"
   ]
  },
  {
   "cell_type": "code",
   "execution_count": 105,
   "id": "cbe4e6fa",
   "metadata": {},
   "outputs": [
    {
     "name": "stdout",
     "output_type": "stream",
     "text": [
      "[[4 7 1 2]\n",
      " [7 1 8 6]\n",
      " [5 4 8 3]]\n",
      "1\n",
      "[4 1 1 2]\n",
      "[1 1 3]\n"
     ]
    }
   ],
   "source": [
    "print(n34)\n",
    "print(np.min(n34, axis=None))\n",
    "print(np.min(n34, axis=0))\n",
    "print(np.min(n34, axis=1))"
   ]
  },
  {
   "cell_type": "code",
   "execution_count": 106,
   "id": "38c823d0",
   "metadata": {},
   "outputs": [
    {
     "name": "stdout",
     "output_type": "stream",
     "text": [
      "[[4 7 1 2]\n",
      " [7 1 8 6]\n",
      " [5 4 8 3]]\n",
      "8\n",
      "[7 7 8 6]\n",
      "[7 8 8]\n"
     ]
    }
   ],
   "source": [
    "print(n34)\n",
    "print(np.max(n34, axis=None))\n",
    "print(np.max(n34, axis=0))\n",
    "print(np.max(n34, axis=1))"
   ]
  },
  {
   "cell_type": "code",
   "execution_count": 201,
   "id": "4b5e6fbf",
   "metadata": {},
   "outputs": [
    {
     "name": "stdout",
     "output_type": "stream",
     "text": [
      "[[4 7 1 2]\n",
      " [7 1 8 6]\n",
      " [5 4 8 3]]\n",
      "4.666666666666667\n",
      "[5.33333333 4.         5.66666667 3.66666667]\n",
      "[3.5 5.5 5. ]\n"
     ]
    }
   ],
   "source": [
    "print(n34)\n",
    "print(np.mean(n34, axis=None))\n",
    "print(np.mean(n34, axis=0))\n",
    "print(np.mean(n34, axis=1))"
   ]
  },
  {
   "cell_type": "code",
   "execution_count": 202,
   "id": "c9c2aeba",
   "metadata": {},
   "outputs": [],
   "source": [
    "# power, remainder"
   ]
  },
  {
   "cell_type": "code",
   "execution_count": 203,
   "id": "8e16f4c9",
   "metadata": {},
   "outputs": [
    {
     "name": "stdout",
     "output_type": "stream",
     "text": [
      "[[4 7 1 2]\n",
      " [7 1 8 6]\n",
      " [5 4 8 3]]\n"
     ]
    },
    {
     "data": {
      "text/plain": [
       "array([[ 64, 343,   1,   8],\n",
       "       [343,   1, 512, 216],\n",
       "       [125,  64, 512,  27]], dtype=int32)"
      ]
     },
     "execution_count": 203,
     "metadata": {},
     "output_type": "execute_result"
    }
   ],
   "source": [
    "print(n34)\n",
    "np.power(n34,3)"
   ]
  },
  {
   "cell_type": "code",
   "execution_count": 204,
   "id": "332c5bda",
   "metadata": {},
   "outputs": [
    {
     "name": "stdout",
     "output_type": "stream",
     "text": [
      "[[4 7 1 2]\n",
      " [7 1 8 6]\n",
      " [5 4 8 3]]\n"
     ]
    },
    {
     "data": {
      "text/plain": [
       "array([[     256,   823543,        1,        4],\n",
       "       [  823543,        1, 16777216,    46656],\n",
       "       [    3125,      256, 16777216,       27]])"
      ]
     },
     "execution_count": 204,
     "metadata": {},
     "output_type": "execute_result"
    }
   ],
   "source": [
    "print(n34)\n",
    "np.power(n34,n34)"
   ]
  },
  {
   "cell_type": "code",
   "execution_count": 205,
   "id": "f11551ec",
   "metadata": {},
   "outputs": [
    {
     "name": "stdout",
     "output_type": "stream",
     "text": [
      "[[4 7 1 2]\n",
      " [7 1 8 6]\n",
      " [5 4 8 3]]\n"
     ]
    },
    {
     "data": {
      "text/plain": [
       "array([[0, 1, 1, 0],\n",
       "       [1, 1, 0, 0],\n",
       "       [1, 0, 0, 1]], dtype=int32)"
      ]
     },
     "execution_count": 205,
     "metadata": {},
     "output_type": "execute_result"
    }
   ],
   "source": [
    "print(n34)\n",
    "np.remainder(n34,2)"
   ]
  },
  {
   "cell_type": "code",
   "execution_count": null,
   "id": "2a21a326",
   "metadata": {},
   "outputs": [],
   "source": [
    "#linspace"
   ]
  },
  {
   "cell_type": "code",
   "execution_count": 112,
   "id": "27c52ee9",
   "metadata": {},
   "outputs": [
    {
     "data": {
      "text/plain": [
       "(array([0, 1, 2, 3, 4, 5, 6, 7, 8, 9], dtype=int64), 1.0)"
      ]
     },
     "execution_count": 112,
     "metadata": {},
     "output_type": "execute_result"
    }
   ],
   "source": [
    "import numpy as np\n",
    "np.linspace(start=0, stop=9,num=10,retstep=True,dtype = np.int64)"
   ]
  },
  {
   "cell_type": "code",
   "execution_count": 222,
   "id": "d6f9294f",
   "metadata": {},
   "outputs": [
    {
     "data": {
      "text/plain": [
       "(array([-1. , -0.5,  0. ,  0.5,  1. ]), 0.5)"
      ]
     },
     "execution_count": 222,
     "metadata": {},
     "output_type": "execute_result"
    }
   ],
   "source": [
    "np.linspace(start=-1, stop=1,num=5, retstep=True)"
   ]
  },
  {
   "cell_type": "code",
   "execution_count": 113,
   "id": "5950337a",
   "metadata": {},
   "outputs": [
    {
     "data": {
      "text/plain": [
       "(array([3.  , 3.25, 3.5 , 3.75, 4.  , 4.25, 4.5 , 4.75, 5.  ]), 0.25)"
      ]
     },
     "execution_count": 113,
     "metadata": {},
     "output_type": "execute_result"
    }
   ],
   "source": [
    "np.linspace(start=3, stop=5, num=9, retstep=True)"
   ]
  },
  {
   "cell_type": "code",
   "execution_count": 224,
   "id": "632ff8f8",
   "metadata": {},
   "outputs": [],
   "source": [
    "# rand and randn"
   ]
  },
  {
   "cell_type": "code",
   "execution_count": 114,
   "id": "edf8a969",
   "metadata": {},
   "outputs": [],
   "source": [
    "import matplotlib.pyplot as plt"
   ]
  },
  {
   "cell_type": "code",
   "execution_count": 117,
   "id": "92194027",
   "metadata": {},
   "outputs": [
    {
     "data": {
      "text/plain": [
       "array([[-0.89803585,  1.40252333, -0.73162477,  0.08156384,  2.51945603],\n",
       "       [-0.01694647, -0.49864232, -0.32867666,  0.05117995, -0.47030719],\n",
       "       [-1.11362164, -0.38611418,  0.83259311,  0.21406646,  0.33245235],\n",
       "       [ 1.87779216, -0.78754809,  0.69414472,  0.99575411,  0.25661637],\n",
       "       [-0.17314059,  0.86831237,  1.09685436, -0.85624549,  1.91869504]])"
      ]
     },
     "execution_count": 117,
     "metadata": {},
     "output_type": "execute_result"
    }
   ],
   "source": [
    "np.random.randn(5,5)"
   ]
  },
  {
   "cell_type": "code",
   "execution_count": 121,
   "id": "fe121c2c",
   "metadata": {},
   "outputs": [
    {
     "name": "stdout",
     "output_type": "stream",
     "text": [
      "(40, 40)\n",
      "0.00012437652008934208\n",
      "0.998272062285131\n",
      "0.5015679714203888\n"
     ]
    },
    {
     "data": {
      "image/png": "[encoded data removed]",
      "text/plain": [
       "<Figure size 640x480 with 1 Axes>"
      ]
     },
     "metadata": {},
     "output_type": "display_data"
    }
   ],
   "source": [
    "n1 = np.random.rand(40,40) ## generates values within uniform dist framework\n",
    "print(n1.shape)\n",
    "print(n1.min())\n",
    "print(n1.max())\n",
    "print(n1.mean())\n",
    "plt.scatter(n1,n1.T)\n",
    "plt.show()"
   ]
  },
  {
   "cell_type": "code",
   "execution_count": 230,
   "id": "043d06bd",
   "metadata": {},
   "outputs": [
    {
     "name": "stdout",
     "output_type": "stream",
     "text": [
      "(40, 40)\n",
      "-3.3901092492138356\n",
      "3.7982775643813405\n",
      "0.029768451268790654\n"
     ]
    },
    {
     "data": {
      "image/png": "[encoded data removed]",
      "text/plain": [
       "<Figure size 640x480 with 1 Axes>"
      ]
     },
     "metadata": {},
     "output_type": "display_data"
    }
   ],
   "source": [
    "n1 = np.random.randn(40,40) ## generates values within normal dist framework\n",
    "print(n1.shape)\n",
    "print(n1.min())\n",
    "print(n1.max())\n",
    "print(n1.mean())\n",
    "plt.hist(n1)\n",
    "plt.show()"
   ]
  },
  {
   "cell_type": "code",
   "execution_count": 122,
   "id": "7fbf145b",
   "metadata": {},
   "outputs": [],
   "source": [
    "import seaborn as sns"
   ]
  },
  {
   "cell_type": "code",
   "execution_count": 123,
   "id": "ac75ad22",
   "metadata": {},
   "outputs": [
    {
     "name": "stderr",
     "output_type": "stream",
     "text": [
      "C:\\Users\\pre 5510\\AppData\\Local\\Temp\\ipykernel_9960\\1151423530.py:1: UserWarning: \n",
      "\n",
      "`distplot` is a deprecated function and will be removed in seaborn v0.14.0.\n",
      "\n",
      "Please adapt your code to use either `displot` (a figure-level function with\n",
      "similar flexibility) or `histplot` (an axes-level function for histograms).\n",
      "\n",
      "For a guide to updating your code to use the new functions, please see\n",
      "https://gist.github.com/mwaskom/de44147ed2974457ad6372750bbe5751\n",
      "\n",
      "  sns.distplot(n1)\n"
     ]
    },
    {
     "data": {
      "text/plain": [
       "<Axes: ylabel='Density'>"
      ]
     },
     "execution_count": 123,
     "metadata": {},
     "output_type": "execute_result"
    },
    {
     "data": {
      "image/png": "[encoded data removed]",
      "text/plain": [
       "<Figure size 640x480 with 1 Axes>"
      ]
     },
     "metadata": {},
     "output_type": "display_data"
    }
   ],
   "source": [
    "sns.distplot(n1)"
   ]
  },
  {
   "cell_type": "markdown",
   "id": "1fd04a04",
   "metadata": {},
   "source": [
    "# Intersect"
   ]
  },
  {
   "cell_type": "code",
   "execution_count": 124,
   "id": "b2af78c9",
   "metadata": {},
   "outputs": [
    {
     "name": "stdout",
     "output_type": "stream",
     "text": [
      "[17 22 23 19 13 23 23 14 19 15 18 23 15 18 12 15 16 22 23 20]\n",
      "[22 18 19 16 13 23 16 10 15 19 19 23 11 19 24 22 22 20 12 19]\n"
     ]
    }
   ],
   "source": [
    "n1 = np.random.randint(low=10,high=25, size=20)\n",
    "n2 = np.random.randint(low=10,high=25, size=20)\n",
    "print(n1)\n",
    "print(n2)"
   ]
  },
  {
   "cell_type": "code",
   "execution_count": 125,
   "id": "eeb9029d",
   "metadata": {},
   "outputs": [
    {
     "data": {
      "text/plain": [
       "array([12, 13, 15, 16, 18, 19, 20, 22, 23])"
      ]
     },
     "execution_count": 125,
     "metadata": {},
     "output_type": "execute_result"
    }
   ],
   "source": [
    "np.intersect1d(n1,n2)"
   ]
  },
  {
   "cell_type": "code",
   "execution_count": 126,
   "id": "d765e816",
   "metadata": {},
   "outputs": [
    {
     "data": {
      "text/plain": [
       "array([10, 11, 12, 13, 14, 15, 16, 17, 18, 19, 20, 22, 23, 24])"
      ]
     },
     "execution_count": 126,
     "metadata": {},
     "output_type": "execute_result"
    }
   ],
   "source": [
    "np.union1d(n1,n2)"
   ]
  },
  {
   "cell_type": "code",
   "execution_count": 127,
   "id": "9ace473d",
   "metadata": {},
   "outputs": [
    {
     "data": {
      "text/plain": [
       "array([[4, 7, 1, 2],\n",
       "       [7, 1, 8, 6],\n",
       "       [5, 4, 8, 3]])"
      ]
     },
     "execution_count": 127,
     "metadata": {},
     "output_type": "execute_result"
    }
   ],
   "source": [
    "n34"
   ]
  },
  {
   "cell_type": "code",
   "execution_count": 128,
   "id": "db1a74bf",
   "metadata": {},
   "outputs": [
    {
     "data": {
      "text/plain": [
       "array([[ 256, 2401,    1,   16],\n",
       "       [2401,    1, 4096, 1296],\n",
       "       [ 625,  256, 4096,   81]], dtype=int32)"
      ]
     },
     "execution_count": 128,
     "metadata": {},
     "output_type": "execute_result"
    }
   ],
   "source": [
    "n34**4"
   ]
  },
  {
   "cell_type": "markdown",
   "id": "c76079ee",
   "metadata": {},
   "source": [
    "# Array Sort"
   ]
  },
  {
   "cell_type": "code",
   "execution_count": 1,
   "id": "314c688c",
   "metadata": {},
   "outputs": [],
   "source": [
    "import numpy as np"
   ]
  },
  {
   "cell_type": "code",
   "execution_count": 6,
   "id": "9069c0a7",
   "metadata": {},
   "outputs": [],
   "source": [
    "np.arange(1,11).sort()"
   ]
  },
  {
   "cell_type": "code",
   "execution_count": 7,
   "id": "cb52add6",
   "metadata": {},
   "outputs": [
    {
     "data": {
      "text/plain": [
       "[10, 9, 8, 7, 6, 5, 4, 3, 2, 1]"
      ]
     },
     "execution_count": 7,
     "metadata": {},
     "output_type": "execute_result"
    }
   ],
   "source": [
    "sorted(np.arange(1,11),reverse=True)"
   ]
  },
  {
   "cell_type": "code",
   "execution_count": 9,
   "id": "b98e00da",
   "metadata": {},
   "outputs": [
    {
     "data": {
      "text/plain": [
       "array([26, 16, 43, 96, 76, 89, 35, 98, 93, 31])"
      ]
     },
     "execution_count": 9,
     "metadata": {},
     "output_type": "execute_result"
    }
   ],
   "source": [
    "arr = np.random.randint(10,100,10)\n",
    "arr"
   ]
  },
  {
   "cell_type": "code",
   "execution_count": 10,
   "id": "982e325d",
   "metadata": {},
   "outputs": [
    {
     "data": {
      "text/plain": [
       "array([16, 26, 31, 35, 43, 76, 89, 93, 96, 98])"
      ]
     },
     "execution_count": 10,
     "metadata": {},
     "output_type": "execute_result"
    }
   ],
   "source": [
    "np.sort(arr)"
   ]
  },
  {
   "cell_type": "code",
   "execution_count": null,
   "id": "43cc4f4e",
   "metadata": {},
   "outputs": [],
   "source": []
  }
 ],
 "metadata": {
  "kernelspec": {
   "display_name": "Python 3 (ipykernel)",
   "language": "python",
   "name": "python3"
  },
  "language_info": {
   "codemirror_mode": {
    "name": "ipython",
    "version": 3
   },
   "file_extension": ".py",
   "mimetype": "text/x-python",
   "name": "python",
   "nbconvert_exporter": "python",
   "pygments_lexer": "ipython3",
   "version": "3.12.4"
  }
 },
 "nbformat": 4,
 "nbformat_minor": 5
}
