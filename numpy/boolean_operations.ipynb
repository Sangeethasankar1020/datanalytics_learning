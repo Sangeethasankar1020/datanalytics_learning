{
 "cells": [
  {
   "cell_type": "markdown",
   "id": "12e41c0d-22c7-483a-9c94-bad911578057",
   "metadata": {},
   "source": [
    "# Boolean Operations "
   ]
  },
  {
   "cell_type": "code",
   "execution_count": 23,
   "id": "3b85bcfd-a617-4e25-9604-83e32386a437",
   "metadata": {},
   "outputs": [],
   "source": [
    "import numpy as np"
   ]
  },
  {
   "cell_type": "code",
   "execution_count": 31,
   "id": "e729b2e8-c377-4920-a604-9fc7b15ba73d",
   "metadata": {},
   "outputs": [],
   "source": [
    "arr=np.array([10,20,30,40,50])"
   ]
  },
  {
   "cell_type": "code",
   "execution_count": 33,
   "id": "8d279456-ca97-43ef-af82-02ff75f173dd",
   "metadata": {},
   "outputs": [],
   "source": [
    "bool_arr=arr>25"
   ]
  },
  {
   "cell_type": "code",
   "execution_count": 35,
   "id": "fcb53cca-4a00-4f7c-a918-8ce0ecf353e0",
   "metadata": {},
   "outputs": [
    {
     "name": "stdout",
     "output_type": "stream",
     "text": [
      "[False False  True  True  True]\n"
     ]
    }
   ],
   "source": [
    "print(bool_arr)"
   ]
  },
  {
   "cell_type": "code",
   "execution_count": 37,
   "id": "bad589f3-0908-421e-83e1-9d6884349a6b",
   "metadata": {},
   "outputs": [],
   "source": [
    "# & and\n",
    "# | or\n",
    "# ~ not"
   ]
  },
  {
   "cell_type": "code",
   "execution_count": 39,
   "id": "507b3bfe-9cf1-4c71-b31b-b2784f776a07",
   "metadata": {},
   "outputs": [],
   "source": [
    "condition=(arr>20) & (arr<50)"
   ]
  },
  {
   "cell_type": "code",
   "execution_count": 41,
   "id": "2f33a12f-efdf-4629-a221-18d24480b316",
   "metadata": {},
   "outputs": [
    {
     "name": "stdout",
     "output_type": "stream",
     "text": [
      "[False False  True  True False]\n"
     ]
    }
   ],
   "source": [
    "print(condition)"
   ]
  },
  {
   "cell_type": "code",
   "execution_count": 43,
   "id": "520cdcbf-3f40-4a15-b767-185ceca60300",
   "metadata": {},
   "outputs": [],
   "source": [
    "#filtering arrays"
   ]
  },
  {
   "cell_type": "code",
   "execution_count": 45,
   "id": "a64910fe-fe3f-4011-9af2-2d22fa399c47",
   "metadata": {},
   "outputs": [],
   "source": [
    "filtered_arr=arr[bool_arr]"
   ]
  },
  {
   "cell_type": "code",
   "execution_count": 47,
   "id": "e91b8295-f95b-4671-a576-a44fd09a65f8",
   "metadata": {},
   "outputs": [
    {
     "name": "stdout",
     "output_type": "stream",
     "text": [
      "[30 40 50]\n"
     ]
    }
   ],
   "source": [
    "print(filtered_arr)"
   ]
  },
  {
   "cell_type": "markdown",
   "id": "99b127b3-9024-439a-b1f8-f769062d64af",
   "metadata": {},
   "source": [
    "### filtering with conditions"
   ]
  },
  {
   "cell_type": "code",
   "execution_count": 50,
   "id": "fa01abf0-4203-45a4-8709-c8d7ca0bd772",
   "metadata": {},
   "outputs": [],
   "source": [
    "data=np.array([1,2,3,4,5,6,7,8,9,10])"
   ]
  },
  {
   "cell_type": "code",
   "execution_count": 52,
   "id": "ededbeea-499f-4cfa-89d2-266afe85b4f2",
   "metadata": {},
   "outputs": [],
   "source": [
    "greator_than_five=data>5"
   ]
  },
  {
   "cell_type": "code",
   "execution_count": 56,
   "id": "7269c835-058d-41d8-b03c-b0abd71c9f13",
   "metadata": {},
   "outputs": [],
   "source": [
    "filterd_data=data[greator_than_five]"
   ]
  },
  {
   "cell_type": "code",
   "execution_count": 60,
   "id": "6d2d4a3f-3880-44fc-bc45-177064d8b9fb",
   "metadata": {},
   "outputs": [
    {
     "name": "stdout",
     "output_type": "stream",
     "text": [
      "[ 6  7  8  9 10]\n"
     ]
    }
   ],
   "source": [
    "print(filterd_data)"
   ]
  },
  {
   "cell_type": "code",
   "execution_count": null,
   "id": "13303397-6a47-4cc4-82ec-9ae0e231acc1",
   "metadata": {},
   "outputs": [],
   "source": []
  }
 ],
 "metadata": {
  "kernelspec": {
   "display_name": "Python 3 (ipykernel)",
   "language": "python",
   "name": "python3"
  },
  "language_info": {
   "codemirror_mode": {
    "name": "ipython",
    "version": 3
   },
   "file_extension": ".py",
   "mimetype": "text/x-python",
   "name": "python",
   "nbconvert_exporter": "python",
   "pygments_lexer": "ipython3",
   "version": "3.12.4"
  }
 },
 "nbformat": 4,
 "nbformat_minor": 5
}
