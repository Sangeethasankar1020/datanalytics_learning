{
 "cells": [
  {
   "cell_type": "code",
   "execution_count": 86,
   "id": "759e8eef-a1f7-47a8-a553-d7d0dd6eab10",
   "metadata": {},
   "outputs": [],
   "source": [
    "from numpy import random"
   ]
  },
  {
   "cell_type": "code",
   "execution_count": 3,
   "id": "c6427a7a-731e-4eec-9814-d89b2981c9ca",
   "metadata": {},
   "outputs": [],
   "source": [
    "#get random number from 0-5"
   ]
  },
  {
   "cell_type": "code",
   "execution_count": 27,
   "id": "707d626f-1bb0-4f81-b09b-a737e3bf65ee",
   "metadata": {},
   "outputs": [
    {
     "name": "stdout",
     "output_type": "stream",
     "text": [
      "Random Number: 4\n"
     ]
    }
   ],
   "source": [
    "n=random.randint(5)\n",
    "print(\"Random Number:\",n)"
   ]
  },
  {
   "cell_type": "code",
   "execution_count": 33,
   "id": "0c29d412-dec9-4cdd-be3e-81a712273efe",
   "metadata": {},
   "outputs": [],
   "source": [
    "# get  3 random numbers as array elements from 0 to 10"
   ]
  },
  {
   "cell_type": "code",
   "execution_count": 35,
   "id": "92b997ff-e1b5-46cf-bb93-29cb434ace9d",
   "metadata": {},
   "outputs": [
    {
     "name": "stdout",
     "output_type": "stream",
     "text": [
      "[0 3 1]\n"
     ]
    }
   ],
   "source": [
    "n=random.randint(10,size=(3))\n",
    "print(n)"
   ]
  },
  {
   "cell_type": "code",
   "execution_count": 83,
   "id": "38704737-232a-438c-9159-88034591e8b8",
   "metadata": {},
   "outputs": [],
   "source": [
    "# choice"
   ]
  },
  {
   "cell_type": "code",
   "execution_count": 79,
   "id": "e7aed790-f380-4075-886b-b0f807c5a697",
   "metadata": {},
   "outputs": [
    {
     "name": "stdout",
     "output_type": "stream",
     "text": [
      "Random Number: 70\n"
     ]
    }
   ],
   "source": [
    "n=random.choice([10,20,30,40,50,60,70,80,90,100])\n",
    "print(\"Random Number:\",n)"
   ]
  },
  {
   "cell_type": "markdown",
   "id": "dac0500a-b033-4def-aa53-2febb5016add",
   "metadata": {},
   "source": [
    "# Random Number Generation with Reshaping"
   ]
  },
  {
   "cell_type": "code",
   "execution_count": 108,
   "id": "29c21724-6116-4159-8d6f-bcc0de373fb5",
   "metadata": {},
   "outputs": [
    {
     "name": "stdout",
     "output_type": "stream",
     "text": [
      "[[45 43 11 57 32 83 94 28 68 90]\n",
      " [65 20 63 86 66 75 85 60 81 33]\n",
      " [73 29 42 27 13 90 64 77 10 95]\n",
      " [81 25 94 18 68 43 57 52 26 84]\n",
      " [20 64 42 81 17 80 13 64 27 50]\n",
      " [65 90 38 26 45 62 29 25 65 62]\n",
      " [56 30 45 44 51 17 15 82 87 62]\n",
      " [38 20 21 35 69 70 92 67 46 23]\n",
      " [41 47 48 29 82 79 51 39 37 37]\n",
      " [15 80 30 99 66 78 52 56 89 48]]\n"
     ]
    }
   ],
   "source": [
    "n=random.randint(low=10,high=100,size=100).reshape(10,10)\n",
    "print(n)"
   ]
  },
  {
   "cell_type": "markdown",
   "id": "62797491-f850-4beb-9ae1-eb59d24a609e",
   "metadata": {},
   "source": [
    "# using Random Seeds "
   ]
  },
  {
   "cell_type": "code",
   "execution_count": 129,
   "id": "2eeda81d-ec8e-4c83-9ba9-5e0b9daddb1d",
   "metadata": {},
   "outputs": [
    {
     "name": "stdout",
     "output_type": "stream",
     "text": [
      "None\n"
     ]
    }
   ],
   "source": [
    "n=random.seed(23)\n",
    "print(n)"
   ]
  },
  {
   "cell_type": "code",
   "execution_count": 131,
   "id": "8ec55172-e49c-460a-8ddc-7b80af4fe83e",
   "metadata": {},
   "outputs": [
    {
     "name": "stdout",
     "output_type": "stream",
     "text": [
      "83\n"
     ]
    }
   ],
   "source": [
    "n=random.randint(100)\n",
    "print(n)"
   ]
  },
  {
   "cell_type": "code",
   "execution_count": 134,
   "id": "56e1f8b2-6f98-4bf8-96d7-46e64922d991",
   "metadata": {},
   "outputs": [
    {
     "name": "stdout",
     "output_type": "stream",
     "text": [
      "[50 83 64 41 86]\n"
     ]
    }
   ],
   "source": [
    "n1=random.randint(low=10,high=100,size=5)\n",
    "print(n1)"
   ]
  },
  {
   "cell_type": "markdown",
   "id": "4d743771-cd9d-402d-bbe2-510368360f8e",
   "metadata": {},
   "source": [
    "# Reshaping Arrays "
   ]
  },
  {
   "cell_type": "code",
   "execution_count": 138,
   "id": "9a8f544a-ff40-4e39-a343-7e2ad77b6885",
   "metadata": {},
   "outputs": [
    {
     "name": "stdout",
     "output_type": "stream",
     "text": [
      "[[49 35 61 16 55]\n",
      " [22 59 76 85 95]\n",
      " [79 74 22 31 58]\n",
      " [51 89 72 67 29]]\n"
     ]
    }
   ],
   "source": [
    "n1=random.randint(10,100,20).reshape(4,5)\n",
    "print(n1)"
   ]
  },
  {
   "cell_type": "code",
   "execution_count": 145,
   "id": "349b7fb2-7b21-48db-88dc-dd5f006d6cc6",
   "metadata": {},
   "outputs": [
    {
     "name": "stdout",
     "output_type": "stream",
     "text": [
      "[[ 1  2  3  4  5]\n",
      " [ 6  7  8  9 10]]\n"
     ]
    }
   ],
   "source": [
    "import numpy as np\n",
    "n2=np.arange(1,11).reshape(2,5)\n",
    "print(n2)"
   ]
  },
  {
   "cell_type": "code",
   "execution_count": 147,
   "id": "d222f541-e763-47e6-941e-c541a2bb1a4c",
   "metadata": {},
   "outputs": [],
   "source": [
    "#automatic row creation using -1"
   ]
  },
  {
   "cell_type": "code",
   "execution_count": 149,
   "id": "61f99fe1-3c3e-4026-a022-ec07e76206d3",
   "metadata": {},
   "outputs": [
    {
     "name": "stdout",
     "output_type": "stream",
     "text": [
      "[[ 0  1  2  3]\n",
      " [ 4  5  6  7]\n",
      " [ 8  9 10 11]]\n"
     ]
    }
   ],
   "source": [
    "n3=np.arange(12).reshape(3,-1)\n",
    "print(n3)"
   ]
  },
  {
   "cell_type": "code",
   "execution_count": 151,
   "id": "25f79a9f-9fe1-44d8-baea-da8bab2b933f",
   "metadata": {},
   "outputs": [
    {
     "name": "stdout",
     "output_type": "stream",
     "text": [
      "[[ 0  1  2  3  4  5  6  7  8  9]\n",
      " [10 11 12 13 14 15 16 17 18 19]\n",
      " [20 21 22 23 24 25 26 27 28 29]\n",
      " [30 31 32 33 34 35 36 37 38 39]\n",
      " [40 41 42 43 44 45 46 47 48 49]\n",
      " [50 51 52 53 54 55 56 57 58 59]\n",
      " [60 61 62 63 64 65 66 67 68 69]\n",
      " [70 71 72 73 74 75 76 77 78 79]\n",
      " [80 81 82 83 84 85 86 87 88 89]\n",
      " [90 91 92 93 94 95 96 97 98 99]]\n"
     ]
    }
   ],
   "source": [
    "n4=np.arange(100).reshape(-1,10)\n",
    "print(n4)"
   ]
  },
  {
   "cell_type": "markdown",
   "id": "485ff09a-4f2b-484d-9f25-76615a6087b3",
   "metadata": {},
   "source": [
    "# Condition Based Selection "
   ]
  },
  {
   "cell_type": "code",
   "execution_count": 154,
   "id": "19663c6c-f1b2-435e-abf8-23079b2d7d6b",
   "metadata": {},
   "outputs": [
    {
     "data": {
      "text/plain": [
       "array([90, 91, 92, 93, 94, 95, 96, 97, 98, 99])"
      ]
     },
     "execution_count": 154,
     "metadata": {},
     "output_type": "execute_result"
    }
   ],
   "source": [
    "n4[n4>=90]"
   ]
  },
  {
   "cell_type": "markdown",
   "id": "648e384c-01ef-4288-a44d-7f9225545b50",
   "metadata": {},
   "source": [
    "# Array Properties "
   ]
  },
  {
   "cell_type": "code",
   "execution_count": 161,
   "id": "2a7b3dc3-1ebc-4397-898f-ddbdf6e5475b",
   "metadata": {},
   "outputs": [
    {
     "name": "stdout",
     "output_type": "stream",
     "text": [
      "(3, 4)\n",
      "[[ 0  1  2  3]\n",
      " [ 4  5  6  7]\n",
      " [ 8  9 10 11]]\n"
     ]
    }
   ],
   "source": [
    "n5=np.arange(12).reshape(3,4)\n",
    "print(n5.shape)\n",
    "print(n5)"
   ]
  },
  {
   "cell_type": "markdown",
   "id": "7f41580c-83f9-4c8d-9d98-977b09a87cd9",
   "metadata": {},
   "source": [
    "# Putting It All Together "
   ]
  },
  {
   "cell_type": "code",
   "execution_count": 166,
   "id": "f8fcd7cd-db68-4176-bdba-8789a22c7a62",
   "metadata": {},
   "outputs": [],
   "source": [
    "import numpy as np"
   ]
  },
  {
   "cell_type": "code",
   "execution_count": 168,
   "id": "8076fd67-e2f1-4730-95c4-956415fc0778",
   "metadata": {},
   "outputs": [],
   "source": [
    "#setting the seed for reproduciblity"
   ]
  },
  {
   "cell_type": "code",
   "execution_count": 170,
   "id": "8178547e-15de-448e-ae07-70359d9914ae",
   "metadata": {},
   "outputs": [
    {
     "name": "stdout",
     "output_type": "stream",
     "text": [
      "None\n"
     ]
    }
   ],
   "source": [
    "n=np.random.seed(23)\n",
    "print(n)"
   ]
  },
  {
   "cell_type": "code",
   "execution_count": 172,
   "id": "f4d4fce4-9a53-4ce3-81fa-a09532ff2e92",
   "metadata": {},
   "outputs": [],
   "source": [
    "# generate random integers between 10 - 100 reshape into a 4*5"
   ]
  },
  {
   "cell_type": "code",
   "execution_count": 174,
   "id": "0512e5d5-0932-4dc4-a8f9-c2330b2196de",
   "metadata": {},
   "outputs": [
    {
     "name": "stdout",
     "output_type": "stream",
     "text": [
      "[[93 50 83 64 41 86]\n",
      " [49 35 61 16 55 22]\n",
      " [59 76 85 95 79 74]\n",
      " [22 31 58 51 89 72]]\n"
     ]
    }
   ],
   "source": [
    "n1=np.random.randint(low=10,high=100,size=(4,6))\n",
    "print(n1)"
   ]
  },
  {
   "cell_type": "code",
   "execution_count": 176,
   "id": "33edc745-da10-444b-a0dd-f5f02272b2e6",
   "metadata": {},
   "outputs": [],
   "source": [
    "#checking the shape of the array"
   ]
  },
  {
   "cell_type": "code",
   "execution_count": 178,
   "id": "9b3a66e3-420d-4f34-bb44-586503e10316",
   "metadata": {},
   "outputs": [
    {
     "name": "stdout",
     "output_type": "stream",
     "text": [
      "shape of n1: (4, 6)\n"
     ]
    }
   ],
   "source": [
    "print(\"shape of n1:\",n1.shape)"
   ]
  },
  {
   "cell_type": "code",
   "execution_count": 180,
   "id": "ed54c4c5-57eb-4a70-a212-8c5a1a729076",
   "metadata": {},
   "outputs": [],
   "source": [
    "#generating another array with different shape"
   ]
  },
  {
   "cell_type": "code",
   "execution_count": 182,
   "id": "41a44f8f-27c4-4e82-8b94-15084344f76f",
   "metadata": {},
   "outputs": [
    {
     "name": "stdout",
     "output_type": "stream",
     "text": [
      "[[ 0  1  2  3  4  5  6  7  8  9]\n",
      " [10 11 12 13 14 15 16 17 18 19]\n",
      " [20 21 22 23 24 25 26 27 28 29]\n",
      " [30 31 32 33 34 35 36 37 38 39]\n",
      " [40 41 42 43 44 45 46 47 48 49]\n",
      " [50 51 52 53 54 55 56 57 58 59]\n",
      " [60 61 62 63 64 65 66 67 68 69]\n",
      " [70 71 72 73 74 75 76 77 78 79]\n",
      " [80 81 82 83 84 85 86 87 88 89]\n",
      " [90 91 92 93 94 95 96 97 98 99]]\n"
     ]
    }
   ],
   "source": [
    "n5=np.arange(100).reshape(-1,10)\n",
    "print(n5)"
   ]
  },
  {
   "cell_type": "code",
   "execution_count": 184,
   "id": "87a2f4e2-60f2-4d27-b363-ae16f49ff69e",
   "metadata": {},
   "outputs": [],
   "source": [
    "#extracting elements greator than or equal to 90"
   ]
  },
  {
   "cell_type": "code",
   "execution_count": 188,
   "id": "6480906d-a0a3-4959-b963-b981a5344f9a",
   "metadata": {},
   "outputs": [
    {
     "name": "stdout",
     "output_type": "stream",
     "text": [
      "elements >=90: [90 91 92 93 94 95 96 97 98 99]\n"
     ]
    }
   ],
   "source": [
    "print(\"elements >=90:\",n5[n5>=90])"
   ]
  },
  {
   "cell_type": "markdown",
   "id": "28cfe346-e882-45a2-9015-d79215a8fcd3",
   "metadata": {},
   "source": [
    "### Key Funtions \n",
    "1) np.random.randint(): Generates random integers.\n",
    "2) np.random.seed(): Sets the random seed for reproducibility.\n",
    "3) reshape(): Reshapes arrays into specified dimensions.\n",
    "4) np.arange(): Generates a sequence of numbers.\n",
    "5) boolean indexing: Allows selection of elements that meet a certain condition."
   ]
  },
  {
   "cell_type": "code",
   "execution_count": null,
   "id": "f835f576-24a3-4021-bee2-ab519f0a2f61",
   "metadata": {},
   "outputs": [],
   "source": []
  }
 ],
 "metadata": {
  "kernelspec": {
   "display_name": "Python 3 (ipykernel)",
   "language": "python",
   "name": "python3"
  },
  "language_info": {
   "codemirror_mode": {
    "name": "ipython",
    "version": 3
   },
   "file_extension": ".py",
   "mimetype": "text/x-python",
   "name": "python",
   "nbconvert_exporter": "python",
   "pygments_lexer": "ipython3",
   "version": "3.12.4"
  }
 },
 "nbformat": 4,
 "nbformat_minor": 5
}
